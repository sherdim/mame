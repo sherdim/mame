{
 "cells": [
  {
   "cell_type": "markdown",
   "metadata": {
    "slideshow": {
     "slide_type": "slide"
    }
   },
   "source": [
    "# Структурные модели"
   ]
  },
  {
   "cell_type": "markdown",
   "metadata": {
    "slideshow": {
     "slide_type": "slide"
    }
   },
   "source": [
    "В живых системах есть разного рода упорядоченность. \n",
    "\n",
    "1. Как она создается против энтропии? С затратами энергии - биофизические модели обмена веществ\n",
    "2. Зачем? \"Случайно\" в ходе эволюции.\n",
    "3. Какую роль играет? Оптимальна ли? Как изменить? => структурная модель!"
   ]
  },
  {
   "cell_type": "markdown",
   "metadata": {
    "slideshow": {
     "slide_type": "slide"
    }
   },
   "source": [
    "## Определения\n",
    "\n",
    "*Структурная модель* - воспроизводит взаимные связи между объектами."
   ]
  },
  {
   "cell_type": "markdown",
   "metadata": {
    "slideshow": {
     "slide_type": "slide"
    }
   },
   "source": [
    "*Структура* - совокупность устойчивых связей объекта, обеспечивающих его целостность.\n",
    "\n",
    "<cite>Философский энциклопедический словарь. 2010.</cite>"
   ]
  },
  {
   "cell_type": "markdown",
   "metadata": {
    "slideshow": {
     "slide_type": "fragment"
    }
   },
   "source": [
    "В зависимости от глубины пересекается с :\n",
    "- *Описание системы* - отражает связи между объектами.\n",
    "- *Концептуальная модель* - стрелочки = связи между объектами."
   ]
  },
  {
   "cell_type": "markdown",
   "metadata": {
    "slideshow": {
     "slide_type": "slide"
    }
   },
   "source": [
    "## Биомеханические модели\n",
    "\n",
    "- кости, eg. какая нагрузка на берцовую кость бронтозавра?\n",
    "- стенки сосудов, eg. при какой толщине стенки лопнет аневризма при давлении 150/100?\n",
    "- клеточные стенки бактерий\n",
    "- плавательный пузырь рыб, eg. глубоководных\n",
    "\n",
    "<b class=tag>сопромат</b>\n",
    "<b class=tag>механика</b>"
   ]
  },
  {
   "cell_type": "markdown",
   "metadata": {
    "slideshow": {
     "slide_type": "slide"
    }
   },
   "source": [
    "\n",
    "![](http://journals.plos.org/ploscompbiol/article/figure/image?size=large&id=10.1371/journal.pcbi.1005296.g002)\n",
    "\n",
    " Subgraphs modelled by each approximation scheme.\n",
    "\n",
    "k denotes the (uniform) node degree and m or n indexing the size of the subgraph expansions for motif and neighbourhood schemes, respectively. Nodes within the subgraphs are shown and joined with solid lines; connections to other nodes (and hence where approximations are needed) are shown with dashed lines. The dimension of the associated ODEs for approximating the SIS dynamics is also given, accounting for symmetry and conservation. For degree k = 2 the dimension of the system can be calculated for a general m by considering the number of possible states with symmetries dim = 2m−1 + 2M−1 − 1 where M = ⌊(m + 1)/2⌋. Note, in this case,the a natural relationship between the motif and neighbourhood models when m = 2n − 1.\n",
    "\n",
    "http://dx.doi.org/10.1371/journal.pcbi.1005296.g002"
   ]
  },
  {
   "cell_type": "markdown",
   "metadata": {
    "slideshow": {
     "slide_type": "notes"
    }
   },
   "source": [
    "Структуры - цепи - это все виды макромолекул: белки, РНК, ДНК.\n",
    "\n",
    "Ими занимается специальная наука - биоинформатика. Раздел математики!"
   ]
  },
  {
   "cell_type": "markdown",
   "metadata": {
    "slideshow": {
     "slide_type": "slide"
    }
   },
   "source": [
    "#### The Multilayer Connectome of Caenorhabditis elegans\n",
    "\n",
    "![](https://journals.plos.org/ploscompbiol/article/figure/image?size=large&id=10.1371/journal.pcbi.1005283.g002)\n",
    "\n",
    "http://journals.plos.org/ploscompbiol/article?id=10.1371/journal.pcbi.1005283"
   ]
  },
  {
   "cell_type": "markdown",
   "metadata": {
    "slideshow": {
     "slide_type": "slide"
    }
   },
   "source": [
    "#### Haplotype network of the mitochondrial control region.\n",
    "\n",
    "![](https://www.ncbi.nlm.nih.gov/pmc/articles/PMC3765259/bin/pone.0074088.g003.jpg)\n",
    "\n",
    "\n",
    "\n",
    "Different species are represented by different colors. H. (Y.) pyrrhocephalus and H. (Y.) laparogramma are pelagic. L. rufus lives in the vegetation zone and the remainig species live in rocky shores. The size of the the circle shows the number of the samples having the haplotype.\n",
    "\n",
    "https://www.ncbi.nlm.nih.gov/pubmed/24040175"
   ]
  },
  {
   "cell_type": "markdown",
   "metadata": {
    "collapsed": true,
    "slideshow": {
     "slide_type": "slide"
    }
   },
   "source": [
    "## Прием: редукция структурной модели до линейной\n",
    "\n",
    "![](1-s2.0-S000169181630381X-gr1.jpg)\n",
    "\n",
    "Schematic illustration of the time required to assess in-memory items along set sizes in terms of slot and resource models. Boxes in a row represent participants' in-memory states for quantity and quality of the six memory items. Each model expects a contrasting pattern for the time required to assess in-memory items.\n",
    "\n",
    "[Park H. B., Zhang W., Hyun J. S. Dissociating models of visual working memory by reaction-time distribution analysis //Acta Psychologica. – 2017. – Т. 173. – С. 21-31.](https://www.sciencedirect.com/science/article/pii/S000169181630381X)"
   ]
  },
  {
   "cell_type": "markdown",
   "metadata": {
    "collapsed": true,
    "slideshow": {
     "slide_type": "slide"
    }
   },
   "source": [
    "## Прием: редукция структурной модели до линейной\n",
    "\n",
    "Выбирают несколько точек на шкале для экспериментальной проверки.\n",
    "\n",
    "![](1-s2.0-S000169181630381X-gr3.jpg)\n",
    "\n",
    "Mean accuracies and RTs as a function of set size from Experiment 1. Error bars here and in all subsequent figures represent the standard error of mean (SEM).\n",
    "\n",
    "[Park H. B., Zhang W., Hyun J. S. Dissociating models of visual working memory by reaction-time distribution analysis //Acta Psychologica. – 2017. – Т. 173. – С. 21-31.](https://www.sciencedirect.com/science/article/pii/S000169181630381X)"
   ]
  },
  {
   "cell_type": "markdown",
   "metadata": {
    "collapsed": true,
    "slideshow": {
     "slide_type": "slide"
    }
   },
   "source": [
    "## Прием: редукция структурной модели до линейной\n",
    "\n",
    "Подбирают параметры для описания экспериментальных данных в этих группах. В данном случае производили подгонку функции распределения плотности вероятности.\n",
    "\n",
    "![](1-s2.0-S000169181630381X-gr4.jpg)\n",
    "\n",
    "(A) Response histograms and probability density functions of ex-Gaussian model for each set size condition from Experiment 1. Set sizes are represented by lightness of the solid line (set size in legend) from set size 2 (lighter grey) to set size 4, 6 and 8 (darker). Circles represent raw data points with bins of 0.5 SD (Raw_SS in legend). (B) Averaged ex-Gaussian parameter values (μ, σ and τ) and as a function of set size.\n",
    "\n",
    "[Park H. B., Zhang W., Hyun J. S. Dissociating models of visual working memory by reaction-time distribution analysis //Acta Psychologica. – 2017. – Т. 173. – С. 21-31.](https://www.sciencedirect.com/science/article/pii/S000169181630381X)"
   ]
  },
  {
   "cell_type": "markdown",
   "metadata": {
    "collapsed": true,
    "slideshow": {
     "slide_type": "slide"
    }
   },
   "source": [
    "## Прием: редукция структурной модели до линейной\n",
    "\n",
    "На параметре $\\mu$ буквально сравнивают две модели - с выходом на плато и без.\n",
    "\n",
    "![](1-s2.0-S000169181630381X-gr5.jpg)\n",
    "\n",
    "Bilinear and logarithmic fits for ex-Gaussian parameter (A) μ-by-set size function and (B) σ-by-set size function. The correlations between individual capacity limits and inflection point of (C) μ and (D) σ in Experiment 1.\n",
    "\n",
    "[Park H. B., Zhang W., Hyun J. S. Dissociating models of visual working memory by reaction-time distribution analysis //Acta Psychologica. – 2017. – Т. 173. – С. 21-31.](https://www.sciencedirect.com/science/article/pii/S000169181630381X)"
   ]
  },
  {
   "cell_type": "markdown",
   "metadata": {
    "collapsed": true,
    "slideshow": {
     "slide_type": "slide"
    }
   },
   "source": [
    "## Прием: редукция структурной модели до линейной\n",
    "\n",
    "++:\n",
    "- возможность экспериментальной проверки (отчасти)\n",
    "\n",
    "--:\n",
    "- упрощение\n",
    "- ограниченная возможность обобщения (обходится повторами в разных условиях)"
   ]
  },
  {
   "cell_type": "markdown",
   "metadata": {
    "slideshow": {
     "slide_type": "slide"
    }
   },
   "source": [
    "## Визуализации\n",
    "\n"
   ]
  },
  {
   "cell_type": "markdown",
   "metadata": {
    "slideshow": {
     "slide_type": "slide"
    }
   },
   "source": [
    "### Нейронные сети (NN)\n",
    "\n",
    "Искусственная упрощенная метафора\n",
    "\n",
    "Входы на слой интегрируются из выходов предыдущего слоя с весовыми коэффициентами.\n",
    "В отличие от матричного произведения вводится пороговая функция - напр., логистическая. Тем самым состояние \"нейрона\" склоняется к \"ВКЛ\" или \"ВЫКЛ\".\n",
    "\n",
    "Слоев от 3 и более.\n",
    "\n",
    "![](neural-network.png)"
   ]
  },
  {
   "cell_type": "markdown",
   "metadata": {
    "slideshow": {
     "slide_type": "slide"
    }
   },
   "source": [
    "## Автоматическое обнаружение структуры\n",
    "\n",
    "Самоорганизующиеся карты, Self-Organising Map (SOM)\n",
    "СОК были предложены и получили широкое распространение в 1980-х годах, предложены финским профессором Теуво Кохонен (Teuvo Kohonen). Неудивительно, что подход также называют картами Кохонена."
   ]
  },
  {
   "cell_type": "markdown",
   "metadata": {
    "slideshow": {
     "slide_type": "slide"
    }
   },
   "source": [
    "SOM отличаются от «стандартных» ANN: \n",
    "- SOM - это не ряд слоев, а, как правило, один двухмерный слой нейронов. \n",
    "- не учатся путем исправления ошибок, а реализуют конкурентное обучение. \n",
    "- могут решать задачи без предварительного обучения (unsupervised ML) "
   ]
  },
  {
   "cell_type": "markdown",
   "metadata": {
    "slideshow": {
     "slide_type": "slide"
    }
   },
   "source": [
    "**Конкурентное обучение (Competitive learning)** - когда вход «представлен» в сеть, активируется только один из нейронов в сетке. В некотором роде нейроны на сетке «конкурируют» за каждый вход.\n",
    "\n",
    "Похожие входы активируют одни и те же, или близкорасположенные нейроны. \n",
    "Поэтому говорят, что SOM «сохраняют топологию» исходных данных, потому что расстояния в 2D-пространстве отражают расстояния в высокоразмерном пространстве.\n",
    "\n",
    "Можно сгруппировать похожие входы, введя метрику сходства - расстояние между активированными нейронами.\n",
    "Происходит редукция размерности до 2D, что удобно для визуализации (отсюда \"карта\")."
   ]
  },
  {
   "cell_type": "markdown",
   "metadata": {
    "slideshow": {
     "slide_type": "slide"
    }
   },
   "source": [
    "### +++:\n",
    "\n",
    "[scikit-bio](http://scikit-bio.org/) - open-source пакет на python для биоинформатики\n",
    "\n",
    "[Phylogenomic Tools](http://etetoolkit.org/#tools) - инструментарий для построения филогенетических деревьев\n",
    "\n",
    "[An Introduction to Applied Bioinformatics](http://readiab.org/) - книга с примерами про биоинформатику"
   ]
  }
 ],
 "metadata": {
  "celltoolbar": "Slideshow",
  "kernelspec": {
   "display_name": "Python 2",
   "language": "python",
   "name": "python2"
  },
  "language_info": {
   "codemirror_mode": {
    "name": "ipython",
    "version": 2
   },
   "file_extension": ".py",
   "mimetype": "text/x-python",
   "name": "python",
   "nbconvert_exporter": "python",
   "pygments_lexer": "ipython2",
   "version": "2.7.14"
  },
  "toc": {
   "base_numbering": 1,
   "nav_menu": {
    "height": "196px",
    "width": "252px"
   },
   "number_sections": false,
   "sideBar": true,
   "skip_h1_title": false,
   "title_cell": "Table of Contents",
   "title_sidebar": "Contents",
   "toc_cell": false,
   "toc_position": {},
   "toc_section_display": "block",
   "toc_window_display": false
  }
 },
 "nbformat": 4,
 "nbformat_minor": 2
}
