{
 "cells": [
  {
   "cell_type": "markdown",
   "metadata": {},
   "source": [
    "The mechanism of sex determination varies substantively among evolutionary lineages. One important mode of genetic sex determination is haplodiploidy, which is used by ∼20% of all animal species, including >200,000 species of the entire insect order Hymenoptera. In the honey bee Apis mellifera, a hymenopteran model organism, females are heterozygous at the csd (complementary sex determination) locus, whereas males are hemizygous (from unfertilized eggs). Fertilized homozygotes develop into sterile males that are eaten before maturity. Because homozygotes have zero fitness and because common alleles are more likely than rare ones to form homozygotes, csd should be subject to strong overdominant selection and negative frequency-dependent selection. Under these selective forces, together known as balancing selection, csd is expected to exhibit a high degree of intraspecific polymorphism, with long-lived alleles that may be even older than the species. Here we sequence the csd genes as well as randomly selected neutral genomic regions from individuals of three closely related species, A. mellifera, Apis cerana, and Apis dorsata. The polymorphic level is approximately seven times higher in csd than in the neutral regions. Gene genealogies reveal trans-species polymorphisms at csd but not at any neutral regions. Consistent with the prediction of rare-allele advantage, nonsynonymous mutations are found to be positively selected in csd only in early stages after their appearances. Surprisingly, three different hypervariable repetitive regions in csd are present in the three species, suggesting variable mechanisms underlying allelic specificities. Our results provide a definitive demonstration of balancing selection acting at the honey bee csd gene, offer insights into the molecular determinants of csd allelic specificities, and help avoid homozygosity in bee breeding. \n",
    "\n",
    "```\n",
    "Supplementary Figure S1. Conservation of RS and P-rich domains in csd alleles of the three species.  MW12 is A. mellifera type 1, MW2B is A. mellifera type 2, DW36 is A. cerana type 1, DW19B is A. cerana type 2, FW5A is A. dorsata. Asterisk marks indicate the conserved residues, and “-” indicates alignment gaps. Lysine (R) and serine (S) residues in the RS domains are labeled red, and Proline (P) residues in the P-rich domain are labeled blue. Hyper-variable regions are boxed with green line.\n",
    "\n",
    "MW12  ERSCSRDRNR EYRKKDRQYE KLH--NEKEK FLEERTSRKR YSRSREREQK LYKNKREYRK YR---ETS-- -KERSRNRTE\n",
    "MW2B  ERSCSRDRSR EYKKKDRRYD QLH--NVEEK HLRERTSRRR YSRSREREQK SYKNEREYRE YR---ETS-- -RERSRDRRE\n",
    "DW36B ERSCSRDRNK EYKKKDRQYE KLRRDNQKEK LSQEKTSHKR YSRSREREQK SYKNENSYRE YR---ETS-- -RERSRNRKE\n",
    "DW19B GRSCSRDRNK EYKKKSKQYE KLRTD-KKEK LSQDKTSRKR YSRSREREKK SYKNENSYRE YRKRRERSRN RRERSRNRRE\n",
    "FW5A  ERS--RDRNR EYKKKDRQYE KLY--NEKEK LLQEKTSRKR YSRSREREQK SHKNENSYRE YR---ETS-- -RERSRDRRE\n",
    "       **  ***   ** **   *   *      **       *  * ******** *   **   **  **   * *     **** * *\n",
    "\n",
    "MW12  R--------- ---ERSKEPK -IISNNNSLS NN-------- -------YNY NNNYNNYNKH NYN-KLYY-N INYIEQIPIP\n",
    "MW2B  R--------- ---GRSREHR -IIPS----- ---------- ---------- ---------- ---------- -HYIEQIP--\n",
    "DW36B R--------- ---ERSRERK -I-SS---LS NN-------- -------YNY NNNYNNYN-N NYNKKLYYCN INYIEQIP--\n",
    "DW19B KSRNRRERSR NRRERSRER- --------LS NN-------- ---------- ---YN-YRIS -YNKNLFY-N INYIQQFP--\n",
    "FW5A  R--------- ---ERSRERR SI-SS---LS NNYNCNYNNN NYNKHEHYNK HEHYNHYNKH -YNKHLYY-N INYIEQIP--\n",
    "                     **                                                              ** * *  \n",
    "\n",
    "MW12  VPVYCGNFPP RP-MG-PWIS MQEQIPRFRY IGPSTPFPR- FIPPNAYRFR PPLNPRFGPT HQ\n",
    "MW2B  VPVYYGNFPP RPIMVRPWVP MRGQVPGSRH IGPLTPFPPR FIPPDMYRLR PPPNPRFGPM Y-\n",
    "DW36B VPVYYGNFPP NPIMVRPWVP MQEQIPRFRY IGPLTSFPPR FIPPNTYR-R PPLNPRFRPM Y-\n",
    "DW19B IPIYYGNLPP RPI-VRPWVP MRGQVPGYRH IGP--SFPPQ FITRN--RNP PP-NPRFRPM Y-\n",
    "FW5A  VPVYYRNFPS EPIMVRPWVS MQKQVARFRY IGPLT--PSR FIPPNMYRPH PPLNPRFGPM --\n",
    "       * *  * *   *    **   *  *    *  ***    *   **     *   ** **** *    \n",
    "```\n",
    "\n"
   ]
  },
  {
   "cell_type": "markdown",
   "metadata": {},
   "source": [
    "http://genome.cshlp.org/content/16/11/1366.abstract\n",
    "\n",
    "Supplementary Research Data(https://genome.cshlp.org/content/16/11/1366/suppl/DC1)"
   ]
  },
  {
   "cell_type": "markdown",
   "metadata": {},
   "source": [
    "Kimura distance"
   ]
  },
  {
   "cell_type": "code",
   "execution_count": null,
   "metadata": {},
   "outputs": [],
   "source": []
  }
 ],
 "metadata": {
  "kernelspec": {
   "display_name": "Python 2",
   "language": "python",
   "name": "python2"
  },
  "language_info": {
   "codemirror_mode": {
    "name": "ipython",
    "version": 2
   },
   "file_extension": ".py",
   "mimetype": "text/x-python",
   "name": "python",
   "nbconvert_exporter": "python",
   "pygments_lexer": "ipython2",
   "version": "2.7.14"
  },
  "toc": {
   "base_numbering": 1,
   "nav_menu": {
    "height": "12px",
    "width": "252px"
   },
   "number_sections": false,
   "sideBar": true,
   "skip_h1_title": false,
   "title_cell": "Table of Contents",
   "title_sidebar": "Contents",
   "toc_cell": false,
   "toc_position": {},
   "toc_section_display": "block",
   "toc_window_display": false
  }
 },
 "nbformat": 4,
 "nbformat_minor": 2
}
