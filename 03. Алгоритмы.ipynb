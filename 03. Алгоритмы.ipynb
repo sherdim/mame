{
 "cells": [
  {
   "cell_type": "code",
   "execution_count": 1,
   "metadata": {
    "slideshow": {
     "slide_type": "skip"
    }
   },
   "outputs": [
    {
     "name": "stdout",
     "output_type": "stream",
     "text": [
      "Populating the interactive namespace from numpy and matplotlib\n"
     ]
    }
   ],
   "source": [
    "%pylab inline\n",
    "import seaborn as sns"
   ]
  },
  {
   "cell_type": "markdown",
   "metadata": {
    "slideshow": {
     "slide_type": "slide"
    }
   },
   "source": [
    "# Алгоритмы"
   ]
  },
  {
   "cell_type": "markdown",
   "metadata": {
    "slideshow": {
     "slide_type": "slide"
    }
   },
   "source": [
    "## План лекции\n",
    "1. Алгоритм как совокупность операций\n",
    "1. Массивы\n",
    "1. Случайные числа"
   ]
  },
  {
   "cell_type": "markdown",
   "metadata": {
    "slideshow": {
     "slide_type": "slide"
    }
   },
   "source": [
    "## Итеративный алгоритм\n",
    "\n",
    "- операция повторяется многократно\n",
    "- условие прекращения \n",
    "\n",
    "Вложенные итерации увеличивают число операций кратно."
   ]
  },
  {
   "cell_type": "markdown",
   "metadata": {
    "slideshow": {
     "slide_type": "slide"
    }
   },
   "source": [
    "## Жадный алгоритм\n",
    "\n",
    "перебор всех вариантов по очереди от начала до конца.\n",
    "\n",
    "<b class=tag>Greedy algorythm</b>"
   ]
  },
  {
   "cell_type": "markdown",
   "metadata": {
    "slideshow": {
     "slide_type": "slide"
    }
   },
   "source": [
    "### Условия начала и конца\n",
    "\n",
    "Вариант - очередь в реальном времени:\n",
    "- заканчиваются данные, но потом снова появляются.\n"
   ]
  },
  {
   "cell_type": "markdown",
   "metadata": {
    "slideshow": {
     "slide_type": "fragment"
    }
   },
   "source": [
    "Потоки данных: входящий и выходящий\n",
    "вход и выход\n",
    "труба к трубе (pipeline)\n",
    "\n",
    "<b class=tag>конвеер</b>"
   ]
  },
  {
   "cell_type": "markdown",
   "metadata": {
    "slideshow": {
     "slide_type": "slide"
    }
   },
   "source": [
    "## FIFO, LIFO\n",
    "\n",
    "![](fifolifo.png)\n",
    "\n",
    "труба, стопка"
   ]
  },
  {
   "cell_type": "markdown",
   "metadata": {
    "slideshow": {
     "slide_type": "slide"
    }
   },
   "source": [
    "### Конечный массив\n",
    "\n",
    "есть начало, конец, размер."
   ]
  },
  {
   "cell_type": "markdown",
   "metadata": {
    "slideshow": {
     "slide_type": "slide"
    }
   },
   "source": [
    "### Виды массивов в Python\n",
    "- list\n",
    "- numpy.array\n",
    "- pandas.DataFrame, pandas.Series"
   ]
  },
  {
   "cell_type": "markdown",
   "metadata": {
    "slideshow": {
     "slide_type": "notes"
    }
   },
   "source": [
    "список - последовательность любых объектов, к которым можно обращаться перебором по-одному.\n",
    "\n",
    "массив - N-мерный с однотипными объектами\n",
    "\n",
    "табличка с данными: по строкам - отдельные наблюдения, по колонкам - характеристики.\n",
    "\n"
   ]
  },
  {
   "cell_type": "markdown",
   "metadata": {
    "slideshow": {
     "slide_type": "slide"
    }
   },
   "source": [
    "### Линейная алгебра (ЛА)\n",
    "\n",
    "*Матрица* $A_{m,n}$ - набор чисел в ячейках размером $m$ на $n$\n",
    "\n",
    "Если $m==1$ или $n==1$, то такая матрица называется *вектор*.\n",
    "\n",
    "Если $m==1$ **и** $n==1$, то такая матрица называется *скаляр* (скалярная величина, обычное единичное число).\n",
    "\n",
    "Специальная операция - cкалярное произведение (перемножение матриц, dot-product)"
   ]
  },
  {
   "cell_type": "markdown",
   "metadata": {
    "slideshow": {
     "slide_type": "slide"
    }
   },
   "source": [
    "Причины, почему этот раздел включен в курс для биологов:\n",
    "- использование эффективных библиотек для матричных вычислений\n",
    "- понимание обсуждения алгоритмов в среде математиков;\n",
    "- расширение кругозора"
   ]
  },
  {
   "cell_type": "markdown",
   "metadata": {
    "slideshow": {
     "slide_type": "slide"
    }
   },
   "source": [
    "## Математические условности\n",
    "\n",
    "Переменные (вектора):  $x, y, z$ или $a, b, c, d$ или  $v,u$\n",
    "\n",
    "Переменные (Матрицы):  $A,B$ или $U,V$ или $M$ или $X, Y, Z$ \n",
    "\n",
    "Размеры:  $n$, если две - $n,m$\n",
    "\n",
    "Порядковые номера:  $i, j, k$  -  i-th, k-th [итый, житый, катый]\n",
    "\n",
    "Углы: $\\theta, \\varphi, \\alpha, \\beta$"
   ]
  },
  {
   "cell_type": "markdown",
   "metadata": {
    "slideshow": {
     "slide_type": "subslide"
    }
   },
   "source": [
    "Маленькая-маленькая пороговая величина: $\\varepsilon$ (эпсилон)\n",
    "\n",
    "Коэффицинты:  $k, а$, например, $k_i a_{ij}$\n",
    "\n",
    "Функции:  $f, \\gamma$\n",
    "\n",
    "Моменты распределения:  $\\mu, \\sigma, ...$\n",
    "\n",
    "$\\Game \\Box   \\varPhi \\varPsi  \n",
    "\\varpi\n",
    "\\varPi \\varXi $\n",
    "$$ \\heartsuit  $$\n",
    "$\\Box \\maltese \\Box \\left(\\left(\\left( \\bigodot \\right)\\right)\\right) \\Box\\maltese\\Box$"
   ]
  },
  {
   "cell_type": "markdown",
   "metadata": {
    "slideshow": {
     "slide_type": "slide"
    }
   },
   "source": [
    "### Геометрическая интерпретация\n",
    "\n",
    "Вектор (строчка матрицы) - это координаты конца стрелочки (arrow head), если начало вектора (хвостик, tail) при этом в нулевой точке. Но, если сместить вектор в пространстве, не меняя направления, то это тот же вектор, значит числа отражают разницу между концом и началом вдоль осей координат.\n",
    "\n",
    "Размер вектора ( длина, расстояние между началом и концом) вычисляют по теореме Пифагора (для 2-мерного пространства L2-norm)\n",
    "\n",
    "$$ L = |X|_p = \\left(\\sum{x_i^p}\\right)^{1/p}, p=2$$"
   ]
  },
  {
   "cell_type": "code",
   "execution_count": null,
   "metadata": {
    "slideshow": {
     "slide_type": "slide"
    }
   },
   "outputs": [],
   "source": [
    "a=array([.5,4,5,6])\n",
    "norm(a,2), sqrt(3**2 + 4**2)"
   ]
  },
  {
   "cell_type": "markdown",
   "metadata": {
    "slideshow": {
     "slide_type": "slide"
    }
   },
   "source": [
    "Матрицы можно только умножать.\n",
    "Вместо деления - инверсия.\n",
    "\n",
    "$$\\frac{B}{A} = A^{-1}B $$\n",
    "\n",
    "```py\n",
    "dot(inv(A), B)\n",
    "```"
   ]
  },
  {
   "cell_type": "code",
   "execution_count": null,
   "metadata": {
    "slideshow": {
     "slide_type": "slide"
    }
   },
   "outputs": [],
   "source": [
    "inv(array([[10,0], [ 0, 4]]))"
   ]
  },
  {
   "cell_type": "markdown",
   "metadata": {
    "slideshow": {
     "slide_type": "slide"
    }
   },
   "source": [
    "Умножение на диагональную матрицу - растяжение (stretching, scaling)\n",
    "\n",
    "Умножение на ортонормальную (unitary) матрицу - вращение (rotating)\n",
    "\n",
    "SVD-разложение: $U, \\Sigma, V$ - вращение, растяжение, вращение\n",
    "\n",
    "- для обратного вращения - транспонированная матрица вращения $U^T$\n",
    "\n",
    "- для обратного растяжения - инвертированная матрица весов $\\Sigma^{-1}$"
   ]
  },
  {
   "cell_type": "markdown",
   "metadata": {
    "slideshow": {
     "slide_type": "slide"
    }
   },
   "source": [
    "$X$ - матрица размером $N$ x $K$: $N$ наблюдений и $K$ признаков (dimensions).\n",
    "\n",
    "$X$ может быть разложена на:\n",
    "\n",
    "$U\\Sigma V^T = \\frac {1} {\\sqrt{N-1}}X$, где $V^T$ и $U$ - матрицы вращения, а $\\Sigma$ - растяжения.\n",
    "\n",
    "$C_X = \\frac{1}{N-1}X^TX = R C_Y R^T = R \\Sigma^2 R$ (ковариционная матрица)\n",
    "\n",
    "$M_X = \\frac{1}{N-1}XX^T = U \\Sigma^2 U^T$ (корреляционная матрица)\n",
    "\n",
    "где R - сингулярные векторы (eigenvectors, principal components), диагональные значения $C_Y$ определяют количество вариации, содержащейся в каждом компоненте."
   ]
  },
  {
   "cell_type": "markdown",
   "metadata": {
    "slideshow": {
     "slide_type": "slide"
    }
   },
   "source": [
    "$R=V=\\frac{1}{\\sqrt{N-1}} X^T U \\Sigma^{-1}$\n",
    "\n",
    "<img src='PCA_steps.png' width=600>"
   ]
  },
  {
   "cell_type": "markdown",
   "metadata": {
    "slideshow": {
     "slide_type": "slide"
    }
   },
   "source": [
    "**3 способа выделения главных компонент (PCA)**\n",
    "\n",
    "- SVD исходной матрицы $X$\n",
    "- сингулярное разложение (eigenvalue decomposition) ковариционной матрицы $C_X$\n",
    "- сингулярное разложение корреляционной матрицы $M_X$"
   ]
  },
  {
   "cell_type": "markdown",
   "metadata": {
    "slideshow": {
     "slide_type": "slide"
    }
   },
   "source": [
    "### Косинусное расстояние\n",
    "\n",
    "Между  двумя  векторами  образуется  угол  и \n",
    "значение  косинуса  этого  угла  –  это \n",
    "нормализованное  скалярное  произведение: \n",
    "\n",
    "$$cos(\\theta)=\\frac{a*b}{||a|| ||b||}=\\frac{\\sum_{i=1}^n a_i * b_i}{\\sqrt{\\sum_{i=1}^n a_i^2} * \\sqrt{\\sum_{i=1}^n a_i^2}} $$\n",
    "\n",
    "<!--![](cos_formula.png)-->\n",
    "\n",
    "правую часть можно реализовать через циклы,\n",
    "левую - через векторные операции."
   ]
  },
  {
   "cell_type": "markdown",
   "metadata": {
    "slideshow": {
     "slide_type": "subslide"
    }
   },
   "source": [
    "<img src=cosine.png width=90%>"
   ]
  },
  {
   "cell_type": "code",
   "execution_count": 2,
   "metadata": {
    "slideshow": {
     "slide_type": "slide"
    }
   },
   "outputs": [
    {
     "data": {
      "text/plain": [
       "2"
      ]
     },
     "execution_count": 2,
     "metadata": {},
     "output_type": "execute_result"
    }
   ],
   "source": [
    "a1 = array([0,0,1,1,1]);\n",
    "a2 = array([1,0,0,1,1]);\n",
    "dot(a1,a2)"
   ]
  },
  {
   "cell_type": "markdown",
   "metadata": {
    "slideshow": {
     "slide_type": "slide"
    }
   },
   "source": [
    "Согласование размерностей\n",
    "\n",
    "![](numpy_broadcasting.png)"
   ]
  },
  {
   "cell_type": "markdown",
   "metadata": {
    "slideshow": {
     "slide_type": "subslide"
    }
   },
   "source": [
    "Согласование размерностей\n",
    "\n",
    "<img src=\"http://www.astroml.org/_images/fig_broadcast_visual_1.png\">\n",
    "\n",
    "([image source](http://www.astroml.org/book_figures/appendix/fig_broadcast_visual.html))\n",
    "\n",
    "**Broadcasting rules:**\n",
    "\n",
    "1. If the two arrays differ in their number of dimensions, the shape of the array with fewer dimensions is *padded* with ones on its leading (left) side.\n",
    "\n",
    "2. If the shape of the two arrays does not match in any dimension, the array with shape equal to 1 in that dimension is *stretched* to match the other shape.\n",
    "\n",
    "3. If in any dimension the sizes disagree and neither is equal to 1, an error is raised."
   ]
  },
  {
   "cell_type": "markdown",
   "metadata": {
    "slideshow": {
     "slide_type": "slide"
    }
   },
   "source": [
    "### Интервалы\n",
    "\n",
    "- открытые\n",
    "- закрытые\n",
    "- полуоткрытые\n",
    "\n",
    "полуоткрытые используются при индексации массивов в Python"
   ]
  },
  {
   "cell_type": "markdown",
   "metadata": {
    "slideshow": {
     "slide_type": "slide"
    }
   },
   "source": [
    "### Индексация массивов полуоткрытая\n",
    "\n",
    "- по-умолчанию от 0\n",
    "- разность конца и начала = размеру подмассива\n",
    "- логичное определение пустых интервалов `v[0:0]`\n"
   ]
  },
  {
   "cell_type": "markdown",
   "metadata": {
    "slideshow": {
     "slide_type": "slide"
    }
   },
   "source": [
    "### Визуализация матриц - изображение\n",
    "\n",
    "Двоичные операции с массивами (bitwise)"
   ]
  },
  {
   "cell_type": "code",
   "execution_count": 15,
   "metadata": {},
   "outputs": [
    {
     "data": {
      "image/png": "[encoded data removed]",
      "text/plain": [
       "<Figure size 432x288 with 1 Axes>"
      ]
     },
     "metadata": {},
     "output_type": "display_data"
    }
   ],
   "source": [
    "x = np.arange(16).reshape((4, 4))\n",
    "pcolor((x < 12) & (x % 2 == 0), cmap='gray');"
   ]
  },
  {
   "cell_type": "markdown",
   "metadata": {
    "slideshow": {
     "slide_type": "slide"
    }
   },
   "source": [
    "### Индексирование по нескольким измерениям\n"
   ]
  },
  {
   "cell_type": "code",
   "execution_count": 16,
   "metadata": {},
   "outputs": [
    {
     "data": {
      "text/plain": [
       "array([1, 4])"
      ]
     },
     "execution_count": 16,
     "metadata": {},
     "output_type": "execute_result"
    }
   ],
   "source": [
    "x[(0, 1), (1, 0)]"
   ]
  },
  {
   "cell_type": "code",
   "execution_count": 17,
   "metadata": {
    "slideshow": {
     "slide_type": "subslide"
    }
   },
   "outputs": [
    {
     "data": {
      "text/plain": [
       "array([ 0,  5, 10, 15])"
      ]
     },
     "execution_count": 17,
     "metadata": {},
     "output_type": "execute_result"
    }
   ],
   "source": [
    "x[range(4), range(4)]"
   ]
  },
  {
   "cell_type": "code",
   "execution_count": 18,
   "metadata": {
    "slideshow": {
     "slide_type": "subslide"
    }
   },
   "outputs": [
    {
     "data": {
      "text/plain": [
       "array([ 0,  5, 10, 15])"
      ]
     },
     "execution_count": 18,
     "metadata": {},
     "output_type": "execute_result"
    }
   ],
   "source": [
    "x.diagonal()"
   ]
  },
  {
   "cell_type": "code",
   "execution_count": 21,
   "metadata": {
    "slideshow": {
     "slide_type": "subslide"
    }
   },
   "outputs": [
    {
     "data": {
      "text/plain": [
       "array([[100,   1,   2,   3],\n",
       "       [  4, 100,   6,   7],\n",
       "       [  8,   9, 100,  11],\n",
       "       [ 12,  13,  14, 100]])"
      ]
     },
     "execution_count": 21,
     "metadata": {},
     "output_type": "execute_result"
    }
   ],
   "source": [
    "x[range(4), range(4)] = 100\n",
    "x"
   ]
  },
  {
   "cell_type": "code",
   "execution_count": 19,
   "metadata": {
    "slideshow": {
     "slide_type": "subslide"
    }
   },
   "outputs": [
    {
     "data": {
      "text/plain": [
       "array([[ 0,  1,  2],\n",
       "       [-2, -1,  0]])"
      ]
     },
     "execution_count": 19,
     "metadata": {},
     "output_type": "execute_result"
    }
   ],
   "source": [
    "i2=vstack([arange(3),arange(3)-2])\n",
    "i2"
   ]
  },
  {
   "cell_type": "code",
   "execution_count": 20,
   "metadata": {
    "slideshow": {
     "slide_type": "subslide"
    }
   },
   "outputs": [
    {
     "data": {
      "text/plain": [
       "array([[[ 0,  1,  2,  3],\n",
       "        [ 4,  5,  6,  7],\n",
       "        [ 8,  9, 10, 11]],\n",
       "\n",
       "       [[ 8,  9, 10, 11],\n",
       "        [12, 13, 14, 15],\n",
       "        [ 0,  1,  2,  3]]])"
      ]
     },
     "execution_count": 20,
     "metadata": {},
     "output_type": "execute_result"
    }
   ],
   "source": [
    "x[i2]"
   ]
  },
  {
   "cell_type": "markdown",
   "metadata": {
    "slideshow": {
     "slide_type": "slide"
    }
   },
   "source": [
    "### Генерация паттернов"
   ]
  },
  {
   "cell_type": "code",
   "execution_count": 3,
   "metadata": {},
   "outputs": [
    {
     "data": {
      "text/plain": [
       "array([[1, 0, 2, 0, 3, 0],\n",
       "       [0, 1, 0, 2, 0, 3]])"
      ]
     },
     "execution_count": 3,
     "metadata": {},
     "output_type": "execute_result"
    }
   ],
   "source": [
    "a=array([1,2,3])\n",
    "b=array([[1,0],[0,1]])\n",
    "kron(a,b)"
   ]
  },
  {
   "cell_type": "markdown",
   "metadata": {
    "slideshow": {
     "slide_type": "subslide"
    }
   },
   "source": [
    "pcolor(_); colorbar();"
   ]
  },
  {
   "cell_type": "code",
   "execution_count": 8,
   "metadata": {
    "slideshow": {
     "slide_type": "slide"
    }
   },
   "outputs": [
    {
     "data": {
      "image/png": "[encoded data removed]",
      "text/plain": [
       "<Figure size 432x288 with 1 Axes>"
      ]
     },
     "metadata": {},
     "output_type": "display_data"
    }
   ],
   "source": [
    "a=arange(8)\n",
    "b=eye(5)\n",
    "pcolor(kron(a,b), cmap='jet');"
   ]
  },
  {
   "cell_type": "code",
   "execution_count": 10,
   "metadata": {
    "slideshow": {
     "slide_type": "slide"
    }
   },
   "outputs": [
    {
     "data": {
      "image/png": "[encoded data removed]",
      "text/plain": [
       "<Figure size 432x288 with 1 Axes>"
      ]
     },
     "metadata": {},
     "output_type": "display_data"
    }
   ],
   "source": [
    "pcolor(kron(b,a), cmap='jet');"
   ]
  },
  {
   "cell_type": "markdown",
   "metadata": {
    "slideshow": {
     "slide_type": "slide"
    }
   },
   "source": [
    "### Случайное перемешивание"
   ]
  },
  {
   "cell_type": "code",
   "execution_count": 11,
   "metadata": {},
   "outputs": [
    {
     "data": {
      "text/plain": [
       "array([0, 2, 8, 1, 5, 4, 9, 6, 3, 7])"
      ]
     },
     "execution_count": 11,
     "metadata": {},
     "output_type": "execute_result"
    }
   ],
   "source": [
    "i = np.arange(10)\n",
    "np.random.shuffle(i)\n",
    "i"
   ]
  },
  {
   "cell_type": "markdown",
   "metadata": {
    "slideshow": {
     "slide_type": "slide"
    }
   },
   "source": [
    "# EM-алгоритм\n",
    "\n",
    "На каждой итерации проводится два шага:\n",
    "\n",
    "### E - evalution\n",
    "Оценка текущего состояния\n",
    "\n",
    "### M - maximisation \n",
    "Максимизация параметров. Т.е. \"подгонка\" модели под текущую выборку объектов. Например, путем минимизации ошибки."
   ]
  },
  {
   "cell_type": "markdown",
   "metadata": {
    "slideshow": {
     "slide_type": "slide"
    }
   },
   "source": [
    "![](emalg.png) \n",
    " \n",
    "Иллюстрация применения ЕМ-алгоритма для разделения смеси нормальных распределений\n",
    "с двумя компонентами. На рис. а показана исходная выборка и начальное приближение для двух\n",
    "компонент. На рис. b показан результат Е шага. При этом цвета объектов соответствуют значениям\n",
    "γ nk . На рис. c-f показаны результаты вычислений после 1, 2, 5 и 20 итераций."
   ]
  },
  {
   "cell_type": "markdown",
   "metadata": {
    "slideshow": {
     "slide_type": "slide"
    }
   },
   "source": [
    "Варианты ЕМ-алгоритма:\n",
    "- K-means\n",
    "- Фильтр Кальмана\n",
    "- Алгоритмы оптимизации"
   ]
  },
  {
   "cell_type": "markdown",
   "metadata": {
    "slideshow": {
     "slide_type": "slide"
    }
   },
   "source": [
    "### Оценка текущего состояния\n",
    "\n",
    "Требования:\n",
    "- одно число - сумма отклонений\n",
    "- предел при полном совпадении - 0\n",
    "\n",
    "Mетод наименьших квадратов (введен в практику Гауссом)              + регуляризация\n",
    "\n",
    "<b class=\"tag\">RMSE</b>"
   ]
  },
  {
   "cell_type": "markdown",
   "metadata": {
    "slideshow": {
     "slide_type": "slide"
    }
   },
   "source": [
    "### Приведение к нахождению минимума\n",
    "\n",
    "- функция потерь (loss function)\n",
    "- минимизация \n",
    "\n",
    "если потери = 0, то идеальное решение, иначе оптимальное."
   ]
  },
  {
   "cell_type": "markdown",
   "metadata": {
    "slideshow": {
     "slide_type": "slide"
    }
   },
   "source": [
    "Алгоритмы\n",
    "\n",
    "Жесткие | Нежесткие\n",
    "-|-\n",
    "однозначная траектория | приблизительная траектория\n",
    "перебор всех вариантов | неполный случайный выбор вариантов\n",
    "скорость предопределена | скорость в пределах от и до\n",
    "решение гарантировано | лучше усреднить несколько проходов"
   ]
  },
  {
   "cell_type": "markdown",
   "metadata": {
    "slideshow": {
     "slide_type": "slide"
    }
   },
   "source": [
    "## Динамическое программирование\n",
    "\n",
    "Подход к решению задач, при котором есть перекрытие между подзадачами и исходной задачей, т.е. они замыкаются друг на друга (рекурсия). Процесс решения включает этапы:\n",
    "1. Выделение фрагментов задачи.\n",
    "2. Разбор примитивных случаев с простыми решениями (с конца).\n",
    "3. Запоминание вариантов решений в таблицу или задание порядка пересчета.\n",
    "4. Подбор пошаговых решений из таблицы или переформулирование сложной задачи в виде рекурсивной последовательности более простых подзадач."
   ]
  },
  {
   "cell_type": "markdown",
   "metadata": {
    "slideshow": {
     "slide_type": "slide"
    }
   },
   "source": [
    "## Бионические алгоритмы\n",
    "\n",
    "Изначально механистические, которые часто \"заходят в тупик\" в сложных ситуациях. Поиск новых алгоритмов черпает вдохновение в живых системах:\n",
    "\n",
    "<b class=tag>biologically plausible</b>"
   ]
  },
  {
   "cell_type": "markdown",
   "metadata": {
    "slideshow": {
     "slide_type": "subslide"
    }
   },
   "source": [
    "### Рой пчел (Artificial bee colony algorithm)\n",
    "\n",
    "![](bees_anim.gif)"
   ]
  },
  {
   "cell_type": "markdown",
   "metadata": {
    "slideshow": {
     "slide_type": "notes"
    }
   },
   "source": [
    "Сначала из улея вылетают в случайно направлении какое-то количество пчел-разведчиков, которые пытаются отыскать участки, где есть нектар. Через какое-то время пчелы возвращаются в улей и особым образом сообщают остальным где и сколько они нашли нектара.\n",
    "После этого на найденные участки отправляются другие пчелы, причем чем больше на данном участке предполагается найти нектара, тем больше пчел летит в этом направлении. А разведчики опять улетают искать другие участки, после чего процесс повторяется. "
   ]
  },
  {
   "cell_type": "markdown",
   "metadata": {
    "slideshow": {
     "slide_type": "subslide"
    }
   },
   "source": [
    "### Иммунный ответ\n",
    "\n",
    "- данные = антигены\n",
    "- популяция антител эволюционирует для наилучшего распознования\n",
    "\n",
    "![](Iris_Dim_Pairs.jpg)\n",
    "\n",
    "<b class=tag>VALIS</b> <b class=tag>AIRS</b> <b class=tag>CLONALG</b>"
   ]
  },
  {
   "cell_type": "markdown",
   "metadata": {
    "slideshow": {
     "slide_type": "-"
    }
   },
   "source": [
    "### +++\n",
    "\n",
    "[Почему индексация от 0](http://gestaltrevision.be/wiki/python/zerobased)\n",
    "\n",
    "#### Python\n",
    "[Whirlwind Tour Of Python](http://nbviewer.jupyter.org/github/jakevdp/WhirlwindTourOfPython/blob/master/00-Introduction.ipynb)\n",
    "\n",
    "[Python Data Science Handbook](http://nbviewer.jupyter.org/github/jakevdp/PythonDataScienceHandbook/blob/master/notebooks/Index.ipynb)\n",
    "\n",
    "Reference Book: [Think Python: How to Think Like a Computer Scientist](http://greenteapress.com/thinkpython/html/index.html)\n",
    "\n",
    "[Jupyter ](http://nbviewer.jupyter.org/github/jupyter/ngcm-tutorial/blob/master/Index.ipynb)\n",
    "\n",
    "\n",
    "https://python-packaging.readthedocs.io/en/latest/"
   ]
  }
 ],
 "metadata": {
  "celltoolbar": "Slideshow",
  "kernelspec": {
   "display_name": "Python 2",
   "language": "python",
   "name": "python2"
  },
  "language_info": {
   "codemirror_mode": {
    "name": "ipython",
    "version": 2
   },
   "file_extension": ".py",
   "mimetype": "text/x-python",
   "name": "python",
   "nbconvert_exporter": "python",
   "pygments_lexer": "ipython2",
   "version": "2.7.11"
  },
  "toc": {
   "base_numbering": 1,
   "nav_menu": {
    "height": "546px",
    "width": "341px"
   },
   "number_sections": false,
   "sideBar": true,
   "skip_h1_title": false,
   "title_cell": "Table of Contents",
   "title_sidebar": "Contents",
   "toc_cell": false,
   "toc_position": {},
   "toc_section_display": "block",
   "toc_window_display": false
  }
 },
 "nbformat": 4,
 "nbformat_minor": 1
}
