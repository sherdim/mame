{
 "cells": [
  {
   "cell_type": "markdown",
   "metadata": {},
   "source": [
    "# Освоение рабочей среды Jupyter Notebook"
   ]
  },
  {
   "cell_type": "markdown",
   "metadata": {},
   "source": [
    "С числами и переменными можно работать как в калькуляторе. \n",
    "\n",
    "Чтобы выполнить код в ячейке, кликните кнопку Run с картинкой как на плеере \"Играть\" (восьмая по счету в ряду кнопок). Та же команда выполняется с клавиатуры сочетанием `Shift-Enter`."
   ]
  },
  {
   "cell_type": "code",
   "execution_count": null,
   "metadata": {},
   "outputs": [],
   "source": [
    ".4"
   ]
  },
  {
   "cell_type": "code",
   "execution_count": null,
   "metadata": {},
   "outputs": [],
   "source": [
    "0.4"
   ]
  },
  {
   "cell_type": "code",
   "execution_count": null,
   "metadata": {},
   "outputs": [],
   "source": [
    "2/5"
   ]
  },
  {
   "cell_type": "code",
   "execution_count": null,
   "metadata": {},
   "outputs": [],
   "source": [
    "0.4 + 0.1"
   ]
  },
  {
   "cell_type": "code",
   "execution_count": null,
   "metadata": {},
   "outputs": [],
   "source": [
    "a=0.4\n",
    "b=0.1\n",
    "a+b"
   ]
  },
  {
   "cell_type": "markdown",
   "metadata": {},
   "source": [
    "Попробуйте поменять значения и проверить, что \"калькулятор\" работает. "
   ]
  },
  {
   "cell_type": "code",
   "execution_count": null,
   "metadata": {},
   "outputs": [],
   "source": [
    "a = 0.4\n",
    "b = 0.1\n",
    "a - b"
   ]
  },
  {
   "cell_type": "markdown",
   "metadata": {},
   "source": [
    "Числа с плавающей запятой (`float`) хранятся в памяти компьютера с определенной точностью - $10^{-16}$ или 0.00000000000000001 (16 знаков после запятой), поэтому на последнем знаке может быть погрешность.\n",
    "\n",
    "Например, числа `2.8999999999999999` и `2.9` одинаковые. Чтобы числа выводились \"красиво\" без погрешностей, можно применить специальные настройки. Но лучше - понимать суть явления и спокойно к этому относиться.\n"
   ]
  },
  {
   "cell_type": "code",
   "execution_count": null,
   "metadata": {},
   "outputs": [],
   "source": [
    "10**-2"
   ]
  },
  {
   "cell_type": "code",
   "execution_count": null,
   "metadata": {},
   "outputs": [],
   "source": [
    "8/3.0"
   ]
  },
  {
   "cell_type": "code",
   "execution_count": null,
   "metadata": {},
   "outputs": [],
   "source": [
    "8//3.0"
   ]
  },
  {
   "cell_type": "markdown",
   "metadata": {},
   "source": [
    "Кроме операторов, известных со школьного курса математики, в языке Python есть некоторые особенности синтаксиса, которые надо запомнить.\n",
    "\n",
    "Двойной знак деления `//` - деление без остатка, т.е. в результате получаем целое число. \n",
    "\n",
    "Двойной знак умножения `**` - возведение в степень. Своя логика в этом обозначении есть - как бы усиленное умножение. В других языках символом возведения в степень выбрали `^`, например, в формулах Excel."
   ]
  },
  {
   "cell_type": "markdown",
   "metadata": {},
   "source": [
    "Присваивание значений - один знак равенства (см. выше). Сравнение - два знака равенства."
   ]
  },
  {
   "cell_type": "code",
   "execution_count": null,
   "metadata": {},
   "outputs": [],
   "source": [
    "a>10"
   ]
  },
  {
   "cell_type": "code",
   "execution_count": null,
   "metadata": {},
   "outputs": [],
   "source": [
    "a==.4"
   ]
  },
  {
   "cell_type": "code",
   "execution_count": null,
   "metadata": {},
   "outputs": [],
   "source": [
    "#можно вывести сразу несколько значений через запятую\n",
    "(b**2, b**3)"
   ]
  },
  {
   "cell_type": "code",
   "execution_count": null,
   "metadata": {},
   "outputs": [],
   "source": [
    "#посмотреть значение переменной можно командой в виде имени переменной\n",
    "a"
   ]
  },
  {
   "cell_type": "markdown",
   "metadata": {},
   "source": [
    "Строки выделяются кавычками. Строковые переменные поддерживают некоторые арифметические операции."
   ]
  },
  {
   "cell_type": "code",
   "execution_count": null,
   "metadata": {},
   "outputs": [],
   "source": [
    "str1='Био'\n",
    "str2=\"Логия\"\n",
    "str1+str2"
   ]
  },
  {
   "cell_type": "code",
   "execution_count": null,
   "metadata": {},
   "outputs": [],
   "source": [
    "print(str1+str2)"
   ]
  },
  {
   "cell_type": "code",
   "execution_count": null,
   "metadata": {},
   "outputs": [],
   "source": [
    "print((str1+'! ')*7)"
   ]
  },
  {
   "cell_type": "code",
   "execution_count": null,
   "metadata": {},
   "outputs": [],
   "source": [
    "# Повтор команды в цикле\n",
    "# Работа со строками, способы форматирования\n",
    "for i in range(5):\n",
    "    print( 'растет в цикле: '+ str(i))\n",
    "\n",
    "print('====')\n",
    "print( 'Итого: {}'.format(i))"
   ]
  },
  {
   "cell_type": "markdown",
   "metadata": {},
   "source": [
    "В предыдущем блоке три команды `print`. Первая сдвинута вправо. Попробуйте сдвинуть также вторую и третью команды `print`, каждый раз выполняя код. Что означает смещение вправо после двоеточия?\n",
    "\n",
    "Чтобы возратить сделанные изменения используйте `Ctrl-Z` - как в любом текстовом редакторе."
   ]
  },
  {
   "cell_type": "markdown",
   "metadata": {},
   "source": [
    "Если о предназначении команды `print` можно догадаться по названию, то команда `range` может вызвать вопросы. Если Вам в коде встречается незнакомая команда, то можно посмотреть справку."
   ]
  },
  {
   "cell_type": "code",
   "execution_count": null,
   "metadata": {},
   "outputs": [],
   "source": [
    "range?"
   ]
  },
  {
   "cell_type": "markdown",
   "metadata": {},
   "source": [
    "Прочитайте справку по функции `range`. Вот ее перевод на русский язык:\n",
    "```\n",
    "range(stop) -> объект range\n",
    "range(start, stop[, step]) -> объект range\n",
    "\n",
    "Возвращает объект, который производит последовательность целых чисел от start (включительно)\n",
    "до stop (исключая) с заданным шагом. range(i, j) производит i, i+1, i+2, ..., j-1. \n",
    "start по умолчанию равен 0, а stop не указан! range(4) выдает 0, 1, 2, 3. \n",
    "Это в точности равно индексам списка из 4 элементов. \n",
    "Когда задан шаг, он определяет приращение (или уменьшение).\n",
    "```\n",
    "\n",
    "Квадратные скобки во второй строчке указывают, что третий аргумент (параметр) функции не обязателен."
   ]
  },
  {
   "cell_type": "markdown",
   "metadata": {},
   "source": [
    "В цикле можно делать перебор составных структур - списков."
   ]
  },
  {
   "cell_type": "code",
   "execution_count": null,
   "metadata": {},
   "outputs": [],
   "source": [
    "spisok = [.1, -.2, 1, -1]\n",
    "len(spisok) #длина"
   ]
  },
  {
   "cell_type": "code",
   "execution_count": null,
   "metadata": {},
   "outputs": [],
   "source": [
    "z=0\n",
    "for element in spisok:\n",
    "    print('прибавляем: {} + {}'.format(z,element))\n",
    "    z += element\n",
    "    \n",
    "n = len(spisok)\n",
    "\n",
    "print('====')\n",
    "print( 'Сумма: {}'.format(z))\n",
    "print( 'Среднее: {}'.format(z/n))"
   ]
  },
  {
   "cell_type": "markdown",
   "metadata": {},
   "source": [
    "> Попробуйте изменить значения в списке. Как это скажется на результатах?\n",
    "\n",
    "> Попробуйте поменять оператор `+=` на `*=`. Как будет правильно назвать итоговые значения, которые выводятся в конце цикла?"
   ]
  }
 ],
 "metadata": {
  "kernelspec": {
   "display_name": "Python 3",
   "language": "python",
   "name": "python3"
  },
  "language_info": {
   "codemirror_mode": {
    "name": "ipython",
    "version": 3
   },
   "file_extension": ".py",
   "mimetype": "text/x-python",
   "name": "python",
   "nbconvert_exporter": "python",
   "pygments_lexer": "ipython3",
   "version": "3.9.0rc1"
  },
  "toc": {
   "base_numbering": 1,
   "nav_menu": {
    "height": "48px",
    "width": "252px"
   },
   "number_sections": false,
   "sideBar": true,
   "skip_h1_title": false,
   "title_cell": "Table of Contents",
   "title_sidebar": "Contents",
   "toc_cell": false,
   "toc_position": {},
   "toc_section_display": "block",
   "toc_window_display": false
  }
 },
 "nbformat": 4,
 "nbformat_minor": 1
}
