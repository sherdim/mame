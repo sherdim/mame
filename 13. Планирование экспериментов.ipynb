{
 "cells": [
  {
   "cell_type": "code",
   "execution_count": 1,
   "metadata": {
    "slideshow": {
     "slide_type": "skip"
    }
   },
   "outputs": [
    {
     "name": "stdout",
     "output_type": "stream",
     "text": [
      "Populating the interactive namespace from numpy and matplotlib\n"
     ]
    }
   ],
   "source": [
    "%pylab inline"
   ]
  },
  {
   "cell_type": "markdown",
   "metadata": {
    "slideshow": {
     "slide_type": "slide"
    }
   },
   "source": [
    "# Планирование экспериментов (research design)"
   ]
  },
  {
   "cell_type": "markdown",
   "metadata": {
    "slideshow": {
     "slide_type": "fragment"
    }
   },
   "source": [
    "*Эксперимент* - тщательно спланированные манипуляции над объектом исследования, призванные опровергнуть гипотезу или, если это не удастся, сделать ее еще обоснованнее.\n",
    "\n",
    "Исключения:\n",
    "- плохо спланированный эксперимент;\n",
    "- разведочные исследования (поиск коррелятов)."
   ]
  },
  {
   "cell_type": "markdown",
   "metadata": {
    "slideshow": {
     "slide_type": "notes"
    }
   },
   "source": [
    "Многие ученые на протяжение всей научной карьеры занимаются поиском коррелятов чего-то совсем не изученного с чем-то частично изученным."
   ]
  },
  {
   "cell_type": "markdown",
   "metadata": {
    "slideshow": {
     "slide_type": "slide"
    }
   },
   "source": [
    "### Новые теоретические знания и/или практическая значимость?"
   ]
  },
  {
   "cell_type": "markdown",
   "metadata": {
    "slideshow": {
     "slide_type": "fragment"
    }
   },
   "source": [
    "- практически значимые работы имеют приоритет при финансировании"
   ]
  },
  {
   "cell_type": "markdown",
   "metadata": {
    "slideshow": {
     "slide_type": "fragment"
    }
   },
   "source": [
    "- трансфер новой технологии ~> монетизация"
   ]
  },
  {
   "cell_type": "markdown",
   "metadata": {
    "slideshow": {
     "slide_type": "fragment"
    }
   },
   "source": [
    "А много ли биологов интересуются биологией как наукой?"
   ]
  },
  {
   "cell_type": "markdown",
   "metadata": {
    "slideshow": {
     "slide_type": "notes"
    }
   },
   "source": [
    "Однако, при получении финансирования надо указывать практическую значимость исследования, даже фундаментального.\n",
    "Также, новый метод анализа данных, изобретенный в ходе исследований, имеет перспективы серийного использования в составе прибора или иной разработки. \n",
    "Т.е. в случае переноса из научно-исследовательской сферы в производственную, которая направленна на получение прибыли от реализации продукции, можно монетизировать разработку.\n",
    "\n",
    "Поскольку большинство ученых биологов наукой не интересуются (парадокс!), то многие биологические исследования изначально направлены на новые прикладные разработки."
   ]
  },
  {
   "cell_type": "markdown",
   "metadata": {
    "slideshow": {
     "slide_type": "slide"
    }
   },
   "source": [
    "### Пример. Поиск лекарства от рака - наука или коммерчески мотивированная инженерная задача?\n",
    "\n",
    "- свободен ли ученый в выборе объекта?\n",
    "- свободен ли ученый в способах доказательств?\n",
    "- можно ли обойтись без клинических испытаний?"
   ]
  },
  {
   "cell_type": "markdown",
   "metadata": {
    "slideshow": {
     "slide_type": "notes"
    }
   },
   "source": [
    "Чтобы подтвердить практически значимый результат, ученый должен выполнить работу в соответствии со стандартами."
   ]
  },
  {
   "cell_type": "markdown",
   "metadata": {
    "slideshow": {
     "slide_type": "slide"
    }
   },
   "source": [
    "## Биомедицинские исследования\n",
    "\n",
    "![thumb](pubmed_logo.png)\n",
    "\n",
    "\n",
    "- приоритетное финансирование\n",
    "- большие объемы\n",
    "- жесткие стандарты"
   ]
  },
  {
   "cell_type": "markdown",
   "metadata": {
    "slideshow": {
     "slide_type": "notes"
    }
   },
   "source": [
    "Важность биомедицины подтверждается тем, что набор сервисов по работе с биологической информацией исходно назывался MEDLINE или pubmed.org"
   ]
  },
  {
   "cell_type": "markdown",
   "metadata": {
    "slideshow": {
     "slide_type": "slide"
    }
   },
   "source": [
    "## Стандарты отчетов (report)\n",
    "под эгидой [International Committee\n",
    "of Medical Journal Editors](http://www.icmje.org/recommendations/browse/) (ICMJE)\n",
    "\n",
    "- [ARRIVE](https://www.nc3rs.org.uk/arrive-guidelines) - для исследований на животных (контроль)\n",
    "- [CONSORT](http://www.consort-statement.org/) - для описания клинических случаев (рандомизация)\n",
    "- [STROBE](http://www.strobe-statement.org/) для учета эпидемий (прогноз), \n",
    "- [PRISMA](http://www.prisma-statement.org/) для систематических обзоров и мета-анализа (статистика),\n",
    "- [STARD](http://www.stard-statement.org/) для исследования точности диагнозов\n",
    "(вероятности)\n",
    "\n",
    "и др. https://www.nlm.nih.gov/services/research_report_guide.html"
   ]
  },
  {
   "cell_type": "markdown",
   "metadata": {
    "slideshow": {
     "slide_type": "subslide"
    }
   },
   "source": [
    "[EQUATOR](http://www.equator-network.org/): Enhancing the QUAlity and Transparency Of health Research\n",
    "\n",
    "Систематический обзор выполнения Указаний для разработчиков рекомендаций по составлению отчетов в области здравоохранения:\n",
    "- только 9 из 60 (15%) рекомендаций следовали Указаниям.\n",
    "- вывод: необходимо уделять больше внимания качеству рекомендаций по составлению отчетов.\n",
    "\n",
    "[Wang X. et al. Methodology and reporting quality of reporting guidelines: systematic review //BMC medical research methodology. – 2015. – Т. 15. – №. 1. – С. 1.](https://www.ncbi.nlm.nih.gov/pubmed/26395179)"
   ]
  },
  {
   "cell_type": "markdown",
   "metadata": {
    "slideshow": {
     "slide_type": "slide"
    }
   },
   "source": [
    "## Если стандартов нет - рекомендации сообществ\n",
    "\n",
    "### Ассоциации, союзы, комитеты\n",
    "- [Международный союз орнитологов](http://www.internationalornithology.org/)\n",
    "- [Русское палеонтологическое общество](http://paleontologi.ru/)\n",
    "- [Королевское энтомологическое общество](http://www.royensoc.co.uk/)\n",
    "\n",
    "### Журналы\n",
    "- [выборка журналов по биоразнообразию](http://www.bioone.org/action/showPublications)\n",
    "- [медицинские журналы](http://www.icmje.org/journals-following-the-icmje-recommendations/)"
   ]
  },
  {
   "cell_type": "markdown",
   "metadata": {
    "slideshow": {
     "slide_type": "slide"
    }
   },
   "source": [
    "## Если рекомендаций нет - образцовые работы\n",
    "\n",
    "- проверочные исследования (воспроизводят уже полученный результат)\n",
    "- наиболее типичная методика (можно определить по обзорам)\n",
    "- комбинация подходов из нескольких работ\n",
    "- перенос подхода из смежной области (с обоснованием)"
   ]
  },
  {
   "cell_type": "markdown",
   "metadata": {
    "slideshow": {
     "slide_type": "slide"
    }
   },
   "source": [
    "## Если нет образцовых работ\n",
    "\n",
    "- вы открыли новое научное направление\n",
    "- формулировка в работе нового научного направления - это докторская степень\n",
    "- для докторской степени нужны публикации\n",
    "- имеющиеся публикации по теме и есть образцовые работы\n",
    "- нет публикаций? ...самоустранитесь!"
   ]
  },
  {
   "cell_type": "markdown",
   "metadata": {
    "slideshow": {
     "slide_type": "slide"
    }
   },
   "source": [
    "> «Затруднение? Товарищ Хлебовводов, устраните»\n",
    "<cite>Стругацкий А., Стругацкий Б . \"Сказка о тройке\" (1968)</cite>\n",
    "\n",
    "Мораль - обратитесь к эксперту (не к ближайшему товарищу)"
   ]
  },
  {
   "cell_type": "markdown",
   "metadata": {
    "slideshow": {
     "slide_type": "slide"
    }
   },
   "source": [
    "## Контроль\n",
    "\n",
    "Если изучаемый вами вид объектов распределен неравномерно, или характеристика распределена неравномерно, то вы должны сделать поправку при интерпретации данных.\n",
    "\n",
    "Лучший способ - ввести в эксперимент контроль (хотя бы косвенный).\n",
    "\n",
    "<b class=tag>плацебо</b>"
   ]
  },
  {
   "cell_type": "markdown",
   "metadata": {
    "slideshow": {
     "slide_type": "slide"
    }
   },
   "source": [
    "### Пример. Контроль в экологии\n",
    "\n",
    "Оценка адекватности средств, выделяемых на охрану биоразнообразия. \n",
    "\n",
    "Биоразнообразие в разных странах?\n",
    "Сколько разных видов - противоречивая информация и, допустим, нет единого источника.\n",
    "\n",
    "Логика: больше видов - больше видов птиц - больше видов птиц, которые под угрозой исчезновения.\n",
    "\n",
    "Такой источник есть: [данные всемирного банка по охраняемым официально видам птицам](http://data.worldbank.org/indicator/EN.BIR.THRD.NO?end=2016&start=2016&view=map)"
   ]
  },
  {
   "cell_type": "markdown",
   "metadata": {
    "slideshow": {
     "slide_type": "slide"
    }
   },
   "source": [
    "### Пример. Контроль в экологии\n",
    "\n",
    "Страны разные по площади? Поделите на площадь - удельное разнообразие на кв. км."
   ]
  },
  {
   "cell_type": "markdown",
   "metadata": {
    "slideshow": {
     "slide_type": "notes"
    }
   },
   "source": [
    "Оценка будет неточной, но она поможет от чего-то оттолкнуться. Можно уже построить карту, выделить критические области, уточнить критерии..."
   ]
  },
  {
   "cell_type": "markdown",
   "metadata": {
    "slideshow": {
     "slide_type": "slide"
    }
   },
   "source": [
    "### Пример. Контроль при стимуляции мозга\n",
    "\n",
    "![thumb](tms1.jpg)\n",
    "\n",
    "Катушка щелкает при подаче магнитного импульса. На щелчок в мозгу развивается ответ, активируется непроизвольное внимание.\n",
    "\n",
    "Поэтому для контроля также щелкают катушкой, но не направленной на мозг."
   ]
  },
  {
   "cell_type": "markdown",
   "metadata": {
    "slideshow": {
     "slide_type": "slide"
    }
   },
   "source": [
    "## Определения\n",
    "\n",
    "*Планирование экспериментов* - расположение наблюдений в определенном порядке или проведение специальных проверок с целью полного использования возможностей используемых методов. \n",
    "\n",
    "*Прогноз успеха* - оценка вероятности подтверждения гипотезы по анализу сходных работ."
   ]
  },
  {
   "cell_type": "markdown",
   "metadata": {
    "collapsed": true,
    "slideshow": {
     "slide_type": "slide"
    }
   },
   "source": [
    "### Задачи планирования экспериментов:\n",
    "- получить статистическую значимость эффекта манипулируемого фактора, если он есть (обеспечить мощность);\n",
    "- по возможности устранить возможные влияния других эффектов (контроль);\n",
    "- сэкономить затраты на дорогостоящие компоненты исследования;\n",
    "- облегчить обработку и интерпретацию полученных результатов."
   ]
  },
  {
   "cell_type": "markdown",
   "metadata": {
    "collapsed": true,
    "slideshow": {
     "slide_type": "slide"
    }
   },
   "source": [
    "### Инструменты планирования экспериментов:\n",
    "- самоограничение;\n",
    "- случайные комбинации (а не все);\n",
    "- балансирование по признакам;\n",
    "- промежуточные градации фактора;\n",
    "- объединение задач от разных лабораторий (биржа объектов)."
   ]
  },
  {
   "cell_type": "markdown",
   "metadata": {
    "slideshow": {
     "slide_type": "notes"
    }
   },
   "source": [
    "Трудно наступать на горло собственной песне, но часто внешние ограничения (бюджет, время) заставляют делать более оптимальный план исследования.\n",
    "\n",
    "При переборе всех градаций одного фактора и другого - пересечения не все, но взаимно сбалансированные.\n",
    "\n",
    "Если в гипотезе просто утверждается - для подтверждения гипотезы в условиях воздействия фактора показатель должен быть выше, чем без воздействия (контроле), то лучше вместо двух градаций ввести 3-4, например, небольшое воздействие, постоянное или прерывистое. В результате станет понятно: эффект пропорционально связан в силой воздействия или работает по принципу \"все или ничего\".\n",
    "\n",
    "Биржа объектов. Помогает снизить расходы на лабораторных животных. Способствует возникновению междисциплинарных исследований и постановке более комплексных задач."
   ]
  },
  {
   "cell_type": "markdown",
   "metadata": {
    "slideshow": {
     "slide_type": "slide"
    }
   },
   "source": [
    "## Registered report\n",
    "\n",
    "1. For a registered report, authors submit their experimental methods and study rationale (including sample size calculations and proposed statistical analyses) before beginning data collection. \n",
    "\n",
    "2. The study design and methods are then peer-reviewed and high-quality submissions are accepted for publication pending accurate data collection. If accepted, publication will be guaranteed regardless of the finding, assuming the authors adhere precisely to the peer-reviewed protocol. \n",
    "\n",
    "\n",
    "[Larson M. J. Commitment to Cutting-Edge Research with Rigor and Replication in Psychophysiological Science by Michael J. Larson. – 2016.](https://www.sciencedirect.com/science/article/pii/S0167876016300381)"
   ]
  },
  {
   "cell_type": "markdown",
   "metadata": {
    "slideshow": {
     "slide_type": "slide"
    }
   },
   "source": [
    "### Латинский квадрат\n",
    "\n",
    "\n",
    "|фактор \\ группа| g1 | g2 | g3|\n",
    "|-|-|-|-|\n",
    "|**f1**| 1 | 2 | 3|\n",
    "|**f2**| 2 | 3 | 1|\n",
    "|**f3**| 3 | 1 | 2|\n",
    "\n",
    "\n",
    "<b class=tag>Latin hypercube sampling</b>"
   ]
  },
  {
   "cell_type": "markdown",
   "metadata": {
    "slideshow": {
     "slide_type": "slide"
    }
   },
   "source": [
    "### Полный дизайн\n",
    "\n",
    "\n",
    "фактор \\ группа | g1 | g2 | g3 | g4 | g5 | g6 | g7 |...| g26 | g27 |\n",
    "-|-\n",
    "**f1**| 1 | 2 | 3 | 1 | 2 | 3 | 1 |      | 3 | 3 |\n",
    "**f2**| 1 | 1 | 1 | 2 | 2 | 2 | 3 | ...  | 3 | 3 |\n",
    "**f3**| 1 | 1 | 1 | 1 | 1 | 1 | 1 |      | 2 | 3 |\n",
    "\n"
   ]
  },
  {
   "cell_type": "markdown",
   "metadata": {
    "slideshow": {
     "slide_type": "slide"
    }
   },
   "source": [
    "### Латинский квадрат\n",
    "\n",
    "![](latin4.jpg)"
   ]
  },
  {
   "cell_type": "markdown",
   "metadata": {
    "slideshow": {
     "slide_type": "slide"
    }
   },
   "source": [
    "## Судоку - латинский квадрат?\n",
    "\n",
    "Стандартная игра судоку состоит из 9х9 ячеек. Но цифры от 1 до 9 расположены 9 раз каждая так, чтобы не встречаться дважды ни на одной строчке, ни в одной колонке, ни в одной из девяти субъячеек размером 3х3.\n",
    "\n",
    "Сделать произвольную судоку можно с помощью [Генератора судоку](https://sudoku.bestcrosswords.ru/generator)."
   ]
  },
  {
   "cell_type": "markdown",
   "metadata": {
    "slideshow": {
     "slide_type": "slide"
    }
   },
   "source": [
    "### Комбинирование \n",
    "\n",
    "Оказывается, что способов расположить числа в головоломке, т.е. сделать заготовку, не так уж много.\n",
    "\n",
    "Об этом в разделе о вероятностных моделях..."
   ]
  },
  {
   "cell_type": "markdown",
   "metadata": {
    "slideshow": {
     "slide_type": "slide"
    }
   },
   "source": [
    "## Прогноз успеха"
   ]
  },
  {
   "cell_type": "markdown",
   "metadata": {
    "slideshow": {
     "slide_type": "fragment"
    }
   },
   "source": [
    "В гипотезе хорошо предусмотреть размер ожидаемого эффекта.\n",
    "\n",
    "Лучше всего - определить примерный диапазон значений, которые будут получены.\n",
    "Т.е. теоретический прогноз и экспериментальня проверка его адекватности."
   ]
  },
  {
   "cell_type": "markdown",
   "metadata": {
    "slideshow": {
     "slide_type": "skip"
    }
   },
   "source": [
    "### &copy;\n",
    "\n",
    "TMS photo http://www.neurowiki.nl"
   ]
  }
 ],
 "metadata": {
  "celltoolbar": "Slideshow",
  "kernelspec": {
   "display_name": "Python 3",
   "language": "python",
   "name": "python3"
  },
  "language_info": {
   "codemirror_mode": {
    "name": "ipython",
    "version": 3
   },
   "file_extension": ".py",
   "mimetype": "text/x-python",
   "name": "python",
   "nbconvert_exporter": "python",
   "pygments_lexer": "ipython3",
   "version": "3.7.1"
  },
  "toc": {
   "base_numbering": 1,
   "nav_menu": {
    "height": "269px",
    "width": "252px"
   },
   "number_sections": false,
   "sideBar": true,
   "skip_h1_title": false,
   "title_cell": "Table of Contents",
   "title_sidebar": "Contents",
   "toc_cell": false,
   "toc_position": {},
   "toc_section_display": "block",
   "toc_window_display": false
  }
 },
 "nbformat": 4,
 "nbformat_minor": 1
}
