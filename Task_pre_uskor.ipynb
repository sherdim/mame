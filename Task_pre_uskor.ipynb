{
 "cells": [
  {
   "cell_type": "markdown",
   "metadata": {},
   "source": [
    "# Предварительный разбор\n",
    "\n",
    "В ходе теста (без учета короткой тренировки в начале) было предъявлено 6 заданий, \n",
    "      в которых надо было нажимать на клавиши в ускоряющемся темпе.\n",
    "      \n",
    "[Онлайн-отчет](http://stireac.com/uskor/result/sherdim%40gmail.com/10.132.32.111__6158019760000190311)\n",
    "\n"
   ]
  },
  {
   "cell_type": "code",
   "execution_count": null,
   "metadata": {},
   "outputs": [],
   "source": [
    "from __future__ import print_function, division, unicode_literals\n",
    "%pylab inline\n",
    "from ipywidgets import interact"
   ]
  },
  {
   "cell_type": "code",
   "execution_count": null,
   "metadata": {},
   "outputs": [],
   "source": [
    "import pandas as pd"
   ]
  },
  {
   "cell_type": "code",
   "execution_count": null,
   "metadata": {},
   "outputs": [],
   "source": [
    "u='http://stireac.com/uskor/result.tsv/sherdim%40gmail.com/10.132.32.111__6158019760000190311'\n",
    "M = pd.read_table(u)\n",
    "M.info()"
   ]
  },
  {
   "cell_type": "code",
   "execution_count": null,
   "metadata": {},
   "outputs": [],
   "source": [
    "M.plot('t','v');"
   ]
  },
  {
   "cell_type": "markdown",
   "metadata": {},
   "source": [
    "Попадаются какие-то огромные значения... это служебные маркеры."
   ]
  },
  {
   "cell_type": "code",
   "execution_count": null,
   "metadata": {},
   "outputs": [],
   "source": [
    "M.v.value_counts()"
   ]
  },
  {
   "cell_type": "markdown",
   "metadata": {},
   "source": [
    "Чаще всего встречаются маркеры 70 и 74. А в тесте надо было нажимать на клавиши F и J. Совпадение?"
   ]
  },
  {
   "cell_type": "code",
   "execution_count": null,
   "metadata": {},
   "outputs": [],
   "source": [
    "chr(70), chr(74)"
   ]
  },
  {
   "cell_type": "markdown",
   "metadata": {},
   "source": [
    "Есть команда и для обратного перевода. "
   ]
  },
  {
   "cell_type": "code",
   "execution_count": null,
   "metadata": {},
   "outputs": [],
   "source": [
    "ord('F')"
   ]
  },
  {
   "cell_type": "markdown",
   "metadata": {},
   "source": [
    "На самом деле код маркеров нажатий не обязательно должен совпадать с кодом символа. В стандартной клавиатуре, где одна кнопка - один символ, - это ествественно. Но, например, кнопки игровых джойстиков не имеют специальных названий и нумеруются произвольно."
   ]
  },
  {
   "cell_type": "markdown",
   "metadata": {},
   "source": [
    "Оставим только маркеры, не превышающие 7000."
   ]
  },
  {
   "cell_type": "code",
   "execution_count": null,
   "metadata": {},
   "outputs": [],
   "source": [
    "M[M.v.abs() < 7000].plot('t','v');"
   ]
  },
  {
   "cell_type": "markdown",
   "metadata": {},
   "source": [
    "Из рисунка видно, что первая часть теста проходила примерно с 30 по 45 с."
   ]
  },
  {
   "cell_type": "code",
   "execution_count": null,
   "metadata": {},
   "outputs": [],
   "source": [
    "M[ (25 < M.t) & (M.t < 48)]"
   ]
  },
  {
   "cell_type": "markdown",
   "metadata": {},
   "source": [
    "В тест добавлены маркеры начала этапов: 1001, 1002, ...\n",
    "\n",
    "Ориентируясь по ним, мы можем извлечь данные нужного нам этапа."
   ]
  },
  {
   "cell_type": "code",
   "execution_count": null,
   "metadata": {},
   "outputs": [],
   "source": [
    "coab, coad = 1001, 1002\n",
    "tab = M.t[M.v==coab].iloc[0]\n",
    "tad = M.t[M.v==coad].iloc[0]\n",
    "R = M[(M.t>=tab)&(M.t<tad)].copy()\n",
    "# оставим только клавиши - код < 100\n",
    "R = R[R.v.abs()<100]\n",
    "R.plot('t','v');"
   ]
  },
  {
   "cell_type": "markdown",
   "metadata": {},
   "source": [
    "Отжатия клавиши нужны только для оценки длительности удержания и не влияют на ритм нажатий - ту характеристику, которая нас интересует. Или влияют?"
   ]
  },
  {
   "cell_type": "code",
   "execution_count": null,
   "metadata": {},
   "outputs": [],
   "source": [
    "# Убедимся, что количество нажатий и отжатий совпадает\n",
    "assert(R.t[R.v > 0].shape == R.t[R.v < 0].shape)\n",
    "\n",
    "R.loc[R.v > 0, 'toff'] = R.t.values[R.v < 0]\n",
    "\n",
    "R"
   ]
  },
  {
   "cell_type": "markdown",
   "metadata": {},
   "source": [
    "Теперь можно удалить строки с отжатиями, и последнее нажатие на клавишу Enter нас в данном случае не интересует."
   ]
  },
  {
   "cell_type": "code",
   "execution_count": null,
   "metadata": {},
   "outputs": [],
   "source": [
    "R.dropna(inplace=True)\n",
    "R.drop(R.index[-1], inplace=True)\n",
    "\n",
    "R.v.value_counts()"
   ]
  },
  {
   "cell_type": "markdown",
   "metadata": {},
   "source": [
    "Итак, у нас остались нажатия на одну кнопку. Посчитаем интервал между нажатиями."
   ]
  },
  {
   "cell_type": "code",
   "execution_count": null,
   "metadata": {},
   "outputs": [],
   "source": [
    "R['iri'] = R.t.diff()\n",
    "plot(R.iri, '.');"
   ]
  },
  {
   "cell_type": "markdown",
   "metadata": {},
   "source": [
    "## Скользящее среднее\n",
    "\n",
    "Самый простой способ сглаживания сигнала - это замена исходных значений на среднее нескольких соседних значений в небольшом окне.\n",
    "\n",
    "Библиотека `pandas` имеет встроенные средства для расчета значений в \"скользящем окне\", или \"катящемся\" (rolling) вдоль ряда блоке."
   ]
  },
  {
   "cell_type": "code",
   "execution_count": null,
   "metadata": {},
   "outputs": [],
   "source": [
    "@interact(win=(3,15))\n",
    "def _plot(win=5):\n",
    "    trend = R.iri.rolling(win).mean()  #, min_periods=1, center=True\n",
    "    plot(R.t, R.iri, '.', label='Интервалы');\n",
    "    plot(R.t, trend, 'r-', label='Тренд');\n",
    "    legend();"
   ]
  },
  {
   "cell_type": "markdown",
   "metadata": {},
   "source": [
    "1. Добавьте параметры в метод `rolling` и изучите как это влияет на форму тренда.\n",
    "2. Попробуйте поменять `mean` (среднюю) на `median` (медиану) - более надежную меру центральной тенденции. Как это повлияет на стабильность тренда? Почему?"
   ]
  }
 ],
 "metadata": {
  "kernelspec": {
   "display_name": "Python 3",
   "language": "python",
   "name": "python3"
  },
  "language_info": {
   "codemirror_mode": {
    "name": "ipython",
    "version": 3
   },
   "file_extension": ".py",
   "mimetype": "text/x-python",
   "name": "python",
   "nbconvert_exporter": "python",
   "pygments_lexer": "ipython3",
   "version": "3.7.1"
  },
  "toc": {
   "base_numbering": 1,
   "nav_menu": {},
   "number_sections": false,
   "sideBar": false,
   "skip_h1_title": false,
   "title_cell": "Table of Contents",
   "title_sidebar": "Contents",
   "toc_cell": false,
   "toc_position": {},
   "toc_section_display": true,
   "toc_window_display": false
  }
 },
 "nbformat": 4,
 "nbformat_minor": 2
}
