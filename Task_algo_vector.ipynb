{
 "cells": [
  {
   "cell_type": "markdown",
   "metadata": {},
   "source": [
    "## Работа с составными типами данных"
   ]
  },
  {
   "cell_type": "markdown",
   "metadata": {},
   "source": [
    "При обработке массивов чисел есть несколько подходов.\n",
    "\n",
    "Рассмострим несколько типов составных переменных и взаимосвязи между ними.\n",
    "\n",
    "В качестве данных будем использовать текстовый файл с данными по времени реакции (reaction time, RT)."
   ]
  },
  {
   "cell_type": "code",
   "execution_count": 1,
   "metadata": {
    "collapsed": false
   },
   "outputs": [
    {
     "data": {
      "text/plain": [
       "'rt.tsv'"
      ]
     },
     "execution_count": 1,
     "metadata": {},
     "output_type": "execute_result"
    }
   ],
   "source": [
    "u='rt.tsv'\n",
    "u"
   ]
  },
  {
   "cell_type": "markdown",
   "metadata": {},
   "source": [
    "## 1. Список\n",
    "Входит в базовый комплект `Python` и не требует импорта библиотек.\n",
    "\n",
    "Достоинство - универсальность, недостатки - требует перебора входящих элементов, ибо никак не предполагает их единообразия: в одном списке могут быть и числа, и строки, и сложные объекты."
   ]
  },
  {
   "cell_type": "code",
   "execution_count": 2,
   "metadata": {
    "collapsed": false
   },
   "outputs": [
    {
     "data": {
      "text/plain": [
       "[0.429,\n",
       " 0.335,\n",
       " 0.357,\n",
       " 0.373,\n",
       " 0.439,\n",
       " 0.402,\n",
       " 0.382,\n",
       " 0.325,\n",
       " 0.4,\n",
       " 0.303,\n",
       " 0.349,\n",
       " 0.285,\n",
       " 0.288,\n",
       " 0.308,\n",
       " 0.282,\n",
       " 0.382,\n",
       " 0.338,\n",
       " 0.307,\n",
       " 0.514,\n",
       " 0.287,\n",
       " 0.316,\n",
       " 0.29,\n",
       " 0.434,\n",
       " 0.622,\n",
       " 0.402,\n",
       " 0.393,\n",
       " 0.471,\n",
       " 0.411,\n",
       " 0.431,\n",
       " 0.519,\n",
       " 0.37,\n",
       " 0.412,\n",
       " 0.385,\n",
       " 0.513,\n",
       " 0.389,\n",
       " 0.439,\n",
       " 0.443,\n",
       " 0.698,\n",
       " 0.473,\n",
       " 0.377,\n",
       " 0.372,\n",
       " 0.357,\n",
       " 0.378,\n",
       " 0.391,\n",
       " 0.396]"
      ]
     },
     "execution_count": 2,
     "metadata": {},
     "output_type": "execute_result"
    }
   ],
   "source": [
    "#создаем пустой список\n",
    "vv=[]\n",
    "#открываем файл и считываем из него число между 1-м и 2-м пробелами или табуляциями (2-ю колонку)\n",
    "with open(u) as f:\n",
    "    for l in f.readlines():\n",
    "#       print(v)  # выводит на экран каждую строку\n",
    "        v = l.split()[1]\n",
    "\n",
    "        if '.' in v:\n",
    "            vv.append(float(v))\n",
    "        \n",
    "vv        "
   ]
  },
  {
   "cell_type": "markdown",
   "metadata": {},
   "source": [
    "У списка есть только длина, но в его состав могут входить другие списки."
   ]
  },
  {
   "cell_type": "code",
   "execution_count": 4,
   "metadata": {
    "collapsed": false
   },
   "outputs": [
    {
     "data": {
      "text/plain": [
       "45"
      ]
     },
     "execution_count": 4,
     "metadata": {},
     "output_type": "execute_result"
    }
   ],
   "source": [
    "len(vv)"
   ]
  },
  {
   "cell_type": "markdown",
   "metadata": {},
   "source": [
    "Сгруппируем список из 9 списочков по 5 значений в каждом."
   ]
  },
  {
   "cell_type": "code",
   "execution_count": 5,
   "metadata": {
    "collapsed": false
   },
   "outputs": [
    {
     "data": {
      "text/plain": [
       "[[0.429, 0.335, 0.357, 0.373, 0.439],\n",
       " [0.402, 0.382, 0.325, 0.4, 0.303],\n",
       " [0.349, 0.285, 0.288, 0.308, 0.282],\n",
       " [0.382, 0.338, 0.307, 0.514, 0.287],\n",
       " [0.316, 0.29, 0.434, 0.622, 0.402],\n",
       " [0.393, 0.471, 0.411, 0.431, 0.519],\n",
       " [0.37, 0.412, 0.385, 0.513, 0.389],\n",
       " [0.439, 0.443, 0.698, 0.473, 0.377],\n",
       " [0.372, 0.357, 0.378, 0.391, 0.396]]"
      ]
     },
     "execution_count": 5,
     "metadata": {},
     "output_type": "execute_result"
    }
   ],
   "source": [
    "vv9x5 = []\n",
    "i=0 #текущая позиция\n",
    "for igroup in range(9):\n",
    "    v1 = vv[i:i+5]\n",
    "    vv9x5.append(v1)\n",
    "    i+=5 #сдвигаемся к началу следующей группы\n",
    "        \n",
    "vv9x5"
   ]
  },
  {
   "cell_type": "markdown",
   "metadata": {
    "collapsed": true
   },
   "source": [
    "Необходимо правильно рассчитывать размеры, и проверять крайние группы, чтобы при указании индексов не выйти за пределы массива.\n",
    "\n",
    "Из функций обработки в чистом `Python` есть только сумма. Вот так можно посчитать средние значения для каждой группы."
   ]
  },
  {
   "cell_type": "code",
   "execution_count": 6,
   "metadata": {
    "collapsed": false
   },
   "outputs": [
    {
     "data": {
      "text/plain": [
       "[0.3866,\n",
       " 0.36239999999999994,\n",
       " 0.3024,\n",
       " 0.3656,\n",
       " 0.4128,\n",
       " 0.445,\n",
       " 0.4138,\n",
       " 0.48599999999999993,\n",
       " 0.3788]"
      ]
     },
     "execution_count": 6,
     "metadata": {},
     "output_type": "execute_result"
    }
   ],
   "source": [
    "[sum(gr)/len(gr) for gr in vv9x5]"
   ]
  },
  {
   "cell_type": "markdown",
   "metadata": {},
   "source": [
    "## 2. Numpy Array\n",
    "\n",
    "Массивы чисел, с которыми можно обращаться как с единым целым. Библиотека `numpy` включает функции линейной алгебры для работы с матрицами.\n",
    "\n",
    "Типичный импорт в виде `np`. В блокноте более удобным является импорт командой `%pylab` (см. в других примерах)."
   ]
  },
  {
   "cell_type": "code",
   "execution_count": 7,
   "metadata": {
    "collapsed": true
   },
   "outputs": [],
   "source": [
    "import numpy as np\n",
    "np.set_printoptions(suppress=True)  #не использовать научную нотацию"
   ]
  },
  {
   "cell_type": "markdown",
   "metadata": {},
   "source": [
    "В `numpy` есть функция загрузки таблиц с числами. Поскольку в нашем файле есть заголовки (строки, а не числа) и колонки с нечисловыми значениями, то указываем дополнительные параметры: пропустить 1 ряд, использовать 2-ю колонку."
   ]
  },
  {
   "cell_type": "code",
   "execution_count": 8,
   "metadata": {
    "collapsed": false
   },
   "outputs": [
    {
     "data": {
      "text/plain": [
       "array([ 0.429,  0.335,  0.357,  0.373,  0.439,  0.402,  0.382,  0.325,\n",
       "        0.4  ,  0.303,  0.349,  0.285,  0.288,  0.308,  0.282,  0.382,\n",
       "        0.338,  0.307,  0.514,  0.287,  0.316,  0.29 ,  0.434,  0.622,\n",
       "        0.402,  0.393,  0.471,  0.411,  0.431,  0.519,  0.37 ,  0.412,\n",
       "        0.385,  0.513,  0.389,  0.439,  0.443,  0.698,  0.473,  0.377,\n",
       "        0.372,  0.357,  0.378,  0.391,  0.396])"
      ]
     },
     "execution_count": 8,
     "metadata": {},
     "output_type": "execute_result"
    }
   ],
   "source": [
    "x = np.loadtxt(u, skiprows=1, usecols=(1,))\n",
    "x"
   ]
  },
  {
   "cell_type": "code",
   "execution_count": 9,
   "metadata": {
    "collapsed": false
   },
   "outputs": [
    {
     "data": {
      "text/plain": [
       "(45,)"
      ]
     },
     "execution_count": 9,
     "metadata": {},
     "output_type": "execute_result"
    }
   ],
   "source": [
    "x.shape"
   ]
  },
  {
   "cell_type": "code",
   "execution_count": 19,
   "metadata": {
    "collapsed": false
   },
   "outputs": [
    {
     "data": {
      "text/plain": [
       "array([[ 0.429,  0.335,  0.357],\n",
       "       [ 0.373,  0.439,  0.402],\n",
       "       [ 0.382,  0.325,  0.4  ],\n",
       "       [ 0.303,  0.349,  0.285],\n",
       "       [ 0.288,  0.308,  0.282],\n",
       "       [ 0.382,  0.338,  0.307],\n",
       "       [ 0.514,  0.287,  0.316],\n",
       "       [ 0.29 ,  0.434,  0.622],\n",
       "       [ 0.402,  0.393,  0.471],\n",
       "       [ 0.411,  0.431,  0.519],\n",
       "       [ 0.37 ,  0.412,  0.385],\n",
       "       [ 0.513,  0.389,  0.439],\n",
       "       [ 0.443,  0.698,  0.473],\n",
       "       [ 0.377,  0.372,  0.357],\n",
       "       [ 0.378,  0.391,  0.396]])"
      ]
     },
     "execution_count": 19,
     "metadata": {},
     "output_type": "execute_result"
    }
   ],
   "source": [
    "X = x.reshape(-1,3)\n",
    "X"
   ]
  },
  {
   "cell_type": "code",
   "execution_count": 11,
   "metadata": {
    "collapsed": false
   },
   "outputs": [
    {
     "data": {
      "text/plain": [
       "numpy.ndarray"
      ]
     },
     "execution_count": 11,
     "metadata": {},
     "output_type": "execute_result"
    }
   ],
   "source": [
    "type(X)"
   ]
  },
  {
   "cell_type": "code",
   "execution_count": 12,
   "metadata": {
    "collapsed": false
   },
   "outputs": [
    {
     "data": {
      "text/plain": [
       "(9, 5)"
      ]
     },
     "execution_count": 12,
     "metadata": {},
     "output_type": "execute_result"
    }
   ],
   "source": [
    "X.shape"
   ]
  },
  {
   "cell_type": "markdown",
   "metadata": {},
   "source": [
    "С массивом можно обращаться к с единым целым. При этом можно применять разные операции к колонкам и строчкам. В случае необходимости менять форму и переворачивать (транспонировать).\n",
    "\n",
    "Есть методы для базовой статистики."
   ]
  },
  {
   "cell_type": "code",
   "execution_count": 13,
   "metadata": {
    "collapsed": false
   },
   "outputs": [
    {
     "data": {
      "text/plain": [
       "0.3948222222222223"
      ]
     },
     "execution_count": 13,
     "metadata": {},
     "output_type": "execute_result"
    }
   ],
   "source": [
    "X.mean()"
   ]
  },
  {
   "cell_type": "code",
   "execution_count": 14,
   "metadata": {
    "collapsed": false
   },
   "outputs": [
    {
     "data": {
      "text/plain": [
       "array([ 0.38355556,  0.36811111,  0.39811111,  0.44722222,  0.37711111])"
      ]
     },
     "execution_count": 14,
     "metadata": {},
     "output_type": "execute_result"
    }
   ],
   "source": [
    "X.mean(axis=0)"
   ]
  },
  {
   "cell_type": "code",
   "execution_count": 15,
   "metadata": {
    "collapsed": false
   },
   "outputs": [
    {
     "data": {
      "text/plain": [
       "array([ 0.39,  0.36,  0.3 ,  0.37,  0.41,  0.44,  0.41,  0.49,  0.38])"
      ]
     },
     "execution_count": 15,
     "metadata": {},
     "output_type": "execute_result"
    }
   ],
   "source": [
    "X.mean(axis=1).round(2)"
   ]
  },
  {
   "cell_type": "code",
   "execution_count": 16,
   "metadata": {
    "collapsed": false
   },
   "outputs": [
    {
     "data": {
      "text/plain": [
       "array([ 0.38,  0.37,  0.4 ,  0.45,  0.38])"
      ]
     },
     "execution_count": 16,
     "metadata": {},
     "output_type": "execute_result"
    }
   ],
   "source": [
    "X.T.mean(axis=1).round(2)"
   ]
  },
  {
   "cell_type": "markdown",
   "metadata": {},
   "source": [
    "Свойство `.T` (T большое) - транспонирование."
   ]
  },
  {
   "cell_type": "markdown",
   "metadata": {},
   "source": [
    "Очень удобно выполнять действия с несколькими массивами. При этом автоматически подбираются соответствия между количеством значений в каждом."
   ]
  },
  {
   "cell_type": "markdown",
   "metadata": {},
   "source": [
    "Распределенное соответствие\n",
    "\n",
    "![](numpy_broadcasting.png)"
   ]
  },
  {
   "cell_type": "markdown",
   "metadata": {},
   "source": [
    "Например, нормализуем массив - вычтем среднее и разделим на стандартное отклонение каждую колонку."
   ]
  },
  {
   "cell_type": "code",
   "execution_count": 17,
   "metadata": {
    "collapsed": false
   },
   "outputs": [
    {
     "data": {
      "text/plain": [
       "array([[ 1.263, -0.543, -0.357, -0.838,  0.85 ],\n",
       "       [ 0.513,  0.228, -0.635, -0.533, -1.018],\n",
       "       [-0.961, -1.363, -0.956, -1.573, -1.306],\n",
       "       [-0.043, -0.494, -0.791,  0.754, -1.237],\n",
       "       [-1.878, -1.281,  0.312,  1.974,  0.342],\n",
       "       [ 0.263,  1.688,  0.112, -0.183,  1.948],\n",
       "       [-0.377,  0.72 , -0.114,  0.743,  0.163],\n",
       "       [ 1.541,  1.228,  2.603,  0.291, -0.002],\n",
       "       [-0.321, -0.182, -0.175, -0.635,  0.259]])"
      ]
     },
     "execution_count": 17,
     "metadata": {},
     "output_type": "execute_result"
    }
   ],
   "source": [
    "((X - X.mean(axis=0))/X.std(axis=0)).round(3)"
   ]
  },
  {
   "cell_type": "markdown",
   "metadata": {},
   "source": [
    "Из массива можно редуцироваться до списка."
   ]
  },
  {
   "cell_type": "code",
   "execution_count": null,
   "metadata": {
    "collapsed": false
   },
   "outputs": [],
   "source": [
    "X.tolist()"
   ]
  },
  {
   "cell_type": "code",
   "execution_count": null,
   "metadata": {
    "collapsed": false
   },
   "outputs": [],
   "source": [
    "type(_)"
   ]
  },
  {
   "cell_type": "markdown",
   "metadata": {},
   "source": [
    "##  3. Pandas DataFrame\n",
    "\n",
    "Для работы со структурированными данными библиотека `pandas` предлагает структуры:\n",
    "- 1-мерная Series,\n",
    "- 2-мерная DataFrame,\n",
    "- 3-мерная Panel\n",
    "- 4-мерная Panel4D\n",
    "\n",
    "Типичный импорт в виде pd. Библиотека включает массу функций для удобного обращения с файлами, датами, статистикой и рисунками."
   ]
  },
  {
   "cell_type": "code",
   "execution_count": 20,
   "metadata": {
    "collapsed": true
   },
   "outputs": [],
   "source": [
    "import pandas as pd"
   ]
  },
  {
   "cell_type": "code",
   "execution_count": 21,
   "metadata": {
    "collapsed": false
   },
   "outputs": [
    {
     "data": {
      "text/html": [
       "<div>\n",
       "<table border=\"1\" class=\"dataframe\">\n",
       "  <thead>\n",
       "    <tr style=\"text-align: right;\">\n",
       "      <th></th>\n",
       "      <th>t</th>\n",
       "      <th>v</th>\n",
       "      <th>isi</th>\n",
       "      <th>mod</th>\n",
       "      <th>g</th>\n",
       "    </tr>\n",
       "  </thead>\n",
       "  <tbody>\n",
       "    <tr>\n",
       "      <th>0</th>\n",
       "      <td>9.585</td>\n",
       "      <td>0.429</td>\n",
       "      <td>NaN</td>\n",
       "      <td>v</td>\n",
       "      <td>8</td>\n",
       "    </tr>\n",
       "    <tr>\n",
       "      <th>1</th>\n",
       "      <td>16.368</td>\n",
       "      <td>0.335</td>\n",
       "      <td>6.782</td>\n",
       "      <td>v</td>\n",
       "      <td>8</td>\n",
       "    </tr>\n",
       "    <tr>\n",
       "      <th>2</th>\n",
       "      <td>23.729</td>\n",
       "      <td>0.357</td>\n",
       "      <td>7.361</td>\n",
       "      <td>v</td>\n",
       "      <td>8</td>\n",
       "    </tr>\n",
       "    <tr>\n",
       "      <th>3</th>\n",
       "      <td>30.930</td>\n",
       "      <td>0.373</td>\n",
       "      <td>7.201</td>\n",
       "      <td>v</td>\n",
       "      <td>8</td>\n",
       "    </tr>\n",
       "    <tr>\n",
       "      <th>4</th>\n",
       "      <td>40.303</td>\n",
       "      <td>0.439</td>\n",
       "      <td>9.372</td>\n",
       "      <td>v</td>\n",
       "      <td>8</td>\n",
       "    </tr>\n",
       "    <tr>\n",
       "      <th>5</th>\n",
       "      <td>46.804</td>\n",
       "      <td>0.402</td>\n",
       "      <td>6.501</td>\n",
       "      <td>v</td>\n",
       "      <td>8</td>\n",
       "    </tr>\n",
       "    <tr>\n",
       "      <th>6</th>\n",
       "      <td>55.448</td>\n",
       "      <td>0.382</td>\n",
       "      <td>8.643</td>\n",
       "      <td>v</td>\n",
       "      <td>8</td>\n",
       "    </tr>\n",
       "    <tr>\n",
       "      <th>7</th>\n",
       "      <td>62.401</td>\n",
       "      <td>0.325</td>\n",
       "      <td>6.953</td>\n",
       "      <td>v</td>\n",
       "      <td>8</td>\n",
       "    </tr>\n",
       "    <tr>\n",
       "      <th>8</th>\n",
       "      <td>68.910</td>\n",
       "      <td>0.400</td>\n",
       "      <td>6.508</td>\n",
       "      <td>v</td>\n",
       "      <td>8</td>\n",
       "    </tr>\n",
       "    <tr>\n",
       "      <th>9</th>\n",
       "      <td>73.463</td>\n",
       "      <td>0.303</td>\n",
       "      <td>4.552</td>\n",
       "      <td>v</td>\n",
       "      <td>4</td>\n",
       "    </tr>\n",
       "    <tr>\n",
       "      <th>10</th>\n",
       "      <td>77.697</td>\n",
       "      <td>0.349</td>\n",
       "      <td>4.234</td>\n",
       "      <td>v</td>\n",
       "      <td>4</td>\n",
       "    </tr>\n",
       "    <tr>\n",
       "      <th>11</th>\n",
       "      <td>86.385</td>\n",
       "      <td>0.285</td>\n",
       "      <td>8.688</td>\n",
       "      <td>v</td>\n",
       "      <td>4</td>\n",
       "    </tr>\n",
       "    <tr>\n",
       "      <th>12</th>\n",
       "      <td>90.470</td>\n",
       "      <td>0.288</td>\n",
       "      <td>4.084</td>\n",
       "      <td>v</td>\n",
       "      <td>4</td>\n",
       "    </tr>\n",
       "    <tr>\n",
       "      <th>13</th>\n",
       "      <td>95.114</td>\n",
       "      <td>0.308</td>\n",
       "      <td>4.644</td>\n",
       "      <td>v</td>\n",
       "      <td>4</td>\n",
       "    </tr>\n",
       "    <tr>\n",
       "      <th>14</th>\n",
       "      <td>99.548</td>\n",
       "      <td>0.282</td>\n",
       "      <td>4.433</td>\n",
       "      <td>v</td>\n",
       "      <td>4</td>\n",
       "    </tr>\n",
       "    <tr>\n",
       "      <th>15</th>\n",
       "      <td>104.056</td>\n",
       "      <td>0.382</td>\n",
       "      <td>4.507</td>\n",
       "      <td>v</td>\n",
       "      <td>4</td>\n",
       "    </tr>\n",
       "    <tr>\n",
       "      <th>16</th>\n",
       "      <td>105.844</td>\n",
       "      <td>0.338</td>\n",
       "      <td>1.787</td>\n",
       "      <td>v</td>\n",
       "      <td>2</td>\n",
       "    </tr>\n",
       "    <tr>\n",
       "      <th>17</th>\n",
       "      <td>107.955</td>\n",
       "      <td>0.307</td>\n",
       "      <td>2.111</td>\n",
       "      <td>v</td>\n",
       "      <td>2</td>\n",
       "    </tr>\n",
       "    <tr>\n",
       "      <th>18</th>\n",
       "      <td>109.636</td>\n",
       "      <td>0.514</td>\n",
       "      <td>1.680</td>\n",
       "      <td>v</td>\n",
       "      <td>2</td>\n",
       "    </tr>\n",
       "    <tr>\n",
       "      <th>19</th>\n",
       "      <td>111.487</td>\n",
       "      <td>0.287</td>\n",
       "      <td>1.850</td>\n",
       "      <td>v</td>\n",
       "      <td>2</td>\n",
       "    </tr>\n",
       "    <tr>\n",
       "      <th>20</th>\n",
       "      <td>113.394</td>\n",
       "      <td>0.316</td>\n",
       "      <td>1.907</td>\n",
       "      <td>v</td>\n",
       "      <td>2</td>\n",
       "    </tr>\n",
       "    <tr>\n",
       "      <th>21</th>\n",
       "      <td>115.732</td>\n",
       "      <td>0.290</td>\n",
       "      <td>2.337</td>\n",
       "      <td>v</td>\n",
       "      <td>2</td>\n",
       "    </tr>\n",
       "    <tr>\n",
       "      <th>22</th>\n",
       "      <td>117.612</td>\n",
       "      <td>0.434</td>\n",
       "      <td>1.879</td>\n",
       "      <td>v</td>\n",
       "      <td>2</td>\n",
       "    </tr>\n",
       "    <tr>\n",
       "      <th>23</th>\n",
       "      <td>143.557</td>\n",
       "      <td>0.622</td>\n",
       "      <td>25.940</td>\n",
       "      <td>a</td>\n",
       "      <td>8</td>\n",
       "    </tr>\n",
       "    <tr>\n",
       "      <th>24</th>\n",
       "      <td>151.932</td>\n",
       "      <td>0.402</td>\n",
       "      <td>8.375</td>\n",
       "      <td>a</td>\n",
       "      <td>8</td>\n",
       "    </tr>\n",
       "    <tr>\n",
       "      <th>25</th>\n",
       "      <td>160.933</td>\n",
       "      <td>0.393</td>\n",
       "      <td>9.001</td>\n",
       "      <td>a</td>\n",
       "      <td>8</td>\n",
       "    </tr>\n",
       "    <tr>\n",
       "      <th>26</th>\n",
       "      <td>168.975</td>\n",
       "      <td>0.471</td>\n",
       "      <td>8.042</td>\n",
       "      <td>a</td>\n",
       "      <td>8</td>\n",
       "    </tr>\n",
       "    <tr>\n",
       "      <th>27</th>\n",
       "      <td>177.819</td>\n",
       "      <td>0.411</td>\n",
       "      <td>8.843</td>\n",
       "      <td>a</td>\n",
       "      <td>8</td>\n",
       "    </tr>\n",
       "    <tr>\n",
       "      <th>28</th>\n",
       "      <td>184.975</td>\n",
       "      <td>0.431</td>\n",
       "      <td>7.156</td>\n",
       "      <td>a</td>\n",
       "      <td>8</td>\n",
       "    </tr>\n",
       "    <tr>\n",
       "      <th>29</th>\n",
       "      <td>191.480</td>\n",
       "      <td>0.519</td>\n",
       "      <td>6.504</td>\n",
       "      <td>a</td>\n",
       "      <td>8</td>\n",
       "    </tr>\n",
       "    <tr>\n",
       "      <th>30</th>\n",
       "      <td>195.884</td>\n",
       "      <td>0.370</td>\n",
       "      <td>4.403</td>\n",
       "      <td>a</td>\n",
       "      <td>4</td>\n",
       "    </tr>\n",
       "    <tr>\n",
       "      <th>31</th>\n",
       "      <td>199.594</td>\n",
       "      <td>0.412</td>\n",
       "      <td>3.710</td>\n",
       "      <td>a</td>\n",
       "      <td>4</td>\n",
       "    </tr>\n",
       "    <tr>\n",
       "      <th>32</th>\n",
       "      <td>203.637</td>\n",
       "      <td>0.385</td>\n",
       "      <td>4.043</td>\n",
       "      <td>a</td>\n",
       "      <td>4</td>\n",
       "    </tr>\n",
       "    <tr>\n",
       "      <th>33</th>\n",
       "      <td>207.373</td>\n",
       "      <td>0.513</td>\n",
       "      <td>3.735</td>\n",
       "      <td>a</td>\n",
       "      <td>4</td>\n",
       "    </tr>\n",
       "    <tr>\n",
       "      <th>34</th>\n",
       "      <td>211.929</td>\n",
       "      <td>0.389</td>\n",
       "      <td>4.556</td>\n",
       "      <td>a</td>\n",
       "      <td>4</td>\n",
       "    </tr>\n",
       "    <tr>\n",
       "      <th>35</th>\n",
       "      <td>216.615</td>\n",
       "      <td>0.439</td>\n",
       "      <td>4.686</td>\n",
       "      <td>a</td>\n",
       "      <td>4</td>\n",
       "    </tr>\n",
       "    <tr>\n",
       "      <th>36</th>\n",
       "      <td>219.947</td>\n",
       "      <td>0.443</td>\n",
       "      <td>3.331</td>\n",
       "      <td>a</td>\n",
       "      <td>4</td>\n",
       "    </tr>\n",
       "    <tr>\n",
       "      <th>37</th>\n",
       "      <td>224.455</td>\n",
       "      <td>0.698</td>\n",
       "      <td>4.508</td>\n",
       "      <td>a</td>\n",
       "      <td>4</td>\n",
       "    </tr>\n",
       "    <tr>\n",
       "      <th>38</th>\n",
       "      <td>226.741</td>\n",
       "      <td>0.473</td>\n",
       "      <td>2.286</td>\n",
       "      <td>a</td>\n",
       "      <td>2</td>\n",
       "    </tr>\n",
       "    <tr>\n",
       "      <th>39</th>\n",
       "      <td>228.837</td>\n",
       "      <td>0.377</td>\n",
       "      <td>2.095</td>\n",
       "      <td>a</td>\n",
       "      <td>2</td>\n",
       "    </tr>\n",
       "    <tr>\n",
       "      <th>40</th>\n",
       "      <td>230.642</td>\n",
       "      <td>0.372</td>\n",
       "      <td>1.805</td>\n",
       "      <td>a</td>\n",
       "      <td>2</td>\n",
       "    </tr>\n",
       "    <tr>\n",
       "      <th>41</th>\n",
       "      <td>232.313</td>\n",
       "      <td>0.357</td>\n",
       "      <td>1.670</td>\n",
       "      <td>a</td>\n",
       "      <td>2</td>\n",
       "    </tr>\n",
       "    <tr>\n",
       "      <th>42</th>\n",
       "      <td>234.108</td>\n",
       "      <td>0.378</td>\n",
       "      <td>1.795</td>\n",
       "      <td>a</td>\n",
       "      <td>2</td>\n",
       "    </tr>\n",
       "    <tr>\n",
       "      <th>43</th>\n",
       "      <td>235.799</td>\n",
       "      <td>0.391</td>\n",
       "      <td>1.691</td>\n",
       "      <td>a</td>\n",
       "      <td>2</td>\n",
       "    </tr>\n",
       "    <tr>\n",
       "      <th>44</th>\n",
       "      <td>238.050</td>\n",
       "      <td>0.396</td>\n",
       "      <td>2.251</td>\n",
       "      <td>a</td>\n",
       "      <td>2</td>\n",
       "    </tr>\n",
       "  </tbody>\n",
       "</table>\n",
       "</div>"
      ],
      "text/plain": [
       "          t      v     isi mod  g\n",
       "0     9.585  0.429     NaN   v  8\n",
       "1    16.368  0.335   6.782   v  8\n",
       "2    23.729  0.357   7.361   v  8\n",
       "3    30.930  0.373   7.201   v  8\n",
       "4    40.303  0.439   9.372   v  8\n",
       "5    46.804  0.402   6.501   v  8\n",
       "6    55.448  0.382   8.643   v  8\n",
       "7    62.401  0.325   6.953   v  8\n",
       "8    68.910  0.400   6.508   v  8\n",
       "9    73.463  0.303   4.552   v  4\n",
       "10   77.697  0.349   4.234   v  4\n",
       "11   86.385  0.285   8.688   v  4\n",
       "12   90.470  0.288   4.084   v  4\n",
       "13   95.114  0.308   4.644   v  4\n",
       "14   99.548  0.282   4.433   v  4\n",
       "15  104.056  0.382   4.507   v  4\n",
       "16  105.844  0.338   1.787   v  2\n",
       "17  107.955  0.307   2.111   v  2\n",
       "18  109.636  0.514   1.680   v  2\n",
       "19  111.487  0.287   1.850   v  2\n",
       "20  113.394  0.316   1.907   v  2\n",
       "21  115.732  0.290   2.337   v  2\n",
       "22  117.612  0.434   1.879   v  2\n",
       "23  143.557  0.622  25.940   a  8\n",
       "24  151.932  0.402   8.375   a  8\n",
       "25  160.933  0.393   9.001   a  8\n",
       "26  168.975  0.471   8.042   a  8\n",
       "27  177.819  0.411   8.843   a  8\n",
       "28  184.975  0.431   7.156   a  8\n",
       "29  191.480  0.519   6.504   a  8\n",
       "30  195.884  0.370   4.403   a  4\n",
       "31  199.594  0.412   3.710   a  4\n",
       "32  203.637  0.385   4.043   a  4\n",
       "33  207.373  0.513   3.735   a  4\n",
       "34  211.929  0.389   4.556   a  4\n",
       "35  216.615  0.439   4.686   a  4\n",
       "36  219.947  0.443   3.331   a  4\n",
       "37  224.455  0.698   4.508   a  4\n",
       "38  226.741  0.473   2.286   a  2\n",
       "39  228.837  0.377   2.095   a  2\n",
       "40  230.642  0.372   1.805   a  2\n",
       "41  232.313  0.357   1.670   a  2\n",
       "42  234.108  0.378   1.795   a  2\n",
       "43  235.799  0.391   1.691   a  2\n",
       "44  238.050  0.396   2.251   a  2"
      ]
     },
     "execution_count": 21,
     "metadata": {},
     "output_type": "execute_result"
    }
   ],
   "source": [
    "D = pd.read_table(u)\n",
    "D"
   ]
  },
  {
   "cell_type": "markdown",
   "metadata": {},
   "source": [
    "При чтении таблицы создаются индексы - для наблюдений (строчек) и для переменных (колонок)."
   ]
  },
  {
   "cell_type": "code",
   "execution_count": null,
   "metadata": {
    "collapsed": false
   },
   "outputs": [],
   "source": [
    "D.columns"
   ]
  },
  {
   "cell_type": "code",
   "execution_count": null,
   "metadata": {
    "collapsed": false
   },
   "outputs": [],
   "source": [
    "D.index"
   ]
  },
  {
   "cell_type": "markdown",
   "metadata": {},
   "source": [
    "Можно задать в качестве индекса одну из колонок. По-умолчанию используется автоматическая нумерация (как в этом примере).\n",
    "\n",
    "Каждая строчка или колонка `DataFrame` - это серия с тем же индексом. К значениям можно обращаться по их индексу в любом порядке. Например, чтобы получить третье по счету значение ВР:"
   ]
  },
  {
   "cell_type": "code",
   "execution_count": null,
   "metadata": {
    "collapsed": false
   },
   "outputs": [],
   "source": [
    "D['v'][2]"
   ]
  },
  {
   "cell_type": "code",
   "execution_count": null,
   "metadata": {
    "collapsed": false
   },
   "outputs": [],
   "source": [
    "D.ix[2]['v']"
   ]
  },
  {
   "cell_type": "code",
   "execution_count": null,
   "metadata": {
    "collapsed": false
   },
   "outputs": [],
   "source": [
    "D.ix[2,'v']"
   ]
  },
  {
   "cell_type": "markdown",
   "metadata": {},
   "source": [
    "Можно использовать индекс позиции, как в массивах numpy."
   ]
  },
  {
   "cell_type": "code",
   "execution_count": null,
   "metadata": {
    "collapsed": false
   },
   "outputs": [],
   "source": [
    "D.iloc[2,1]"
   ]
  },
  {
   "cell_type": "markdown",
   "metadata": {},
   "source": [
    "Таблицы включают мощные средства манипуляции данными.\n",
    "\n",
    "Например, чтобы посчитать среднее ВР для разных МСИ (в колонке `g`), можно сделать так:"
   ]
  },
  {
   "cell_type": "code",
   "execution_count": null,
   "metadata": {
    "collapsed": false
   },
   "outputs": [],
   "source": [
    "D.groupby('g')['v'].mean()"
   ]
  },
  {
   "cell_type": "markdown",
   "metadata": {},
   "source": [
    "Таблицы и Серии подходят для использования в операциях линейной алгебры из `numpy`. Если надо,  значения таблицы можно извлечь в виде массива или в виде списка."
   ]
  },
  {
   "cell_type": "code",
   "execution_count": null,
   "metadata": {
    "collapsed": false
   },
   "outputs": [],
   "source": [
    "D.values"
   ]
  },
  {
   "cell_type": "markdown",
   "metadata": {},
   "source": [
    "И, наоборот, из массива можно сделать датафрейм (таблицу). Если не указать индексы - они создадутся автоматически."
   ]
  },
  {
   "cell_type": "code",
   "execution_count": null,
   "metadata": {
    "collapsed": false
   },
   "outputs": [],
   "source": [
    "pd.DataFrame(X)"
   ]
  },
  {
   "cell_type": "code",
   "execution_count": null,
   "metadata": {
    "collapsed": false
   },
   "outputs": [],
   "source": [
    "type(vv), type(X), type(D['isi']), type(D)"
   ]
  },
  {
   "cell_type": "code",
   "execution_count": null,
   "metadata": {
    "collapsed": true
   },
   "outputs": [],
   "source": []
  }
 ],
 "metadata": {
  "kernelspec": {
   "display_name": "Python 3",
   "language": "python",
   "name": "python3"
  },
  "language_info": {
   "codemirror_mode": {
    "name": "ipython",
    "version": 3
   },
   "file_extension": ".py",
   "mimetype": "text/x-python",
   "name": "python",
   "nbconvert_exporter": "python",
   "pygments_lexer": "ipython3",
   "version": "3.5.2"
  },
  "toc": {
   "colors": {
    "hover_highlight": "#DAA520",
    "running_highlight": "#FF0000",
    "selected_highlight": "#FFD700"
   },
   "moveMenuLeft": true,
   "nav_menu": {
    "height": "30px",
    "width": "252px"
   },
   "navigate_menu": true,
   "number_sections": false,
   "sideBar": true,
   "threshold": 4,
   "toc_cell": false,
   "toc_section_display": "block",
   "toc_window_display": false
  }
 },
 "nbformat": 4,
 "nbformat_minor": 0
}
