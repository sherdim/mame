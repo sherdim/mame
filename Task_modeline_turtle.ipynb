{
 "cells": [
  {
   "cell_type": "markdown",
   "metadata": {
    "deletable": true,
    "editable": true
   },
   "source": [
    "# Правило Ренча - пример [аллометрии](https://ru.wikipedia.org/wiki/Аллометрия)"
   ]
  },
  {
   "cell_type": "markdown",
   "metadata": {
    "deletable": true,
    "editable": true
   },
   "source": [
    "[Правило Ренча](https://ru.wikipedia.org/wiki/%D0%9F%D1%80%D0%B0%D0%B2%D0%B8%D0%BB%D0%BE_%D0%A0%D0%B5%D0%BD%D1%87%D0%B0) (Rensch’s Rule)(положительная аллометрия полового диморфизма в размере) \n",
    "не подтверждается на черепахах.\n",
    "\n",
    "[Koy W. Regis, Jesse M. Meik (2017) Allometry of sexual size dimorphism in turtles: a comparison of mass and length data\n",
    "Ecology\n",
    "Evolutionary Studies\n",
    "Zoology\n",
    "](https://peerj.com/articles/2914)"
   ]
  },
  {
   "cell_type": "markdown",
   "metadata": {
    "deletable": true,
    "editable": true
   },
   "source": [
    "В 1950 году Rensch впервые описал, что в группах родственных видов половой диморфизм в размерах тела более выражен у крупных видов.\n",
    "\n",
    "Правило Ренча не соблюдается у сов\n",
    "[<cite data-cite=\"Abouheif1997\">Abouheif E., Fairbairn D. J. A comparative analysis of allometry for sexual size dimorphism: assessing Rensch's rule //The American Naturalist. – 1997. – Т. 149. – №. 3. – С. 540-562.</cite>](http://www.journals.uchicago.edu/doi/abs/10.1086/286004)\n",
    "\n",
    "\n",
    "Если поделить на группы, то правило выражено только у многоженцев \n",
    "\n",
    "![](https://www.ncbi.nlm.nih.gov/pmc/articles/PMC2211517/bin/rspb20071043f04.jpg)\n",
    "\n",
    "[Интерактивный подробный просмотр](https://www.ncbi.nlm.nih.gov/core/lw/2.0/html/tileshop_pmc/tileshop_pmc_inline.html?title=Click%20on%20image%20to%20zoom&p=PMC3&id=2291161_rspb20071043f04.jpg)\n",
    "\n",
    "Standardized size dimorphism (log male wing length−log female wing length) versus male size in subfamilies with different mating systems. Polygyny is associated with positive allometry (i.e. slopes >0 in these kinds of plots), and polyandry is associated with negative allometry (i.e. slopes <0). \n",
    "\n",
    "[Dale J. et al. Sexual selection explains Rensch's rule of allometry for sexual size dimorphism //Proceedings of the Royal Society of London B: Biological Sciences. – 2007. – Т. 274. – №. 1628. – С. 2971-2979.](https://www.ncbi.nlm.nih.gov/pubmed/17878139)"
   ]
  },
  {
   "cell_type": "code",
   "execution_count": null,
   "metadata": {
    "collapsed": false,
    "deletable": true,
    "editable": true
   },
   "outputs": [],
   "source": [
    "%pylab inline\n",
    "import pandas as pd\n",
    "import seaborn as sns"
   ]
  },
  {
   "cell_type": "code",
   "execution_count": null,
   "metadata": {
    "collapsed": false,
    "deletable": true,
    "editable": true
   },
   "outputs": [],
   "source": [
    "D = pd.read_excel('Data_S1_Complete_Dataset.xlsx', skiprows=5)\n",
    "D=D.iloc[:,6:-5]\n",
    "D.info()"
   ]
  },
  {
   "cell_type": "markdown",
   "metadata": {
    "deletable": true,
    "editable": true
   },
   "source": [
    "## Первичное знакомство\n",
    "\n",
    "Для первичного знакомства с данными построим скаттерограмму размеров мужских и женских карапаксов для одного из семейств - Сухопутные черепахи."
   ]
  },
  {
   "cell_type": "code",
   "execution_count": null,
   "metadata": {
    "collapsed": false,
    "deletable": true,
    "editable": true
   },
   "outputs": [],
   "source": [
    "D1 = D[(D.Family=='Testudinidae')]\n",
    "D1.plot('M SCL (mm)','F SCL (mm)', kind='scatter', marker='o');\n",
    "title('Размеры сухопутных черепах');"
   ]
  },
  {
   "cell_type": "markdown",
   "metadata": {
    "deletable": true,
    "editable": true
   },
   "source": [
    "Видно, что крупные виды c панцирем более полуметра сильно выпадают из группы. Чтобы смягчить различия зададим логарифмическую шкалу."
   ]
  },
  {
   "cell_type": "code",
   "execution_count": null,
   "metadata": {
    "collapsed": false,
    "deletable": true,
    "editable": true
   },
   "outputs": [],
   "source": [
    "D1.plot('M SCL (mm)','F SCL (mm)', kind='scatter', marker='o', loglog=True);\n",
    "title('Размеры сухопутных черепах в логарифмической шкале');"
   ]
  },
  {
   "cell_type": "markdown",
   "metadata": {
    "deletable": true,
    "editable": true
   },
   "source": [
    "Из статьи про птиц следует, что логарифмирование является стандартным приемом при построении аллометрических функций."
   ]
  },
  {
   "cell_type": "markdown",
   "metadata": {
    "deletable": true,
    "editable": true
   },
   "source": [
    "## Расчет SSD\n",
    "\n",
    "$$  SSD = log(X_{male}) - log(X_{female})$$\n",
    "\n",
    "Согласно правилу Ренча sexual size dimorphism (SSD) зависит от общего размера тела в группе близкородственных видов. (Если самец крупнее - SSD растет, и наоборот)."
   ]
  },
  {
   "cell_type": "markdown",
   "metadata": {
    "deletable": true,
    "editable": true
   },
   "source": [
    "Рассчитаем диморфизм для длины карапакса и для массы."
   ]
  },
  {
   "cell_type": "code",
   "execution_count": null,
   "metadata": {
    "collapsed": false,
    "deletable": true,
    "editable": true
   },
   "outputs": [],
   "source": [
    "D['SSD'] = log(D['M SCL (mm)']) - log(D['F SCL (mm)'])\n",
    "D['SSD_mass'] = log(D['M Mass (g)']) - log(D['F Mass (g)'])\n",
    "D.hist(['SSD','SSD_mass']);"
   ]
  },
  {
   "cell_type": "markdown",
   "metadata": {
    "deletable": true,
    "editable": true
   },
   "source": [
    "Создадим колонки с логарифмированными значениями для задания оси абсцисс в будущем рисунке."
   ]
  },
  {
   "cell_type": "code",
   "execution_count": null,
   "metadata": {
    "collapsed": true,
    "deletable": true,
    "editable": true
   },
   "outputs": [],
   "source": [
    "D['log_size']=log(D['M SCL (mm)'])\n",
    "D['log_mass']=log(D['M Mass (g)'])"
   ]
  },
  {
   "cell_type": "markdown",
   "metadata": {
    "deletable": true,
    "editable": true
   },
   "source": [
    "Построим линейные зависимости по семействам. Посчитаем, сколько видов с данными есть по каждому семейству."
   ]
  },
  {
   "cell_type": "code",
   "execution_count": null,
   "metadata": {
    "collapsed": false,
    "deletable": true,
    "editable": true
   },
   "outputs": [],
   "source": [
    "kk=['M SCL (mm)','F SCL (mm)','M Mass (g)','F Mass (g)']\n",
    "D.groupby('Family')[kk].count()"
   ]
  },
  {
   "cell_type": "markdown",
   "metadata": {
    "deletable": true,
    "editable": true
   },
   "source": [
    "Оставим только те семейства, в которых больше 5 видов."
   ]
  },
  {
   "cell_type": "code",
   "execution_count": null,
   "metadata": {
    "collapsed": false,
    "deletable": true,
    "editable": true
   },
   "outputs": [],
   "source": [
    "popular_family = _[_['M Mass (g)']>5].index\n",
    "popular_family"
   ]
  },
  {
   "cell_type": "markdown",
   "metadata": {
    "deletable": true,
    "editable": true
   },
   "source": [
    "Отберем выборку представителей только этих семейств. Будьте внимательны, если создаете переменные, отличающиеся всего на один символ (тут добавлен знак подчеркивания)."
   ]
  },
  {
   "cell_type": "code",
   "execution_count": null,
   "metadata": {
    "collapsed": false,
    "deletable": true,
    "editable": true
   },
   "outputs": [],
   "source": [
    "D_ = D[D.Family.isin(popular_family)]"
   ]
  },
  {
   "cell_type": "code",
   "execution_count": null,
   "metadata": {
    "collapsed": false,
    "deletable": true,
    "editable": true
   },
   "outputs": [],
   "source": [
    "sns.lmplot('log_size', 'SSD', data=D_, hue='Family');\n"
   ]
  },
  {
   "cell_type": "markdown",
   "metadata": {
    "deletable": true,
    "editable": true
   },
   "source": [
    "Как видно из рисунка в большинстве семейств правило Ренча соблюдается - линия тренда идет вверх при увеличении размера. У некоторых семейств (Podocnemididae) зависимость выражена слабо, и у одного (Cheloniidae) - слабо-отрицательная."
   ]
  },
  {
   "cell_type": "code",
   "execution_count": null,
   "metadata": {
    "collapsed": false,
    "deletable": true,
    "editable": true
   },
   "outputs": [],
   "source": [
    "sns.lmplot('log_mass', 'SSD_mass', data=D_, hue='Family');"
   ]
  },
  {
   "cell_type": "markdown",
   "metadata": {
    "collapsed": false,
    "deletable": true,
    "editable": true
   },
   "source": [
    "Сходная картина с межполовыми различиями в массе.\n",
    "\n",
    "Степень выраженности аллометрического правила оценивают по углу наклона линии тренда - или коэффициенту $a$ в уравнении $y= ax+b$."
   ]
  },
  {
   "cell_type": "markdown",
   "metadata": {
    "deletable": true,
    "editable": true
   },
   "source": [
    "## Перегруппировка\n",
    "\n",
    "Попробуем проверить пару гипотез, связано ли соблюдение правило Ренча с образом жизни и с типом складывания шеи (подотряды).\n",
    "\n",
    "Для этого нам надо создать новые колонки с факторами. "
   ]
  },
  {
   "cell_type": "code",
   "execution_count": null,
   "metadata": {
    "collapsed": false,
    "deletable": true,
    "editable": true
   },
   "outputs": [],
   "source": [
    "D.Family.unique()"
   ]
  },
  {
   "cell_type": "markdown",
   "metadata": {
    "deletable": true,
    "editable": true
   },
   "source": [
    "Для пометки водные или не водные заведем указатель со всеми семействами. Значения фактора зададим:\n",
    " - m - морские\n",
    " - r - пресноводные (речные)\n",
    " - s - сухопутные."
   ]
  },
  {
   "cell_type": "code",
   "execution_count": null,
   "metadata": {
    "collapsed": false,
    "deletable": true,
    "editable": true
   },
   "outputs": [],
   "source": [
    "d = dict(zip(D.Family.unique(), 'mrsr' 'rmrs' 'srrm' 'rrr'))\n",
    "d"
   ]
  },
  {
   "cell_type": "code",
   "execution_count": null,
   "metadata": {
    "collapsed": false,
    "deletable": true,
    "editable": true
   },
   "outputs": [],
   "source": [
    "D['vita']= D.Family.apply(lambda s: d[s])\n",
    "D['vita'].value_counts()"
   ]
  },
  {
   "cell_type": "markdown",
   "metadata": {
    "deletable": true,
    "editable": true
   },
   "source": [
    "Подотряд можно задать сопоставлением каждого семейства со своим подотрядом, но поскольку у Черепах подотряда всего два, то можно проверить принадлежность к одному из двух семейств бокошейных, и если нет, то к скрытошейным."
   ]
  },
  {
   "cell_type": "code",
   "execution_count": null,
   "metadata": {
    "collapsed": false,
    "deletable": true,
    "editable": true
   },
   "outputs": [],
   "source": [
    "def podotryad(fam):\n",
    "    subordo = 'Pleurodira' if fam in (\n",
    "          'Podocnemididae',\n",
    "          'Pelomedusidae', #Пеломедузовые\n",
    "          'Chelidae'  #Змеиношейные\n",
    "        ) else 'Cryptodira'\n",
    "    \n",
    "    return subordo\n",
    "\n",
    "D['Subordo']=D.Family.apply(podotryad)\n",
    "D['Subordo'].value_counts()"
   ]
  },
  {
   "cell_type": "markdown",
   "metadata": {
    "deletable": true,
    "editable": true
   },
   "source": [
    "Повторим построение рисунков с новыми факторами."
   ]
  },
  {
   "cell_type": "code",
   "execution_count": null,
   "metadata": {
    "collapsed": false,
    "deletable": true,
    "editable": true
   },
   "outputs": [],
   "source": [
    "sns.lmplot('log_size', 'SSD', data=D, hue='Subordo');"
   ]
  },
  {
   "cell_type": "code",
   "execution_count": null,
   "metadata": {
    "collapsed": false,
    "deletable": true,
    "editable": true
   },
   "outputs": [],
   "source": [
    "sns.lmplot('log_mass', 'SSD_mass', data=D, hue='Subordo');"
   ]
  },
  {
   "cell_type": "code",
   "execution_count": null,
   "metadata": {
    "collapsed": false,
    "deletable": true,
    "editable": true
   },
   "outputs": [],
   "source": [
    "sns.lmplot('log_size', 'SSD', data=D, hue='vita');"
   ]
  },
  {
   "cell_type": "code",
   "execution_count": null,
   "metadata": {
    "collapsed": false,
    "deletable": true,
    "editable": true
   },
   "outputs": [],
   "source": [
    "sns.lmplot('log_mass', 'SSD_mass', data=D, hue='vita');"
   ]
  },
  {
   "cell_type": "markdown",
   "metadata": {
    "deletable": true,
    "editable": true
   },
   "source": [
    "После получения качественного решения, можно получить количественные значения коэффициентов подобранных моделей. Для этого для каждой группы нужно сделать анализ с помощью функции `polyfit` или пакета `statmodels`."
   ]
  }
 ],
 "metadata": {
  "kernelspec": {
   "display_name": "Python 2",
   "language": "python",
   "name": "python3"
  },
  "language_info": {
   "codemirror_mode": {
    "name": "ipython",
    "version": 2
   },
   "file_extension": ".py",
   "mimetype": "text/x-python",
   "name": "python",
   "nbconvert_exporter": "python",
   "pygments_lexer": "ipython2",
   "version": "2.7.9"
  },
  "toc": {
   "colors": {
    "hover_highlight": "#DAA520",
    "running_highlight": "#FF0000",
    "selected_highlight": "#FFD700"
   },
   "moveMenuLeft": true,
   "nav_menu": {
    "height": "151px",
    "width": "255px"
   },
   "navigate_menu": true,
   "number_sections": false,
   "sideBar": true,
   "threshold": 4,
   "toc_cell": false,
   "toc_section_display": "block",
   "toc_window_display": false
  }
 },
 "nbformat": 4,
 "nbformat_minor": 2
}
