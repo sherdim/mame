{
 "cells": [
  {
   "cell_type": "markdown",
   "metadata": {},
   "source": [
    "# Набор данных о черепахах"
   ]
  },
  {
   "cell_type": "markdown",
   "metadata": {},
   "source": [
    "[Правило Ренча](https://ru.wikipedia.org/wiki/%D0%9F%D1%80%D0%B0%D0%B2%D0%B8%D0%BB%D0%BE_%D0%A0%D0%B5%D0%BD%D1%87%D0%B0) (Rensch’s Rule)(положительная аллометрия полового диморфизма в размерах) \n",
    "решили проверить на черепахах. Для этого интегрировали данные из разных работ - в каких-то измерялись размеры и масса, в каких-то только размеры. Таблица неполная, так как информация по многим позициям отсутствует. Это пример реальных данных, с которыми приходится работать.\n",
    "\n",
    "[Regis KW, Meik JM (2017) Allometry of sexual size dimorphism in turtles: a comparison of mass and length data Ecology Evolutionary Studies Zoology](https://peerj.com/articles/2914)"
   ]
  },
  {
   "cell_type": "code",
   "execution_count": 1,
   "metadata": {},
   "outputs": [
    {
     "name": "stdout",
     "output_type": "stream",
     "text": [
      "Populating the interactive namespace from numpy and matplotlib\n"
     ]
    }
   ],
   "source": [
    "%pylab inline\n",
    "import pandas as pd"
   ]
  },
  {
   "cell_type": "code",
   "execution_count": 2,
   "metadata": {},
   "outputs": [
    {
     "name": "stdout",
     "output_type": "stream",
     "text": [
      "<class 'pandas.core.frame.DataFrame'>\n",
      "RangeIndex: 692 entries, 0 to 691\n",
      "Data columns (total 27 columns):\n",
      "Carapace data used for phylogenetic analysis    241 non-null object\n",
      "Mass data used for phylogenetic analysis        146 non-null object\n",
      "Max mass used?                                  9 non-null object\n",
      "Max SCL used?                                   19 non-null object\n",
      "Captive?                                        12 non-null object\n",
      "Combined populations?                           3 non-null object\n",
      "Genus                                           692 non-null object\n",
      "Species                                         692 non-null object\n",
      "Common Name                                     306 non-null object\n",
      "Family                                          692 non-null object\n",
      "M Mass (g)                                      297 non-null float64\n",
      "F Mass (g)                                      297 non-null float64\n",
      "N                                               446 non-null object\n",
      "Locality                                        289 non-null object\n",
      "M SCL (mm)                                      534 non-null float64\n",
      "F SCL (mm)                                      537 non-null float64\n",
      "M Max Mass (g)                                  126 non-null float64\n",
      "F Max Mass (g)                                  127 non-null float64\n",
      "Pop Max Mass (g)                                113 non-null float64\n",
      "M Max SCL (mm)                                  271 non-null float64\n",
      "F Max SCL (mm)                                  272 non-null float64\n",
      "Pop Max SCL (mm)                                125 non-null float64\n",
      "KWR notes                                       71 non-null object\n",
      "Mass Source                                     311 non-null object\n",
      "SCL Original Source                             381 non-null object\n",
      "SCL Dataset Source                              381 non-null object\n",
      "secondary mass source                           3 non-null object\n",
      "dtypes: float64(10), object(17)\n",
      "memory usage: 100.1+ KB\n"
     ]
    }
   ],
   "source": [
    "#https://dfzljdn9uc3pi.cloudfront.net/2017/2914/1/Data_S1_Complete_Dataset.xlsx\n",
    "D = pd.read_excel('Data_S1_Complete_Dataset.xlsx', skiprows=5)\n",
    "D.info()"
   ]
  },
  {
   "cell_type": "markdown",
   "metadata": {},
   "source": [
    "Посмотрим список мест сбора данных."
   ]
  },
  {
   "cell_type": "code",
   "execution_count": 3,
   "metadata": {},
   "outputs": [
    {
     "data": {
      "text/plain": [
       "Orang National Park, Assam state, India                                               15\n",
       "Bangladesh                                                                             8\n",
       "Papua Province, New Guinea Island, Indonesia                                           6\n",
       "Madagascar                                                                             6\n",
       "Savannah River Plant and Capers Island, South Carolina                                 6\n",
       "Mamiraua Sustainable Development Reserve, Amazonas state, Brazil                       4\n",
       "East Texas                                                                             4\n",
       "New Hampshire                                                                          3\n",
       "Nepal                                                                                  3\n",
       "E. S. George Reserve, Livingston County, Michigan                                      3\n",
       "Bellinger River, Thora, New South Wales, Australia                                     2\n",
       "Florida                                                                                2\n",
       "De Aar District, Nama-Karoo biome, South Africa                                        2\n",
       "Southwest Province, Cameroon                                                           2\n",
       "Cusco Amazonico, Peru                                                                  2\n",
       "California                                                                             2\n",
       "El Portil Pond, southern Spain (37.14N, 7.2W)                                          2\n",
       "Provinces of Limon, Puntarenas, and Alajuela, Costa Rica                               2\n",
       "Cukurkoy valley, İzmir Province, Aegian Region, Turkey                                 2\n",
       "Barro Vermelho, Maranhao state, Brazil                                                 2\n",
       "India                                                                                  2\n",
       "Cameroon, Africa                                                                       2\n",
       "Pascagoula River, Jackson County, Mississippi                                          2\n",
       "Maryland                                                                               2\n",
       "Galapagos Islands, Ecuador                                                             2\n",
       "Sequoya National Wildlife Refuge, Sequoya County, Oklahoma                             1\n",
       "China                                                                                  1\n",
       "Southern Greece                                                                        1\n",
       "southeastern Louisiana                                                                 1\n",
       "Montenegro                                                                             1\n",
       "                                                                                      ..\n",
       "Meteora, Kalabaka municipality, Trikala regional unit, Greece                          1\n",
       "Oklahoma                                                                               1\n",
       "Capers Island, South Carolina                                                          1\n",
       "Thailand                                                                               1\n",
       "Itapeva State Park, Torres Municipality, Rio Grande do Sul state, Brazil               1\n",
       "Belize                                                                                 1\n",
       "Namibia                                                                                1\n",
       "southwestern Cape, South Africa                                                        1\n",
       "Queensland, Australia                                                                  1\n",
       "Sindue, Sulawesi                                                                       1\n",
       "Laguna Escondida, San Andres Tuxtla municipality, southeast Veracruz state, Mexico     1\n",
       "Northern Greece                                                                        1\n",
       "Be'er Milka, near Egyptian border, Isreal                                              1\n",
       "East coast of Africa                                                                   1\n",
       "Playa Chucheros, Bahia Malaga, Valle del Cauca Department, Colombia                    1\n",
       "Palu, Sulawesi                                                                         1\n",
       "Booderee National Park, Jervis Bay Territory, Australia                                1\n",
       "Morocco                                                                                1\n",
       "Krikori drainage basin, Papua New Guinea                                               1\n",
       "Western Ghats, India                                                                   1\n",
       "Miller's Marsh, Beaver Island, Michigan                                                1\n",
       "South Africa                                                                           1\n",
       "Everglades National Park, Miami-Dade County and Monroe County, Florida                 1\n",
       "Alto Paranapanema River basin, Angatuba municipality, Sao Paulo state, Brazil          1\n",
       "Connors River, central Queensland, Australia                                           1\n",
       "Springbok, Namaqualand, South Africa                                                   1\n",
       "Rio Negro basin, Amazonas state, Brazil                                                1\n",
       "Palm Island, Insular Region, Valle del Cauca Department, Colombia                      1\n",
       "northeastern Arkansas                                                                  1\n",
       "Kilkis, Kilkis municipality, Kilkis regional unit, Greece                              1\n",
       "Name: Locality, dtype: int64"
      ]
     },
     "execution_count": 3,
     "metadata": {},
     "output_type": "execute_result"
    }
   ],
   "source": [
    "D.Locality.value_counts()"
   ]
  },
  {
   "cell_type": "markdown",
   "metadata": {},
   "source": [
    "На выходе мы получили серию (`Series`) с частотой упоминания в таблице отдельных мест (Locality), а в качестве индекса к этим значениям использованы названия этих мест.\n",
    "\n",
    "Сколько всего раз встречается Бразилия?"
   ]
  },
  {
   "cell_type": "code",
   "execution_count": 4,
   "metadata": {},
   "outputs": [
    {
     "data": {
      "text/plain": [
       "22"
      ]
     },
     "execution_count": 4,
     "metadata": {},
     "output_type": "execute_result"
    }
   ],
   "source": [
    "#_ - это ссылка на вывод из предыдущей ячейки\n",
    "_[_.index.str.contains('Brazil')].sum()"
   ]
  },
  {
   "cell_type": "code",
   "execution_count": 5,
   "metadata": {},
   "outputs": [
    {
     "data": {
      "text/plain": [
       "23"
      ]
     },
     "execution_count": 5,
     "metadata": {},
     "output_type": "execute_result"
    }
   ],
   "source": [
    "# вывод из предыдущей ячейки = 22\n",
    "# для ссылки на вывод из 3-й ячейки используйте _3\n",
    "_3[_3.index.str.contains('India')].sum()"
   ]
  },
  {
   "cell_type": "markdown",
   "metadata": {},
   "source": [
    "Чтобы не путаться - лучше ссылаться на исходные переменные, или создавать временные переменные с понятным именем."
   ]
  },
  {
   "cell_type": "code",
   "execution_count": 6,
   "metadata": {},
   "outputs": [
    {
     "data": {
      "text/html": [
       "<div>\n",
       "<table border=\"1\" class=\"dataframe\">\n",
       "  <thead>\n",
       "    <tr style=\"text-align: right;\">\n",
       "      <th></th>\n",
       "      <th>Carapace data used for phylogenetic analysis</th>\n",
       "      <th>Mass data used for phylogenetic analysis</th>\n",
       "      <th>Max mass used?</th>\n",
       "      <th>Max SCL used?</th>\n",
       "      <th>Captive?</th>\n",
       "      <th>Combined populations?</th>\n",
       "      <th>Genus</th>\n",
       "      <th>Species</th>\n",
       "      <th>Common Name</th>\n",
       "      <th>Family</th>\n",
       "      <th>...</th>\n",
       "      <th>F Max Mass (g)</th>\n",
       "      <th>Pop Max Mass (g)</th>\n",
       "      <th>M Max SCL (mm)</th>\n",
       "      <th>F Max SCL (mm)</th>\n",
       "      <th>Pop Max SCL (mm)</th>\n",
       "      <th>KWR notes</th>\n",
       "      <th>Mass Source</th>\n",
       "      <th>SCL Original Source</th>\n",
       "      <th>SCL Dataset Source</th>\n",
       "      <th>secondary mass source</th>\n",
       "    </tr>\n",
       "  </thead>\n",
       "  <tbody>\n",
       "    <tr>\n",
       "      <th>195</th>\n",
       "      <td>yes</td>\n",
       "      <td>NaN</td>\n",
       "      <td>NaN</td>\n",
       "      <td>NaN</td>\n",
       "      <td>NaN</td>\n",
       "      <td>NaN</td>\n",
       "      <td>Emys</td>\n",
       "      <td>orbicularis</td>\n",
       "      <td>European Pond Turtle</td>\n",
       "      <td>Emydidae</td>\n",
       "      <td>...</td>\n",
       "      <td>750.7</td>\n",
       "      <td>750.7</td>\n",
       "      <td>156.8</td>\n",
       "      <td>166.6</td>\n",
       "      <td>166.6</td>\n",
       "      <td>NaN</td>\n",
       "      <td>Ayaz, D., Fritz, U., Atatur, M. K., Mermer, A....</td>\n",
       "      <td>NaN</td>\n",
       "      <td>NaN</td>\n",
       "      <td>NaN</td>\n",
       "    </tr>\n",
       "    <tr>\n",
       "      <th>196</th>\n",
       "      <td>NaN</td>\n",
       "      <td>NaN</td>\n",
       "      <td>NaN</td>\n",
       "      <td>NaN</td>\n",
       "      <td>NaN</td>\n",
       "      <td>NaN</td>\n",
       "      <td>Emys</td>\n",
       "      <td>orbicularis</td>\n",
       "      <td>European pond turtle</td>\n",
       "      <td>Emydidae</td>\n",
       "      <td>...</td>\n",
       "      <td>680.0</td>\n",
       "      <td>680.0</td>\n",
       "      <td>138.0</td>\n",
       "      <td>162.0</td>\n",
       "      <td>162.0</td>\n",
       "      <td>NaN</td>\n",
       "      <td>Auer, M., and E. Taskavak. 2004. Population St...</td>\n",
       "      <td>NaN</td>\n",
       "      <td>NaN</td>\n",
       "      <td>NaN</td>\n",
       "    </tr>\n",
       "    <tr>\n",
       "      <th>403</th>\n",
       "      <td>yes</td>\n",
       "      <td>yes</td>\n",
       "      <td>NaN</td>\n",
       "      <td>NaN</td>\n",
       "      <td>NaN</td>\n",
       "      <td>NaN</td>\n",
       "      <td>Mauremys</td>\n",
       "      <td>rivulata</td>\n",
       "      <td>Western Caspian turtle</td>\n",
       "      <td>Geoemydidae</td>\n",
       "      <td>...</td>\n",
       "      <td>823.0</td>\n",
       "      <td>823.0</td>\n",
       "      <td>142.0</td>\n",
       "      <td>18.1</td>\n",
       "      <td>18.1</td>\n",
       "      <td>NaN</td>\n",
       "      <td>Güçlü, O., and O. Türkozan. 2010. Population S...</td>\n",
       "      <td>NaN</td>\n",
       "      <td>NaN</td>\n",
       "      <td>NaN</td>\n",
       "    </tr>\n",
       "    <tr>\n",
       "      <th>404</th>\n",
       "      <td>NaN</td>\n",
       "      <td>NaN</td>\n",
       "      <td>NaN</td>\n",
       "      <td>NaN</td>\n",
       "      <td>NaN</td>\n",
       "      <td>NaN</td>\n",
       "      <td>Mauremys</td>\n",
       "      <td>rivulata</td>\n",
       "      <td>Western Caspian turtle</td>\n",
       "      <td>Geoemydidae</td>\n",
       "      <td>...</td>\n",
       "      <td>878.0</td>\n",
       "      <td>878.0</td>\n",
       "      <td>205.0</td>\n",
       "      <td>188.0</td>\n",
       "      <td>205.0</td>\n",
       "      <td>NaN</td>\n",
       "      <td>Auer, M., and E. Taskavak. 2004. Population St...</td>\n",
       "      <td>NaN</td>\n",
       "      <td>NaN</td>\n",
       "      <td>NaN</td>\n",
       "    </tr>\n",
       "    <tr>\n",
       "      <th>633</th>\n",
       "      <td>NaN</td>\n",
       "      <td>yes</td>\n",
       "      <td>NaN</td>\n",
       "      <td>NaN</td>\n",
       "      <td>NaN</td>\n",
       "      <td>NaN</td>\n",
       "      <td>Agrionemys</td>\n",
       "      <td>horsfieldii</td>\n",
       "      <td>Central Asian tortoise</td>\n",
       "      <td>Testudinidae</td>\n",
       "      <td>...</td>\n",
       "      <td>NaN</td>\n",
       "      <td>NaN</td>\n",
       "      <td>NaN</td>\n",
       "      <td>NaN</td>\n",
       "      <td>NaN</td>\n",
       "      <td>NaN</td>\n",
       "      <td>Ataev, C.A. 1997. Reptiles of the autonomous r...</td>\n",
       "      <td>NaN</td>\n",
       "      <td>NaN</td>\n",
       "      <td>NaN</td>\n",
       "    </tr>\n",
       "  </tbody>\n",
       "</table>\n",
       "<p>5 rows × 27 columns</p>\n",
       "</div>"
      ],
      "text/plain": [
       "    Carapace data used for phylogenetic analysis  \\\n",
       "195                                          yes   \n",
       "196                                          NaN   \n",
       "403                                          yes   \n",
       "404                                          NaN   \n",
       "633                                          NaN   \n",
       "\n",
       "    Mass data used for phylogenetic analysis Max mass used? Max SCL used?  \\\n",
       "195                                      NaN            NaN           NaN   \n",
       "196                                      NaN            NaN           NaN   \n",
       "403                                      yes            NaN           NaN   \n",
       "404                                      NaN            NaN           NaN   \n",
       "633                                      yes            NaN           NaN   \n",
       "\n",
       "    Captive? Combined populations?       Genus      Species  \\\n",
       "195      NaN                   NaN        Emys  orbicularis   \n",
       "196      NaN                   NaN        Emys  orbicularis   \n",
       "403      NaN                   NaN    Mauremys     rivulata   \n",
       "404      NaN                   NaN    Mauremys     rivulata   \n",
       "633      NaN                   NaN  Agrionemys  horsfieldii   \n",
       "\n",
       "                Common Name        Family          ...            \\\n",
       "195    European Pond Turtle      Emydidae          ...             \n",
       "196    European pond turtle      Emydidae          ...             \n",
       "403  Western Caspian turtle   Geoemydidae          ...             \n",
       "404  Western Caspian turtle   Geoemydidae          ...             \n",
       "633  Central Asian tortoise  Testudinidae          ...             \n",
       "\n",
       "     F Max Mass (g)  Pop Max Mass (g) M Max SCL (mm) F Max SCL (mm)  \\\n",
       "195           750.7             750.7          156.8          166.6   \n",
       "196           680.0             680.0          138.0          162.0   \n",
       "403           823.0             823.0          142.0           18.1   \n",
       "404           878.0             878.0          205.0          188.0   \n",
       "633             NaN               NaN            NaN            NaN   \n",
       "\n",
       "     Pop Max SCL (mm)  KWR notes  \\\n",
       "195             166.6        NaN   \n",
       "196             162.0        NaN   \n",
       "403              18.1        NaN   \n",
       "404             205.0        NaN   \n",
       "633               NaN        NaN   \n",
       "\n",
       "                                           Mass Source  SCL Original Source  \\\n",
       "195  Ayaz, D., Fritz, U., Atatur, M. K., Mermer, A....                  NaN   \n",
       "196  Auer, M., and E. Taskavak. 2004. Population St...                  NaN   \n",
       "403  Güçlü, O., and O. Türkozan. 2010. Population S...                  NaN   \n",
       "404  Auer, M., and E. Taskavak. 2004. Population St...                  NaN   \n",
       "633  Ataev, C.A. 1997. Reptiles of the autonomous r...                  NaN   \n",
       "\n",
       "     SCL Dataset Source  secondary mass source  \n",
       "195                 NaN                    NaN  \n",
       "196                 NaN                    NaN  \n",
       "403                 NaN                    NaN  \n",
       "404                 NaN                    NaN  \n",
       "633                 NaN                    NaN  \n",
       "\n",
       "[5 rows x 27 columns]"
      ]
     },
     "execution_count": 6,
     "metadata": {},
     "output_type": "execute_result"
    }
   ],
   "source": [
    "Cherepashki_Turkii=D[D.Locality.str.contains('Turk')==True]\n",
    "Cherepashki_Turkii"
   ]
  },
  {
   "cell_type": "markdown",
   "metadata": {},
   "source": [
    "Чтобы получить информацию по конкретной записи можно использовать индекс. В данном случае индекс строчки - это ее номер, а индекс колонки - это ее название."
   ]
  },
  {
   "cell_type": "code",
   "execution_count": 7,
   "metadata": {},
   "outputs": [
    {
     "data": {
      "text/plain": [
       "u'Ataev, C.A. 1997. Reptiles of the autonomous republic of Turkmenistan. Chelonian Conservation and Biology 2:627-634.'"
      ]
     },
     "execution_count": 7,
     "metadata": {},
     "output_type": "execute_result"
    }
   ],
   "source": [
    "D.ix[633,'Mass Source']"
   ]
  },
  {
   "cell_type": "markdown",
   "metadata": {},
   "source": [
    "Для удобства можно указывать только список нужных колонок, выписав их в отдельную переменную."
   ]
  },
  {
   "cell_type": "code",
   "execution_count": 8,
   "metadata": {},
   "outputs": [
    {
     "data": {
      "text/plain": [
       "Genus                                                 Agrionemys\n",
       "Species                                              horsfieldii\n",
       "Common Name                               Central Asian tortoise\n",
       "Family                                              Testudinidae\n",
       "M Mass (g)                                                 684.5\n",
       "F Mass (g)                                                  1223\n",
       "N                                                            NaN\n",
       "Locality                                            Turkmenistan\n",
       "M SCL (mm)                                                   NaN\n",
       "F SCL (mm)                                                   NaN\n",
       "Mass Source    Ataev, C.A. 1997. Reptiles of the autonomous r...\n",
       "Name: 633, dtype: object"
      ]
     },
     "execution_count": 8,
     "metadata": {},
     "output_type": "execute_result"
    }
   ],
   "source": [
    "kk=['Genus','Species','Common Name','Family','M Mass (g)','F Mass (g)','N','Locality','M SCL (mm)','F SCL (mm)','Mass Source']\n",
    "D.ix[633,kk]"
   ]
  },
  {
   "cell_type": "markdown",
   "metadata": {},
   "source": [
    "Для выборки центральноазиатских черепах, описанной в работе Атаева (1997), указываются только средние показатели массы самок и самцов, а измерений длины карапакса (`M SCL (mm)`, `F SCL (mm)`)  нет, поэтому на месте отсутствующих данных специальное число без значения `NaN`"
   ]
  },
  {
   "cell_type": "markdown",
   "metadata": {},
   "source": [
    "Кроме средних значений размеров и массы, которые использованы для проверки правила Ренча, интерес представляют колонки с максимально зарегистрированным размером для особей разных полов и для популяций в целом.\n",
    "```\n",
    "M Max Mass (g)                                  126 non-null float64\n",
    "F Max Mass (g)                                  127 non-null float64\n",
    "Pop Max Mass (g)                                113 non-null float64\n",
    "M Max SCL (mm)                                  271 non-null float64\n",
    "F Max SCL (mm)                                  272 non-null float64\n",
    "Pop Max SCL (mm)                                125 non-null float64 \n",
    "```"
   ]
  },
  {
   "cell_type": "markdown",
   "metadata": {},
   "source": [
    "Прочие колонки (первые шесть и последние 5) содержат информацию с уточнением обстоятельств получения данных для данных случаев.\n",
    "Это так называемая *мета-информация*.\n",
    "Малоинформативные колонки можно вообще удалить из рабочей таблицы на время анализа."
   ]
  },
  {
   "cell_type": "code",
   "execution_count": 9,
   "metadata": {},
   "outputs": [],
   "source": [
    "#D=D.iloc[:,6:-5]"
   ]
  }
 ],
 "metadata": {
  "kernelspec": {
   "display_name": "Python 3",
   "language": "python",
   "name": "python3"
  },
  "language_info": {
   "codemirror_mode": {
    "name": "ipython",
    "version": 3
   },
   "file_extension": ".py",
   "mimetype": "text/x-python",
   "name": "python",
   "nbconvert_exporter": "python",
   "pygments_lexer": "ipython3",
   "version": "3.9.0rc1"
  },
  "toc": {
   "base_numbering": 1,
   "nav_menu": {
    "height": "12px",
    "width": "252px"
   },
   "number_sections": false,
   "sideBar": true,
   "skip_h1_title": false,
   "title_cell": "Table of Contents",
   "title_sidebar": "Contents",
   "toc_cell": false,
   "toc_position": {},
   "toc_section_display": "block",
   "toc_window_display": false
  }
 },
 "nbformat": 4,
 "nbformat_minor": 2
}
