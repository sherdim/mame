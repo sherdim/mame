{
 "cells": [
  {
   "cell_type": "markdown",
   "metadata": {},
   "source": [
    "Актуальные данные от Федеральная служба государственной статистики доступны на [Интерактивная витрина](http://cbsd.gks.ru/)\n",
    "\n",
    "Мы возьмем данные с сайта \"софист\" ВШЭ:\n",
    "[Среднедушевые денежные доходы населения](http://sophist.hse.ru/exes/tables/HHI_Y_DIRI.htm)\n"
   ]
  },
  {
   "cell_type": "code",
   "execution_count": 1,
   "metadata": {
    "collapsed": true
   },
   "outputs": [],
   "source": [
    "import pandas as pd\n",
    "from io import StringIO"
   ]
  },
  {
   "cell_type": "code",
   "execution_count": 18,
   "metadata": {
    "collapsed": false
   },
   "outputs": [],
   "source": [
    "%matplotlib inline"
   ]
  },
  {
   "cell_type": "code",
   "execution_count": 9,
   "metadata": {
    "collapsed": false
   },
   "outputs": [
    {
     "data": {
      "text/html": [
       "<div>\n",
       "<table border=\"1\" class=\"dataframe\">\n",
       "  <thead>\n",
       "    <tr style=\"text-align: right;\">\n",
       "      <th></th>\n",
       "      <th>T</th>\n",
       "      <th>HHI_C_Y</th>\n",
       "      <th>HHI_R_Y</th>\n",
       "    </tr>\n",
       "  </thead>\n",
       "  <tbody>\n",
       "    <tr>\n",
       "      <th>0</th>\n",
       "      <td>1993</td>\n",
       "      <td>45,2</td>\n",
       "      <td>116,0</td>\n",
       "    </tr>\n",
       "    <tr>\n",
       "      <th>1</th>\n",
       "      <td>1994</td>\n",
       "      <td>206,3</td>\n",
       "      <td>131,1</td>\n",
       "    </tr>\n",
       "    <tr>\n",
       "      <th>2</th>\n",
       "      <td>1995</td>\n",
       "      <td>515,5</td>\n",
       "      <td>111,4</td>\n",
       "    </tr>\n",
       "    <tr>\n",
       "      <th>3</th>\n",
       "      <td>1996</td>\n",
       "      <td>770,0</td>\n",
       "      <td>112,5</td>\n",
       "    </tr>\n",
       "    <tr>\n",
       "      <th>4</th>\n",
       "      <td>1997</td>\n",
       "      <td>942,1</td>\n",
       "      <td>119,1</td>\n",
       "    </tr>\n",
       "    <tr>\n",
       "      <th>5</th>\n",
       "      <td>1998</td>\n",
       "      <td>1013,0</td>\n",
       "      <td>100,1</td>\n",
       "    </tr>\n",
       "    <tr>\n",
       "      <th>6</th>\n",
       "      <td>1999</td>\n",
       "      <td>1658,9</td>\n",
       "      <td>87,8</td>\n",
       "    </tr>\n",
       "    <tr>\n",
       "      <th>7</th>\n",
       "      <td>2000</td>\n",
       "      <td>2281,1</td>\n",
       "      <td>98,4</td>\n",
       "    </tr>\n",
       "    <tr>\n",
       "      <th>8</th>\n",
       "      <td>2001</td>\n",
       "      <td>3062,0</td>\n",
       "      <td>106,9</td>\n",
       "    </tr>\n",
       "    <tr>\n",
       "      <th>9</th>\n",
       "      <td>2002</td>\n",
       "      <td>3947,2</td>\n",
       "      <td>118,8</td>\n",
       "    </tr>\n",
       "    <tr>\n",
       "      <th>10</th>\n",
       "      <td>2003</td>\n",
       "      <td>5167,4</td>\n",
       "      <td>136,6</td>\n",
       "    </tr>\n",
       "    <tr>\n",
       "      <th>11</th>\n",
       "      <td>2004</td>\n",
       "      <td>6399,0</td>\n",
       "      <td>150,8</td>\n",
       "    </tr>\n",
       "    <tr>\n",
       "      <th>12</th>\n",
       "      <td>2005</td>\n",
       "      <td>8088,3</td>\n",
       "      <td>169,5</td>\n",
       "    </tr>\n",
       "    <tr>\n",
       "      <th>13</th>\n",
       "      <td>2006</td>\n",
       "      <td>10154,8</td>\n",
       "      <td>192,4</td>\n",
       "    </tr>\n",
       "    <tr>\n",
       "      <th>14</th>\n",
       "      <td>2007</td>\n",
       "      <td>12540,2</td>\n",
       "      <td>215,7</td>\n",
       "    </tr>\n",
       "    <tr>\n",
       "      <th>15</th>\n",
       "      <td>2008</td>\n",
       "      <td>14863,6</td>\n",
       "      <td>220,8</td>\n",
       "    </tr>\n",
       "    <tr>\n",
       "      <th>16</th>\n",
       "      <td>2009</td>\n",
       "      <td>16895,0</td>\n",
       "      <td>227,5</td>\n",
       "    </tr>\n",
       "    <tr>\n",
       "      <th>17</th>\n",
       "      <td>2010</td>\n",
       "      <td>18958,4</td>\n",
       "      <td>240,9</td>\n",
       "    </tr>\n",
       "    <tr>\n",
       "      <th>18</th>\n",
       "      <td>2011</td>\n",
       "      <td>20780,0</td>\n",
       "      <td>242,1</td>\n",
       "    </tr>\n",
       "    <tr>\n",
       "      <th>19</th>\n",
       "      <td>2012</td>\n",
       "      <td>23221,1</td>\n",
       "      <td>253,2</td>\n",
       "    </tr>\n",
       "    <tr>\n",
       "      <th>20</th>\n",
       "      <td>2013</td>\n",
       "      <td>25928,2</td>\n",
       "      <td>263,3</td>\n",
       "    </tr>\n",
       "    <tr>\n",
       "      <th>21</th>\n",
       "      <td>2014</td>\n",
       "      <td>27765,7</td>\n",
       "      <td>261,5</td>\n",
       "    </tr>\n",
       "    <tr>\n",
       "      <th>22</th>\n",
       "      <td>2015</td>\n",
       "      <td>30311,0</td>\n",
       "      <td>251,0</td>\n",
       "    </tr>\n",
       "  </tbody>\n",
       "</table>\n",
       "</div>"
      ],
      "text/plain": [
       "       T   HHI_C_Y HHI_R_Y\n",
       "0   1993     45,2    116,0\n",
       "1   1994    206,3    131,1\n",
       "2   1995    515,5    111,4\n",
       "3   1996    770,0    112,5\n",
       "4   1997    942,1    119,1\n",
       "5   1998   1013,0    100,1\n",
       "6   1999   1658,9     87,8\n",
       "7   2000   2281,1     98,4\n",
       "8   2001   3062,0    106,9\n",
       "9   2002   3947,2    118,8\n",
       "10  2003   5167,4    136,6\n",
       "11  2004   6399,0    150,8\n",
       "12  2005   8088,3    169,5\n",
       "13  2006  10154,8    192,4\n",
       "14  2007  12540,2    215,7\n",
       "15  2008  14863,6    220,8\n",
       "16  2009  16895,0    227,5\n",
       "17  2010  18958,4    240,9\n",
       "18  2011  20780,0    242,1\n",
       "19  2012  23221,1    253,2\n",
       "20  2013  25928,2    263,3\n",
       "21  2014  27765,7    261,5\n",
       "22  2015  30311,0    251,0"
      ]
     },
     "execution_count": 9,
     "metadata": {},
     "output_type": "execute_result"
    }
   ],
   "source": [
    "D = pd.read_csv(StringIO('''T\tHHI_C_Y\tHHI_R_Y\n",
    "1993 \t45,2 \t116,0\n",
    "1994 \t206,3 \t131,1\n",
    "1995 \t515,5 \t111,4\n",
    "1996 \t770,0 \t112,5\n",
    "1997 \t942,1 \t119,1\n",
    "1998 \t1013,0 \t100,1\n",
    "1999 \t1658,9 \t87,8\n",
    "2000 \t2281,1 \t98,4\n",
    "2001 \t3062,0 \t106,9\n",
    "2002 \t3947,2 \t118,8\n",
    "2003 \t5167,4 \t136,6\n",
    "2004 \t6399,0 \t150,8\n",
    "2005 \t8088,3 \t169,5\n",
    "2006 \t10154,8 \t192,4\n",
    "2007 \t12540,2 \t215,7\n",
    "2008 \t14863,6 \t220,8\n",
    "2009 \t16895,0 \t227,5\n",
    "2010 \t18958,4 \t240,9\n",
    "2011 \t20780,0 \t242,1\n",
    "2012 \t23221,1 \t253,2\n",
    "2013 \t25928,2 \t263,3\n",
    "2014 \t27765,7 \t261,5\n",
    "2015 \t30311,0 \t251,0\n",
    "'''), delimiter='\\t')\n",
    "D"
   ]
  },
  {
   "cell_type": "code",
   "execution_count": 14,
   "metadata": {
    "collapsed": false
   },
   "outputs": [],
   "source": [
    "D.HHI_R_Y = pd.to_numeric(D.HHI_R_Y.str.replace(',','.'))"
   ]
  },
  {
   "cell_type": "code",
   "execution_count": 20,
   "metadata": {
    "collapsed": false
   },
   "outputs": [
    {
     "data": {
      "image/png": "[encoded data removed]",
      "text/plain": [
       "<matplotlib.figure.Figure at 0xaa83fd0>"
      ]
     },
     "metadata": {},
     "output_type": "display_data"
    }
   ],
   "source": [
    "D.plot('T','HHI_R_Y');"
   ]
  },
  {
   "cell_type": "markdown",
   "metadata": {},
   "source": [
    "Помесячная динамика\n",
    "\n",
    "http://sophist.hse.ru/exes/tables/HHI_M_I.htm"
   ]
  },
  {
   "cell_type": "code",
   "execution_count": null,
   "metadata": {
    "collapsed": true
   },
   "outputs": [],
   "source": []
  }
 ],
 "metadata": {
  "kernelspec": {
   "display_name": "Python 3",
   "language": "python",
   "name": "python3"
  },
  "language_info": {
   "codemirror_mode": {
    "name": "ipython",
    "version": 3
   },
   "file_extension": ".py",
   "mimetype": "text/x-python",
   "name": "python",
   "nbconvert_exporter": "python",
   "pygments_lexer": "ipython3",
   "version": "3.5.2"
  }
 },
 "nbformat": 4,
 "nbformat_minor": 0
}
