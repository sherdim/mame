{
 "cells": [
  {
   "cell_type": "markdown",
   "metadata": {
    "deletable": true,
    "editable": true
   },
   "source": [
    "# Обработка сигнала ЭКГ "
   ]
  },
  {
   "cell_type": "markdown",
   "metadata": {
    "deletable": true,
    "editable": true
   },
   "source": [
    "Допустим, вам прислали для сравнения две записи ЭКГ. Специалист, получивший эти записи, работал в MATLAB, где он создал инфраструктуру для манипуляции множества записей. Две из них в формате `struct` он сохранил в формате MATLAB и передал Вам."
   ]
  },
  {
   "cell_type": "code",
   "execution_count": 1,
   "metadata": {
    "collapsed": false,
    "deletable": true,
    "editable": true
   },
   "outputs": [
    {
     "name": "stdout",
     "output_type": "stream",
     "text": [
      "Populating the interactive namespace from numpy and matplotlib\n"
     ]
    }
   ],
   "source": [
    "%pylab inline\n",
    "import pandas as pd\n",
    "from ipywidgets import interact"
   ]
  },
  {
   "cell_type": "markdown",
   "metadata": {
    "deletable": true,
    "editable": true
   },
   "source": [
    "Функция для загрузки файлов в формате MATLAB есть в пакете `scipy`."
   ]
  },
  {
   "cell_type": "code",
   "execution_count": 2,
   "metadata": {
    "collapsed": true,
    "deletable": true,
    "editable": true
   },
   "outputs": [],
   "source": [
    "import scipy.io\n",
    "import scipy.signal"
   ]
  },
  {
   "cell_type": "code",
   "execution_count": 3,
   "metadata": {
    "collapsed": false,
    "deletable": true,
    "editable": true
   },
   "outputs": [
    {
     "data": {
      "text/plain": [
       "['ecg2', '__version__', 'ecg1', '__header__', '__globals__']"
      ]
     },
     "execution_count": 3,
     "metadata": {},
     "output_type": "execute_result"
    }
   ],
   "source": [
    "u=r'ecg.mat'\n",
    "o=scipy.io.loadmat(u)\n",
    "o.keys()"
   ]
  },
  {
   "cell_type": "markdown",
   "metadata": {
    "deletable": true,
    "editable": true
   },
   "source": [
    "Поля, начинающиеся с двойных подчеркиваний, содержат метаданные файла."
   ]
  },
  {
   "cell_type": "code",
   "execution_count": 4,
   "metadata": {
    "collapsed": false,
    "deletable": true,
    "editable": true
   },
   "outputs": [
    {
     "data": {
      "text/plain": [
       "'MATLAB 5.0 MAT-file, Platform: PCWIN64, Created on: Wed Nov 27 19:56:09 2013'"
      ]
     },
     "execution_count": 4,
     "metadata": {},
     "output_type": "execute_result"
    }
   ],
   "source": [
    "o['__header__']"
   ]
  },
  {
   "cell_type": "markdown",
   "metadata": {
    "deletable": true,
    "editable": true
   },
   "source": [
    "Кроме метаданных в файле две переменные: 'ecg1' и 'ecg2'"
   ]
  },
  {
   "cell_type": "code",
   "execution_count": 5,
   "metadata": {
    "collapsed": false,
    "deletable": true,
    "editable": true
   },
   "outputs": [
    {
     "data": {
      "text/plain": [
       "dtype([('data', 'O'), ('name', 'O'), ('name_col', 'O'), ('type', 'O'), ('units', 'O'), ('freq', 'O'), ('source', 'O'), ('date', 'O'), ('begin_time', 'O'), ('version', 'O'), ('data_quality', 'O'), ('history', 'O')])"
      ]
     },
     "execution_count": 5,
     "metadata": {},
     "output_type": "execute_result"
    }
   ],
   "source": [
    "o['ecg1'].dtype"
   ]
  },
  {
   "cell_type": "code",
   "execution_count": 6,
   "metadata": {
    "collapsed": false,
    "deletable": true,
    "editable": true
   },
   "outputs": [
    {
     "data": {
      "text/plain": [
       "True"
      ]
     },
     "execution_count": 6,
     "metadata": {},
     "output_type": "execute_result"
    }
   ],
   "source": [
    "o['ecg1'].dtype == o['ecg2'].dtype"
   ]
  },
  {
   "cell_type": "markdown",
   "metadata": {
    "deletable": true,
    "editable": true
   },
   "source": [
    "По-умолчанию, переменная формата `struct` - структура, загружается в формате записи `numpy`: 1 структура - 1 запись."
   ]
  },
  {
   "cell_type": "code",
   "execution_count": 7,
   "metadata": {
    "collapsed": false,
    "deletable": true,
    "editable": true
   },
   "outputs": [
    {
     "data": {
      "text/plain": [
       "(1, 1)"
      ]
     },
     "execution_count": 7,
     "metadata": {},
     "output_type": "execute_result"
    }
   ],
   "source": [
    "o['ecg1'].shape"
   ]
  },
  {
   "cell_type": "code",
   "execution_count": 8,
   "metadata": {
    "collapsed": false,
    "deletable": true,
    "editable": true
   },
   "outputs": [
    {
     "data": {
      "text/plain": [
       "dict_proxy({'begin_time': (dtype('O'), 32),\n",
       "            'data': (dtype('O'), 0),\n",
       "            'data_quality': (dtype('O'), 40),\n",
       "            'date': (dtype('O'), 28),\n",
       "            'freq': (dtype('O'), 20),\n",
       "            'history': (dtype('O'), 44),\n",
       "            'name': (dtype('O'), 4),\n",
       "            'name_col': (dtype('O'), 8),\n",
       "            'source': (dtype('O'), 24),\n",
       "            'type': (dtype('O'), 12),\n",
       "            'units': (dtype('O'), 16),\n",
       "            'version': (dtype('O'), 36)})"
      ]
     },
     "execution_count": 8,
     "metadata": {},
     "output_type": "execute_result"
    }
   ],
   "source": [
    "o['ecg1'].dtype.fields"
   ]
  },
  {
   "cell_type": "code",
   "execution_count": 9,
   "metadata": {
    "collapsed": false,
    "deletable": true,
    "editable": true
   },
   "outputs": [
    {
     "data": {
      "text/plain": [
       "begin_time                                                      0\n",
       "data            [-6669.0, -6743.0, -6810.0, -6729.0, -6636.0, ...\n",
       "data_quality                                                    4\n",
       "date                                                  22-Apr-2010\n",
       "freq                                                          250\n",
       "history                                 Created by eegdata2oECG 1\n",
       "name                                          Электрокардиограмма\n",
       "name_col                                                      ecg\n",
       "source                                                         []\n",
       "type                                                            1\n",
       "units                                                          mV\n",
       "version                                                      5.16\n",
       "dtype: object"
      ]
     },
     "execution_count": 9,
     "metadata": {},
     "output_type": "execute_result"
    }
   ],
   "source": [
    "d={k:o['ecg1'][0][0][k].squeeze() for k in o['ecg1'].dtype.fields}  #.squeeze() чтобы убрать лишние измерения\n",
    "d=pd.Series(d)\n",
    "d"
   ]
  },
  {
   "cell_type": "markdown",
   "metadata": {},
   "source": [
    "Очевидно данные находятся в поле `data`."
   ]
  },
  {
   "cell_type": "code",
   "execution_count": 10,
   "metadata": {
    "collapsed": false,
    "deletable": true,
    "editable": true
   },
   "outputs": [
    {
     "data": {
      "text/plain": [
       "(78000,)"
      ]
     },
     "execution_count": 10,
     "metadata": {},
     "output_type": "execute_result"
    },
    {
     "data": {
      "image/png": "[encoded data removed]",
      "text/plain": [
       "<matplotlib.figure.Figure at 0x12d40370>"
      ]
     },
     "metadata": {},
     "output_type": "display_data"
    }
   ],
   "source": [
    "y=(d['data'])\n",
    "plot(y)\n",
    "y.shape"
   ]
  },
  {
   "cell_type": "markdown",
   "metadata": {},
   "source": [
    "Посмотрим фрагмент подробнее."
   ]
  },
  {
   "cell_type": "code",
   "execution_count": 11,
   "metadata": {
    "collapsed": false
   },
   "outputs": [
    {
     "data": {
      "image/png": "[encoded data removed]",
      "text/plain": [
       "<matplotlib.figure.Figure at 0x12d23a90>"
      ]
     },
     "metadata": {},
     "output_type": "display_data"
    }
   ],
   "source": [
    "plot(d['data'][17000:18000]);"
   ]
  },
  {
   "cell_type": "markdown",
   "metadata": {},
   "source": [
    "Да это же кардиограмма! Мы знаем, что сердце бъется примерно один раз в секунду, однако числа по оси Ox не похожи ни на секунды, ни на миллисекунды."
   ]
  },
  {
   "cell_type": "markdown",
   "metadata": {
    "deletable": true,
    "editable": true
   },
   "source": [
    "В поле `freq` мы обнаруживаем частоту сигнала."
   ]
  },
  {
   "cell_type": "code",
   "execution_count": 12,
   "metadata": {
    "collapsed": false,
    "deletable": true,
    "editable": true
   },
   "outputs": [
    {
     "data": {
      "text/plain": [
       "250.0"
      ]
     },
     "execution_count": 12,
     "metadata": {},
     "output_type": "execute_result"
    }
   ],
   "source": [
    "freq=float(d['freq'])\n",
    "freq"
   ]
  },
  {
   "cell_type": "markdown",
   "metadata": {
    "deletable": true,
    "editable": true
   },
   "source": [
    "Для второй записи извлечем данные напрямую, поскольку мы уже изучили структуру данных."
   ]
  },
  {
   "cell_type": "code",
   "execution_count": 13,
   "metadata": {
    "collapsed": false,
    "deletable": true,
    "editable": true
   },
   "outputs": [
    {
     "data": {
      "text/plain": [
       "(150800, 1)"
      ]
     },
     "execution_count": 13,
     "metadata": {},
     "output_type": "execute_result"
    }
   ],
   "source": [
    "y2=o['ecg2'][0][0]['data']\n",
    "y2.shape"
   ]
  },
  {
   "cell_type": "code",
   "execution_count": 14,
   "metadata": {
    "collapsed": false,
    "deletable": true,
    "editable": true
   },
   "outputs": [
    {
     "data": {
      "image/png": "[encoded data removed]",
      "text/plain": [
       "<matplotlib.figure.Figure at 0x12f12630>"
      ]
     },
     "metadata": {},
     "output_type": "display_data"
    }
   ],
   "source": [
    "x=arange(0, len(y)/freq, 1/freq)\n",
    "x2=arange(0, len(y2)/freq, 1/freq)\n",
    "plot(x,y, x2,y2, alpha=.7)\n",
    "xlabel('time, s'); ylabel('ecg, $\\mu V$'); legend(['ecg1','ecg2']);"
   ]
  },
  {
   "cell_type": "markdown",
   "metadata": {
    "deletable": true,
    "editable": true
   },
   "source": [
    "Видно, что первая запись продолжалась около 5 мин, а вторая запись длинее - около 10 мин. При этом в начале записи сильно отклоняются от нуля."
   ]
  },
  {
   "cell_type": "markdown",
   "metadata": {
    "deletable": true,
    "editable": true
   },
   "source": [
    "Чтобы убрать колебания изолинии - профильтруем сигнал фильтром низких частот."
   ]
  },
  {
   "cell_type": "code",
   "execution_count": 15,
   "metadata": {
    "collapsed": false,
    "deletable": true,
    "editable": true
   },
   "outputs": [
    {
     "data": {
      "image/png": "[encoded data removed]",
      "text/plain": [
       "<matplotlib.figure.Figure at 0x13098950>"
      ]
     },
     "metadata": {},
     "output_type": "display_data"
    }
   ],
   "source": [
    "# делаем фильтр с пропусканием выше 2 Гц\n",
    "b, a = scipy.signal.firwin(freq/2, 2/(freq/2), pass_zero=False), 1\n",
    "# запускаем фильтр без сдвига фазы\n",
    "yf = scipy.signal.filtfilt(b,a,y)\n",
    "# смотрим эффект на картинке\n",
    "plot(x,y, x,yf,'r');\n",
    "xlabel('time, s'); ylabel('ecg, $\\mu V$'); legend(['ecg1','ecg1 filtered']);"
   ]
  },
  {
   "cell_type": "markdown",
   "metadata": {
    "deletable": true,
    "editable": true
   },
   "source": [
    "Посмотрим поближе на фрагмент записи, чтобы определить надежный порог для поиска R-зубцов."
   ]
  },
  {
   "cell_type": "code",
   "execution_count": 16,
   "metadata": {
    "collapsed": false,
    "deletable": true,
    "editable": true
   },
   "outputs": [
    {
     "data": {
      "image/png": "[encoded data removed]",
      "text/plain": [
       "<matplotlib.figure.Figure at 0x1361b650>"
      ]
     },
     "metadata": {},
     "output_type": "display_data"
    }
   ],
   "source": [
    "t0 = 58 # начальная точка просмотра, попробуйте поменять\n",
    "porog=1200\n",
    "\n",
    "i0=int(t0*freq)\n",
    "ii=slice(i0,i0+int(4*freq))\n",
    "plot(x[ii],yf[ii],'r');\n",
    "\n",
    "hlines(porog, x[ii][0], x[ii][-1], 'k','--');"
   ]
  },
  {
   "cell_type": "markdown",
   "metadata": {
    "deletable": true,
    "editable": true
   },
   "source": [
    "Следующий шаг после подбора порогового значения (показан пунктиром на пред. рисунке) - выделить участки выше порога и найти их пиковые значения.\n",
    "\n",
    "Конечно же существуют специальные пакеты для подсчета пульса по записи ЭКГ с учетом инверсии сигнала, помех и т.д.\n",
    "\n",
    "Данный алгоритм служит для демонстрации принципов анализа сигналов."
   ]
  },
  {
   "cell_type": "code",
   "execution_count": 17,
   "metadata": {
    "collapsed": false,
    "deletable": true,
    "editable": true
   },
   "outputs": [
    {
     "data": {
      "image/png": "[encoded data removed]",
      "text/plain": [
       "<matplotlib.figure.Figure at 0x12e87550>"
      ]
     },
     "metadata": {},
     "output_type": "display_data"
    }
   ],
   "source": [
    "# находим участки сигнала выше порога\n",
    "\n",
    "#вначале один\n",
    "i=500\n",
    "iStart = i + argmax(yf[i:] > porog)\n",
    "iEnd = iStart + argmin(yf[iStart:] > porog)\n",
    "ii=slice(iStart,iEnd)\n",
    "plot(x[ii],yf[ii],'r');\n",
    "\n",
    "iR= iStart + argmax(yf[ii])\n",
    "plot(x[iR], yf[iR], 'bo');"
   ]
  },
  {
   "cell_type": "code",
   "execution_count": 18,
   "metadata": {
    "collapsed": false,
    "deletable": true,
    "editable": true
   },
   "outputs": [
    {
     "data": {
      "text/plain": [
       "376"
      ]
     },
     "execution_count": 18,
     "metadata": {},
     "output_type": "execute_result"
    }
   ],
   "source": [
    "# теперь повторим это для всех участков\n",
    "# введем мертвую зону 400 мс, чтобы не попадать на высокие Т-зубцы\n",
    "nDead=int(0.4*freq)\n",
    "\n",
    "rr=[]\n",
    "\n",
    "i=0\n",
    "while i< len(yf):\n",
    "    iStart = i + argmax(yf[i:] > porog)\n",
    "    if iStart == i:\n",
    "        break\n",
    "    iEnd = iStart + argmin(yf[iStart:] > porog)\n",
    "    ii=slice(iStart,iEnd)\n",
    "    iR= iStart + argmax(yf[ii])\n",
    "\n",
    "    _r=[x[iR], yf[iR]]\n",
    "    rr.append(_r)\n",
    "    \n",
    "    i=iEnd+nDead  #следующий фрагмент\n",
    "\n",
    "rr.__len__()"
   ]
  },
  {
   "cell_type": "markdown",
   "metadata": {
    "deletable": true,
    "editable": true
   },
   "source": [
    "Можно оптимизировать алгоритм, уменьшив фрагмент ЭКГ для поиска следующего максимума, ведь мы знаем что сердце не может не биться более 2 секунд. Для этого надо задать конечный индекс по формуле `i + int(2*freq)`, однако надо еще сделать проверку - не находимся ли мы близко к концу массива. Оптимизировать и сравнить прирост производительности можете сами."
   ]
  },
  {
   "cell_type": "code",
   "execution_count": 19,
   "metadata": {
    "collapsed": false,
    "deletable": true,
    "editable": true
   },
   "outputs": [
    {
     "data": {
      "image/png": "[encoded data removed]",
      "text/plain": [
       "<matplotlib.figure.Figure at 0x12d40f30>"
      ]
     },
     "metadata": {},
     "output_type": "display_data"
    }
   ],
   "source": [
    "rr = array(rr)\n",
    "hist(rr[:,1]); xlabel('Амплитуда пиков, мкВ'); ylabel('Частота');"
   ]
  },
  {
   "cell_type": "markdown",
   "metadata": {
    "deletable": true,
    "editable": true
   },
   "source": [
    "Выделяются два вида зубцов - высокие и низкие (примерно в половину от амплитуды высоких).\n",
    "\n",
    "Посмотрим как варьируют интервалы между найденными зубцами."
   ]
  },
  {
   "cell_type": "code",
   "execution_count": 20,
   "metadata": {
    "collapsed": false,
    "deletable": true,
    "editable": true
   },
   "outputs": [
    {
     "data": {
      "image/png": "[encoded data removed]",
      "text/plain": [
       "<matplotlib.figure.Figure at 0x1333c490>"
      ]
     },
     "metadata": {},
     "output_type": "display_data"
    }
   ],
   "source": [
    "drr=diff(rr[:,0])\n",
    "hist(drr); xlabel('Интервалы между сердечными сокращениями, с'); ylabel('Частота');"
   ]
  },
  {
   "cell_type": "markdown",
   "metadata": {
    "deletable": true,
    "editable": true
   },
   "source": [
    "Нарушения ритма могут иметь разные причины. Один из подходов - сопоставить аномальный сердечный цикл с соседними, например, с предыдущим. Для наглядности отложим по горизонтальной оси длительность интервала, а по вертикальной - длительность предыдущего по отношению к нему."
   ]
  },
  {
   "cell_type": "code",
   "execution_count": 21,
   "metadata": {
    "collapsed": false,
    "deletable": true,
    "editable": true
   },
   "outputs": [
    {
     "data": {
      "image/png": "[encoded data removed]",
      "text/plain": [
       "<matplotlib.figure.Figure at 0x13351710>"
      ]
     },
     "metadata": {},
     "output_type": "display_data"
    }
   ],
   "source": [
    "scatter(drr[1:], drr[:-1]);"
   ]
  },
  {
   "cell_type": "markdown",
   "metadata": {
    "deletable": true,
    "editable": true
   },
   "source": [
    "Мы видим четкие четыре обособленных группы значений! У этого человека серьезные проблемы с сердечной регуляцией.\n",
    "Подробности см. [Экстрасистолия](http://medicinapediya.ru/kardiologiya_730/ekstrasistoliya16217.html)"
   ]
  },
  {
   "cell_type": "markdown",
   "metadata": {
    "deletable": true,
    "editable": true
   },
   "source": [
    "### +++:\n",
    "\n",
    "Для удобства загрузки данных из `mat`-файлов в виде вложенных структур можно написать несложную обертку."
   ]
  },
  {
   "cell_type": "code",
   "execution_count": 22,
   "metadata": {
    "collapsed": true,
    "deletable": true,
    "editable": true
   },
   "outputs": [],
   "source": [
    "def loadmat(filename, **kwa):\n",
    "    ''' Загружает структуру из mat-файла\n",
    "    \n",
    "    для загрузки определенных переменных:\n",
    "    \n",
    "        variable_names = ['a']  \n",
    "        по-умолчанию None\n",
    "        \n",
    "    '''\n",
    "    #http://stackoverflow.com/questions/7008608/scipy-io-loadmat-nested-structures-i-e-dictionaries\n",
    "    \n",
    "    data = scipy.io.loadmat(filename, struct_as_record=False, squeeze_me=True, **kwa)\n",
    "    return _check_keys(data)\n",
    "\n",
    "def _check_keys(dict):\n",
    "    '''\n",
    "    checks if entries in dictionary are mat-objects. If yes\n",
    "    todict is called to change them to nested dictionaries\n",
    "    '''\n",
    "    for key in dict:\n",
    "        if isinstance(dict[key], scipy.io.matlab.mio5_params.mat_struct):\n",
    "            dict[key] = _todict(dict[key])\n",
    "    return dict        \n",
    "\n",
    "def _todict(matobj):\n",
    "    '''\n",
    "    A recursive function which constructs from matobjects nested dictionaries\n",
    "    '''\n",
    "    dict = {}\n",
    "    for strg in matobj._fieldnames:\n",
    "        elem = matobj.__dict__[strg]\n",
    "        if isinstance(elem, scipy.io.matlab.mio5_params.mat_struct):\n",
    "            dict[strg] = _todict(elem)\n",
    "        else:\n",
    "            dict[strg] = elem\n",
    "    return dict"
   ]
  },
  {
   "cell_type": "code",
   "execution_count": 23,
   "metadata": {
    "collapsed": false,
    "deletable": true,
    "editable": true
   },
   "outputs": [
    {
     "data": {
      "text/plain": [
       "{'__globals__': [],\n",
       " '__header__': 'MATLAB 5.0 MAT-file, Platform: PCWIN64, Created on: Wed Nov 27 19:56:09 2013',\n",
       " '__version__': '1.0',\n",
       " 'ecg1': {'begin_time': 0,\n",
       "  'data': array([-6669., -6743., -6810., ..., -1430., -1328., -1217.], dtype=float32),\n",
       "  'data_quality': 4,\n",
       "  'date': u'22-Apr-2010',\n",
       "  'freq': 250,\n",
       "  'history': u'Created by eegdata2oECG 1',\n",
       "  'name': u'\\u042d\\u043b\\u0435\\u043a\\u0442\\u0440\\u043e\\u043a\\u0430\\u0440\\u0434\\u0438\\u043e\\u0433\\u0440\\u0430\\u043c\\u043c\\u0430',\n",
       "  'name_col': u'ecg',\n",
       "  'source': array([], dtype=float64),\n",
       "  'type': 1,\n",
       "  'units': u'mV',\n",
       "  'version': u'5.16'},\n",
       " 'ecg2': {'begin_time': 0,\n",
       "  'data': array([  5.,  -3., -33., ..., -43.,  27.,  69.], dtype=float32),\n",
       "  'data_quality': 4,\n",
       "  'date': u'25-Jun-2010',\n",
       "  'freq': 250,\n",
       "  'history': u'Created by eegdata2oECG 1',\n",
       "  'name': u'\\u042d\\u043b\\u0435\\u043a\\u0442\\u0440\\u043e\\u043a\\u0430\\u0440\\u0434\\u0438\\u043e\\u0433\\u0440\\u0430\\u043c\\u043c\\u0430',\n",
       "  'name_col': u'ecg',\n",
       "  'source': array([], dtype=float64),\n",
       "  'type': 1,\n",
       "  'units': u'mV',\n",
       "  'version': u'5.16'}}"
      ]
     },
     "execution_count": 23,
     "metadata": {},
     "output_type": "execute_result"
    }
   ],
   "source": [
    "u=r'ecg.mat'\n",
    "loadmat(u)"
   ]
  }
 ],
 "metadata": {
  "kernelspec": {
   "display_name": "Python 2",
   "language": "python",
   "name": "python3"
  },
  "language_info": {
   "codemirror_mode": {
    "name": "ipython",
    "version": 2
   },
   "file_extension": ".py",
   "mimetype": "text/x-python",
   "name": "python",
   "nbconvert_exporter": "python",
   "pygments_lexer": "ipython2",
   "version": "2.7.9"
  },
  "toc": {
   "colors": {
    "hover_highlight": "#DAA520",
    "running_highlight": "#FF0000",
    "selected_highlight": "#FFD700"
   },
   "moveMenuLeft": true,
   "nav_menu": {
    "height": "49px",
    "width": "252px"
   },
   "navigate_menu": true,
   "number_sections": false,
   "sideBar": true,
   "threshold": 4,
   "toc_cell": false,
   "toc_section_display": "block",
   "toc_window_display": false
  }
 },
 "nbformat": 4,
 "nbformat_minor": 0
}
