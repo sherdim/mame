{
 "cells": [
  {
   "cell_type": "markdown",
   "metadata": {},
   "source": [
    "# ПО для простейшего анализа данных"
   ]
  },
  {
   "cell_type": "markdown",
   "metadata": {},
   "source": [
    "Для простейшего анализа данных необходимо загрузить данные и посчитать статистику. Эти возможности предоставляет в наши дни ПО на любых языках создававшееся для любой исходной задачи.\n",
    "\n",
    "Особенности использования и связанные с этим ограничения того или иного пакета определяются историей развития ПО. \n",
    "\n",
    "Ниже ссылки на ПО сгруппированы по языку программирования, на котором необходимо задавать команды выполнения анализа."
   ]
  },
  {
   "cell_type": "markdown",
   "metadata": {},
   "source": [
    "## JavaScript\n",
    "Язык для динамического управления элементами веб-браузера. Возник для создания анимаций и интерактивных манипуляций на веб-страницах. В наши дни развился до полноценного языка, выполняемого и на клиентской ([браузер](https://www.mozilla.org/ru/firefox/new/)), и на серверной стороне (платформа [Node.js](https://ru.wikipedia.org/wiki/Node.js)) веб-приложений. Доступен в любом браузере в любой системе (в т.ч. Android, SmartTV). Предустановлен на уровне ОС в Windows.\n",
    "\n",
    "[datalib](https://github.com/vega/datalib) - библиотека утилит для загрузки и статистического анализа"
   ]
  },
  {
   "cell_type": "code",
   "execution_count": null,
   "metadata": {
    "collapsed": true
   },
   "outputs": [],
   "source": []
  }
 ],
 "metadata": {
  "kernelspec": {
   "display_name": "Python 2",
   "language": "python",
   "name": "python2"
  },
  "language_info": {
   "codemirror_mode": {
    "name": "ipython",
    "version": 2
   },
   "file_extension": ".py",
   "mimetype": "text/x-python",
   "name": "python",
   "nbconvert_exporter": "python",
   "pygments_lexer": "ipython2",
   "version": "2.7.11"
  }
 },
 "nbformat": 4,
 "nbformat_minor": 2
}
