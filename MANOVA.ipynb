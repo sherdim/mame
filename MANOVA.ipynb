{
 "cells": [
  {
   "cell_type": "markdown",
   "metadata": {},
   "source": [
    "## theory\n",
    "\n",
    "prepare data\n",
    "\n",
    "https://www.statmethods.net/stats/anovaAssumptions.html"
   ]
  },
  {
   "cell_type": "markdown",
   "metadata": {},
   "source": [
    "SS I  vs  SS III\n",
    "\n",
    "https://stats.stackexchange.com/a/11132/59799"
   ]
  },
  {
   "cell_type": "markdown",
   "metadata": {},
   "source": [
    "from general to specific\n",
    "\n",
    "```\n",
    "omnibus ->  post-hoc\n",
    "```"
   ]
  },
  {
   "cell_type": "markdown",
   "metadata": {},
   "source": [
    "## default\n",
    "```\n",
    "results = manova(cbind(rt, q) ~ task*cond, subject='subj', data=D)\n",
    "summary.aov(results)\n",
    "summary(results)\n",
    "```"
   ]
  },
  {
   "cell_type": "markdown",
   "metadata": {},
   "source": [
    "## car\n",
    "\n",
    "https://ase.tufts.edu/gsc/gradresources/guidetomixedmodelsinr/mixed%20model%20guide.html"
   ]
  },
  {
   "cell_type": "markdown",
   "metadata": {},
   "source": [
    "## lmer4\n",
    "\n",
    "```\n",
    "library(car)\n",
    "options(contrasts=c(\"contr.sum\", \"contr.poly\"))\n",
    "mod1 <- lme4::lmer(M ~ B*W + (1 | S), data=dat)\n",
    "car::Anova(mod1, test.statistic=\"F\", type=3)\n",
    "```"
   ]
  },
  {
   "cell_type": "markdown",
   "metadata": {},
   "source": [
    "## MANOVA.RM\n",
    "\n",
    "https://www.rdocumentation.org/packages/MANOVA.RM\n",
    "\n",
    "Implemented are various tests for semi-parametric repeated measures and general MANOVA designs that do neither assume multivariate normality nor covariance homogeneity, i.e., the procedures are applicable for a wide range of general multivariate factorial designs.\n",
    "\n",
    "[PDF](https://cran.r-project.org/web/packages/MANOVA.RM/MANOVA.RM.pdf) | [source](https://github.com/smn74/MANOVA.RM)"
   ]
  }
 ],
 "metadata": {
  "kernelspec": {
   "display_name": "Python 3",
   "language": "python",
   "name": "python3"
  },
  "language_info": {
   "codemirror_mode": {
    "name": "ipython",
    "version": 3
   },
   "file_extension": ".py",
   "mimetype": "text/x-python",
   "name": "python",
   "nbconvert_exporter": "python",
   "pygments_lexer": "ipython3",
   "version": "3.5.2"
  },
  "toc": {
   "base_numbering": 1,
   "nav_menu": {
    "height": "49px",
    "width": "252px"
   },
   "number_sections": false,
   "sideBar": true,
   "skip_h1_title": false,
   "title_cell": "Table of Contents",
   "title_sidebar": "Contents",
   "toc_cell": false,
   "toc_position": {},
   "toc_section_display": "block",
   "toc_window_display": false
  }
 },
 "nbformat": 4,
 "nbformat_minor": 2
}
