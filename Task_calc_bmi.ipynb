{
 "cells": [
  {
   "cell_type": "markdown",
   "metadata": {},
   "source": [
    "# Расчет весо-ростового коэффициента"
   ]
  },
  {
   "cell_type": "markdown",
   "metadata": {},
   "source": [
    "[Индекс массы тела](https://ru.wikipedia.org/wiki/Индекс_массы_тела) (англ. body mass index (BMI))\n",
    "\n",
    "$$ BMI = \\frac{m}{h^2}$$\n",
    "где:\n",
    "    m — масса тела в килограммах\n",
    "    h — рост в метрах,\n",
    "и измеряется в кг/м².\n",
    "\n",
    "- BMI, равный 17-21, соответствует наименьшей предрасположенности к сердечно-сосудистым заболеваниям;\n",
    "\n",
    "- BMI, превышающий 23, является показателем повышенного риска сердечно-сосудистых заболеваний. \n"
   ]
  },
  {
   "cell_type": "code",
   "execution_count": null,
   "metadata": {},
   "outputs": [],
   "source": [
    "massa = 70.5\n",
    "rost = 184.2\n",
    "massa / (rost/100.) ** 2"
   ]
  },
  {
   "cell_type": "code",
   "execution_count": null,
   "metadata": {},
   "outputs": [],
   "source": [
    "from ipywidgets import *"
   ]
  },
  {
   "cell_type": "code",
   "execution_count": null,
   "metadata": {},
   "outputs": [],
   "source": [
    "wMassa = FloatSlider(min=50.0, max=120.0, step=0.05, value=65.0)\n",
    "wRost = FloatSlider(min=125, max=220, value=184)\n",
    "\n",
    "\n",
    "def printer(rost=170, massa=90):\n",
    "    bmi = massa / (rost/100.) ** 2   #это формула расчета\n",
    "    print('BMI = {} кг/м²'.format(bmi))\n",
    "   \n",
    "interact(printer, rost=wRost, massa=wMassa);"
   ]
  }
 ],
 "metadata": {
  "kernelspec": {
   "display_name": "Python 2",
   "language": "python",
   "name": "python2"
  },
  "language_info": {
   "codemirror_mode": {
    "name": "ipython",
    "version": 2
   },
   "file_extension": ".py",
   "mimetype": "text/x-python",
   "name": "python",
   "nbconvert_exporter": "python",
   "pygments_lexer": "ipython2",
   "version": "2.7.11"
  },
  "toc": {
   "base_numbering": 1,
   "nav_menu": {
    "height": "31px",
    "width": "252px"
   },
   "number_sections": false,
   "sideBar": true,
   "skip_h1_title": false,
   "title_cell": "Table of Contents",
   "title_sidebar": "Contents",
   "toc_cell": false,
   "toc_position": {},
   "toc_section_display": "block",
   "toc_window_display": false
  },
  "widgets": {
   "state": {
    "ae1ddf52cc8f4ac0916f0255364857b3": {
     "views": [
      {
       "cell_index": 4
      }
     ]
    }
   },
   "version": "1.2.0"
  }
 },
 "nbformat": 4,
 "nbformat_minor": 1
}
