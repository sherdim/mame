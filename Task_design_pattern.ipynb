{
 "cells": [
  {
   "cell_type": "code",
   "execution_count": 1,
   "metadata": {},
   "outputs": [
    {
     "name": "stdout",
     "output_type": "stream",
     "text": [
      "Populating the interactive namespace from numpy and matplotlib\n"
     ]
    }
   ],
   "source": [
    "%pylab inline"
   ]
  },
  {
   "cell_type": "markdown",
   "metadata": {},
   "source": [
    "Если умножение матриц нужно выполнить для какой-то длинной последовательности, т.е. как бы растянуть эту операцию вдоль ряда, то можно вместо циклов использовать готовую функцию `tensordot()`"
   ]
  },
  {
   "cell_type": "code",
   "execution_count": 2,
   "metadata": {},
   "outputs": [
    {
     "data": {
      "text/plain": [
       "array([['G', 'C'],\n",
       "       ['A', 'T']], dtype=object)"
      ]
     },
     "execution_count": 2,
     "metadata": {},
     "output_type": "execute_result"
    }
   ],
   "source": [
    "b = np.array(('G','C','A','T'), dtype=object)\n",
    "b.shape=(2,2)\n",
    "a = array([[1, 2],\n",
    "          [-1, 3]])\n",
    "b"
   ]
  },
  {
   "cell_type": "code",
   "execution_count": 3,
   "metadata": {},
   "outputs": [
    {
     "data": {
      "text/plain": [
       "array('GCCTTT', dtype=object)"
      ]
     },
     "execution_count": 3,
     "metadata": {},
     "output_type": "execute_result"
    }
   ],
   "source": [
    "tensordot(a,b)"
   ]
  },
  {
   "cell_type": "markdown",
   "metadata": {},
   "source": [
    "В данном случае мы умножили одинаковые по форме матрицы, и каждую букву из `b` умножили на число в той же позиции и сложили.\n",
    "\n",
    "С помощью параметра `axes` мы можем менять поведение функции:\n",
    "-    ``axes = 0`` : тензорное произведение $a\\otimes b$\n",
    "-    ``axes = 1`` : тензорное скалярное произведение $a\\cdot b$\n",
    "-    ``axes = 2`` : (default) тензорное двойное сжатие $a:b$"
   ]
  },
  {
   "cell_type": "code",
   "execution_count": 4,
   "metadata": {},
   "outputs": [
    {
     "data": {
      "text/plain": [
       "array([['GAA', 'CTT'],\n",
       "       ['AAA', 'TTT']], dtype=object)"
      ]
     },
     "execution_count": 4,
     "metadata": {},
     "output_type": "execute_result"
    }
   ],
   "source": [
    "dot(a,b)"
   ]
  },
  {
   "cell_type": "code",
   "execution_count": 5,
   "metadata": {},
   "outputs": [
    {
     "data": {
      "text/plain": [
       "array([['GAA', 'CTT'],\n",
       "       ['AAA', 'TTT']], dtype=object)"
      ]
     },
     "execution_count": 5,
     "metadata": {},
     "output_type": "execute_result"
    }
   ],
   "source": [
    "tensordot(a,b, 1)"
   ]
  },
  {
   "cell_type": "markdown",
   "metadata": {},
   "source": [
    "Задача. Сгенерировать все варианты цепочек из одного нуклеотида длиной до 6 оснований включительно."
   ]
  },
  {
   "cell_type": "code",
   "execution_count": 6,
   "metadata": {},
   "outputs": [
    {
     "data": {
      "text/plain": [
       "array([[['G', 'C'],\n",
       "        ['A', 'T']],\n",
       "\n",
       "       [['GG', 'CC'],\n",
       "        ['AA', 'TT']],\n",
       "\n",
       "       [['GGG', 'CCC'],\n",
       "        ['AAA', 'TTT']],\n",
       "\n",
       "       [['GGGG', 'CCCC'],\n",
       "        ['AAAA', 'TTTT']],\n",
       "\n",
       "       [['GGGGG', 'CCCCC'],\n",
       "        ['AAAAA', 'TTTTT']],\n",
       "\n",
       "       [['GGGGGG', 'CCCCCC'],\n",
       "        ['AAAAAA', 'TTTTTT']]], dtype=object)"
      ]
     },
     "execution_count": 6,
     "metadata": {},
     "output_type": "execute_result"
    }
   ],
   "source": [
    "tensordot(arange(6)+1, b, 0)"
   ]
  },
  {
   "cell_type": "markdown",
   "metadata": {},
   "source": [
    "Одной функцией мы заменили два цикла - рост от 1 до 6 и перебор оснований."
   ]
  },
  {
   "cell_type": "code",
   "execution_count": 7,
   "metadata": {},
   "outputs": [
    {
     "data": {
      "text/plain": [
       "array(['G', 'C', 'A', 'T', 'GG', 'CC', 'AA', 'TT', 'GGG', 'CCC', 'AAA',\n",
       "       'TTT', 'GGGG', 'CCCC', 'AAAA', 'TTTT', 'GGGGG', 'CCCCC', 'AAAAA',\n",
       "       'TTTTT', 'GGGGGG', 'CCCCCC', 'AAAAAA', 'TTTTTT'], dtype=object)"
      ]
     },
     "execution_count": 7,
     "metadata": {},
     "output_type": "execute_result"
    }
   ],
   "source": [
    "_.ravel()"
   ]
  },
  {
   "cell_type": "code",
   "execution_count": 8,
   "metadata": {},
   "outputs": [
    {
     "data": {
      "text/plain": [
       "['A',\n",
       " 'AA',\n",
       " 'AAA',\n",
       " 'AAAA',\n",
       " 'AAAAA',\n",
       " 'AAAAAA',\n",
       " 'C',\n",
       " 'CC',\n",
       " 'CCC',\n",
       " 'CCCC',\n",
       " 'CCCCC',\n",
       " 'CCCCCC',\n",
       " 'G',\n",
       " 'GG',\n",
       " 'GGG',\n",
       " 'GGGG',\n",
       " 'GGGGG',\n",
       " 'GGGGGG',\n",
       " 'T',\n",
       " 'TT',\n",
       " 'TTT',\n",
       " 'TTTT',\n",
       " 'TTTTT',\n",
       " 'TTTTTT']"
      ]
     },
     "execution_count": 8,
     "metadata": {},
     "output_type": "execute_result"
    }
   ],
   "source": [
    "sorted(_)"
   ]
  },
  {
   "cell_type": "markdown",
   "metadata": {},
   "source": [
    "Для наглядности как получаются разные сочетания в зависимости от множителя, сделаем 3-хмерную матрицу из разных чисел."
   ]
  },
  {
   "cell_type": "code",
   "execution_count": 9,
   "metadata": {},
   "outputs": [
    {
     "data": {
      "text/plain": [
       "array([[[0, 1],\n",
       "        [2, 3]],\n",
       "\n",
       "       [[4, 5],\n",
       "        [6, 7]]])"
      ]
     },
     "execution_count": 9,
     "metadata": {},
     "output_type": "execute_result"
    }
   ],
   "source": [
    "a = arange(8).reshape(2,2,-1)\n",
    "a"
   ]
  },
  {
   "cell_type": "code",
   "execution_count": 10,
   "metadata": {},
   "outputs": [
    {
     "data": {
      "text/plain": [
       "array(['CAATTT', 'GGGGCCCCCAAAAAATTTTTTT'], dtype=object)"
      ]
     },
     "execution_count": 10,
     "metadata": {},
     "output_type": "execute_result"
    }
   ],
   "source": [
    "tensordot(a, b, 2) #по квартетам"
   ]
  },
  {
   "cell_type": "code",
   "execution_count": 11,
   "metadata": {},
   "outputs": [
    {
     "data": {
      "text/plain": [
       "array([[['A', 'T'],\n",
       "        ['GGAAA', 'CCTTT']],\n",
       "\n",
       "       [['GGGGAAAAA', 'CCCCTTTTT'],\n",
       "        ['GGGGGGAAAAAAA', 'CCCCCCTTTTTTT']]], dtype=object)"
      ]
     },
     "execution_count": 11,
     "metadata": {},
     "output_type": "execute_result"
    }
   ],
   "source": [
    "tensordot(a, b, 1) # по строчкам пурины и пиримидины"
   ]
  },
  {
   "cell_type": "code",
   "execution_count": 12,
   "metadata": {},
   "outputs": [
    {
     "data": {
      "text/plain": [
       "array([[['AA', 'TT'],\n",
       "        ['GAAA', 'CTTT']],\n",
       "\n",
       "       [['GGGGAAAAAA', 'CCCCTTTTTT'],\n",
       "        ['GGGGGAAAAAAA', 'CCCCCTTTTTTT']]], dtype=object)"
      ]
     },
     "execution_count": 12,
     "metadata": {},
     "output_type": "execute_result"
    }
   ],
   "source": [
    "tensordot(a, b, (1,0)) # по колонкам пурины и пиримидины"
   ]
  },
  {
   "cell_type": "code",
   "execution_count": 13,
   "metadata": {},
   "outputs": [
    {
     "data": {
      "text/plain": [
       "array([[['AAAA', 'TTTT'],\n",
       "        ['GAAAAA', 'CTTTTT']],\n",
       "\n",
       "       [['GGAAAAAA', 'CCTTTTTT'],\n",
       "        ['GGGAAAAAAA', 'CCCTTTTTTT']]], dtype=object)"
      ]
     },
     "execution_count": 13,
     "metadata": {},
     "output_type": "execute_result"
    }
   ],
   "source": [
    "tensordot(a, b, (0,0)) # в глубину пурины и пиримидины"
   ]
  },
  {
   "cell_type": "code",
   "execution_count": 14,
   "metadata": {},
   "outputs": [
    {
     "data": {
      "text/plain": [
       "array(['CCAAAATTTTTT', 'GCCCAAAAATTTTTTT'], dtype=object)"
      ]
     },
     "execution_count": 14,
     "metadata": {},
     "output_type": "execute_result"
    }
   ],
   "source": [
    "tensordot(a, b, ((0,1), (0,1))) # по колонкам"
   ]
  },
  {
   "cell_type": "code",
   "execution_count": 15,
   "metadata": {},
   "outputs": [
    {
     "data": {
      "text/plain": [
       "array(['CAAAATTTTT', 'GGCCCAAAAAATTTTTTT'], dtype=object)"
      ]
     },
     "execution_count": 15,
     "metadata": {},
     "output_type": "execute_result"
    }
   ],
   "source": [
    "tensordot(a, b, ((0,2), (0,1))) # по строчкам"
   ]
  },
  {
   "cell_type": "markdown",
   "metadata": {},
   "source": [
    "В соответсвие с номенклатурой IUPAC если при секвенировании последовательности ДНК или РНК возникает сомнение в точности определения того или иного нуклеотида, помимо пяти основных (A, C, T, G, U), используют другие буквы латинского алфавита в зависимости от того, какие наиболее вероятные нуклеотиды могут находиться в данной позиции последовательности. \n",
    "\n",
    "- S -\tC или G - три водородных связи\n",
    "- W -\tA или T - две водородных связи\n",
    "\n",
    "Задача. Прибор определил что фрагмент ДНК длиной 4bp (base pairs) содержит 1 пару с тройной связью и 3 пары с двойной связью, т.е. `SWWW`. Сгенерить все варианты состава фрагмента."
   ]
  },
  {
   "cell_type": "code",
   "execution_count": 16,
   "metadata": {},
   "outputs": [
    {
     "data": {
      "text/plain": [
       "array([[1, 0],\n",
       "       [3, 0]])"
      ]
     },
     "execution_count": 16,
     "metadata": {},
     "output_type": "execute_result"
    }
   ],
   "source": [
    "a = array([[1,0], [3,0]])\n",
    "a"
   ]
  },
  {
   "cell_type": "markdown",
   "metadata": {},
   "source": [
    "Это один из правильных вариантов множителя. Нужны остальные.\n",
    "\n",
    "Для верхнего ряда всего два варинта [1, 0] и [0, 1].\n",
    "Для нижнего комбинаций больше: [3, 0], [2, 1], [1, 2], [0, 3].\n",
    "\n",
    "Чтобы перебрать все варианты удобно брать представление последовательности чисел в виде битов. Но надо понимать размерность чисел и правильно задавать тип, например `uint8`."
   ]
  },
  {
   "cell_type": "code",
   "execution_count": 17,
   "metadata": {},
   "outputs": [
    {
     "data": {
      "text/plain": [
       "array([[0, 0],\n",
       "       [1, 0],\n",
       "       [0, 1],\n",
       "       [1, 1]])"
      ]
     },
     "execution_count": 17,
     "metadata": {},
     "output_type": "execute_result"
    }
   ],
   "source": [
    "n=2\n",
    "ii=(bitwise_and(arange(2**n), (arange(n)+1).reshape(-1,1))>0).T*1\n",
    "ii"
   ]
  },
  {
   "cell_type": "markdown",
   "metadata": {},
   "source": [
    "Проще запомнить команду `meshgrid` которая возвращает сочетания всех координат, заданных на осях. "
   ]
  },
  {
   "cell_type": "code",
   "execution_count": 18,
   "metadata": {},
   "outputs": [
    {
     "data": {
      "text/plain": [
       "array([[0, 0],\n",
       "       [1, 0],\n",
       "       [0, 1],\n",
       "       [1, 1]])"
      ]
     },
     "execution_count": 18,
     "metadata": {},
     "output_type": "execute_result"
    }
   ],
   "source": [
    "reshape(meshgrid([0,1],[0,1]), (2,-1)).T"
   ]
  },
  {
   "cell_type": "markdown",
   "metadata": {},
   "source": [
    "Но правильнее всего использовать специальные [функции для расчета комбинаций](https://docs.python.org/3.5/library/itertools.html)."
   ]
  },
  {
   "cell_type": "code",
   "execution_count": 19,
   "metadata": {
    "collapsed": true
   },
   "outputs": [],
   "source": [
    "from itertools import combinations, permutations, combinations_with_replacement"
   ]
  },
  {
   "cell_type": "code",
   "execution_count": 20,
   "metadata": {},
   "outputs": [
    {
     "data": {
      "text/plain": [
       "[('A', 'A', 'A'), ('A', 'A', 'T'), ('A', 'T', 'T'), ('T', 'T', 'T')]"
      ]
     },
     "execution_count": 20,
     "metadata": {},
     "output_type": "execute_result"
    }
   ],
   "source": [
    "list(combinations_with_replacement('AT',3))"
   ]
  },
  {
   "cell_type": "markdown",
   "metadata": {},
   "source": [
    "Можно написать цикл с перебором вариантов и проверкой условия. Вариантов решения много. \n",
    "\n",
    "Давайте вернемся к постановке задачи, где нам нужны комбинации двух чисел, дающих в сумме 3. Так как нам важна позиция чисел мы используем `permutations`."
   ]
  },
  {
   "cell_type": "code",
   "execution_count": 21,
   "metadata": {},
   "outputs": [
    {
     "data": {
      "text/plain": [
       "{(0, 3), (1, 2), (2, 1), (3, 0)}"
      ]
     },
     "execution_count": 21,
     "metadata": {},
     "output_type": "execute_result"
    }
   ],
   "source": [
    "{ _ for _ in permutations(arange(3+1),2) if sum(_)==3 }"
   ]
  },
  {
   "cell_type": "markdown",
   "metadata": {},
   "source": [
    "Итоговый вариант"
   ]
  },
  {
   "cell_type": "code",
   "execution_count": 22,
   "metadata": {},
   "outputs": [
    {
     "name": "stdout",
     "output_type": "stream",
     "text": [
      "(2, 4)\n",
      "(2, 4, 2, 2)\n"
     ]
    },
    {
     "data": {
      "text/plain": [
       "array([['CATT', 'CAAA', 'CTTT', 'CAAT'],\n",
       "       ['GATT', 'GAAA', 'GTTT', 'GAAT']], dtype=object)"
      ]
     },
     "execution_count": 22,
     "metadata": {},
     "output_type": "execute_result"
    }
   ],
   "source": [
    "n1 = 1\n",
    "n2 = 3\n",
    "\n",
    "variant1 = list({ _ for _ in permutations(range(n1+1)*2,2) if sum(_)==n1 })\n",
    "variant2 = list({ _ for _ in permutations(range(n2+1)*2,2) if sum(_)==n2 })\n",
    "print( len(variant1), len(variant2))\n",
    "\n",
    "a = zeros((len(variant1),len(variant2),2,2) ,'int')\n",
    "print( a.shape)\n",
    "\n",
    "a[:,:,0,:]=array(variant1).reshape(-1,1,2)\n",
    "a[:,:,1,:]=variant2\n",
    "\n",
    "tensordot(a, b)"
   ]
  },
  {
   "cell_type": "markdown",
   "metadata": {},
   "source": [
    "Получили все возможные комбинации. Ценность подхода можно оценить только при усложнении. Попробуйте поменять числа `n1` и `n2`."
   ]
  },
  {
   "cell_type": "markdown",
   "metadata": {},
   "source": [
    "Для сравнения приведем традиционный алгоритм с элементами динамического программирования, т.е. когда поведение функций меняется в процессе выполнения."
   ]
  },
  {
   "cell_type": "code",
   "execution_count": 23,
   "metadata": {},
   "outputs": [
    {
     "data": {
      "text/plain": [
       "['CAAA',\n",
       " 'GAAA',\n",
       " 'CTAA',\n",
       " 'GTAA',\n",
       " 'CATA',\n",
       " 'GATA',\n",
       " 'CTTA',\n",
       " 'GTTA',\n",
       " 'CAAT',\n",
       " 'GAAT',\n",
       " 'CTAT',\n",
       " 'GTAT',\n",
       " 'CATT',\n",
       " 'GATT',\n",
       " 'CTTT',\n",
       " 'GTTT']"
      ]
     },
     "execution_count": 23,
     "metadata": {},
     "output_type": "execute_result"
    }
   ],
   "source": [
    "s = 'SWWW'\n",
    "def variantDNA(s, shifr=None):\n",
    "    if not shifr:\n",
    "        shifr={'S': 'CG', 'W': 'AT' }\n",
    "    variant=[]\n",
    "    golova=s[0]\n",
    "    hvost=s[1:]\n",
    "    \n",
    "    if golova in shifr:\n",
    "        variant.extend([_ for _ in shifr[golova]])\n",
    "    else:\n",
    "        variant.append('golova')\n",
    "    \n",
    "    if hvost:\n",
    "        variant=[_var+_hvost for _hvost in variantDNA(hvost) for _var in variant]\n",
    "        \n",
    "    return variant\n",
    "\n",
    "variantDNA(s)"
   ]
  },
  {
   "cell_type": "markdown",
   "metadata": {},
   "source": [
    "Поскольку в алгоритме мы шли последовательно, то в ответе оказались все варианты с учетом порядка следования. Чтобы получить комбинации вне зависимости от порядка - надо отсортировать и отобрать уникальные последовательности."
   ]
  },
  {
   "cell_type": "code",
   "execution_count": 24,
   "metadata": {},
   "outputs": [
    {
     "data": {
      "text/plain": [
       "{'AAAC', 'AAAG', 'AACT', 'AAGT', 'ACTT', 'AGTT', 'CTTT', 'GTTT'}"
      ]
     },
     "execution_count": 24,
     "metadata": {},
     "output_type": "execute_result"
    }
   ],
   "source": [
    "{''.join(sorted(_)) for _ in variantDNA(s)}"
   ]
  }
 ],
 "metadata": {
  "kernelspec": {
   "display_name": "Python 2",
   "language": "python",
   "name": "python2"
  },
  "language_info": {
   "codemirror_mode": {
    "name": "ipython",
    "version": 2
   },
   "file_extension": ".py",
   "mimetype": "text/x-python",
   "name": "python",
   "nbconvert_exporter": "python",
   "pygments_lexer": "ipython2",
   "version": "2.7.11"
  },
  "toc": {
   "colors": {
    "hover_highlight": "#DAA520",
    "running_highlight": "#FF0000",
    "selected_highlight": "#FFD700"
   },
   "moveMenuLeft": true,
   "nav_menu": {
    "height": "12px",
    "width": "252px"
   },
   "navigate_menu": true,
   "number_sections": false,
   "sideBar": true,
   "threshold": 4,
   "toc_cell": false,
   "toc_section_display": "block",
   "toc_window_display": false
  }
 },
 "nbformat": 4,
 "nbformat_minor": 1
}
