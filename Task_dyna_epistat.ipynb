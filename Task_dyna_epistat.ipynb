{
 "cells": [
  {
   "cell_type": "markdown",
   "metadata": {},
   "source": [
    "# Динамика заболеваемости"
   ]
  },
  {
   "cell_type": "markdown",
   "metadata": {},
   "source": [
    "Данные к онлайн-приложению https://epistat.wiv-isp.be\n",
    "\n",
    "Колонки\n",
    "\n",
    "-    Age age of the patient (in years);\n",
    "-    DateMonday date of the Monday of the week of report: we are dealing with weekly data;\n",
    "-    Gender gender of the patient;\n",
    "-    Subject category of the disease, e.g. SALM for Salmonella;\n",
    "-    NUTS2 administrative subdivision of Belgium where the case was reported.\n",
    "\n",
    "\n",
    "https://www.ncbi.nlm.nih.gov/pmc/articles/PMC5003365/\n",
    "\n"
   ]
  },
  {
   "cell_type": "markdown",
   "metadata": {},
   "source": [
    "## Работа с интерактивным сайтом\n",
    "\n",
    "Изучите явления:\n",
    "\n",
    "1. Сезонность - Аденовирус, пневмония, хламидия, параинфлюенза\n",
    "\n",
    "2. Согласие в 2014 между динамикой бореллии и ротавируса\n",
    "\n",
    "3. Влияние фактора возраста - аденовирус, ВИЧ, пневмония"
   ]
  },
  {
   "cell_type": "markdown",
   "metadata": {},
   "source": [
    "## Работа с данными\n",
    "\n",
    "Загрузим набор данных и попробуем автоматизировать некоторые задачи."
   ]
  },
  {
   "cell_type": "code",
   "execution_count": 14,
   "metadata": {},
   "outputs": [
    {
     "name": "stdout",
     "output_type": "stream",
     "text": [
      "Populating the interactive namespace from numpy and matplotlib\n"
     ]
    }
   ],
   "source": [
    "%pylab inline\n",
    "import pandas as pd\n",
    "import seaborn as sns\n",
    "import re"
   ]
  },
  {
   "cell_type": "code",
   "execution_count": 2,
   "metadata": {},
   "outputs": [
    {
     "name": "stdout",
     "output_type": "stream",
     "text": [
      "<class 'pandas.core.frame.DataFrame'>\n",
      "RangeIndex: 295320 entries, 0 to 295319\n",
      "Data columns (total 5 columns):\n",
      "Age           289056 non-null float64\n",
      "DateMonday    295320 non-null object\n",
      "Gender        295320 non-null object\n",
      "Subject       295320 non-null object\n",
      "NUTS2         282641 non-null float64\n",
      "dtypes: float64(2), object(3)\n",
      "memory usage: 11.3+ MB\n"
     ]
    }
   ],
   "source": [
    "D = pd.read_csv(\"epistat.csv\")  #https://epistat.wiv-isp.be/data/public_cases.csv\")\n",
    "D.info()"
   ]
  },
  {
   "cell_type": "markdown",
   "metadata": {},
   "source": [
    "Как видно из количества ненулевых значений в наборе данных есть незначительное количество пропусков в данных о возрасте и регионе.\n"
   ]
  },
  {
   "cell_type": "code",
   "execution_count": 8,
   "metadata": {},
   "outputs": [
    {
     "data": {
      "image/png": "[encoded data removed]",
      "text/plain": [
       "<Figure size 600x400 with 1 Axes>"
      ]
     },
     "metadata": {},
     "output_type": "display_data"
    }
   ],
   "source": [
    "D.Age.hist(bins=30);"
   ]
  },
  {
   "cell_type": "markdown",
   "metadata": {},
   "source": [
    "На гистограмме выделяются две возрастные группы, подверженные инфекционным заболеваниям - дети до 7 лет и молодежь после 20."
   ]
  },
  {
   "cell_type": "code",
   "execution_count": 9,
   "metadata": {},
   "outputs": [
    {
     "data": {
      "text/plain": [
       "M      151441\n",
       "F      140440\n",
       "U        2316\n",
       "UNK      1123\n",
       "Name: Gender, dtype: int64"
      ]
     },
     "execution_count": 9,
     "metadata": {},
     "output_type": "execute_result"
    }
   ],
   "source": [
    "D.Gender.value_counts()"
   ]
  },
  {
   "cell_type": "markdown",
   "metadata": {},
   "source": [
    "Пол хоть и указан во всех записях, но обозначения U и UNK вставлены на местах отсутствующих значений."
   ]
  },
  {
   "cell_type": "code",
   "execution_count": 10,
   "metadata": {},
   "outputs": [
    {
     "data": {
      "text/plain": [
       "M    151441\n",
       "F    140440\n",
       "Name: Gender, dtype: int64"
      ]
     },
     "execution_count": 10,
     "metadata": {},
     "output_type": "execute_result"
    }
   ],
   "source": [
    "D.loc[D.Gender.isin(['U','UNK']), 'Gender'] = NaN\n",
    "D.Gender.value_counts()"
   ]
  },
  {
   "cell_type": "markdown",
   "metadata": {},
   "source": [
    "Информация о возбудителях закодирована коротким кодом."
   ]
  },
  {
   "cell_type": "code",
   "execution_count": 3,
   "metadata": {},
   "outputs": [
    {
     "data": {
      "text/plain": [
       "V_RSV     65945\n",
       "CAM_SP    54545\n",
       "CHLTRA    34782\n",
       "SALM      26764\n",
       "V_RTV     17332\n",
       "V_ADV     12355\n",
       "BRRBUR    12283\n",
       "GIA_SP    10109\n",
       "HIV        9006\n",
       "V_PIV      8412\n",
       "PNEU       8291\n",
       "NEIGON     7727\n",
       "V_HCV      7596\n",
       "CRS_SP     3187\n",
       "BORPER     2998\n",
       "SHIG       2941\n",
       "STRPYO     2612\n",
       "YERENT     2211\n",
       "ENTHIS     1555\n",
       "V_HAV      1302\n",
       "HAEINF      839\n",
       "V_HTV       668\n",
       "LIS_SP      579\n",
       "MENI        558\n",
       "VTEC        510\n",
       "CHIK        135\n",
       "CHLPSI       77\n",
       "ZIKA          1\n",
       "Name: Subject, dtype: int64"
      ]
     },
     "execution_count": 3,
     "metadata": {},
     "output_type": "execute_result"
    }
   ],
   "source": [
    "D.Subject.value_counts()"
   ]
  },
  {
   "cell_type": "markdown",
   "metadata": {},
   "source": [
    "Преобладают простудные и кишечные инфекции. Странный единичный случай [вируса Зика](https://ru.wikipedia.org/wiki/Вирус_Зика)."
   ]
  },
  {
   "cell_type": "code",
   "execution_count": 34,
   "metadata": {},
   "outputs": [
    {
     "data": {
      "text/html": [
       "<div>\n",
       "<style>\n",
       "    .dataframe thead tr:only-child th {\n",
       "        text-align: right;\n",
       "    }\n",
       "\n",
       "    .dataframe thead th {\n",
       "        text-align: left;\n",
       "    }\n",
       "\n",
       "    .dataframe tbody tr th {\n",
       "        vertical-align: top;\n",
       "    }\n",
       "</style>\n",
       "<table border=\"1\" class=\"dataframe\">\n",
       "  <thead>\n",
       "    <tr style=\"text-align: right;\">\n",
       "      <th></th>\n",
       "      <th>Age</th>\n",
       "      <th>DateMonday</th>\n",
       "      <th>Gender</th>\n",
       "      <th>Subject</th>\n",
       "      <th>NUTS2</th>\n",
       "    </tr>\n",
       "  </thead>\n",
       "  <tbody>\n",
       "    <tr>\n",
       "      <th>247437</th>\n",
       "      <td>27.0</td>\n",
       "      <td>2015-12-07</td>\n",
       "      <td>F</td>\n",
       "      <td>ZIKA</td>\n",
       "      <td>31.0</td>\n",
       "    </tr>\n",
       "  </tbody>\n",
       "</table>\n",
       "</div>"
      ],
      "text/plain": [
       "         Age  DateMonday Gender Subject  NUTS2\n",
       "247437  27.0  2015-12-07      F    ZIKA   31.0"
      ]
     },
     "execution_count": 34,
     "metadata": {},
     "output_type": "execute_result"
    }
   ],
   "source": [
    "D[D.Subject=='ZIKA']"
   ]
  },
  {
   "cell_type": "markdown",
   "metadata": {},
   "source": [
    "Короткие кодовые названия часто используются в больших таблицах для формирования колонок фиксированной ширины. Также короткие обозначения удобны для подписей в рисунках. Однако латинские названия возбудителей гораздо понятнее. \n",
    "\n",
    "Ниже приведен словарик соответствия кода и латинского названия. Структура данных `dict` используется для удобного доступа к множеству значений по ключу (коду)."
   ]
  },
  {
   "cell_type": "code",
   "execution_count": 12,
   "metadata": {},
   "outputs": [
    {
     "data": {
      "text/plain": [
       "{'BORPER': 'Bordetella pertussis',\n",
       " 'BRRBUR': 'Borrelia burgdorferi',\n",
       " 'CAM_SP': 'Campylobacter sp.',\n",
       " 'CHIK': 'Chikungunya virus',\n",
       " 'CHLPSI': 'Chlamydia psittaci',\n",
       " 'CHLTRA': 'Chlamydia trachomatis',\n",
       " 'CRS_SP': 'Cryptosporidium',\n",
       " 'ENTHIS': 'Entamoeba histolytica',\n",
       " 'GIA_SP': 'Giardia sp.',\n",
       " 'HAEINF': 'Haemophilus influenzae',\n",
       " 'HIV': 'Lentivirus \"HIV\"',\n",
       " 'LIS_SP': 'Listeria monocytogenes',\n",
       " 'MENI': 'Neisseria meningitidis',\n",
       " 'NEIGON': 'Neisseria gonorrhoeae',\n",
       " 'PNEU': 'Streptococcus pneumoniae',\n",
       " 'SALM': 'Salmonella',\n",
       " 'SHIG': 'Shigella',\n",
       " 'STRPYO': 'Streptococcus pyogenes',\n",
       " 'VTEC': 'Escherichia coli \"VTEC\"',\n",
       " 'V_ADV': 'Adenovirus',\n",
       " 'V_HAV': 'Hepatitis A virus',\n",
       " 'V_HCV': 'Hepatitis C virus',\n",
       " 'V_HTV': 'Hantavirus',\n",
       " 'V_PIV': 'Parainfluenza',\n",
       " 'V_RSV': 'Respiratory Syncytial Virus',\n",
       " 'V_RTV': 'Rotavirus',\n",
       " 'YERENT': 'Yersinia enterocolitica',\n",
       " 'ZIKA': 'Flavivirus \"ZIKA\"'}"
      ]
     },
     "execution_count": 12,
     "metadata": {},
     "output_type": "execute_result"
    }
   ],
   "source": [
    "kod_spec = {\n",
    "    'BORPER':'Bordetella pertussis',\n",
    "    'BRRBUR':'Borrelia burgdorferi',\n",
    "    'CAM_SP':'Campylobacter sp.',\n",
    "    'CHIK  ':'Chikungunya virus',\n",
    "    'CHLPSI':'Chlamydia psittaci',\n",
    "    'CHLTRA':'Chlamydia trachomatis',\n",
    "    'CRS_SP':'Cryptosporidium',\n",
    "    'ENTHIS':'Entamoeba histolytica',\n",
    "    'GIA_SP':'Giardia sp.',\n",
    "    'HAEINF':'Haemophilus influenzae',\n",
    "    'HIV   ':'Lentivirus \"HIV\"',\n",
    "    'LIS_SP':'Listeria monocytogenes',\n",
    "    'MENI  ':'Neisseria meningitidis',\n",
    "    'NEIGON':'Neisseria gonorrhoeae',\n",
    "    'PNEU  ':'Streptococcus pneumoniae',\n",
    "    'SALM  ':'Salmonella',\n",
    "    'SHIG  ':'Shigella',\n",
    "    'STRPYO':'Streptococcus pyogenes',\n",
    "    'VTEC  ':'Escherichia coli \"VTEC\"',\n",
    "    'V_ADV ':'Adenovirus',\n",
    "    'V_HAV ':'Hepatitis A virus',\n",
    "    'V_HCV ':'Hepatitis C virus',\n",
    "    'V_HTV ':'Hantavirus',\n",
    "    'V_PIV ':'Parainfluenza',\n",
    "    'V_RSV ':'Respiratory Syncytial Virus',\n",
    "    'V_RTV ':'Rotavirus',\n",
    "    'YERENT':'Yersinia enterocolitica',\n",
    "    'ZIKA  ':'Flavivirus \"ZIKA\"',\n",
    "}\n",
    "# пробелы проще вычистить в цикле\n",
    "kod_spec = {k.strip():v for k,v in kod_spec.items()}\n",
    "kod_spec"
   ]
  },
  {
   "cell_type": "markdown",
   "metadata": {},
   "source": [
    "В библиотеке `pandas` аналогом словаря  служит серия `pd.Series`, которая позволяет отбирать по нескольку названий по кодам."
   ]
  },
  {
   "cell_type": "code",
   "execution_count": 13,
   "metadata": {},
   "outputs": [
    {
     "data": {
      "text/plain": [
       "BORPER           Bordetella pertussis\n",
       "BRRBUR           Borrelia burgdorferi\n",
       "CAM_SP              Campylobacter sp.\n",
       "CHIK                Chikungunya virus\n",
       "CHLPSI             Chlamydia psittaci\n",
       "CHLTRA          Chlamydia trachomatis\n",
       "CRS_SP                Cryptosporidium\n",
       "ENTHIS          Entamoeba histolytica\n",
       "GIA_SP                    Giardia sp.\n",
       "HAEINF         Haemophilus influenzae\n",
       "HIV                  Lentivirus \"HIV\"\n",
       "LIS_SP         Listeria monocytogenes\n",
       "MENI           Neisseria meningitidis\n",
       "NEIGON          Neisseria gonorrhoeae\n",
       "PNEU         Streptococcus pneumoniae\n",
       "SALM                       Salmonella\n",
       "SHIG                         Shigella\n",
       "STRPYO         Streptococcus pyogenes\n",
       "VTEC          Escherichia coli \"VTEC\"\n",
       "V_ADV                      Adenovirus\n",
       "V_HAV               Hepatitis A virus\n",
       "V_HCV               Hepatitis C virus\n",
       "V_HTV                      Hantavirus\n",
       "V_PIV                   Parainfluenza\n",
       "V_RSV     Respiratory Syncytial Virus\n",
       "V_RTV                       Rotavirus\n",
       "YERENT        Yersinia enterocolitica\n",
       "ZIKA                Flavivirus \"ZIKA\"\n",
       "dtype: object"
      ]
     },
     "execution_count": 13,
     "metadata": {},
     "output_type": "execute_result"
    }
   ],
   "source": [
    "species = pd.Series(kod_spec)\n",
    "species"
   ]
  },
  {
   "cell_type": "markdown",
   "metadata": {},
   "source": [
    "Если заглянуть в [исходный код веб-страницы](view-source:https://epistat.wiv-isp.be/) (нажать Ctrl-U на сайте Epistat), то можно найти много других расшифровок кодовых обозначений в таблице.\n",
    "\n",
    "Определите, кто скрывается за аббревиатурами:\n",
    "\n",
    "- TUBECULT\n",
    "- TREPAL\n",
    "- HANTA\n"
   ]
  },
  {
   "cell_type": "markdown",
   "metadata": {},
   "source": [
    "Код на JavaScript содержит также информацию о соответствии кодов провинций и названий.\n",
    "Информацию о названиях региона можно извлечь с помощью регулярных выражений следующим образом."
   ]
  },
  {
   "cell_type": "code",
   "execution_count": 25,
   "metadata": {},
   "outputs": [
    {
     "data": {
      "text/plain": [
       "[('10', 'Brussels'),\n",
       " ('21', 'Antwerp'),\n",
       " ('22', 'Limburg'),\n",
       " ('23', 'East Flanders'),\n",
       " ('24', 'Flemish Brabant'),\n",
       " ('25', 'West Flanders'),\n",
       " ('31', 'Walloon Brabant'),\n",
       " ('32', 'Hainaut'),\n",
       " ('33', 'Liege'),\n",
       " ('34', 'Luxembourg'),\n",
       " ('35', 'Namur')]"
      ]
     },
     "execution_count": 25,
     "metadata": {},
     "output_type": "execute_result"
    }
   ],
   "source": [
    "s='''case 10:\n",
    "          e.province = 'Brussels';\n",
    "          break;\n",
    "        case 21:\n",
    "          e.province = 'Antwerp';\n",
    "          break;\n",
    "        case 22:\n",
    "          e.province = 'Limburg';\n",
    "          break;\n",
    "        case 23:\n",
    "          e.province = 'East Flanders';\n",
    "          break;\n",
    "        case 24:\n",
    "          e.province = 'Flemish Brabant';\n",
    "          break;\n",
    "        case 25:\n",
    "          e.province = 'West Flanders';\n",
    "          break;\n",
    "        case 31:\n",
    "          e.province = 'Walloon Brabant';\n",
    "          break;\n",
    "        case 32:\n",
    "          e.province = 'Hainaut';\n",
    "          break;\n",
    "        case 33:\n",
    "          e.province = 'Liege';\n",
    "          break;\n",
    "        case 34:\n",
    "          e.province = 'Luxembourg';\n",
    "          break;\n",
    "        case 35:\n",
    "          e.province = 'Namur';\n",
    "          break;\n",
    "        default:\n",
    "          e.province = 'Unknown'\n",
    "      }'''\n",
    "tutu = re.findall(r'case (?P<code>\\d+):.+?\\.province = \\'(?P<name>[\\w ]+?)\\'', s, re.S)\n",
    "tutu"
   ]
  },
  {
   "cell_type": "markdown",
   "metadata": {},
   "source": [
    "Пары значений NUTS2-провинция мы можем оформить в виде таблички."
   ]
  },
  {
   "cell_type": "code",
   "execution_count": 35,
   "metadata": {},
   "outputs": [
    {
     "data": {
      "text/html": [
       "<div>\n",
       "<style>\n",
       "    .dataframe thead tr:only-child th {\n",
       "        text-align: right;\n",
       "    }\n",
       "\n",
       "    .dataframe thead th {\n",
       "        text-align: left;\n",
       "    }\n",
       "\n",
       "    .dataframe tbody tr th {\n",
       "        vertical-align: top;\n",
       "    }\n",
       "</style>\n",
       "<table border=\"1\" class=\"dataframe\">\n",
       "  <thead>\n",
       "    <tr style=\"text-align: right;\">\n",
       "      <th></th>\n",
       "      <th>Province</th>\n",
       "    </tr>\n",
       "  </thead>\n",
       "  <tbody>\n",
       "    <tr>\n",
       "      <th>10</th>\n",
       "      <td>Brussels</td>\n",
       "    </tr>\n",
       "    <tr>\n",
       "      <th>21</th>\n",
       "      <td>Antwerp</td>\n",
       "    </tr>\n",
       "    <tr>\n",
       "      <th>22</th>\n",
       "      <td>Limburg</td>\n",
       "    </tr>\n",
       "    <tr>\n",
       "      <th>23</th>\n",
       "      <td>East Flanders</td>\n",
       "    </tr>\n",
       "    <tr>\n",
       "      <th>24</th>\n",
       "      <td>Flemish Brabant</td>\n",
       "    </tr>\n",
       "    <tr>\n",
       "      <th>25</th>\n",
       "      <td>West Flanders</td>\n",
       "    </tr>\n",
       "    <tr>\n",
       "      <th>31</th>\n",
       "      <td>Walloon Brabant</td>\n",
       "    </tr>\n",
       "    <tr>\n",
       "      <th>32</th>\n",
       "      <td>Hainaut</td>\n",
       "    </tr>\n",
       "    <tr>\n",
       "      <th>33</th>\n",
       "      <td>Liege</td>\n",
       "    </tr>\n",
       "    <tr>\n",
       "      <th>34</th>\n",
       "      <td>Luxembourg</td>\n",
       "    </tr>\n",
       "    <tr>\n",
       "      <th>35</th>\n",
       "      <td>Namur</td>\n",
       "    </tr>\n",
       "  </tbody>\n",
       "</table>\n",
       "</div>"
      ],
      "text/plain": [
       "           Province\n",
       "10         Brussels\n",
       "21          Antwerp\n",
       "22          Limburg\n",
       "23    East Flanders\n",
       "24  Flemish Brabant\n",
       "25    West Flanders\n",
       "31  Walloon Brabant\n",
       "32          Hainaut\n",
       "33            Liege\n",
       "34       Luxembourg\n",
       "35            Namur"
      ]
     },
     "execution_count": 35,
     "metadata": {},
     "output_type": "execute_result"
    }
   ],
   "source": [
    "A = pd.Series(dict(tutu), name='Province').to_frame()\n",
    "A.index = A.index.astype(int)\n",
    "A"
   ]
  },
  {
   "cell_type": "markdown",
   "metadata": {},
   "source": [
    "На всякий случай можем добавить численность населения провинций."
   ]
  },
  {
   "cell_type": "code",
   "execution_count": 46,
   "metadata": {},
   "outputs": [
    {
     "data": {
      "text/html": [
       "<div>\n",
       "<style>\n",
       "    .dataframe thead tr:only-child th {\n",
       "        text-align: right;\n",
       "    }\n",
       "\n",
       "    .dataframe thead th {\n",
       "        text-align: left;\n",
       "    }\n",
       "\n",
       "    .dataframe tbody tr th {\n",
       "        vertical-align: top;\n",
       "    }\n",
       "</style>\n",
       "<table border=\"1\" class=\"dataframe\">\n",
       "  <thead>\n",
       "    <tr style=\"text-align: right;\">\n",
       "      <th></th>\n",
       "      <th>Province</th>\n",
       "      <th>Population</th>\n",
       "    </tr>\n",
       "  </thead>\n",
       "  <tbody>\n",
       "    <tr>\n",
       "      <th>10</th>\n",
       "      <td>Brussels</td>\n",
       "      <td>1119088</td>\n",
       "    </tr>\n",
       "    <tr>\n",
       "      <th>21</th>\n",
       "      <td>Antwerp</td>\n",
       "      <td>1764773</td>\n",
       "    </tr>\n",
       "    <tr>\n",
       "      <th>22</th>\n",
       "      <td>Limburg</td>\n",
       "      <td>844621</td>\n",
       "    </tr>\n",
       "    <tr>\n",
       "      <th>23</th>\n",
       "      <td>East Flanders</td>\n",
       "      <td>1445831</td>\n",
       "    </tr>\n",
       "    <tr>\n",
       "      <th>24</th>\n",
       "      <td>Flemish Brabant</td>\n",
       "      <td>1086446</td>\n",
       "    </tr>\n",
       "    <tr>\n",
       "      <th>25</th>\n",
       "      <td>West Flanders</td>\n",
       "      <td>1164967</td>\n",
       "    </tr>\n",
       "    <tr>\n",
       "      <th>31</th>\n",
       "      <td>Walloon Brabant</td>\n",
       "      <td>382866</td>\n",
       "    </tr>\n",
       "    <tr>\n",
       "      <th>32</th>\n",
       "      <td>Hainaut</td>\n",
       "      <td>1317284</td>\n",
       "    </tr>\n",
       "    <tr>\n",
       "      <th>33</th>\n",
       "      <td>Liege</td>\n",
       "      <td>1077203</td>\n",
       "    </tr>\n",
       "    <tr>\n",
       "      <th>34</th>\n",
       "      <td>Luxembourg</td>\n",
       "      <td>271352</td>\n",
       "    </tr>\n",
       "    <tr>\n",
       "      <th>35</th>\n",
       "      <td>Namur</td>\n",
       "      <td>476835</td>\n",
       "    </tr>\n",
       "  </tbody>\n",
       "</table>\n",
       "</div>"
      ],
      "text/plain": [
       "           Province Population\n",
       "10         Brussels    1119088\n",
       "21          Antwerp    1764773\n",
       "22          Limburg     844621\n",
       "23    East Flanders    1445831\n",
       "24  Flemish Brabant    1086446\n",
       "25    West Flanders    1164967\n",
       "31  Walloon Brabant     382866\n",
       "32          Hainaut    1317284\n",
       "33            Liege    1077203\n",
       "34       Luxembourg     271352\n",
       "35            Namur     476835"
      ]
     },
     "execution_count": 46,
     "metadata": {},
     "output_type": "execute_result"
    }
   ],
   "source": [
    "s='''switch (e.NUTS2) {\n",
    "        case 10:\n",
    "          e.incidence = 100000 / 1119088;\n",
    "          break;\n",
    "        case 21:\n",
    "          e.incidence = 100000 / 1764773;\n",
    "          break;\n",
    "        case 22:\n",
    "          e.incidence = 100000 / 844621;\n",
    "          break;\n",
    "        case 23:\n",
    "          e.incidence = 100000 / 1445831;\n",
    "          break;\n",
    "        case 24:\n",
    "          e.incidence = 100000 / 1086446;\n",
    "          break;\n",
    "        case 25:\n",
    "          e.incidence = 100000 / 1164967;\n",
    "          break;\n",
    "        case 31:\n",
    "          e.incidence = 100000 / 382866;\n",
    "          break;\n",
    "        case 32:\n",
    "          e.incidence = 100000 / 1317284;\n",
    "          break;\n",
    "        case 33:\n",
    "          e.incidence = 100000 / 1077203;\n",
    "          break;\n",
    "        case 34:\n",
    "          e.incidence = 100000 / 271352;\n",
    "          break;\n",
    "        case 35:\n",
    "          e.incidence = 100000 / 476835;\n",
    "          break;\n",
    "        default:\n",
    "          e.incidence = 0.1\n",
    "'''\n",
    "tutu = re.findall(r'case (?P<code>\\d+):.+?\\.incidence = 100000 / (?P<num>\\d+)', s, re.S)\n",
    "popu = pd.Series(dict(tutu), name='Population')\n",
    "popu.index = popu.index.astype(int)\n",
    "\n",
    "A = A.join(popu)\n",
    "A"
   ]
  },
  {
   "cell_type": "markdown",
   "metadata": {},
   "source": [
    "Для удобства можно создать новую колонку в исходной таблице."
   ]
  },
  {
   "cell_type": "code",
   "execution_count": 47,
   "metadata": {},
   "outputs": [
    {
     "data": {
      "text/plain": [
       "array([ 32.,  23.,  22.,  21.,  10.,  24.,  31.,  nan,  33.,  25.,  35.,\n",
       "        34.])"
      ]
     },
     "execution_count": 47,
     "metadata": {},
     "output_type": "execute_result"
    }
   ],
   "source": [
    "D.NUTS2.unique()"
   ]
  },
  {
   "cell_type": "code",
   "execution_count": 52,
   "metadata": {},
   "outputs": [
    {
     "data": {
      "text/html": [
       "<div>\n",
       "<style>\n",
       "    .dataframe thead tr:only-child th {\n",
       "        text-align: right;\n",
       "    }\n",
       "\n",
       "    .dataframe thead th {\n",
       "        text-align: left;\n",
       "    }\n",
       "\n",
       "    .dataframe tbody tr th {\n",
       "        vertical-align: top;\n",
       "    }\n",
       "</style>\n",
       "<table border=\"1\" class=\"dataframe\">\n",
       "  <thead>\n",
       "    <tr style=\"text-align: right;\">\n",
       "      <th></th>\n",
       "      <th>Age</th>\n",
       "      <th>DateMonday</th>\n",
       "      <th>Gender</th>\n",
       "      <th>Subject</th>\n",
       "      <th>NUTS2</th>\n",
       "      <th>Province</th>\n",
       "    </tr>\n",
       "  </thead>\n",
       "  <tbody>\n",
       "    <tr>\n",
       "      <th>0</th>\n",
       "      <td>63.0</td>\n",
       "      <td>2008-01-07</td>\n",
       "      <td>F</td>\n",
       "      <td>BRRBUR</td>\n",
       "      <td>32</td>\n",
       "      <td>Hainaut</td>\n",
       "    </tr>\n",
       "    <tr>\n",
       "      <th>1</th>\n",
       "      <td>58.0</td>\n",
       "      <td>2008-01-07</td>\n",
       "      <td>F</td>\n",
       "      <td>STRPYO</td>\n",
       "      <td>23</td>\n",
       "      <td>East Flanders</td>\n",
       "    </tr>\n",
       "    <tr>\n",
       "      <th>2</th>\n",
       "      <td>0.0</td>\n",
       "      <td>2008-01-07</td>\n",
       "      <td>NaN</td>\n",
       "      <td>V_RSV</td>\n",
       "      <td>22</td>\n",
       "      <td>Limburg</td>\n",
       "    </tr>\n",
       "    <tr>\n",
       "      <th>3</th>\n",
       "      <td>1.0</td>\n",
       "      <td>2008-01-07</td>\n",
       "      <td>M</td>\n",
       "      <td>V_RSV</td>\n",
       "      <td>23</td>\n",
       "      <td>East Flanders</td>\n",
       "    </tr>\n",
       "    <tr>\n",
       "      <th>4</th>\n",
       "      <td>43.0</td>\n",
       "      <td>2008-01-07</td>\n",
       "      <td>F</td>\n",
       "      <td>CHLTRA</td>\n",
       "      <td>21</td>\n",
       "      <td>Antwerp</td>\n",
       "    </tr>\n",
       "    <tr>\n",
       "      <th>5</th>\n",
       "      <td>0.0</td>\n",
       "      <td>2008-01-07</td>\n",
       "      <td>F</td>\n",
       "      <td>V_RSV</td>\n",
       "      <td>21</td>\n",
       "      <td>Antwerp</td>\n",
       "    </tr>\n",
       "    <tr>\n",
       "      <th>6</th>\n",
       "      <td>21.0</td>\n",
       "      <td>2008-01-07</td>\n",
       "      <td>M</td>\n",
       "      <td>NEIGON</td>\n",
       "      <td>21</td>\n",
       "      <td>Antwerp</td>\n",
       "    </tr>\n",
       "    <tr>\n",
       "      <th>7</th>\n",
       "      <td>42.0</td>\n",
       "      <td>2008-01-07</td>\n",
       "      <td>M</td>\n",
       "      <td>V_HCV</td>\n",
       "      <td>21</td>\n",
       "      <td>Antwerp</td>\n",
       "    </tr>\n",
       "    <tr>\n",
       "      <th>8</th>\n",
       "      <td>26.0</td>\n",
       "      <td>2008-01-07</td>\n",
       "      <td>F</td>\n",
       "      <td>V_PIV</td>\n",
       "      <td>10</td>\n",
       "      <td>Brussels</td>\n",
       "    </tr>\n",
       "    <tr>\n",
       "      <th>9</th>\n",
       "      <td>15.0</td>\n",
       "      <td>2008-01-07</td>\n",
       "      <td>F</td>\n",
       "      <td>V_HAV</td>\n",
       "      <td>10</td>\n",
       "      <td>Brussels</td>\n",
       "    </tr>\n",
       "    <tr>\n",
       "      <th>10</th>\n",
       "      <td>0.0</td>\n",
       "      <td>2008-01-07</td>\n",
       "      <td>M</td>\n",
       "      <td>V_RSV</td>\n",
       "      <td>24</td>\n",
       "      <td>Flemish Brabant</td>\n",
       "    </tr>\n",
       "    <tr>\n",
       "      <th>11</th>\n",
       "      <td>49.0</td>\n",
       "      <td>2008-01-07</td>\n",
       "      <td>M</td>\n",
       "      <td>CAM_SP</td>\n",
       "      <td>21</td>\n",
       "      <td>Antwerp</td>\n",
       "    </tr>\n",
       "    <tr>\n",
       "      <th>12</th>\n",
       "      <td>36.0</td>\n",
       "      <td>2008-01-07</td>\n",
       "      <td>F</td>\n",
       "      <td>NEIGON</td>\n",
       "      <td>32</td>\n",
       "      <td>Hainaut</td>\n",
       "    </tr>\n",
       "    <tr>\n",
       "      <th>13</th>\n",
       "      <td>0.0</td>\n",
       "      <td>2008-01-07</td>\n",
       "      <td>F</td>\n",
       "      <td>V_RSV</td>\n",
       "      <td>10</td>\n",
       "      <td>Brussels</td>\n",
       "    </tr>\n",
       "    <tr>\n",
       "      <th>14</th>\n",
       "      <td>19.0</td>\n",
       "      <td>2008-01-07</td>\n",
       "      <td>F</td>\n",
       "      <td>CAM_SP</td>\n",
       "      <td>21</td>\n",
       "      <td>Antwerp</td>\n",
       "    </tr>\n",
       "    <tr>\n",
       "      <th>15</th>\n",
       "      <td>0.0</td>\n",
       "      <td>2008-01-07</td>\n",
       "      <td>M</td>\n",
       "      <td>V_RSV</td>\n",
       "      <td>10</td>\n",
       "      <td>Brussels</td>\n",
       "    </tr>\n",
       "    <tr>\n",
       "      <th>16</th>\n",
       "      <td>31.0</td>\n",
       "      <td>2008-01-07</td>\n",
       "      <td>M</td>\n",
       "      <td>CHLTRA</td>\n",
       "      <td>31</td>\n",
       "      <td>Walloon Brabant</td>\n",
       "    </tr>\n",
       "    <tr>\n",
       "      <th>17</th>\n",
       "      <td>54.0</td>\n",
       "      <td>2008-01-07</td>\n",
       "      <td>M</td>\n",
       "      <td>V_HCV</td>\n",
       "      <td>0</td>\n",
       "      <td>Unknown</td>\n",
       "    </tr>\n",
       "    <tr>\n",
       "      <th>18</th>\n",
       "      <td>2.0</td>\n",
       "      <td>2008-01-07</td>\n",
       "      <td>F</td>\n",
       "      <td>V_RSV</td>\n",
       "      <td>21</td>\n",
       "      <td>Antwerp</td>\n",
       "    </tr>\n",
       "    <tr>\n",
       "      <th>19</th>\n",
       "      <td>0.0</td>\n",
       "      <td>2008-01-07</td>\n",
       "      <td>M</td>\n",
       "      <td>V_RSV</td>\n",
       "      <td>10</td>\n",
       "      <td>Brussels</td>\n",
       "    </tr>\n",
       "    <tr>\n",
       "      <th>20</th>\n",
       "      <td>30.0</td>\n",
       "      <td>2008-01-07</td>\n",
       "      <td>F</td>\n",
       "      <td>BRRBUR</td>\n",
       "      <td>10</td>\n",
       "      <td>Brussels</td>\n",
       "    </tr>\n",
       "    <tr>\n",
       "      <th>21</th>\n",
       "      <td>0.0</td>\n",
       "      <td>2008-01-07</td>\n",
       "      <td>M</td>\n",
       "      <td>V_RSV</td>\n",
       "      <td>33</td>\n",
       "      <td>Liege</td>\n",
       "    </tr>\n",
       "    <tr>\n",
       "      <th>22</th>\n",
       "      <td>22.0</td>\n",
       "      <td>2008-01-07</td>\n",
       "      <td>F</td>\n",
       "      <td>CHLTRA</td>\n",
       "      <td>10</td>\n",
       "      <td>Brussels</td>\n",
       "    </tr>\n",
       "    <tr>\n",
       "      <th>23</th>\n",
       "      <td>0.0</td>\n",
       "      <td>2008-01-07</td>\n",
       "      <td>M</td>\n",
       "      <td>V_RSV</td>\n",
       "      <td>23</td>\n",
       "      <td>East Flanders</td>\n",
       "    </tr>\n",
       "    <tr>\n",
       "      <th>24</th>\n",
       "      <td>0.0</td>\n",
       "      <td>2008-01-07</td>\n",
       "      <td>M</td>\n",
       "      <td>V_RSV</td>\n",
       "      <td>21</td>\n",
       "      <td>Antwerp</td>\n",
       "    </tr>\n",
       "    <tr>\n",
       "      <th>25</th>\n",
       "      <td>0.0</td>\n",
       "      <td>2008-01-07</td>\n",
       "      <td>F</td>\n",
       "      <td>V_RTV</td>\n",
       "      <td>24</td>\n",
       "      <td>Flemish Brabant</td>\n",
       "    </tr>\n",
       "    <tr>\n",
       "      <th>26</th>\n",
       "      <td>0.0</td>\n",
       "      <td>2008-01-07</td>\n",
       "      <td>M</td>\n",
       "      <td>V_RSV</td>\n",
       "      <td>22</td>\n",
       "      <td>Limburg</td>\n",
       "    </tr>\n",
       "    <tr>\n",
       "      <th>27</th>\n",
       "      <td>0.0</td>\n",
       "      <td>2008-01-07</td>\n",
       "      <td>M</td>\n",
       "      <td>V_RSV</td>\n",
       "      <td>32</td>\n",
       "      <td>Hainaut</td>\n",
       "    </tr>\n",
       "    <tr>\n",
       "      <th>28</th>\n",
       "      <td>0.0</td>\n",
       "      <td>2008-01-07</td>\n",
       "      <td>F</td>\n",
       "      <td>V_RSV</td>\n",
       "      <td>21</td>\n",
       "      <td>Antwerp</td>\n",
       "    </tr>\n",
       "    <tr>\n",
       "      <th>29</th>\n",
       "      <td>1.0</td>\n",
       "      <td>2008-01-07</td>\n",
       "      <td>F</td>\n",
       "      <td>V_RTV</td>\n",
       "      <td>10</td>\n",
       "      <td>Brussels</td>\n",
       "    </tr>\n",
       "    <tr>\n",
       "      <th>...</th>\n",
       "      <td>...</td>\n",
       "      <td>...</td>\n",
       "      <td>...</td>\n",
       "      <td>...</td>\n",
       "      <td>...</td>\n",
       "      <td>...</td>\n",
       "    </tr>\n",
       "    <tr>\n",
       "      <th>295290</th>\n",
       "      <td>36.0</td>\n",
       "      <td>2015-09-21</td>\n",
       "      <td>M</td>\n",
       "      <td>HIV</td>\n",
       "      <td>10</td>\n",
       "      <td>Brussels</td>\n",
       "    </tr>\n",
       "    <tr>\n",
       "      <th>295291</th>\n",
       "      <td>38.0</td>\n",
       "      <td>2015-03-30</td>\n",
       "      <td>F</td>\n",
       "      <td>HIV</td>\n",
       "      <td>10</td>\n",
       "      <td>Brussels</td>\n",
       "    </tr>\n",
       "    <tr>\n",
       "      <th>295292</th>\n",
       "      <td>34.0</td>\n",
       "      <td>2015-06-15</td>\n",
       "      <td>F</td>\n",
       "      <td>HIV</td>\n",
       "      <td>24</td>\n",
       "      <td>Flemish Brabant</td>\n",
       "    </tr>\n",
       "    <tr>\n",
       "      <th>295293</th>\n",
       "      <td>41.0</td>\n",
       "      <td>2015-05-11</td>\n",
       "      <td>M</td>\n",
       "      <td>HIV</td>\n",
       "      <td>0</td>\n",
       "      <td>Unknown</td>\n",
       "    </tr>\n",
       "    <tr>\n",
       "      <th>295294</th>\n",
       "      <td>47.0</td>\n",
       "      <td>2015-01-12</td>\n",
       "      <td>M</td>\n",
       "      <td>HIV</td>\n",
       "      <td>10</td>\n",
       "      <td>Brussels</td>\n",
       "    </tr>\n",
       "    <tr>\n",
       "      <th>295295</th>\n",
       "      <td>43.0</td>\n",
       "      <td>2015-06-08</td>\n",
       "      <td>M</td>\n",
       "      <td>HIV</td>\n",
       "      <td>0</td>\n",
       "      <td>Unknown</td>\n",
       "    </tr>\n",
       "    <tr>\n",
       "      <th>295296</th>\n",
       "      <td>54.0</td>\n",
       "      <td>2015-09-07</td>\n",
       "      <td>M</td>\n",
       "      <td>HIV</td>\n",
       "      <td>10</td>\n",
       "      <td>Brussels</td>\n",
       "    </tr>\n",
       "    <tr>\n",
       "      <th>295297</th>\n",
       "      <td>33.0</td>\n",
       "      <td>2015-02-09</td>\n",
       "      <td>F</td>\n",
       "      <td>HIV</td>\n",
       "      <td>10</td>\n",
       "      <td>Brussels</td>\n",
       "    </tr>\n",
       "    <tr>\n",
       "      <th>295298</th>\n",
       "      <td>32.0</td>\n",
       "      <td>2015-05-04</td>\n",
       "      <td>M</td>\n",
       "      <td>HIV</td>\n",
       "      <td>10</td>\n",
       "      <td>Brussels</td>\n",
       "    </tr>\n",
       "    <tr>\n",
       "      <th>295299</th>\n",
       "      <td>54.0</td>\n",
       "      <td>2015-08-03</td>\n",
       "      <td>F</td>\n",
       "      <td>HIV</td>\n",
       "      <td>24</td>\n",
       "      <td>Flemish Brabant</td>\n",
       "    </tr>\n",
       "    <tr>\n",
       "      <th>295300</th>\n",
       "      <td>48.0</td>\n",
       "      <td>2015-03-30</td>\n",
       "      <td>F</td>\n",
       "      <td>HIV</td>\n",
       "      <td>24</td>\n",
       "      <td>Flemish Brabant</td>\n",
       "    </tr>\n",
       "    <tr>\n",
       "      <th>295301</th>\n",
       "      <td>51.0</td>\n",
       "      <td>2015-10-26</td>\n",
       "      <td>M</td>\n",
       "      <td>HIV</td>\n",
       "      <td>23</td>\n",
       "      <td>East Flanders</td>\n",
       "    </tr>\n",
       "    <tr>\n",
       "      <th>295302</th>\n",
       "      <td>22.0</td>\n",
       "      <td>2015-03-02</td>\n",
       "      <td>M</td>\n",
       "      <td>HIV</td>\n",
       "      <td>21</td>\n",
       "      <td>Antwerp</td>\n",
       "    </tr>\n",
       "    <tr>\n",
       "      <th>295303</th>\n",
       "      <td>50.0</td>\n",
       "      <td>2015-09-28</td>\n",
       "      <td>M</td>\n",
       "      <td>HIV</td>\n",
       "      <td>10</td>\n",
       "      <td>Brussels</td>\n",
       "    </tr>\n",
       "    <tr>\n",
       "      <th>295304</th>\n",
       "      <td>43.0</td>\n",
       "      <td>2015-11-02</td>\n",
       "      <td>M</td>\n",
       "      <td>HIV</td>\n",
       "      <td>10</td>\n",
       "      <td>Brussels</td>\n",
       "    </tr>\n",
       "    <tr>\n",
       "      <th>295305</th>\n",
       "      <td>38.0</td>\n",
       "      <td>2015-07-20</td>\n",
       "      <td>M</td>\n",
       "      <td>HIV</td>\n",
       "      <td>10</td>\n",
       "      <td>Brussels</td>\n",
       "    </tr>\n",
       "    <tr>\n",
       "      <th>295306</th>\n",
       "      <td>39.0</td>\n",
       "      <td>2015-12-14</td>\n",
       "      <td>M</td>\n",
       "      <td>HIV</td>\n",
       "      <td>10</td>\n",
       "      <td>Brussels</td>\n",
       "    </tr>\n",
       "    <tr>\n",
       "      <th>295307</th>\n",
       "      <td>54.0</td>\n",
       "      <td>2015-08-03</td>\n",
       "      <td>M</td>\n",
       "      <td>HIV</td>\n",
       "      <td>0</td>\n",
       "      <td>Unknown</td>\n",
       "    </tr>\n",
       "    <tr>\n",
       "      <th>295308</th>\n",
       "      <td>37.0</td>\n",
       "      <td>2015-07-13</td>\n",
       "      <td>F</td>\n",
       "      <td>HIV</td>\n",
       "      <td>0</td>\n",
       "      <td>Unknown</td>\n",
       "    </tr>\n",
       "    <tr>\n",
       "      <th>295309</th>\n",
       "      <td>49.0</td>\n",
       "      <td>2015-05-25</td>\n",
       "      <td>M</td>\n",
       "      <td>HIV</td>\n",
       "      <td>0</td>\n",
       "      <td>Unknown</td>\n",
       "    </tr>\n",
       "    <tr>\n",
       "      <th>295310</th>\n",
       "      <td>33.0</td>\n",
       "      <td>2015-03-30</td>\n",
       "      <td>M</td>\n",
       "      <td>HIV</td>\n",
       "      <td>24</td>\n",
       "      <td>Flemish Brabant</td>\n",
       "    </tr>\n",
       "    <tr>\n",
       "      <th>295311</th>\n",
       "      <td>45.0</td>\n",
       "      <td>2015-06-29</td>\n",
       "      <td>M</td>\n",
       "      <td>HIV</td>\n",
       "      <td>0</td>\n",
       "      <td>Unknown</td>\n",
       "    </tr>\n",
       "    <tr>\n",
       "      <th>295312</th>\n",
       "      <td>35.0</td>\n",
       "      <td>2015-06-01</td>\n",
       "      <td>F</td>\n",
       "      <td>HIV</td>\n",
       "      <td>21</td>\n",
       "      <td>Antwerp</td>\n",
       "    </tr>\n",
       "    <tr>\n",
       "      <th>295313</th>\n",
       "      <td>31.0</td>\n",
       "      <td>2015-11-02</td>\n",
       "      <td>M</td>\n",
       "      <td>HIV</td>\n",
       "      <td>0</td>\n",
       "      <td>Unknown</td>\n",
       "    </tr>\n",
       "    <tr>\n",
       "      <th>295314</th>\n",
       "      <td>28.0</td>\n",
       "      <td>2015-11-16</td>\n",
       "      <td>F</td>\n",
       "      <td>HIV</td>\n",
       "      <td>0</td>\n",
       "      <td>Unknown</td>\n",
       "    </tr>\n",
       "    <tr>\n",
       "      <th>295315</th>\n",
       "      <td>38.0</td>\n",
       "      <td>2010-08-16</td>\n",
       "      <td>M</td>\n",
       "      <td>HIV</td>\n",
       "      <td>22</td>\n",
       "      <td>Limburg</td>\n",
       "    </tr>\n",
       "    <tr>\n",
       "      <th>295316</th>\n",
       "      <td>32.0</td>\n",
       "      <td>2014-09-08</td>\n",
       "      <td>M</td>\n",
       "      <td>HIV</td>\n",
       "      <td>22</td>\n",
       "      <td>Limburg</td>\n",
       "    </tr>\n",
       "    <tr>\n",
       "      <th>295317</th>\n",
       "      <td>61.0</td>\n",
       "      <td>2015-11-16</td>\n",
       "      <td>F</td>\n",
       "      <td>HIV</td>\n",
       "      <td>0</td>\n",
       "      <td>Unknown</td>\n",
       "    </tr>\n",
       "    <tr>\n",
       "      <th>295318</th>\n",
       "      <td>41.0</td>\n",
       "      <td>2013-12-30</td>\n",
       "      <td>F</td>\n",
       "      <td>HIV</td>\n",
       "      <td>10</td>\n",
       "      <td>Brussels</td>\n",
       "    </tr>\n",
       "    <tr>\n",
       "      <th>295319</th>\n",
       "      <td>48.0</td>\n",
       "      <td>2015-05-11</td>\n",
       "      <td>F</td>\n",
       "      <td>HIV</td>\n",
       "      <td>24</td>\n",
       "      <td>Flemish Brabant</td>\n",
       "    </tr>\n",
       "  </tbody>\n",
       "</table>\n",
       "<p>295320 rows × 6 columns</p>\n",
       "</div>"
      ],
      "text/plain": [
       "         Age  DateMonday Gender Subject  NUTS2         Province\n",
       "0       63.0  2008-01-07      F  BRRBUR     32          Hainaut\n",
       "1       58.0  2008-01-07      F  STRPYO     23    East Flanders\n",
       "2        0.0  2008-01-07    NaN   V_RSV     22          Limburg\n",
       "3        1.0  2008-01-07      M   V_RSV     23    East Flanders\n",
       "4       43.0  2008-01-07      F  CHLTRA     21          Antwerp\n",
       "5        0.0  2008-01-07      F   V_RSV     21          Antwerp\n",
       "6       21.0  2008-01-07      M  NEIGON     21          Antwerp\n",
       "7       42.0  2008-01-07      M   V_HCV     21          Antwerp\n",
       "8       26.0  2008-01-07      F   V_PIV     10         Brussels\n",
       "9       15.0  2008-01-07      F   V_HAV     10         Brussels\n",
       "10       0.0  2008-01-07      M   V_RSV     24  Flemish Brabant\n",
       "11      49.0  2008-01-07      M  CAM_SP     21          Antwerp\n",
       "12      36.0  2008-01-07      F  NEIGON     32          Hainaut\n",
       "13       0.0  2008-01-07      F   V_RSV     10         Brussels\n",
       "14      19.0  2008-01-07      F  CAM_SP     21          Antwerp\n",
       "15       0.0  2008-01-07      M   V_RSV     10         Brussels\n",
       "16      31.0  2008-01-07      M  CHLTRA     31  Walloon Brabant\n",
       "17      54.0  2008-01-07      M   V_HCV      0          Unknown\n",
       "18       2.0  2008-01-07      F   V_RSV     21          Antwerp\n",
       "19       0.0  2008-01-07      M   V_RSV     10         Brussels\n",
       "20      30.0  2008-01-07      F  BRRBUR     10         Brussels\n",
       "21       0.0  2008-01-07      M   V_RSV     33            Liege\n",
       "22      22.0  2008-01-07      F  CHLTRA     10         Brussels\n",
       "23       0.0  2008-01-07      M   V_RSV     23    East Flanders\n",
       "24       0.0  2008-01-07      M   V_RSV     21          Antwerp\n",
       "25       0.0  2008-01-07      F   V_RTV     24  Flemish Brabant\n",
       "26       0.0  2008-01-07      M   V_RSV     22          Limburg\n",
       "27       0.0  2008-01-07      M   V_RSV     32          Hainaut\n",
       "28       0.0  2008-01-07      F   V_RSV     21          Antwerp\n",
       "29       1.0  2008-01-07      F   V_RTV     10         Brussels\n",
       "...      ...         ...    ...     ...    ...              ...\n",
       "295290  36.0  2015-09-21      M     HIV     10         Brussels\n",
       "295291  38.0  2015-03-30      F     HIV     10         Brussels\n",
       "295292  34.0  2015-06-15      F     HIV     24  Flemish Brabant\n",
       "295293  41.0  2015-05-11      M     HIV      0          Unknown\n",
       "295294  47.0  2015-01-12      M     HIV     10         Brussels\n",
       "295295  43.0  2015-06-08      M     HIV      0          Unknown\n",
       "295296  54.0  2015-09-07      M     HIV     10         Brussels\n",
       "295297  33.0  2015-02-09      F     HIV     10         Brussels\n",
       "295298  32.0  2015-05-04      M     HIV     10         Brussels\n",
       "295299  54.0  2015-08-03      F     HIV     24  Flemish Brabant\n",
       "295300  48.0  2015-03-30      F     HIV     24  Flemish Brabant\n",
       "295301  51.0  2015-10-26      M     HIV     23    East Flanders\n",
       "295302  22.0  2015-03-02      M     HIV     21          Antwerp\n",
       "295303  50.0  2015-09-28      M     HIV     10         Brussels\n",
       "295304  43.0  2015-11-02      M     HIV     10         Brussels\n",
       "295305  38.0  2015-07-20      M     HIV     10         Brussels\n",
       "295306  39.0  2015-12-14      M     HIV     10         Brussels\n",
       "295307  54.0  2015-08-03      M     HIV      0          Unknown\n",
       "295308  37.0  2015-07-13      F     HIV      0          Unknown\n",
       "295309  49.0  2015-05-25      M     HIV      0          Unknown\n",
       "295310  33.0  2015-03-30      M     HIV     24  Flemish Brabant\n",
       "295311  45.0  2015-06-29      M     HIV      0          Unknown\n",
       "295312  35.0  2015-06-01      F     HIV     21          Antwerp\n",
       "295313  31.0  2015-11-02      M     HIV      0          Unknown\n",
       "295314  28.0  2015-11-16      F     HIV      0          Unknown\n",
       "295315  38.0  2010-08-16      M     HIV     22          Limburg\n",
       "295316  32.0  2014-09-08      M     HIV     22          Limburg\n",
       "295317  61.0  2015-11-16      F     HIV      0          Unknown\n",
       "295318  41.0  2013-12-30      F     HIV     10         Brussels\n",
       "295319  48.0  2015-05-11      F     HIV     24  Flemish Brabant\n",
       "\n",
       "[295320 rows x 6 columns]"
      ]
     },
     "execution_count": 52,
     "metadata": {},
     "output_type": "execute_result"
    }
   ],
   "source": [
    "D.NUTS2 = D.NUTS2.fillna(0).astype(int)\n",
    "A.loc[0, 'Province'] = 'Unknown'\n",
    "\n",
    "D['Province'] = D.NUTS2.apply(lambda code: A.loc[code,'Province'])\n",
    "D"
   ]
  },
  {
   "cell_type": "markdown",
   "metadata": {},
   "source": [
    "Давайте попробуем ответить на вопросы..."
   ]
  },
  {
   "cell_type": "markdown",
   "metadata": {},
   "source": [
    "### Задание на выявление корреляций\n",
    "\n",
    "С каким заболеванием максимально коррелирует число случаев хламидиоза в Антверпене за весь период, отраженный в наборе данных\n",
    "за период с 1990 по 2014\n"
   ]
  },
  {
   "cell_type": "markdown",
   "metadata": {},
   "source": [
    "Один из хламидиозов - хламидиоз попугайчиков очень редкий. Наверно имеется в виду более распространенное ЗППП."
   ]
  },
  {
   "cell_type": "code",
   "execution_count": 55,
   "metadata": {},
   "outputs": [
    {
     "data": {
      "image/png": "[encoded data removed]",
      "text/plain": [
       "<Figure size 600x400 with 1 Axes>"
      ]
     },
     "metadata": {},
     "output_type": "display_data"
    }
   ],
   "source": [
    "X = D[(D.Subject=='CHLTRA') & (D.Province == 'Antwerp')]\n",
    "X.groupby('DateMonday').Subject.count().plot();"
   ]
  },
  {
   "cell_type": "markdown",
   "metadata": {},
   "source": [
    "Мы видим рост заболеваемости. С какими наборами данных нужно провести корреляцию? Нужно получить динамику для всех инфекций в этом регионе."
   ]
  },
  {
   "cell_type": "code",
   "execution_count": 59,
   "metadata": {},
   "outputs": [],
   "source": [
    "X = D[(D.Province == 'Antwerp')]\n"
   ]
  },
  {
   "cell_type": "code",
   "execution_count": 61,
   "metadata": {},
   "outputs": [
    {
     "data": {
      "text/plain": [
       "<matplotlib.axes._subplots.AxesSubplot at 0xcdf0e10>"
      ]
     },
     "execution_count": 61,
     "metadata": {},
     "output_type": "execute_result"
    },
    {
     "data": {
      "image/png": "[encoded data removed]",
      "text/plain": [
       "<Figure size 600x400 with 1 Axes>"
      ]
     },
     "metadata": {},
     "output_type": "display_data"
    }
   ],
   "source": [
    "Y = pd.pivot_table(X, 'Province', 'DateMonday', 'Subject', aggfunc='count')\n",
    "Y.plot();"
   ]
  },
  {
   "cell_type": "code",
   "execution_count": 87,
   "metadata": {},
   "outputs": [
    {
     "data": {
      "image/png": "[encoded data removed]",
      "text/plain": [
       "<Figure size 1200x200 with 2 Axes>"
      ]
     },
     "metadata": {},
     "output_type": "display_data"
    }
   ],
   "source": [
    "C = Y.corr()\n",
    "figure(figsize=(12,2))\n",
    "# удаляем пересечение с одноименной колонкой, потому что корреляция с самим собой всегда 1.0.\n",
    "_C = C.loc[['CHLTRA']].T.drop('CHLTRA')\n",
    "\n",
    "sns.heatmap(_C.T, cmap='coolwarm', center=0);"
   ]
  },
  {
   "cell_type": "code",
   "execution_count": 88,
   "metadata": {},
   "outputs": [
    {
     "data": {
      "text/plain": [
       "'NEIGON'"
      ]
     },
     "execution_count": 88,
     "metadata": {},
     "output_type": "execute_result"
    }
   ],
   "source": [
    "_C['CHLTRA'].argmax()"
   ]
  },
  {
   "cell_type": "code",
   "execution_count": 91,
   "metadata": {},
   "outputs": [
    {
     "data": {
      "text/plain": [
       "'Neisseria gonorrhoeae'"
      ]
     },
     "execution_count": 91,
     "metadata": {},
     "output_type": "execute_result"
    }
   ],
   "source": [
    "species[_C['CHLTRA'].argmax()]"
   ]
  },
  {
   "cell_type": "code",
   "execution_count": 93,
   "metadata": {},
   "outputs": [
    {
     "data": {
      "text/plain": [
       "Subject\n",
       "CHLTRA    0.518782\n",
       "Name: NEIGON, dtype: float64"
      ]
     },
     "execution_count": 93,
     "metadata": {},
     "output_type": "execute_result"
    }
   ],
   "source": [
    "_C.loc[_C['CHLTRA'].argmax()]"
   ]
  },
  {
   "cell_type": "markdown",
   "metadata": {},
   "source": [
    "Корреляция 52% с динамикой другого ЗППП - гонореей."
   ]
  },
  {
   "cell_type": "markdown",
   "metadata": {},
   "source": [
    "### О нравах бельгийцев..."
   ]
  },
  {
   "cell_type": "markdown",
   "metadata": {},
   "source": [
    "А что можно сказать про гендерные особенности заболеваемости гонореей?"
   ]
  },
  {
   "cell_type": "code",
   "execution_count": 96,
   "metadata": {},
   "outputs": [
    {
     "data": {
      "image/png": "[encoded data removed]",
      "text/plain": [
       "<Figure size 600x400 with 1 Axes>"
      ]
     },
     "metadata": {},
     "output_type": "display_data"
    }
   ],
   "source": [
    "X = D[(D.Subject=='NEIGON')]\n",
    "N = X.groupby('Gender').Subject.count()\n",
    "N.plot(kind='bar');"
   ]
  },
  {
   "cell_type": "markdown",
   "metadata": {},
   "source": [
    "Мужчины намного чаще болеют ЗППП. Если допустить что на каждую заболевшую женщину приходится один заболевший мужчина, то часть мужчин получили инфекцию иначе?"
   ]
  },
  {
   "cell_type": "code",
   "execution_count": 102,
   "metadata": {},
   "outputs": [
    {
     "data": {
      "text/plain": [
       "1.1041436464088399"
      ]
     },
     "execution_count": 102,
     "metadata": {},
     "output_type": "execute_result"
    }
   ],
   "source": [
    "nMF = N.F\n",
    "nMhomo = (N.M - nMF)\n",
    "\n",
    "nMM = nMhomo / 2\n",
    "\n",
    "nMM / nMF"
   ]
  },
  {
   "cell_type": "markdown",
   "metadata": {},
   "source": [
    "При прочих равных допущениях количество заражений внутри ММ пар в Бельгии на 10% больше, чем внутри MF пар. Остается только надеется, что разнополые пары не оказались в меньшинстве, а просто меньше болеют."
   ]
  },
  {
   "cell_type": "markdown",
   "metadata": {},
   "source": [
    "### См. также\n",
    "\n",
    "- [Онлайн приложение для наблюдения за эпидемиями](https://dirk.shinyapps.io/surveillance/)\n",
    "surveillance - пакет для Temporal and Spatio-Temporal Modeling and Monitoring of Epidemic Phenomena\n"
   ]
  }
 ],
 "metadata": {
  "kernelspec": {
   "display_name": "Python 3",
   "language": "python",
   "name": "python3"
  },
  "language_info": {
   "codemirror_mode": {
    "name": "ipython",
    "version": 3
   },
   "file_extension": ".py",
   "mimetype": "text/x-python",
   "name": "python",
   "nbconvert_exporter": "python",
   "pygments_lexer": "ipython3",
   "version": "3.7.1"
  },
  "toc": {
   "base_numbering": 1,
   "nav_menu": {
    "height": "287px",
    "width": "285px"
   },
   "number_sections": false,
   "sideBar": false,
   "skip_h1_title": false,
   "title_cell": "Table of Contents",
   "title_sidebar": "Contents",
   "toc_cell": false,
   "toc_position": {},
   "toc_section_display": true,
   "toc_window_display": false
  }
 },
 "nbformat": 4,
 "nbformat_minor": 2
}
