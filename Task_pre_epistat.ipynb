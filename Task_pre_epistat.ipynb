{
 "cells": [
  {
   "cell_type": "markdown",
   "metadata": {},
   "source": [
    "# Подготовка данных про инфекционные заболевания"
   ]
  },
  {
   "cell_type": "markdown",
   "metadata": {},
   "source": [
    "Данные к онлайн-приложению https://epistat.wiv-isp.be\n",
    "\n",
    "Каждая строчка в наборе данных - это запись о заболевании конкретного человека. Т.е. по одной записи можно установить, когда и с кем случилась неприятность. В некоторых случаях это серьезные заболевания вроде СПИД.\n",
    "\n",
    "Однако, при анализе нас интересует количество случаев заболеваний за период времени в том или ином районе среде той или иной части населения.\n",
    "Чтобы получать такие числа мы должны правильно отбирать строки в таблице и просто считать количество строк в полученных выборках.\n",
    "\n",
    "Эпидемиология - наука на стыке микробиологии и социологии.\n",
    "\n",
    "\n"
   ]
  },
  {
   "cell_type": "code",
   "execution_count": null,
   "metadata": {},
   "outputs": [],
   "source": [
    "%pylab inline\n",
    "from ipywidgets import interact\n",
    "import pandas as pd\n",
    "import seaborn as sns\n",
    "\n",
    "import scipy.signal as signal\n",
    "import scipy.stats as stats"
   ]
  },
  {
   "cell_type": "markdown",
   "metadata": {},
   "source": [
    "Загружаем данные."
   ]
  },
  {
   "cell_type": "code",
   "execution_count": null,
   "metadata": {},
   "outputs": [],
   "source": [
    "D = pd.read_csv(\"epistat.csv\")  #https://epistat.wiv-isp.be/data/public_cases.csv\")\n",
    "D.info()"
   ]
  },
  {
   "cell_type": "markdown",
   "metadata": {},
   "source": [
    "Для удобства сделаем колонки для отбора по годам и по месяцам."
   ]
  },
  {
   "cell_type": "code",
   "execution_count": null,
   "metadata": {},
   "outputs": [],
   "source": [
    "D['Y'] = D.DateMonday.str.slice(0,4).astype(int)\n",
    "D.Y.value_counts()"
   ]
  },
  {
   "cell_type": "code",
   "execution_count": null,
   "metadata": {},
   "outputs": [],
   "source": [
    "D['YM'] = D.DateMonday.str.slice(0,7)\n",
    "\n",
    "D['M'] = D.DateMonday.str.slice(5,7).astype(int)\n",
    "D.M.value_counts().sort_index()"
   ]
  },
  {
   "cell_type": "markdown",
   "metadata": {},
   "source": [
    "Можно создать новые колонки с латинскими названиями возбудителей и названиями провинций."
   ]
  },
  {
   "cell_type": "code",
   "execution_count": null,
   "metadata": {},
   "outputs": [],
   "source": [
    "subj_species = {\n",
    "    'BORPER':'Bordetella pertussis',\n",
    "    'BRRBUR':'Borrelia burgdorferi',\n",
    "    'CAM_SP':'Campylobacter sp.',\n",
    "    'CHIK  ':'Chikungunya virus',\n",
    "    'CHLPSI':'Chlamydia psittaci',\n",
    "    'CHLTRA':'Chlamydia trachomatis',\n",
    "    'CRS_SP':'Cryptosporidium',\n",
    "    'ENTHIS':'Entamoeba histolytica',\n",
    "    'GIA_SP':'Giardia sp.',\n",
    "    'HAEINF':'Haemophilus influenzae',\n",
    "    'HIV   ':'Lentivirus \"HIV\"',\n",
    "    'LIS_SP':'Listeria sp.',\n",
    "    'MENI  ':'Neisseria meningitidis',\n",
    "    'NEIGON':'Neisseria gonorrhoeae',\n",
    "    'PNEU  ':'Streptococcus pneumoniae',\n",
    "    'SALM  ':'Salmonella',\n",
    "    'SHIG  ':'Shigella',\n",
    "    'STRPYO':'Streptococcus pyogenes',\n",
    "    'VTEC  ':'Escherichia coli \"VTEC\"',\n",
    "    'V_ADV ':'Adenovirus',\n",
    "    'V_HAV ':'Hepatitis A virus',\n",
    "    'V_HCV ':'Hepatitis C virus',\n",
    "    'V_HTV ':'Hantavirus',\n",
    "    'V_PIV ':'Parainfluenza',\n",
    "    'V_RSV ':'Respiratory Syncytial Virus',\n",
    "    'V_RTV ':'Rotavirus',\n",
    "    'YERENT':'Yersinia enterocolitica',\n",
    "    'ZIKA  ':'Flavivirus \"ZIKA\"',\n",
    "}\n",
    "subj_species = {k.strip():v for k,v in subj_species.items()}\n",
    "D['Species'] = D.Subject.apply(lambda code: subj_species[code])"
   ]
  },
  {
   "cell_type": "code",
   "execution_count": null,
   "metadata": {},
   "outputs": [],
   "source": [
    "NUTS2_Province = {\n",
    "10: 'Brussels',\n",
    "21: 'Antwerp',\n",
    "22: 'Limburg',\n",
    "23: 'East Flanders',\n",
    "24: 'Flemish Brabant',\n",
    "25: 'West Flanders',\n",
    "31: 'Walloon Brabant',\n",
    "32: 'Hainaut',\n",
    "33: 'Liege',\n",
    "34: 'Luxembourg',\n",
    "35: 'Namur',\n",
    "0: '-'\n",
    "}\n",
    "D.NUTS2 = D.NUTS2.fillna(0).astype(int)\n",
    "D['Province'] = D.NUTS2.apply(lambda code: NUTS2_Province[code])"
   ]
  },
  {
   "cell_type": "markdown",
   "metadata": {},
   "source": [
    "## Анализ пустот\n",
    "\n",
    "Перед тем как делать обобщающие выводы по результатам решения задач, прикинем полноту представленных в наборе записей."
   ]
  },
  {
   "cell_type": "markdown",
   "metadata": {},
   "source": [
    "Чувствительные данные, относящиеся к самим пациентам, могут отсутствовать умышленно из соображений анонимности при сборе данных. Колонки возраст, пол и провинция могут косвенно указывать на носителей заболевания."
   ]
  },
  {
   "cell_type": "markdown",
   "metadata": {},
   "source": [
    "Посмотрим, для каких возбудителей чаще всего не указана провинция."
   ]
  },
  {
   "cell_type": "code",
   "execution_count": null,
   "metadata": {},
   "outputs": [],
   "source": [
    "D[D['Province']=='-'].Species.value_counts()"
   ]
  },
  {
   "cell_type": "markdown",
   "metadata": {},
   "source": [
    "Интересно, много случаев СПИД без указания провинции. Еще больше сальмонеллёза. Давайте рассчитаем процент \"скрытых\" адресов относительно общей численности записей по каждой инфекции."
   ]
  },
  {
   "cell_type": "code",
   "execution_count": null,
   "metadata": {},
   "outputs": [],
   "source": [
    "(D[D['Province']=='-'].Species.value_counts() / D.Species.value_counts()).sort_values() * 100"
   ]
  },
  {
   "cell_type": "markdown",
   "metadata": {},
   "source": [
    "Действительно, чаще всего фиксировались без указания адреса случаи заражения ВИЧ (HIV) - 26% от всей статистики.\n",
    "\n",
    "А что с возрастом инфицированных ВИЧ в Бельгии?"
   ]
  },
  {
   "cell_type": "code",
   "execution_count": null,
   "metadata": {
    "scrolled": true
   },
   "outputs": [],
   "source": [
    "X = D[(D.Subject=='HIV') & (D.Age.notnull())]\n",
    "\n",
    "sns.kdeplot(X[X.Province == '-'].Age, label='Без адреса')\n",
    "sns.kdeplot(X[X.Province != '-'].Age, label='Провинция указана');"
   ]
  },
  {
   "cell_type": "markdown",
   "metadata": {},
   "source": [
    "Большинство случаев заражения ВИЧ в детском возрасте (до 15 лет) в базе без указания адреса. В остальном распределения примерно совпадают."
   ]
  },
  {
   "cell_type": "markdown",
   "metadata": {},
   "source": [
    "А при каких заболеваниях чаще не указывали возраст?"
   ]
  },
  {
   "cell_type": "code",
   "execution_count": null,
   "metadata": {},
   "outputs": [],
   "source": [
    "(D[D.Age.isnull()].Species.value_counts() / D.Species.value_counts()).sort_values() * 100"
   ]
  },
  {
   "cell_type": "markdown",
   "metadata": {},
   "source": [
    "Сальмонелла - кишечная инфекция. Ничего особенного."
   ]
  },
  {
   "cell_type": "markdown",
   "metadata": {},
   "source": [
    "## Динамика\n",
    "\n",
    "При рассмотрении динамики заболеваемости во времени важно четко представлять иерархичность циклов, которыми оперируют эпидемиологи (как и другие люди).\n",
    "\n",
    "Глобальные тренды оценивают по годам. \n",
    "Внутри года смотрят помесячную динамику.\n",
    "В данном наборе минимальный срок - неделя, которая имеет четкую длительность - 7 дней.\n",
    "\n",
    "Проблема осложняется тем, что в месяце нет четкого количества недель, потому что количество дней в разных месяцах варьирует.\n",
    "Для правильного пересчета значений в иные периодические шкалы нужно использовать календарь. Функционал пересчета дат и периодов из одной шкалы в другую поддерживается в библиотеке `pandas`."
   ]
  },
  {
   "cell_type": "code",
   "execution_count": null,
   "metadata": {},
   "outputs": [],
   "source": [
    "# создадим новую колонку, которая будет содержать объекты типа `datetime64`, со значениями, \n",
    "# дублирующими колонку DateMonday, которая содержит строки из 10 символов.\n",
    "D['W'] = pd.to_datetime(D['DateMonday'])\n",
    "# Чтобы легко было суммировать случаи заболевания, добавим в каждую строку по единице.\n",
    "D['n']= 1\n",
    "\n",
    "# Теперь полученную колонку сделаем индексом\n",
    "D.set_index('W', drop=False, inplace=True)\n",
    "# Индекс преобразуем в период - вместо одного дня понедельника будет диапазон из 7 дней\n",
    "D = D.to_period('W', copy=False)\n",
    "D.index.name = 'Time'"
   ]
  },
  {
   "cell_type": "markdown",
   "metadata": {},
   "source": [
    "При трактовке динамики полезно понимать к какому типу инфекции относится то или иное заболевание. \n",
    "\n",
    "Эпидемиологические вспышки напрямую зависят от способа заражения. А он принципиально разный для:\n",
    "- простудно-легочных заболеваний (Bordetella, Streptococcus, Haemophilus)\n",
    "- кишечных расстройств (Shigella, Salmonella, Giardia)\n",
    "- ЗППП (Neisseria gonorrhoeae, Chlamydia trachomatis)\n",
    "- в общем безвредных паразитов, которые в редких случаях переходят в тяжелые системные заболевания (дизентерийная амёба, ВИЧ, Borrelia, Listeria, Neisseria meningitidis)"
   ]
  },
  {
   "cell_type": "markdown",
   "metadata": {},
   "source": [
    "Предсказуемость динамики заболеваемости осложняется тем, что безобидный микроорганизм, который легко распознается и ликвидируется иммунными клетками, в отдельных случаях приводит к заболеванию.\n",
    "\n",
    "Самый яркий пример - детские инфекции. Несмотря на то, что у новорожденных сильный иммунитет, часть которого приобретена пассивно через плаценту, при встрече с некоторыми микропаразитами врожденный иммунитет бессилен. А значит каждому ребенку \"надо переболеть\" ротавирусной (понос) или аденовирусной (сопли) инфекциями."
   ]
  },
  {
   "cell_type": "markdown",
   "metadata": {},
   "source": [
    "### Сезонная динамика"
   ]
  },
  {
   "cell_type": "markdown",
   "metadata": {},
   "source": [
    "Восприимчивость к патогенам зависит от погоды: зимой легче заболевают одними инфекционными болезнями, летом - другими."
   ]
  },
  {
   "cell_type": "code",
   "execution_count": null,
   "metadata": {},
   "outputs": [],
   "source": [
    "X = D[D.Species=='Rotavirus']"
   ]
  },
  {
   "cell_type": "markdown",
   "metadata": {},
   "source": [
    "Для отображения динамики мы должны сгруппировать записи по неделям, сосчитать количество случаев в каждой группе и нарисовать график."
   ]
  },
  {
   "cell_type": "code",
   "execution_count": null,
   "metadata": {},
   "outputs": [],
   "source": [
    "X.groupby('W').n.count().plot();"
   ]
  },
  {
   "cell_type": "markdown",
   "metadata": {},
   "source": [
    "Так в колонке `n` одни единички, можно вместо подсчета использовать сумму. График будет тот же самый."
   ]
  },
  {
   "cell_type": "code",
   "execution_count": null,
   "metadata": {},
   "outputs": [],
   "source": [
    "X.groupby('W').n.sum().plot();"
   ]
  },
  {
   "cell_type": "markdown",
   "metadata": {},
   "source": [
    "Для наложения графиков годовой динамики один поверх другого нужно сделать то же самое, но для выборки по каждому году. При итерации групп в цикле мы на каждом шаге получаем имя группы и выборку строк для этой группы."
   ]
  },
  {
   "cell_type": "code",
   "execution_count": null,
   "metadata": {},
   "outputs": [],
   "source": [
    "for glabel,g in X.groupby('Y'):\n",
    "    # группируем по неделям и берем суммарные значения\n",
    "    vv = g.groupby('W').n.sum().values    \n",
    "    plot(vv, label=glabel)\n",
    "\n",
    "xlabel('Номер недели')\n",
    "ylabel('Заболеваний / нед')\n",
    "legend();"
   ]
  },
  {
   "cell_type": "markdown",
   "metadata": {},
   "source": [
    "Четко виден резкий рост заболеваемости на 5-10 неделях года.\n",
    "\n",
    "Для более гладкой динамики можно сгруппировать по месяцам."
   ]
  },
  {
   "cell_type": "code",
   "execution_count": null,
   "metadata": {},
   "outputs": [],
   "source": [
    "for glabel,g in X.groupby('Y'):\n",
    "    # группируем по неделям и берем суммарные значения\n",
    "    vv = g.groupby('M').n.sum()#.values\n",
    "    \n",
    "    plot(vv, label=glabel)\n",
    "\n",
    "xlabel('Месяц')\n",
    "ylabel('Заболеваний / мес')\n",
    "legend();"
   ]
  },
  {
   "cell_type": "markdown",
   "metadata": {},
   "source": [
    "Напомним возрастной состав заболевших ротавирусной инфекцией."
   ]
  },
  {
   "cell_type": "code",
   "execution_count": null,
   "metadata": {},
   "outputs": [],
   "source": [
    "X.Age.hist(bins=50);"
   ]
  },
  {
   "cell_type": "markdown",
   "metadata": {},
   "source": [
    "Маленькие дети и несколько глубоких старичков.\n",
    "\n",
    "Рассмотрим детальней каждую категорию с учетом пола. При наложении нескольких распределений удобно строить ядерные оценки плотности (KDE, Kernel Density Estimation)."
   ]
  },
  {
   "cell_type": "code",
   "execution_count": null,
   "metadata": {},
   "outputs": [],
   "source": [
    "X_ = X[X.Age>60]\n",
    "sns.kdeplot(X_[X_.Gender == 'M'].Age, label='M', color='cyan');\n",
    "sns.kdeplot(X_[X_.Gender == 'F'].Age, label='F', color='coral');"
   ]
  },
  {
   "cell_type": "markdown",
   "metadata": {},
   "source": [
    "Если строить классические гистограммы, то полупрозрачность дает возможность легко обнаруживать преобладание той или другой группы.\n",
    "\n",
    "Так как возраст указан с точностью до года, то для подбробной гистограммы лучше задать не количество классов, а список границ классов, тогда каждому году будет четко соответствовать один столбик. "
   ]
  },
  {
   "cell_type": "code",
   "execution_count": null,
   "metadata": {},
   "outputs": [],
   "source": [
    "X_ = X[X.Age<20]\n",
    "classes = arange(16)\n",
    "hist(X_[X_.Gender == 'M'].Age, label='M', color='cyan', alpha=.5, bins=classes);\n",
    "hist(X_[X_.Gender == 'F'].Age, label='F', color='coral',alpha=.5, bins=classes);\n",
    "xticks(classes+.5, classes)\n",
    "legend();"
   ]
  },
  {
   "cell_type": "markdown",
   "metadata": {},
   "source": [
    "А старички также болеют весной?\n",
    "\n",
    "Наложим нормализованную динамику для двух возрастных групп."
   ]
  },
  {
   "cell_type": "code",
   "execution_count": null,
   "metadata": {},
   "outputs": [],
   "source": [
    "X_ = X[X.Age>60]\n",
    "(X_.groupby('W').n.sum() / X_.n.sum()).plot(label='старички');\n",
    "X_ = X[X.Age<8]\n",
    "(X_.groupby('W').n.sum() / X_.n.sum()).plot(label='груднички');\n",
    "legend();"
   ]
  },
  {
   "cell_type": "markdown",
   "metadata": {},
   "source": [
    "Да, тоже по весне, но не так регулярно из-за малого количества случаев."
   ]
  },
  {
   "cell_type": "markdown",
   "metadata": {},
   "source": [
    "### Годовая динамика"
   ]
  },
  {
   "cell_type": "markdown",
   "metadata": {},
   "source": [
    "Почему же все-таки в 2014 году была аномалия в заболеваемости ротавирусной инфекцией?\n",
    "Почему детки из северной Бельгии в марте 2014 болели мало, а переболели только в следующем 2015 году?\n",
    "\n",
    "Чтобы ответить на этот вопрос удобно рассмотреть изменения между годами независимо от изменений внутри года. Расположим оси смены лет и смены месяцев перпендикулярно, как это мы уже делали для визуализации температурных изменений."
   ]
  },
  {
   "cell_type": "code",
   "execution_count": null,
   "metadata": {},
   "outputs": [],
   "source": [
    "momo = [datetime.date.strftime(x,'%b') for x in pd.DatetimeIndex(start='2000-01', end='2001-01', freq='M')]\n",
    "\n",
    "N = X.groupby(['Y','M']).n.count().unstack()\n",
    "N.columns=momo\n",
    "sns.heatmap(N, cmap='Blues');"
   ]
  },
  {
   "cell_type": "markdown",
   "metadata": {},
   "source": [
    "Группировка по двум осям является типичной операцией, поэтому есть специальный метод - на русский переводится как \"сводная таблица\"."
   ]
  },
  {
   "cell_type": "code",
   "execution_count": null,
   "metadata": {},
   "outputs": [],
   "source": [
    "N = X.pivot_table('n', 'Y', 'M', 'sum')\n",
    "N.columns=momo\n",
    "sns.heatmap(N, cmap='Blues');"
   ]
  },
  {
   "cell_type": "markdown",
   "metadata": {},
   "source": [
    "Давайте посмотрим отдельно для грудничков и годовалых младенцев."
   ]
  },
  {
   "cell_type": "code",
   "execution_count": null,
   "metadata": {},
   "outputs": [],
   "source": [
    "fig, ax = subplots(1,2, sharey=True, figsize=(12,4))\n",
    "\n",
    "for iage, age in enumerate([0,1]):\n",
    "    sca(ax[iage])\n",
    "    N = X[X.Age==age].pivot_table('n', 'Y', 'M', 'sum')\n",
    "    N.columns=momo\n",
    "    sns.heatmap(N, cmap='Blues');\n",
    "    title('Age = {}'.format(age))\n"
   ]
  },
  {
   "cell_type": "markdown",
   "metadata": {},
   "source": [
    "Паттерн не различался. Значит дело не в возрасте."
   ]
  },
  {
   "cell_type": "markdown",
   "metadata": {},
   "source": [
    "Посмотрим паттерн температур для [Западной Фландрии](//ru.wikipedia.org/wiki/Западная_Фландрия) с административным центром — городом Брюгге.\n",
    "\n",
    "По координатам 51°00′ с. ш. 3°00′ в. д. можно найти данные метеорологических станций например с помощью сервиса http://climexp.knmi.nl/selectstation.cgi\n",
    "\n",
    "Ближайшая станция в [Лилле, Франция](\n",
    "http://climexp.knmi.nl/gettempall.cgi?id=someone@somewhere&WMO=7015&STATION=LILLE&extraargs=)\n",
    "\n"
   ]
  },
  {
   "cell_type": "markdown",
   "metadata": {},
   "source": [
    "На исходных данных видно отсутствие понижения среднемесячной температуры зимой 2014 года ниже 5 градусов по Цельсию\n",
    "\n",
    "![](http://climexp.knmi.nl/data/ta7015_2008:2018.png)\n",
    "\n",
    "На рисунке показаны температурные аномалии, т.е. отклонения в градусах от ожидаемой температуры.\n",
    "\n",
    "![](http://climexp.knmi.nl/data/ta7015_2008:2018_a.png)\n",
    "\n"
   ]
  },
  {
   "cell_type": "markdown",
   "metadata": {},
   "source": [
    "Действительно в начале 2014 года температура держалась выше, чем обычно на 2 градуса.\n",
    "\n",
    "Отобразим эти данных в виде `heatmap`."
   ]
  },
  {
   "cell_type": "code",
   "execution_count": null,
   "metadata": {},
   "outputs": [],
   "source": [
    "u = 'http://climexp.knmi.nl/data/ta7015.dat'\n",
    "T = pd.read_table(u, delim_whitespace=True, comment='#', header=None, na_values=-999.9,\n",
    "                 names=momo)\n",
    "T.tail()"
   ]
  },
  {
   "cell_type": "code",
   "execution_count": null,
   "metadata": {},
   "outputs": [],
   "source": [
    "fig, ax = subplots(1,2, sharey=True, figsize=(12,4))\n",
    "\n",
    "sca(ax[0])\n",
    "sns.heatmap(T.loc[2008:2015], cmap='RdBu_r', center=8)\n",
    "title('Температура');\n",
    "\n",
    "\n",
    "sca(ax[1])\n",
    "N = X[X.Province.isin(['West Flanders','East Flanders'])].pivot_table('n', 'Y', 'M', 'sum')\n",
    "N.columns=momo\n",
    "sns.heatmap(N, cmap='Blues');\n",
    "title('Заболеваемость ротавирусной инфекцией во Фландрии');\n"
   ]
  },
  {
   "cell_type": "markdown",
   "metadata": {},
   "source": [
    "В 2013 году была относительно холодная зима и март, что сопровождалось всплеском заболеваемости в марте и апреле. В 2014 году было необычно тепло и весеннее обострение прошло без мартовского пика.\n",
    "\n",
    "Дабы выразить связь в численном виде посчитаем корреляцию между рядами для марта."
   ]
  },
  {
   "cell_type": "code",
   "execution_count": null,
   "metadata": {},
   "outputs": [],
   "source": [
    "N['Mar'].plot(legend=False)\n",
    "ylabel('Заболеваемость')\n",
    "T.loc[2008:2015,'Mar'].plot(label='T', secondary_y=True);\n",
    "ylabel('Температура')\n",
    "legend();"
   ]
  },
  {
   "cell_type": "code",
   "execution_count": null,
   "metadata": {},
   "outputs": [],
   "source": [
    "corrcoef(N['Mar'], T.loc[2008:2015,'Mar'])"
   ]
  },
  {
   "cell_type": "markdown",
   "metadata": {},
   "source": [
    "Если мы сравнимаем два ряда данных, то получаем четыре коэффициента, два из которых 1.0 (сам с собой всегда 1) и два - корреляция между рядами.\n",
    "В данном случае это заметная отрицательная корреляция."
   ]
  },
  {
   "cell_type": "markdown",
   "metadata": {},
   "source": [
    "Из рисунка понятно, что если мы ограничим диапазон лет после 2010 года, то отрицательная корреляция будет еще сильнее."
   ]
  },
  {
   "cell_type": "code",
   "execution_count": null,
   "metadata": {},
   "outputs": [],
   "source": [
    "corrcoef(N.loc[2011:2015, 'Mar'], T.loc[2011:2015,'Mar'])[0,1]"
   ]
  },
  {
   "cell_type": "markdown",
   "metadata": {},
   "source": [
    "В 2012 году тоже был теплый март, но перед ним был холодный февраль. Можно усреднить данные за несколько месяцев."
   ]
  },
  {
   "cell_type": "code",
   "execution_count": null,
   "metadata": {},
   "outputs": [],
   "source": [
    "iiyear = slice(2011,2015)\n",
    "iimo = ['Jan','Feb','Mar','Apr','May']\n",
    "\n",
    "corrcoef(N.loc[iiyear, iimo[:-1]].mean(axis=1), T.loc[iiyear, iimo[1:]].mean(axis=1))[0,1]"
   ]
  },
  {
   "cell_type": "markdown",
   "metadata": {},
   "source": [
    "Итого мы обнаружили сильную отрицательную корреляцию между температурой в начале весны и масштабом весенней вспышки ротавирусной инфекции среди детей."
   ]
  },
  {
   "cell_type": "markdown",
   "metadata": {},
   "source": [
    "Корреляция может быть между любыми сходными по размеру данными.\n",
    "\n",
    "Например, корреляция изменений температуры в марте с другими месяцами с начала 21-века.\n",
    "\n",
    "Для таблиц `pandas` есть удобный метод для этого."
   ]
  },
  {
   "cell_type": "code",
   "execution_count": null,
   "metadata": {},
   "outputs": [],
   "source": [
    "C = T.loc[2000:2018].corr()\n",
    "C"
   ]
  },
  {
   "cell_type": "markdown",
   "metadata": {},
   "source": [
    "Чтобы единицы по диагонали не мешали восприятию рисунка, их и половину значений маскируют."
   ]
  },
  {
   "cell_type": "code",
   "execution_count": null,
   "metadata": {},
   "outputs": [],
   "source": [
    "mask = np.triu(np.ones_like(C))\n",
    "mask"
   ]
  },
  {
   "cell_type": "code",
   "execution_count": null,
   "metadata": {},
   "outputs": [],
   "source": [
    "sns.heatmap(C, cmap='RdBu_r', center=0, square=True, mask=mask);"
   ]
  },
  {
   "cell_type": "markdown",
   "metadata": {},
   "source": [
    "На пересечении месяцев между друг другом выделяются противоположности Июль и Февраль, а также Октябрь и Август. Сходную динамику (высокая полжительная корреляция) демонстрируют Февраль-Март и Ноябрь-Декабрь. И, внезапно также Май и Январь."
   ]
  },
  {
   "cell_type": "markdown",
   "metadata": {},
   "source": [
    "Тот же прием для данных по годовой динамике заболеваемости ротавирусной инфекцией."
   ]
  },
  {
   "cell_type": "code",
   "execution_count": null,
   "metadata": {},
   "outputs": [],
   "source": [
    "C = N.corr()\n",
    "sns.heatmap(C, cmap='RdBu_r', center=0, square=True, mask=mask);"
   ]
  },
  {
   "cell_type": "markdown",
   "metadata": {},
   "source": [
    "### Фазовые сдвиги"
   ]
  },
  {
   "cell_type": "markdown",
   "metadata": {},
   "source": [
    "Корреляцию можно считать между любыми рядами данных. \n",
    "\n",
    "В колонках таблицы рассчитаем помесячную динамику. Исключим редкие болезни с невыраженной динамикой. Чтобы подчеркнуть циклические колебания также уберем глобальный тренд.\n",
    "\n",
    "После вычитания среднего примерно половина значений становится отрицательными. Т.е. значения - это не количество, а отклонение количества от среднего тренда."
   ]
  },
  {
   "cell_type": "code",
   "execution_count": null,
   "metadata": {},
   "outputs": [],
   "source": [
    "N = D.groupby(['YM','Species']).n.count().unstack()\n",
    "N = N.loc[:,N.sum()>1000].fillna(0)\n",
    "N[:] = detrend(N.values, 'linear', axis=0)\n",
    "N.index =pd.to_datetime(N.index).to_period('M')\n",
    "ax = N.plot(legend=False, figsize=(10,5));\n",
    "legend(bbox_to_anchor=(1.01, 1));"
   ]
  },
  {
   "cell_type": "code",
   "execution_count": null,
   "metadata": {},
   "outputs": [],
   "source": [
    "C = N.corr()\n",
    "mask = np.triu(np.ones_like(C))\n",
    "\n",
    "figure(figsize=(8,8))\n",
    "sns.heatmap(C, cmap='RdBu_r', center=0, square=True, mask=mask);"
   ]
  },
  {
   "cell_type": "markdown",
   "metadata": {},
   "source": [
    "Однако, временные ряды данных можно коррелировать не только с паралелльно изменяющимися во времени, но с самими собой, сдвинутыми по времени. Величина сдвига в шагах периода регистрации сигнала называется лаг.\n",
    "\n",
    "Если мы сдвигаем ряд с циклической динамикой на несколько шагов, то корреляция падает, затем, когда мы доходим до противофазы (попадаем пиком туда, где ямка), то корреляция становится отрицательной, затем опять повышается. Первый большой пик автокорреляционной функции соответствует периоду основных колебаний."
   ]
  },
  {
   "cell_type": "code",
   "execution_count": null,
   "metadata": {},
   "outputs": [],
   "source": [
    "# pd.tools.plotting.autocorrelation_plot(N['Hepatitis C virus']); # old version\n",
    "pd.plotting.autocorrelation_plot(N['Hepatitis C virus']);"
   ]
  },
  {
   "cell_type": "code",
   "execution_count": null,
   "metadata": {},
   "outputs": [],
   "source": [
    "pd.plotting.autocorrelation_plot(N['Parainfluenza']);"
   ]
  },
  {
   "cell_type": "code",
   "execution_count": null,
   "metadata": {},
   "outputs": [],
   "source": [
    "pd.plotting.autocorrelation_plot(N['Rotavirus']);"
   ]
  },
  {
   "cell_type": "markdown",
   "metadata": {},
   "source": [
    "Для рассчета исходной корреляционной функции без построения рисунка используют соответствующую функцию."
   ]
  },
  {
   "cell_type": "code",
   "execution_count": null,
   "metadata": {},
   "outputs": [],
   "source": [
    "vv = N['Rotavirus']\n",
    "c = correlate(vv, vv, 'full')\n",
    "plot(c);\n",
    "vv.shape, c.shape"
   ]
  },
  {
   "cell_type": "markdown",
   "metadata": {},
   "source": [
    "Поскольку мы можем двигать один ряд значений относительно другого и вперед и назад, то полная функция имеет удвоенную длину. На предыдущем рисунке была показана только ее правая половина, причем нормализованная к общей мощности сигнала, чтобы не выходить за рамки диапазона от -1 до 1.\n",
    "\n",
    "Давайте получим нормализованные значения корреляции."
   ]
  },
  {
   "cell_type": "code",
   "execution_count": null,
   "metadata": {},
   "outputs": [],
   "source": [
    "c = c[len(c)//2:]\n",
    "c = c / (vv.var()) / len(c)\n",
    "plot(c); grid(True);\n",
    "c.shape"
   ]
  },
  {
   "cell_type": "markdown",
   "metadata": {},
   "source": [
    "Вместо того, чтобы делить на дисперсию исходного сигнала, правильнее нормализовать входные ряды данных. Мы уже вычли тренд из динамики. Давайте теперь поделим каждую колонку на стандартное отклонение ее значений."
   ]
  },
  {
   "cell_type": "code",
   "execution_count": null,
   "metadata": {},
   "outputs": [],
   "source": [
    "N = N / N.std()\n",
    "ax = N.plot(legend=False, figsize=(10,5));\n",
    "legend(bbox_to_anchor=(1.01, 1));"
   ]
  },
  {
   "cell_type": "markdown",
   "metadata": {},
   "source": [
    "Резко преобладающие по численности пики RSV теперь незаметны на фоне остальных.\n",
    "\n",
    "Годовые циклы имеют лаг в 12 месяцев. Однако какой лаг между динамикой разных заболеваний?"
   ]
  },
  {
   "cell_type": "code",
   "execution_count": null,
   "metadata": {},
   "outputs": [],
   "source": [
    "vv1 = N['Rotavirus']\n",
    "vv2 = N['Respiratory Syncytial Virus']\n",
    "c = correlate(vv1, vv2, 'full')\n",
    "c = c[len(c)//2:]\n",
    "c = c/len(c)\n",
    "plot(c);"
   ]
  },
  {
   "cell_type": "code",
   "execution_count": null,
   "metadata": {},
   "outputs": [],
   "source": [
    "c.max(), c.argmax()"
   ]
  },
  {
   "cell_type": "markdown",
   "metadata": {},
   "source": [
    "Между рядами высокая корреляция - 0.62, но сезонный пик в первом ряду значений сдвинут на 4 месяца относительно сезонного пика во втором ряду значений."
   ]
  },
  {
   "cell_type": "code",
   "execution_count": null,
   "metadata": {},
   "outputs": [],
   "source": [
    "vv1.plot()\n",
    "vv2.plot()\n",
    "legend();"
   ]
  },
  {
   "cell_type": "markdown",
   "metadata": {},
   "source": [
    "### Скачкообразная динамика"
   ]
  },
  {
   "cell_type": "markdown",
   "metadata": {},
   "source": [
    "Некоторые болезни \"привязаны\" к некоторым странам, потому что там живут специфические переносчики каких-то из жизненных стадий паразитов.\n",
    "\n",
    "Например, вирус chikungunya из Африки передается при укусах комаров, которые в Бельгии жить не должны. Это тропическая лихорадка. В Бельгии очень мало случаев. Посмотрим помесячную динамику. "
   ]
  },
  {
   "cell_type": "markdown",
   "metadata": {},
   "source": [
    "Сделаем помесячный индекс, охватывающий все данные в наборе."
   ]
  },
  {
   "cell_type": "code",
   "execution_count": null,
   "metadata": {},
   "outputs": [],
   "source": [
    "# monthindex = pd.to_datetime(D.DateMonday.unique()).to_period('M').unique()\n",
    "monthindex = pd.PeriodIndex(start='2008-01', end='2015-12')\n",
    "monthindex"
   ]
  },
  {
   "cell_type": "code",
   "execution_count": null,
   "metadata": {},
   "outputs": [],
   "source": [
    "X = D[D.Subject=='CHIK']\n",
    "N = X.groupby(['YM']).M.count()\n",
    "N"
   ]
  },
  {
   "cell_type": "markdown",
   "metadata": {},
   "source": [
    "Теперь сделаем пустую серию с полным индексом и заполним те значения, которые мы посчитали."
   ]
  },
  {
   "cell_type": "code",
   "execution_count": null,
   "metadata": {},
   "outputs": [],
   "source": [
    "S = pd.Series(0, index=monthindex)\n",
    "\n",
    "ii = pd.to_datetime(N.index).to_period('m')\n",
    "ii\n",
    "S[ii] = N\n",
    "\n",
    "S.plot();"
   ]
  },
  {
   "cell_type": "markdown",
   "metadata": {},
   "source": [
    "Видно, что случаи болезни были единичными - возможно болезнь привозили туристы из поездок в теплые страны. Но с 2014 количество заболевших этой тропической лихорадкой резко возрасло.\n",
    "\n",
    "И этот график идеально совпадает с [волной мигрантов, захлестнувшей Европу в 2014-2015 гг](https://en.wikipedia.org/wiki/European_migrant_crisis#Global_refugee_crisis).\n",
    "Среди этих мигрантов и были носители вируса Чикунгунья."
   ]
  },
  {
   "cell_type": "markdown",
   "metadata": {},
   "source": [
    "### Эффекты развития здравоохранения"
   ]
  },
  {
   "cell_type": "markdown",
   "metadata": {},
   "source": [
    "На таком коротком временном отрезке (8 лет) трудно говорить о влиянии развития медицины, хотя безусловно оно есть.\n",
    "\n",
    "В данном наборе есть один пример резкого снижения заболеваемости, который может быть объяснен успешными противоэпидемиологическими мерами.\n",
    "\n",
    "Для демонстрации сделаем сводную таблицу динамики по годам, причем нормализуем ее, отняв среднее и разделив на стандартное отклонение."
   ]
  },
  {
   "cell_type": "code",
   "execution_count": null,
   "metadata": {},
   "outputs": [],
   "source": [
    "N = D.pivot_table('n', 'Y', 'Species', 'sum').fillna(0)\n",
    "N = (N - N.mean())/ N.std()\n",
    "figure(figsize=(8,6))\n",
    "sns.heatmap(N.T, cmap='coolwarm', center=0);"
   ]
  },
  {
   "cell_type": "markdown",
   "metadata": {},
   "source": [
    "Сильный \"скачок\" вниз наблюдался для заболеваний, вызванных Entamoeba histolytica и ВИЧ. \n",
    "После 2008 года только снижалась заболеваемость сальмонеллезом и гепатитом А.\n",
    "Как мы знаем значимыми изменениями часто считают те, что выходят за 2 \"сигмы\". Поскольку те значения, что мы получили после нормализации, как раз в сигмах, то для наглядности мы можем скрыть значения, не достигшие \"уровня значимости\"."
   ]
  },
  {
   "cell_type": "code",
   "execution_count": null,
   "metadata": {},
   "outputs": [],
   "source": [
    "@interact(porog=(0.5, 2.5))\n",
    "def _fig(porog=1.96):\n",
    "    #figure(figsize=(8,6))\n",
    "    sns.heatmap(N.T, cmap='RdBu_r', center=0, mask=N.T.abs()<porog);"
   ]
  },
  {
   "cell_type": "markdown",
   "metadata": {},
   "source": [
    "Другой подход оценить отклонения - зафиксировать исходный нулевой уровень на базе начальных данных, например, до 2012 года. Тогда изменения от этого уровня в левой части рисунка будут нивелированы, в правой будут отражать относительные сдвиги в последующие годы."
   ]
  },
  {
   "cell_type": "code",
   "execution_count": null,
   "metadata": {},
   "outputs": [],
   "source": [
    "N_ = N - N[N.index < 2013].mean()\n",
    "figure(figsize=(8,6))\n",
    "sns.heatmap(N_.T, cmap='RdBu_r', center=0);\n",
    "title('Все сдвиги')\n",
    "figure(figsize=(8,6))\n",
    "sns.heatmap(N_.T, cmap='RdBu_r', center=0, mask=N_.T>0);\n",
    "title('Только снижение');"
   ]
  },
  {
   "cell_type": "markdown",
   "metadata": {},
   "source": [
    "Чтобы оценить уровень развития здравоохранения в Бельгии, можно сопоставить графики увеличения продолжительности жизни за последние полвека (Trajectories through inequality/life expectancy space). Черные точечки - данные по отдельным годам для одной страны. Зеленое облако - данные за всю историю наблюдений по всем странам.\n",
    "\n",
    "Бельгии | Россия\n",
    "-|-\n",
    "![](https://globaldatalab.org/assets/2017/01/LLI_Belgium.jpg) | ![](https://globaldatalab.org/assets/2017/01/LLI_Russia.jpg)"
   ]
  },
  {
   "cell_type": "markdown",
   "metadata": {},
   "source": [
    "## Примеры решения задач"
   ]
  },
  {
   "cell_type": "markdown",
   "metadata": {},
   "source": [
    "### Задача на прогноз по предыдущим значениям"
   ]
  },
  {
   "cell_type": "markdown",
   "metadata": {},
   "source": [
    "По данным epistat постройте прогноз динамики распространения хламидиоза\n",
    "на неделю, начинающуюся c 2014-09-01, на основании предыдущих данных, \n",
    "используя метод скользящего среднего с окном в 4 нед.\n",
    "Ошибка в рассчетах составит по сравнению с реальным уровнем?"
   ]
  },
  {
   "cell_type": "code",
   "execution_count": null,
   "metadata": {},
   "outputs": [],
   "source": [
    "X = D[D.Subject=='CHLTRA']\n",
    "N = X.groupby('DateMonday').DateMonday.count()\n",
    "N\n",
    "\n",
    "nreal = N['2014-09-01']\n",
    "nreal"
   ]
  },
  {
   "cell_type": "code",
   "execution_count": null,
   "metadata": {},
   "outputs": [],
   "source": [
    "nnprev = N[ (N.index < '2014-09-01') & (N.index > '2014-07-01') ]\n",
    "nnprev"
   ]
  },
  {
   "cell_type": "code",
   "execution_count": null,
   "metadata": {},
   "outputs": [],
   "source": [
    "nprognoz = round(nnprev.iloc[-4:].mean())\n",
    "\n",
    "nerror = nprognoz - nreal\n",
    "\n",
    "nprognoz, nreal, nerror"
   ]
  },
  {
   "cell_type": "markdown",
   "metadata": {},
   "source": [
    "### Задача на линейную экстраполяцию\n",
    "\n",
    "```\n",
    "Вы моделируете динамику заболеваемости по годам с помощью экстраполяции\n",
    "линейной регрессионной модели за предыдущие 8 лет.\n",
    "В каком регионе Бельгии прогнозируется самый сильный относительный рост\n",
    "заболеваемости респираторно-синцитиальной инфекции в 2016 году (по отношению к 2015 году)?\n",
    "Выберите один ответ:\n",
    "a. Hainaut\n",
    "b. Walloon Brabant\n",
    "c. West Flanders\n",
    "d. Antwerp\n",
    "```"
   ]
  },
  {
   "cell_type": "code",
   "execution_count": null,
   "metadata": {},
   "outputs": [],
   "source": [
    "ny = 8\n",
    "X = D[D.Subject=='V_RSV']\n",
    "N = X.pivot_table('W', 'Y', 'Province', 'count').fillna(0)\n",
    "N"
   ]
  },
  {
   "cell_type": "code",
   "execution_count": null,
   "metadata": {},
   "outputs": [],
   "source": [
    "#берем последние 8 лет\n",
    "N = N.iloc[-ny:,:]"
   ]
  },
  {
   "cell_type": "markdown",
   "metadata": {},
   "source": [
    "Потренируемся на одной колонке."
   ]
  },
  {
   "cell_type": "code",
   "execution_count": null,
   "metadata": {},
   "outputs": [],
   "source": [
    "y = N.iloc[:,4]\n",
    "x = arange(len(y))\n",
    "plot(x,y,'o');\n",
    "\n",
    "# добавим тренд\n",
    "res = stats.linregress(arange(len(y)), y)\n",
    "print(res)\n",
    "xx = arange(ny+1)\n",
    "yy = res.intercept + res.slope*xx\n",
    "plot(xx,yy, '-r');\n",
    "\n",
    "prognoz = yy[-1]\n",
    "plot(xx[-1], yy[-1], 'ro');"
   ]
  },
  {
   "cell_type": "code",
   "execution_count": null,
   "metadata": {},
   "outputs": [],
   "source": [
    "def _linreg(y):\n",
    "    res = stats.linregress(arange(len(y)), y)\n",
    "    return pd.Series(res, index=['slope', 'intercept', 'r', 'p', 'stderr'])\n",
    "\n",
    "R = N.apply(_linreg, axis=0).T\n",
    "R"
   ]
  },
  {
   "cell_type": "code",
   "execution_count": null,
   "metadata": {},
   "outputs": [],
   "source": [
    "prognoz = (R.intercept + R.slope*(ny)).astype(int)\n",
    "prognoz = prognoz.clip_lower(0)\n",
    "prognoz"
   ]
  },
  {
   "cell_type": "code",
   "execution_count": null,
   "metadata": {},
   "outputs": [],
   "source": [
    "last = N.iloc[-1,:]\n",
    "rost = (prognoz - last) / last\n",
    "rost"
   ]
  },
  {
   "cell_type": "code",
   "execution_count": null,
   "metadata": {},
   "outputs": [],
   "source": [
    "rost.idxmax()"
   ]
  },
  {
   "cell_type": "code",
   "execution_count": null,
   "metadata": {},
   "outputs": [],
   "source": [
    "pname = 'Walloon Brabant'\n",
    "plot(N.index, N[pname], 'bo')\n",
    "plot(2016, prognoz[pname], 'ro');"
   ]
  },
  {
   "cell_type": "markdown",
   "metadata": {},
   "source": [
    "В 2015 было всего 42 случая, но экстраполяция снижающегося тренда дала на 2016 год значение 109, что больше примерно в полтора раза."
   ]
  },
  {
   "cell_type": "markdown",
   "metadata": {},
   "source": [
    "### Задача на лаг в неделях\n",
    "\n",
    "\n",
    "Каков лаг в неделях между сезонными колебаниями заболеваемости шигеллёза и аденовирусной инфекции ?\n"
   ]
  },
  {
   "cell_type": "code",
   "execution_count": null,
   "metadata": {},
   "outputs": [],
   "source": [
    "X = D[D.Subject.isin(['SHIG','V_ADV'])]\n",
    "N = X.groupby(['W','Subject']).n.sum().unstack().fillna(0)\n",
    "N[:] = detrend(N.values, 'linear', axis=0)\n",
    "N = N / N.std()\n",
    "N.plot();"
   ]
  },
  {
   "cell_type": "code",
   "execution_count": null,
   "metadata": {},
   "outputs": [],
   "source": [
    "a = N.iloc[:,0]\n",
    "b = N.iloc[:,1]\n",
    "    \n",
    "c = np.correlate(a, b, 'full')\n",
    "c = c[len(c)//2:]\n",
    "c = c/len(c)\n",
    "    \n",
    "plot(c);"
   ]
  },
  {
   "cell_type": "code",
   "execution_count": null,
   "metadata": {},
   "outputs": [],
   "source": [
    "365/7"
   ]
  },
  {
   "cell_type": "markdown",
   "metadata": {},
   "source": [
    "Более подробно кросс-корелляционная функция на год (~52 недели)."
   ]
  },
  {
   "cell_type": "code",
   "execution_count": null,
   "metadata": {},
   "outputs": [],
   "source": [
    "plot(c);\n",
    "xlabel('Лаг, нед')\n",
    "ylabel('Корреляция')\n",
    "xlim(0, 52);"
   ]
  },
  {
   "cell_type": "code",
   "execution_count": null,
   "metadata": {},
   "outputs": [],
   "source": [
    "c.argmax()"
   ]
  },
  {
   "cell_type": "markdown",
   "metadata": {},
   "source": [
    "Тридцать недель - это примерно 6 месяцев, т.е. простудное заболевание и кишечное отравление имеют пики зимой и летом."
   ]
  }
 ],
 "metadata": {
  "kernelspec": {
   "display_name": "Python 3",
   "language": "python",
   "name": "python3"
  },
  "language_info": {
   "codemirror_mode": {
    "name": "ipython",
    "version": 3
   },
   "file_extension": ".py",
   "mimetype": "text/x-python",
   "name": "python",
   "nbconvert_exporter": "python",
   "pygments_lexer": "ipython3",
   "version": "3.7.1"
  },
  "toc": {
   "base_numbering": 1,
   "nav_menu": {
    "height": "498px",
    "width": "280px"
   },
   "number_sections": false,
   "sideBar": false,
   "skip_h1_title": false,
   "title_cell": "Table of Contents",
   "title_sidebar": "Contents",
   "toc_cell": false,
   "toc_position": {},
   "toc_section_display": true,
   "toc_window_display": false
  },
  "widgets": {
   "application/vnd.jupyter.widget-state+json": {
    "state": {
     "080f7e6bc52744fc88b2ff803e357297": {
      "model_module": "@jupyter-widgets/controls",
      "model_module_version": "1.4.0",
      "model_name": "SliderStyleModel",
      "state": {
       "description_width": ""
      }
     },
     "1277d26199fd44a0b1bd6ddec89a03ea": {
      "model_module": "@jupyter-widgets/base",
      "model_module_version": "1.1.0",
      "model_name": "LayoutModel",
      "state": {}
     },
     "3252cff3407748a291f35247e5a7fe75": {
      "model_module": "@jupyter-widgets/base",
      "model_module_version": "1.1.0",
      "model_name": "LayoutModel",
      "state": {}
     },
     "4643a0a96ee5402dbb7433f32d9439ce": {
      "model_module": "@jupyter-widgets/controls",
      "model_module_version": "1.4.0",
      "model_name": "VBoxModel",
      "state": {
       "_dom_classes": [
        "widget-interact"
       ],
       "children": [
        "IPY_MODEL_6f28d7e8b1974f05a2db1423335c9680",
        "IPY_MODEL_5653ea1142b24c4791e90101442cf662"
       ],
       "layout": "IPY_MODEL_1277d26199fd44a0b1bd6ddec89a03ea"
      }
     },
     "5653ea1142b24c4791e90101442cf662": {
      "model_module": "@jupyter-widgets/output",
      "model_module_version": "1.0.0",
      "model_name": "OutputModel",
      "state": {
       "layout": "IPY_MODEL_3252cff3407748a291f35247e5a7fe75",
       "outputs": [
        {
         "data": {
          "image/png": "iVBORw0KGgoAAAANSUhEUgAAAeQAAAEKCAYAAADD4CYLAAAABHNCSVQICAgIfAhkiAAAAAlwSFlzAAALEgAACxIB0t1+/AAAADl0RVh0U29mdHdhcmUAbWF0cGxvdGxpYiB2ZXJzaW9uIDMuMC4xLCBodHRwOi8vbWF0cGxvdGxpYi5vcmcvDW2N/gAAIABJREFUeJzs3XmcHFW9/vHPk0lYA0EWkU0CgiIgBBKQ3SCIiAqiQEBUoijiRRC8qHhVQPy5IF4FRMGIEEA2IaARkIQlIawhbFlYRIV4QRBkC1tYkjy/P87ppNL0UpNZumfyfb9e9Zqe6qpTpzuTPn1OVZ1HtgkhhBBCaw1odQVCCCGEEA1yCCGE0BaiQQ4hhBDaQDTIIYQQQhuIBjmEEEJoA9EghxBCCG0gGuQQQgihDUSDHEIIIbSBaJBDCCGENjCw1RUI/VZMARdCKEtdLeBwDS39mXOWZzc8nqT1gPOBdwALgDG2T6uz7TbAHcAo25eXr/FbRQ+5F0jaV5IlbVLn+bGS9uuluuwt6bjeOFYIIfRR84D/tv1eYDvgCEmbVm8kqQM4GZjQHQeNBrl3HATcAhzY6orYHm/7J9XrJcVoSQghALaftH1PfvwS8CCwTo1NjwTGAU93x3GjQe5hkgYDOwKHkhtkJWdIekDS1cDbC9sPl3STpLslTZC0Vl4/WdLJku6U9LCknfP65SSdK2mmpHsl7ZrXT5W0WaHcybns0ZLOyOvGSvq5pEnAyZJOlHRsYZ9ZkoZKWlHS1ZKm53WjevyNCyGETlhmgEovnSFpKLAVMLVq/TrAvsBZ3fQSokHuBZ8ArrX9MPCcpK1J/4jvAd4HfAnYAUDSIOCXwH62hwPnAD8slDXQ9rbA0cAJed0RALbfR+qJnydpOeAS4IBc7lrA2rbvrlG/dwO72/7vBq9hT+AJ21va3hy4ttZGkg6TdJeku8aMGdPwTQkhhO7UofJL8bMqL4fVKjN3qMYBR9t+serpU4Fv2Z7fXa8hhil73kGkfzhIjeRBwCDg4vwP+YSkG/Pz7wE2B66TBNABPFko64r8825gaH68E6kRx/ZDkv5JamT/AFxHargPAC6rU7/LSvxBzQR+Julk4CrbN9fayPYYoNISx0VdIYRe06HyPd+qz6qacgdpHHCh7StqbDICuCR/Vq8O7CVpnu0/lq5IlWiQe5Ck1YAPAptLMqmBNXAltRssAffb3r5Oka/nn/NZ9G9X86/Q9r8kPStpC2AU8OU6Zb5SeDyPxUdNlstlPSxpOLAX8GNJE22fVKe8EELodR1dvk57EaVW9nfAg7Z/Xmsb2xsUth9L6qwscWMMMWTd0/YDzre9vu2httcDHgWeAw6U1JGHk3fN2/8VWEPS9pC+oRXPA9cxBTg4b/9u4J25HEg98m8CQ2zPLFHf2cDWuaytgQ3y47WBV23/HvhZZZsQQmgXHVLppYQdgc8CH5R0X172knS4pMN76jVED7lnHQRUX9E8Dngv8DfSUPDDwE0Att/Itz+dLmkI6d/nVOD+Bsf4NXCWpJmkHu5o25We9OXAacAPStZ3HPA5SfcB03LdIJ3rPkXSAuBN4CslywshhF7RnT1k27fQiXujbY/ujuPKjlN9oUfEH1YIoawuN6cnLb9R6c+c4+f+vRub7+4TPeQQQgh9Xmcu6mpX0SCHEELo87pzyLpVokEOIYTQ50UPOYQQQmgD0UMOIYQQ2kBnp8RsR9EghxBC6PP6w5B1n50YRNL8fLP2dEn3SNqhB481WdKI/PgaSat0Yt/ZklbvqboVjjNU0qwl2O8USfdLOqUT+4yQdHpnjxVCCD2lM3NZt6u+3EOea3sYgKQPAz8GPlBmR0kdxfmb8zRpsr2g2b6291rC+nZadT27ueyBtueRptRcozCZSJn97gLu6ol6hRDCkmjnhrasPttDrrIy8DwsjDY8JccEzqxEBUoaKWmSpIuAmblH+aCkXwP3AOtJ2kPS7bnHfVlO+lhMsccr6Y85JvH+emkh2TdybOKdkjbK+47Ns3JVyn25Vj3zuu9JekjSdZIurkQkKsUpTpd0Ozn1Ka+vF8k4Or+uPwMTJY0HVgSmSholaQ1J4yRNy8uOeb8TJY2RNBE4P9fxqiX4dwohhB7RzVNntkRf7iEvn6d4XA5YixTiAPBJYBiwJSmBY5qkKfm5bYHNbT+qlHH5HuDztv8rN7LfJUURviLpW8DXgUYhCl+w/Zyk5fNxxtl+tsZ2L9reVtLnSFNhfqzJayvWcwTwKVIe50DSl4dKjOK5wJG2b6oacl4YyShpE1Lj++783PbAFrafg/RFoDDScBHwC9u3SHonMIE0zSfAcGAn23MljWxS/xBC6FXRQ26tubaH2d6ElNd7fh563okcbWj7KdI80dvkfe60/WihjH/aviM/3g7YFLg1N/SHAOs3qcNRkqYDdwDrARvX2e7iws96SU5FxXruBPzJ9lzbLwF/BshzXa9i+6a83QWF/Xeq/G77IaASyQhwXaUxrmF34Iz8+scDK0taKT833vbcRpVW5CGHEFpkmQEqvbSrvtxDXsj27bmHuwaN50R9pcHvIjVWB5U5Zu4l7g5sb/tVSZPJcYW1qljj8cKow/xFYpkG9apZBerPF92Z96BoAOn1LNbwpuo13A+IPOQQQuu081B0WX25h7xQHpbtAJ4lxRGOUoo2XAPYBbizRDF3ADsWzvGuUBjmrWUI8HxujDch9bDrGVX4eXt+PJs0DAywDzCozr63AB/P54UHAx8FsP0CMEfSTnm7gwv7NIpkbGQi8NXKL5KGldgnhBBaLq6ybq3KOWRIPcJDbM+XdCVpWHg6qZf2Tdv/zo1mXbb/I2k0cLGkZfPq77IogrDatcDhkmaQGrs76mwHsKykqaQvQJUe+G+BP0m6E7iBOj1Q29PyxVfTSUPPdwFz8tOfB86R9CrpfG9FzUhGNf8GeRTwq/yaBpIa9h7L/gwhhO7SH3rIEb/YB0gabPtlSSuQGsnDbN/T6no1EX9YIYSyutyaXrX2+0p/5nzsiZlt2Xr35R7y0mSMpE1J56jP6wONcQgh9Cq181h0SdEg9wG2P93qOoQQQjsbEA1yCCGE0Hrq6PvXKEeDHEIIoc+LIesQQgihDcSQdQghhNAGNCCGrEMIISyBC1Z/b/ONesFnn3mw1VXoFh3L9P0Gue+/ggJJ75B0iaR/SHpAKbv43Y3SiSSdnW8pWpi41N8p8oxDCP2MOgaUXtpVv+kh5/mgryTdp3tgXjcMWLPRfra/2AvVayv18oy1KCM5hBD6lP5wDrl9vyp03q7Am7bPqqywfZ/tm/OvgyVdnnOFL8wNOJIm54jDhSStrpSL/NHq3rWkM/IUm5Vs5O8r5SfPrEzPmXOFr8vrfyPpn7nMoZJmFco6VtKJhXqcrJSZ/LCknfP6m4tzSku6VdIWkraVdJtS3vFtkt5T/YZIulTSXoXfx0r6VPE16a1Zx6MlnVHY56q8fUfev5IzfUyn/4VCCKGHaIBKL+2qPzXIm7MoJ7iWrYCjSRGLGwI71tpI0prA1cDxtq8ucdxnbG8NnAkcm9edANyY119JCncoY6DtbXM9T8jrzgZG57q9G1jW9gzgIWAX21sBxwM/qlHeJeRgC0nLALsB19TYbjiwT5MJSIYB69je3Pb7SFnMi4n4xRBCqwzoGFB6aVf9Zsi6hDttPw6QQymGkpKUigaRgh6OKOQMN3NF/nk38Mn8eCdgXwDb10p6fgnKGpofXwZ8T9I3gC8AY/P6IcB5kjYmzRtdKy3qL8DpOSxjT2CK7bk1QiaaZh0DjwAbSvol6QvLxOoNIn4xhNAq/eE+5Pb9qtB597MozrCW1wuP51P7y8g8UmP44ap1xfepOvO4Um6xzHp/GZ0uy/arwHWkiMYDgIvyNj8AJtneHPh4jbKw/RowOb+eUaQecy3FpKmadbT9PLBlLu8IUs89hBDaQscyHaWXZiSdI+np4inGGtuMlHSfpPslle3ANdSfGuQbSTGHX6qskLSNpA90ogyTeqGbSDour/snsKmkZSUNIQ37NnMLqfFE0h7A2/L6p4C3S1ot91o/VrJeZwOnA9NsP5fXDQH+lR+PbrDvJaSYxp1ZPKKxntnAMEkDJK0HbJtfx+rAANvjgO8BW5esewgh9Dh1qPRSwljSqGLtY0mrkGJu97a9GbB/d7yGfjNkbduS9gVOzY3pa6TG5WhgnU6UM1/SgcCfJb1o+9eS/gDMAP4G3FuimO+TcpVHATcBTwIv2X5T0knAVOBR0nngMnW6W9KLLH7e9qekIeuvk76M1DMROJ80LP1GicPdmus2E5gFVJKl1gHOlVT5EvftMnUPIYTeMKAbL9ayPUXS0AabfBq4wvb/5e2f7o7jRh5yD8i93/m250naHjjT9rBm+zUob23SUPEmthd0UzV7WvxhhRDK6nJrevfHP1T6M2fEVdd/GTissGpMvgZmUYVSg3xVPi1I1XOnkq7b2QxYCTjN9vlLUO3F9Jsecpt5J/CH3Jt8A/hSk+3rkvQ54IfA1/tQYxxCCL2qM/chV12AuiQGkq5Z2g1YHrhd0h22H+5CmdEg9wTbfyPdZtUdZZ1PGnIOIYRQx4ASF2t1o8dJt7y+ArwiaQrpotcuNcj96aKuEEIIS6kBHSq9dIM/ATtLGihpBeD9QJcnBY8ecgghhD6vO2fgknQxMBJYXdLjpImaBgHYPsv2g5KuJV3suwA423bdW6TKigY5hBBCn9edM3DZPqjENqcAp3TbQYkGOYQQQj8QM3UtAS1ZROJbAiB6uI4Lj5frt0on9j06n1PojnrUfU96gqRVJP1X4fe1JV3eW8cPIYQl1R/iF3u1ZtLCiMTJtt9le1Pgf2gSkdhKtvey/UIndjkaqNkgS+rVywCXwCrAwgbZ9hO292thfUIIoRQNGFB6aVe9XbMlikgsknRmThS6X9L3C+tnS/qRUmziXZK2ljQh98QPz9tcIGmfwj4XStpb0vK51z5D0qWk+8qK5a6eH/9R0t352MWbyivbHgWsDUySNCmve1nSSZKmAttLOl7StBxjOKbyGiVtJOl6SdOVYhvf1eg9kbSbUvTizDzv6rKdeB8GS7pBi2IjK+/JT4B3Kc3PeooKcZGSNlOKhrwvv08bl/5XDyGEHtYf0p56u2bdEZH4HdsjgC2AD0jaovDcY7a3B24mzUW6H7AdcFJ+/mzSvM4ozUu9AymO8CvAq7a3IE3CUS+k4gu2hwMjgKMkrVZ80vbpwBPArrZ3zatXBGbZfr/tW4AzbG+TZ39ZnkXzWV8I/Mr2lrleT9Z7TyQtl1/fqByFODC/hrLvw2vAvjkeclfgf3NDfxzwD9vDbH+j6rUfTpqNZlh+/Y/XeY9CCKHXxZB197vT9uN5RqpKRGK1AyTdQ5pTejNSQ1UxPv+cCUy1/ZLt/wCvSVolRypuJOntwEHAONvzgF2A3wPkrOEZdep3lKTpwB3AekCZXuJ8YFzh910lTZU0E/ggsJmklUhZw1fmOryWU57qvSfvAR4tzApzXn4Npd4H0jR1P5I0A7ieNE91s9MGtwP/I+lbwPq14hoVecghhBbpDw1yb19lfT+pt1ZPw4hESRsAxwLb2H5e0lgWjx2s7L+gqqwFhbIuAA4GDiQlO1U0nAdV0khgd2B7269KmkyNyMMaXrM9P5exHCkhZITtxySdmMtodHlgrfek2eWEzd6Hg4E1gOE58GJ2s9di+6I87P5RYIKkL9q+sWqbyEMOIbREO58bLqu3X0FXIxJXJmX3zpG0JvCRJajDWNIQMLbvz+umkBopJG1OGg6vNgR4PjfGm5CGgGt5iTTZeC2VRu8ZSYPJX05svwg8LukTuQ7LNrlS+yFgqKSN8u+fJaVKlTUEeDo3xrsC6zeru6QNgUfysPx4ar9HIYTQEuroKL20q15tkJ2ipfYFPpQvMrofOJF03rXM/tNJQ9X3A+eQogI7W4enSFOcFaMMzyRdPDUD+CZwZ41drwUG5m1+QBq2rmUM8JfKRV1Vx34B+C1pKPmPwLTC058lDYnPAG4D3tHgNbxGOhd+WR76XgCcVW/7Gi4ERki6i/RF5KFc7rPArfmCs+ob3kcBsyTdB2xCzK8dQmgjHYMGll7a1VIXv5h7njOBrW3PaXV9+rGl6w8rhNAVXZ7V47HvHlr6M2e9//e7tpxFpO8PuneCpN1JvcFfRmMcQgj9R1zU1cfYvp6UVRxCCKEf6Q8XdS1VDXIIIYT+qZ17vmVFgxxCCKHP61im7zdnff8VhBBCWOrFkHUIIYTQBmLIOoQQQp/1tj1OaHUVAHh+4vebb9REf2iQ2+IVSJqfU4Qqy3FNth8paYfeql+N4y9xPrMa5z6fLWnTWs/l50dLWrur9VPkHocQ+pn+EL/YLj3kuTlFqKyRwMukGa36DdtfbLLJaGAWJWc2a6CSe/zrfNwnaDzHeAghtLUBbTwlZlnt+1WBhdm+3y/k9m4iaSgpCvCY3JveWdLHc4LSvTlTeM28/4mSzpM0MZf1SUk/zWVdK2lQ3q5etvBwSTcpZSBPkLRWoXqfkXRbnmZy27z9tnndvfnne+q8tHoZx5MljZDUIWlsLnumpGMk7UeKPbwwv+7l69W78P4dKukXhd+/JOnnNM497pD0s1zmDElH5vU1c5xDCKEdDFhmYOmlXbVLg7x81ZD1qMJzz+Tc3jOBY23PJs3b/Iuc23szcAuwne2tgEtI81FXvIuUULQPKWJxUs4Qngt8VHWyhXNj/Utgv5yBfA4pK7liRds7kHqa5+R1DwG75HocD/yozuttlvs8jBTHuHmu07m2LwfuAg7OowmuVe+qci4B9q588SDNf30ujXOPDwM2ALbK+dAX5vX1cpwXUsQvhhBaJIasu0+jIesr8s+7gU/W2WZd4NLcg10GeLTw3F9yqtFMoIMUEgFpPuuh1M4WPoKUE7w5cF3uDHYATxbKvRjA9hRJKyvlDK8EnCdpY1KDOYja7rT9OEAOaxhK+lJR8QiwoaRfAlcDE2uUUa/ep1Y2sP2KpBuBj0l6EBhke2YeZahnd+CsnBON7efy+l0lfRNYAViVFPDx5+KOEb8YQmiV/nBRV7s0yI1U8nzfko9c8Evg57bHK+UWn1i9v+0Fkt70ojSNSjZwvaFXAffb3r7O89UNjkkpUJNs75sbvcl19m2Y+5yznrcEPkxqZA9g8ezmSv3KOBv4H1Lv/dwm21bKXey1qX6OcwghtIX+0CD31VdQnds7BPhXfnxIJ8uqly38V2ANSdsDSBokabPCfqPy+p2AOTmsoliP0Z2sx0KSVgcG2B4HfA/YOj9VfN2lMpFtTwXWAz5N7tXTOLN5InC4pIG5LqtSJ8c5hBDaRX8Ysm6XmlWfQ/5Jk+3/DOxbuaiL1CO+TNLNwDOdOXC9bGHbb5AanpMlTQfuA4q3Wj0v6TbS+exD87qfAj+WdCtpiHtJrQNMzsPZY4Fv5/VjgbPyetWqd53y/gDcavv5/Job5R6fDfwfMCO/7k83yXEOIYSW04CO0ku7WurykJdGSvc9/8L2Db142PjDCiGU1eW7Nl4d97PSnzkrfOrYtrxLpF16yKEHKE0A8jDpornebIxDCCF0UjTI/ZjtF2y/2/b+ra5LCCH0JHV0lF6aliXtKemvkv6uGjNHSnqnpEl5HogZkvbqjtfQF66yDiGEEBrrpnPDkjqAXwEfAh4Hpkkab/uBwmbfBf5g+0yl6Y6vId2+2iXRIIcQQuj7uu9irW2Bv9t+BEDSJaSJpYoNsoGV8+MhdH06YyAa5BBCCP2ABtabh6nT1gEeK/z+OPD+qm1OBCbmqYVXJE2o1GVxDjmEEELfN6Cj9FKc5jcvhxVKqnUFdvUV3AcBY22vC+wFXCCpy+3pUtlDljSfdE9txSdI4//H2n7LHM0lytsb2NR23funJZ0ETLF9fWfLb3Ls2baHFn4eAXypsMlAYDPSvNlrkl+jpNGkmbe+mv+QziXNGnaobUvaCrgH2NP2hOLxSGlbY22P7M7XEkLoXYdraKurAMBZnt3lMjoz4UfVNL/VHidNplSxLm8dkj4U2DOXdXuezXB14OnSlahhqWyQqTF3dpP5nRuyPR4Y32Sb42utl9Rhe/6SHrvGcX5FuiChUv6PgPtsP6icglV1fJEmFBkEfL4wtehBpPm1DwImVO8XQghtpfvOIU8DNpa0AWnmxQNJMx0W/R+wGzBW0ntJsxn+p6sHjiHrGlQnRlEp4nGzwnaTlSIaR0s6Q9IQpZjHAfn5FSQ9lqfdHKsUoViJlTxe0i3A/rmcEfm51XMvFEmbSbozz0g2I4dWVPtP1c/i69iFNA/2fzV4uacBqwGfs70g7yfSLGWjgT3yt7/i8eYDzxFCCO2iE0PWjeRgna+SOiIPkq6mvl/SSXk0FOC/gS/l2QwvBkYXOjNLbGntIS+fp5+ElJi0b9XzlRjFeZJ2J8UofooUZ3gAcIJSstTatu+W9D4A23PyP9AHgEnAx4EJOW2qug6v2d4JQNLhdep5OHCa7QslLUON6Thtb1P8WaGUPnUuqaF9sU75nyb9wY2spDtlO+b35R+SJpPOkVxRdZx6yVshhNDrytxfXJbta0i3MhXXHV94/ABvjc3tsqW1hzw3ZwEPq9EYQ7qM/TJJs4BfkM7BQpoTujLJxgHAZTX2vZQcPEEa6ri0Th3qrS+6HfgfSd8C1rc9t8Q+FWcCv7d9a4Nt7gHWJ13mX3QQ6csH+edBZQ6oyEMOIbTKwEHllza1tPaQm6kZo2j7X5KelbQFqdH9co19x5MCJlYFhgM31jnGK4XH81j05Wjh8LDtiyRNBT4KTJD0Rdv1yltI0iGki9Q+22TTh4DjgT9I+nAelukgjQbsLek7pCsOV5O0ku2XGhUWecghhFZp59CIspbWHnIzjWIULwG+CQyxPbPqOWy/DNxJOjd7VckLtmaTGm8oRBtK2hB4xPbppIZ+i2YF5X1+CBxcNQxdk+3bSEPjV0t6J+l+uum217M91Pb6wDjSleghhNCeBgwov7Sp6CHX9lPgPElf56093MtJje0PGux/KWk4e2TJ4/2M1Ev9bNXxRgGfkfQm8G/gpBJlfYt0o/oVVeetj6y3g+2rJK0BXAv8A7iyapNxwFeAC0ocP4QQel1/6CFH/GLoKfGHFUIoq8txiPPuvbb0Z87ArfZsy/jF6CGHEELo8zSofS/WKisa5BBCCH1fPxiyjgY5hBBC3xcNcgghhNB6nZnLul1FgxxCCKHvix5yCCGE0Aa6nn7YcqVegaSvSVpZye8k3SNpj56uXAghhFCGBwwsvbSrsl8pvpADCvYA1gA+D9TN/i2S9HLV76MlndGpWvYwSSdKOrbOc7fln0Pz3NZdPdbhkj5XYruLc8LTMcWkqBBCCDVoQPmlTZX9qlC5iXov4Fzb01Ujvqg/sr1DN5d3VrNtJL0D2CFPW4mksd1ZhxBC6Hf6QZNU9qvC3ZImkhrkCZJWAhZ09eCSPp4zhu+VdL2kNfP6FSWdI2lafm6fvH60pD9K+rOkRyV9VdLX8zZ35EAHJA3Lv8+QdKWkt+X1kyWdmjOOZ0kqphxtmp9/RNJRhTou1sMv1OOMwu9XSRopqSP3ZmdJminpmBr7LuyN5+OdnDOPH5a0c95sIvD2nIO8c9X+syWtnh+PyPGIzd6zKyRdK+lvkn6a1++dy79P0l8lPZrXH5/LmCVpTOWLl6R35TLulnSzpE3K/0uHEEJopmyDfChwHLCN7VeBZUjD1mUsX/jgv4/F52O+BdjO9lYsCm0A+A5wY87e3RU4RdKK+bnNSTm+25JCFF7N+98OVIaCzwe+ZXsLYCZwQuGYK+Ze738B5xTWbwJ8OJd7gqQlmfZlGLCO7c1tv4+UR9zMQNvbAkcX6rk38I8cD3lzyWM3es+GkebFfh8wStJ6tsdXIiiB6aT5tAHOsL2N7c2B5YGP5fVjgCNtDweOBX5dXQFF/GIIoVWWonAJA5uSPpxPIoUXLNdwj0Xm5g99IPXYgBH513WBSyWtRWrkH83r9yDF/1XO6y4HvDM/npRjAF+SNAf4c14/E9hC0hBgFds35fXnsXhu8cUAtqfkC9VWyeuvtv068Lqkp4E1gcdLvsaKR4ANJf0SuJrU023mivzzblJk4pJq9J7dYHsOgKQHSBnIj+Xfv0n6N/pV3nbXvG4FYFXgfkmTgB1IGdGV4y1bXYGIXwwhtIrb+NxwWWUb5F+Thqg/SGqQXyIlAG3TxeP/Evi57fGSRgIn5vUCPmX7r8WNJb0feL2wakHh9wWUez3VDUXl92K585uUVcwvhvzlxPbzkrYk9bSPAA4AvtCkPpXjNjtmrWMXvxSVfc8WHkfSbsD+wC759+VI/9YjbD8m6cR8jAHAC8UvViGE0Fba+Orpssp+pXi/7SOA1yA1PKQebVcVc4cPKayfABxZOH+5VdkCc0/w+cK5188CNxU2GZXL3AmYU+k5dtJsYJikAZLWIw1zk8/tDrA9DvgesPUSlF3m2JXs5E8V1nfqPZO0PqnxPcD23Ly60sA/I2kwOZs5X2H/qKT9877KXzxCCKE9LEVXWb8pqYPcm1TKzu3yRV2kHvFlkv4F3AFskNf/ADgVmJEbmNksOpdZxiHAWZJWIA0jF893P690K9PKNO+91nMraXh9JjALuCevXwc4V1r4L/7tJSy/ke8Dv5P0P8DUwvrOvmejgdWAK3Mb/oTtvST9lvS6ZgPTCtsfDJwp6bvAINI5/+nd8HpCCKHL+sOQdak8ZEkHk3qWW5POye4HfNf2ZQ13bDP5iuRjbd/V6rosBeIccgihrC7fs/TmU4+W/swZtOYGbXmPVKkesu0LJd0N7EZ64z5h+8EerVkIIYRQVj+4D7lhD1nSyrZfVL6/t5rt53qsZqGvix5yCKGsLrembzzzeOnPnGVWX7ctW+9mPeSLSOch72bxD1jl3zfsoXqFEEII5bXx/cVllTqHHMISiD+sEEJZXe8hP//v8j3kt72jLXvIZdOe9s0TblR+X0XSJ3quWiGEEEIn9IPbnspeZX1f9aQQku7NU1aGUEv0kEMIZXW9hzznmfI95CGrt2UPuex9yLW+UvTpaVEkvWx7cOH30aQZqr7ajce+le1uAAAgAElEQVRYBfi07V/n39cGTre9n6RhwNq2r8nP7Q1sartUrGXe5xjgx8CanZngRNII4HO2j2q68RI6YsDQniq6U361YHarqxBC6AX94T7ksq/gLkk/z4k/G0r6BelCr9DYKqQQCwBsP2G7kms8jJSeVXlufGca4+wg0uQd+3ZmJ9t31WqMJfXpL1khhKXYgI7ySxOS9swpeH+XdFyN55eVdGl+fqqkod3yEkpudyTwBnAp8AdgLmmu5n5J0hqSxuUYwmmSdszrT5R0gaQbc5Thl/L6wZJukHSPUuziPrmonwDvyklXp0gammMNlyHNCT4qPzdKhUhHSfvn7aZLmlKnju8CBgPfJTXMtba5VNJehd/HSvqUUlTkVYXXNEYpXvN8dSFaMoQQWqabziHnWSl/BXyEFKp0kKRNqzY7FHje9kbAL4CTu+MllJ0Y5BXgOEmDbb8lH7iPWl4pDrJiVWB8fnwa8Avbt0h6J2me6Pfm57YAtiMlXt0r6WrgaWDffM/26sAdksaTIis3r5x/r3yLsv2GpOMpDJHnIfOK44EP2/6XFqVRVTuIlFx1M/AeSW+3/XTVNpeQZli7Jn8J2A34CvD+qu2GAzvZnltVj6KF0ZK5vvXqFUIIva4bh6y3Bf5u+xEASZcA+wAPFLbZh0VhSJcDZ0iSu3jbUtmrrHdQiu17IP++paS35OH2MXMrecC5wTy+8NzupDf4PlIjvbKklfJzf7I91/YzwCTSP56AH0maAVxPmtN6zS7U7VZgbO6B1xtfORC4xPYCUoTj/jW2+QvwQUnLkr7tTSkESRSNr7O+aGG0pKQ9gRerN1AhD/l+v9SkuBBC6Ebdd5X1OuR42uzxvK7mNrbnAXNI2QBdUvYrxS9IkYLP5gpMJ0f29VMDgO0LDfY6OYMZasc3HgysAQzPjftTlM+Lfgvbh5OGotcD7pO02D+0pC2AjYHrJM0mNc5vGba2/RowmfRvN4rUY67llcLjutGSwJa5vCOAs2scb4ztEbZHbLbw+0sIIfQ8S6WXYuchL4cViqp1BXb1536ZbTqtdB/f9mNVq+Z39eBtbCKw8GrrfEV0xT6SlsuN5EjSRVVDgKdtvylpV2D9vO1LQL2Wqe5zkt5le6rt44FnSA1z0UHAibaH5mVtYB2lSMVql5DSrnYmDb03M5vWRUuGEMISsTuzLOo85GVMoajHWfwzd13giarDLdwmXww7BOjyVNJlG+THJO0AWNIyko4F+nO4xFHACEkz8lD94YXn7gSuJsVF/sD2E8CFefu7SL3lhwBsPwvcmi+EOqXqGJOATSsXdVU9d0q+cGoWMIW3xhweCFxZte7KvL7aRNJoxvW232j6yhePlvwZi0dLTs7D+GPpmWjJEEJYIvPt0ksT04CNJW2Qr705kEXXF1WMJ8X8Qko/vLGr54+h/MQgq5MudNqd1IhPAL6WG5ylhqQTgZdt/6zVdekDYmKQEEJZXZ6oY84rc0t/5gxZcfmGx8t3p5xKuobnHNs/lHQScJft8ZKWAy4AtiL1jA+sXATWFTGXdSdEg9wp8YcVQiiryw3yCy+/WvozZ5XBK7TlTF1le8gbknrI25E+aG8HjumObwSh34oGOYRQVpcbyOdeKt8gr7pSezbIZc8hX0SaEGQtYG3gMtI9sCGEEELoBmUbZNm+wPa8vPye6AGFEEJoE/NdfmlXZecunpTn87yE1BCPAq6WtCqA7S5f7h1CCCEsqf5wPVTZc8iP5oeVjYvj77a9YXdXLPR5ff9/Rwiht3T5nO6/57xS+jPnHUNWbMtzyA17yJK2AR6zvUH+/RDgU6TJI06MnnEIIYR20A86yE3PIf+GlPKEpF1I2bvnkebtHNNgvz5FUpcDMyStIum/Cr+vLenyJvvsrRrRXt1Ql7E5oWlyJdBC0ux8P3llm2Li02hJZ+R1t1eVNVDSU5LWqlVuCCG0gwUuv7SrZg1yR6EXPAoYY3uc7e8BG/Vs1fqcRtnHNdXLQFbrcomnAOtWNba7A7NsP9mSGoUQQgm2Sy/tqmmDXGgcdgNuLDzXr8Ps1TgT+ZzcS3xE0lF5l5rZx3mfqZI2K5Q9WdJwLZ6BPFbSzyVNAk7Oxzm2sM+sXOaKkq5WykqeVWPaTUgjGG+QZpApPed4To66jPTlq+JAFt3itkTlhhBCT+sPV1k3a5AvBm6S9CdgLil7F0kbkT6c+7NKJvI2pPPmxXSjTUgJStsCJ0gaRMo+/kdOh/pGVVmXAAcASFoLWNv23TWO+W5gd9v/3aBeewJP2N4yZxNfW72B7a/Zvs32J6tCQSblLwz3USOtKbuYPCd2jm3cCxjXpFzy9gsTVMaM6TdnNEIIfcACu/TSrhr2cvP8nTeQJgSZWJg8ewBwZE9XrsV2J4U/VH4vZiJfbft14HVJT9M8+/gPwHXACaSG+bI6211mu1nPcybwM0knA1fZvrnJ9kW75hxnJI0Ejq3ewPY0SYMlvQd4L3BHjl5sKiemVFri9v2rDyH0O/3hA6fpsLPtO2qse7hnqtNWKpnIc4srcwP9emHVfJp/sfmXpGdzjvEo4Mt1Ni2TS/ywpOGknuuPJU20fVKJ19MZl5B6ye8lZmQLIfQB7XyxVlml85CXQo0ykWtplH0MqZH7JjDE9swSx59NzhyWtDVQufVsbeDVPFvaz+iZXOKLgc8AH+StsWMhhNB2OpOH3K769YVZnbCCpMcLv/+clIn8K0kzSO/TFBbPRV6M7Wcl3Zov5PoL8KuqTS4nnZf+Qck6jQM+l8/3TgMqoxLvI+UlLwDeBL5SsrzSbD8g6VXgbtuvNN0hhBBabEE/GLSO+MXQU+IPK4RQVpdnznrg3y+W/szZ9B0r972ZukIIIYS+oD/0LaNBDiGE0Of1hyHraJBDCCH0edFDDiGEENpAO0/4UVY0yCGEEPq8N9t5TsySokEOIYTQ583vBz3klk4MIsmS/rfw+7GSTmyyT49EFhbKP1vSpj1Vfk/IYRUjWl2PEEJolX4/l3UveB34pKQfV+ZYbsb2eHpo9ihJHba/2BNld5dcx/nF31tZnxBCaAfzF7S6Bl3X6qkz55HCCI6pfqJB/GExsnD/HEE4XdKUvG4zSXfmVKMZkjbO6z9TWP+bSkMm6WVJJ0maCmxf7G1KOjOnF90v6fu1XoCkbfJxbs+xi5XIxeUknStppqR7Je1aqP8Vkq6V9DdJPy2UdVDeflYOj6isr67jbEnHS7oF2D9vtn9+fQ9L2rlJHTpyXaflun85rx8s6QZJ9+R99inUoeb7F0II7aA/9JBb3SBDmmLyYElDqtY3ij+sOB74sO0tgb3zusOB02wPA0YAj0t6LynUYce8fj5wcN5+RWCW7ffbvqWq/O/YHgFsAXwgh0NUOxc43Pb2LJ4RfASA7fcBBwHnSVouPzcs1+d9wChJ6+U5qk8mzR89DNhG0ica1PE12zvZviT/PtD2tsDRpFSpRnU4FJiT39ttgC9J2gB4DdjX9tbArsD/Kmn0/oUQQsvNt0sv7arlDbLtF4HzSXNHF+0OnJHnch7P4vGHFbcCYyV9Caj02G4H/kfSt4D1c1rTbsBwYFoubzdgw7z9fHLebw0HSLoHuBfYDFjs3LKkVYCVbN+WV11UeHon4IL8Gh8C/knKOwa4wfYc268BDwDrkxrGybb/Y3secCGwS4M6Xlr1+xX5593A0CZ12INF82RPBVYDNiZNX/ejPH/39cA6pGjJRu9f8f2IPOQQQksscPmlXbX6HHLFqcA9pN5mRaP4QwBsHy7p/cBHgfskDbN9UR7a/SgwQdIXSQ3Neba/XePYr9XKIM49xmOBbWw/L2ksOQKxuFmD19TouVrxjY22r1XH6tCHSpnFOMh6ZQo40vaExVZKo4E1gOG235Q0m/SaG71/C0UecgihVea3c0tbUst7yAC2nwP+QBpKrWgafyjpXban2j4eeAZYT9KGwCO2Tyf1rLcAbgD2k/T2vN+qktZvUq2VSY3eHElrAh+pUe/ngZckbZdXHVh4egp5WFfSu4F3An9tcLyppGHx1fP52YOAm5rUsZl6dZgAfEXSoMpzklYEhgBP58Z4V1LPHZbs/QshhF4T55C71/8Cqxd+PwoYkS86eoDa0YenVC6CIjU+00nnOmflodVNgPNtPwB8F5iYh2OvA9ZqVBnb00lD1fcD55CGx2s5FBgj6XZST3JOXv9roEPSTNLw8mjbr9cpA9tPAt8GJuXXcY/tPzWqYwn16nA2aaj8nvze/YbUq76Q9J7fRWrIH8p16/T7F0IIvWm+yy9dkTsk1+WLcq+T9LY62/00XxD8oKTTVRzerVd2xC92jaTBtl/Oj48D1rL9tRZXqx3EH1YIoawuxyGOf+DfpT9z9t70HUt8vHxnzHO2f5I/899m+1tV2+wAnMKi64BuAb5te3KjstvlHHJf9lFJ3ya9l/8ERre2OiGEsPR5s/duRN4HGJkfnwdMBr5VtY1J198sQ/qyMQh4qlnB0SB3ke1LeesVzyGEEHpRZ4aiJR0GHFZYNSZflFrGmvkUI7afrFxbU2T7dkmTgCdJDfIZth9sVnA0yCGEEPq8zlysVXVHyFtIuh54R42nvlOmfEkbAe8F1s2rrpO0i+0pjfaLBjmEEEKft6Abb3uyvXu95yQ9JWmt3DteC3i6xmb7AncUri/6C7Ad6eLjutrpKusQQghhifTWVdak22kPyY8PAWrdDfN/pNtYB+bbSz8ANB2yjgY5hBBCn9eL9yH/BPiQpL8BH8q/I2mEpMoUz5cD/wBmkm5jnW77z80KjiHrEEIIfV5vXWVt+1nS9MHV6+8Cvpgfzwe+3Nmyo4fcSZLm58SjWZIuk7RCN5V7kqS65y3yNstKuj4ff5QiBzmEEIBeHbLuMdEgd95c28Nsbw68Qe0ZxGpqFFlo+3jb1zcpYitgUD5+3GoVQghZTJ0ZbgY2ApD0R0l356nSFt7fprdmGR+vlEM8S9KYynRqksZK2i8/ni3p+1qUS7xJvtft98Cw3EN+V7Eikl4uPN4vh2E0ypU+UdI5uZf9iKSj8vrDc/n3SXo030tXKhs6hBBaJeIXl2KSBpICJ2bmVV+wPZyUwXyUpNXy+uos4zNsb5N72MsDH6tziGdyLvGZwLG2nyadn7g595D/UbKqjXKlNwE+DGwLnCBpkO2zcubxNsDjwM/ztmWyoUMIoSXmL3DppV1Fg9x5y+fgirtIl7b/Lq8/StJ04A5gPVK+MLw1y3hXSVNz4MMHSTnLtdTKN14SjXKlr7b9uu1nSPfSrVnY7zTgxsKVgQ2zoSHykEMIrdMfGuS4yrrz5uYe5EKSRpIavu1tvyppMouykxdmGUtajpTANML2Y5JO5K0ZyxW18o0bKf6VFctslCtdK5e5kou8Pjn+UuWyoSMPOYTQMm/M67W5rHtM9JC7xxDg+dwYb0KakaWWSiP2jKTBwH7dWIenJL1X0gDSLDEVTXOliyQNJzW+n7Fd+Qtvmg0dQgitFD3kUHEtcHjOCv4radj6LWy/IOm3pPPOs4Fp3ViH44CrgMeAWcDgvP4o4Fe5bgNJU7c1ujL8q8CqwKTci77L9hclVbKhH6F+NnQIIbREOze0ZUUecugp8YcVQiiry3nIJ0x4qPRnzvc/vEmXj9cTooccQgihz+sPPeRokEMIIfR5cVFXCCGEELpF9JBDCCH0efNiyDqEEEJovTiHHEIIIbSB/tAgxznkNlAV6fhnSas02X6opE934XgjJJ2+pPuHEEK7iXCJ0F2KkY7PAUc02X4osMQNsu27bB9VvT4HZoQQQp/zxrwFpZd2FQ1y+7kdWAdAySm55zxT0qi8zU+AnXOv+pjcY745xzXeI2mHvP+lkvaqFJwjHj8laaSkq/K6E3MM5ETgfEmjJZ1R2OeqvH1H3r9Sl2N66w0JIYRmYurM0K0kdQC7sShB6pPAMGBLYHVgmqQppGkyj7X9sbzfCsCHbL8maWPgYlIM5CXAKOAaScvksr8CvL/q0MOBnWzPzcEStQwD1sm9eJoNq4cQQm+av6B9e75lRQ+5PVQiHZ8lzSN9XV6/E3Cx7fm2nwJuIuUUVxsE/DZHOl7GomjEvwAflLQsKRBiSnXqUza+zvqiR4ANJf1S0p7Ai9UbRPxiCKFVooccustc28MkDSEFRBwBnE75+V2PAZ4i9aQHAK8B5B7zZODDpJ7yxXX2f6XweB6Lf1FbLpf1vKQtc1lHAAcAXygWEvGLIYRWaeeGtqzoIbcR23NI6UzHShpESmYalc/frgHsAtwJvASsVNh1CPBkjkv8LNBReO4S4PPAzsCEEtWYDQyTNEDSesC2AJJWBwbYHgd8D9h6iV9oCCF0s3kLXHppV9FDbjO275U0HTgQ+D2wPTCd1OP8pu1/S3oWmJe3Gwv8GhgnaX9gEov3eCcC55OGpd8oUYVbgUdJEZGzgHvy+nWAc3PeMsC3l/xVhhBC92rnq6fLivjF0FPiDyuEUFaX4xD3Ouu20p851xy+Q8QvhhBCCD2hP5xDjgY5hBBCnxcNcgghhNAG3A8a5LjKOoQQQp83f/6C0ktXSNpf0v2SFkga0WC7VSRdLukhSQ9K2r5Z2dFDDiGE0Of1Yg95FmkWxd802e404Frb++WZEldoVnA0yCGEEPq8Bb3UINt+EECqf6G2pJVJ80aMzvu8ATS97TSGrEMIIfR5XlB+6QUbAv8hzd1wr6SzJa3YbKdokPsASd/J5yxm5ISn90uanWfPqt52b0nHdeFYL+efQyXN6kq9Qwiht9guvRTn3c/LYcWyJF2fk+2ql31KVmcgaTbDM21vRZqsqenncgxZt7l8IcDHgK1tv54b4WXqbW97PDC+t+oXQgjtoDND1lXz7td6fvcuVudx4HHbU/Pvl1OiQY4ecvtbC3jG9usAtp+x/UR+7sicfzxT0iYAxTxjSe+SdIekaZJOqvR+83PfyOtnSPp+owrUy1sOIYR2sWDegtJLT7P9b+AxSe/Jq3YDHmi2XzTI7W8isJ6khyX9WtIHCs89Y3tr4Ezg2Br7ngacZnsboNKII2kPYGNScMQwYLikXRrU4WlS3vLWpNSo07v0ikIIoY+StK+kx0k5A1dLmpDXry3pmsKmRwIXSppB+pz9UbOyo0Fuc7ZfBoYDh5EuErhU0uj89BX5593A0Bq7b0/KRwa4qLB+j7zcSwqP2ITUQNdTL295MZGHHEJolQV26aUrbF9pe13by9pe0/aH8/onbO9V2O4+2yNsb2H7E7afb1Z2nEPuA2zPByYDk3OjeEh+6vX8cz6d+7cU8GPbze6jq6iZt1yjnpGHHEJoiZipK/Q4Se+RVOy9DgP+WXL3O4BP5ccHFtZPAL4gaXA+xjqS3t6gnEZ5yyGE0HJe4NJLu4oGuf0NBs6T9EA+F7EpcGLJfY8Gvi7pTtLFYXMAbE8kDWHfnnvclwMrNSjn18Ahku4A3s3iecshhNByCxa49NKuIg+5H5O0AjDXtiUdCBxku+x9dF0Vf1ghhLK6nE+85XHXlP7Mmf6TvSIPOfS64cAZSnO8vQB8ocX1CSGEHtHOPd+yokHux2zfTLoQK4QQ+rV2PjdcVjTIIYQQ+rxokEMIIYQ20NX7i9tBNMghhBD6vN6YErOnRYMcQgihz+sPF3X12H3ItSID8/qj8+043XWckRF2EEIIS7fOxC+2qx7pITeJDDwa+D3wao39OvI0kZ0xEngZuG3JaxxCCKEv6w8XdfVUD7lmZKCko4C1gUmSJgFIejlHA04Ftpc0XNJNku6WNEHSWnm7yZJOlXRbDoreVtJQ4HDgmNwL31nS+pJuyD3zGyS9M++/pqQrJU3Pyw55/dcL4dNHV16ApM/lMqZLuqBeGTmacFZhv2MlnZgfH1WZYUvSJdVvUo5K/JOkayX9VdIJef0PJH2tsN0Pc1mSdEqu60xJo/LzA3IS1P2SrpJ0jaT98nON3s+TJd2Zk6R2zus78jEq0YxfzuvXkjQlv8+zKtuHEEI76A8zdfXUOeSJwPGSHgauBy61fZPt0yV9HdjV9jN52xWBWbaPlzQIuAnYx/Z/coPzQxZNaLGi7R2UogLPsb25pLOAl23/DEDSn4HzbZ8n6QukqMBP5J832d5XUgcwWNJw4PPA+0kzxUyVdBPwBvAdYEfbz0haNR//LWUAb2vwPhwHbJBHCVaps822wOakEYNpkq4GfkdKcjpN0gDSPNTbAp8kzWW9JbB63n4KsCMp7el9wNuBB4Fz8vv5ywbv50Db20raCzgB2B04FJhjextJywK3SpqYjz3B9g/za++20w4hhNBVXtDZwdX20yMNsu2Xc2O3M7ArKTLwONtja2w+HxiXH7+H1DhdJwlSiMGThW0vzuVPkbRynUZue1LjAXAB8NP8+IPA5/L+84E5knYCrrT9CoCkK3KdDVxe+dJg+7kGZTRqkGeQ8jD/CPyxzjbX2X62cPydbJ8q6VlJWwFrAvfafjbX9+J87Kfyl4dtgJ2Ay3L4w7+VRx9o/n7Wim/cA9ii0sMmBUtsDExjUSP/R9v3Vb8QSYeRYiL5zW9+w2GHHdbgrQkhhO6zYN4bra5Cl/XYVdZ1IgPH1tj0tcJ5YwH3296+XrFNfi+zT1G9+UxVsmyAeSw+9L9c4fFHgV2AvYHvSdrM9rwm9av8fjYwGngHcE6J+tZb3+j9rBXfKOBI2xPeUlgamfgocIGkU2yfv1jFI34xhNAint/3e8g9cg5ZjSMDX6J+stBfgTWULgpD0iBJmxWer5wz3Yk0rDqnRnm3sShq8GDglvz4BuAref8OSSsDU4BPSFpB0orAvsDNedsDJK2Wt1+1QRlPAW+XtFoe4v1Yfn4AsJ7tScA3gVVIQ9zVPiRpVUnLk4bWb83rrwT2JPWAK43jFGBUPvYapMb+zvwaP5XPJa9JutCtzPtZywTgK7knjKR3S1pR0vrA07Z/SxpS37pJOSGE0Gu8YH7ppV31VA95MPDLPKQ8D/g7eSiT1IP6i6Qnbe9a3Mn2G3mo9HRJQ3L9TgXuz5s8L+k2YGUWnQf9M3C5pH2AI4GjSEOr3wD+QzpHDPA1YIykQ0k9wq/Yvl3SWFKjBnC27XshXUgF3CRpPnAvqbdar4yTgKnAo8BDuawO4Pf5dQj4he0XarxXt5CG1jcCLrJ9V+G9mAS8UBhBuJI0JD+d1AP9pu1/SxoH7AbMAh7OdZlT4v2s5WzS8PU9SuPc/yF9URgJfEPSm6Sr2j/XoIwQQuhV7dzQltVn4hclTQaOrTRY/YGk0cAI21+t8dwA4B5gf9t/K1HW4HzufjXSF4wdbf+7u+vcCX3jDyuE0A66HIe49qgzS3/mPHHpVyJ+MZQjaVPgKtIFZ00b4+yqPCKxDPCDFjfGIYTQq/pDD7nPNMi2R7a6Dt0tX3U+tsb6B4ANO1nWyG6pVAgh9EHz4yrrEEIIofX6Qw+5x+ayDiGEEEJ50UMOIYTQ5/WHHnI0yCGEEPq8/jAxSDTIIYQQ+rz+MHVmn7kPOSx9JB2Wp+Nc6uvRDnVol3pEHdqrHu1Qh/4iLuoK7axd0inaoR7tUAdoj3pEHRZph3q0Qx36hWiQQwghhDYQDXIIIYTQBqJBDu2sXc5LtUM92qEO0B71iDos0g71aIc69AtxUVcIIYTQBqKHHEIIIbSBaJBDr5G0nqRJkh6UdL+kr+X1q0q6TtLf8s+35fWSdLqkv0uaIWnrQlk/zWU8mLcpHafWzfU4WdKsvIzqwTpsIul2Sa9LOraqrD0l/TXX77iydeiBepwj6WlJs1pRh3rltKAey0m6U9L0XM73e7sOhfI6JN0r6apW1EHSbEkzJd0nqd9E5/YY27HE0isLsBawdX68EvAwsCnwU+C4vP444OT8eC/gL6Ss1O2AqXn9DsCtQEdebgdGtqAeHwWuI02wsyJwF7ByD9Xh7cA2wA9JueCVcjqAf5DSwZYBpgOb9uB7UbMe+bldgK2BWT38d1HvvahZTgvqIWBwfjwImAps19v/Hvn5rwMXAVe16G9iNrB6Vz43lqYlesih19h+0vY9+fFLwIPAOsA+wHl5s/OAT+TH+wDnO7kDWEXSWoCB5UgN0LKkD72nWlCPTYGbbM+z/QqpMdyzJ+pg+2nb04A3q4raFvi77UdsvwFcksvokfeiQT2wPQV4ruyxu7sODcrp7XrY9sv510F5KXWxTnf+e0hal/Sl8ewyx+6JOoTOiQY5tISkocBWpN7DmrafhPRhQPrGDelD4LHCbo8D69i+HZgEPJmXCbYf7O16kBrgj0haQdLqwK7Aej1Uh3rq1a3TuliPbtFddagqp9frkYeK7wOeBq6z3el6dMN7cSrwTWBBZ4/djXUwMFHS3ZJiApEmokEOvU7SYGAccLTtFxttWmOdJW0EvBdYl9T4fFDSLr1dD9sTgWuA24CLSUPn83qoDp2qW6cL6Xo9uqy76tDVcrqjHrbn2x5G+hvdVtLmvVkHSR8DnrZ9d2f37a46ZDva3hr4CHDEkvw/XZpEgxx6laRBpP/kF9q+Iq9+Kg8Bk38+ndc/zuI9znWBJ4B9gTtsv5yHBv9COrfb2/XA9g9tD7P9IVLj+LceqkM9devWy/Xoku6qQ51yer0eFbZfACZT8lRGN9ZhR2BvSbNJpzE+KOn3vVwHbFf+nzwNXEk6xRLqiAY59BpJAn4HPGj754WnxgOH5MeHAH8qrP+cku2AOXmo7P+AD0gamD84PkA6z9Wr9cjDkqvlMrcAtgAm9lAd6pkGbCxpA0nLAAfmMkrpxnosse6qQ4Nyersea0haJT9eHtgdeKg362D727bXtT2U9Ddxo+3P9GYdJK0oaaXKY2APoFNX4C913OKrymJZehZgJ9Jw6gzgvrzsBawG3EDqXd4ArJq3F/Ar0lXEM4EReX0H8BtSI/wA8PMW1WO5fPwHgDuAYT1Yh3eQesMvAi/kxyvn5/YiXQn7D+A7PbmyC08AAAE2SURBVPxeNKrHxaRz+m/m9Yf2Zh3qldPb7wXpi9m9uZxZwPGt+PcolDmSzl1l3V3vw4ak6yymA/d39m9zaVxipq4QQgihDcSQdQghhNAGokEOIYQQ2kA0yCGEEEIbiAY5hBBCaAPRIIcQQghtIBrkEEKPyvdv3yLpI4V1B0i6tpX1CqHdxG1PIYQel6eOvIw0L3IH6d7WPW3/o6UVC6GNRIMcQvj/7d2xDUIxDEVRW2JzOjZhGZaBX0BBKD4dJVLyBOdM4O4qkuVM0d2nqtpq/6ryOsY4Lh4JoggyMMX7fOKlqh61Xzu7Lx4JohxWDwD8hzHG1t3nqrqJMXyy1AXM9Kwv/ueFXybIABBAkAEggKUuAAjghQwAAQQZAAIIMgAEEGQACCDIABBAkAEggCADQABBBoAAL5Ri+lhXYAGPAAAAAElFTkSuQmCC\n",
          "text/plain": "<Figure size 432x288 with 2 Axes>"
         },
         "metadata": {
          "needs_background": "light"
         },
         "output_type": "display_data"
        }
       ]
      }
     },
     "6f28d7e8b1974f05a2db1423335c9680": {
      "model_module": "@jupyter-widgets/controls",
      "model_module_version": "1.4.0",
      "model_name": "FloatSliderModel",
      "state": {
       "description": "porog",
       "layout": "IPY_MODEL_ef083a7e6d2f4ed4bec9c83600917130",
       "max": 2.5,
       "min": 0.5,
       "step": 0.1,
       "style": "IPY_MODEL_080f7e6bc52744fc88b2ff803e357297",
       "value": 2
      }
     },
     "ef083a7e6d2f4ed4bec9c83600917130": {
      "model_module": "@jupyter-widgets/base",
      "model_module_version": "1.1.0",
      "model_name": "LayoutModel",
      "state": {}
     }
    },
    "version_major": 2,
    "version_minor": 0
   }
  }
 },
 "nbformat": 4,
 "nbformat_minor": 2
}
