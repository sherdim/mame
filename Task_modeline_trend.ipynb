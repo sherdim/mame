{
 "cells": [
  {
   "cell_type": "markdown",
   "metadata": {},
   "source": [
    "## Линейная модель"
   ]
  },
  {
   "cell_type": "code",
   "execution_count": 1,
   "metadata": {
    "collapsed": false
   },
   "outputs": [
    {
     "name": "stdout",
     "output_type": "stream",
     "text": [
      "Populating the interactive namespace from numpy and matplotlib\n"
     ]
    }
   ],
   "source": [
    "%pylab inline\n",
    "# from ipywidgets import interact, interactive, fixed"
   ]
  },
  {
   "cell_type": "markdown",
   "metadata": {},
   "source": [
    "если данные, возможно после ряда преобразований, выстраиваются в воображаемую линию, то их распределение можно смоделировать уравнением прямой:\n",
    "$$y=ax+b$$, где $a$ - коэффициент, характеризующий угол наклона, $b$ - коэффициент, характеризующий отклонение от нуля."
   ]
  },
  {
   "cell_type": "code",
   "execution_count": 2,
   "metadata": {
    "collapsed": false
   },
   "outputs": [
    {
     "data": {
      "text/plain": [
       "(45, 2)"
      ]
     },
     "execution_count": 2,
     "metadata": {},
     "output_type": "execute_result"
    }
   ],
   "source": [
    "#загрузка данных\n",
    "lps=loadtxt('lps')\n",
    "lps.shape"
   ]
  },
  {
   "cell_type": "code",
   "execution_count": 3,
   "metadata": {
    "collapsed": false
   },
   "outputs": [
    {
     "data": {
      "image/png": "[encoded data removed]",
      "text/plain": [
       "<matplotlib.figure.Figure at 0x7d463c8>"
      ]
     },
     "metadata": {},
     "output_type": "display_data"
    }
   ],
   "source": [
    "tt=lps[:,0]\n",
    "isi=diff(tt)\n",
    "vv=lps[1:,1]\n",
    "\n",
    "xx=log2(isi) #вместо исходных значений возмьем их логарифм\n",
    "plot(xx,vv,'o');"
   ]
  },
  {
   "cell_type": "markdown",
   "metadata": {},
   "source": [
    "Некоторые значения резко выделяются - это так называемые выбросы. Перед дальнейшими вычислениями их лучше исключить из набора данных."
   ]
  },
  {
   "cell_type": "code",
   "execution_count": 4,
   "metadata": {
    "collapsed": false
   },
   "outputs": [
    {
     "data": {
      "text/plain": [
       "(42,)"
      ]
     },
     "execution_count": 4,
     "metadata": {},
     "output_type": "execute_result"
    }
   ],
   "source": [
    "porogRT=0.6\n",
    "iiGood=find(vv<=porogRT)\n",
    "vv=vv[iiGood].copy()  #copy нужно, чтобы не изменился исходный массив lps, второй колонкой которого были vv\n",
    "xx=xx[iiGood].copy()\n",
    "vv.shape"
   ]
  },
  {
   "cell_type": "markdown",
   "metadata": {},
   "source": [
    "Для расчета воспользуемся функцией получения коэффициентов полиномов. Уравнение прямой представляет собой полином первой степени."
   ]
  },
  {
   "cell_type": "code",
   "execution_count": 5,
   "metadata": {
    "collapsed": false
   },
   "outputs": [
    {
     "name": "stdout",
     "output_type": "stream",
     "text": [
      "y = ax + b = 0.0068x + 0.368\n"
     ]
    }
   ],
   "source": [
    "p=polyfit(xx,vv,1)\n",
    "print('y = ax + b = {a:.4f}x + {b:.3f}'.format(a=p[0],b=p[1]))"
   ]
  },
  {
   "cell_type": "markdown",
   "metadata": {},
   "source": [
    "Для графического отображения линии тренда достаточно получить координаты двух ее точек. Для наглядности отобразим график линии тренда поверх исходных данных (заметьте отсутствие выбросов)."
   ]
  },
  {
   "cell_type": "code",
   "execution_count": 48,
   "metadata": {
    "collapsed": false
   },
   "outputs": [
    {
     "data": {
      "text/plain": [
       "<matplotlib.text.Text at 0x4eadc30>"
      ]
     },
     "execution_count": 48,
     "metadata": {},
     "output_type": "execute_result"
    },
    {
     "data": {
      "image/png": "[encoded data removed]"
     },
     "metadata": {},
     "output_type": "display_data"
    }
   ],
   "source": [
    "xxLine=[0,4]\n",
    "yyLine=polyval(p, xxLine)\n",
    "plot(xx,vv,'o')\n",
    "plot(xxLine, yyLine, 'r')\n",
    "ylabel(r'$RT, sec$'); xlabel(r'$log_2(ISI), sec$')"
   ]
  },
  {
   "cell_type": "markdown",
   "metadata": {},
   "source": [
    "Итого, согласно нашей модели зависимость ВР от МСИ можно выразить уравнением:\n",
    "    $$RT=0.0068 log_2ISI + 0.368$$, \n",
    "где $ISI$ - межстимульный интервал в серии стимулов.\n",
    "\n",
    "Опираясь на полученную модель, можно предсказать какое будет в среднем ВР при иных МСИ.\n"
   ]
  },
  {
   "cell_type": "code",
   "execution_count": 55,
   "metadata": {
    "collapsed": false
   },
   "outputs": [
    {
     "data": {
      "text/plain": [
       "0.37877774500490385"
      ]
     },
     "execution_count": 55,
     "metadata": {},
     "output_type": "execute_result"
    }
   ],
   "source": [
    "altISI=3 #sec\n",
    "altRT=0.0068*log2(altISI) + 0.368\n",
    "altRT"
   ]
  },
  {
   "cell_type": "markdown",
   "metadata": {},
   "source": [
    "Можно предсказать среднее ВР для МСИ вне исследованного диапазона (экстраполяция), но надо понимать, что такая оценка будет менее достоверной."
   ]
  },
  {
   "cell_type": "code",
   "execution_count": 56,
   "metadata": {
    "collapsed": false
   },
   "outputs": [
    {
     "data": {
      "text/plain": [
       "0.3952"
      ]
     },
     "execution_count": 56,
     "metadata": {},
     "output_type": "execute_result"
    }
   ],
   "source": [
    "0.0068*log2(16) + 0.368  # прогноз ВР для МСИ=16 с"
   ]
  },
  {
   "cell_type": "markdown",
   "metadata": {},
   "source": [
    "Следует заметить, что более корректно расчет модели производить отдельно для зрительных и слуховых стимулов, поскольку реакции на них отличаются по времени у большинства людей."
   ]
  }
 ],
 "metadata": {
  "kernelspec": {
   "display_name": "Python 3",
   "language": "python",
   "name": "python3"
  },
  "language_info": {
   "codemirror_mode": {
    "name": "ipython",
    "version": 3
   },
   "file_extension": ".py",
   "mimetype": "text/x-python",
   "name": "python",
   "nbconvert_exporter": "python",
   "pygments_lexer": "ipython3",
   "version": "3.5.2"
  }
 },
 "nbformat": 4,
 "nbformat_minor": 0
}
