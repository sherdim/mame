{
 "cells": [
  {
   "cell_type": "markdown",
   "metadata": {
    "slideshow": {
     "slide_type": "slide"
    }
   },
   "source": [
    "# Автоматизация анализа данных"
   ]
  },
  {
   "cell_type": "markdown",
   "metadata": {
    "slideshow": {
     "slide_type": "skip"
    }
   },
   "source": [
    "In 1994, Altman and Goodman suggested that the following\n",
    "new statistical methods were going to play a key role in\n",
    "biomedical research over coming years: (i) bootstrap (and\n",
    "other computer-intensive methods); (ii) Gibbs sampler (and\n",
    "other Bayesian methods); (iii) generalized additive models;\n",
    "(iv) classification and regression trees (CART); (v) models\n",
    "for longitudinal data (general estimating equations); (vi)\n",
    "models for hierarchical data; and (vii) neural networks.\n",
    "In 1997, Houwelingen likewise suggested that the future\n",
    "would be marked by new biomedical applications\n",
    "(in epidemiology, historical data on oncological patients\n",
    "and their families; in ecology, spatial data); by new philosophies\n",
    "(causal models instead of randomized clinical\n",
    "trials; prediction versus prognostic modelling); new models\n",
    "(graphical chain models, random effects models); new\n",
    "computational facilities (with an impact on the other aspects);\n",
    "new techniques (graphic techniques, exact methods, pseudo-likelihood); and new forms of collaboration\n",
    "(databases for meta-analysis, Internet software, Internet\n",
    "publications).\n",
    "Many of the predictions made by Altman, Goodman and\n",
    "Houwelingen are already a reality, and many of the new\n",
    "statistical techniques they argue for have already been\n",
    "applied in studies published in prestigious biomedical journals.\n",
    "However, while these new methods are already being\n",
    "used in biomedical research, not all are being widely used.\n",
    "\n",
    "http://ieeexplore.ieee.org/abstract/document/7801509/\n"
   ]
  },
  {
   "cell_type": "markdown",
   "metadata": {
    "slideshow": {
     "slide_type": "slide"
    }
   },
   "source": [
    "## Что является стандартом?\n",
    "\n",
    "![](SAS-python.png)"
   ]
  },
  {
   "cell_type": "markdown",
   "metadata": {
    "slideshow": {
     "slide_type": "slide"
    }
   },
   "source": [
    "## [IDRE UCLA](https://stats.idre.ucla.edu/other/dae/) \n",
    "> прикоснись к уходящему...\n",
    "\n",
    "UCLA = University of California Los Angeles"
   ]
  },
  {
   "cell_type": "markdown",
   "metadata": {
    "slideshow": {
     "slide_type": "notes"
    }
   },
   "source": [
    "На странице представлены примеры выполнения разных видов анализа.\n",
    "\n",
    "Представлены языки\n",
    " Stata \tSAS \tSPSS \tMplus \tR\n",
    " \n",
    "Такое состояние было в 90-х и 00-х. То что популярно сейчас, мы рассмотрим далее.\n",
    "\n",
    "Начнем с последней колонки - `R`, который вполне жизнеспособен."
   ]
  },
  {
   "cell_type": "markdown",
   "metadata": {
    "slideshow": {
     "slide_type": "slide"
    }
   },
   "source": [
    "## R - для статистиков"
   ]
  },
  {
   "cell_type": "markdown",
   "metadata": {
    "slideshow": {
     "slide_type": "slide"
    }
   },
   "source": [
    "https://www.kaggle.com/kernels\n",
    "\n",
    "R used to be the language of choice on Kaggle, but 2016 has seen Python emerge as a clear winner. Will Python maintain its constrictive grip in the coming year?\n",
    "\n",
    "![](kagglekernels.png)\n",
    "\n"
   ]
  },
  {
   "cell_type": "markdown",
   "metadata": {
    "slideshow": {
     "slide_type": "slide"
    }
   },
   "source": [
    "## Модули\n",
    "\n",
    "Изучите публикацию [Lomb-Scargle Algorithms](https://jakevdp.github.io/blog/2015/06/13/lomb-scargle-in-python/)\n",
    "\n",
    "- Сколько модулей сравнивается в публикации?\n",
    "- По каким показателям сравнивается работа модулей по реализации одного и того же алгоритма?\n",
    "- Какой модуль выбрали ли вы для обработки данных о сезонных колебаниях в популяциях животных?\n"
   ]
  },
  {
   "cell_type": "markdown",
   "metadata": {},
   "source": [
    "## Модули (расширения)\n",
    "\n",
    "Общее правило: если вы пытаетесь что-то сделать теми средствами, которые уже освоили, и получается коряво и медленно, то надо поискать другой модуль, в котором это уже реализовано.\n",
    "\n",
    "Например, модуль `mplot3d`, входящий в `matplotlib`, поддерживает трехмерные графики - можно нарисовать точечки в трехмерном пространстве, поверхности, даже любые фигуры. Но если вы захотите сделать 3D-анимацию, где белковые структуры мембранного канала трансформируются при посадке на них лиганда, да еще чтобы вокруг в цитозоле плавали/летали другие молекулы, то теоретически у вас может получиться, но практически придется создавать новую подбиблиотеку. Поэтому лучше поискать специальный модуль, например [Mayavi](http://code.enthought.com/projects/mayavi/) или [MDTraj](http://mdtraj.org)."
   ]
  },
  {
   "cell_type": "markdown",
   "metadata": {},
   "source": [
    "## Среда разработки (IDE)\n",
    "\n",
    "#### отчет на выходе\n",
    "[Jupyter] - \n",
    "Beak\n",
    "#### скрипт на выходе\n",
    "- [Spyder]() - привыкшим работать в MATLAB - \n",
    "- [Rodeo](https://www.yhat.com/products/rodeo) - привыкшим работать в RStudio\n",
    "\n",
    "#### модуль на выходе (21+)"
   ]
  },
  {
   "cell_type": "markdown",
   "metadata": {
    "slideshow": {
     "slide_type": "slide"
    }
   },
   "source": [
    "### BioPython\n",
    "\n",
    "http://biopython.org/DIST/docs/tutorial/Tutorial.html#htoc2"
   ]
  },
  {
   "cell_type": "markdown",
   "metadata": {
    "slideshow": {
     "slide_type": "slide"
    }
   },
   "source": [
    "Пример алгоритмической работы.\n",
    "\n",
    "Tan ZW, Guarnera E, Berezovsky IN (2018) Exploring chromatin hierarchical organization via Markov State Modelling. PLoS Comput Biol 14(12): e1006686. https://doi.org/10.1371/journal.pcbi.1006686\n",
    "https://journals.plos.org/ploscompbiol/article?id=10.1371/journal.pcbi.1006686\n",
    "\n",
    "\n",
    "<!--[](http://www.bii.a-star.edu.sg/img/research-groups/PEBM.png)-->\n",
    "![](PEBM.png)"
   ]
  },
  {
   "cell_type": "markdown",
   "metadata": {
    "slideshow": {
     "slide_type": "notes"
    }
   },
   "source": [
    "Метод Markov State Modelling уже известен (но не студентам биофака).\n",
    "Авторы предлагают применить его к сложной биологической задаче исследования структурной организации хроматина и создают a foundation for chromatin structural reconstruction and the modelling of chromatin dynamics to explore the regulation of genome function.\n",
    "\n",
    "Алгоритмы предлагаются в виде Python package `ChromaWalker`\n",
    "List of required Python libraries (versions): Numpy (1.14) Scipy (1.0) Pandas (0.22) Matplotlib (2.0)\n",
    "\n",
    "Сделал первый автор  Zhen Wah Tan, который и написал черновик статьи.\n",
    "Roles: Data curation, Formal analysis, Investigation, Software, Validation, Visualization, Writing – original draft, Writing – review & editing \n",
    "до 2015 учился на физика в США\n",
    "\n",
    "Второй автор Enrico Guarnera (с итальянскими корнями и хирш 11): Conceptualization, Formal analysis, Investigation, Methodology, Validation, Writing – review & editing \n",
    "учился в Италии на физика, потом в Германии на биофизика, работал во Франции, Германии, США\n",
    "\n",
    "Курирует их Igor N. Berezovsky с русскими еврейскими корнями: Conceptualization, Data curation, Formal analysis, Funding acquisition, Investigation, Methodology, Project administration, Supervision, Validation, Writing – original draft, Writing – review & editing \n",
    "https://scholar.google.com/citations?hl=en&user=zQvaeIsAAAAJ&view_op=list_works&sortby=pubdate\n",
    "с хиршем 28\n",
    "до 1997 учился в МИФИ, работал в Институт молекулярной биологии имени В. А. Энгельгардта РАН, Израиле, США, Норвегии, Сингапуре (с 2014)\n",
    "\n",
    "все это происходит в лаборатории Bioinformatics Institute в Сингапуре\n",
    "http://www.bii.a-star.edu.sg/research/bmad/pebm.php\n",
    "\n",
    "социальные роли и убеждения прекрасно передает фото\n"
   ]
  },
  {
   "cell_type": "markdown",
   "metadata": {
    "slideshow": {
     "slide_type": "slide"
    }
   },
   "source": [
    "## Если нет компьютера?\n",
    "\n",
    "[![](https://mybinder.org/static/logo.svg?v=f9f0d927b67cc9dc99d788c822ca21c0)](\n",
    "https://mybinder.org/)\n",
    "\n",
    "[![thumb](https://notebooks.azure.com/content/landing-page/WindowsAzure.png)](https://notebooks.azure.com/)\n",
    "\n",
    "[![](https://cocalc.com/static/22a44ebc294424c3ea218fba1cb7c8df.svg)](https://cocalc.com/)\n",
    "\n",
    "[**PaizaCloud**](https://paiza.cloud/en/jupyter-notebook-online)\n",
    "\n",
    "Is mybinder 95% of the way to next-gen computational science publishing, or only 90%?\n",
    "http://ivory.idyll.org/blog/2016-mybinder.html\n",
    "\n",
    "Обновление 2017 года, после которого стало работать стабильно\n",
    "https://blog.jupyter.org/binder-2-0-a-tech-guide-2017-fd40515a3a84\n",
    "\n",
    "Любопытные могут посмотреть публикационную активность создателя из калифорнийского университета\n",
    "https://scholar.google.com/citations?user=fJmcIEIAAAAJ&hl=en\n",
    "\n"
   ]
  },
  {
   "cell_type": "markdown",
   "metadata": {
    "slideshow": {
     "slide_type": "slide"
    }
   },
   "source": [
    "## Оптимизация кода на Python\n",
    "\n",
    "Язык `Python` относится к *динамически прототипируемым* языкам. Это означает, что в отличие от *компилируемых* языков (статически прототипируемых) инструкции в машинных кодах для процесора, формируются в процессе выполнения. На это тратится небольшое время, но если код содержит много циклов по выполнению однотипных операций, то в результате программа работает медленнее.\n",
    "\n",
    "Однако, модули для работы с научными данными `numpy`, `scipy`, `pandas` уже оптимизированы, и если пользоваться ими правильно, то программы на `Python` практически не уступают в скорости программам на `C` и `Fortran`."
   ]
  },
  {
   "cell_type": "markdown",
   "metadata": {
    "slideshow": {
     "slide_type": "slide"
    }
   },
   "source": [
    "Если вы разработали собственный алгоритм, и хотите оптимизировать его для запуска на больших объемах данных, то есть следующие подходы для оптимизации научных вычислений:\n",
    "\n",
    "- [Ctypes](http://docs.python.org/2/library/ctypes.html): утилиты обращения к библиотекам на `C` (например, системным библиотекам Windows), включенные в стандартную установку `Python`\n",
    "- [F2Py](http://cens.ioc.ee/projects/f2py2e/usersguide/): утилита вызова программ на `Fortran`, входящая в состав `NumPy`\n",
    "- [Cython](http://cython.org/): модуль, осуществляющий конверсию кода на `Python` с некоторыми расширениями в код на `C`\n",
    "- [Numba](http://numba.pydata.org/): модуль компиляции функций на `Python` в машинный LLVM bytecode"
   ]
  },
  {
   "cell_type": "markdown",
   "metadata": {
    "slideshow": {
     "slide_type": "slide"
    }
   },
   "source": [
    "Некоторые причины, по которым приходится прибегать к оптимизации:\n",
    "1. Иногда попытка загрузить все данные в одном массиве для использования эффективных алгоритмов векторизации  может привести к чрезмерному использованию памяти, потому что в процессе обработки используются временные массивы для хранения промежуточных результатов. Памяти может просто не хватать.\n",
    "2. Ряд задач (планирование, поиск решений) требует перебора разных заранее неизвестных вариантов, поэтому алгоритмы векторизации не подходят. Такие алгоритмы древовидно разветвляются, образуют циклы и т.д. Ради подобных сложных задач и строят высокопроизводительные компьютерные кластеры.\n",
    "3. Иногда у вас есть унаследованный код, который не хочется переписывать заново, поэтому вы лишь вызываете этот функционал из своего кода, но при этом хотите, чтобы программа работала быстрее."
   ]
  },
  {
   "cell_type": "markdown",
   "metadata": {
    "slideshow": {
     "slide_type": "slide"
    }
   },
   "source": [
    "Если скорость выполнения компилированного кода недостаточна, то прибегают к паралелльным вычислениям, то есть выполнение кода разделяют между несколькими процессорами. Это могут быть: \n",
    "- ядра внутри одного многоядерного центрального процессора (CPU)\n",
    "- вычислительные узлы, объединенные в кластер\n",
    "- конвееры графической карты (GPU) - самое доступное решение через платформу [CUDA](https://en.wikipedia.org/wiki/CUDA).  См. [пример использования](http://nbviewer.ipython.org/gist/harrism/f5707335f40af9463c43), дающий 2000х ускорение."
   ]
  },
  {
   "cell_type": "markdown",
   "metadata": {
    "slideshow": {
     "slide_type": "slide"
    }
   },
   "source": [
    "## Хэширование\n",
    "\n",
    "\n",
    "снижение разнообразия данных до размера хеша\n",
    "\n",
    "к хэшированию прибегают, когда количество данных для обработки не помещается в доступной памяти компьютера."
   ]
  },
  {
   "cell_type": "markdown",
   "metadata": {
    "slideshow": {
     "slide_type": "subslide"
    }
   },
   "source": [
    "Для получения хэшей используют хэш-функции.\n",
    "\n",
    "```py\n",
    "def hashStr(s, tableSize= 101):\n",
    "    number = ''\n",
    "    for c in s:\n",
    "        number = number + str(ord(c))\n",
    "    index = int(number)%tableSize\n",
    "    return index\n",
    "```"
   ]
  },
  {
   "cell_type": "markdown",
   "metadata": {
    "slideshow": {
     "slide_type": "subslide"
    }
   },
   "source": [
    "Если данных очень много, то рано или поздно для нескольких разных значений получатся одинаковые хэши.\n",
    "\n",
    "пакеты, куда попадают одинаковые хэши - называются корзинки (ведра, bucket)\n",
    "\n",
    "важное требование к хеш-функции: чтобы значения распределялись по корзинкам с равной вероятностью (uniform distribution)\n",
    "\n",
    "Компромисс: \n",
    "- если количество корзинок больше:  обработка данных быстрее и точнее,\n",
    "- если количество корзинок меньше: хранение хэшей требует меньше места.\n",
    "\n",
    "**Рекомендация**: пользуйтесь наивным алгоритмом с перебором всех вариантов, и если метод работает слишком медленно - обращаться к специалистам по добыче данных (data mining)."
   ]
  },
  {
   "cell_type": "markdown",
   "metadata": {
    "slideshow": {
     "slide_type": "slide"
    }
   },
   "source": [
    "## Шаги по решению исследовательской задачи\n",
    "\n",
    "Найти рецепт - встроить его в свой скрипт\n",
    "\n",
    "Скрипт и данные выложить на хостинг данных\n",
    "Пригласить экспертов для улучшения анализа - возможно новая публикация"
   ]
  },
  {
   "cell_type": "markdown",
   "metadata": {
    "slideshow": {
     "slide_type": "slide"
    }
   },
   "source": [
    "гипотеза - набор данных - проверка\n",
    "\n",
    "в реальном времени становится просто проверкой\n",
    "\n",
    "sequential detection with binary hypotheses (SDBH) asks at each trial if the accumulated $π_N$ is sufficient to make a decision before collecting more samples. At trial $N$, SDBH makes a decision based on $π_N$ as follows:\n",
    "\n",
    "$$\\begin{cases} If π_N ≥ π_H, choose H1 and stop; \\\\\n",
    "        If π_N ≤ π_L, choose Ho and stop; \\\\\n",
    "        Otherwise, collect another sample x_{N+1},\\end{cases}$$"
   ]
  },
  {
   "cell_type": "markdown",
   "metadata": {
    "slideshow": {
     "slide_type": "slide"
    }
   },
   "source": [
    "## Deep Learing\n",
    "\n",
    "Например:\n",
    "\n",
    "- [Xie R. et al. A predictive model of gene expression using a deep learning framework //Bioinformatics and Biomedicine (BIBM), 2016 IEEE International Conference on. – IEEE, 2016. – С. 676-681.](http://ieeexplore.ieee.org/abstract/document/7822599/)\n",
    "- Larmuseau M. Epileptic Seizure Prediction using Deep Learning. – 2016."
   ]
  },
  {
   "cell_type": "markdown",
   "metadata": {
    "slideshow": {
     "slide_type": "slide"
    }
   },
   "source": [
    "## Единого решения нет\n",
    "\n",
    "В конкурсах победителям приподнятся над середнячками помогает *комплексирование моделей*.\n",
    "Общая идея *ансамбля* (ensemble) — научить на части данных много моделей 1-го уровня с разными параметрами и на разных субнаборах характеристик и на основании предсказаний этих моделей построить модель 2-го уровня."
   ]
  },
  {
   "cell_type": "markdown",
   "metadata": {
    "slideshow": {
     "slide_type": "slide"
    }
   },
   "source": [
    "## Сервисы размещения данных\n",
    "\n",
    "[Mendeley Data](https://data.mendeley.com/datasets) - можно смотреть в Plotly-онлайн \n",
    "\n",
    "https://archive.ics.uci.edu/ml/index.html\n",
    "\n",
    "[![](http://about.zenodo.org/static/img/logos/zenodo-gradient-round.svg)](http://about.zenodo.org)  с 2013 года при CERN\n",
    "\n",
    "\n",
    "https://senselab.med.yale.edu/modeldb/default.cshtml - модели по нейронауке"
   ]
  },
  {
   "cell_type": "markdown",
   "metadata": {
    "slideshow": {
     "slide_type": "slide"
    }
   },
   "source": [
    "***Open Science knows no borders!***\n",
    "\n",
    "http://journals.plos.org/plosbiology/article?id=10.1371/journal.pbio.2001259"
   ]
  },
  {
   "cell_type": "markdown",
   "metadata": {
    "slideshow": {
     "slide_type": "slide"
    }
   },
   "source": [
    "### FAIR Principles\n",
    "\n",
    "Wilkinson, M. D. et al. The FAIR Guiding Principles for scientific data management and stewardship. Sci. Data 3:160018 doi: 10.1038/sdata.2016.18 (2016).\n",
    "\n",
    "1. To be **Findable**:\n",
    "  -  F1: (meta)data are assigned a globally unique and persistent identifier\n",
    "  -  F2: data are described with rich metadata (defined by R1 below)\n",
    "  -  F3: metadata clearly and explicitly include the identifier of the data it describes\n",
    "  -  F4: (meta)data are registered or indexed in a searchable resource\n",
    "\n",
    "2. To be **Accessible**:\n",
    "  -  A1: (meta)data are retrievable by their identifier using a standardized communications protocol\n",
    "  -  A2: metadata are accessible, even when the data are no longer available\n",
    "\n",
    "3. To be **Interoperable**:\n",
    "  -  I1: (meta)data use a formal, accessible, shared, and broadly applicable language for knowledge representation.\n",
    "  -  I2: (meta)data use vocabularies that follow FAIR principles\n",
    "  -  I3: (meta)data include qualified references to other (meta)data\n",
    "        \n",
    "4. To be **Reusable**:\n",
    "  -  R1: (meta)data are richly described with a plurality of accurate and relevant attributes\n",
    "      -  R1.1: (meta)data are released with a clear and accessible data usage license\n",
    "      -  R1.2: (meta)data are associated with detailed provenance\n",
    "      -  R1.3: (meta)data meet domain-relevant community standards\n",
    "        \n"
   ]
  },
  {
   "cell_type": "markdown",
   "metadata": {
    "slideshow": {
     "slide_type": "slide"
    }
   },
   "source": [
    "## Инструменты и знания\n",
    "\n",
    "\"Плавильный котел\" инструментария - Kaggle.com\n",
    "1. Данные\n",
    "2. Примеры анализа\n",
    "\n",
    "Kaggle для даталога - Задачник с открытым решением.\n",
    "\n",
    "Важно! Т.к. платят большие деньги за победу в конкурсах - реально лучшие специалисты в мире.\n",
    "И бывает, что лучшие или в московском вузе работают, или в Индии в профтехучилище..."
   ]
  },
  {
   "cell_type": "markdown",
   "metadata": {
    "slideshow": {
     "slide_type": "subslide"
    }
   },
   "source": [
    "Рассмотрим пример:\n",
    "https://www.kaggle.com/nirajvermafcb/d/primaryobjects/voicegender/support-vector-machine-detail-analysis#\n",
    "\n",
    "и вот мерило активности"
   ]
  },
  {
   "cell_type": "markdown",
   "metadata": {
    "collapsed": true,
    "slideshow": {
     "slide_type": "fragment"
    }
   },
   "source": [
    "Выводы: \n",
    "1. прилежный индийский выпускник: изучил кросс-валидацию и логику анализа\n",
    "2. понятия не имеет об анализе голоса\n",
    "3. каждый может за неделю освоить инструментарий, но знания надо копить годами."
   ]
  },
  {
   "cell_type": "markdown",
   "metadata": {
    "slideshow": {
     "slide_type": "subslide"
    }
   },
   "source": [
    "Рассмотрим описание набора данных\n",
    "https://www.kaggle.com/primaryobjects/voicegender\n",
    "\n",
    "#### CART Diagram\n",
    "![](http://i.imgur.com/Npr2U7O.png)\n",
    "\n",
    "- meanfreq: mean frequency (in kHz)\n",
    "- IQR: interquantile range (in kHz)"
   ]
  },
  {
   "cell_type": "markdown",
   "metadata": {
    "slideshow": {
     "slide_type": "subslide"
    }
   },
   "source": [
    "А какие же еще вопросы остались?\n",
    "- Какие другие характеристики различаются между мужским и женским голосами? \n",
    "- Можем ли мы найти разницу в резонансе между мужскими и женскими голосами?\n",
    "\n",
    "Ответы:\n",
    "- При помощи индийского мальчика не можем.\n",
    "- Машина уже вытащила лучшую разницу - лучше не будет, поэтому надо возвращаться к исходным данным, пробовать изобретать новые показатели, динамические, не просто средний тон, но особенности переходов между фонемами, окончания слов и т.п."
   ]
  },
  {
   "cell_type": "markdown",
   "metadata": {
    "slideshow": {
     "slide_type": "subslide"
    }
   },
   "source": [
    "Инструменты общедоступны - тысячи индийских мальчиков ими владеют - кто же выигрывает призы?\n",
    "\n"
   ]
  },
  {
   "cell_type": "markdown",
   "metadata": {
    "slideshow": {
     "slide_type": "subslide"
    }
   },
   "source": [
    "Другой пример:\n",
    "\n",
    "курс [Прикладной статистический анализ данных](http://wiki.cs.hse.ru/%D0%9F%D1%80%D0%B8%D0%BA%D0%BB%D0%B0%D0%B4%D0%BD%D0%BE%D0%B9_%D1%81%D1%82%D0%B0%D1%82%D0%B8%D1%81%D1%82%D0%B8%D1%87%D0%B5%D1%81%D0%BA%D0%B8%D0%B9_%D0%B0%D0%BD%D0%B0%D0%BB%D0%B8%D0%B7_%D0%B4%D0%B0%D0%BD%D0%BD%D1%8B%D1%85)\n",
    "\n",
    "преподаватель https://www.hse.ru/staff/riabenko\n",
    "\n",
    "[мерило](https://www.kaggle.com/riabenko)\n",
    "\n"
   ]
  },
  {
   "cell_type": "markdown",
   "metadata": {
    "slideshow": {
     "slide_type": "slide"
    }
   },
   "source": [
    "227th?\n",
    "\n",
    "Давайте глянем на иллюстрацию победителя - биология?\n",
    "https://www.kaggle.com/alexandrebarachant/grasp-and-lift-eeg-detection/visual-evoked-potential-vep#\n",
    "\n",
    "algorithm xDAWN со ссылками\n",
    "\n",
    "и его [мерило](https://www.kaggle.com/alexandrebarachant):\n",
    "\n",
    "|year| prize | title\n",
    "|--\n",
    "|2015-02 | \\$500 | [BCI Challenge @ NER 2015](https://www.kaggle.com/c/inria-bci-challenge)\n",
    "|2015-08 | \\$5000 | [Grasp-and-Lift EEG Detection](https://www.kaggle.com/c/grasp-and-lift-eeg-detection) \n",
    "|2016-12 | \\$10,000 | [Predict seizures in long-term human intracranial EEG recordings](https://www.kaggle.com/c/melbourne-university-seizure-prediction)"
   ]
  },
  {
   "cell_type": "markdown",
   "metadata": {
    "slideshow": {
     "slide_type": "subslide"
    }
   },
   "source": [
    "Последний пример показателен\n",
    "https://www.kaggle.com/c/melbourne-university-seizure-prediction\n",
    "\n",
    "- Спонсор - MathWorks, разработчик MATLAB\n",
    "- Подсунули MATLAB Tutorial\n",
    "- Выиграл Python\n",
    "- Порождение активности - [Перевод ЭЭГ в звук](https://www.kaggle.com/bzamecnik/melbourne-university-seizure-prediction/brain-sounds)\n"
   ]
  },
  {
   "cell_type": "markdown",
   "metadata": {
    "slideshow": {
     "slide_type": "subslide"
    }
   },
   "source": [
    "Платформа (биржа анализа данных) показала жизнеспособность.\n",
    "\n",
    "Подобно рекламе - она выгодна и владельцем медиа (приносит прибыль), и рекламодателям (приносит продажи).\n",
    "\n",
    "Kaggle и подобные платформы ( [codalab](https://competitions.codalab.org/competitions/15595) )\n",
    "- выгодны заказчикам - народ наваливается и быстро решает проблему на лучшем уровне\n",
    "- выгодны специалистам - они учатся и выигрывают призы, находят работу.\n",
    "- открытость способствует прогрессу.\n",
    "\n",
    "Kaggle in Class [Закрытый учебное соревнование для участников Школы Анализа Данных от Яндекс](\n",
    "https://inclass.kaggle.com/c/classify-traffic-signs)"
   ]
  },
  {
   "cell_type": "markdown",
   "metadata": {
    "slideshow": {
     "slide_type": "subslide"
    }
   },
   "source": [
    "## Краудсорсинг на стероидах\n",
    "\n",
    "коллективный разум тысяч участников генерирует большое количество решений реальных прикладных задач.\n",
    "\n",
    "[InnoCentive Challenges](https://www.innocentive.com/ar/challenge/browse) \n",
    "[eg1](https://www.innocentive.com/ar/challenge/9933564)\n",
    "[eg2](https://www.innocentive.com/ar/challenge/9933914)\n",
    "[eg3](https://www.innocentive.com/ar/challenge/9933771)\n",
    "\n",
    "В популяционной биологии сбор данных любителями в какой-то момент начинает превалировать над усилиями специалистов: [eBird](http://ebird.org/ebird/GuideMe?cmd=decisionPage&getLocations=hotspots&hotspots=L1960641&yr=all&m=), [Плантариум](http://www.plantarium.ru/) \n",
    "\n",
    "<b class=tag>Меритократия</b>\n",
    "\n",
    "<b class=tag>crowdsourcing</b>"
   ]
  },
  {
   "cell_type": "markdown",
   "metadata": {
    "slideshow": {
     "slide_type": "slide"
    }
   },
   "source": [
    "Мир меняется... с появлением интегрированных глобальных инструментов отбора и оценки разработок\n",
    "\n",
    "1. Ученые \"старой школы\" защищаются, устраиваются преподавать, компилируют книги и учебники и читают лекции на школах юных ученых и ... отстают от прогресса\n",
    "2. универсальные мотивированные специалисты решают задачи на переднем крае, быстро прогрессируют, становятся экспертами - создают свои или идут работать в крупные компании\n",
    "\n",
    "Некоторые совмещают, помоту что первый вариант дает престиж, а второй вариант - деньги. \n",
    "\n",
    "Разрыв уже наметился, ибо \"наукодателям\" нужны специалисты, \n",
    "а факт, что человек написал книгу, не указывает ни на ум, ни на опыт, ни на высокие идеалы, разве что немного на трудолюбие.\n",
    "\n",
    "При наличии мощных инструментов и целевого финансирования для **быстрого творческого** решения нужны не популярные \"лекторы\", а интроверты, готовые на месяц отключиться от всего внешнего ради мастерского решения задачи."
   ]
  },
  {
   "cell_type": "markdown",
   "metadata": {
    "slideshow": {
     "slide_type": "slide"
    }
   },
   "source": [
    "### Геймификация\n",
    "\n",
    "https://eternagame.org/\n",
    "\n",
    "https://phylo.cs.mcgill.ca/play.html\n",
    "\n",
    "https://fold.it/portal/info/about"
   ]
  },
  {
   "cell_type": "markdown",
   "metadata": {
    "slideshow": {
     "slide_type": "slide"
    }
   },
   "source": [
    "### Сервисы автоматизированного анализа\n",
    "- обобщая опыт, заменяют эксперта-датолога\n",
    "- сами подбирают алгоритм, который лучше всего подходит\n",
    "\n",
    " [DataRobot](https://www.datarobot.com/education/)\n",
    " \n",
    " [AutoModel (RapidMiner)](https://automodel.rapidminer.com)"
   ]
  },
  {
   "cell_type": "markdown",
   "metadata": {
    "slideshow": {
     "slide_type": "slide"
    }
   },
   "source": [
    "### Традиционное обучение\n",
    "![](The-old-fashioned-way.png)"
   ]
  },
  {
   "cell_type": "markdown",
   "metadata": {
    "slideshow": {
     "slide_type": "slide"
    }
   },
   "source": [
    "### Практическое компетентностное обучение\n",
    "![](The-DataRobot-approach.png)"
   ]
  },
  {
   "cell_type": "markdown",
   "metadata": {
    "slideshow": {
     "slide_type": "slide"
    }
   },
   "source": [
    "Будем надеяться, что после освоения курса вы способны загрузить любые данные и попробовать их обработать..."
   ]
  },
  {
   "cell_type": "markdown",
   "metadata": {
    "slideshow": {
     "slide_type": "slide"
    }
   },
   "source": [
    "Для поднятия патриотизма..."
   ]
  },
  {
   "cell_type": "markdown",
   "metadata": {
    "slideshow": {
     "slide_type": "slide"
    }
   },
   "source": [
    "Международный студенческий конкурс по даталогии\n",
    "\n",
    "![](datasciencegame.png)\n",
    "\n",
    "http://www.datasciencegame.com/leaderboard"
   ]
  },
  {
   "cell_type": "markdown",
   "metadata": {
    "slideshow": {
     "slide_type": "slide"
    }
   },
   "source": [
    "[Александр Дьяконов](https://www.kaggle.com/dyakonov) - [блог](https://alexanderdyakonov.wordpress.com)"
   ]
  },
  {
   "cell_type": "markdown",
   "metadata": {
    "slideshow": {
     "slide_type": "slide"
    }
   },
   "source": [
    "[Станислав Семенов](https://www.kaggle.com/stasg7)"
   ]
  },
  {
   "cell_type": "markdown",
   "metadata": {
    "slideshow": {
     "slide_type": "slide"
    }
   },
   "source": [
    "обращайтесь за помощью - ищите контакты\n",
    "\n",
    "демонстрация остаточного патриотизма\n",
    "\n",
    "http://journals.plos.org/ploscompbiol/article?id=10.1371/journal.pcbi.1005233"
   ]
  },
  {
   "cell_type": "markdown",
   "metadata": {
    "collapsed": true,
    "slideshow": {
     "slide_type": "slide"
    }
   },
   "source": [
    "учите английский\n",
    "\n",
    "http://journals.plos.org/plosbiology/article?id=10.1371/journal.pbio.2000933"
   ]
  }
 ],
 "metadata": {
  "celltoolbar": "Slideshow",
  "kernelspec": {
   "display_name": "Python 3",
   "language": "python",
   "name": "python3"
  },
  "language_info": {
   "codemirror_mode": {
    "name": "ipython",
    "version": 3
   },
   "file_extension": ".py",
   "mimetype": "text/x-python",
   "name": "python",
   "nbconvert_exporter": "python",
   "pygments_lexer": "ipython3",
   "version": "3.7.1"
  },
  "toc": {
   "base_numbering": 1,
   "nav_menu": {
    "height": "580px",
    "width": "319px"
   },
   "number_sections": false,
   "sideBar": true,
   "skip_h1_title": false,
   "title_cell": "Table of Contents",
   "title_sidebar": "Contents",
   "toc_cell": false,
   "toc_position": {},
   "toc_section_display": "block",
   "toc_window_display": false
  }
 },
 "nbformat": 4,
 "nbformat_minor": 1
}
