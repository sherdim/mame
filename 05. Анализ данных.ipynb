{
 "cells": [
  {
   "cell_type": "code",
   "execution_count": null,
   "metadata": {
    "slideshow": {
     "slide_type": "skip"
    }
   },
   "outputs": [],
   "source": [
    "%pylab inline\n",
    "import seaborn as sns"
   ]
  },
  {
   "cell_type": "markdown",
   "metadata": {
    "slideshow": {
     "slide_type": "slide"
    }
   },
   "source": [
    "## Этапы анализа данных\n",
    "\n",
    "   - Разведочный анализ\n",
    "   - Углубленный анализ\n",
    "       - Проверка модели (апробация)"
   ]
  },
  {
   "cell_type": "markdown",
   "metadata": {
    "slideshow": {
     "slide_type": "slide"
    }
   },
   "source": [
    "### Разведочный анализ (Exploratory analysis)\n",
    "\n",
    "  - Максимальное \"проникновение\" в данные.\n",
    "  - Выявление основных структур.\n",
    "  - Выбор наиболее важных переменных.\n",
    "  - Обнаружение отклонений и аномалий.\n",
    "  - Проверка основных гипотез (предположений).\n",
    "  - Разработка начальных моделей.\n",
    "  \n",
    "(J.Tukey \"Exploratory Data Analysis\", 1977 )"
   ]
  },
  {
   "cell_type": "markdown",
   "metadata": {
    "slideshow": {
     "slide_type": "slide"
    }
   },
   "source": [
    "![](algo.png)"
   ]
  },
  {
   "cell_type": "markdown",
   "metadata": {
    "slideshow": {
     "slide_type": "slide"
    }
   },
   "source": [
    "## Оценка значимости эффекта\n",
    "\n",
    "Уровень значимости,   <s>достоверность</s>"
   ]
  },
  {
   "cell_type": "markdown",
   "metadata": {
    "slideshow": {
     "slide_type": "slide"
    }
   },
   "source": [
    "![](confident_pvalue.jpg)"
   ]
  },
  {
   "cell_type": "markdown",
   "metadata": {
    "slideshow": {
     "slide_type": "slide"
    }
   },
   "source": [
    "## Проблема p-value\n",
    "\n",
    "Если рассматривать мета-распределение p-values, полученных для подвыборок из ансамбля с заданными свойствами, то оно окажется сильно скошенным влево с толстым правым хвостом. В результате среднее p-value (настоящее p-value) завышается. При больших `N` наблюдается сходимость. Однако при $N<30$ есть систематическая переоценка \"статистической значимости\".\n",
    "https://arxiv.org/pdf/1603.07532.pdf\n",
    "\n",
    "### p-hacking\n",
    "Авторы также рассчитывают распределение числа повторов, которые надо сделать для получения \"достоверного\" p-value.\n",
    "https://arxiv.org/pdf/1603.07532.pdf\n",
    "\n",
    "\n",
    "Рекомендуют устанавливать стандартное p-value $p \\approx 0.01$\n",
    "<ref>V.  E.  Johnson,  “Revised  standards  for  statistical  evidence,”\n",
    "Proceedings\n",
    "of the National Academy of Sciences\n",
    ", vol. 110, no. 48, pp. 19 313–19 317,\n",
    "2013.</ref>"
   ]
  },
  {
   "cell_type": "markdown",
   "metadata": {
    "slideshow": {
     "slide_type": "slide"
    }
   },
   "source": [
    "## Мощность\n",
    "\n",
    "Способность обнаружить различие, если оно есть.\n",
    "\n",
    "Увеличение статистической мощности через сотрудничество между лабораториями.\n",
    "\n",
    "Baldwin S. A. Improving the rigor of psychophysiology research //International Journal of Psychophysiology. – 2017. – Т. 111. – С. 5-16."
   ]
  },
  {
   "cell_type": "markdown",
   "metadata": {
    "slideshow": {
     "slide_type": "slide"
    }
   },
   "source": [
    "Статика хорошо работает в ограниченных условиях\n",
    "\n",
    " - производство\n",
    " - экология\n",
    " - эпидемиология (социология)"
   ]
  },
  {
   "cell_type": "markdown",
   "metadata": {
    "slideshow": {
     "slide_type": "notes"
    }
   },
   "source": [
    "Например, контроля качества на производстве пива. \n",
    "В экологии, где нет возможности ставить эксперименты.\n",
    "Эпидемиологии."
   ]
  },
  {
   "cell_type": "markdown",
   "metadata": {
    "slideshow": {
     "slide_type": "slide"
    }
   },
   "source": [
    "### Парадокс Мееля\n",
    "\n",
    "Теорию подтверждать статистикой не получится, потому что отвергают нулевую гипотезу."
   ]
  },
  {
   "cell_type": "markdown",
   "metadata": {
    "slideshow": {
     "slide_type": "fragment"
    }
   },
   "source": [
    "**Разрешили Serlin, Lapsley, 1985. 1993 :**\n",
    "- Надо проверять предсказание теории попаданием значений в небольшое окно (region of practical equivalence, ROPE)\n",
    "- размер окна зависит от доступных инструментов измерения, от конкурирующих теорий"
   ]
  },
  {
   "cell_type": "markdown",
   "metadata": {
    "slideshow": {
     "slide_type": "slide"
    }
   },
   "source": [
    "## Доверительный интервал\n",
    "\n",
    "http://rpsychologist.com/d3/CI/\n",
    "\n",
    "Эксперименты можно продолжать пока не достигнет значимости\n",
    "\n",
    "Можно добавить множественные сравнения.\n",
    "\n",
    "Есть поправки для компенсации, но их выбор произвольный.\n",
    "\n",
    "Интервал не предполагает разницы меду центром и краями"
   ]
  },
  {
   "cell_type": "markdown",
   "metadata": {
    "slideshow": {
     "slide_type": "slide"
    }
   },
   "source": [
    "## Величина эффекта\n",
    "\n",
    "#### Cohen's d\n",
    "\n",
    "http://rpsychologist.com/d3/cohend/"
   ]
  },
  {
   "cell_type": "markdown",
   "metadata": {
    "slideshow": {
     "slide_type": "slide"
    }
   },
   "source": [
    "## Множественные сравнения\n",
    "\n",
    "- FWER\n",
    "- FDR\n",
    "\n",
    "www.statsmodels.org/stable/generated/statsmodels.stats.multitest.multipletests.html"
   ]
  },
  {
   "cell_type": "markdown",
   "metadata": {
    "slideshow": {
     "slide_type": "slide"
    }
   },
   "source": [
    "### Bayesian does it all!\n",
    "\n",
    "- Доверительный интервал Credible (CI)\n",
    "- Сравнение альтернативных моделей (BF)"
   ]
  },
  {
   "cell_type": "markdown",
   "metadata": {
    "slideshow": {
     "slide_type": "slide"
    }
   },
   "source": [
    "**Байес фактор (BF)** - во сколько раз одна гипотеза правдоподобнее другой.\n",
    "\n",
    "\n",
    "Bayes Factor| $$log(L_1 / L_2)$$\n",
    "-|-\n",
    "    незначительный | < 1\n",
    "    позитивный | 1 - 3\n",
    "    сильный    | 3 - 5\n",
    "    очень сильный | > 5\n",
    "    \n",
    "(Kass, Raftery, 1995)"
   ]
  },
  {
   "cell_type": "markdown",
   "metadata": {
    "slideshow": {
     "slide_type": "slide"
    }
   },
   "source": [
    "### Модели стуктурных уравнений SEM\n",
    "\n",
    "![](SEM.png)"
   ]
  },
  {
   "cell_type": "markdown",
   "metadata": {
    "slideshow": {
     "slide_type": "-"
    }
   },
   "source": [
    "### +++\n",
    "\n"
   ]
  }
 ],
 "metadata": {
  "celltoolbar": "Slideshow",
  "kernelspec": {
   "display_name": "Python 3",
   "language": "python",
   "name": "python3"
  },
  "language_info": {
   "codemirror_mode": {
    "name": "ipython",
    "version": 3
   },
   "file_extension": ".py",
   "mimetype": "text/x-python",
   "name": "python",
   "nbconvert_exporter": "python",
   "pygments_lexer": "ipython3",
   "version": "3.7.1"
  },
  "toc": {
   "base_numbering": 1,
   "nav_menu": {
    "height": "546px",
    "width": "341px"
   },
   "number_sections": false,
   "sideBar": true,
   "skip_h1_title": false,
   "title_cell": "Table of Contents",
   "title_sidebar": "Contents",
   "toc_cell": false,
   "toc_position": {},
   "toc_section_display": "block",
   "toc_window_display": false
  }
 },
 "nbformat": 4,
 "nbformat_minor": 1
}
