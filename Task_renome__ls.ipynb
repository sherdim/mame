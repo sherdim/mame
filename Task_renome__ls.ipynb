{
 "metadata": {
  "name": ""
 },
 "nbformat": 3,
 "nbformat_minor": 0,
 "worksheets": [
  {
   "cells": [
    {
     "cell_type": "heading",
     "level": 1,
     "metadata": {},
     "source": [
      "\u041f\u043e\u0434\u0433\u043e\u0442\u043e\u0432\u043a\u0430 \u043e\u0431\u0443\u0447\u0430\u044e\u0449\u0435\u0439 \u0432\u044b\u0431\u043e\u0440\u043a\u0438"
     ]
    },
    {
     "cell_type": "markdown",
     "metadata": {},
     "source": [
      "\u0414\u043b\u044f \u043e\u0431\u0443\u0447\u0435\u043d\u0438\u044f \u043d\u0430\u043c \u043d\u0443\u0436\u043d\u043e \u043c\u043d\u043e\u0436\u0435\u0441\u0442\u0432\u043e \u043a\u0430\u0440\u0442\u0438\u043d\u043e\u0447\u0435\u043a \u0446\u0438\u0444\u0440 \u0438 \u0441\u043e\u043e\u0442\u0432\u0435\u0442\u0441\u0442\u0432\u0443\u044e\u0449\u0435\u0435 \u043c\u043d\u043e\u0436\u0435\u0441\u0442\u0432\u043e \u0437\u043d\u0430\u0447\u0435\u043d\u0438\u0439, \u0447\u0442\u043e \u043d\u0430 \u043d\u0438\u0445 \u0438\u0437\u043e\u0431\u0440\u0430\u0436\u0435\u043d\u043e. \u042d\u0442\u0443 \u0440\u0430\u0431\u043e\u0442\u0443 \u043d\u0430\u0434\u043e \u043f\u0440\u043e\u0434\u0435\u043b\u0430\u0442\u044c \u0432\u0440\u0443\u0447\u043d\u0443\u044e."
     ]
    },
    {
     "cell_type": "heading",
     "level": 3,
     "metadata": {},
     "source": [
      "\u041e\u0442\u0431\u043e\u0440 \u043a\u0430\u0440\u0442\u0438\u043d\u043e\u043a \u0441 \u0442\u0435\u043b\u0435\u0444\u043e\u043d\u0430\u043c\u0438"
     ]
    },
    {
     "cell_type": "markdown",
     "metadata": {},
     "source": [
      "\u041e\u0431\u044b\u0447\u043d\u043e \u0444\u0430\u0439\u043b\u044b \u0441\u043b\u043e\u0436\u0435\u043d\u044b \u0432 \u043f\u0430\u043f\u043a\u0435. \u0421 \u043f\u043e\u043c\u043e\u0449\u044c\u044e \u043c\u043e\u0434\u0443\u043b\u044f glob \u043c\u043e\u0436\u043d\u043e \u043e\u0442\u0431\u0438\u0440\u0430\u0442\u044c \u0444\u0430\u0439\u043b\u044b \u043f\u043e \u043c\u0430\u0441\u043a\u0435 (\u043a\u0430\u043a \u0432 \u043f\u043e\u0438\u0441\u043a\u0435 \u041f\u0440\u043e\u0432\u043e\u0434\u043d\u0438\u043a\u0430)."
     ]
    },
    {
     "cell_type": "code",
     "collapsed": false,
     "input": [
      "TESTDIR='telno'\n",
      "\n",
      "import os\n",
      "from glob import glob\n",
      "    \n",
      "pics=glob(os.path.join(TESTDIR,'???????????.png'))\n",
      "\n",
      "len(pics)"
     ],
     "language": "python",
     "metadata": {},
     "outputs": [
      {
       "output_type": "pyout",
       "prompt_number": 7,
       "text": [
        "17"
       ]
      }
     ],
     "prompt_number": 7
    },
    {
     "cell_type": "markdown",
     "metadata": {},
     "source": [
      "\u041e\u0442\u0431\u0435\u0440\u0435\u043c \u043d\u0435\u043a\u043e\u0442\u043e\u0440\u043e\u0435 \u043a\u043e\u043b\u0438\u0447\u0435\u0441\u0442\u0432\u043e"
     ]
    },
    {
     "cell_type": "code",
     "collapsed": false,
     "input": [
      "N=10\n",
      "if len(pics)>N:\n",
      "    pics=pics[:N]\n",
      "    \n",
      "pics"
     ],
     "language": "python",
     "metadata": {},
     "outputs": [
      {
       "output_type": "pyout",
       "prompt_number": 8,
       "text": [
        "['telno\\\\88632070182.png',\n",
        " 'telno\\\\89034024279.png',\n",
        " 'telno\\\\89034633800.png',\n",
        " 'telno\\\\89045006989.png',\n",
        " 'telno\\\\89183155210.png',\n",
        " 'telno\\\\89185069471.png',\n",
        " 'telno\\\\89185416570.png',\n",
        " 'telno\\\\89185545975.png',\n",
        " 'telno\\\\89281722722.png',\n",
        " 'telno\\\\89281844523.png']"
       ]
      }
     ],
     "prompt_number": 8
    },
    {
     "cell_type": "markdown",
     "metadata": {},
     "source": [
      "\u0412\u043e\u0441\u043f\u043e\u043b\u044c\u0437\u0443\u0435\u043c\u0441\u044f \u043a\u043e\u043c\u043f\u043e\u043d\u0435\u043d\u0442\u043e\u043c datasets \u0438\u0437 \u043c\u043e\u0434\u0443\u043b\u044f sklearn \u0438 \u0444\u0443\u043d\u043a\u0446\u0438\u0435\u0439 rezak \u0438\u0437 \u0434\u0440\u0443\u0433\u043e\u0433\u043e \u043f\u0440\u0438\u043c\u0435\u0440\u0430"
     ]
    },
    {
     "cell_type": "code",
     "collapsed": false,
     "input": [
      "from sklearn import datasets"
     ],
     "language": "python",
     "metadata": {},
     "outputs": [],
     "prompt_number": 9
    },
    {
     "cell_type": "code",
     "collapsed": false,
     "input": [
      "def rezak(I, width=8):\n",
      "    '''split to binary matrix 16x8\n",
      "        '''\n",
      "    #~ shape==(20, 124, 3)\n",
      "    if len(I.shape)>2:\n",
      "        I=1-I[-16:,:,0]\n",
      "    \n",
      "    if I.shape[0]>13:\n",
      "        I=I[-15:-2,:]\n",
      "        \n",
      "    end=I.shape[1]-1\n",
      "    \n",
      "        \n",
      "    #chop by vertical gap\n",
      "    bb=I[:6,:].sum(0)!=0\n",
      "    d= diff(array(bb>0.5, dtype=int))\n",
      "    iiab=find(d>0)\n",
      "    iiad=find(d<0)\n",
      "    #check?\n",
      "    assert(len(iiab)==len(iiad))\n",
      "    centra=1+iiab+(-iiab+iiad)/2 * ones([2,1], int)\n",
      "    lim=array([[-(width/2)],[-(width/2)+width]]).repeat(iiab.shape[0],1)\n",
      "    lim+=centra\n",
      "    if lim[0,0]<0:\n",
      "        n=-lim[0,0]\n",
      "        I=hstack([zeros((I.shape[0],n), int), I])\n",
      "        lim+=n\n",
      "    if lim[-1,-1]>end:\n",
      "        n=lim[-1,-1]-end\n",
      "        I=hstack([I, zeros((I.shape[0],n), int)])\n",
      "        \n",
      "    for i in range(lim.shape[1]):\n",
      "        iab,iad=lim[:,i]\n",
      "        \n",
      "        C=I[:,iab:iad]\n",
      "        yield C\n",
      "    \n",
      "\n"
     ],
     "language": "python",
     "metadata": {},
     "outputs": [],
     "prompt_number": 10
    },
    {
     "cell_type": "code",
     "collapsed": false,
     "input": [
      "#\u0437\u0430\u043a\u043e\u043d\u0447\u0435\u043d\u043d\u044b\u0439 \u0431\u043b\u043e\u043a \u043a\u043e\u0434\u0430 \u0443\u0434\u043e\u0431\u043d\u043e \u0441\u043a\u043e\u043c\u043f\u043e\u043d\u043e\u0432\u0430\u0442\u044c \u0432 \u0432\u0438\u0434\u0435 \u0444\u0443\u043d\u043a\u0446\u0438\u0438\n",
      "# \u0434\u043b\u044f \u044d\u0442\u043e\u0433\u043e \u043d\u0430\u0434\u043e \u0443\u043a\u0430\u0437\u0430\u0442\u044c \u0435\u0435 \u0438\u043c\u044f \u0438 \u0438\u043c\u0435\u043d\u0430 \u0430\u0440\u0433\u0443\u043c\u0435\u043d\u0442\u043e\u0432\n",
      "# \u0434\u043b\u044f \u0444\u043e\u0440\u043c\u0438\u0440\u043e\u0432\u0430\u043d\u0438\u044f \u043e\u0431\u0443\u0447\u0430\u044e\u0449\u0435\u0439 \u0432\u044b\u0431\u043e\u0440\u043a\u0438 \u043d\u0443\u0436\u0435\u043d \u043b\u0438\u0448\u044c \u0441\u043f\u0438\u0441\u043e\u043a \u0444\u0430\u0439\u043b\u043e\u0432, \u043f\u043e\u044d\u0442\u043e\u043c\u0443 \u0437\u0430\u0434\u0430\u0442\u044c \u0444\u0443\u043d\u043a\u0446\u0438\u044e \u043c\u043e\u0436\u043d\u043e \u0442\u0430\u043a:\n",
      "# def get_ls(pics):   # def - \u043e\u0442 \u0430\u043d\u0433\u043b. definition - \u043e\u043f\u0440\u0435\u0434\u0435\u043b\u0435\u043d\u0438\u0435\n",
      "# \u0447\u0442\u043e\u0431\u044b \u0444\u0443\u043d\u043a\u0446\u0438\u044f \u0432\u0435\u0440\u043d\u0443\u043b\u0430 \u043d\u0443\u0436\u043d\u044b\u0439 \u043d\u0430\u043c \u043c\u0430\u0441\u0441\u0438\u0432, \u0432 \u043a\u043e\u043d\u0446\u0435 \u043d\u0443\u0436\u043d\u043e \u0434\u043e\u0431\u0430\u0432\u0438\u0442\u044c return LS\n",
      "if True:  #\u0440\u0430\u0431\u043e\u0442\u0430\u0435\u0442 \u0432\u0441\u0435\u0433\u0434\u0430 (\u0434\u043b\u044f \u0443\u0434\u043e\u0431\u0441\u0442\u0432\u0430 \u043c\u0430\u043d\u0438\u043f\u0443\u043b\u044f\u0446\u0438\u0438 \u0441 \u043a\u043e\u0434\u043e\u043c)\n",
      "    #\u0437\u0430\u0432\u043e\u0434\u0438\u043c \u043f\u0443\u0441\u0442\u043e\u0439 \u043d\u0430\u0431\u043e\u0440 \u0434\u0430\u043d\u043d\u044b\u0445\n",
      "    LS=datasets.base.Bunch()\n",
      "    LS.images=[]  #\u043c\u0430\u0441\u0441\u0438\u0432 \u043a\u0430\u0440\u0442\u0438\u043d\u043e\u043a \u0434\u043b\u044f \u043e\u0431\u0443\u0447\u0435\u043d\u0438\u044f\n",
      "    LS.target=[]  #\u043c\u0430\u0441\u0441\u0438\u0432 \u0438\u0441\u0442\u0438\u043d\u043d\u044b\u0445 \u0437\u043d\u0430\u0447\u0435\u043d\u0438\u0439 - \u0446\u0435\u043b\u0435\u0439 (\u0430\u043d\u0433\u043b. target)\n",
      "        \n",
      "    for u in pics:  # \u0434\u043b\u044f \u043a\u0430\u0436\u0434\u043e\u0439 \u043a\u0430\u0440\u0442\u0438\u043d\u043a\u0438\n",
      "        sTel=os.path.splitext(os.path.basename(u))[0]  # \u043d\u043e\u043c\u0435\u0440 \u0442\u0435\u043a\u0441\u0442\u043e\u043c \u0438\u0437 \u0438\u043c\u0435\u043d\u0438 \u0444\u0430\u0439\u043b\u0430\n",
      "        TT=list(map(int, iter(sTel)))  # \u0440\u0430\u0437\u0431\u0438\u0432\u0430\u0435\u043c \u043d\u043e\u043c\u0435\u0440 \u043d\u0430 \u043e\u0442\u0434\u0435\u043b\u044c\u043d\u044b\u0435 \u0447\u0438\u0441\u043b\u0430\n",
      "        \n",
      "        CC=rezak(imread(u))  # \u0440\u0430\u0437\u0440\u0435\u0437\u0430\u0435\u043c \u043d\u0430 \u0446\u0438\u0444\u0440\u044b\n",
      "        CC=list(CC)\n",
      "        \n",
      "        if len(CC)!=len(TT):  #\u043f\u0440\u043e\u0432\u0435\u0440\u044f\u0435\u043c - \u043a\u043e\u043b\u0438\u0447\u0435\u0441\u0442\u0432\u043e \u0434\u043e\u043b\u0436\u043d\u043e \u0441\u043e\u0432\u043f\u0430\u0434\u0430\u0442\u044c\n",
      "            print('len(CC)!=len(TT) for {}'.format(u))\n",
      "            continue\n",
      "        \n",
      "        #\u0434\u043e\u0431\u0430\u0432\u043b\u044f\u0435\u043c \u043a \u043c\u0430\u0441\u0441\u0438\u0432\u0430\u043c \u043a\u0430\u0440\u0442\u0438\u043d\u043e\u043a \u0438 \u0446\u0435\u043b\u0435\u0439 \n",
      "        LS.images.extend(CC)\n",
      "        LS.target.extend(TT)\n",
      "     \n",
      "    n_samples = len(LS.images)\n",
      "\n",
      "    #~ n_features = LS.images[0].size\n",
      "    LS.data=dstack(LS.images).reshape((-1, n_samples)).T"
     ],
     "language": "python",
     "metadata": {},
     "outputs": [],
     "prompt_number": 11
    },
    {
     "cell_type": "code",
     "collapsed": false,
     "input": [
      "n_samples"
     ],
     "language": "python",
     "metadata": {},
     "outputs": [
      {
       "output_type": "pyout",
       "prompt_number": 12,
       "text": [
        "110"
       ]
      }
     ],
     "prompt_number": 12
    },
    {
     "cell_type": "code",
     "collapsed": false,
     "input": [
      "[nn,vv,hh]=hist(LS.target,range(11));\n",
      "nn"
     ],
     "language": "python",
     "metadata": {},
     "outputs": [
      {
       "output_type": "pyout",
       "prompt_number": 13,
       "text": [
        "array([13, 11, 12,  7,  9, 11,  5,  7, 21, 14])"
       ]
      },
      {
       "output_type": "display_data",
       "png": "[encoded data removed]"
      },
      {
       "output_type": "stream",
       "stream": "stderr",
       "text": [
        "C:\\a\\WinPython\\python-3.3.0\\lib\\site-packages\\IPython\\utils\\jsonutil.py:121: DeprecationWarning: encodestring() is a deprecated alias, use encodebytes()\n",
        "  encoded['image/png'] = encodestring(pngdata).decode('ascii')\n"
       ]
      }
     ],
     "prompt_number": 13
    }
   ],
   "metadata": {}
  }
 ]
}