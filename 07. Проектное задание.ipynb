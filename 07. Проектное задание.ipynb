{
 "cells": [
  {
   "cell_type": "markdown",
   "metadata": {},
   "source": [
    "## Проектное задание"
   ]
  },
  {
   "cell_type": "markdown",
   "metadata": {},
   "source": [
    "Проектное задание трудоемкое, требует творческого подхода и внимательности. В ходе выполнения Вам необходимо много раз сделать несложный, но самостоятельный выбор:\n",
    "\n",
    "-    какие условия выбрать для сценария тестирования;\n",
    "-    как назвать переменные (lyuboe_sochetanie_latinskih_bukv);\n",
    "-    какой из алгоритмов выбрать на каждом из этапов обработки данных;\n",
    "-    какой цвет выбрать для рисунка;\n",
    "-    влияние каких факторов анализировать (при оценке влияния одного фактора, градации всех остальных должны совпадать);\n",
    "-    методично и плодотворно подойти к работе или оставить все на последний вечер;\n",
    "-    самому вникать в подробности программирования или прийти на консультацию..."
   ]
  },
  {
   "cell_type": "code",
   "execution_count": null,
   "metadata": {
    "collapsed": true
   },
   "outputs": [],
   "source": []
  }
 ],
 "metadata": {
  "kernelspec": {
   "display_name": "Python 3",
   "language": "python",
   "name": "python3"
  },
  "language_info": {
   "codemirror_mode": {
    "name": "ipython",
    "version": 3
   },
   "file_extension": ".py",
   "mimetype": "text/x-python",
   "name": "python",
   "nbconvert_exporter": "python",
   "pygments_lexer": "ipython3",
   "version": "3.5.2"
  },
  "toc": {
   "base_numbering": 1,
   "nav_menu": {},
   "number_sections": false,
   "sideBar": true,
   "skip_h1_title": false,
   "title_cell": "Table of Contents",
   "title_sidebar": "Contents",
   "toc_cell": false,
   "toc_position": {},
   "toc_section_display": true,
   "toc_window_display": false
  }
 },
 "nbformat": 4,
 "nbformat_minor": 2
}
