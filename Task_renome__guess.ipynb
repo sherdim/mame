{
 "cells": [
  {
   "cell_type": "markdown",
   "metadata": {},
   "source": [
    "# Распознавание номера с помощью модели"
   ]
  },
  {
   "cell_type": "code",
   "execution_count": 1,
   "metadata": {
    "collapsed": false
   },
   "outputs": [],
   "source": [
    "import os\n",
    "import pickle"
   ]
  },
  {
   "cell_type": "markdown",
   "metadata": {},
   "source": [
    "Загрузим модель из файла. Если файла не существует - обучим ее?"
   ]
  },
  {
   "cell_type": "code",
   "execution_count": 2,
   "metadata": {
    "collapsed": false
   },
   "outputs": [
    {
     "name": "stdout",
     "output_type": "stream",
     "text": [
      "use model from telno1.mdl\n"
     ]
    }
   ],
   "source": [
    "UMODEL='telno1.mdl'\n",
    "\n",
    "if os.path.isfile(UMODEL):\n",
    "    MODEL=pickle.load(open(UMODEL, 'rb'))\n",
    "    print('...using model from {}'.format(UMODEL))\n",
    "else:\n",
    "    MODEL=None\n",
    "    print('model was not found!')\n",
    "        "
   ]
  },
  {
   "cell_type": "code",
   "execution_count": 3,
   "metadata": {
    "collapsed": false
   },
   "outputs": [
    {
     "data": {
      "text/plain": [
       "SVC(C=100.0, cache_size=200, class_weight=None, coef0=0.0, degree=3,\n",
       "  gamma=0.001, kernel='rbf', max_iter=-1, probability=False,\n",
       "  shrinking=True, tol=0.001, verbose=False)"
      ]
     },
     "execution_count": 3,
     "metadata": {},
     "output_type": "execute_result"
    }
   ],
   "source": [
    "MODEL"
   ]
  },
  {
   "cell_type": "markdown",
   "metadata": {},
   "source": [
    "Обученная нами модель умеет распозновать отдельные цифры размером 16х8 пикселей. Поэтому для распозования нового номера телефона мы должны повтороить процедура разрезания его на подходящие фрагменты. Для этого нам также потребуется функция rezak. "
   ]
  },
  {
   "cell_type": "code",
   "execution_count": 29,
   "metadata": {
    "collapsed": false
   },
   "outputs": [],
   "source": [
    "def rezak(I, width=8):\n",
    "    '''split to binary matrix 16x8\n",
    "        '''\n",
    "    #~ shape==(20, 124, 3)\n",
    "    if len(I.shape)>2:\n",
    "        I=1-I[4:,:,0]\n",
    "    \n",
    "    if I.shape[0]>13:\n",
    "        I=I[-15:-2,:]\n",
    "        \n",
    "    end=I.shape[1]-1\n",
    "    \n",
    "        \n",
    "    #chop by vertical gap\n",
    "    bb=I[:6,:].sum(0)!=0\n",
    "    d= diff(array(bb, dtype=int))\n",
    "    iiab=find(d>0)\n",
    "    iiad=find(d<0)\n",
    "    #check?\n",
    "    assert(len(iiab)==len(iiad))\n",
    "    centra=1+iiab+(-iiab+iiad)/2 * ones([2,1], int)\n",
    "    lim=array([[-(width/2)],[-(width/2)+width]]).repeat(iiab.shape[0],1)\n",
    "    lim+=centra\n",
    "    if lim[0,0]<0:\n",
    "        n=-lim[0,0]\n",
    "        I=hstack([zeros((I.shape[0],n), int), I])\n",
    "        lim+=n\n",
    "    if lim[-1,-1]>end:\n",
    "        n=lim[-1,-1]-end\n",
    "        I=hstack([I, zeros((I.shape[0],n), int)])\n",
    "        \n",
    "    for i in range(lim.shape[1]):\n",
    "        iab,iad=lim[:,i]\n",
    "        \n",
    "        C=I[:,iab:iad]\n",
    "        yield C\n",
    "    \n"
   ]
  },
  {
   "cell_type": "markdown",
   "metadata": {},
   "source": [
    "Откроем и разрежем на цифры картинку с каким-нибудь номером"
   ]
  },
  {
   "cell_type": "code",
   "execution_count": 25,
   "metadata": {
    "collapsed": false
   },
   "outputs": [
    {
     "data": {
      "text/plain": [
       "7"
      ]
     },
     "execution_count": 25,
     "metadata": {},
     "output_type": "execute_result"
    }
   ],
   "source": [
    "u=r'telno\\2695156.png'\n",
    "CC=rezak(imread(u))\n",
    "CC=list(CC)\n",
    "len(CC)\n"
   ]
  },
  {
   "cell_type": "markdown",
   "metadata": {},
   "source": [
    "Разрезание городского номера дало 7 образцов цифр. Посмотрим, сможет ли распознать их модель?"
   ]
  },
  {
   "cell_type": "code",
   "execution_count": 10,
   "metadata": {
    "collapsed": false
   },
   "outputs": [
    {
     "data": {
      "text/plain": [
       "'2695156'"
      ]
     },
     "execution_count": 10,
     "metadata": {},
     "output_type": "execute_result"
    }
   ],
   "source": [
    "sTel='' # заготовим пустую строку для угаданного номера\n",
    "\n",
    "for C in CC: # пройдемся в цикле по всем образцам\n",
    "    #подготовим данные также, как мы делали при создании обучающей выборки\n",
    "    data=C.reshape((1, -1))\n",
    "    # let's predict (англ. предсказание) - ТРАХ-те-бе-дох!\n",
    "    s=MODEL.predict(data)\n",
    "    \n",
    "    s=int(s) # привидем в числовой вид\n",
    "    sTel+=str(s)  #добавим в конец строки\n",
    "\n",
    "sTel"
   ]
  },
  {
   "cell_type": "markdown",
   "metadata": {},
   "source": [
    "Первая из цифр-картинок выглядела так:"
   ]
  },
  {
   "cell_type": "code",
   "execution_count": 26,
   "metadata": {
    "collapsed": false
   },
   "outputs": [
    {
     "data": {
      "text/plain": [
       "(-0.5, 7.5, 12.5, -0.5)"
      ]
     },
     "execution_count": 26,
     "metadata": {},
     "output_type": "execute_result"
    },
    {
     "data": {
      "image/png": "[encoded data removed]"
     },
     "metadata": {},
     "output_type": "display_data"
    },
    {
     "name": "stderr",
     "output_type": "stream",
     "text": [
      "C:\\a\\WinPython\\python-3.3.0.amd64\\lib\\site-packages\\IPython\\utils\\jsonutil.py:121: DeprecationWarning: encodestring() is a deprecated alias, use encodebytes()\n",
      "  encoded['image/png'] = encodestring(pngdata).decode('ascii')\n"
     ]
    }
   ],
   "source": [
    "imshow(CC[0], cmap='bone', interpolation='none'); axis('off')"
   ]
  },
  {
   "cell_type": "markdown",
   "metadata": {},
   "source": [
    "Последняя - так:"
   ]
  },
  {
   "cell_type": "code",
   "execution_count": 15,
   "metadata": {
    "collapsed": false
   },
   "outputs": [
    {
     "data": {
      "text/plain": [
       "(-0.5, 7.5, 12.5, -0.5)"
      ]
     },
     "execution_count": 15,
     "metadata": {},
     "output_type": "execute_result"
    },
    {
     "data": {
      "image/png": "[encoded data removed]"
     },
     "metadata": {},
     "output_type": "display_data"
    },
    {
     "name": "stderr",
     "output_type": "stream",
     "text": [
      "C:\\a\\WinPython\\python-3.3.0.amd64\\lib\\site-packages\\IPython\\utils\\jsonutil.py:121: DeprecationWarning: encodestring() is a deprecated alias, use encodebytes()\n",
      "  encoded['image/png'] = encodestring(pngdata).decode('ascii')\n"
     ]
    }
   ],
   "source": [
    "imshow(CC[-1], cmap='bone', interpolation='none'); axis('off')"
   ]
  },
  {
   "cell_type": "markdown",
   "metadata": {},
   "source": [
    "Вам легко определить цифры на картинках, потому что вы учили их в детстве. Но теперь компьютер сам научился различать эти цифры! Такой подход к решению задач, в котором машины сами обучаются давать правильные ответы, называется \"машинным обучением\" - [machine learning](http://ru.wikipedia.org/wiki/%D0%9C%D0%B0%D1%88%D0%B8%D0%BD%D0%BD%D0%BE%D0%B5_%D0%BE%D0%B1%D1%83%D1%87%D0%B5%D0%BD%D0%B8%D0%B5)."
   ]
  },
  {
   "cell_type": "markdown",
   "metadata": {},
   "source": [
    "### Апробация модели на картинках с другим шрифтом"
   ]
  },
  {
   "cell_type": "markdown",
   "metadata": {},
   "source": [
    "Загрузим картинку с номером телефона с другого сайта - цифры в данном случае написаны тонким шрифтом."
   ]
  },
  {
   "cell_type": "code",
   "execution_count": 30,
   "metadata": {
    "collapsed": false
   },
   "outputs": [
    {
     "data": {
      "text/plain": [
       "11"
      ]
     },
     "execution_count": 30,
     "metadata": {},
     "output_type": "execute_result"
    }
   ],
   "source": [
    "u=r'telno\\avito89034706554.png'\n",
    "CC=rezak(imread(u))\n",
    "CC=list(CC)\n",
    "len(CC)\n"
   ]
  },
  {
   "cell_type": "markdown",
   "metadata": {},
   "source": [
    "Цифра 6 из этого номера выглядит так:  (если приглядеться, то она не только стройнее, но и \"выше\" на один пиксель, чем жирненькая на предыдущей картинке)"
   ]
  },
  {
   "cell_type": "code",
   "execution_count": 34,
   "metadata": {
    "collapsed": false
   },
   "outputs": [
    {
     "data": {
      "text/plain": [
       "(-0.5, 7.5, 12.5, -0.5)"
      ]
     },
     "execution_count": 34,
     "metadata": {},
     "output_type": "execute_result"
    },
    {
     "data": {
      "image/png": "[encoded data removed]"
     },
     "metadata": {},
     "output_type": "display_data"
    },
    {
     "name": "stderr",
     "output_type": "stream",
     "text": [
      "C:\\a\\WinPython\\python-3.3.0.amd64\\lib\\site-packages\\IPython\\utils\\jsonutil.py:121: DeprecationWarning: encodestring() is a deprecated alias, use encodebytes()\n",
      "  encoded['image/png'] = encodestring(pngdata).decode('ascii')\n"
     ]
    }
   ],
   "source": [
    "imshow(CC[-4], cmap='bone', interpolation='none'); axis('off')"
   ]
  },
  {
   "cell_type": "markdown",
   "metadata": {},
   "source": [
    "Распознаем номер..."
   ]
  },
  {
   "cell_type": "code",
   "execution_count": 32,
   "metadata": {
    "collapsed": false
   },
   "outputs": [
    {
     "data": {
      "text/plain": [
       "'39034706334'"
      ]
     },
     "execution_count": 32,
     "metadata": {},
     "output_type": "execute_result"
    }
   ],
   "source": [
    "sTel=''\n",
    "for C in CC:\n",
    "    s=MODEL.predict(C.reshape((1, -1)))\n",
    "    sTel+=str(int(s))\n",
    "\n",
    "sTel"
   ]
  },
  {
   "cell_type": "code",
   "execution_count": 33,
   "metadata": {
    "collapsed": false
   },
   "outputs": [
    {
     "data": {
      "text/plain": [
       "'telno\\\\avito89034706554.png'"
      ]
     },
     "execution_count": 33,
     "metadata": {},
     "output_type": "execute_result"
    }
   ],
   "source": [
    "u"
   ]
  },
  {
   "cell_type": "markdown",
   "metadata": {},
   "source": [
    "Видно, что часть цифр модель распознала неправильно, в частности 8 как 3, 5 как 3. Однако остальные цифры несмотря на разницу в написании распознаны правильно!"
   ]
  },
  {
   "cell_type": "markdown",
   "metadata": {},
   "source": [
    "### О полноте обучающей выборки"
   ]
  },
  {
   "cell_type": "markdown",
   "metadata": {},
   "source": [
    "Чтобы модель работала без ошибок, нужно обучить ее на выборке, включающей по возможности все варианты образцов, которые ей предстоит распознавать.\n",
    "\n",
    "Параметры модели можно подстроить таким образом, чтобы она была более терпима к отклонениям в написании. Однако, при этом потенциально может возникнуть больше ошибок.\n",
    "\n",
    "Если у вас бывает только два написания цифр и вы заранее знаете, где какой, то надежнее и эффективнее обучить две модели на соответствующих выборках для распознавания одного и другого написания. С другой стороны, смешав обучающие выборки, можно обучить модель на распознавание цифр вообще, независимо от написания. При этом надо уделить внимание центрированию изображений, приведению их к одинаковому размеру и прочим мерам стандартизации."
   ]
  }
 ],
 "metadata": {
  "kernelspec": {
   "display_name": "Python 2",
   "language": "python",
   "name": "python2"
  },
  "language_info": {
   "codemirror_mode": {
    "name": "ipython",
    "version": 2
   },
   "file_extension": ".py",
   "mimetype": "text/x-python",
   "name": "python",
   "nbconvert_exporter": "python",
   "pygments_lexer": "ipython2",
   "version": "2.7.9"
  }
 },
 "nbformat": 4,
 "nbformat_minor": 0
}
