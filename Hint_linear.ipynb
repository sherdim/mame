{
 "cells": [
  {
   "cell_type": "markdown",
   "id": "2c41d93b-bd1a-49e3-ac81-ce8548e37574",
   "metadata": {},
   "source": [
    "# Лист для самопроверки перед сдачей работ по линейным моделям"
   ]
  },
  {
   "cell_type": "markdown",
   "id": "bbc5da3e-3101-46a3-9afa-6eb305385549",
   "metadata": {},
   "source": [
    "Предположим, что Вы выполняете работы \"Сравнение выборок\" и \"Сравнение регрессионных моделей\" на основании данных, полученных в приложении \"Баланс внимания\" (именно на основании этих данных приводятся примеры кода для демонстрации приемов обработки данных). \n",
    "Пояснения к пунктам самопроверки подразумевают, что Вы освоили все материалы с образцами кода и выбрали самый экономный по усилиям вариант (использование высокоуровневых библиотек, для таблиц - pandas, рисунков - seaborn, стат.анализа - statsmodels)."
   ]
  },
  {
   "cell_type": "markdown",
   "id": "f0af3345-5d25-4770-9c93-5d7290b4c9a2",
   "metadata": {},
   "source": [
    "За что снимаются баллы от исходных 10:\n",
    "\n",
    "- -2 использованы чужие данные\n",
    "- -3 использованы чужие формулировки комментариев и выводов\n",
    "- -1 за каждую логическую ошибку (несоответствие заявленной и выполненной операции, неправильный вывод)\n",
    "- -5 отчет без обработки (Например, отчет в формате DOCX со скриншотами из приложения и статистическим анализом во внешнем приложении (сайте или Excel), при этом всё грамотно и с описанием выполненных шагов.)\n",
    "- -3 не выполнена задача работы (не выполнено само сравнение с правильным выводом), притом что обоснованы причины неудачи.\n",
    "\n",
    "За что начисляются бонусные баллы:\n",
    "- +1 - данные из из собственного научного проекта.\n",
    "- +1 - выполнены расширенные этапы анализа (проверка нормальности, подбор и [сравнение параметров нестандартных распределений](https://sherdim.github.io/mame/i_retivo.html))"
   ]
  },
  {
   "cell_type": "markdown",
   "id": "463a815b-8f33-4474-af23-9c6f68a019e2",
   "metadata": {},
   "source": [
    "Эти две работы основаны на одном наборе данных, поэтому начинаются сходным образом. Однако, дальнейшие этапы обработки отличаются, и выводы должны отвечать на главный вопрос, содержащийся в названии."
   ]
  },
  {
   "cell_type": "markdown",
   "id": "a20c4c99-9397-472e-81e8-a26abdef8a5c",
   "metadata": {},
   "source": [
    "## 1. Задана логическая структура блокнота\n",
    "\n",
    "Обычно блокнот начинают с заголовка первого уровня (один знак # в начале ячейки Markdown). Из заголовка должно быть понятно какая работа выполнялась.\n",
    "Также созданы подзаголовки второго уровня по пунктам [требований к работе](https://sherdim.github.io/mame/w_granada.html#id3). Например, Указание на источник, Визуализация, Статистические расчеты."
   ]
  },
  {
   "cell_type": "markdown",
   "id": "849a7ab4-61e2-46a8-84f4-7165ac58dd35",
   "metadata": {},
   "source": [
    "## 2. Проведен импорт библиотек\n",
    "\n",
    "Если мы рассмотриваем вариант работы с высокоуровневыми библиотеками, то образец кода можно взять в Task_balatte_condition. Для порядка все импорты библиотек собирают в начале блокнота."
   ]
  },
  {
   "cell_type": "code",
   "execution_count": 1,
   "id": "137f0c62-1baf-492f-9fb1-b0f3227a885a",
   "metadata": {},
   "outputs": [
    {
     "name": "stdout",
     "output_type": "stream",
     "text": [
      "Populating the interactive namespace from numpy and matplotlib\n"
     ]
    }
   ],
   "source": [
    "%pylab inline\n",
    "import pandas as pd\n",
    "import seaborn as sns\n",
    "from scipy import stats"
   ]
  },
  {
   "attachments": {
    "4e918f72-54da-4c2d-b558-226eb70755d1.png": {
     "image/png": "[encoded data removed]"
    }
   },
   "cell_type": "markdown",
   "id": "74220146-8d52-4678-b3a1-5c6d4379f0f4",
   "metadata": {},
   "source": [
    "## 3. Описан источник данных\n",
    "\n",
    "Дано понятное описание источника данных, приведена ссылка. Если данные нестандартные (чужие, несколько источников и т.д.), то приведено обоснование.\n",
    "\n",
    "Сама загрузка данных сопровождается выводом с проверкой содержания загруженного массива. Можно пояснить в каких переменных какие данные содержатся по итогу загрузки.\n",
    "\n",
    "Пример загрузки в одну строчку - в [Task_balatte](Task_balatte.ipynb)\n",
    "Прямую ссылку на данные в формате TSV можно получить скопировав ссылку на иконке со значком Excel ![изображение.png](attachment:4e918f72-54da-4c2d-b558-226eb70755d1.png). Для вызова контекстного меню нажмите [Shift-Правая кнопка мыши] и выберите \"Копировать ссылку\".\n",
    "Сама ссылка отличается от адреса страницы лишь добавлением \".tsv\" после слова \"result\"\n",
    "\n",
    "    Адрес страницы: http://balatte.stireac.com/result/emiliyamukina%40yandex.ru/UP6__4145445840150916\n",
    "    Ссылка на TSV:  http://balatte.stireac.com/result.tsv/emiliyamukina%40yandex.ru/UP6__4145445840150916 \n",
    "\n",
    "Если pandas импортирована как pd, то для вызова методов загрузки данных надо использовать эту переменную.\n",
    "\n",
    "Поскольку мы уже знаем, что данные - это время стимула и время реакции, то для оценки объема выборки можем отложить все значения в двух координатах. (код берем из  Task_balatte, можем выбросить линию тренда)"
   ]
  },
  {
   "cell_type": "markdown",
   "id": "a8056dbc-b848-40f1-83f2-67b82af9ba5a",
   "metadata": {},
   "source": [
    "Если вставляете рисунок - прокомментируйте количество и расположение точек. Если не хотите комментировать - не вставляйте рисунок (удалите код построение рисунка)."
   ]
  },
  {
   "cell_type": "code",
   "execution_count": null,
   "id": "1d0f8eb4-54e7-4b09-95e2-af601ddf7ffe",
   "metadata": {},
   "outputs": [],
   "source": [
    "#код загрузки данных\n",
    "D = pd.read_table('http://balatte.stireac.com/result.tsv/...')\n",
    "\n",
    "#код построение рисунка\n",
    "figsize(15,5);\n",
    "plot(D.t, D.v, 'go')\n",
    "grid()\n",
    "xlabel('...')  # задайте подписи\n",
    "ylabel('ВР, с')\n",
    "title('Исходные данные');"
   ]
  },
  {
   "cell_type": "markdown",
   "id": "737806a7-51f8-44cc-9cea-1219bf062109",
   "metadata": {},
   "source": [
    "## 4. Обосновано разделение выборки на группы\n",
    "В Task_dataset_rt подробно описана работа с индексами (позициями в массиве, которые обозначают границы между группами в ряду значений).\n",
    "\n",
    "Однако, если вы знаете состав данных (например, что всего 48 значений - и половина из них зрительные реакции, а оставшихся - слуховые), то можете непосредственно задать индекс (индекс считают от 0). Такой пример есть в [Task_dataset_rt](Task_dataset_rt.ipynb)."
   ]
  },
  {
   "cell_type": "code",
   "execution_count": null,
   "id": "2b8d3c97-346e-4085-a2bf-c5dcaf733b60",
   "metadata": {},
   "outputs": [],
   "source": [
    "D['isi']=D.t.diff() \n",
    "\n",
    "iA=(D.isi.diff()>5).argmax()  #сохраняем позицию, где условие истинно.\n",
    "iA\n",
    "\n",
    "# создадим колонку с одним значением v - visual\n",
    "D['mod']='v'\n",
    "# значение после найденого индекса заменим на 'a' - audial\n",
    "D.loc[iA:, 'mod'] = 'a'\n",
    "D.tail()"
   ]
  },
  {
   "cell_type": "markdown",
   "id": "ea659136-ea2c-4846-bf65-fc2cc2e6c45a",
   "metadata": {},
   "source": [
    "## 5. Приведен рисунок эмпирического сравнения распределений\n",
    "\n",
    "В колонке mod теперь есть признак модальности. Можно сравнить две подвыборки реакций - на стимулы разных модальностей. Перед расчетом статистики полезно визуализировать распределения значений в подвыборках.\n",
    "\n",
    "> попробуйте разные форматы и оставьте наиболее понравившийся. Как задать свои цвета см. [Task_balatte_condition](Task_balatte_condition.ipynb)\n",
    "\n",
    "    kind='violin'\n",
    "    kind='boxen'\n",
    "    kind='strip'\n",
    "    \n",
    "После рисунка сделан вывод о наличии различий \"на глаз\"."
   ]
  },
  {
   "cell_type": "code",
   "execution_count": null,
   "id": "1fbb8ac6-5944-410a-bee8-1ac739d901b1",
   "metadata": {},
   "outputs": [],
   "source": [
    "sns.catplot(x='mod', y='v', data=D, kind='box');"
   ]
  },
  {
   "cell_type": "markdown",
   "id": "44f0fd59-5792-4f7d-a541-c892319b28e0",
   "metadata": {},
   "source": [
    "## 5b. Приведен рисунок эмпирического сравнения линий тренда\n",
    "\n",
    "В колонке isi теперь есть значение межстимульного интервала (МСИ). Можно построить и сравнить два тренда зависимости ВР от МСИ.\n",
    "\n",
    "Скатерограммы с наложенными линиями мы строили при изучении правила Ренча.\n",
    "\n",
    "> Попробуйте поменять шкалу МСИ на логарифмическую (logx=False на logx=True). В каком случае линия тренда ближе к эмпирическим значениям?\n",
    "\n",
    "> Подробнее о построении линейной модели см. [Task_modeline_trend](Task_modeline_trend.ipynb).\n",
    "\n",
    "После рисунка сделан вывод о наличии различий \"на глаз\"."
   ]
  },
  {
   "cell_type": "code",
   "execution_count": null,
   "id": "3f3a5902-9df2-44f9-b7ea-5da2f69cda19",
   "metadata": {},
   "outputs": [],
   "source": [
    "sns.lmplot(x='isi', y='v', data=D, hue='mod', logx=False);"
   ]
  },
  {
   "cell_type": "markdown",
   "id": "4b816f4f-5553-44b9-833d-e869d74b5a6c",
   "metadata": {},
   "source": [
    "## 6. Посчитан статистический критерий различий между группами\n",
    "\n",
    "Простейший случай - сравнение средних двух выборок на основании анализа вариаций. Вариационный анализ для двух выборок также известен как тест Стьюдента.\n",
    "Варианты выполнения в блокноте [Task_balatte_condition](Task_balatte_condition.ipynb).\n",
    "\n",
    "Сделана оценка значимости различий по критерию - p < 0.05."
   ]
  },
  {
   "cell_type": "code",
   "execution_count": null,
   "id": "9760fe31-e9b5-4234-9a11-3c3b6d381e98",
   "metadata": {},
   "outputs": [],
   "source": [
    "g = D.groupby(['mod'])\n",
    "g['v'].count()"
   ]
  },
  {
   "cell_type": "code",
   "execution_count": null,
   "id": "6550ae4d-dea1-4941-a0f8-92cf0e823e77",
   "metadata": {},
   "outputs": [],
   "source": [
    "M=g.v.mean()\n",
    "S=g.v.std()\n",
    "N=g.v.count()\n",
    "\n",
    "p = stats.ttest_ind_from_stats(M[0],S[0],N[0], M[1],S[1],N[1]).pvalue\n",
    "p"
   ]
  },
  {
   "cell_type": "markdown",
   "id": "9baae89d-17c8-4cd2-9fbc-9f8dd3f976f6",
   "metadata": {},
   "source": [
    "## 6b. Посчитан показатель R2\n",
    "\n",
    "Формулы приведены в [информации к практической работе](https://sherdim.github.io/mame/w_modeline.html#id4).\n",
    "\n",
    "> Расскомментируйте код и убедитесь, что обе формулы дают одинаковый результат.\n",
    "\n",
    "> Также можете сравнить качество детерминации линейной модели для МСИ и для логарифма МСИ (заменить поле D1.isi вместо D1.log2isi)\n",
    "\n",
    "Сделан вывод по сравнению коэффициентов детерминации для разных модальностей. (Чем ближе значение коэффициента к 1, тем сильнее выражена зависимость.)"
   ]
  },
  {
   "cell_type": "code",
   "execution_count": null,
   "id": "0be22100-cff7-4f81-901a-7aae1f2a6282",
   "metadata": {},
   "outputs": [],
   "source": [
    "D['log2isi'] = log2(D.isi)\n",
    "\n",
    "for mod in ['v','a']:\n",
    "    D1 = g.get_group(mod).dropna()\n",
    "    vv = D1.v\n",
    "    xx = D1.log2isi\n",
    "    p = polyfit(xx, vv, 1)\n",
    "    yy = polyval(p, xx)\n",
    "    R2 = 1 - (var(yy-vv)/var(vv))\n",
    "    print(f'{mod}: R2={R2:.5f}')\n",
    "#     R2 = corrcoef(D1.log2isi, D1.v)[0,1]**2\n",
    "#     print(f'{mod}: R2={R2:.5f}')"
   ]
  },
  {
   "cell_type": "markdown",
   "id": "0494f451-3446-4f7e-8583-3055c7dc4ee1",
   "metadata": {},
   "source": [
    "## 7. Сделан вывод в соответствии с рекомендациями\n",
    "\n",
    "Отделите вывод подзаголовком, например кодом Markdown:\n",
    "\n",
    "```markdown\n",
    "## Вывод\n",
    "```\n",
    "\n",
    "Рекомендации по выводам на страницах заданий [w_granada](https://sherdim.github.io/mame/w_granada.html) и [w_modeline](https://sherdim.github.io/mame/w_modeline.html)."
   ]
  },
  {
   "cell_type": "markdown",
   "id": "4d21d616-d5e0-48d7-90b2-5ae4fe499674",
   "metadata": {},
   "source": [
    "## 8. Удалено всё лишнее\n",
    "\n",
    "Перед сдачей прочитайте еще раз: исправьте ошибки, уберите инструкции, уберите временные ячейки с просмотром переменных и пр.\n",
    "Отчет должен быть аккуратным, логичным."
   ]
  },
  {
   "attachments": {
    "75067105-30f0-46fa-b78d-fa0fa8063253.png": {
     "image/png": "[encoded data removed]"
    }
   },
   "cell_type": "markdown",
   "id": "e96b9735-3f3b-4dcd-9958-488fecb1ee26",
   "metadata": {},
   "source": [
    "## 9. Файл сохранен\n",
    "\n",
    "Загрузите файл кнопкой ![изображение.png](attachment:75067105-30f0-46fa-b78d-fa0fa8063253.png) - он сохранится в Загрузки.\n",
    "Оттуда можно загрузить его в Личные файлы на СКИФ и, если готов к сдаче - в качестве ответа на задание."
   ]
  }
 ],
 "metadata": {
  "kernelspec": {
   "display_name": "Python 3",
   "language": "python",
   "name": "python3"
  },
  "language_info": {
   "codemirror_mode": {
    "name": "ipython",
    "version": 3
   },
   "file_extension": ".py",
   "mimetype": "text/x-python",
   "name": "python",
   "nbconvert_exporter": "python",
   "pygments_lexer": "ipython3",
   "version": "3.9.0rc1"
  }
 },
 "nbformat": 4,
 "nbformat_minor": 5
}
