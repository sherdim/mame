{
 "cells": [
  {
   "cell_type": "markdown",
   "metadata": {},
   "source": [
    "## Где живут триониксы?\n",
    "\n",
    "Отберем группу географических названий. Например, места обмера разных триониксов из набора данных о черепахах."
   ]
  },
  {
   "cell_type": "code",
   "execution_count": null,
   "metadata": {},
   "outputs": [],
   "source": [
    "import pandas as pd\n",
    "D = pd.read_excel('Data_S1_Complete_Dataset.xlsx', skiprows=5)"
   ]
  },
  {
   "cell_type": "code",
   "execution_count": null,
   "metadata": {},
   "outputs": [],
   "source": [
    "lolo=D[D.Family=='Trionychidae'].Locality   #Cheloniidae\n",
    "lolo"
   ]
  },
  {
   "cell_type": "code",
   "execution_count": null,
   "metadata": {},
   "outputs": [],
   "source": [
    "lolo=lolo[lolo.notnull()].unique()\n",
    "lolo"
   ]
  },
  {
   "cell_type": "markdown",
   "metadata": {},
   "source": [
    "[Создаем свою карту](https://www.arcgis.com/home/webmap/viewer.html?), размещая на ней отметки найденных мест. Полученную карту можно вставить в виде фрейма."
   ]
  },
  {
   "cell_type": "code",
   "execution_count": null,
   "metadata": {},
   "outputs": [],
   "source": [
    "from IPython.display import IFrame\n",
    "u = 'http://www.arcgis.com/home/webmap/viewer.html?webmap=57aa179ea17843b1bc800d68fccb43f1'\n",
    "IFrame(u, width='100%', height=500)"
   ]
  },
  {
   "cell_type": "markdown",
   "metadata": {},
   "source": [
    "Измерим дистанцию Measure \\ Distance с точностью до км. Чтобы начать новое измерение выберите другой тип измерений, а затем снова дистанцию. Первый клик - начало измерения, второй клик - окончание.\n"
   ]
  },
  {
   "cell_type": "code",
   "execution_count": null,
   "metadata": {},
   "outputs": [],
   "source": [
    "L = pd.DataFrame([], index=lolo, columns=lolo)\n",
    "for i in range(len(lolo)):  L.iloc[i,i] = 0\n",
    "L.loc['Thailand','Bangladesh'] = 1480\n",
    "L.loc['Palm Beach County, Florida','Bangladesh'] = 14284\n",
    "L"
   ]
  },
  {
   "cell_type": "markdown",
   "metadata": {},
   "source": [
    "Конечно вставку точек или областей можно автоматизировать. Об этом см. в дополнительных материалах."
   ]
  },
  {
   "cell_type": "markdown",
   "metadata": {},
   "source": [
    "### +++\n",
    "https://developers.arcgis.com/javascript/3/jssamples/map_dynamic.html\n",
    "\n",
    "Есть специальное [API для Python](https://github.com/Esri/ArcREST)\n",
    "\n",
    "https://developers.arcgis.com/python/guide/using-the-jupyter-notebook-environment/\n",
    "\n",
    "\n",
    "https://geonet.esri.com/groups/spatial-data-science/blog/2016/02/22/webmaps-in-jupyter-notebooks\n"
   ]
  }
 ],
 "metadata": {
  "kernelspec": {
   "display_name": "Python 3",
   "language": "python",
   "name": "python3"
  },
  "language_info": {
   "codemirror_mode": {
    "name": "ipython",
    "version": 3
   },
   "file_extension": ".py",
   "mimetype": "text/x-python",
   "name": "python",
   "nbconvert_exporter": "python",
   "pygments_lexer": "ipython3",
   "version": "3.7.1"
  },
  "toc": {
   "base_numbering": 1,
   "nav_menu": {
    "height": "12px",
    "width": "252px"
   },
   "number_sections": false,
   "sideBar": true,
   "skip_h1_title": false,
   "title_cell": "Table of Contents",
   "title_sidebar": "Contents",
   "toc_cell": false,
   "toc_position": {},
   "toc_section_display": "block",
   "toc_window_display": false
  }
 },
 "nbformat": 4,
 "nbformat_minor": 1
}
