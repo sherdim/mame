{
 "cells": [
  {
   "cell_type": "markdown",
   "metadata": {},
   "source": [
    "## Импорт данных с веб-странички"
   ]
  },
  {
   "cell_type": "markdown",
   "metadata": {},
   "source": [
    "Загрузка HTML-кода веб-странички с данными"
   ]
  },
  {
   "cell_type": "code",
   "execution_count": 1,
   "metadata": {
    "collapsed": false
   },
   "outputs": [
    {
     "name": "stdout",
     "output_type": "stream",
     "text": [
      "Populating the interactive namespace from numpy and matplotlib\n"
     ]
    }
   ],
   "source": [
    "%pylab inline"
   ]
  },
  {
   "cell_type": "code",
   "execution_count": 2,
   "metadata": {
    "collapsed": false
   },
   "outputs": [
    {
     "name": "stdout",
     "output_type": "stream",
     "text": [
      "Got 13075 bytes!\n"
     ]
    }
   ],
   "source": [
    "import urllib\n",
    "u='http://balatte.stireac.com/balatte/result/ntkharchenko%40mail.ru/up9.valeo.sfedu.ru__20111212T135308671'\n",
    "s=urllib.request.urlopen(u).read()\n",
    "print ('Got {} bytes!'.format(len(s)))"
   ]
  },
  {
   "cell_type": "code",
   "execution_count": 3,
   "metadata": {
    "collapsed": false
   },
   "outputs": [
    {
     "data": {
      "text/plain": [
       "(45, 2)"
      ]
     },
     "execution_count": 3,
     "metadata": {},
     "output_type": "execute_result"
    }
   ],
   "source": [
    "import re\n",
    "s=str(s) #преобразуем скачанные байты в строку\n",
    "m=re.search(r'lps=(\\[\\[.+?\\]\\])',s)\n",
    "lps=array(eval(m.group(1)))\n",
    "lps.shape"
   ]
  },
  {
   "cell_type": "markdown",
   "metadata": {},
   "source": [
    "Функция eval воспринимает передаваемый ей текст как команды. Безошибочность данной операции обеспечивается за счет сходства синтаксиса построения массивов в языках Python и JavaScript. Текст, извлеченный из JavaScript-кода веб-странички можно увидеть ниже. Текст представляет собой описание массива, состоящего из множество маленьких массивчиков, в каждом из которых по два значения."
   ]
  },
  {
   "cell_type": "code",
   "execution_count": 4,
   "metadata": {
    "collapsed": false
   },
   "outputs": [
    {
     "data": {
      "text/plain": [
       "'[[9.585,0.429], [16.368,0.335], [23.729,0.357], [30.930,0.373], [40.303,0.439], [46.804,0.402], [55.448,0.382], [62.401,0.325], [68.910,0.400], [73.463,0.303], [77.697,0.349], [86.385,0.285], [90.470,0.288], [95.114,0.308], [99.548,0.282], [104.056,0.382], [105.844,0.338], [107.955,0.307], [109.636,0.514], [111.487,0.287], [113.394,0.316], [115.732,0.290], [117.612,0.434], [143.557,0.622], [151.932,0.402], [160.933,0.393], [168.975,0.471], [177.819,0.411], [184.975,0.431], [191.480,0.519], [195.884,0.370], [199.594,0.412], [203.637,0.385], [207.373,0.513], [211.929,0.389], [216.615,0.439], [219.947,0.443], [224.455,0.698], [226.741,0.473], [228.837,0.377], [230.642,0.372], [232.313,0.357], [234.108,0.378], [235.799,0.391], [238.050,0.396]]'"
      ]
     },
     "execution_count": 4,
     "metadata": {},
     "output_type": "execute_result"
    }
   ],
   "source": [
    "m.group(1)"
   ]
  }
 ],
 "metadata": {
  "kernelspec": {
   "display_name": "Python 3",
   "language": "python",
   "name": "python3"
  },
  "language_info": {
   "codemirror_mode": {
    "name": "ipython",
    "version": 3
   },
   "file_extension": ".py",
   "mimetype": "text/x-python",
   "name": "python",
   "nbconvert_exporter": "python",
   "pygments_lexer": "ipython3",
   "version": "3.5.2"
  }
 },
 "nbformat": 4,
 "nbformat_minor": 0
}
