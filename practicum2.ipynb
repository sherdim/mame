{
 "cells": [
  {
   "cell_type": "markdown",
   "metadata": {},
   "source": [
    "# Анализ стохастических процессов"
   ]
  },
  {
   "cell_type": "markdown",
   "metadata": {},
   "source": [
    "### Практикум\n",
    "\n",
    "Для самостоятельного освоения языка проработайте следующие блокноты: \n",
    "\n",
    "- [Загрузка данных из текстового файла](Task_load_importtext.ipynb)\n",
    "- [Загрузка данных с веб-страницы](Task_load_webpage.ipynb)\n",
    "\n",
    "- [Построение гистограммы распределения](Task_vis_hist.ipynb)\n",
    "\n",
    "\n",
    "- [Работа с набором данных](Task_dataset_rt.ipynb)\n",
    "- [Аккуратная загрузка текстовых данных](Task_load_partly.ipynb) + data.txt\n",
    "\n",
    "\n",
    "\n",
    "- [Генерация выборки с нормальным распределением](Task_algo_generatio.ipynb)\n",
    "- [Воспроизводимая генерация случайных чисел](Task_algo_reproduce.ipynb)\n",
    "\n",
    "Однако распределение значений времени реакций несимметричное более точно описывается с помощью других распределений. Рекомендуемый способ получить коэффициенты таких распределений: экспортировать подвыборки ваших данных в текстовые файлы и подобрать модели с помощью интерактивного онлайн-приложения https://sherdim.shinyapps.io/retivo/"
   ]
  }
 ],
 "metadata": {
  "kernelspec": {
   "display_name": "Python 3",
   "language": "python",
   "name": "python3"
  },
  "language_info": {
   "codemirror_mode": {
    "name": "ipython",
    "version": 3
   },
   "file_extension": ".py",
   "mimetype": "text/x-python",
   "name": "python",
   "nbconvert_exporter": "python",
   "pygments_lexer": "ipython3",
   "version": "3.5.2"
  },
  "toc": {
   "base_numbering": 1,
   "nav_menu": {
    "height": "345px",
    "width": "252px"
   },
   "number_sections": false,
   "sideBar": false,
   "skip_h1_title": false,
   "title_cell": "Table of Contents",
   "title_sidebar": "Contents",
   "toc_cell": false,
   "toc_position": {
    "height": "599px",
    "left": "1px",
    "right": "800px",
    "top": "107px",
    "width": "190px"
   },
   "toc_section_display": false,
   "toc_window_display": false
  }
 },
 "nbformat": 4,
 "nbformat_minor": 1
}
