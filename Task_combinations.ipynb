{
 "cells": [
  {
   "cell_type": "markdown",
   "metadata": {},
   "source": [
    "# Оптимизация алгоритмов"
   ]
  },
  {
   "cell_type": "markdown",
   "metadata": {},
   "source": [
    "Задача. Чтобы различать короткие РНК по составу нуклеотидов для начала надо найти какой состав вообще возможен в короткой последовательности, например для пептидов из 5 аминокислот.\n",
    "\n",
    "В результате мы должны иметь массив из 4-хчисельных комбинаций, которые в сумме дают 15.\n",
    "\n",
    "Для сравнения производительности все решения будем оформлять в виде функций."
   ]
  },
  {
   "cell_type": "code",
   "execution_count": 9,
   "metadata": {
    "collapsed": true
   },
   "outputs": [],
   "source": [
    "N = 15"
   ]
  },
  {
   "cell_type": "markdown",
   "metadata": {},
   "source": [
    "Самый простой способо - перебора (bruteforce)"
   ]
  },
  {
   "cell_type": "code",
   "execution_count": 28,
   "metadata": {},
   "outputs": [
    {
     "data": {
      "text/plain": [
       "816"
      ]
     },
     "execution_count": 28,
     "metadata": {},
     "output_type": "execute_result"
    }
   ],
   "source": [
    "def solution_brute():\n",
    "    ACGU = []  # сюда будет складывать комбинации типа (3,3,6,0)\n",
    "    for A in range(N+1): # +1 т.к. может быть (0,0,0,12)\n",
    "        for C in range(N+1):\n",
    "            for G in range(N+1):\n",
    "                for U in range(N+1):\n",
    "                    if A+C+G+U == N:\n",
    "                        ACGU.append((A,C,G,U))\n",
    "    return ACGU\n",
    "\n",
    "len(solution_brute())"
   ]
  },
  {
   "cell_type": "markdown",
   "metadata": {},
   "source": [
    "Для каждой возможной комбинации мы выполняем отдельную итерацию и проверку на совпадение суммы.\n",
    "\n",
    "Для типичных задач с перебором многих комбинаций можно использовать подходящие методы из библиотеки `itertools`. Объем вычислений будет тот же, но запись компактнее."
   ]
  },
  {
   "cell_type": "code",
   "execution_count": 29,
   "metadata": {},
   "outputs": [
    {
     "data": {
      "text/plain": [
       "816"
      ]
     },
     "execution_count": 29,
     "metadata": {},
     "output_type": "execute_result"
    }
   ],
   "source": [
    "import itertools\n",
    "\n",
    "def solution_itertools():\n",
    "    return [(A,C,G,U) for (A,C,G,U) in itertools.product(range(N+1),repeat=4) if A+C+G+U == N]\n",
    "\n",
    "len(solution_itertools())"
   ]
  },
  {
   "cell_type": "markdown",
   "metadata": {},
   "source": [
    "Умное решение позволяет перебирать не все комбинации с последующей проверкой, а только те, которые сразу дают решения."
   ]
  },
  {
   "cell_type": "code",
   "execution_count": 30,
   "metadata": {},
   "outputs": [
    {
     "data": {
      "text/plain": [
       "816"
      ]
     },
     "execution_count": 30,
     "metadata": {},
     "output_type": "execute_result"
    }
   ],
   "source": [
    "def solution_clever():\n",
    "    return [(A,C,G, (N - A - C - G))\n",
    "            for A in range(N+1)\n",
    "            for C in range(N+1 - A)\n",
    "            for G in range(N+1 - A - C)]\n",
    "\n",
    "len(solution_clever())"
   ]
  },
  {
   "cell_type": "markdown",
   "metadata": {},
   "source": [
    "В `numpy` задачу можно представить в 4-х мерном виде. Но так как четвертое число определяется тремя другими, то достаточно 3-мерного.\n",
    "\n",
    "Все комбинации из 3 индексов мы выстаиваем в ряд и высчитываем отклонение их суммы от искомого.\n",
    "\n",
    "На последнем шаге отбрасываем все комбинации, где отклонение отрицательное."
   ]
  },
  {
   "cell_type": "code",
   "execution_count": 31,
   "metadata": {},
   "outputs": [],
   "source": [
    "import numpy as np"
   ]
  },
  {
   "cell_type": "code",
   "execution_count": 32,
   "metadata": {},
   "outputs": [
    {
     "data": {
      "text/plain": [
       "816"
      ]
     },
     "execution_count": 32,
     "metadata": {},
     "output_type": "execute_result"
    }
   ],
   "source": [
    "def solution_np():\n",
    "    ACG = np.indices((N+1,N+1,N+1)).reshape(3,(N+1)**3)\n",
    "    U = N - ACG.sum(axis=0)\n",
    "    return np.vstack((ACG, U)).T[U > -1]\n",
    "len(solution_np())"
   ]
  },
  {
   "cell_type": "markdown",
   "metadata": {},
   "source": [
    "Модифицируем немного, чтобы отбрасывать лишние комбинации на промежуточном шаге."
   ]
  },
  {
   "cell_type": "code",
   "execution_count": 37,
   "metadata": {},
   "outputs": [
    {
     "data": {
      "text/plain": [
       "816"
      ]
     },
     "execution_count": 37,
     "metadata": {},
     "output_type": "execute_result"
    }
   ],
   "source": [
    "def solution_np_econom():\n",
    "    ACG = np.indices((N+1,N+1,N+1)).reshape(3,(N+1)**3)\n",
    "    U = N - ACG.sum(axis=0)\n",
    "    bb = U > -1\n",
    "    return np.vstack((ACG[:,bb], U[bb])).T\n",
    "len(solution_np_econom())"
   ]
  },
  {
   "cell_type": "markdown",
   "metadata": {},
   "source": [
    "Давайте замерим производительность решений."
   ]
  },
  {
   "cell_type": "code",
   "execution_count": 56,
   "metadata": {},
   "outputs": [
    {
     "name": "stdout",
     "output_type": "stream",
     "text": [
      "9.96 ms ± 2.47 µs per loop (mean ± std. dev. of 7 runs, 100 loops each)\n",
      "9.44 ms ± 1.69 µs per loop (mean ± std. dev. of 7 runs, 100 loops each)\n",
      "194 µs ± 43 ns per loop (mean ± std. dev. of 7 runs, 10000 loops each)\n",
      "107 µs ± 59.2 ns per loop (mean ± std. dev. of 7 runs, 10000 loops each)\n",
      "109 µs ± 62.7 ns per loop (mean ± std. dev. of 7 runs, 10000 loops each)\n"
     ]
    }
   ],
   "source": [
    "%timeit solution_brute()  # 10 ms\n",
    "%timeit solution_itertools()  # 9.5 ms\n",
    "%timeit solution_clever()  # 0.2 ms\n",
    "%timeit solution_np()  # 0.1 ms\n",
    "%timeit solution_np_econom()  # 0.11 ms"
   ]
  },
  {
   "cell_type": "markdown",
   "metadata": {},
   "source": [
    "Первые три решения возвращают список, а другие два - `ndarray`"
   ]
  },
  {
   "cell_type": "code",
   "execution_count": 47,
   "metadata": {},
   "outputs": [
    {
     "name": "stdout",
     "output_type": "stream",
     "text": [
      "<class 'list'>\n",
      "<class 'numpy.ndarray'>\n"
     ]
    }
   ],
   "source": [
    "print(type(solution_clever()))\n",
    "print(type(solution_np()))"
   ]
  },
  {
   "cell_type": "markdown",
   "metadata": {},
   "source": [
    "Заменим квадратные скобки на обычные, так чтобы функция возвращала генератор."
   ]
  },
  {
   "cell_type": "code",
   "execution_count": 54,
   "metadata": {},
   "outputs": [
    {
     "name": "stdout",
     "output_type": "stream",
     "text": [
      "<class 'generator'>\n"
     ]
    }
   ],
   "source": [
    "def solution_clever_generator():\n",
    "    return ((A,C,G, (N - A - C - G))\n",
    "            for A in range(N+1)\n",
    "            for C in range(N+1 - A)\n",
    "            for G in range(N+1 - A - C))\n",
    "\n",
    "print(type(solution_clever_generator()))"
   ]
  },
  {
   "cell_type": "code",
   "execution_count": 55,
   "metadata": {},
   "outputs": [
    {
     "name": "stdout",
     "output_type": "stream",
     "text": [
      "1.02 µs ± 3.4 ns per loop (mean ± std. dev. of 7 runs, 1000000 loops each)\n"
     ]
    }
   ],
   "source": [
    "%timeit solution_clever_generator()  # 0.001 ms"
   ]
  },
  {
   "cell_type": "markdown",
   "metadata": {},
   "source": [
    "Ускорение в тысячу раз связано с отсутствием выполнения каких-либо операций: генератор приступает к работе только при запросе результата.  \n",
    "\n",
    "Если мы соберем все результаты в список (с выделением памяти), то получим те же 0.2 мс."
   ]
  },
  {
   "cell_type": "code",
   "execution_count": 51,
   "metadata": {},
   "outputs": [
    {
     "name": "stdout",
     "output_type": "stream",
     "text": [
      "230 µs ± 56.8 ns per loop (mean ± std. dev. of 7 runs, 1000 loops each)\n"
     ]
    }
   ],
   "source": [
    "%timeit list(solution_clever_generator())  # 0.23 ms"
   ]
  },
  {
   "cell_type": "markdown",
   "metadata": {},
   "source": [
    "Если нам не нужно хранить все результаты в одной переменной, то мы можем сэкономить на памяти, незначительно потеряв на производительности."
   ]
  },
  {
   "cell_type": "code",
   "execution_count": 61,
   "metadata": {},
   "outputs": [
    {
     "name": "stdout",
     "output_type": "stream",
     "text": [
      "272 µs ± 1.52 µs per loop (mean ± std. dev. of 7 runs, 1000 loops each)\n"
     ]
    }
   ],
   "source": [
    "def count_generator():\n",
    "    n=0\n",
    "    for _ in solution_clever_generator():\n",
    "        n+=1\n",
    "    return n\n",
    "\n",
    "%timeit count_generator()  # 0.27 ms"
   ]
  },
  {
   "cell_type": "markdown",
   "metadata": {},
   "source": [
    "### Выводы\n",
    "\n",
    "1. `numpy` гораздо эффективнее обращается с большими массивами памяти. Это дает существенное ускорение. \n",
    "2. Оптимизация в `numpy` часто мнимая - попытка сократить уже созданный массив за счет создания еще одного приводит к замедлению, ибо операции с выделением памяти самые затратные.\n",
    "3. Если возможно решение, когда можно работать с каждым объектом независимо (в памяти не нужно держать весь массив), то такое решение и быстрое и масштабируемое. "
   ]
  }
 ],
 "metadata": {
  "kernelspec": {
   "display_name": "Python 3",
   "language": "python",
   "name": "python3"
  },
  "language_info": {
   "codemirror_mode": {
    "name": "ipython",
    "version": 3
   },
   "file_extension": ".py",
   "mimetype": "text/x-python",
   "name": "python",
   "nbconvert_exporter": "python",
   "pygments_lexer": "ipython3",
   "version": "3.6.0"
  },
  "toc": {
   "colors": {
    "hover_highlight": "#DAA520",
    "running_highlight": "#FF0000",
    "selected_highlight": "#FFD700"
   },
   "moveMenuLeft": true,
   "nav_menu": {
    "height": "49px",
    "width": "252px"
   },
   "navigate_menu": true,
   "number_sections": false,
   "sideBar": true,
   "threshold": 4,
   "toc_cell": false,
   "toc_section_display": "block",
   "toc_window_display": false,
   "widenNotebook": true
  }
 },
 "nbformat": 4,
 "nbformat_minor": 2
}
