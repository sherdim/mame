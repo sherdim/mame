{
 "cells": [
  {
   "cell_type": "markdown",
   "metadata": {},
   "source": [
    "# Загрузка данных о росте и весе студентов"
   ]
  },
  {
   "cell_type": "markdown",
   "metadata": {},
   "source": [
    "Один из наборов данных, идущих с пакетом R - [описание](https://vincentarelbundock.github.io/Rdatasets/doc/car/Davis.html)\n",
    "\n",
    "Davis, C. (1990) Body image and weight preoccupation: A comparison between exercising and non-exercising women. Appetite, 15, 13–21.\n",
    "\n",
    "Данные записаны в CSV-файле, т.е. значения через запятую.\n",
    "\n",
    "Одна строчка - одна запись - один студент.\n",
    "\n",
    "Колонки:\n",
    "- sex - пол: F - female; M - male.\n",
    "- weight - измеренная масса в кг.\n",
    "- height - измеренный рост в см.\n",
    "- repwt - записанная со слов масса в кг.\n",
    "- repht - записанный со слов рост в см.\n",
    "\n"
   ]
  },
  {
   "cell_type": "code",
   "execution_count": null,
   "metadata": {
    "scrolled": true
   },
   "outputs": [],
   "source": [
    "%matplotlib notebook\n",
    "import pandas as pd\n",
    "pd.set_option('max_rows',999)\n",
    "import seaborn\n",
    "D = pd.read_csv('Davis.csv', index_col=0)\n",
    "D"
   ]
  },
  {
   "cell_type": "markdown",
   "metadata": {},
   "source": [
    "Две последние колонки - субъективные данные. Там встречаются пропуски - `NaN`.\n",
    "\n",
    "Посмотрим описательную статистику по колонкам и распределение значений."
   ]
  },
  {
   "cell_type": "code",
   "execution_count": null,
   "metadata": {},
   "outputs": [],
   "source": [
    "D.describe()"
   ]
  },
  {
   "cell_type": "code",
   "execution_count": null,
   "metadata": {},
   "outputs": [],
   "source": [
    "seaborn.regplot('height', 'weight', data=D);"
   ]
  },
  {
   "cell_type": "code",
   "execution_count": null,
   "metadata": {},
   "outputs": [],
   "source": [
    "seaborn.lmplot('height', 'weight', data=D, hue='sex');"
   ]
  },
  {
   "cell_type": "code",
   "execution_count": null,
   "metadata": {},
   "outputs": [],
   "source": [
    "seaborn.lmplot('height', 'weight', data=D, hue='sex', logx=True);"
   ]
  },
  {
   "cell_type": "code",
   "execution_count": null,
   "metadata": {},
   "outputs": [],
   "source": [
    "D1=D.ix[[3,5,38],:]\n",
    "D1"
   ]
  },
  {
   "cell_type": "code",
   "execution_count": null,
   "metadata": {},
   "outputs": [],
   "source": []
  }
 ],
 "metadata": {
  "kernelspec": {
   "display_name": "Python 2",
   "language": "python",
   "name": "python2"
  },
  "language_info": {
   "codemirror_mode": {
    "name": "ipython",
    "version": 2
   },
   "file_extension": ".py",
   "mimetype": "text/x-python",
   "name": "python",
   "nbconvert_exporter": "python",
   "pygments_lexer": "ipython2",
   "version": "2.7.9"
  },
  "toc": {
   "colors": {
    "hover_highlight": "#DAA520",
    "running_highlight": "#FF0000",
    "selected_highlight": "#FFD700"
   },
   "moveMenuLeft": true,
   "nav_menu": {
    "height": "31px",
    "width": "252px"
   },
   "navigate_menu": true,
   "number_sections": false,
   "sideBar": true,
   "threshold": 4,
   "toc_cell": false,
   "toc_section_display": "block",
   "toc_window_display": false
  }
 },
 "nbformat": 4,
 "nbformat_minor": 1
}
