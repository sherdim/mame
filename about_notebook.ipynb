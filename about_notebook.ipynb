{
 "cells": [
  {
   "cell_type": "markdown",
   "metadata": {},
   "source": [
    "# Рабочая тетрадь"
   ]
  },
  {
   "cell_type": "markdown",
   "metadata": {},
   "source": [
    "В качестве рабочей тетради используется инструмент Jupyter Notebook."
   ]
  },
  {
   "cell_type": "markdown",
   "metadata": {},
   "source": [
    "## Выполнение практических работ на скриптовых языках\n",
    "\n",
    "Рассматривайте данный электронный блокнот как аналог протокола лабораторной работы при любой другой практической работе. Только эксперименты в данном случае вы проводите с числами – вставляя и выполняя код в ячейках. В текстовых комментариях вы записываете и фиксируете свои наблюдения – что должны были получить и что получилось в действительности. Для наглядного представления результатов используйте графики. После графика вставьте комментарий с описанием того, что видно на рисунке. Также кратко записывайте рассуждения, как вы переходите от одного этапа обработки к следующему, какие результаты уже получены, а какие необходимо получить.\n",
    "\n",
    "Начните с заголовка – впишите или скопируйте и вставьте название работы.\n",
    "Сформируйте остов отчета с помощью заголовков и комментариев. Затем, используя предложенные ресурсы с образцами кода как шпаргалки, вставьте блоки с кодом. Специально заучивать синтаксис команд не надо – главное разобраться с логикой выполнения операций. Используя образцы кода как готовые кирпичики, можно составить из них работоспособный скрипт. Для этого необходимо ознакомиться со всеми примерами решения отдельных задач, часть из которых может дублироваться, и отобрать из них только те, которые нужны вам для выполнения задания. Важно проследить преемственность переменных, чтобы последующие блоки кода использовали результаты работы предыдущих блоков кода. Например, если в предыдущем блоке была задана переменная lps, содержащая значения латентных периодов, то в следующем блоке вы используете эту же переменную lps. Если вам не нравится название, то назовите переменную более понятно, например, VremenaReactii, но тогда в следующем блоке кода вы в соответствующих местах обращаетесь уже к VremenaReactii.\n",
    "\n",
    "Работоспособность готового скрипта проверяется путем последовательного выполнения всех ячеек. Индексы в квадратных скобках возле каждой ячейки перерисовываются в соответствии с номером строки в той невидимой консоли ядра, где все эти команды выполняются. Если скрипт жизнеспособный, все должно воспроизвестись при открытии и выполнении скрипта заново, например, на другой машине. Чтобы это произошло, в скрипте должна быть соблюдена преемственность переменных и правильный порядок ячеек, чтобы все необходимые для выполнения текущей ячейки переменные уже были заданы в предыдущих ячейках.\n",
    "\n",
    "Если вы загружаете блокнот с внешнего источника, например, образовательного портала, то  переместите его в рабочую папку. После этого он автоматически появится в списке доступных блокнотов."
   ]
  },
  {
   "cell_type": "markdown",
   "metadata": {},
   "source": [
    "## Jupyter Notebook\n",
    "Открытый проект Jupyter появился в 2014 году как развитие IPython Notebook. В электронный блокнот стало возможно включать исполняемые фрагменты не только на python, но и на R, Ruby, Julia и др. языках. Работа с фрагментами кода сопровождается функциями IDE: подсказка по API, завершение строк, интерактивный дебаггинг и т.п. Многие дополнительные функции для работы с ОС и кодом реализованы в виде \"[магических команд](http://ipython.readthedocs.org/en/stable/interactive/magics.html)\". Открытость формата позволяет легко наращивать функциональность электронного блокнота. \n",
    "\n",
    "Проект http://nbviewer.jupyter.org/ позволяет удобно и бесплатно размещать готовую версию для просмотра и возможной доработки коллегами. В образовательных и коммуникативных целях можно организовать ячейки блокнота как единый многостраничный документ или как слайды для презентации (слайды можно просматривать онлайн с помощью сервиса http://slideviewer.herokuapp.com/). В комплект входит готовый инструмент nbconvert для экспорта отчетов в формате HTML, LaTEX, PDF."
   ]
  },
  {
   "cell_type": "markdown",
   "metadata": {
    "slideshow": {
     "slide_type": "-"
    }
   },
   "source": [
    "#### Установка на домашний компьютер\n",
    "\n",
    "По этому адресу можно скачать сборку WinPython, в которую включены Jupyter Notebook и все необходимые библиотеки.\n",
    "\n",
    "https://winpython.github.io/\n",
    "\n",
    "В установленном виде сборка занимает около 1Гб. При этом сборка не привязывается к системе и ее можно переносить на флешке.\n",
    "\n",
    "В папке установки создается ярлык \"Jupyter Notebook.exe\". При его обычном запуске рабочей папкой становится папка `notebooks`. Для запуска с другой рабочей папкой добавьте путь к ней в качестве аргумента командной строки или перейдите в эту папку и запустите \"Jupyter Notebook.exe\" с указанием полного пути оттуда."
   ]
  },
  {
   "cell_type": "markdown",
   "metadata": {
    "slideshow": {
     "slide_type": "slide"
    }
   },
   "source": [
    "## Язык Python\n",
    "\n",
    "язык программирования высокого уровня "
   ]
  },
  {
   "cell_type": "markdown",
   "metadata": {},
   "source": [
    "#### Версии Python"
   ]
  },
  {
   "cell_type": "markdown",
   "metadata": {},
   "source": [
    "В настоящее время сосуществуют версии 2 и 3. Широко распространены и поддерживаются версии 2.5 и 2.7.\n",
    "Последние из 2-х версий - >2.7.9 включают в себя ряд новых наработок, которые вводятся в новые версии >3.3.\n",
    "\n",
    "Для большинства задач лучше использовать последние версии.\n",
    "\n",
    "Для широкой совместимости (например, если вы захотите развернуть свой проект в облачном сервисе типа Amazon WS) рекомендуется использовать версию 2.7, но для облегчения портирования разработок в будущем в новые версии использовать особенности, введенные в 3-й версии. В частности, для использования функции `print` и деления на целые числа в новом стандарте, добавьте в код следующую инструкцию:\n",
    "\n",
    "```python\n",
    "from __future__ import print_function, division\n",
    "```"
   ]
  },
  {
   "cell_type": "code",
   "execution_count": 7,
   "metadata": {
    "collapsed": true
   },
   "outputs": [],
   "source": [
    "from __future__ import print_function, division, unicode_literals"
   ]
  },
  {
   "cell_type": "markdown",
   "metadata": {},
   "source": [
    "## Настройка IPyNB\n",
    "\n",
    "Есть [множество расширений](https://github.com/ipython-contrib/jupyter_contrib_nbextensions/tree/master/src/jupyter_contrib_nbextensions/nbextensions) для оптимизации работы с самой тетрадью (блокнотом).\n",
    "Например, если тетрадь длинная структирированная, можно добавить генератор содержания, проверку орфографии, если отлаживаете код, то можно добавить профайлер - чтобы показывал, сколько времени занимает выполнение каждой строчки кода, есть версии улучшенного дебаггера, для сравнения эффективности алгоритмов можно сравнивать версии на разных языках, вызывая подпрограммы на MATLAB, R, Julia, Cython, Fortran и пр.\n",
    "\n",
    "Расширения могут быть на уровне ядра - консольного приложения, где выполняется код из ячеек тетради. Такие расширения обычно имеют эффект не только в интерфейсе тетради, но и при экспорте в другие форматы - HTML, PDF и пр.\n",
    "\n",
    "Наконец, как расширения можно рассматривать любые новые модули, добавляемые к установленному `Python`. В готовых сборках вроде `WinPython` есть специальная контрольная панель для этого `WinPython Control Panel.exe`. Из командой строки пакеты устанавливаются командой `pip`, например, ```pip install beautifulsoup```.\n",
    "Для установки сложных больших пакетов под Windows лучше загружать уже скомпилированные сборки с расширением `*.whl`. Если пакет доступен только в виде исходного кода, и для оптимизации в нем используются фрагменты на языке C++, то при установке может подтребоваться пакет `Microsoft Visual Studio 9.0`, причем именно 9-й версии. "
   ]
  },
  {
   "cell_type": "markdown",
   "metadata": {},
   "source": [
    "Если в начале работы с каждой новой тетрадью требуется выполнять один и тот же код (импорт модулей, настройка формата рисунков), то можно добавить его в папку `startup` в профиле пользователя `.ipython\\profile_default`. Этот код может включать проверку условий и настраивать разные тетради по-разному, например, в зависимости от папки, в которой они находятся. Однако, для наглядности и облегчения обмена тетрадями лучше помещать весь служебный код внутри ячеек тетради.\n",
    "\n",
    "Перед тем, как вставлять свой код, проверьте, возможно такие функции уже реализованы в самом `IPython` в виде \"[магических команд](https://ipython.org/ipython-doc/dev/interactive/magics.html)\". Например, всевозможные функции взаимодействия с ОС: запуск скриптов на разных языках, сохранение в файл, замер времени выполнения и др."
   ]
  },
  {
   "cell_type": "code",
   "execution_count": 1,
   "metadata": {
    "collapsed": false
   },
   "outputs": [
    {
     "name": "stdout",
     "output_type": "stream",
     "text": [
      "C:\\a\\WinPython\\settings\\.ipython\n"
     ]
    }
   ],
   "source": [
    "!ipython locate"
   ]
  },
  {
   "cell_type": "code",
   "execution_count": 2,
   "metadata": {
    "collapsed": false
   },
   "outputs": [
    {
     "name": "stdout",
     "output_type": "stream",
     "text": [
      "Known nbextensions:\n",
      "  config dir: C:\\a\\WinPython\\settings\\.jupyter\\nbconfig\n",
      "    notebook section\n",
      "      rise/main enabled \n",
      "    tree section\n",
      "      ipyparallel/main disabled\n",
      "  config dir: C:\\a\\WinPython\\python-3.5.2.amd64\\etc\\jupyter\\nbconfig\n",
      "    notebook section\n",
      "      jupyter-js-widgets/extension enabled \n"
     ]
    },
    {
     "name": "stderr",
     "output_type": "stream",
     "text": [
      "      - Validating: ok\n",
      "      - Validating: ok\n"
     ]
    }
   ],
   "source": [
    "!jupyter nbextension list"
   ]
  },
  {
   "cell_type": "code",
   "execution_count": 3,
   "metadata": {
    "collapsed": false
   },
   "outputs": [
    {
     "name": "stdout",
     "output_type": "stream",
     "text": [
      "C:\\a\\WinPython\\scripts\\..\\settings\n"
     ]
    }
   ],
   "source": [
    "import notebook\n",
    "print(notebook.nbextensions.jupyter_data_dir())"
   ]
  },
  {
   "cell_type": "code",
   "execution_count": 4,
   "metadata": {
    "collapsed": false
   },
   "outputs": [
    {
     "name": "stdout",
     "output_type": "stream",
     "text": [
      "C:\\a\\WinPython\\settings\\.jupyter\n",
      "C:\\a\\WinPython\\python-3.5.2.amd64\\etc\\jupyter\n",
      "C:\\ProgramData\\jupyter\n"
     ]
    }
   ],
   "source": [
    "print('\\n'.join(notebook.nbextensions.jupyter_config_path()))"
   ]
  },
  {
   "cell_type": "markdown",
   "metadata": {},
   "source": [
    "По этим путям можно найти настройки на JSON и если надо - поправить. Папки с расширениями находятся в последней папке, напр. `C:\\ProgramData\\jupyter\\nbextensions`"
   ]
  },
  {
   "cell_type": "markdown",
   "metadata": {},
   "source": [
    "Для настройки расширений создан [конфигуратор](https://github.com/Jupyter-contrib/jupyter_nbextensions_configurator) или для управления из ноутбука следующие команды"
   ]
  },
  {
   "cell_type": "code",
   "execution_count": 23,
   "metadata": {
    "collapsed": false
   },
   "outputs": [
    {
     "data": {
      "text/plain": [
       "False"
      ]
     },
     "execution_count": 23,
     "metadata": {},
     "output_type": "execute_result"
    }
   ],
   "source": [
    "sExtension='rise'\n",
    "# notebook.install_nbextension(sExtension,user=True)\n",
    "notebook.nbextensions.enable_nbextension('notebook',sExtension)"
   ]
  },
  {
   "cell_type": "code",
   "execution_count": 22,
   "metadata": {
    "collapsed": false
   },
   "outputs": [
    {
     "data": {
      "text/plain": [
       "['common', 'notebook', 'tree', 'edit', 'terminal']"
      ]
     },
     "execution_count": 22,
     "metadata": {},
     "output_type": "execute_result"
    }
   ],
   "source": [
    "notebook.nbextensions.NBCONFIG_SECTIONS"
   ]
  },
  {
   "cell_type": "code",
   "execution_count": null,
   "metadata": {
    "collapsed": false
   },
   "outputs": [],
   "source": [
    "# восклицательный знак в начале строки позволяет выполнять системные команды\n",
    "!dir /b %USERPROFILE%\\.ipython\\profile_default\\startup"
   ]
  },
  {
   "cell_type": "markdown",
   "metadata": {},
   "source": [
    "В качестве полезного примера в папку startup в файле с произвольным именем можно поместить функцию настройки рисунков для слайдов с крупным текстом и жирными линиями (см. код ниже, [первоисточник](https://gist.github.com/mfouesneau/c6d27990ba57dabcd9fd)). Тогда, в случае необходимости сохранения готовой тетради в виде слайд-шоу перед рисунком достаточно вставить `ezrc()`.\n",
    "```py\n",
    "def ezrc(fontSize=22., lineWidth=2., labelSize=None, tickmajorsize=10, tickminorsize=5, figsize=(10, 6)):\n",
    "    \"\"\"\n",
    "    Определяет параметры для рисунков, предназначенных для презентаций\n",
    "    \n",
    "    Пример:\n",
    "        ezrc()\n",
    "        plt.savefig('paper.pdf')\n",
    "        ezrc(fontSize=34, lineWidth=8)\n",
    "        plt.savefig('slide.pdf')\n",
    "        \"\"\"\n",
    "    from pylab import rc, rcParams\n",
    "    if labelSize is None:\n",
    "        labelSize = fontSize + 5\n",
    "    rc('figure', figsize=figsize)\n",
    "    rc('lines', linewidth=lineWidth)\n",
    "    rc('grid', linewidth=lineWidth)\n",
    "    rc('font', size=fontSize, family='serif', weight='bold')\n",
    "    rc('axes', linewidth=lineWidth, labelsize=labelSize)\n",
    "    rc('legend', borderpad=0.1, markerscale=1., fancybox=False)\n",
    "    rc('text', usetex=True)\n",
    "    rc('image', aspect='auto')\n",
    "    rcParams['xtick.major.size'] = tickmajorsize\n",
    "    rcParams['xtick.minor.size'] = tickminorsize\n",
    "    rcParams['ytick.major.size'] = tickmajorsize\n",
    "    rcParams['ytick.minor.size'] = tickminorsize\n",
    "```"
   ]
  },
  {
   "cell_type": "markdown",
   "metadata": {},
   "source": [
    "### Русские подписи к рисункам"
   ]
  },
  {
   "cell_type": "markdown",
   "metadata": {},
   "source": [
    "В рисунках в matplotlib (ниже версии 2.0) могут не отображаться символы кириллицы.\n",
    "По-умолчанию порядок шрифтов задается в mpl.rcParams['font.sans-serif']:\n",
    "```\n",
    "[u'Bitstream Vera Sans',\n",
    " u'DejaVu Sans',\n",
    " u'Lucida Grande',\n",
    " u'Verdana',\n",
    " u'Geneva',\n",
    " u'Lucid',\n",
    " u'Arial',\n",
    " u'Helvetica',\n",
    " u'Avant Garde',\n",
    " u'sans-serif']```\n",
    " (версия  `mpl.__version__ = '1.11.1'`)\n",
    "\n",
    "Файлы первого в списке шрифта включены в дистрибутив, но они не русифицрованы.\n",
    "Нужно изменить настройки, чтобы использовались корректные системные шрифты.\n",
    "\n",
    "Варианты:\n",
    "- настроить только текущий блокнот, чтобы работало везде\n",
    "- настроить свою сборку WinPython, если она у вас единая на нескольких машинах\n",
    "- настроить текущую ОС (и повторить на других машинах)\n",
    "\n",
    "Можно задавать шрифт каждый раз при вставке текста в рисунок, но это не целесообразно."
   ]
  },
  {
   "cell_type": "code",
   "execution_count": 5,
   "metadata": {
    "collapsed": false
   },
   "outputs": [
    {
     "name": "stdout",
     "output_type": "stream",
     "text": [
      "2.0.0\n"
     ]
    },
    {
     "data": {
      "text/plain": [
       "['DejaVu Sans',\n",
       " 'Bitstream Vera Sans',\n",
       " 'Computer Modern Sans Serif',\n",
       " 'Lucida Grande',\n",
       " 'Verdana',\n",
       " 'Geneva',\n",
       " 'Lucid',\n",
       " 'Arial',\n",
       " 'Helvetica',\n",
       " 'Avant Garde',\n",
       " 'sans-serif']"
      ]
     },
     "execution_count": 5,
     "metadata": {},
     "output_type": "execute_result"
    }
   ],
   "source": [
    "import matplotlib as mpl\n",
    "print(mpl.__version__)\n",
    "mpl.rcParams['font.sans-serif']"
   ]
  },
  {
   "cell_type": "code",
   "execution_count": null,
   "metadata": {
    "collapsed": false
   },
   "outputs": [],
   "source": [
    "mpl.rcParams['font.family']"
   ]
  },
  {
   "cell_type": "markdown",
   "metadata": {},
   "source": [
    "#### проверка"
   ]
  },
  {
   "cell_type": "code",
   "execution_count": null,
   "metadata": {
    "collapsed": false
   },
   "outputs": [],
   "source": [
    "# %matplotlib\n",
    "# import matplotlib.pyplot as plt\n",
    "# plt.xlabel('русский текст, буквы')\n",
    "# plt.show()"
   ]
  },
  {
   "cell_type": "code",
   "execution_count": 6,
   "metadata": {
    "collapsed": false
   },
   "outputs": [
    {
     "data": {
      "text/plain": [
       "<matplotlib.text.Text at 0x8179518>"
      ]
     },
     "execution_count": 6,
     "metadata": {},
     "output_type": "execute_result"
    },
    {
     "data": {
      "image/png": "[encoded data removed]",
      "text/plain": [
       "<matplotlib.figure.Figure at 0x76fc7b8>"
      ]
     },
     "metadata": {},
     "output_type": "display_data"
    }
   ],
   "source": [
    "%matplotlib inline\n",
    "import matplotlib.pyplot as plt\n",
    "plt.xlabel('русский текст, буквы');"
   ]
  },
  {
   "cell_type": "code",
   "execution_count": 8,
   "metadata": {
    "collapsed": false
   },
   "outputs": [
    {
     "name": "stderr",
     "output_type": "stream",
     "text": [
      "C:\\a\\WinPython\\python-3.5.2.amd64\\lib\\site-packages\\matplotlib\\font_manager.py:1297: UserWarning: findfont: Font family ['Bitstream Vera Serif'] not found. Falling back to DejaVu Sans\n",
      "  (prop.get_family(), self.defaultFamily[fontext]))\n",
      "C:\\a\\WinPython\\python-3.5.2.amd64\\lib\\site-packages\\matplotlib\\font_manager.py:1297: UserWarning: findfont: Font family ['Computer Modern Roman'] not found. Falling back to DejaVu Sans\n",
      "  (prop.get_family(), self.defaultFamily[fontext]))\n",
      "C:\\a\\WinPython\\python-3.5.2.amd64\\lib\\site-packages\\matplotlib\\font_manager.py:1297: UserWarning: findfont: Font family ['New Century Schoolbook'] not found. Falling back to DejaVu Sans\n",
      "  (prop.get_family(), self.defaultFamily[fontext]))\n",
      "C:\\a\\WinPython\\python-3.5.2.amd64\\lib\\site-packages\\matplotlib\\font_manager.py:1297: UserWarning: findfont: Font family ['Century Schoolbook L'] not found. Falling back to DejaVu Sans\n",
      "  (prop.get_family(), self.defaultFamily[fontext]))\n",
      "C:\\a\\WinPython\\python-3.5.2.amd64\\lib\\site-packages\\matplotlib\\font_manager.py:1297: UserWarning: findfont: Font family ['Utopia'] not found. Falling back to DejaVu Sans\n",
      "  (prop.get_family(), self.defaultFamily[fontext]))\n",
      "C:\\a\\WinPython\\python-3.5.2.amd64\\lib\\site-packages\\matplotlib\\font_manager.py:1297: UserWarning: findfont: Font family ['ITC Bookman'] not found. Falling back to DejaVu Sans\n",
      "  (prop.get_family(), self.defaultFamily[fontext]))\n",
      "C:\\a\\WinPython\\python-3.5.2.amd64\\lib\\site-packages\\matplotlib\\font_manager.py:1297: UserWarning: findfont: Font family ['Bookman'] not found. Falling back to DejaVu Sans\n",
      "  (prop.get_family(), self.defaultFamily[fontext]))\n",
      "C:\\a\\WinPython\\python-3.5.2.amd64\\lib\\site-packages\\matplotlib\\font_manager.py:1297: UserWarning: findfont: Font family ['Nimbus Roman No9 L'] not found. Falling back to DejaVu Sans\n",
      "  (prop.get_family(), self.defaultFamily[fontext]))\n",
      "C:\\a\\WinPython\\python-3.5.2.amd64\\lib\\site-packages\\matplotlib\\font_manager.py:1297: UserWarning: findfont: Font family ['Times'] not found. Falling back to DejaVu Sans\n",
      "  (prop.get_family(), self.defaultFamily[fontext]))\n",
      "C:\\a\\WinPython\\python-3.5.2.amd64\\lib\\site-packages\\matplotlib\\font_manager.py:1297: UserWarning: findfont: Font family ['Palatino'] not found. Falling back to DejaVu Sans\n",
      "  (prop.get_family(), self.defaultFamily[fontext]))\n",
      "C:\\a\\WinPython\\python-3.5.2.amd64\\lib\\site-packages\\matplotlib\\font_manager.py:1297: UserWarning: findfont: Font family ['Charter'] not found. Falling back to DejaVu Sans\n",
      "  (prop.get_family(), self.defaultFamily[fontext]))\n",
      "C:\\a\\WinPython\\python-3.5.2.amd64\\lib\\site-packages\\matplotlib\\font_manager.py:1297: UserWarning: findfont: Font family ['Bitstream Vera Sans'] not found. Falling back to DejaVu Sans\n",
      "  (prop.get_family(), self.defaultFamily[fontext]))\n",
      "C:\\a\\WinPython\\python-3.5.2.amd64\\lib\\site-packages\\matplotlib\\font_manager.py:1297: UserWarning: findfont: Font family ['Computer Modern Sans Serif'] not found. Falling back to DejaVu Sans\n",
      "  (prop.get_family(), self.defaultFamily[fontext]))\n",
      "C:\\a\\WinPython\\python-3.5.2.amd64\\lib\\site-packages\\matplotlib\\font_manager.py:1297: UserWarning: findfont: Font family ['Lucida Grande'] not found. Falling back to DejaVu Sans\n",
      "  (prop.get_family(), self.defaultFamily[fontext]))\n",
      "C:\\a\\WinPython\\python-3.5.2.amd64\\lib\\site-packages\\matplotlib\\font_manager.py:1297: UserWarning: findfont: Font family ['Geneva'] not found. Falling back to DejaVu Sans\n",
      "  (prop.get_family(), self.defaultFamily[fontext]))\n",
      "C:\\a\\WinPython\\python-3.5.2.amd64\\lib\\site-packages\\matplotlib\\font_manager.py:1297: UserWarning: findfont: Font family ['Lucid'] not found. Falling back to DejaVu Sans\n",
      "  (prop.get_family(), self.defaultFamily[fontext]))\n",
      "C:\\a\\WinPython\\python-3.5.2.amd64\\lib\\site-packages\\matplotlib\\font_manager.py:1297: UserWarning: findfont: Font family ['Helvetica'] not found. Falling back to DejaVu Sans\n",
      "  (prop.get_family(), self.defaultFamily[fontext]))\n",
      "C:\\a\\WinPython\\python-3.5.2.amd64\\lib\\site-packages\\matplotlib\\font_manager.py:1297: UserWarning: findfont: Font family ['Avant Garde'] not found. Falling back to DejaVu Sans\n",
      "  (prop.get_family(), self.defaultFamily[fontext]))\n",
      "C:\\a\\WinPython\\python-3.5.2.amd64\\lib\\site-packages\\matplotlib\\font_manager.py:1297: UserWarning: findfont: Font family ['Bitstream Vera Sans Mono'] not found. Falling back to DejaVu Sans\n",
      "  (prop.get_family(), self.defaultFamily[fontext]))\n",
      "C:\\a\\WinPython\\python-3.5.2.amd64\\lib\\site-packages\\matplotlib\\font_manager.py:1297: UserWarning: findfont: Font family ['Computer Modern Typewriter'] not found. Falling back to DejaVu Sans\n",
      "  (prop.get_family(), self.defaultFamily[fontext]))\n",
      "C:\\a\\WinPython\\python-3.5.2.amd64\\lib\\site-packages\\matplotlib\\font_manager.py:1297: UserWarning: findfont: Font family ['Andale Mono'] not found. Falling back to DejaVu Sans\n",
      "  (prop.get_family(), self.defaultFamily[fontext]))\n",
      "C:\\a\\WinPython\\python-3.5.2.amd64\\lib\\site-packages\\matplotlib\\font_manager.py:1297: UserWarning: findfont: Font family ['Nimbus Mono L'] not found. Falling back to DejaVu Sans\n",
      "  (prop.get_family(), self.defaultFamily[fontext]))\n",
      "C:\\a\\WinPython\\python-3.5.2.amd64\\lib\\site-packages\\matplotlib\\font_manager.py:1297: UserWarning: findfont: Font family ['Courier'] not found. Falling back to DejaVu Sans\n",
      "  (prop.get_family(), self.defaultFamily[fontext]))\n",
      "C:\\a\\WinPython\\python-3.5.2.amd64\\lib\\site-packages\\matplotlib\\font_manager.py:1297: UserWarning: findfont: Font family ['Fixed'] not found. Falling back to DejaVu Sans\n",
      "  (prop.get_family(), self.defaultFamily[fontext]))\n",
      "C:\\a\\WinPython\\python-3.5.2.amd64\\lib\\site-packages\\matplotlib\\font_manager.py:1297: UserWarning: findfont: Font family ['Terminal'] not found. Falling back to DejaVu Sans\n",
      "  (prop.get_family(), self.defaultFamily[fontext]))\n"
     ]
    },
    {
     "data": {
      "image/png": "[encoded data removed]",
      "text/plain": [
       "<matplotlib.figure.Figure at 0x8185e80>"
      ]
     },
     "metadata": {},
     "output_type": "display_data"
    }
   ],
   "source": [
    "# проверка подстановки шрифтов\n",
    "ff=mpl.rcParams['font.serif']\n",
    "for i, f in enumerate(ff):\n",
    "    plt.text(.1,i/10.0, u'русские ящЮЩЁё в {}'.format(f), family=f)\n",
    "    \n",
    "ff=mpl.rcParams['font.sans-serif']\n",
    "for i, f in enumerate(ff):\n",
    "    plt.text(1.1,i/10.0, u'русские ящЮЩЁё в {}'.format(f), family=f)\n",
    "\n",
    "ff=mpl.rcParams['font.monospace']\n",
    "for i, f in enumerate(ff):\n",
    "    plt.text(2.1,i/10.0, u'русские ящЮЩЁё в {}'.format(f), family=f)"
   ]
  },
  {
   "cell_type": "markdown",
   "metadata": {},
   "source": [
    "#### Русские буквы в текущем блокноте\n",
    "Чтобы русские буквы работали в вашем блокноте на всех компьютерах - измените настройки прямо в коде блокнота, используя какой-нибудь вездесущий шрифт:\n",
    "```py\n",
    "import matplotlib as mpl\n",
    "mpl.rcParams['font.family'] = 'Verdana'\n",
    "```"
   ]
  },
  {
   "cell_type": "markdown",
   "metadata": {},
   "source": [
    "#### Русские буквы в текущей сборке Jupyter\n",
    "\n",
    "В файл автозагрузки добавить команду, чтобы списки шрифтов соответствовали предпочтениям Windows.\n",
    "```py\n",
    "import matplotlib as mpl\n",
    "mpl.rcParams['font.sans-serif']=[\"Microsoft Sans Serif\",'Verdana', 'Arial']\n",
    "mpl.rcParams['font.serif']=['Times New Roman']\n",
    "mpl.rcParams['font.monospace']=['Courier New']\n",
    "```\n",
    "\n",
    "![](winfontdefaults.png)\n"
   ]
  },
  {
   "cell_type": "markdown",
   "metadata": {},
   "source": [
    "Более кардинальный вариант - изменить настройки пакета `matplotlib` (в версии 2.0 это уже исправлено).\n",
    "\n",
    "Путь к файлу настроек выглядит так:\n",
    "```\n",
    "C:\\a\\WinPython\\python-3.5.2.amd64\\Lib\\site-packages\\matplotlib\\mpl-data\\matplotlibrc\n",
    "```\n",
    "\n",
    "Копии файлов шрифта по-умолчанию лежат в папке\n",
    "```\n",
    "C:\\a\\WinPython\\python-3.5.2.amd64\\Lib\\site-packages\\matplotlib\\mpl-data\\fonts\\ttf\n",
    "```\n",
    "Если их удалить при закрытом приложении, то при следующем запуске будут использоваться доступные русифицированные шрифты из списков. Команда ниже позволяет посмотреть, из какого файла используется данный шрифт - системного или локального.\n"
   ]
  },
  {
   "cell_type": "code",
   "execution_count": null,
   "metadata": {
    "collapsed": false
   },
   "outputs": [],
   "source": [
    "mpl.font_manager.findfont('Microsoft Sans Serif')"
   ]
  },
  {
   "cell_type": "markdown",
   "metadata": {},
   "source": [
    "Возможно надо почистить кэш шрифтов, который расположен в папке, выдаваемой командой `mpl.font_manager.cachedir`"
   ]
  },
  {
   "cell_type": "markdown",
   "metadata": {},
   "source": [
    "#### Русские буквы в текущей ОС\n",
    "\n",
    "Можно задать подмену шрифтов во всей ОС через реестр. Если не знаете как это делать - лучше не надо.\n",
    "\n",
    "```reg\n",
    "Windows Registry Editor Version 5.00\n",
    "\n",
    "[HKEY_LOCAL_MACHINE\\SOFTWARE\\Microsoft\\Windows NT\\CurrentVersion\\FontSubstitutes]\n",
    "\"Bitstream Vera Sans\"=\"Microsoft Sans Serif\"\n",
    "\"DejaVu Sans\"=\"Microsoft Sans Serif\"\n",
    "\"MS Sans Serif,0\"=\"Microsoft Sans Serif,204\"\n",
    "\"Tahoma,0\"=\"Tahoma,204\"\n",
    "\"Times New Roman,0\"=\"Times New Roman,204\"\n",
    "\"Verdana,0\"=\"Verdana,204\"\n",
    "```\n",
    "\n",
    "`\"MS Sans Serif,0\"=\"MS Sans Serif,204\"` уже есть в Windows 8. 204 - это русская кодовая страница шрифта.\n",
    "Однако в шрифте `MS Sans Serif` только латиница, а вот в `Microsoft Sans Serif` есть кириллица.\n",
    "\n",
    "\n",
    "Для единообразия рисунков, получаемых в разных ОС, можно установить шрифты, одноименные со стандартными шрифтами Linux:\n",
    "[Загрузить DejaVu fonts](http://sourceforge.net/projects/dejavu/files/latest/download?source=files)\n",
    "и в случае необходимости соответствующим образом поправить список подстановки шрифтов, чтобы он начинался с 'DejaVu Sans' (в новых версиях идет первым шрифты включены в дистрибутив, т.е. ничего делать не надо)"
   ]
  },
  {
   "cell_type": "code",
   "execution_count": 2,
   "metadata": {
    "collapsed": false
   },
   "outputs": [
    {
     "ename": "AttributeError",
     "evalue": "module 'matplotlib' has no attribute 'font_manager'",
     "output_type": "error",
     "traceback": [
      "\u001b[0;31m---------------------------------------------------------------------------\u001b[0m",
      "\u001b[0;31mAttributeError\u001b[0m                            Traceback (most recent call last)",
      "\u001b[0;32m<ipython-input-2-81b03c45b2a2>\u001b[0m in \u001b[0;36m<module>\u001b[0;34m()\u001b[0m\n\u001b[0;32m----> 1\u001b[0;31m \u001b[0mmpl\u001b[0m\u001b[0;34m.\u001b[0m\u001b[0mfont_manager\u001b[0m\u001b[0;34m.\u001b[0m\u001b[0mfindfont\u001b[0m\u001b[0;34m(\u001b[0m\u001b[0;34m'DejaVu Sans'\u001b[0m\u001b[0;34m)\u001b[0m\u001b[0;34m\u001b[0m\u001b[0m\n\u001b[0m",
      "\u001b[0;31mAttributeError\u001b[0m: module 'matplotlib' has no attribute 'font_manager'"
     ]
    }
   ],
   "source": [
    "mpl.font_manager.findfont('DejaVu Sans')"
   ]
  },
  {
   "cell_type": "markdown",
   "metadata": {},
   "source": [
    "### Настройка проверки орфографии"
   ]
  },
  {
   "cell_type": "markdown",
   "metadata": {},
   "source": [
    "Эта проблема пока не решена - поле ввода текста в блокноте не использует преимущества настроек браузера для ввода текста. Возможно это будет исправлено в следующих версиях. \n",
    "\n",
    "Пока можно использовать специальное расширение. Следуйте инструкциям http://calicoproject.org/ICalico#Installation_2\n",
    "\n",
    "Надежный вариант:\n",
    "1. Скачать во временную папку https://bitbucket.org/ipre/calico/downloads/calico-spell-check-1.0.zip \n",
    "(для работы с текстом также могут пригодиться https://bitbucket.org/ipre/calico/downloads/calico-document-tools-1.0.zip https://bitbucket.org/ipre/calico/downloads/calico-cell-tools-1.0.zip)\n",
    "\n",
    "2. В этой папке выполнить в командной строке\n",
    "```\n",
    "ipython install-nbextension calico-spell-check-1.0.zip\n",
    "```"
   ]
  },
  {
   "cell_type": "markdown",
   "metadata": {},
   "source": [
    "Установка заключается в распаковке архивов в папку `...\\Python\\share\\jupyter\\nbextensions`\n",
    "\n",
    "Для подключения к текущему блокноту:"
   ]
  },
  {
   "cell_type": "code",
   "execution_count": null,
   "metadata": {
    "collapsed": false,
    "format": "row"
   },
   "outputs": [],
   "source": [
    "%%javascript\n",
    "IPython.load_extensions('calico-spell-check'); //, 'calico-document-tools', 'calico-cell-tools');"
   ]
  },
  {
   "cell_type": "markdown",
   "metadata": {},
   "source": [
    "Для того чтобы проверка работала во всех блокнотах, добавьте строку в файл `custom.js`\n",
    "\n",
    "```js\n",
    "IPython.load_extensions('calico-spell-check');\n",
    "```\n",
    "\n",
    "Словари в папку `...\\Python\\share\\jupyter\\nbextensions\\typo\\dictionaries\\ru` можно взять из установки русской мозиллы `...\\Firefox\\extensions` или найти в интернете (подходит словарь для OpenOffice)\n",
    "\n",
    "https://addons.mozilla.org/ru/firefox/addon/russian-spellchecking-dic-3703/\n",
    "\n",
    "http://miranda-ng.org/distr/addons/Dictionaries/ru_RU.zip\n",
    "\n",
    "https://packages.debian.org/sid/hunspell-ru\n",
    "\n",
    "\n",
    "после этого надо поменять язык - он тупо прописан в коде расширения `...\\share\\jupyter\\nbextensions\\calico-spell-check.js`, примерно 106-я строка и заменить `var lang = \"en_US\";` на \n",
    "```js\n",
    "var lang = \"ru\";\n",
    "```\n",
    "\n",
    "Другой вариант - добавить еще одну кнопку для русского языка (по аналогии с той, что для английского)."
   ]
  },
  {
   "cell_type": "markdown",
   "metadata": {},
   "source": [
    "### Работа со ссылками на источники\n",
    "\n",
    "Официальный подход к занесению ссылок, совместимых с Latex \n",
    "http://nbviewer.ipython.org/github/ipython/nbconvert-examples/blob/master/citations/Tutorial.ipynb\n",
    "до конвертации в тетради будет только ссылка\n",
    "\n",
    "Оптимизрованный подход с расширением 'calico-document-tools'. Может потребовать дополнительной настройки. Список источников генерируется прямо в тетради."
   ]
  },
  {
   "cell_type": "markdown",
   "metadata": {},
   "source": [
    "### Слайд-шоу\n",
    "\n",
    "Модуль [RISE](https://github.com/damianavila/RISE)\n",
    "\n",
    "Если ошибка ```Fatal error in launcher: Unable to create process using```, то можно запустить установку исполняемым файлом `python.exe` с ключиком в папке `C:\\a\\WinPython\\python-3.5.2.amd64`.\n",
    "\n",
    "```shell\n",
    "python -m pip install rise\n",
    "```\n",
    "\n",
    "Команды установки можно выполнить внутри блокнота аналогично:\n",
    "```\n",
    "Scripts\\jupyter-nbextension install rise --py\n",
    "Scripts\\jupyter-nbextension enable rise --py\n",
    "```"
   ]
  },
  {
   "cell_type": "markdown",
   "metadata": {},
   "source": [
    "Конфигурация\n",
    "\n",
    "```json\n",
    "livereveal\n",
    "```"
   ]
  },
  {
   "cell_type": "markdown",
   "metadata": {},
   "source": [
    "Модули (расширения)\n",
    "--\n",
    "\n",
    "Общее правило: если вы пытаетесь что-то сделать теми средствами, которые уже освоили, и получается коряво и медленно, то надо поискать другой модуль, в котором это уже реализовано.\n",
    "\n",
    "Например, модуль `mplot3d`, входящий в `matplotlib`, поддерживает трехмерные графики - можно нарисовать точечки в трехмерном пространстве, поверхности, даже любые фигуры. Но если вы захотите сделать 3D-анимацию, где белковые структуры мембранного канала трансформируются при посадке на них лиганда, да еще чтобы вокруг в цитозоле плавали/летали другие молекулы, то теоретически у вас может получиться, но практически придется создавать новую подбиблиотеку. Поэтому лучше поискать специальный модуль, например [Mayavi](http://code.enthought.com/projects/mayavi/) или [MDTraj](http://mdtraj.org)."
   ]
  },
  {
   "cell_type": "markdown",
   "metadata": {},
   "source": [
    "### Оптимизация кода на Python\n",
    "\n",
    "Язык `Python` относится к *динамически прототипируемым* языкам. Это означает, что в отличие от *компилируемых* языков (статически прототипируемых) инструкции в машинных кодах для процесора, формируются в процессе выполнения. На это тратится небольшое время, но если код содержит много циклов по выполнению однотипных операций, то в результате программа работает медленнее.\n",
    "\n",
    "Однако, модули для работы с научными данными `numpy`, `scipy`, `pandas` уже оптимизированы, и если пользоваться ими правильно, то программы на `Python` практически не уступают в скорости программам на `C` и `Fortran`.\n",
    "\n",
    "Если вы разработали собственный алгоритм, и хотите оптимизировать его для запуска на больших объемах данных, то есть следующие подходы для оптимизации научных вычислений:\n",
    "\n",
    "- [Ctypes](http://docs.python.org/2/library/ctypes.html): утилиты обращения к библиотекам на `C` (например, системным библиотекам Windows), включенные в стандартную установку `Python`\n",
    "- [F2Py](http://cens.ioc.ee/projects/f2py2e/usersguide/): утилита вызова программ на `Fortran`, входящая в состав `NumPy`\n",
    "- [Cython](http://cython.org/): модуль, осуществляющий конверсию кода на `Python` с некоторыми расширениями в код на `C`\n",
    "- [Numba](http://numba.pydata.org/): модуль компиляции функций на `Python` в машинный LLVM bytecode\n",
    "\n",
    "Некоторые причины, по которым приходится прибегать к оптимизации:\n",
    "1. Иногда попытка загрузить все данные в одном массиве для использования эффективных алгоритмов векторизации  может привести к чрезмерному использованию памяти, потому что в процессе обработки используются временные массивы для хранения промежуточных результатов. Памяти может просто не хватать.\n",
    "2. Ряд задач (планирование, поиск решений) требует перебора разных заранее неизвестных вариантов, поэтому алгоритмы векторизации не подходят. Такие алгоритмы древовидно разветвляются, образуют циклы и т.д. Ради подобных сложных задач и строят высокопроизводительные компьютерные кластеры.\n",
    "3. Иногда у вас есть унаследованный код, который не хочется переписывать заново, поэтому вы лишь вызываете этот функционал из своего кода, но при этом хотите, чтобы программа работала быстрее."
   ]
  },
  {
   "cell_type": "markdown",
   "metadata": {},
   "source": [
    "Если скорость выполнения компилированного кода недостаточна, то прибегают к паралелльным вычислениям, то есть выполнение кода разделяют между несколькими процессорами. Это могут быть: \n",
    "- ядра внутри одного многоядерного центрального процессора (CPU)\n",
    "- вычислительные узлы, объединенные в кластер\n",
    "- конвееры графической карты (GPU) - самое доступное решение через платформу [CUDA](https://en.wikipedia.org/wiki/CUDA).  См. [пример использования](http://nbviewer.ipython.org/gist/harrism/f5707335f40af9463c43), дающий 2000х ускорение."
   ]
  }
 ],
 "metadata": {
  "kernelspec": {
   "display_name": "Python 3",
   "language": "python",
   "name": "python3"
  },
  "language_info": {
   "codemirror_mode": {
    "name": "ipython",
    "version": 3
   },
   "file_extension": ".py",
   "mimetype": "text/x-python",
   "name": "python",
   "nbconvert_exporter": "python",
   "pygments_lexer": "ipython3",
   "version": "3.5.2"
  }
 },
 "nbformat": 4,
 "nbformat_minor": 0
}
