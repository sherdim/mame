{
 "cells": [
  {
   "cell_type": "markdown",
   "metadata": {
    "deletable": true,
    "editable": true
   },
   "source": [
    "# Увеличение размерности"
   ]
  },
  {
   "cell_type": "markdown",
   "metadata": {
    "deletable": true,
    "editable": true
   },
   "source": [
    "При решении многомерных задач используют подход, разработанный для 1-2 размерностей. \n",
    "\n",
    "Идея остается прежней, однако вычислительная сложность растет по экспоненте.\n",
    "\n",
    "Для понимания важным является геометрическая наглядная визуализация зависимостей или алгоритма.\n",
    "Поскольку воспринимать графические визуализации более 3-х измерений сложно, то обычно ограничиваются демонстрацией перехода от 1 к 2 измерениям, а далее по аналогии."
   ]
  },
  {
   "cell_type": "markdown",
   "metadata": {
    "deletable": true,
    "editable": true
   },
   "source": [
    "Часто многомерный вариант понятия получает у математиков особое название. Для практического использования знать их не обязательно, главное понимать смысл базового одномерного понятия.\n",
    "\n",
    "| 1-мерный случай | многомерный случай\n",
    "|--\n",
    "|градиент | гессиан - определитель матрицы градиентов\n",
    "|Биномиальное распределение|Мультиномиальное распределение\n",
    "|Бета-распределение| Распределение Дирихле\n",
    "|Вариация |Ковариационная матрица\n",
    "|Критерий Уилкоксона-Манна-Уитни |Критерий Краскела-Уоллиса"
   ]
  },
  {
   "cell_type": "markdown",
   "metadata": {
    "deletable": true,
    "editable": true
   },
   "source": [
    "В некоторых случаях типичные операторы - `+ - / * **` становятся двусмысленными при повышении размерности. \n",
    "\n",
    "Например, среднее может быть для всех чисел в массиве, или для каждой колонки, или для каждой строчки. В этих случаях указываются дополнительные аргументы фукнции, обычно: `axis=0` - по колонкам, `axis=1` - по строчкам, и т.д. для более высоких размерностей."
   ]
  },
  {
   "cell_type": "markdown",
   "metadata": {
    "deletable": true,
    "editable": true
   },
   "source": [
    "Следует помнить, что все операторы в синтаксисе лишь удобный заменитель соответствующей функции, поэтому если нужно уточнить действие фукнции - можно пользоваться полным вариантом.\n",
    "\n",
    "Если нет специального математического оператора, то можно вызвать функцию.\n",
    "\n",
    "Например, возведение в степень 0.5 имеет специальную функцию `sqrt`."
   ]
  },
  {
   "cell_type": "code",
   "execution_count": null,
   "metadata": {
    "collapsed": false,
    "deletable": true,
    "editable": true
   },
   "outputs": [],
   "source": [
    "%pylab inline"
   ]
  },
  {
   "cell_type": "code",
   "execution_count": null,
   "metadata": {
    "collapsed": false,
    "deletable": true,
    "editable": true
   },
   "outputs": [],
   "source": [
    "sqrt(4)  # специальная функция"
   ]
  },
  {
   "cell_type": "code",
   "execution_count": null,
   "metadata": {
    "collapsed": false,
    "deletable": true,
    "editable": true
   },
   "outputs": [],
   "source": [
    "4 ** 0.5  # специальный оператор"
   ]
  },
  {
   "cell_type": "code",
   "execution_count": null,
   "metadata": {
    "collapsed": false,
    "deletable": true,
    "editable": true
   },
   "outputs": [],
   "source": [
    "pow(4, 0.5)  # базовая функция с аргументами"
   ]
  }
 ],
 "metadata": {
  "kernelspec": {
   "display_name": "Python 2",
   "language": "python",
   "name": "python3"
  },
  "language_info": {
   "codemirror_mode": {
    "name": "ipython",
    "version": 2
   },
   "file_extension": ".py",
   "mimetype": "text/x-python",
   "name": "python",
   "nbconvert_exporter": "python",
   "pygments_lexer": "ipython2",
   "version": "2.7.9"
  },
  "toc": {
   "colors": {
    "hover_highlight": "#DAA520",
    "running_highlight": "#FF0000",
    "selected_highlight": "#FFD700"
   },
   "moveMenuLeft": true,
   "nav_menu": {
    "height": "31px",
    "width": "252px"
   },
   "navigate_menu": true,
   "number_sections": false,
   "sideBar": true,
   "threshold": 4,
   "toc_cell": false,
   "toc_section_display": "block",
   "toc_window_display": false
  }
 },
 "nbformat": 4,
 "nbformat_minor": 2
}
