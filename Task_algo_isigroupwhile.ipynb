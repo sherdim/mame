{
 "cells": [
  {
   "cell_type": "markdown",
   "metadata": {},
   "source": [
    "### Разбиение на группы в цикле"
   ]
  },
  {
   "cell_type": "code",
   "execution_count": 1,
   "metadata": {
    "collapsed": false
   },
   "outputs": [
    {
     "name": "stdout",
     "output_type": "stream",
     "text": [
      "Populating the interactive namespace from numpy and matplotlib\n"
     ]
    }
   ],
   "source": [
    "%pylab inline"
   ]
  },
  {
   "cell_type": "code",
   "execution_count": 2,
   "metadata": {
    "collapsed": false
   },
   "outputs": [
    {
     "name": "stdout",
     "output_type": "stream",
     "text": [
      "Variable   Type       Data/Info\n",
      "-------------------------------\n",
      "lps        ndarray    45x2: 90 elems, type `float64`, 720 bytes\n"
     ]
    }
   ],
   "source": [
    "#загрузка данных\n",
    "lps=loadtxt('lps')\n",
    "%whos"
   ]
  },
  {
   "cell_type": "code",
   "execution_count": 3,
   "metadata": {
    "collapsed": false
   },
   "outputs": [
    {
     "name": "stdout",
     "output_type": "stream",
     "text": [
      "(44,)\n"
     ]
    }
   ],
   "source": [
    "tt=lps[:,0]  # моменты предъявления стимулов\n",
    "vv=lps[:,1]  # значения\n",
    "isi=diff(tt)\n",
    "\n",
    "print(isi.shape)\n",
    "#чтобы размеры совпадали добавим исскусственное значение в начало\n",
    "isi=hstack([20, isi])    # функция hstack соединяет элементы в горизонтальный массив\n",
    "\n",
    "assert len(vv)==len(isi)   # проверка того, что длина обоих массивов одинакова"
   ]
  },
  {
   "cell_type": "markdown",
   "metadata": {},
   "source": [
    "Разделим на шесть групп в цикле пока значение попадает в коридор. Набор коридоров зададим с помощью массива пороговых значений `porogi` и массива `nad`, указывающего, как относится к данному пороговому значению - контролировать, чтобы значения были над ним (`True` - Истина) или под ним (`False` - Ложь)"
   ]
  },
  {
   "cell_type": "code",
   "execution_count": 4,
   "metadata": {
    "collapsed": false
   },
   "outputs": [
    {
     "data": {
      "text/plain": [
       "6"
      ]
     },
     "execution_count": 4,
     "metadata": {},
     "output_type": "execute_result"
    }
   ],
   "source": [
    "gg=[[], [], [], [], [], []]  # заготовим пустой массив с шестью подмассивами для групп 0...5\n",
    "\n",
    "porogi=[5,     3,     3,    5,    3,    0]\n",
    "nad=[True, True, False, True, True, False]\n",
    "\n",
    "i=0   # текущая позиции в массиве\n",
    "iG=0  # номер текущей группы\n",
    "while i<len(vv):  # задаем цикл с помощью while (англ. пока), который будет продолжаться пока текущая позиция не достигнет конца массива\n",
    "    _isi=isi[i]   # временная переменная для текущего значения МСИ\n",
    "    if nad[iG] and (_isi > porogi[iG]):        # если значение в nad истинно, проверяем, выше ли текущего порога\n",
    "        pass                                   # ничего не делаем pass (англ. пропускать)\n",
    "    elif not nad[iG] and (_isi < porogi[iG]):  # проверяем, выше ли текущего порога\n",
    "        pass\n",
    "    elif iG<len(porogi)-1:\n",
    "        iG+=1                                  # если ни одно из условий не соблюдено, значит переходим в следующую группу\n",
    "        \n",
    "    \n",
    "    #print('{} => {}'.format(_isi, iG)) #for debug\n",
    "    \n",
    "    gg[iG].append(vv[i])                       # добавляем текущее значение в текущую группу\n",
    "    i+=1                                       # переходим к следующему значению\n",
    "    \n",
    "    \n",
    "len(gg)"
   ]
  },
  {
   "cell_type": "markdown",
   "metadata": {},
   "source": [
    "С помощью функции map (англ. пометить, карта) мы можем к каждому элементу массива (в нашем случае каждой из шести групп значений) применить функцию, указанную в качестве первого аргумента."
   ]
  },
  {
   "cell_type": "code",
   "execution_count": 5,
   "metadata": {
    "collapsed": false
   },
   "outputs": [
    {
     "data": {
      "text/plain": [
       "array([[ 0.38244444,  0.31385714,  0.35514286,  0.46414286,  0.456125  ,\n",
       "         0.392     ],\n",
       "       [ 0.03703485,  0.03494252,  0.07971813,  0.07636459,  0.10070556,\n",
       "         0.03509986]])"
      ]
     },
     "execution_count": 5,
     "metadata": {},
     "output_type": "execute_result"
    }
   ],
   "source": [
    "N=list(map(len,gg))\n",
    "M=list(map(mean,gg))  # расчет средних\n",
    "S=list(map(std,gg))   # расчет стандартного отклонения\n",
    "\n",
    "vstack([M,S])  # выведем друг под другом\n",
    "#save('stats', dict(N=N,M=M,S=S))"
   ]
  },
  {
   "cell_type": "markdown",
   "metadata": {},
   "source": [
    "Ошибка среднего значения уменьшается с ростом количества усредняемых значений и расчитывается по формуле \n",
    "$$SEM=\\sigma/{\\sqrt{N}}$$, где $\\sigma$ - стандартное отклонение, $N$ - количество значений"
   ]
  },
  {
   "cell_type": "code",
   "execution_count": 6,
   "metadata": {
    "collapsed": false
   },
   "outputs": [
    {
     "data": {
      "text/plain": [
       "array([ 0.01234495,  0.01320703,  0.03013062,  0.0288631 ,  0.03560479,\n",
       "        0.0132665 ])"
      ]
     },
     "execution_count": 6,
     "metadata": {},
     "output_type": "execute_result"
    }
   ],
   "source": [
    "S/sqrt(N)"
   ]
  }
 ],
 "metadata": {
  "kernelspec": {
   "display_name": "Python 3",
   "language": "python",
   "name": "python3"
  },
  "language_info": {
   "codemirror_mode": {
    "name": "ipython",
    "version": 3
   },
   "file_extension": ".py",
   "mimetype": "text/x-python",
   "name": "python",
   "nbconvert_exporter": "python",
   "pygments_lexer": "ipython3",
   "version": "3.5.2"
  }
 },
 "nbformat": 4,
 "nbformat_minor": 0
}
