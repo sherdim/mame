{
 "cells": [
  {
   "cell_type": "markdown",
   "metadata": {},
   "source": [
    "# 🗎 Кластерный анализ"
   ]
  },
  {
   "cell_type": "code",
   "execution_count": 3,
   "metadata": {
    "tags": [
     "remove-input"
    ]
   },
   "outputs": [
    {
     "data": {
      "text/markdown": [
       "> Данная расчётно-графическая работа выполняется в [программной среде Jupyter Notebook](i_sreda.ipynb).\n",
       "Если у Вас на компьютере нет установленной вычислительной среды, см. [Выполнение расчетно-графических работ онлайн](i_sredaonline.ipynb)"
      ],
      "text/plain": [
       "<IPython.core.display.Markdown object>"
      ]
     },
     "metadata": {},
     "output_type": "display_data"
    }
   ],
   "source": [
    "from IPython.display import display, Markdown\n",
    "display(Markdown(open('_prew.md', 'r', encoding='utf-8').read()))"
   ]
  },
  {
   "cell_type": "markdown",
   "metadata": {},
   "source": [
    "В этой работе Вам надо провести кластерный анализ мультипараметрических данных, в качестве которых выступают спектрограммы отдельных звуков, экспортированные по итогам спектрального анализа в файле 'spectral_data.txt'.\n",
    "\n",
    "Работа заключается в подборе параметров связи, построении дендрограммы, выделении кластеров и их визуализации на фоне временной развертки звукового сигнала.\n",
    "\n"
   ]
  },
  {
   "cell_type": "markdown",
   "metadata": {},
   "source": [
    "## Требования к отчету\n",
    "В отчете должны быть:\n",
    "1. Указание на источник данных с описанием условий получения.\n",
    "2. Удалены инструкции и всё лишнее.\n",
    "3. Каждое значение, рисунок или операция по подбору параметров снабжены комментарием.\n",
    "\n",
    "\n",
    "### Шаблон отчета\n",
    "При выполнении работы используйте блокнот-заготовку <a href=d/clu_Familia.ipynb>clu_Familia.ipynb</a>, в котором уже задана структура анализа.\n",
    "Перед сдачей удалите всё лишнее.\n",
    "Оставьте только те рисунки, которые нужны для подтверждения идеи, которую Вы хотите донести и готовы комментировать.\n"
   ]
  },
  {
   "cell_type": "code",
   "execution_count": 1,
   "metadata": {
    "tags": [
     "remove-input"
    ]
   },
   "outputs": [
    {
     "data": {
      "text/markdown": [
       "В конце отчета по расчётно-графической работе обязательно сделайте вывод.\n",
       "\n",
       "1. Основной результат. Прежде всего в выводе должен прозвучать ответ на поставленный вопрос.\n",
       "Что было целью работы, то и должно быть указано в выводе с конкретным числовым результатом.\n",
       "\n",
       "2. Ограничения данной работы. Если в ходе работе были выявлены новые обстоятельства, которые привели к изменению хода работы, к ошибкам, к необходимости переосмысления возможности ее выполнения, то эти соображения надо изложить во вторую очередь. \n",
       "\n",
       "3. Педагогические и эмоциональные замечания. Поскольку эта работа учебная, то можно поделиться впечатлениями от самого процесса решения задачи. Что было сложным, что особенно понравилось, что оказалось удивительным и неожиданным."
      ],
      "text/plain": [
       "<IPython.core.display.Markdown object>"
      ]
     },
     "metadata": {},
     "output_type": "display_data"
    }
   ],
   "source": [
    "from IPython.display import display, Markdown\n",
    "display(Markdown(open('_postw.md', 'r', encoding='utf-8').read()))"
   ]
  }
 ],
 "metadata": {
  "kernelspec": {
   "display_name": "Python 3",
   "language": "python",
   "name": "python3"
  },
  "language_info": {
   "codemirror_mode": {
    "name": "ipython",
    "version": 3
   },
   "file_extension": ".py",
   "mimetype": "text/x-python",
   "name": "python",
   "nbconvert_exporter": "python",
   "pygments_lexer": "ipython3",
   "version": "3.9.0rc1"
  }
 },
 "nbformat": 4,
 "nbformat_minor": 4
}
