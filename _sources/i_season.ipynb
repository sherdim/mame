{
 "cells": [
  {
   "cell_type": "markdown",
   "metadata": {},
   "source": [
    "# Сезонные колебания"
   ]
  },
  {
   "cell_type": "markdown",
   "metadata": {},
   "source": [
    "Если есть регулярный вброс энергии или вещества в систему, то из-за экспоненциального спада возникает чередование периодов подъема и спуска.\n",
    "Биологическое значение обычно имеет одна из этих фаз.\n",
    "\n",
    "В северном полушарии, по сути, два сезона:\n",
    "- лето - активный плодотворный период в природе\n",
    "- зима - период покоя\n",
    "\n",
    "Остальные - всего лишь переходы, однако именно в переходные периоды идет активная учеба - осенний и весенний семестры. Учеба в общественных и биологических системах - переход от незнания к знанию."
   ]
  },
  {
   "cell_type": "markdown",
   "metadata": {},
   "source": [
    "Название активного периода становится единицей счета циклов для измерения интервалов:\n",
    "- активность летом - 5 лет\n",
    "- активность днем - 5 дней\n"
   ]
  },
  {
   "cell_type": "markdown",
   "metadata": {},
   "source": [
    "На [странице](http://berkeleyearth.lbl.gov/stations/169045), откуда взят источник данных об истории измерений температуры на метеостанции Ростова-на-Дону, предложены классические графики с динамикой колебаний вдоль одной оси времени.\n",
    "\n",
    "Так как в дате содержится и год и месяц - мы можем визуализировать временной ряд в двух временных осях без вычисления каких-либо моделей."
   ]
  },
  {
   "cell_type": "code",
   "execution_count": 1,
   "metadata": {
    "tags": [
     "remove-cell"
    ]
   },
   "outputs": [
    {
     "name": "stdout",
     "output_type": "stream",
     "text": [
      "Populating the interactive namespace from numpy and matplotlib\n"
     ]
    }
   ],
   "source": [
    "%pylab inline\n",
    "import pandas as pd\n",
    "import seaborn as sns"
   ]
  },
  {
   "cell_type": "markdown",
   "metadata": {},
   "source": [
    "Поскольку информация о колонках указана в комментариях, то мы при импорте данных в таблицу указываем параметры\n",
    "- без заголовков ( `header=None,` )\n",
    "- свой перечень кратких имен (`names=[...]`)"
   ]
  },
  {
   "cell_type": "code",
   "execution_count": 2,
   "metadata": {},
   "outputs": [
    {
     "data": {
      "text/html": [
       "<div>\n",
       "<style scoped>\n",
       "    .dataframe tbody tr th:only-of-type {\n",
       "        vertical-align: middle;\n",
       "    }\n",
       "\n",
       "    .dataframe tbody tr th {\n",
       "        vertical-align: top;\n",
       "    }\n",
       "\n",
       "    .dataframe thead th {\n",
       "        text-align: right;\n",
       "    }\n",
       "</style>\n",
       "<table border=\"1\" class=\"dataframe\">\n",
       "  <thead>\n",
       "    <tr style=\"text-align: right;\">\n",
       "      <th></th>\n",
       "      <th>year</th>\n",
       "      <th>month</th>\n",
       "      <th>v0</th>\n",
       "      <th>dv0</th>\n",
       "      <th>q</th>\n",
       "      <th>br</th>\n",
       "      <th>v</th>\n",
       "      <th>dv</th>\n",
       "      <th>reg</th>\n",
       "      <th>dreg</th>\n",
       "    </tr>\n",
       "  </thead>\n",
       "  <tbody>\n",
       "    <tr>\n",
       "      <th>1536</th>\n",
       "      <td>2013</td>\n",
       "      <td>7</td>\n",
       "      <td>24.486</td>\n",
       "      <td>1.279</td>\n",
       "      <td>0.0</td>\n",
       "      <td>0.0</td>\n",
       "      <td>24.417</td>\n",
       "      <td>1.210</td>\n",
       "      <td>23.569</td>\n",
       "      <td>0.536</td>\n",
       "    </tr>\n",
       "    <tr>\n",
       "      <th>1537</th>\n",
       "      <td>2013</td>\n",
       "      <td>8</td>\n",
       "      <td>24.419</td>\n",
       "      <td>1.928</td>\n",
       "      <td>0.0</td>\n",
       "      <td>0.0</td>\n",
       "      <td>24.408</td>\n",
       "      <td>1.916</td>\n",
       "      <td>24.037</td>\n",
       "      <td>1.720</td>\n",
       "    </tr>\n",
       "    <tr>\n",
       "      <th>1538</th>\n",
       "      <td>2013</td>\n",
       "      <td>9</td>\n",
       "      <td>14.553</td>\n",
       "      <td>-2.249</td>\n",
       "      <td>0.0</td>\n",
       "      <td>0.0</td>\n",
       "      <td>14.567</td>\n",
       "      <td>-2.235</td>\n",
       "      <td>14.302</td>\n",
       "      <td>-2.325</td>\n",
       "    </tr>\n",
       "    <tr>\n",
       "      <th>1539</th>\n",
       "      <td>2013</td>\n",
       "      <td>10</td>\n",
       "      <td>8.736</td>\n",
       "      <td>-0.628</td>\n",
       "      <td>0.0</td>\n",
       "      <td>0.0</td>\n",
       "      <td>8.686</td>\n",
       "      <td>-0.678</td>\n",
       "      <td>8.523</td>\n",
       "      <td>-0.667</td>\n",
       "    </tr>\n",
       "    <tr>\n",
       "      <th>1540</th>\n",
       "      <td>2013</td>\n",
       "      <td>11</td>\n",
       "      <td>9.600</td>\n",
       "      <td>6.366</td>\n",
       "      <td>1.0</td>\n",
       "      <td>0.0</td>\n",
       "      <td>NaN</td>\n",
       "      <td>NaN</td>\n",
       "      <td>NaN</td>\n",
       "      <td>NaN</td>\n",
       "    </tr>\n",
       "  </tbody>\n",
       "</table>\n",
       "</div>"
      ],
      "text/plain": [
       "      year  month      v0    dv0    q   br       v     dv     reg   dreg\n",
       "1536  2013      7  24.486  1.279  0.0  0.0  24.417  1.210  23.569  0.536\n",
       "1537  2013      8  24.419  1.928  0.0  0.0  24.408  1.916  24.037  1.720\n",
       "1538  2013      9  14.553 -2.249  0.0  0.0  14.567 -2.235  14.302 -2.325\n",
       "1539  2013     10   8.736 -0.628  0.0  0.0   8.686 -0.678   8.523 -0.667\n",
       "1540  2013     11   9.600  6.366  1.0  0.0     NaN    NaN     NaN    NaN"
      ]
     },
     "execution_count": 2,
     "metadata": {},
     "output_type": "execute_result"
    }
   ],
   "source": [
    "# u='http://berkeleyearth.lbl.gov/auto/Stations/TAVG/Text/169045-TAVG-Data.txt'\n",
    "u='d/169045-TAVG-Data.txt'\n",
    "D = pd.read_csv(u, delim_whitespace=' ',  comment='%', header=None,\n",
    "                 names='year month v0 dv0 q br v dv reg dreg'.split())\n",
    "D.tail()"
   ]
  },
  {
   "cell_type": "markdown",
   "metadata": {},
   "source": [
    "Как мы видим, данные обрываются на дате 2013-11. В 19-м веке сбор данных также был нерегулярным. Поэтому для целей визуализации отберем колонку \"Выверенные температурные данные\" за 100 лет."
   ]
  },
  {
   "cell_type": "code",
   "execution_count": 3,
   "metadata": {},
   "outputs": [
    {
     "data": {
      "text/html": [
       "<div>\n",
       "<style scoped>\n",
       "    .dataframe tbody tr th:only-of-type {\n",
       "        vertical-align: middle;\n",
       "    }\n",
       "\n",
       "    .dataframe tbody tr th {\n",
       "        vertical-align: top;\n",
       "    }\n",
       "\n",
       "    .dataframe thead th {\n",
       "        text-align: right;\n",
       "    }\n",
       "</style>\n",
       "<table border=\"1\" class=\"dataframe\">\n",
       "  <thead>\n",
       "    <tr style=\"text-align: right;\">\n",
       "      <th></th>\n",
       "      <th>year</th>\n",
       "      <th>month</th>\n",
       "      <th>v</th>\n",
       "    </tr>\n",
       "  </thead>\n",
       "  <tbody>\n",
       "    <tr>\n",
       "      <th>330</th>\n",
       "      <td>1913</td>\n",
       "      <td>1</td>\n",
       "      <td>-4.859</td>\n",
       "    </tr>\n",
       "    <tr>\n",
       "      <th>331</th>\n",
       "      <td>1913</td>\n",
       "      <td>2</td>\n",
       "      <td>-6.552</td>\n",
       "    </tr>\n",
       "    <tr>\n",
       "      <th>332</th>\n",
       "      <td>1913</td>\n",
       "      <td>3</td>\n",
       "      <td>3.278</td>\n",
       "    </tr>\n",
       "    <tr>\n",
       "      <th>333</th>\n",
       "      <td>1913</td>\n",
       "      <td>4</td>\n",
       "      <td>12.135</td>\n",
       "    </tr>\n",
       "    <tr>\n",
       "      <th>334</th>\n",
       "      <td>1913</td>\n",
       "      <td>5</td>\n",
       "      <td>13.987</td>\n",
       "    </tr>\n",
       "  </tbody>\n",
       "</table>\n",
       "</div>"
      ],
      "text/plain": [
       "     year  month       v\n",
       "330  1913      1  -4.859\n",
       "331  1913      2  -6.552\n",
       "332  1913      3   3.278\n",
       "333  1913      4  12.135\n",
       "334  1913      5  13.987"
      ]
     },
     "execution_count": 3,
     "metadata": {},
     "output_type": "execute_result"
    }
   ],
   "source": [
    "X = D.loc[D.year>1912, ['year','month','v']]\n",
    "X.head()"
   ]
  },
  {
   "cell_type": "markdown",
   "metadata": {},
   "source": [
    "Готовим названия месяцев (для красоты)."
   ]
  },
  {
   "cell_type": "code",
   "execution_count": 5,
   "metadata": {},
   "outputs": [
    {
     "name": "stdout",
     "output_type": "stream",
     "text": [
      "янв фев мар апр май июн июл авг сен окт ноя дек\n"
     ]
    }
   ],
   "source": [
    "# так можно получить готовый список 3-буквенных названий месяцев на английском\n",
    "# momo = pd.tseries.frequencies.MONTHS\n",
    "# momo = list(map(str.capitalize, momo))\n",
    "\n",
    "# а так мы получим локализованные названия\n",
    "import locale\n",
    "locale.setlocale(locale.LC_TIME, '')\n",
    "momo=[datetime.datetime(2016,i,1).strftime('%b') for i in arange(1,13)]\n",
    "print(' '.join(momo))"
   ]
  },
  {
   "cell_type": "markdown",
   "metadata": {},
   "source": [
    "Группируя по году и месяцу, мы создаем двойной индекс, который методом `unstack()` разделяем на индекс строк и индекс колонок, получая таким образом широкую таблицу."
   ]
  },
  {
   "cell_type": "code",
   "execution_count": 6,
   "metadata": {},
   "outputs": [
    {
     "data": {
      "text/html": [
       "<div>\n",
       "<style scoped>\n",
       "    .dataframe tbody tr th:only-of-type {\n",
       "        vertical-align: middle;\n",
       "    }\n",
       "\n",
       "    .dataframe tbody tr th {\n",
       "        vertical-align: top;\n",
       "    }\n",
       "\n",
       "    .dataframe thead th {\n",
       "        text-align: right;\n",
       "    }\n",
       "</style>\n",
       "<table border=\"1\" class=\"dataframe\">\n",
       "  <thead>\n",
       "    <tr style=\"text-align: right;\">\n",
       "      <th></th>\n",
       "      <th>янв</th>\n",
       "      <th>фев</th>\n",
       "      <th>мар</th>\n",
       "      <th>апр</th>\n",
       "      <th>май</th>\n",
       "      <th>июн</th>\n",
       "      <th>июл</th>\n",
       "      <th>авг</th>\n",
       "      <th>сен</th>\n",
       "      <th>окт</th>\n",
       "      <th>ноя</th>\n",
       "      <th>дек</th>\n",
       "    </tr>\n",
       "    <tr>\n",
       "      <th>year</th>\n",
       "      <th></th>\n",
       "      <th></th>\n",
       "      <th></th>\n",
       "      <th></th>\n",
       "      <th></th>\n",
       "      <th></th>\n",
       "      <th></th>\n",
       "      <th></th>\n",
       "      <th></th>\n",
       "      <th></th>\n",
       "      <th></th>\n",
       "      <th></th>\n",
       "    </tr>\n",
       "  </thead>\n",
       "  <tbody>\n",
       "    <tr>\n",
       "      <th>1913</th>\n",
       "      <td>-4.859</td>\n",
       "      <td>-6.552</td>\n",
       "      <td>3.278</td>\n",
       "      <td>12.135</td>\n",
       "      <td>13.987</td>\n",
       "      <td>17.212</td>\n",
       "      <td>21.268</td>\n",
       "      <td>23.346</td>\n",
       "      <td>16.663</td>\n",
       "      <td>7.469</td>\n",
       "      <td>4.932</td>\n",
       "      <td>1.66</td>\n",
       "    </tr>\n",
       "    <tr>\n",
       "      <th>1914</th>\n",
       "      <td>-2.559</td>\n",
       "      <td>0.648</td>\n",
       "      <td>6.878</td>\n",
       "      <td>9.135</td>\n",
       "      <td>16.487</td>\n",
       "      <td>19.612</td>\n",
       "      <td>23.368</td>\n",
       "      <td>20.246</td>\n",
       "      <td>14.563</td>\n",
       "      <td>8.669</td>\n",
       "      <td>-2.168</td>\n",
       "      <td>-3.44</td>\n",
       "    </tr>\n",
       "    <tr>\n",
       "      <th>1915</th>\n",
       "      <td>3.141</td>\n",
       "      <td>-2.852</td>\n",
       "      <td>1.978</td>\n",
       "      <td>10.835</td>\n",
       "      <td>13.987</td>\n",
       "      <td>19.412</td>\n",
       "      <td>23.568</td>\n",
       "      <td>19.246</td>\n",
       "      <td>14.063</td>\n",
       "      <td>7.469</td>\n",
       "      <td>4.332</td>\n",
       "      <td>-0.34</td>\n",
       "    </tr>\n",
       "    <tr>\n",
       "      <th>1916</th>\n",
       "      <td>-3.059</td>\n",
       "      <td>-2.352</td>\n",
       "      <td>1.878</td>\n",
       "      <td>9.935</td>\n",
       "      <td>15.387</td>\n",
       "      <td>19.012</td>\n",
       "      <td>22.168</td>\n",
       "      <td>19.946</td>\n",
       "      <td>13.363</td>\n",
       "      <td>9.469</td>\n",
       "      <td>3.032</td>\n",
       "      <td>-2.54</td>\n",
       "    </tr>\n",
       "    <tr>\n",
       "      <th>1917</th>\n",
       "      <td>-4.459</td>\n",
       "      <td>-8.952</td>\n",
       "      <td>-0.522</td>\n",
       "      <td>11.935</td>\n",
       "      <td>13.087</td>\n",
       "      <td>20.412</td>\n",
       "      <td>21.468</td>\n",
       "      <td>21.546</td>\n",
       "      <td>15.963</td>\n",
       "      <td>10.369</td>\n",
       "      <td>7.332</td>\n",
       "      <td>-0.84</td>\n",
       "    </tr>\n",
       "  </tbody>\n",
       "</table>\n",
       "</div>"
      ],
      "text/plain": [
       "        янв    фев    мар     апр     май     июн     июл     авг     сен  \\\n",
       "year                                                                        \n",
       "1913 -4.859 -6.552  3.278  12.135  13.987  17.212  21.268  23.346  16.663   \n",
       "1914 -2.559  0.648  6.878   9.135  16.487  19.612  23.368  20.246  14.563   \n",
       "1915  3.141 -2.852  1.978  10.835  13.987  19.412  23.568  19.246  14.063   \n",
       "1916 -3.059 -2.352  1.878   9.935  15.387  19.012  22.168  19.946  13.363   \n",
       "1917 -4.459 -8.952 -0.522  11.935  13.087  20.412  21.468  21.546  15.963   \n",
       "\n",
       "         окт    ноя   дек  \n",
       "year                       \n",
       "1913   7.469  4.932  1.66  \n",
       "1914   8.669 -2.168 -3.44  \n",
       "1915   7.469  4.332 -0.34  \n",
       "1916   9.469  3.032 -2.54  \n",
       "1917  10.369  7.332 -0.84  "
      ]
     },
     "execution_count": 6,
     "metadata": {},
     "output_type": "execute_result"
    }
   ],
   "source": [
    "W = X[[\"year\", \"month\", \"v\"]].groupby(by=[\"year\", \"month\"]).max().unstack()\n",
    "W.columns=momo\n",
    "W.head()"
   ]
  },
  {
   "cell_type": "code",
   "execution_count": 7,
   "metadata": {},
   "outputs": [
    {
     "data": {
      "image/png": "[encoded data removed]",
      "text/plain": [
       "<Figure size 864x576 with 2 Axes>"
      ]
     },
     "metadata": {
      "needs_background": "light"
     },
     "output_type": "display_data"
    }
   ],
   "source": [
    "figure(figsize=(12, 8))\n",
    "sns.heatmap(W, yticklabels=8, cmap=\"coolwarm\")\n",
    "xlabel('месяц'); ylabel('год'); title('Среднемесячная температура'); "
   ]
  },
  {
   "cell_type": "markdown",
   "metadata": {},
   "source": [
    "Обратите внимание:\n",
    "- параметр `yticklabels` задает интервал между отметками по оси, чтобы метки не наезжали друг на друга;\n",
    "- дивергентная цветовая карта позволяет сосредоточиться на особо жарких и холодных месяцах;\n",
    "- зимой 1941-го и во время оккупации данные не собирались."
   ]
  },
  {
   "cell_type": "markdown",
   "metadata": {},
   "source": [
    "Если у нас стоит задача заполнить недостающие данные или спрогнозировать колебания в будущем, то в условиях стабильных предсказуемых циклов, какими являются сезонными, хороший результат дают средние значения для той же фазы цикла. \n",
    "\n",
    "В данном наборе данных для прогнозирования температуры в августе в будущем году или заполнения пропуска в 1941 году можно взять среднюю температуру в августе."
   ]
  },
  {
   "cell_type": "markdown",
   "metadata": {},
   "source": [
    "## Оценка аномалий\n",
    "\n",
    "В наборе данных есть колонка, показывающая насколько текущее значение отклоняется от ожидаемого, т.е. показывает аномальность температуры в этом месяце."
   ]
  },
  {
   "cell_type": "code",
   "execution_count": 11,
   "metadata": {},
   "outputs": [
    {
     "data": {
      "image/png": "[encoded data removed]",
      "text/plain": [
       "<Figure size 432x288 with 2 Axes>"
      ]
     },
     "metadata": {
      "needs_background": "light"
     },
     "output_type": "display_data"
    }
   ],
   "source": [
    "W_anomal = D.loc[D.year>1912,[\"year\", \"month\", \"dv\"]].groupby(by=[\"year\", \"month\"]).max().unstack() #делаем широкую таблицу\n",
    "W_anomal.columns=momo\n",
    "sns.heatmap(W_anomal, yticklabels=8, cmap=\"coolwarm\")\n",
    "xlabel('месяц'); ylabel('год'); title('Аномалия в температуре'); "
   ]
  },
  {
   "cell_type": "markdown",
   "metadata": {},
   "source": [
    "Сравним аномальность из таблицы с отклонением значений от среднего."
   ]
  },
  {
   "cell_type": "code",
   "execution_count": 9,
   "metadata": {},
   "outputs": [
    {
     "data": {
      "image/png": "[encoded data removed]",
      "text/plain": [
       "<Figure size 432x288 with 2 Axes>"
      ]
     },
     "metadata": {
      "needs_background": "light"
     },
     "output_type": "display_data"
    }
   ],
   "source": [
    "W_dev = W - W.mean()\n",
    "sns.heatmap(W_dev, yticklabels=8, cmap=\"coolwarm\")\n",
    "xlabel('месяц'); ylabel('год'); title('Отклонение от среднего'); "
   ]
  },
  {
   "cell_type": "markdown",
   "metadata": {},
   "source": [
    "По идентичности рисунков становится понятно, что \"аномальность\" именно так и рассчитали. Небольшие расхождения в нашем примере связаны с тем, что мы взяли среднее не за всю историю наблюдений, а за 100 лет."
   ]
  },
  {
   "cell_type": "markdown",
   "metadata": {},
   "source": [
    "> Обратите внимание, что в зимние месяцы температура нестабильна из года в год."
   ]
  },
  {
   "cell_type": "code",
   "execution_count": 10,
   "metadata": {},
   "outputs": [
    {
     "data": {
      "image/png": "[encoded data removed]",
      "text/plain": [
       "<Figure size 432x288 with 1 Axes>"
      ]
     },
     "metadata": {
      "needs_background": "light"
     },
     "output_type": "display_data"
    }
   ],
   "source": [
    "W.std().plot(kind='bar', title='Вариативность среднемесячных температур в течение года');"
   ]
  }
 ],
 "metadata": {
  "kernelspec": {
   "display_name": "Python 3",
   "language": "python",
   "name": "python3"
  },
  "language_info": {
   "codemirror_mode": {
    "name": "ipython",
    "version": 3
   },
   "file_extension": ".py",
   "mimetype": "text/x-python",
   "name": "python",
   "nbconvert_exporter": "python",
   "pygments_lexer": "ipython3",
   "version": "3.9.0rc1"
  }
 },
 "nbformat": 4,
 "nbformat_minor": 4
}
