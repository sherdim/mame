{
 "cells": [
  {
   "cell_type": "markdown",
   "metadata": {},
   "source": [
    "# Освоение программной среды"
   ]
  },
  {
   "cell_type": "markdown",
   "metadata": {},
   "source": [
    "В этой практической работе Вы:\n",
    "- научитесь создавать блокноты для выполнения расчетно-графических работ;\n",
    "- освоите азы программирования в виде создания переменных и функций."
   ]
  },
  {
   "cell_type": "markdown",
   "metadata": {},
   "source": [
    "## Среда для рассчётно-графических работ\n",
    "\n",
    "[Jupyter Notebook](https://jupyter.org/) - это веб-приложение с открытым исходным кодом, которое позволяет создавать и обмениваться документами, содержащими программный код, формулы, визуализации и текстовые комментарии. \n",
    "\n",
    "Jupyter Notebook предоставляет простую в использовании интерактивную среду обработки данных, поддерживающую различные языки программирования. \n",
    "Мы будем использовать популярный язык Python (\"пайтон\")."
   ]
  }
 ],
 "metadata": {
  "kernelspec": {
   "display_name": "Python 3",
   "language": "python",
   "name": "python3"
  },
  "language_info": {
   "codemirror_mode": {
    "name": "ipython",
    "version": 3
   },
   "file_extension": ".py",
   "mimetype": "text/x-python",
   "name": "python",
   "nbconvert_exporter": "python",
   "pygments_lexer": "ipython3",
   "version": "3.9.0rc1"
  },
  "toc": {
   "base_numbering": 1,
   "nav_menu": {
    "height": "345px",
    "width": "252px"
   },
   "number_sections": false,
   "sideBar": false,
   "skip_h1_title": false,
   "title_cell": "Table of Contents",
   "title_sidebar": "Contents",
   "toc_cell": false,
   "toc_position": {
    "height": "599px",
    "left": "1px",
    "right": "800px",
    "top": "107px",
    "width": "190px"
   },
   "toc_section_display": false,
   "toc_window_display": false
  }
 },
 "nbformat": 4,
 "nbformat_minor": 4
}
