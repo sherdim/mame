{
 "cells": [
  {
   "cell_type": "markdown",
   "metadata": {},
   "source": [
    "(rename)=\n",
    "# Как переименовать блокнот?"
   ]
  },
  {
   "cell_type": "markdown",
   "metadata": {},
   "source": [
    "В меню блокнота выберите \"File \\ Rename...\"\n",
    "Измените имя и подтвердите изменения кнопкой Rename."
   ]
  },
  {
   "cell_type": "markdown",
   "metadata": {},
   "source": [
    "Если Вы работает в интерфейса JupyterLab, то вызовите контекстное меню на ярлыке блокнота. В меню выберите пункт \"File \\ Rename Notebook...\""
   ]
  },
  {
   "cell_type": "markdown",
   "metadata": {},
   "source": [
    "Если Вы хотите сохранить исходную версия блокнота, то сохраните копию блокнота под новым именем: \"File \\ Save As...\" (\"File \\ Save Notebook As...\" в JupyterLab)."
   ]
  }
 ],
 "metadata": {
  "kernelspec": {
   "display_name": "Python 3",
   "language": "python",
   "name": "python3"
  },
  "language_info": {
   "codemirror_mode": {
    "name": "ipython",
    "version": 3
   },
   "file_extension": ".py",
   "mimetype": "text/x-python",
   "name": "python",
   "nbconvert_exporter": "python",
   "pygments_lexer": "ipython3",
   "version": "3.9.0rc1"
  }
 },
 "nbformat": 4,
 "nbformat_minor": 4
}
