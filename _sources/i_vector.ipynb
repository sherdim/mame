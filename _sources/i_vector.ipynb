{
 "cells": [
  {
   "cell_type": "markdown",
   "metadata": {},
   "source": [
    "# Составные типы данных"
   ]
  },
  {
   "cell_type": "markdown",
   "metadata": {},
   "source": [
    "При обработке массивов чисел есть несколько подходов.\n",
    "\n",
    "Рассмострим несколько типов составных переменных и взаимосвязи между ними.\n",
    "\n",
    "В качестве данных будем использовать текстовый файл с данными по времени реакции (reaction time, RT)."
   ]
  },
  {
   "cell_type": "code",
   "execution_count": 1,
   "metadata": {
    "collapsed": false,
    "jupyter": {
     "outputs_hidden": false
    }
   },
   "outputs": [
    {
     "name": "stdout",
     "output_type": "stream",
     "text": [
      "t\tv\n",
      "9.585\t0.429\n",
      "16.368\t0.335\n",
      "23.729\t0.357\n",
      "30.93\t0.373\n",
      "40.303\t0.439\n",
      "46.804\t0.402\n",
      "55.448\t0.382\n",
      " ...\n"
     ]
    }
   ],
   "source": [
    "u='d/rt.tsv'\n",
    "print(open(u).read(93)+' ...')"
   ]
  },
  {
   "cell_type": "markdown",
   "metadata": {},
   "source": [
    "## 1. Список\n",
    "Входит в базовый комплект `Python` и не требует импорта библиотек.\n",
    "\n",
    "Достоинство - универсальность, недостатки - требует перебора входящих элементов, ибо никак не предполагает их единообразия: в одном списке могут быть и числа, и строки, и сложные объекты."
   ]
  },
  {
   "cell_type": "code",
   "execution_count": 2,
   "metadata": {
    "collapsed": false,
    "jupyter": {
     "outputs_hidden": false
    },
    "tags": [
     "output_scroll"
    ]
   },
   "outputs": [
    {
     "name": "stdout",
     "output_type": "stream",
     "text": [
      "Строка заголовков:     t\tv\n",
      "\n"
     ]
    },
    {
     "data": {
      "text/plain": [
       "[0.429,\n",
       " 0.335,\n",
       " 0.357,\n",
       " 0.373,\n",
       " 0.439,\n",
       " 0.402,\n",
       " 0.382,\n",
       " 0.325,\n",
       " 0.4,\n",
       " 0.303,\n",
       " 0.349,\n",
       " nan,\n",
       " 0.285,\n",
       " 0.288,\n",
       " 0.308,\n",
       " 0.282,\n",
       " 0.382,\n",
       " 0.338,\n",
       " 0.307,\n",
       " 0.514,\n",
       " 0.287,\n",
       " 0.316,\n",
       " 0.29,\n",
       " 0.434,\n",
       " nan,\n",
       " nan,\n",
       " 0.622,\n",
       " 0.402,\n",
       " 0.393,\n",
       " 0.471,\n",
       " 0.411,\n",
       " 0.431,\n",
       " 0.519,\n",
       " 0.37,\n",
       " 0.412,\n",
       " 0.385,\n",
       " 0.513,\n",
       " 0.389,\n",
       " 0.439,\n",
       " 0.443,\n",
       " 0.698,\n",
       " 0.473,\n",
       " 0.377,\n",
       " 0.372,\n",
       " 0.357,\n",
       " 0.378,\n",
       " 0.391,\n",
       " 0.396]"
      ]
     },
     "execution_count": 2,
     "metadata": {},
     "output_type": "execute_result"
    }
   ],
   "source": [
    "#создаем пустой список\n",
    "vv=[]\n",
    "\n",
    "#открываем файл\n",
    "with open(u) as f:\n",
    "    #пропускаем строку заголовков\n",
    "    print('Строка заголовков:     ' + f.readline())\n",
    "    # из каждой строчки извлекаем число между 1-м и 2-м пробелами или табуляциями (2-ю колонку)\n",
    "    for l in f.readlines():\n",
    "#       print(v)  # выводит на экран каждую строку, если разкомментировать\n",
    "        v = l.split()[1]\n",
    "        vv.append(float(v))\n",
    "        \n",
    "vv        "
   ]
  },
  {
   "cell_type": "markdown",
   "metadata": {
    "tags": [
     "scroll-output"
    ]
   },
   "source": [
    "У списка есть только длина, но в его состав могут входить другие списки."
   ]
  },
  {
   "cell_type": "code",
   "execution_count": 3,
   "metadata": {
    "collapsed": false,
    "jupyter": {
     "outputs_hidden": false
    }
   },
   "outputs": [
    {
     "data": {
      "text/plain": [
       "48"
      ]
     },
     "execution_count": 3,
     "metadata": {},
     "output_type": "execute_result"
    }
   ],
   "source": [
    "len(vv)"
   ]
  },
  {
   "cell_type": "markdown",
   "metadata": {},
   "source": [
    "Сгруппируем список из 6 списочков по 8 значений в каждом."
   ]
  },
  {
   "cell_type": "code",
   "execution_count": 4,
   "metadata": {
    "collapsed": false,
    "jupyter": {
     "outputs_hidden": false
    }
   },
   "outputs": [
    {
     "data": {
      "text/plain": [
       "[[0.429, 0.335, 0.357, 0.373, 0.439, 0.402, 0.382, 0.325],\n",
       " [0.4, 0.303, 0.349, nan, 0.285, 0.288, 0.308, 0.282],\n",
       " [0.382, 0.338, 0.307, 0.514, 0.287, 0.316, 0.29, 0.434],\n",
       " [nan, nan, 0.622, 0.402, 0.393, 0.471, 0.411, 0.431],\n",
       " [0.519, 0.37, 0.412, 0.385, 0.513, 0.389, 0.439, 0.443],\n",
       " [0.698, 0.473, 0.377, 0.372, 0.357, 0.378, 0.391, 0.396]]"
      ]
     },
     "execution_count": 4,
     "metadata": {},
     "output_type": "execute_result"
    }
   ],
   "source": [
    "vv6x8 = []\n",
    "i = 0 #текущая позиция\n",
    "for igroup in range(6):\n",
    "    v1 = vv[i:i+8]\n",
    "    vv6x8.append(v1)\n",
    "    i += 8 #сдвигаемся к началу следующей группы\n",
    "        \n",
    "vv6x8"
   ]
  },
  {
   "cell_type": "markdown",
   "metadata": {},
   "source": [
    "Необходимо правильно рассчитывать размеры, и проверять крайние группы, чтобы при указании индексов не выйти за пределы массива.\n",
    "\n",
    "Из функций обработки в чистом `Python` есть только сумма. Вот так можно посчитать средние значения для каждой группы."
   ]
  },
  {
   "cell_type": "code",
   "execution_count": 5,
   "metadata": {
    "collapsed": false,
    "jupyter": {
     "outputs_hidden": false
    }
   },
   "outputs": [
    {
     "data": {
      "text/plain": [
       "[0.38025000000000003, nan, 0.3585, nan, 0.43375, 0.43025]"
      ]
     },
     "execution_count": 5,
     "metadata": {},
     "output_type": "execute_result"
    }
   ],
   "source": [
    "[sum(gr)/len(gr) for gr in vv6x8]"
   ]
  },
  {
   "cell_type": "markdown",
   "metadata": {},
   "source": [
    "## 2. Numpy Array\n",
    "\n",
    "Массивы чисел, с которыми можно обращаться как с единым целым. Библиотека `numpy` включает функции линейной алгебры для работы с матрицами.\n",
    "\n",
    "Типичный импорт в виде `np`."
   ]
  },
  {
   "cell_type": "code",
   "execution_count": 6,
   "metadata": {},
   "outputs": [],
   "source": [
    "import numpy as np\n",
    "np.set_printoptions(suppress=True)  #не использовать научную нотацию"
   ]
  },
  {
   "cell_type": "markdown",
   "metadata": {},
   "source": [
    "В `numpy` есть функция загрузки таблиц с числами `loadtxt`. Поскольку в нашем файле есть заголовки (строки, а не числа) и колонки с нечисловыми значениями, то указываем дополнительные параметры: пропустить 1 ряд, использовать 2-ю колонку."
   ]
  },
  {
   "cell_type": "code",
   "execution_count": 7,
   "metadata": {
    "collapsed": false,
    "jupyter": {
     "outputs_hidden": false
    }
   },
   "outputs": [
    {
     "data": {
      "text/plain": [
       "array([0.429, 0.335, 0.357, 0.373, 0.439, 0.402, 0.382, 0.325, 0.4  ,\n",
       "       0.303, 0.349,   nan, 0.285, 0.288, 0.308, 0.282, 0.382, 0.338,\n",
       "       0.307, 0.514, 0.287, 0.316, 0.29 , 0.434,   nan,   nan, 0.622,\n",
       "       0.402, 0.393, 0.471, 0.411, 0.431, 0.519, 0.37 , 0.412, 0.385,\n",
       "       0.513, 0.389, 0.439, 0.443, 0.698, 0.473, 0.377, 0.372, 0.357,\n",
       "       0.378, 0.391, 0.396])"
      ]
     },
     "execution_count": 7,
     "metadata": {},
     "output_type": "execute_result"
    }
   ],
   "source": [
    "x = np.loadtxt(u, skiprows=1, usecols=(1,))\n",
    "x"
   ]
  },
  {
   "cell_type": "code",
   "execution_count": 8,
   "metadata": {
    "collapsed": false,
    "jupyter": {
     "outputs_hidden": false
    }
   },
   "outputs": [
    {
     "data": {
      "text/plain": [
       "(48,)"
      ]
     },
     "execution_count": 8,
     "metadata": {},
     "output_type": "execute_result"
    }
   ],
   "source": [
    "x.shape"
   ]
  },
  {
   "cell_type": "markdown",
   "metadata": {},
   "source": [
    "Массивы чисел в `numpy` могут иметь много измерений. Чтобы изменить форму массива, достаточно указать новые размеры по нужным измерениям."
   ]
  },
  {
   "cell_type": "code",
   "execution_count": 9,
   "metadata": {
    "collapsed": false,
    "jupyter": {
     "outputs_hidden": false
    }
   },
   "outputs": [
    {
     "data": {
      "text/plain": [
       "array([[0.429, 0.335, 0.357, 0.373, 0.439, 0.402, 0.382, 0.325],\n",
       "       [0.4  , 0.303, 0.349,   nan, 0.285, 0.288, 0.308, 0.282],\n",
       "       [0.382, 0.338, 0.307, 0.514, 0.287, 0.316, 0.29 , 0.434],\n",
       "       [  nan,   nan, 0.622, 0.402, 0.393, 0.471, 0.411, 0.431],\n",
       "       [0.519, 0.37 , 0.412, 0.385, 0.513, 0.389, 0.439, 0.443],\n",
       "       [0.698, 0.473, 0.377, 0.372, 0.357, 0.378, 0.391, 0.396]])"
      ]
     },
     "execution_count": 9,
     "metadata": {},
     "output_type": "execute_result"
    }
   ],
   "source": [
    "X = x.reshape(-1,8)\n",
    "X"
   ]
  },
  {
   "cell_type": "code",
   "execution_count": 10,
   "metadata": {
    "collapsed": false,
    "jupyter": {
     "outputs_hidden": false
    }
   },
   "outputs": [
    {
     "data": {
      "text/plain": [
       "(6, 8)"
      ]
     },
     "execution_count": 10,
     "metadata": {},
     "output_type": "execute_result"
    }
   ],
   "source": [
    "X.shape"
   ]
  },
  {
   "cell_type": "code",
   "execution_count": 11,
   "metadata": {
    "collapsed": false,
    "jupyter": {
     "outputs_hidden": false
    }
   },
   "outputs": [
    {
     "data": {
      "text/plain": [
       "numpy.ndarray"
      ]
     },
     "execution_count": 11,
     "metadata": {},
     "output_type": "execute_result"
    }
   ],
   "source": [
    "type(X)"
   ]
  },
  {
   "cell_type": "markdown",
   "metadata": {},
   "source": [
    "Мы получили шесть групп значений, но в двух группах есть пропуски, помеченные `nan`. Чтобы пустые значения не мешали в вычислениях, можно сделать маску, которая исключит помеченные значения из вычислений."
   ]
  },
  {
   "cell_type": "code",
   "execution_count": 12,
   "metadata": {},
   "outputs": [
    {
     "data": {
      "text/plain": [
       "numpy.ma.core.MaskedArray"
      ]
     },
     "execution_count": 12,
     "metadata": {},
     "output_type": "execute_result"
    }
   ],
   "source": [
    "Xmask = np.ma.masked_array(X, np.isnan(X))\n",
    "type(Xmask)"
   ]
  },
  {
   "cell_type": "markdown",
   "metadata": {},
   "source": [
    "С массивом можно обращаться к с единым целым. При этом можно применять разные операции к колонкам и строчкам. В случае необходимости менять форму и переворачивать (транспонировать).\n",
    "\n",
    "Есть методы для базовой статистики."
   ]
  },
  {
   "cell_type": "code",
   "execution_count": 13,
   "metadata": {
    "collapsed": false,
    "jupyter": {
     "outputs_hidden": false
    }
   },
   "outputs": [
    {
     "data": {
      "text/plain": [
       "nan"
      ]
     },
     "execution_count": 13,
     "metadata": {},
     "output_type": "execute_result"
    }
   ],
   "source": [
    "X.mean()"
   ]
  },
  {
   "cell_type": "code",
   "execution_count": 14,
   "metadata": {
    "collapsed": false,
    "jupyter": {
     "outputs_hidden": false
    }
   },
   "outputs": [
    {
     "data": {
      "text/plain": [
       "array([0.38025,     nan, 0.3585 ,     nan, 0.43375, 0.43025])"
      ]
     },
     "execution_count": 14,
     "metadata": {},
     "output_type": "execute_result"
    }
   ],
   "source": [
    "X.mean(axis=1)"
   ]
  },
  {
   "cell_type": "code",
   "execution_count": 15,
   "metadata": {
    "collapsed": false,
    "jupyter": {
     "outputs_hidden": false
    }
   },
   "outputs": [
    {
     "data": {
      "text/plain": [
       "masked_array(data=[0.38025, 0.3164285714285714, 0.3585, 0.455,\n",
       "                   0.43374999999999997, 0.43025],\n",
       "             mask=[False, False, False, False, False, False],\n",
       "       fill_value=1e+20)"
      ]
     },
     "execution_count": 15,
     "metadata": {},
     "output_type": "execute_result"
    }
   ],
   "source": [
    "Xmask.mean(axis=1)"
   ]
  },
  {
   "cell_type": "code",
   "execution_count": 16,
   "metadata": {
    "collapsed": false,
    "jupyter": {
     "outputs_hidden": false
    }
   },
   "outputs": [
    {
     "data": {
      "text/plain": [
       "masked_array(data=[0.38, 0.32, 0.36, 0.46, 0.43, 0.43],\n",
       "             mask=[False, False, False, False, False, False],\n",
       "       fill_value=1e+20)"
      ]
     },
     "execution_count": 16,
     "metadata": {},
     "output_type": "execute_result"
    }
   ],
   "source": [
    "Xmask.mean(axis=1).round(2)"
   ]
  },
  {
   "cell_type": "markdown",
   "metadata": {},
   "source": [
    "Наличие пустых значений - типичная ситуация при анализе данных, поэтому созданы специальные функции для работы с `nan`."
   ]
  },
  {
   "cell_type": "code",
   "execution_count": 17,
   "metadata": {
    "collapsed": false,
    "jupyter": {
     "outputs_hidden": false
    }
   },
   "outputs": [
    {
     "data": {
      "text/plain": [
       "array([0.38, 0.32, 0.36, 0.46, 0.43, 0.43])"
      ]
     },
     "execution_count": 17,
     "metadata": {},
     "output_type": "execute_result"
    }
   ],
   "source": [
    "np.nanmean(X, axis=1).round(2)"
   ]
  },
  {
   "cell_type": "code",
   "execution_count": 18,
   "metadata": {
    "collapsed": false,
    "jupyter": {
     "outputs_hidden": false
    }
   },
   "outputs": [
    {
     "data": {
      "text/plain": [
       "array([0.38, 0.32, 0.36, 0.46, 0.43, 0.43])"
      ]
     },
     "execution_count": 18,
     "metadata": {},
     "output_type": "execute_result"
    }
   ],
   "source": [
    "np.nanmean(X.T, axis=0).round(2)"
   ]
  },
  {
   "cell_type": "markdown",
   "metadata": {},
   "source": [
    "Свойство `.T` (T большое) - транспонирование."
   ]
  },
  {
   "cell_type": "markdown",
   "metadata": {},
   "source": [
    "Очень удобно выполнять действия с несколькими массивами. При этом автоматически подбираются соответствия между количеством значений в каждом ({numref}`numpy_broadcasting`)."
   ]
  },
  {
   "cell_type": "markdown",
   "metadata": {},
   "source": [
    ":::{figure} numpy_broadcasting\n",
    "![](i/numpy_broadcasting.png)\n",
    "\n",
    "Распределенное соответствие размеров при операциях с массивами.\n",
    ":::"
   ]
  },
  {
   "cell_type": "markdown",
   "metadata": {},
   "source": [
    "Например, нормализуем массив - вычтем среднее и разделим на стандартное отклонение каждую строчку."
   ]
  },
  {
   "cell_type": "code",
   "execution_count": 19,
   "metadata": {
    "collapsed": false,
    "jupyter": {
     "outputs_hidden": false
    }
   },
   "outputs": [
    {
     "data": {
      "text/plain": [
       "array([[ 1.259, -1.168, -0.6  , -0.187,  1.517,  0.562,  0.045, -1.427],\n",
       "       [ 2.082, -0.335,  0.811,    nan, -0.783, -0.708, -0.21 , -0.858],\n",
       "       [ 0.313, -0.273, -0.686,  2.071, -0.952, -0.566, -0.912,  1.005],\n",
       "       [   nan,    nan,  2.118, -0.672, -0.786,  0.203, -0.558, -0.304],\n",
       "       [ 1.605, -1.2  , -0.409, -0.918,  1.492, -0.842,  0.099,  0.174],\n",
       "       [ 2.517,  0.402, -0.501, -0.547, -0.688, -0.491, -0.369, -0.322]])"
      ]
     },
     "execution_count": 19,
     "metadata": {},
     "output_type": "execute_result"
    }
   ],
   "source": [
    "Xnorm = np.array((Xmask.T - Xmask.T.mean(axis=0))/Xmask.T.std(axis=0)).T.round(3)\n",
    "Xnorm"
   ]
  },
  {
   "cell_type": "markdown",
   "metadata": {},
   "source": [
    "Массив можно редуцировать до списка."
   ]
  },
  {
   "cell_type": "code",
   "execution_count": 39,
   "metadata": {
    "collapsed": false,
    "jupyter": {
     "outputs_hidden": false
    }
   },
   "outputs": [
    {
     "data": {
      "text/plain": [
       "[[1.259, -1.168, -0.6, -0.187, 1.517, 0.562, 0.045, -1.427],\n",
       " [2.082, -0.335, 0.811, nan, -0.783, -0.708, -0.21, -0.858],\n",
       " [0.313, -0.273, -0.686, 2.071, -0.952, -0.566, -0.912, 1.005],\n",
       " [nan, nan, 2.118, -0.672, -0.786, 0.203, -0.558, -0.304],\n",
       " [1.605, -1.2, -0.409, -0.918, 1.492, -0.842, 0.099, 0.174],\n",
       " [2.517, 0.402, -0.501, -0.547, -0.688, -0.491, -0.369, -0.322]]"
      ]
     },
     "execution_count": 39,
     "metadata": {},
     "output_type": "execute_result"
    }
   ],
   "source": [
    "Xnorm.tolist()"
   ]
  },
  {
   "cell_type": "code",
   "execution_count": 40,
   "metadata": {
    "collapsed": false,
    "jupyter": {
     "outputs_hidden": false
    }
   },
   "outputs": [
    {
     "data": {
      "text/plain": [
       "list"
      ]
     },
     "execution_count": 40,
     "metadata": {},
     "output_type": "execute_result"
    }
   ],
   "source": [
    "type(_)"
   ]
  },
  {
   "cell_type": "markdown",
   "metadata": {},
   "source": [
    "##  3. Pandas DataFrame\n",
    "\n",
    "Для работы со структурированными данными библиотека `pandas` предлагает структуры:\n",
    "- 1-мерная Series\n",
    "- 2-мерная DataFrame\n",
    "\n",
    "Рекомендуемый способ представления трех- и более мерных данных - использовать таблицы с многоуровневым индексом (MultiIndex).\n",
    "\n",
    "Типичный импорт в виде `pd`. Библиотека включает массу функций для удобного обращения с файлами, датами, статистикой и рисунками."
   ]
  },
  {
   "cell_type": "code",
   "execution_count": 22,
   "metadata": {},
   "outputs": [],
   "source": [
    "import pandas as pd"
   ]
  },
  {
   "cell_type": "code",
   "execution_count": 23,
   "metadata": {
    "collapsed": false,
    "jupyter": {
     "outputs_hidden": false
    },
    "tags": [
     "output_scroll"
    ]
   },
   "outputs": [
    {
     "data": {
      "text/html": [
       "<div>\n",
       "<style scoped>\n",
       "    .dataframe tbody tr th:only-of-type {\n",
       "        vertical-align: middle;\n",
       "    }\n",
       "\n",
       "    .dataframe tbody tr th {\n",
       "        vertical-align: top;\n",
       "    }\n",
       "\n",
       "    .dataframe thead th {\n",
       "        text-align: right;\n",
       "    }\n",
       "</style>\n",
       "<table border=\"1\" class=\"dataframe\">\n",
       "  <thead>\n",
       "    <tr style=\"text-align: right;\">\n",
       "      <th></th>\n",
       "      <th>t</th>\n",
       "      <th>v</th>\n",
       "    </tr>\n",
       "  </thead>\n",
       "  <tbody>\n",
       "    <tr>\n",
       "      <th>0</th>\n",
       "      <td>9.585</td>\n",
       "      <td>0.429</td>\n",
       "    </tr>\n",
       "    <tr>\n",
       "      <th>1</th>\n",
       "      <td>16.368</td>\n",
       "      <td>0.335</td>\n",
       "    </tr>\n",
       "    <tr>\n",
       "      <th>2</th>\n",
       "      <td>23.729</td>\n",
       "      <td>0.357</td>\n",
       "    </tr>\n",
       "    <tr>\n",
       "      <th>3</th>\n",
       "      <td>30.930</td>\n",
       "      <td>0.373</td>\n",
       "    </tr>\n",
       "    <tr>\n",
       "      <th>4</th>\n",
       "      <td>40.303</td>\n",
       "      <td>0.439</td>\n",
       "    </tr>\n",
       "    <tr>\n",
       "      <th>5</th>\n",
       "      <td>46.804</td>\n",
       "      <td>0.402</td>\n",
       "    </tr>\n",
       "    <tr>\n",
       "      <th>6</th>\n",
       "      <td>55.448</td>\n",
       "      <td>0.382</td>\n",
       "    </tr>\n",
       "    <tr>\n",
       "      <th>7</th>\n",
       "      <td>62.401</td>\n",
       "      <td>0.325</td>\n",
       "    </tr>\n",
       "    <tr>\n",
       "      <th>8</th>\n",
       "      <td>68.910</td>\n",
       "      <td>0.400</td>\n",
       "    </tr>\n",
       "    <tr>\n",
       "      <th>9</th>\n",
       "      <td>73.463</td>\n",
       "      <td>0.303</td>\n",
       "    </tr>\n",
       "    <tr>\n",
       "      <th>10</th>\n",
       "      <td>77.697</td>\n",
       "      <td>0.349</td>\n",
       "    </tr>\n",
       "    <tr>\n",
       "      <th>11</th>\n",
       "      <td>81.661</td>\n",
       "      <td>NaN</td>\n",
       "    </tr>\n",
       "    <tr>\n",
       "      <th>12</th>\n",
       "      <td>86.385</td>\n",
       "      <td>0.285</td>\n",
       "    </tr>\n",
       "    <tr>\n",
       "      <th>13</th>\n",
       "      <td>90.470</td>\n",
       "      <td>0.288</td>\n",
       "    </tr>\n",
       "    <tr>\n",
       "      <th>14</th>\n",
       "      <td>95.114</td>\n",
       "      <td>0.308</td>\n",
       "    </tr>\n",
       "    <tr>\n",
       "      <th>15</th>\n",
       "      <td>99.548</td>\n",
       "      <td>0.282</td>\n",
       "    </tr>\n",
       "    <tr>\n",
       "      <th>16</th>\n",
       "      <td>104.056</td>\n",
       "      <td>0.382</td>\n",
       "    </tr>\n",
       "    <tr>\n",
       "      <th>17</th>\n",
       "      <td>105.844</td>\n",
       "      <td>0.338</td>\n",
       "    </tr>\n",
       "    <tr>\n",
       "      <th>18</th>\n",
       "      <td>107.955</td>\n",
       "      <td>0.307</td>\n",
       "    </tr>\n",
       "    <tr>\n",
       "      <th>19</th>\n",
       "      <td>109.636</td>\n",
       "      <td>0.514</td>\n",
       "    </tr>\n",
       "    <tr>\n",
       "      <th>20</th>\n",
       "      <td>111.487</td>\n",
       "      <td>0.287</td>\n",
       "    </tr>\n",
       "    <tr>\n",
       "      <th>21</th>\n",
       "      <td>113.394</td>\n",
       "      <td>0.316</td>\n",
       "    </tr>\n",
       "    <tr>\n",
       "      <th>22</th>\n",
       "      <td>115.732</td>\n",
       "      <td>0.290</td>\n",
       "    </tr>\n",
       "    <tr>\n",
       "      <th>23</th>\n",
       "      <td>117.612</td>\n",
       "      <td>0.434</td>\n",
       "    </tr>\n",
       "    <tr>\n",
       "      <th>24</th>\n",
       "      <td>128.119</td>\n",
       "      <td>NaN</td>\n",
       "    </tr>\n",
       "    <tr>\n",
       "      <th>25</th>\n",
       "      <td>135.000</td>\n",
       "      <td>NaN</td>\n",
       "    </tr>\n",
       "    <tr>\n",
       "      <th>26</th>\n",
       "      <td>143.557</td>\n",
       "      <td>0.622</td>\n",
       "    </tr>\n",
       "    <tr>\n",
       "      <th>27</th>\n",
       "      <td>151.932</td>\n",
       "      <td>0.402</td>\n",
       "    </tr>\n",
       "    <tr>\n",
       "      <th>28</th>\n",
       "      <td>160.933</td>\n",
       "      <td>0.393</td>\n",
       "    </tr>\n",
       "    <tr>\n",
       "      <th>29</th>\n",
       "      <td>168.975</td>\n",
       "      <td>0.471</td>\n",
       "    </tr>\n",
       "    <tr>\n",
       "      <th>30</th>\n",
       "      <td>177.819</td>\n",
       "      <td>0.411</td>\n",
       "    </tr>\n",
       "    <tr>\n",
       "      <th>31</th>\n",
       "      <td>184.975</td>\n",
       "      <td>0.431</td>\n",
       "    </tr>\n",
       "    <tr>\n",
       "      <th>32</th>\n",
       "      <td>191.480</td>\n",
       "      <td>0.519</td>\n",
       "    </tr>\n",
       "    <tr>\n",
       "      <th>33</th>\n",
       "      <td>195.884</td>\n",
       "      <td>0.370</td>\n",
       "    </tr>\n",
       "    <tr>\n",
       "      <th>34</th>\n",
       "      <td>199.594</td>\n",
       "      <td>0.412</td>\n",
       "    </tr>\n",
       "    <tr>\n",
       "      <th>35</th>\n",
       "      <td>203.637</td>\n",
       "      <td>0.385</td>\n",
       "    </tr>\n",
       "    <tr>\n",
       "      <th>36</th>\n",
       "      <td>207.373</td>\n",
       "      <td>0.513</td>\n",
       "    </tr>\n",
       "    <tr>\n",
       "      <th>37</th>\n",
       "      <td>211.929</td>\n",
       "      <td>0.389</td>\n",
       "    </tr>\n",
       "    <tr>\n",
       "      <th>38</th>\n",
       "      <td>216.615</td>\n",
       "      <td>0.439</td>\n",
       "    </tr>\n",
       "    <tr>\n",
       "      <th>39</th>\n",
       "      <td>219.947</td>\n",
       "      <td>0.443</td>\n",
       "    </tr>\n",
       "    <tr>\n",
       "      <th>40</th>\n",
       "      <td>224.455</td>\n",
       "      <td>0.698</td>\n",
       "    </tr>\n",
       "    <tr>\n",
       "      <th>41</th>\n",
       "      <td>226.741</td>\n",
       "      <td>0.473</td>\n",
       "    </tr>\n",
       "    <tr>\n",
       "      <th>42</th>\n",
       "      <td>228.837</td>\n",
       "      <td>0.377</td>\n",
       "    </tr>\n",
       "    <tr>\n",
       "      <th>43</th>\n",
       "      <td>230.642</td>\n",
       "      <td>0.372</td>\n",
       "    </tr>\n",
       "    <tr>\n",
       "      <th>44</th>\n",
       "      <td>232.313</td>\n",
       "      <td>0.357</td>\n",
       "    </tr>\n",
       "    <tr>\n",
       "      <th>45</th>\n",
       "      <td>234.108</td>\n",
       "      <td>0.378</td>\n",
       "    </tr>\n",
       "    <tr>\n",
       "      <th>46</th>\n",
       "      <td>235.799</td>\n",
       "      <td>0.391</td>\n",
       "    </tr>\n",
       "    <tr>\n",
       "      <th>47</th>\n",
       "      <td>238.050</td>\n",
       "      <td>0.396</td>\n",
       "    </tr>\n",
       "  </tbody>\n",
       "</table>\n",
       "</div>"
      ],
      "text/plain": [
       "          t      v\n",
       "0     9.585  0.429\n",
       "1    16.368  0.335\n",
       "2    23.729  0.357\n",
       "3    30.930  0.373\n",
       "4    40.303  0.439\n",
       "5    46.804  0.402\n",
       "6    55.448  0.382\n",
       "7    62.401  0.325\n",
       "8    68.910  0.400\n",
       "9    73.463  0.303\n",
       "10   77.697  0.349\n",
       "11   81.661    NaN\n",
       "12   86.385  0.285\n",
       "13   90.470  0.288\n",
       "14   95.114  0.308\n",
       "15   99.548  0.282\n",
       "16  104.056  0.382\n",
       "17  105.844  0.338\n",
       "18  107.955  0.307\n",
       "19  109.636  0.514\n",
       "20  111.487  0.287\n",
       "21  113.394  0.316\n",
       "22  115.732  0.290\n",
       "23  117.612  0.434\n",
       "24  128.119    NaN\n",
       "25  135.000    NaN\n",
       "26  143.557  0.622\n",
       "27  151.932  0.402\n",
       "28  160.933  0.393\n",
       "29  168.975  0.471\n",
       "30  177.819  0.411\n",
       "31  184.975  0.431\n",
       "32  191.480  0.519\n",
       "33  195.884  0.370\n",
       "34  199.594  0.412\n",
       "35  203.637  0.385\n",
       "36  207.373  0.513\n",
       "37  211.929  0.389\n",
       "38  216.615  0.439\n",
       "39  219.947  0.443\n",
       "40  224.455  0.698\n",
       "41  226.741  0.473\n",
       "42  228.837  0.377\n",
       "43  230.642  0.372\n",
       "44  232.313  0.357\n",
       "45  234.108  0.378\n",
       "46  235.799  0.391\n",
       "47  238.050  0.396"
      ]
     },
     "execution_count": 23,
     "metadata": {},
     "output_type": "execute_result"
    }
   ],
   "source": [
    "D = pd.read_table(u)\n",
    "D"
   ]
  },
  {
   "cell_type": "markdown",
   "metadata": {},
   "source": [
    "При чтении таблицы создаются индексы - для наблюдений (строчек) и для переменных (колонок)."
   ]
  },
  {
   "cell_type": "code",
   "execution_count": 24,
   "metadata": {
    "collapsed": false,
    "jupyter": {
     "outputs_hidden": false
    }
   },
   "outputs": [
    {
     "data": {
      "text/plain": [
       "Index(['t', 'v'], dtype='object')"
      ]
     },
     "execution_count": 24,
     "metadata": {},
     "output_type": "execute_result"
    }
   ],
   "source": [
    "D.columns"
   ]
  },
  {
   "cell_type": "code",
   "execution_count": 41,
   "metadata": {
    "collapsed": false,
    "jupyter": {
     "outputs_hidden": false
    }
   },
   "outputs": [
    {
     "data": {
      "text/plain": [
       "RangeIndex(start=0, stop=48, step=1)"
      ]
     },
     "execution_count": 41,
     "metadata": {},
     "output_type": "execute_result"
    }
   ],
   "source": [
    "D.index"
   ]
  },
  {
   "cell_type": "markdown",
   "metadata": {},
   "source": [
    "Можно задать в качестве индекса одну из колонок с данными. По-умолчанию используется автоматическая нумерация (как в этом примере).\n",
    "\n",
    "Каждая строчка или колонка `DataFrame` - это серия с соответствующим индексом. К значениям можно обращаться по их индексу в любом порядке. Например, чтобы получить третье по счету значение ВР:"
   ]
  },
  {
   "cell_type": "code",
   "execution_count": 42,
   "metadata": {
    "collapsed": false,
    "jupyter": {
     "outputs_hidden": false
    }
   },
   "outputs": [
    {
     "data": {
      "text/plain": [
       "0.35700000000000004"
      ]
     },
     "execution_count": 42,
     "metadata": {},
     "output_type": "execute_result"
    }
   ],
   "source": [
    "D['v'][2]  # вначале колонка, потом позиция в колонке"
   ]
  },
  {
   "cell_type": "code",
   "execution_count": 43,
   "metadata": {
    "collapsed": false,
    "jupyter": {
     "outputs_hidden": false
    }
   },
   "outputs": [
    {
     "data": {
      "text/plain": [
       "0.35700000000000004"
      ]
     },
     "execution_count": 43,
     "metadata": {},
     "output_type": "execute_result"
    }
   ],
   "source": [
    "D.loc[2]['v']  # вначале строка, потом колонка"
   ]
  },
  {
   "cell_type": "code",
   "execution_count": 44,
   "metadata": {
    "collapsed": false,
    "jupyter": {
     "outputs_hidden": false
    }
   },
   "outputs": [
    {
     "data": {
      "text/plain": [
       "0.35700000000000004"
      ]
     },
     "execution_count": 44,
     "metadata": {},
     "output_type": "execute_result"
    }
   ],
   "source": [
    "D.loc[2,'v']  # обе координаты строка и колонка"
   ]
  },
  {
   "cell_type": "markdown",
   "metadata": {},
   "source": [
    "Способ с одновременным указанием строки и колонки является предпочтительным, потому что в одно действие происходит обращение к нужной ячейке таблицы. \n",
    "Именно этот способ используют для замены конкретного значения, например\n",
    "```py\n",
    "D.loc[2,'v'] = D['v'].mean()\n",
    "```"
   ]
  },
  {
   "cell_type": "markdown",
   "metadata": {},
   "source": [
    "Можно использовать порядковый индекс позиции, как в массивах numpy."
   ]
  },
  {
   "cell_type": "code",
   "execution_count": 29,
   "metadata": {
    "collapsed": false,
    "jupyter": {
     "outputs_hidden": false
    }
   },
   "outputs": [
    {
     "data": {
      "text/plain": [
       "0.35700000000000004"
      ]
     },
     "execution_count": 29,
     "metadata": {},
     "output_type": "execute_result"
    }
   ],
   "source": [
    "D.iloc[2,1]"
   ]
  },
  {
   "cell_type": "markdown",
   "metadata": {},
   "source": [
    "Таблицы включают мощные средства манипуляции данными.\n",
    "\n",
    "При необходимости разбиения массива данных на группы признаки принадлежности к разным группам добавляют в виде новых колонок, а уже информацию в этих колонках используют в разных сочетаниях при отборе подвыборок и сравнительном анализе."
   ]
  },
  {
   "cell_type": "markdown",
   "metadata": {},
   "source": [
    "Добавим в качестве группового признака номер группы для разделения всей последовательности на 6 одинаковых групп, идущих друг за другом."
   ]
  },
  {
   "cell_type": "code",
   "execution_count": 53,
   "metadata": {},
   "outputs": [],
   "source": [
    "ngroup = 6\n",
    "D['g'] = np.kron(range(1,ngroup+1), np.ones(int(len(D)/ngroup), int))"
   ]
  },
  {
   "cell_type": "markdown",
   "metadata": {},
   "source": [
    "Например, чтобы посчитать среднее ВР для разных МСИ (в колонке `'g'`), можно сделать так:"
   ]
  },
  {
   "cell_type": "code",
   "execution_count": 54,
   "metadata": {
    "collapsed": false,
    "jupyter": {
     "outputs_hidden": false
    }
   },
   "outputs": [
    {
     "data": {
      "text/plain": [
       "g\n",
       "1    0.380250\n",
       "2    0.316429\n",
       "3    0.358500\n",
       "4    0.455000\n",
       "5    0.433750\n",
       "6    0.430250\n",
       "Name: v, dtype: float64"
      ]
     },
     "execution_count": 54,
     "metadata": {},
     "output_type": "execute_result"
    }
   ],
   "source": [
    "D.groupby('g')['v'].mean()"
   ]
  },
  {
   "cell_type": "markdown",
   "metadata": {},
   "source": [
    "Таблицы и Серии подходят для использования в операциях линейной алгебры из `numpy`. Если надо,  значения таблицы можно извлечь в виде массива или в виде списка."
   ]
  },
  {
   "cell_type": "code",
   "execution_count": 55,
   "metadata": {
    "collapsed": false,
    "jupyter": {
     "outputs_hidden": false
    },
    "tags": [
     "output_scroll"
    ]
   },
   "outputs": [
    {
     "data": {
      "text/plain": [
       "array([[  9.585,   0.429,   1.   ],\n",
       "       [ 16.368,   0.335,   1.   ],\n",
       "       [ 23.729,   0.357,   1.   ],\n",
       "       [ 30.93 ,   0.373,   1.   ],\n",
       "       [ 40.303,   0.439,   1.   ],\n",
       "       [ 46.804,   0.402,   1.   ],\n",
       "       [ 55.448,   0.382,   1.   ],\n",
       "       [ 62.401,   0.325,   1.   ],\n",
       "       [ 68.91 ,   0.4  ,   2.   ],\n",
       "       [ 73.463,   0.303,   2.   ],\n",
       "       [ 77.697,   0.349,   2.   ],\n",
       "       [ 81.661,     nan,   2.   ],\n",
       "       [ 86.385,   0.285,   2.   ],\n",
       "       [ 90.47 ,   0.288,   2.   ],\n",
       "       [ 95.114,   0.308,   2.   ],\n",
       "       [ 99.548,   0.282,   2.   ],\n",
       "       [104.056,   0.382,   3.   ],\n",
       "       [105.844,   0.338,   3.   ],\n",
       "       [107.955,   0.307,   3.   ],\n",
       "       [109.636,   0.514,   3.   ],\n",
       "       [111.487,   0.287,   3.   ],\n",
       "       [113.394,   0.316,   3.   ],\n",
       "       [115.732,   0.29 ,   3.   ],\n",
       "       [117.612,   0.434,   3.   ],\n",
       "       [128.119,     nan,   4.   ],\n",
       "       [135.   ,     nan,   4.   ],\n",
       "       [143.557,   0.622,   4.   ],\n",
       "       [151.932,   0.402,   4.   ],\n",
       "       [160.933,   0.393,   4.   ],\n",
       "       [168.975,   0.471,   4.   ],\n",
       "       [177.819,   0.411,   4.   ],\n",
       "       [184.975,   0.431,   4.   ],\n",
       "       [191.48 ,   0.519,   5.   ],\n",
       "       [195.884,   0.37 ,   5.   ],\n",
       "       [199.594,   0.412,   5.   ],\n",
       "       [203.637,   0.385,   5.   ],\n",
       "       [207.373,   0.513,   5.   ],\n",
       "       [211.929,   0.389,   5.   ],\n",
       "       [216.615,   0.439,   5.   ],\n",
       "       [219.947,   0.443,   5.   ],\n",
       "       [224.455,   0.698,   6.   ],\n",
       "       [226.741,   0.473,   6.   ],\n",
       "       [228.837,   0.377,   6.   ],\n",
       "       [230.642,   0.372,   6.   ],\n",
       "       [232.313,   0.357,   6.   ],\n",
       "       [234.108,   0.378,   6.   ],\n",
       "       [235.799,   0.391,   6.   ],\n",
       "       [238.05 ,   0.396,   6.   ]])"
      ]
     },
     "execution_count": 55,
     "metadata": {},
     "output_type": "execute_result"
    }
   ],
   "source": [
    "D.values"
   ]
  },
  {
   "cell_type": "markdown",
   "metadata": {},
   "source": [
    "И, наоборот, из массива можно сделать датафрейм (таблицу). Если не указать индексы - они создадутся автоматически."
   ]
  },
  {
   "cell_type": "code",
   "execution_count": 57,
   "metadata": {
    "collapsed": false,
    "jupyter": {
     "outputs_hidden": false
    }
   },
   "outputs": [
    {
     "data": {
      "text/html": [
       "<div>\n",
       "<style scoped>\n",
       "    .dataframe tbody tr th:only-of-type {\n",
       "        vertical-align: middle;\n",
       "    }\n",
       "\n",
       "    .dataframe tbody tr th {\n",
       "        vertical-align: top;\n",
       "    }\n",
       "\n",
       "    .dataframe thead th {\n",
       "        text-align: right;\n",
       "    }\n",
       "</style>\n",
       "<table border=\"1\" class=\"dataframe\">\n",
       "  <thead>\n",
       "    <tr style=\"text-align: right;\">\n",
       "      <th></th>\n",
       "      <th>0</th>\n",
       "      <th>1</th>\n",
       "      <th>2</th>\n",
       "      <th>3</th>\n",
       "      <th>4</th>\n",
       "      <th>5</th>\n",
       "      <th>6</th>\n",
       "      <th>7</th>\n",
       "    </tr>\n",
       "  </thead>\n",
       "  <tbody>\n",
       "    <tr>\n",
       "      <th>0</th>\n",
       "      <td>0.429</td>\n",
       "      <td>0.335</td>\n",
       "      <td>0.357</td>\n",
       "      <td>0.373</td>\n",
       "      <td>0.439</td>\n",
       "      <td>0.402</td>\n",
       "      <td>0.382</td>\n",
       "      <td>0.325</td>\n",
       "    </tr>\n",
       "    <tr>\n",
       "      <th>1</th>\n",
       "      <td>0.400</td>\n",
       "      <td>0.303</td>\n",
       "      <td>0.349</td>\n",
       "      <td>NaN</td>\n",
       "      <td>0.285</td>\n",
       "      <td>0.288</td>\n",
       "      <td>0.308</td>\n",
       "      <td>0.282</td>\n",
       "    </tr>\n",
       "    <tr>\n",
       "      <th>2</th>\n",
       "      <td>0.382</td>\n",
       "      <td>0.338</td>\n",
       "      <td>0.307</td>\n",
       "      <td>0.514</td>\n",
       "      <td>0.287</td>\n",
       "      <td>0.316</td>\n",
       "      <td>0.290</td>\n",
       "      <td>0.434</td>\n",
       "    </tr>\n",
       "    <tr>\n",
       "      <th>3</th>\n",
       "      <td>NaN</td>\n",
       "      <td>NaN</td>\n",
       "      <td>0.622</td>\n",
       "      <td>0.402</td>\n",
       "      <td>0.393</td>\n",
       "      <td>0.471</td>\n",
       "      <td>0.411</td>\n",
       "      <td>0.431</td>\n",
       "    </tr>\n",
       "    <tr>\n",
       "      <th>4</th>\n",
       "      <td>0.519</td>\n",
       "      <td>0.370</td>\n",
       "      <td>0.412</td>\n",
       "      <td>0.385</td>\n",
       "      <td>0.513</td>\n",
       "      <td>0.389</td>\n",
       "      <td>0.439</td>\n",
       "      <td>0.443</td>\n",
       "    </tr>\n",
       "    <tr>\n",
       "      <th>5</th>\n",
       "      <td>0.698</td>\n",
       "      <td>0.473</td>\n",
       "      <td>0.377</td>\n",
       "      <td>0.372</td>\n",
       "      <td>0.357</td>\n",
       "      <td>0.378</td>\n",
       "      <td>0.391</td>\n",
       "      <td>0.396</td>\n",
       "    </tr>\n",
       "  </tbody>\n",
       "</table>\n",
       "</div>"
      ],
      "text/plain": [
       "       0      1      2      3      4      5      6      7\n",
       "0  0.429  0.335  0.357  0.373  0.439  0.402  0.382  0.325\n",
       "1  0.400  0.303  0.349    NaN  0.285  0.288  0.308  0.282\n",
       "2  0.382  0.338  0.307  0.514  0.287  0.316  0.290  0.434\n",
       "3    NaN    NaN  0.622  0.402  0.393  0.471  0.411  0.431\n",
       "4  0.519  0.370  0.412  0.385  0.513  0.389  0.439  0.443\n",
       "5  0.698  0.473  0.377  0.372  0.357  0.378  0.391  0.396"
      ]
     },
     "execution_count": 57,
     "metadata": {},
     "output_type": "execute_result"
    }
   ],
   "source": [
    "pd.DataFrame(X)"
   ]
  },
  {
   "cell_type": "markdown",
   "metadata": {},
   "source": [
    "Посмотрим типы переменных, созданных разными способами."
   ]
  },
  {
   "cell_type": "code",
   "execution_count": 59,
   "metadata": {
    "collapsed": false,
    "jupyter": {
     "outputs_hidden": false
    }
   },
   "outputs": [
    {
     "data": {
      "text/plain": [
       "(list, numpy.ndarray, pandas.core.series.Series, pandas.core.frame.DataFrame)"
      ]
     },
     "execution_count": 59,
     "metadata": {},
     "output_type": "execute_result"
    }
   ],
   "source": [
    "type(vv), type(X), type(D['g']), type(D)"
   ]
  }
 ],
 "metadata": {
  "kernelspec": {
   "display_name": "Python 3",
   "language": "python",
   "name": "python3"
  },
  "language_info": {
   "codemirror_mode": {
    "name": "ipython",
    "version": 3
   },
   "file_extension": ".py",
   "mimetype": "text/x-python",
   "name": "python",
   "nbconvert_exporter": "python",
   "pygments_lexer": "ipython3",
   "version": "3.9.0rc1"
  },
  "toc": {
   "base_numbering": 1,
   "nav_menu": {
    "height": "30px",
    "width": "252px"
   },
   "number_sections": false,
   "sideBar": true,
   "skip_h1_title": false,
   "title_cell": "Table of Contents",
   "title_sidebar": "Contents",
   "toc_cell": false,
   "toc_position": {},
   "toc_section_display": "block",
   "toc_window_display": false
  }
 },
 "nbformat": 4,
 "nbformat_minor": 4
}
