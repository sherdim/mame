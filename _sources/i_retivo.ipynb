{
 "cells": [
  {
   "cell_type": "markdown",
   "metadata": {},
   "source": [
    "# Подбор параметров распределения\n",
    "\n",
    "Когда мы характеризуем любую выборку чисел двумя параметрами - средним и стандратным отклонением, то подразумеваем, что выборка приближенно описывается нормальным распределением.\n",
    "\n",
    "Однако распределение значений времени сенсомоторных реакций несимметричное и более точно описывается с помощью других распределений. \n",
    "Рекомендуемый способ получить коэффициенты таких распределений: экспортировать подвыборки ваших данных в текстовые файлы и подобрать модели с помощью интерактивного онлайн-приложения  https://sherdim.shinyapps.io/retivo/ ."
   ]
  },
  {
   "cell_type": "code",
   "execution_count": 1,
   "metadata": {
    "tags": [
     "remove-cell"
    ]
   },
   "outputs": [
    {
     "name": "stdout",
     "output_type": "stream",
     "text": [
      "Populating the interactive namespace from numpy and matplotlib\n"
     ]
    }
   ],
   "source": [
    "%pylab inline\n",
    "import pandas as pd"
   ]
  },
  {
   "cell_type": "code",
   "execution_count": 4,
   "metadata": {
    "scrolled": true
   },
   "outputs": [
    {
     "name": "stdout",
     "output_type": "stream",
     "text": [
      "<class 'pandas.core.frame.DataFrame'>\n",
      "RangeIndex: 48 entries, 0 to 47\n",
      "Data columns (total 2 columns):\n",
      " #   Column  Non-Null Count  Dtype  \n",
      "---  ------  --------------  -----  \n",
      " 0   t       48 non-null     float64\n",
      " 1   v       45 non-null     float64\n",
      "dtypes: float64(2)\n",
      "memory usage: 896.0 bytes\n"
     ]
    }
   ],
   "source": [
    "#загрузка данных\n",
    "# u='http://balatte.stireac.com/result.tsv/sherdim%40gmail.com/tuts__2143043410150713'\n",
    "u = 'd/rt.tsv'\n",
    "D = pd.read_csv(u, delimiter='\\t')\n",
    "D.info()"
   ]
  },
  {
   "cell_type": "markdown",
   "metadata": {},
   "source": [
    "Для анализа распределений нужно разделить реакции по типу стимула.\n",
    "Первая половина - зрительно-моторные реакции, вторая - слухомоторные."
   ]
  },
  {
   "cell_type": "code",
   "execution_count": 6,
   "metadata": {},
   "outputs": [
    {
     "data": {
      "image/png": "[encoded data removed]",
      "text/plain": [
       "<Figure size 432x288 with 1 Axes>"
      ]
     },
     "metadata": {
      "needs_background": "light"
     },
     "output_type": "display_data"
    }
   ],
   "source": [
    "D['stimul'] = where(D.index < len(D)//2 , 'v', 'a')\n",
    "\n",
    "Dv = D.loc[D.stimul=='v'].dropna()\n",
    "Dv.v.hist();"
   ]
  },
  {
   "cell_type": "markdown",
   "metadata": {},
   "source": [
    "Гистограмма распределения времени реакции в большинстве случаев скошена влево."
   ]
  },
  {
   "cell_type": "code",
   "execution_count": 14,
   "metadata": {},
   "outputs": [
    {
     "data": {
      "image/png": "[encoded data removed]",
      "text/plain": [
       "<Figure size 432x288 with 1 Axes>"
      ]
     },
     "metadata": {
      "needs_background": "light"
     },
     "output_type": "display_data"
    }
   ],
   "source": [
    "Da = D.loc[D.stimul=='a'].dropna()\n",
    "hist(Da.v, bins=arange(0.1,.81,.02), histtype='stepfilled', color='r', ec='k', lw=2);"
   ]
  },
  {
   "cell_type": "markdown",
   "metadata": {},
   "source": [
    "## Извлечение подвыборок для внешнего использования"
   ]
  },
  {
   "cell_type": "markdown",
   "metadata": {},
   "source": [
    "Для анализа подвыборки в приложении https://sherdim.shinyapps.io/retivo/ нужно сохранить только часть значений в 2-х колонках.\n"
   ]
  },
  {
   "cell_type": "markdown",
   "metadata": {},
   "source": [
    "Так как мы повторяем однотипную операцию, то сделаем это в цикле."
   ]
  },
  {
   "cell_type": "code",
   "execution_count": 10,
   "metadata": {
    "tags": []
   },
   "outputs": [],
   "source": [
    "for stim in ['v','a']:\n",
    "    D.loc[D['stimul']==stim, ['t','v']].dropna().to_csv(f'rt_{stim}.tsv', sep='\\t', index=False)"
   ]
  },
  {
   "cell_type": "markdown",
   "metadata": {},
   "source": [
    "В текущей папке сохранились два файла - один со зрительными реакциями, второй со слуховыми.\n",
    "\n",
    "Теперь надо перейти в [онлайн-приложение](https://sherdim.shinyapps.io/retivo/), загрузить файл туда и подобрать наиболее подходящее распределение {numref}`retivo`.\n",
    "Чем больше у распределения параметров, тем сложнее подобрать их значения. Некоторые комбинации параметров подобрать не удается.\n",
    "\n",
    "::: {figure} retivo\n",
    "\n",
    "![](i/retivo.png)\n",
    "\n",
    "Внешний вид приложения с результатами подбора параметров трехпараметрического экспоненциально-гауссова распределения.\n",
    ":::"
   ]
  }
 ],
 "metadata": {
  "kernelspec": {
   "display_name": "Python 3",
   "language": "python",
   "name": "python3"
  },
  "language_info": {
   "codemirror_mode": {
    "name": "ipython",
    "version": 3
   },
   "file_extension": ".py",
   "mimetype": "text/x-python",
   "name": "python",
   "nbconvert_exporter": "python",
   "pygments_lexer": "ipython3",
   "version": "3.9.0rc1"
  }
 },
 "nbformat": 4,
 "nbformat_minor": 4
}
