{
 "cells": [
  {
   "cell_type": "markdown",
   "metadata": {},
   "source": [
    "# Эмпирические распределения значений"
   ]
  },
  {
   "cell_type": "markdown",
   "metadata": {},
   "source": [
    "Живые системы изменчивы. Поэтому при проведении измерений с живыми объектами часто сталкиваются с неопределенностью или вариативностью.\n",
    "\n",
    "Когда мы проводим измерение многократно, например, измеряем время реакции в ответ на появление стимула, то результат получается всякий раз немного разный, несмотря на то, что задание было одинаковым."
   ]
  },
  {
   "cell_type": "markdown",
   "metadata": {},
   "source": [
    "Провести измерения времени реакции можно в приложении \"[Баланс внимания](http://balatte.stireac.com)\".\n",
    "\n",
    "Вы можете самостоятельно пройти тест, а можете выбрать какой-нибудь из доступных результатов.\n",
    "Желательно пройти тест самому, чтобы представлять, что означают числа, с которыми мы будем проводить манипуляции."
   ]
  },
  {
   "cell_type": "code",
   "execution_count": null,
   "metadata": {},
   "outputs": [],
   "source": []
  }
 ],
 "metadata": {
  "kernelspec": {
   "display_name": "Python 3",
   "language": "python",
   "name": "python3"
  },
  "language_info": {
   "codemirror_mode": {
    "name": "ipython",
    "version": 3
   },
   "file_extension": ".py",
   "mimetype": "text/x-python",
   "name": "python",
   "nbconvert_exporter": "python",
   "pygments_lexer": "ipython3",
   "version": "3.9.0rc1"
  }
 },
 "nbformat": 4,
 "nbformat_minor": 4
}
