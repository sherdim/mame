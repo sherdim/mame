{
 "cells": [
  {
   "cell_type": "markdown",
   "metadata": {},
   "source": [
    "# Компоненты нелинейного процесса"
   ]
  },
  {
   "cell_type": "markdown",
   "metadata": {},
   "source": [
    "Для процессов, в которых есть периодические составляющие, прогнозные модели на основе простой экстраполяции текущего состояния работают плохо. В правой части рисунка ({numref}`nonlinear_prognoz`), где данные (черные точки), представляющие собой синусоиду (темно-синяя линия) с шумом, закончились, видно, что регрессионная модель SVR (красная линия) не может прогнозировать продолжение колебаний, останавливаясь на некотором уровне.\n",
    "Модели KRR и GPR (голубая и оранжевая линии) способны прогнозировать будущие колебания.\n",
    "Модель GPR (Gaussian Process Regression) кроме среднего значения предсказывает дисперсию (область разброса) значений:\n",
    "область наиболее вероятного появления данных с учётом шума показана полупрозрачным оранжевым поясом вокруг оранжевой линии.\n"
   ]
  },
  {
   "cell_type": "markdown",
   "metadata": {},
   "source": [
    "::: {figure-md} nonlinear_prognoz\n",
    "![](i/nonlinear_prognoz.png)\n",
    "\n",
    "Сравнение различных моделей трендов. GPR - Gaussian Process Regression.\n",
    "[&copy;](https://upload.wikimedia.org/wikipedia/commons/thumb/a/a7/Regressions_sine_demo.svg/1024px-Regressions_sine_demo.svg.png)\n",
    ":::"
   ]
  },
  {
   "cell_type": "code",
   "execution_count": 1,
   "metadata": {
    "tags": [
     "remove-cell"
    ]
   },
   "outputs": [
    {
     "name": "stdout",
     "output_type": "stream",
     "text": [
      "Populating the interactive namespace from numpy and matplotlib\n"
     ]
    }
   ],
   "source": [
    "%pylab inline\n",
    "from ipywidgets import interact\n",
    "from IPython.display import display"
   ]
  },
  {
   "cell_type": "markdown",
   "metadata": {},
   "source": [
    "Подберем параметры Гауссова процесса для данных в тесте ускорения нажатий.\n",
    "Подставьте ссылку на собственные данные, если вы прошли тест по инструкции."
   ]
  },
  {
   "cell_type": "code",
   "execution_count": 6,
   "metadata": {},
   "outputs": [],
   "source": [
    "import pandas as pd\n",
    "\n",
    "from sklearn.gaussian_process import GaussianProcessRegressor\n",
    "from sklearn.gaussian_process.kernels import RBF, WhiteKernel, ConstantKernel as Constant, \\\n",
    "        Matern, PairwiseKernel, Exponentiation, RationalQuadratic"
   ]
  },
  {
   "cell_type": "code",
   "execution_count": 3,
   "metadata": {},
   "outputs": [
    {
     "name": "stdout",
     "output_type": "stream",
     "text": [
      "<class 'pandas.core.frame.DataFrame'>\n",
      "RangeIndex: 1000 entries, 0 to 999\n",
      "Data columns (total 2 columns):\n",
      " #   Column  Non-Null Count  Dtype  \n",
      "---  ------  --------------  -----  \n",
      " 0   t       1000 non-null   float64\n",
      " 1   code    1000 non-null   int64  \n",
      "dtypes: float64(1), int64(1)\n",
      "memory usage: 15.8 KB\n"
     ]
    }
   ],
   "source": [
    "u='http://stireac.com/uskor/result.tsv/sherdim%40gmail.com/10.132.32.111__6158019760000190311'\n",
    "M = pd.read_table(u)\n",
    "M = M.rename(columns={'v':'code'})\n",
    "M.info()"
   ]
  },
  {
   "cell_type": "markdown",
   "metadata": {},
   "source": [
    "Извлечем из списка маркеров информацию о нажатиях с разбивкой по этапам."
   ]
  },
  {
   "cell_type": "code",
   "execution_count": 4,
   "metadata": {},
   "outputs": [
    {
     "data": {
      "text/plain": [
       "(445, 4)"
      ]
     },
     "execution_count": 4,
     "metadata": {},
     "output_type": "execute_result"
    }
   ],
   "source": [
    "R = []\n",
    "for itrial in range(6):\n",
    "    coab = (1000 + itrial)+1\n",
    "    tab = M.t[M.code==coab].iloc[0]\n",
    "    tad = M.t[(M.t>tab) & (M.code==13)].iloc[0]\n",
    "    _R = M[(M.t>=tab)&(M.t<tad)].copy()\n",
    "    _R['trial']=itrial+1\n",
    "#     _R['d']=np.nan\n",
    "    # оставляем только нажатия (коды отжатия < 0)\n",
    "    _R = _R[(_R.code > 20) & (_R.code < 100)]\n",
    "    # выравниваем по времени относительно начала этапа\n",
    "    _R.t -= tab\n",
    "    _R.dropna(inplace=True)\n",
    "    _R['iri'] = _R.t.diff()\n",
    "    \n",
    "    R.append(_R)\n",
    "    \n",
    "R = pd.concat(R)\n",
    "R.shape"
   ]
  },
  {
   "cell_type": "markdown",
   "metadata": {},
   "source": [
    "Этапы отличаются между собой порядком нажатия на кнопки F и J, коды которых маркируют моменты нажатия."
   ]
  },
  {
   "cell_type": "code",
   "execution_count": 3,
   "metadata": {},
   "outputs": [
    {
     "data": {
      "text/plain": [
       "(70, 74)"
      ]
     },
     "execution_count": 3,
     "metadata": {},
     "output_type": "execute_result"
    }
   ],
   "source": [
    "(ord('F'), ord('J'))"
   ]
  },
  {
   "cell_type": "code",
   "execution_count": 5,
   "metadata": {},
   "outputs": [
    {
     "data": {
      "text/plain": [
       "trial  code\n",
       "1      70      48\n",
       "2      74      45\n",
       "3      70      43\n",
       "       74      43\n",
       "4      70      48\n",
       "       74      49\n",
       "5      70      22\n",
       "       74      62\n",
       "6      70      60\n",
       "       74      25\n",
       "Name: code, dtype: int64"
      ]
     },
     "execution_count": 5,
     "metadata": {},
     "output_type": "execute_result"
    }
   ],
   "source": [
    "R.groupby(['trial','code']).code.count()"
   ]
  },
  {
   "cell_type": "markdown",
   "metadata": {},
   "source": [
    "Создадим справочную таблицу с паттернами этапов."
   ]
  },
  {
   "cell_type": "code",
   "execution_count": null,
   "metadata": {},
   "outputs": [],
   "source": [
    "S = pd.DataFrame([\n",
    "['00000000', 'одна рука'],\n",
    "['11111111', 'одна рука'],\n",
    "['10101010', 'поочередно'],\n",
    "['01010101', 'поочередно'],\n",
    "['01110111', 'паттерн'],\n",
    "['10001000', 'паттерн'],\n",
    "    ], columns=['pattern','тип'], index=arange(6)+1)\n",
    "#S"
   ]
  },
  {
   "cell_type": "markdown",
   "metadata": {},
   "source": [
    "## Рисунок с нелинейными трендами\n",
    "\n",
    "Для построения рисунка мы для каждого этапа выводим исходные данные и накладываем на них в том же цвете модель (среднее и стандартное отклонение).\n",
    "\n",
    "Данными, динамику которых мы моделируем, являются интервалы между нажатиями, которые рассчитываются в строке.\n",
    "\n",
    "    vv = np.diff(tt)\n",
    "\n",
    "Обученная модель Гауссова процесса хранится в переменной `gpor`.\n",
    "Из объекта модели мы извлекаем ряд параметров, которые сводим в таблицу параметров `P`, которую выводим в конце.\n"
   ]
  },
  {
   "cell_type": "code",
   "execution_count": 46,
   "metadata": {},
   "outputs": [
    {
     "data": {
      "text/html": [
       "<div>\n",
       "<style scoped>\n",
       "    .dataframe tbody tr th:only-of-type {\n",
       "        vertical-align: middle;\n",
       "    }\n",
       "\n",
       "    .dataframe tbody tr th {\n",
       "        vertical-align: top;\n",
       "    }\n",
       "\n",
       "    .dataframe thead th {\n",
       "        text-align: right;\n",
       "    }\n",
       "</style>\n",
       "<table border=\"1\" class=\"dataframe\">\n",
       "  <thead>\n",
       "    <tr style=\"text-align: right;\">\n",
       "      <th></th>\n",
       "      <th>const</th>\n",
       "      <th>a</th>\n",
       "      <th>period</th>\n",
       "      <th>noise</th>\n",
       "      <th>LML</th>\n",
       "      <th>R2</th>\n",
       "    </tr>\n",
       "    <tr>\n",
       "      <th>label</th>\n",
       "      <th></th>\n",
       "      <th></th>\n",
       "      <th></th>\n",
       "      <th></th>\n",
       "      <th></th>\n",
       "      <th></th>\n",
       "    </tr>\n",
       "  </thead>\n",
       "  <tbody>\n",
       "    <tr>\n",
       "      <th>00000000</th>\n",
       "      <td>0.001222</td>\n",
       "      <td>0.497643</td>\n",
       "      <td>11.969143</td>\n",
       "      <td>0.000298</td>\n",
       "      <td>98.296158</td>\n",
       "      <td>0.993221</td>\n",
       "    </tr>\n",
       "    <tr>\n",
       "      <th>11111111</th>\n",
       "      <td>0.483434</td>\n",
       "      <td>0.706720</td>\n",
       "      <td>10.677941</td>\n",
       "      <td>0.000237</td>\n",
       "      <td>86.502677</td>\n",
       "      <td>0.998162</td>\n",
       "    </tr>\n",
       "    <tr>\n",
       "      <th>10101010</th>\n",
       "      <td>0.274411</td>\n",
       "      <td>0.887480</td>\n",
       "      <td>18.219857</td>\n",
       "      <td>0.001319</td>\n",
       "      <td>134.393564</td>\n",
       "      <td>0.984961</td>\n",
       "    </tr>\n",
       "    <tr>\n",
       "      <th>01010101</th>\n",
       "      <td>0.003352</td>\n",
       "      <td>1.062370</td>\n",
       "      <td>34.062973</td>\n",
       "      <td>0.001981</td>\n",
       "      <td>142.929722</td>\n",
       "      <td>0.978169</td>\n",
       "    </tr>\n",
       "    <tr>\n",
       "      <th>01110111</th>\n",
       "      <td>0.003453</td>\n",
       "      <td>0.929588</td>\n",
       "      <td>24.105527</td>\n",
       "      <td>0.000766</td>\n",
       "      <td>138.942631</td>\n",
       "      <td>0.993141</td>\n",
       "    </tr>\n",
       "    <tr>\n",
       "      <th>10001000</th>\n",
       "      <td>0.640024</td>\n",
       "      <td>0.646241</td>\n",
       "      <td>13.025212</td>\n",
       "      <td>0.001462</td>\n",
       "      <td>120.531530</td>\n",
       "      <td>0.989695</td>\n",
       "    </tr>\n",
       "  </tbody>\n",
       "</table>\n",
       "</div>"
      ],
      "text/plain": [
       "             const         a     period     noise         LML        R2\n",
       "label                                                                  \n",
       "00000000  0.001222  0.497643  11.969143  0.000298   98.296158  0.993221\n",
       "11111111  0.483434  0.706720  10.677941  0.000237   86.502677  0.998162\n",
       "10101010  0.274411  0.887480  18.219857  0.001319  134.393564  0.984961\n",
       "01010101  0.003352  1.062370  34.062973  0.001981  142.929722  0.978169\n",
       "01110111  0.003453  0.929588  24.105527  0.000766  138.942631  0.993141\n",
       "10001000  0.640024  0.646241  13.025212  0.001462  120.531530  0.989695"
      ]
     },
     "metadata": {},
     "output_type": "display_data"
    },
    {
     "data": {
      "image/png": "[encoded data removed]",
      "text/plain": [
       "<Figure size 864x360 with 1 Axes>"
      ]
     },
     "metadata": {
      "needs_background": "light"
     },
     "output_type": "display_data"
    }
   ],
   "source": [
    "fig, ax = plt.subplots(1, 1, figsize=(12,5))\n",
    "\n",
    "kernel = (Constant(1**2, (1e-6, 2.)) \n",
    "        + 0.05 * Matern(length_scale=20.0, length_scale_bounds=(3, 1e3), nu=1.5)\n",
    "        + WhiteKernel(noise_level=1e-2, noise_level_bounds=(1e-5, 1e3))\n",
    "         )\n",
    "k = 1.\n",
    "\n",
    "papa = []\n",
    "coco = cm.tab20(arange(6))\n",
    "for itrial, co in zip(arange(6)+1, coco):\n",
    "    _R = R[R.trial==itrial]\n",
    "        \n",
    "    if len(_R)<5:\n",
    "        continue\n",
    "        \n",
    "    tt = _R.t.values[1:] - _R.t.values[0]\n",
    "    \n",
    "    tt = tt[np.isfinite(tt)]\n",
    "    vv = np.diff(tt) #_R.iri.values[1:]\n",
    "    bb = vv < 1.6\n",
    "    tt, vv = tt[np.r_[True, bb]], vv[bb]\n",
    "    \n",
    "    X = np.reshape(tt[1:],(-1,1))\n",
    "    y = np.reshape(vv,(-1,1))\n",
    "    gpor = GaussianProcessRegressor(kernel, alpha=1e-5, n_restarts_optimizer=0).fit(X, y)\n",
    "\n",
    "    pa = {'label':S.loc[itrial, 'pattern']}\n",
    "    pa['R2'] = gpor.score(X,y)\n",
    "    pa['LML'] = gpor.log_marginal_likelihood_value_\n",
    "    pa['n'] = len(vv)\n",
    "    pa['totalvar'] = np.var(vv)\n",
    "    _th = np.exp(gpor.kernel_.theta)\n",
    "    pa['const'] = np.sqrt(_th[0])\n",
    "    pa['a'] = np.sqrt(_th[1])\n",
    "    pa['period'] = _th[2]\n",
    "    pa['noise'] = _th[3]\n",
    "    papa.append(pa)\n",
    "\n",
    "    \n",
    "    plot(tt[1:],vv,'.', color=co, alpha=.5, label='_nolegend_')\n",
    "\n",
    "    xx = tt\n",
    "    y_mean, y_std = gpor.predict(xx[:,np.newaxis], return_std=True)\n",
    "    y_mean = y_mean.flatten()\n",
    "    plt.plot(xx, y_mean, color=co, lw=4, alpha=.8, zorder=9, label=pa['label'])\n",
    "    plt.fill_between(xx, y_mean - k * y_std, y_mean + k * y_std,\n",
    "                     alpha=0.1, color=co)\n",
    "\n",
    "plt.xlabel('Время, с');\n",
    "plt.ylabel('Интервал между нажатиями, с');\n",
    "# plt.ylim(0,1.2)\n",
    "legend(frameon=False);\n",
    "        \n",
    "P = pd.DataFrame(papa)\n",
    "P = P.set_index('label')\n",
    "display(P[['const','a','period','noise', 'LML','R2']])"
   ]
  },
  {
   "cell_type": "markdown",
   "metadata": {},
   "source": [
    "По параметру `period` можно сравнить выявленный колебательный компонент в с. Более пологий спуск соответствует более длительному периоду колебаний."
   ]
  },
  {
   "cell_type": "markdown",
   "metadata": {},
   "source": [
    "> Попробуйте поменять параметры регуляризации при обучении Гауссова процесса. Гиперпараметр `alpha`, по умолчанию равный 1e-10 (0.0000000001), нужен для предотвращения потенциальных вычислительных проблем во время подгонки модели.\n",
    "Если его увеличить (сделать не таким ничтожным), то будут подобраны более плавные модели, не повторяющие столь подробно динамику процесса.\n",
    "> Повышайте параметр `alpha` на порядок, начиная от 1e-3 до 1e0. Как изменяются параметры найденных моделей? В какой момент модели утрачивают способность описать переходный процесс? \n",
    "Игнорируйте предупреждения о проблемах сходимости модели."
   ]
  },
  {
   "cell_type": "markdown",
   "metadata": {},
   "source": [
    "*Гиперпараметр* - это параметр для управления процессом обучения по подбору других параметров."
   ]
  },
  {
   "cell_type": "markdown",
   "metadata": {},
   "source": [
    "## Прогноз\n",
    "\n",
    "Воспользуемся уже рассмотренными ранее способами оценки качества прогноза для одного из этапов."
   ]
  },
  {
   "cell_type": "code",
   "execution_count": 47,
   "metadata": {
    "tags": [
     "remove-cell"
    ]
   },
   "outputs": [],
   "source": [
    "import matplotlib.animation as animation\n",
    "rc('animation', html='jshtml')"
   ]
  },
  {
   "cell_type": "code",
   "execution_count": 4,
   "metadata": {
    "tags": [
     "hide-cell"
    ]
   },
   "outputs": [],
   "source": [
    "def play_prognoz(k='prognoz', n_future = 1, k0='v', interval=500):\n",
    "\n",
    "    xx=D.index.values\n",
    "    tt= xx[:-1]\n",
    "\n",
    "    fig = figure()\n",
    "    xlim(0,len(D.index)+1); ylim(0,1.5);\n",
    "\n",
    "    hh=[]\n",
    "    hh.append( plot([],[], color='b', lw=0, marker='d')[0] )\n",
    "    hh.append( plot(xx[0],D[k][0], color='r', marker='*')[0] ) #prognoz\n",
    "    hh.append( vlines([],[],[], colors='pink') ) #residuals\n",
    "    xlabel('Время, с');\n",
    "    ylabel('Интервал между нажатиями, с');\n",
    "    \n",
    "    def updatefig(i):\n",
    "        hh[0].set_data(xx[:i+1], D[k0][:i+1])\n",
    "        hh[1].set_data(xx[[i,i+n_future]], D[k][[i,i+n_future]])\n",
    "        res1=vstack([tile(xx[i],(2,)), [D.loc[i,k0],D.loc[i,k]]]).T\n",
    "        hh[2].set_segments((hh[2].get_segments() + [res1]))\n",
    "                            \n",
    "        return hh\n",
    "\n",
    "    close()\n",
    "    ani = animation.FuncAnimation(fig, updatefig, tt, interval=interval, blit=True, repeat=False)\n",
    "    return ani\n",
    "\n"
   ]
  },
  {
   "cell_type": "markdown",
   "metadata": {},
   "source": [
    "Переменные `vv` и `y_mean` содержат данные и предсказания Гауссова процесса для последнего 6-го этапа. Организуем их в таблицу.\n",
    "\n",
    "Добавим помимо подогнанной модели Гауссова процесса (не забудьте вернуть гиперпараметр в исходное состояние и получить качественные модели) несколько простых сглаживающих моделей."
   ]
  },
  {
   "cell_type": "code",
   "execution_count": null,
   "metadata": {},
   "outputs": [],
   "source": [
    "D = pd.DataFrame(vv, columns=['v'])#, index=tt[1:])\n",
    "\n",
    "D['pro_gaupro'] = y_mean[1:]\n",
    "\n",
    "D['pro_prev']= D.v.shift()\n",
    "D['pro_median5']=D.v.rolling(5, min_periods=1).median().shift()\n",
    "D['pro_mean5']=D.v.rolling(5, min_periods=1).mean().shift()\n",
    "D['pro_ewma']=D.v.ewm(span=5, min_periods=1).mean().shift()\n",
    "\n",
    "play_prognoz('pro_median5')"
   ]
  },
  {
   "cell_type": "markdown",
   "metadata": {},
   "source": [
    "![](i/gaupro_median5.png)"
   ]
  },
  {
   "cell_type": "code",
   "execution_count": null,
   "metadata": {},
   "outputs": [],
   "source": [
    "play_prognoz('pro_prev')"
   ]
  },
  {
   "cell_type": "markdown",
   "metadata": {},
   "source": [
    "![](i/gaupro_prev.png)"
   ]
  },
  {
   "cell_type": "code",
   "execution_count": 38,
   "metadata": {},
   "outputs": [
    {
     "data": {
      "text/plain": [
       "pro_prev       16.387643\n",
       "pro_mean5       9.907941\n",
       "pro_median5     9.497796\n",
       "pro_ewma       10.681131\n",
       "pro_gaupro     20.683305\n",
       "dtype: float64"
      ]
     },
     "execution_count": 38,
     "metadata": {},
     "output_type": "execute_result"
    }
   ],
   "source": [
    "def quo(k):\n",
    "    '''чем больше отклонение - тем ниже эффективность'''\n",
    "    return 1/sqrt(mean((D.v - D[k])**2))\n",
    "\n",
    "# vidy = [_k for _k in D.columns if _k.startswith('pro_')]\n",
    "vidy = ['pro_prev', 'pro_mean5', 'pro_median5', 'pro_ewma', 'pro_gaupro']\n",
    "Q = pd.Series(map(quo, vidy), index=vidy)\n",
    "Q\n"
   ]
  },
  {
   "cell_type": "markdown",
   "metadata": {},
   "source": [
    "Прогноз по предыдущему значению имеет преимущество для резких переходных процессов, поскольку обладает минимальной \"памятью\" о прошлых значениях."
   ]
  },
  {
   "cell_type": "markdown",
   "metadata": {},
   "source": [
    "Компоненты процесса можно вычитать из общей динамики, и, таким образом, строить прогнозы с учетом разных сочетаний компонентов: медленных трендов, циклов, шума."
   ]
  }
 ],
 "metadata": {
  "kernelspec": {
   "display_name": "Python 3 (ipykernel)",
   "language": "python",
   "name": "python3"
  },
  "language_info": {
   "codemirror_mode": {
    "name": "ipython",
    "version": 3
   },
   "file_extension": ".py",
   "mimetype": "text/x-python",
   "name": "python",
   "nbconvert_exporter": "python",
   "pygments_lexer": "ipython3",
   "version": "3.9.7"
  },
  "toc": {
   "base_numbering": 1,
   "nav_menu": {},
   "number_sections": false,
   "sideBar": false,
   "skip_h1_title": false,
   "title_cell": "Table of Contents",
   "title_sidebar": "Contents",
   "toc_cell": false,
   "toc_position": {},
   "toc_section_display": true,
   "toc_window_display": false
  }
 },
 "nbformat": 4,
 "nbformat_minor": 4
}
