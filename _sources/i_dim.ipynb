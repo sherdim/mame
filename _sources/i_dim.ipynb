{
 "cells": [
  {
   "cell_type": "markdown",
   "metadata": {},
   "source": [
    "# Увеличение размерности"
   ]
  },
  {
   "cell_type": "markdown",
   "metadata": {},
   "source": [
    "При решении многомерных задач используют подход, разработанный для 1-2 размерностей. \n",
    "\n",
    "Идея остается прежней, однако вычислительная сложность растет по экспоненте.\n",
    "\n",
    "Для понимания важным является геометрическая наглядная визуализация зависимостей или алгоритма.\n",
    "Поскольку воспринимать графические визуализации более 3-х измерений сложно, то обычно ограничиваются демонстрацией перехода от 1 к 2 измерениям, а далее по аналогии."
   ]
  },
  {
   "cell_type": "markdown",
   "metadata": {},
   "source": [
    "::: {figure-md} 4d\n",
    "![](i/4d.png)\n",
    "\n",
    "Увеличение размерности путем экспансии в новом измерении.\n",
    ":::"
   ]
  },
  {
   "cell_type": "markdown",
   "metadata": {},
   "source": [
    "Часто многомерный вариант понятия получает у математиков особое название. Для практического использования знать их не обязательно, главное понимать смысл базового одномерного понятия.\n",
    "\n",
    "| 1-мерный случай | многомерный случай\n",
    "|-|-\n",
    "|Градиент | Гессиан - определитель матрицы градиентов\n",
    "|Биномиальное распределение|Мультиномиальное распределение\n",
    "|Бета-распределение| Распределение Дирихле\n",
    "|Вариация |Ковариационная матрица\n",
    "|Критерий Уилкоксона-Манна-Уитни |Критерий Краскела-Уоллиса"
   ]
  },
  {
   "cell_type": "markdown",
   "metadata": {},
   "source": [
    "В некоторых случаях типичные операторы - `+ - / * **` становятся двусмысленными при повышении размерности. \n",
    "\n",
    "Например, среднее может быть для всех чисел в массиве, или для каждой колонки, или для каждой строчки. В этих случаях указываются дополнительные аргументы функции, обычно: `axis=0` - по колонкам, `axis=1` - по строчкам, и т.д. для более высоких размерностей."
   ]
  },
  {
   "cell_type": "markdown",
   "metadata": {},
   "source": [
    "Следует помнить, что все операторы в синтаксисе лишь удобный заменитель соответствующей функции, поэтому если нужно уточнить действие функции - можно пользоваться полным вариантом.\n",
    "\n",
    "Если нет специального математического оператора, то можно вызвать функцию.\n",
    "Например, возведение в степень 0.5 имеет специальную функцию `sqrt`."
   ]
  },
  {
   "cell_type": "code",
   "execution_count": 1,
   "metadata": {
    "tags": [
     "remove-cell"
    ]
   },
   "outputs": [
    {
     "name": "stdout",
     "output_type": "stream",
     "text": [
      "Populating the interactive namespace from numpy and matplotlib\n"
     ]
    }
   ],
   "source": [
    "%pylab inline"
   ]
  },
  {
   "cell_type": "code",
   "execution_count": 2,
   "metadata": {},
   "outputs": [
    {
     "data": {
      "text/plain": [
       "2.0"
      ]
     },
     "execution_count": 2,
     "metadata": {},
     "output_type": "execute_result"
    }
   ],
   "source": [
    "sqrt(4)  # специальная функция"
   ]
  },
  {
   "cell_type": "code",
   "execution_count": 3,
   "metadata": {},
   "outputs": [
    {
     "data": {
      "text/plain": [
       "2.0"
      ]
     },
     "execution_count": 3,
     "metadata": {},
     "output_type": "execute_result"
    }
   ],
   "source": [
    "4 ** 0.5  # специальный оператор"
   ]
  },
  {
   "cell_type": "code",
   "execution_count": 4,
   "metadata": {},
   "outputs": [
    {
     "data": {
      "text/plain": [
       "2.0"
      ]
     },
     "execution_count": 4,
     "metadata": {},
     "output_type": "execute_result"
    }
   ],
   "source": [
    "pow(4, 0.5)  # базовая функция с аргументами"
   ]
  },
  {
   "cell_type": "code",
   "execution_count": null,
   "metadata": {},
   "outputs": [],
   "source": []
  }
 ],
 "metadata": {
  "kernelspec": {
   "display_name": "Python 3",
   "language": "python",
   "name": "python3"
  },
  "language_info": {
   "codemirror_mode": {
    "name": "ipython",
    "version": 3
   },
   "file_extension": ".py",
   "mimetype": "text/x-python",
   "name": "python",
   "nbconvert_exporter": "python",
   "pygments_lexer": "ipython3",
   "version": "3.9.0rc1"
  },
  "toc": {
   "base_numbering": 1,
   "nav_menu": {
    "height": "31px",
    "width": "252px"
   },
   "number_sections": false,
   "sideBar": true,
   "skip_h1_title": false,
   "title_cell": "Table of Contents",
   "title_sidebar": "Contents",
   "toc_cell": false,
   "toc_position": {},
   "toc_section_display": "block",
   "toc_window_display": false
  }
 },
 "nbformat": 4,
 "nbformat_minor": 4
}
