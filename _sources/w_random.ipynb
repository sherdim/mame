{
 "cells": [
  {
   "cell_type": "markdown",
   "metadata": {},
   "source": [
    "# ☑ Генерация случайных выборок\n",
    "\n",
    "\n",
    "Перед тем, как приступить к тесту, необходимо научиться генерировать произвольные выборки с заданными параметрами из распределений:\n",
    "\n",
    "  -  нормальное,\n",
    "  -  χ 2(хи-квадрат),\n",
    "  -  экспоненциальное,\n",
    "  -  биномиальное.\n",
    "\n",
    "Также необходимо понимать работу команды построения гистограммы `hist`."
   ]
  },
  {
   "cell_type": "code",
   "execution_count": 2,
   "metadata": {
    "tags": [
     "remove-cell"
    ]
   },
   "outputs": [
    {
     "name": "stdout",
     "output_type": "stream",
     "text": [
      "Populating the interactive namespace from numpy and matplotlib\n"
     ]
    }
   ],
   "source": [
    "%pylab inline"
   ]
  },
  {
   "cell_type": "markdown",
   "metadata": {},
   "source": [
    "Образцы кода можно найти в блокноте Task_algo_generatio.ipynb ."
   ]
  },
  {
   "cell_type": "markdown",
   "metadata": {},
   "source": [
    "Для выполнения работы создайте новый блокнот и перенесите в него команды по импорту библиотек.\n",
    "Можно взять за основу блокнот Task_algo_generatio.ipynb, добавив новое содержимое в конце.\n",
    "Если хотите блокнот со своими решениями оставить для портфолио - сохраните с понятным Вам именем себе на компьютер."
   ]
  },
  {
   "cell_type": "markdown",
   "metadata": {},
   "source": [
    "Для проверки освоения приёмов вы должны пройти тест с задачами. Задачи однотипные, поэтому, если вы разобрались с их решением, то можете легко решить сколько угодно подобных задач. Подтверждением того, что освоили требуемые приёмы решения, должно быть 100% успешно выполненных задач. "
   ]
  },
  {
   "cell_type": "markdown",
   "metadata": {},
   "source": [
    "Например, Вам попалась задача:\n",
    "\n",
    "> Инициализируйте ГСЧ с состоянием 555. Сгенерируйте выборку из 20 значений из биномиального распределения с параметрами: n=20, p=0.7.\n",
    "Постройте гистограмму распределения и определите,\n",
    "сколько значений попали в диапазон от 14.6 до 15.2?\n",
    "\n",
    "и варианты ответа: 0, 5, 3, 2"
   ]
  },
  {
   "cell_type": "markdown",
   "metadata": {},
   "source": [
    "Нужно безошибочно выделить условия задачи и применить в правильных местах при вызове функций генерации выборки и построения рисунка:\n",
    "\n",
    "- Состояние ГСЧ - это аргумент для функции `seed()`.\n",
    "- 20 значений - это размер выборки, он задаётся через параметр `size=` у большинства функций распределений.\n",
    "- также даны параметры - их надо задать при вызове генератора, при этом ничего не перепутать. Будьте внимательны! Количество и порядок параметров у каждой функции свой. Смотрите справку к каждой функции.\n",
    "\n",
    "\n",
    "По условию задачи нам нужен генератор по биномиальному закону: `binomial`, в справке которого указано:\n",
    "\n",
    "```\n",
    "binomial(n, p, size=None)\n",
    "\n",
    "Draw samples from a binomial distribution.\n",
    "```\n",
    "\n",
    "У функции три аргумента `n, p, size`, которые можно задавать через запятую в этом же порядке, или с указанием имени аргумента со знаком равно."
   ]
  },
  {
   "cell_type": "code",
   "execution_count": 4,
   "metadata": {
    "tags": [
     "hide-input"
    ]
   },
   "outputs": [
    {
     "data": {
      "text/plain": [
       "array([13, 17, 11, 13, 14, 16, 11, 15, 13, 14, 15, 18, 16, 12, 13, 14, 17,\n",
       "       14, 11, 14])"
      ]
     },
     "execution_count": 4,
     "metadata": {},
     "output_type": "execute_result"
    }
   ],
   "source": [
    "seed(555)\n",
    "binomial(20, 0.7, 20)  #вариант передачи аргументов по порядку"
   ]
  },
  {
   "cell_type": "markdown",
   "metadata": {},
   "source": [
    "Полученный массив чисел нужно отправить на вход функции `hist()`. Про параметры построения рисунка в задаче ничего не сказано, значит будем вызывать эту функцию без дополнительных параметров - только массив с данными."
   ]
  },
  {
   "cell_type": "code",
   "execution_count": 5,
   "metadata": {},
   "outputs": [
    {
     "data": {
      "text/plain": [
       "(array([3., 1., 4., 0., 5., 2., 0., 2., 2., 1.]),\n",
       " array([11. , 11.7, 12.4, 13.1, 13.8, 14.5, 15.2, 15.9, 16.6, 17.3, 18. ]),\n",
       " <BarContainer object of 10 artists>)"
      ]
     },
     "execution_count": 5,
     "metadata": {},
     "output_type": "execute_result"
    },
    {
     "data": {
      "image/png": "[encoded data removed]",
      "text/plain": [
       "<Figure size 432x288 with 1 Axes>"
      ]
     },
     "metadata": {
      "needs_background": "light"
     },
     "output_type": "display_data"
    }
   ],
   "source": [
    "seed(555)\n",
    "hist(binomial(size=20, n=20, p=0.7))  #вариант передачи аргументов по имени"
   ]
  },
  {
   "cell_type": "markdown",
   "metadata": {},
   "source": [
    "На рисунке видно, что в указанном диапазоне около отметки 15 расположен столбик высотой 2 ед. Это и есть правильный ответ: в этот диапазон попало два значения из сгенерированной выборки."
   ]
  },
  {
   "cell_type": "markdown",
   "metadata": {},
   "source": [
    "Иногда количество значений значительное, и на глаз трудно точно определить нужное число по высоте столбика. В этом случае на помощь придут данные, которые возвращает функция `hist()` в дополнение к рисованию графика. Если не ставить знак точки с запятой `;`, который подавляет вывод последней команды в ячейке, то на экран выводится информация о трёх массивах.\n",
    "\n",
    "В первом массиве десять чисел, которые соответствуют высоте столбиков. Обратите внимание, что там, где столбики пропущены, стоят нули. То есть, если не задавать количество классов гистограммы с помощью параметра `bins=`, то всегда рассчитывается 10 классов (диапазонов).\n",
    "\n",
    "Во втором массиве выводятся границы этих десяти диапазонов. Первая \"корзинка\" гистограммы расположена между  11. и 11.7 и в неё попало 3 значения. Там, где закончилась первая корзинка началась вторая - от 11.7 до 12.4. Поскольку всего десять корзин и каждая ограничена с двух сторон, то в массиве краёв диапазонов одиннадцать значений - на одно больше, чем самих диапазонов.\n",
    "\n",
    "В третьем массиве выдаются ссылки на контейнеры - прямоугольные графические объекты, из которых состоит столбчатая диаграмма. Это может пригодиться для модификации рисунка - для замены заливки, добавления надписей и т.п. В данном задании они не нужны.\n",
    "\n",
    "> Попробуйте найти правильный ответ, полагаясь только на выведенные числовые массивы?\n",
    "Для этого необходимо в массиве границ (втором массиве чисел) найти пару значений из вопроса задачи. В задаче указаны числа 14.6 и 15.2. Это 6-е и 7-е числа массива границ корзинок. То, что 14.6 и 14.5 отличаются на одну десятую, можно списать на ошибку округления при выводе чисел в текстовом виде на экран.\n",
    "Между 6-й и 7-й границами находится 6-я корзинка, поэтому теперь надо найти шестое по счёту значение из первого массива чисел. Шестое значение - это 2, которая идет после 5 и перед 0. Правильный ответ - 2."
   ]
  },
  {
   "cell_type": "markdown",
   "metadata": {},
   "source": [
    "Мы рассмотрели наиболее компактное решение, которое заняло всего две строчки кода.\n",
    "\n",
    "Если завести переменные для каждого условия задачи, то код станет намного понятнее. Понятный код легче использовать повторно, ведь впереди ждут еще несколько задач подобного типа. \n",
    "Однако написание универсального кода более трудоёмко, и иногда проще сделать копию ячейки с кодом и заменить пару значений. Главное - не запутаться в названиях распределений, порядке параметров и координатных осях."
   ]
  },
  {
   "cell_type": "markdown",
   "metadata": {},
   "source": [
    "Названия переменных можно задавать любыми символами кроме тех, что используются в самом языке (точка, двоеточие, минус и др.). Поэтому символы кириллицы также пригодны для создания имён переменных, но они должны составлять одно слово. Вместо пробела можно использовать знак подчёркивания `_`."
   ]
  },
  {
   "cell_type": "code",
   "execution_count": 20,
   "metadata": {},
   "outputs": [
    {
     "data": {
      "text/plain": [
       "2"
      ]
     },
     "execution_count": 20,
     "metadata": {},
     "output_type": "execute_result"
    },
    {
     "data": {
      "image/png": "[encoded data removed]",
      "text/plain": [
       "<Figure size 432x288 with 1 Axes>"
      ]
     },
     "metadata": {
      "needs_background": "light"
     },
     "output_type": "display_data"
    }
   ],
   "source": [
    "ГСЧ = 555\n",
    "размер = 20\n",
    "распределение = binomial\n",
    "параметры = dict(n=20, p=0.7)\n",
    "границы = (14.6, 15.2)\n",
    "\n",
    "seed(ГСЧ)\n",
    "выборка = распределение(size=размер, **параметры)\n",
    "# сохраняем массивы в переменные вместо вывода на экран\n",
    "высоты, широты, _ = hist(выборка)\n",
    "# находим позицию близкую к левой границе с погрешностью в одну сотую\n",
    "индекс = where(isclose(широты, границы[0], 0.01))[0][0]\n",
    "# извлекаем нужную высоту по индексу\n",
    "ответ = int(высоты[индекс])\n",
    "ответ"
   ]
  },
  {
   "cell_type": "markdown",
   "metadata": {},
   "source": [
    "Составление более сложных \"интеллектуальных\" скриптов для обработки данных оправдано только тем, что этот код можно использовать многократно для решения однотипных задач.\n",
    "Однако, заранее трудно продумать все нюансы работы программы в разных условиях.\n",
    "Будет ли она работать с другими функциями генерации распределений с другим количеством параметров? А что будет, если выборка будет состоять из одинаковых чисел (если стандартное отклонение равно 0)? А если выборка будет очень большая?\n",
    "Скорее всего программа справится, поскольку при написании вариативное количество параметров было учтено. Синтаксис с двумя звёздочками `**параметры` используется, чтобы передать в функцию вариативное количество параметров. \n",
    "Тем не менее сложные программы потенциально более подвержены возникновению ошибок и разных конфликтующих ситуаций с данными. \n",
    "При возникновении ошибок код можно поправить для учёта таких редких случаев - это так называемая *отладка* программы. При отладке программу тестируют с разными входными данными и проверяют, чтобы она выдавала адекватный результат при самых разных сочетаниях  и условиях."
   ]
  },
  {
   "cell_type": "markdown",
   "metadata": {},
   "source": [
    "При работе с учебными задачами рекомендуется копировать текст задания в ячейку с комментарием, и в следующих 1-3 ячейках с кодом находить решение. И так повторить для всех заданий. В итоге у Вас останется блокнот с рабочими решениями, к которым можно будет обращаться в случае необходимости."
   ]
  }
 ],
 "metadata": {
  "kernelspec": {
   "display_name": "Python 3",
   "language": "python",
   "name": "python3"
  },
  "language_info": {
   "codemirror_mode": {
    "name": "ipython",
    "version": 3
   },
   "file_extension": ".py",
   "mimetype": "text/x-python",
   "name": "python",
   "nbconvert_exporter": "python",
   "pygments_lexer": "ipython3",
   "version": "3.9.0rc1"
  }
 },
 "nbformat": 4,
 "nbformat_minor": 4
}
