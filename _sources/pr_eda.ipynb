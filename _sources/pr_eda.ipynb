{
 "cells": [
  {
   "cell_type": "markdown",
   "metadata": {},
   "source": [
    "# Разведочный анализ"
   ]
  },
  {
   "cell_type": "markdown",
   "metadata": {},
   "source": [
    "В этой практической работе Вы освоите:\n",
    "- Организация данных в таблицу для анализа. Длинные/широкие таблицы.\n",
    "- Сортировка и фильтрация.\n",
    "- Обнаружение и удаление артефактов;\n",
    "- Способы заполнения пропусков.\n",
    "- Преобразование данных. Логарифмирование и экспоненцирование.\n",
    "- Анонимизация биомедицинских данных.\n"
   ]
  }
 ],
 "metadata": {
  "kernelspec": {
   "display_name": "Python 3",
   "language": "python",
   "name": "python3"
  },
  "language_info": {
   "codemirror_mode": {
    "name": "ipython",
    "version": 3
   },
   "file_extension": ".py",
   "mimetype": "text/x-python",
   "name": "python",
   "nbconvert_exporter": "python",
   "pygments_lexer": "ipython3",
   "version": "3.9.0rc1"
  }
 },
 "nbformat": 4,
 "nbformat_minor": 4
}
