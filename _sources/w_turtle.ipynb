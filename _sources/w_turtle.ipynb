{
 "cells": [
  {
   "cell_type": "markdown",
   "metadata": {},
   "source": [
    "# ☑ Подготовка данных"
   ]
  },
  {
   "cell_type": "markdown",
   "metadata": {},
   "source": [
    "Для выполнения тестовых заданий необходимо освоить приемы:\n",
    "\n",
    "-   Импорт набора данных из файла.\n",
    "-   Отбор наблюдений по разным параметрам.\n",
    "-   Экстраполяция отсутствующих значений на основании соседних со сходными параметрами.\n",
    "    "
   ]
  },
  {
   "cell_type": "code",
   "execution_count": 3,
   "metadata": {
    "tags": [
     "remove-cell"
    ]
   },
   "outputs": [
    {
     "name": "stdout",
     "output_type": "stream",
     "text": [
      "Populating the interactive namespace from numpy and matplotlib\n"
     ]
    }
   ],
   "source": [
    "%pylab inline\n",
    "import pandas as pd"
   ]
  },
  {
   "cell_type": "markdown",
   "metadata": {},
   "source": [
    "## Подготовка блокнота\n",
    "\n",
    "Начать работу следует с создания нового блокнота, в котором задайте структуру из заголовков. Назвать блокнот можете \"Самостоятельная работа по подготовке данных\", \"Черепашки\", \"Анализ таблицы pandas\" или как Вам будет понятней, если позже захотите вернуться к этим задачам."
   ]
  },
  {
   "cell_type": "markdown",
   "metadata": {},
   "source": [
    "В качестве источников решений для конкретных задач откройте во вкладках блокноты \n",
    "Task_dataset_turtle.ipynb, Task_pre_turtle.ipynb и Task_modeline_turtle.ipynb и освежите в памяти, что в каком из них описывается.\n",
    "\n",
    ":::{tip}\n",
    "Чтобы открыть ссылку в новой кладке, можно кликнуть, удерживая клавишу Ctrl.\n",
    ":::\n",
    "\n",
    "Из предыдущего анализа набора данных про черепах ясно, что часть колонок не потребуются, поэтому сразу после загрузки можно убрать неиспользуемые колонки.\n",
    "В систематических наименованиях сразу же следует почистить пробелы по краям."
   ]
  },
  {
   "cell_type": "code",
   "execution_count": 4,
   "metadata": {},
   "outputs": [
    {
     "name": "stdout",
     "output_type": "stream",
     "text": [
      "<class 'pandas.core.frame.DataFrame'>\n",
      "RangeIndex: 692 entries, 0 to 691\n",
      "Data columns (total 16 columns):\n",
      " #   Column            Non-Null Count  Dtype  \n",
      "---  ------            --------------  -----  \n",
      " 0   Genus             692 non-null    object \n",
      " 1   Species           692 non-null    object \n",
      " 2   Common Name       306 non-null    object \n",
      " 3   Family            692 non-null    object \n",
      " 4   M Mass (g)        297 non-null    float64\n",
      " 5   F Mass (g)        297 non-null    float64\n",
      " 6   N                 446 non-null    object \n",
      " 7   Locality          289 non-null    object \n",
      " 8   M SCL (mm)        534 non-null    float64\n",
      " 9   F SCL (mm)        537 non-null    float64\n",
      " 10  M Max Mass (g)    126 non-null    float64\n",
      " 11  F Max Mass (g)    127 non-null    float64\n",
      " 12  Pop Max Mass (g)  113 non-null    float64\n",
      " 13  M Max SCL (mm)    271 non-null    float64\n",
      " 14  F Max SCL (mm)    272 non-null    float64\n",
      " 15  Pop Max SCL (mm)  125 non-null    float64\n",
      "dtypes: float64(10), object(6)\n",
      "memory usage: 86.6+ KB\n"
     ]
    }
   ],
   "source": [
    "D = pd.read_excel(r'd/Data_S1_Complete_Dataset.xlsx', skiprows=5)\n",
    "D=D.iloc[:,6:-5]\n",
    "D.info()"
   ]
  },
  {
   "cell_type": "code",
   "execution_count": 22,
   "metadata": {},
   "outputs": [],
   "source": [
    "D.Genus = D.Genus.str.strip()\n",
    "D.Species = D.Species.str.strip()\n",
    "D.Family = D.Family.str.strip()\n",
    "# бинарная классификация\n",
    "D['vid'] = D.Genus + ' ' + D.Species"
   ]
  },
  {
   "cell_type": "markdown",
   "metadata": {},
   "source": [
    "Поле 'vid' удобно для отбора записей по виду. Например, в задаче спрашивается про средиземноморских черепах (Testudo graeca).\n",
    "Без сделанных преобразований код для отбора мог бы быть таким:\n",
    "```py\n",
    "X = D[(D.Species.str.strip()=='graeca')]\n",
    "```\n",
    "То есть чистку поля Species выполняем прямо в условии отбора. Использование только видового названия в данном случае рискованно. Вдруг есть виды в других родах, также названные \"греческими\"?\n",
    "\n",
    "После сделанных чисток названий рода и вида запрос с точным отбором записей по одному виду может быть таким:\n",
    "```py\n",
    "X = D[(D.vid=='Testudo graeca')]\n",
    "```\n",
    "\n"
   ]
  },
  {
   "cell_type": "markdown",
   "metadata": {},
   "source": [
    "> Сделайте заголовки второго уровня для решения отдельных заданий. Это удобно, чтобы не запутаться в однотипных заданиях.\n"
   ]
  },
  {
   "cell_type": "markdown",
   "metadata": {},
   "source": [
    "\n",
    ":::{tip}\n",
    "Чтобы хорошо было видно код, удерживая `Ctrl`, покрутите колёсико мыши до достижения удобной читаемости букв.\n",
    ":::"
   ]
  },
  {
   "cell_type": "markdown",
   "metadata": {},
   "source": [
    "\n",
    "Принцип работы - наращиваем содержание за счет новых ячеек, в которых размещаем комментарии или код. Быстро получаем результат.\n"
   ]
  },
  {
   "cell_type": "markdown",
   "metadata": {},
   "source": [
    "> Скопируйте текст задачи, чтобы он был перед глазами во время решения, и не приходилось переключаться между окнами."
   ]
  },
  {
   "cell_type": "markdown",
   "metadata": {},
   "source": [
    "## Задача 1.\n",
    "\n",
    "Для представителей какого семейства больше всего записей, в которых указан максимальный размер самок, но не указан самцов?"
   ]
  },
  {
   "cell_type": "markdown",
   "metadata": {},
   "source": [
    "> Определитесь, о каких колонках данных идет речь?"
   ]
  },
  {
   "cell_type": "markdown",
   "metadata": {},
   "source": [
    "Если просто размер самок, то это 'F SCL (mm)', а если максимальный, то в названии добавляется префикс \"Max\": 'F Max SCL (mm)'."
   ]
  },
  {
   "cell_type": "markdown",
   "metadata": {},
   "source": [
    "> Найдите пример кода в блокноте, где делается проверка, сколько записей размеров мужских без женских."
   ]
  },
  {
   "cell_type": "markdown",
   "metadata": {},
   "source": [
    "Вносим изменения в код - указываем нужные нам колонки данных.\n",
    "- Метод проверяющий отсутствие - `.isnull()` или `.isna()`.\n",
    "- Метод проверяющий присутствие - `.notnull()` или `.notna()`."
   ]
  },
  {
   "cell_type": "markdown",
   "metadata": {},
   "source": [
    ":::{tip}\n",
    "Ссылку на колонку указываем в квадратных скобках и кавычках.\n",
    "Чтобы учесть два условия, соедините их знаком амперсенд `&`.\n",
    ":::"
   ]
  },
  {
   "cell_type": "code",
   "execution_count": 7,
   "metadata": {},
   "outputs": [
    {
     "data": {
      "text/plain": [
       "(8, 16)"
      ]
     },
     "execution_count": 7,
     "metadata": {},
     "output_type": "execute_result"
    }
   ],
   "source": [
    "X = D[ D['F Max SCL (mm)'].notnull() & D['M Max SCL (mm)'].isnull()]\n",
    "X.shape"
   ]
  },
  {
   "cell_type": "markdown",
   "metadata": {},
   "source": [
    "Записей, удовлетворяющих заданному условию, нашлось 8 шт. Выборку этих записей мы присвоили переменной `X`.\n",
    "Посчитаем теперь значения семейств из этой выборки."
   ]
  },
  {
   "cell_type": "code",
   "execution_count": 8,
   "metadata": {},
   "outputs": [
    {
     "data": {
      "text/plain": [
       "Chelidae          3\n",
       "Dermochelyidae    1\n",
       "Cheloniidae       1\n",
       "Pelomedusidae     1\n",
       "Trionychidae      1\n",
       "Geoemydidae       1\n",
       "Name: Family, dtype: int64"
      ]
     },
     "execution_count": 8,
     "metadata": {},
     "output_type": "execute_result"
    }
   ],
   "source": [
    "X['Family'].value_counts()"
   ]
  },
  {
   "cell_type": "markdown",
   "metadata": {},
   "source": [
    "Ответ - это метка первого максимального значения: Chelidae.\n",
    "\n",
    "Чтобы получить чистый ответ - сохраним подсчеты в переменной, у которой найдем индекс максимума."
   ]
  },
  {
   "cell_type": "code",
   "execution_count": 12,
   "metadata": {},
   "outputs": [
    {
     "data": {
      "text/plain": [
       "'Chelidae'"
      ]
     },
     "execution_count": 12,
     "metadata": {},
     "output_type": "execute_result"
    }
   ],
   "source": [
    "N = X['Family'].value_counts()\n",
    "N.idxmax()"
   ]
  },
  {
   "cell_type": "markdown",
   "metadata": {},
   "source": [
    "Теперь нужно перейти в образовательный портал и выбрать правильный вариант ответа на вопрос.\n",
    "\n",
    "Следующий шаг - скопировать текст следующей задачи и перенести ее в подготовленый раздел."
   ]
  },
  {
   "cell_type": "markdown",
   "metadata": {},
   "source": [
    "## Задача 2\n",
    "\n",
    "К какому виду относится самая крупная по размеру особь черепахи из Индонезии (Indonesia) согласно набору данных для исследования полового диморфизма черепах?"
   ]
  },
  {
   "cell_type": "markdown",
   "metadata": {},
   "source": [
    "Отберем записи по предложенной локализации - в скобках указана подстрока для поиска.\n",
    "\n",
    "В наборе данных пять показателей размера. Найдем максимальное значение среди них."
   ]
  },
  {
   "cell_type": "code",
   "execution_count": 18,
   "metadata": {},
   "outputs": [
    {
     "data": {
      "text/plain": [
       "M SCL (mm)          281.0\n",
       "F SCL (mm)          228.0\n",
       "M Max SCL (mm)      282.0\n",
       "F Max SCL (mm)      287.0\n",
       "Pop Max SCL (mm)    287.0\n",
       "dtype: float64"
      ]
     },
     "execution_count": 18,
     "metadata": {},
     "output_type": "execute_result"
    }
   ],
   "source": [
    "X = D[D.Locality.str.contains('Indonesia')==True]\n",
    "kkl=['M SCL (mm)','F SCL (mm)','M Max SCL (mm)','F Max SCL (mm)','Pop Max SCL (mm)']\n",
    "X[kkl].max()"
   ]
  },
  {
   "cell_type": "markdown",
   "metadata": {},
   "source": [
    "Среди индонезийских черепах самая большая самка с карапаксом 287 см. Она же указана и самой большой в популяции.\n",
    "\n",
    "Найдем индекс этой записи и получим по индексу всю необходимую информацию."
   ]
  },
  {
   "cell_type": "code",
   "execution_count": 20,
   "metadata": {},
   "outputs": [
    {
     "data": {
      "text/plain": [
       "57"
      ]
     },
     "execution_count": 20,
     "metadata": {},
     "output_type": "execute_result"
    }
   ],
   "source": [
    "X['Pop Max SCL (mm)'].idxmax()"
   ]
  },
  {
   "cell_type": "code",
   "execution_count": 24,
   "metadata": {},
   "outputs": [
    {
     "data": {
      "text/plain": [
       "'Chelodina oblonga'"
      ]
     },
     "execution_count": 24,
     "metadata": {},
     "output_type": "execute_result"
    }
   ],
   "source": [
    "D.loc[57, 'vid']"
   ]
  },
  {
   "cell_type": "markdown",
   "metadata": {},
   "source": [
    "Другие задачи решаются аналогично в 2-4 действия.\n",
    "\n",
    "Первым действием как правило идет отбор выборки по какому-то условию или очистка строк, \"загрязенных\" лишними пробелами.\n",
    "\n",
    "Задачи на подсчёт уникальных семейств и видов после произведенных чисток названий родов и видов и создания вспомогательных колонок решаются в одно действие с помощью методов `.nunique()` или `.value_counts()`.\n",
    "\n",
    "После адаптации подходящих фрагментов кода к своей задаче, обязательно проверьте - все ли названия полей и строки поиска исправлены в соответствии с условиями."
   ]
  }
 ],
 "metadata": {
  "kernelspec": {
   "display_name": "Python 3",
   "language": "python",
   "name": "python3"
  },
  "language_info": {
   "codemirror_mode": {
    "name": "ipython",
    "version": 3
   },
   "file_extension": ".py",
   "mimetype": "text/x-python",
   "name": "python",
   "nbconvert_exporter": "python",
   "pygments_lexer": "ipython3",
   "version": "3.9.0rc1"
  }
 },
 "nbformat": 4,
 "nbformat_minor": 4
}
