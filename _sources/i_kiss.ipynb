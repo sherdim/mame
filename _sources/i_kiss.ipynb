{
 "cells": [
  {
   "cell_type": "markdown",
   "metadata": {},
   "source": [
    "# Дистанция между строками"
   ]
  },
  {
   "cell_type": "markdown",
   "metadata": {},
   "source": [
    "Белок [kisspeptin](http://www.uniprot.org/uniprot/Q15726) (metastin), кодируемый геном [Kiss1/KISS1](http://www.genecards.org/cgi-bin/carddisp.pl?gene=KISS1), рассматривается как главный регулятор  полового созревания посредством регуляции гонадолиберина (GnRH). \n",
    "У человека этот белок при соединении с рецептором GPR54 на поверхности клеточной мембраны блокирует деление и миграцию клеток, т.е. препятствует метастазам при некоторых опухолях. \n",
    "\n",
    "В формате FASTA:\n",
    "```\n",
    ">sp|Q15726|KISS1_HUMAN Metastasis-suppressor KiSS-1 OS=Homo sapiens GN=KISS1 PE=1 SV=4\n",
    "MNSLVSWQLLLFLCATHFGEPLEKVASVGNSRPTGQQLESLGLLAPGEQSLPCTERKPAA\n",
    "TARLSRRGTSLSPPPESSGSPQQPGLSAPHSRQIPAPQGAVLVQREKDLPNYNWNSFGLR\n",
    "FGKREAAPGNHGRSAGRG\n",
    "```\n",
    "\n",
    "\n",
    ":::{figure-md} kiss_3d\n",
    "![](i/kiss_structure_space.png)\n",
    "\n",
    "Пространственная структура кисспептина KISS1 [3D модель](https://swissmodel.expasy.org/repository/uniprot/Q15726).\n",
    ":::\n",
    "\n",
    "\n",
    "Также обнаружен второй вариант кисспептина Kiss2 с другой кодирующей последовательностью, но с похожей ключевой последовательностью аминокислот.\n",
    "\n",
    "В статье {cite}`kitahashi2009` сравниваются последовательности аминокислот в кисспептинах разных позвоночных.\n",
    "\n",
    ":::{figure-md} kiss_tree\n",
    "![](i/m_zee0020945640002.jpg)\n",
    "\n",
    "А. Выравнивание аминокислотных последовательностей из последовательности ядра (kisspeptin-10) Kiss1 и Kiss2. Консервативные аминокислотные остатки заштрихованы.\n",
    "B. Филогенетический анализ последовательностей кДНК Kiss1 и Kiss2. Дерево было построено с использованием метода определения ближайших соседей.\n",
    "[&copy;](https://academic.oup.com/endo/article-lookup/doi/10.1210/en.2008-0940)\n",
    ":::\n",
    "\n"
   ]
  },
  {
   "cell_type": "code",
   "execution_count": 4,
   "metadata": {
    "collapsed": false,
    "jupyter": {
     "outputs_hidden": false
    },
    "tags": [
     "remove-cell"
    ]
   },
   "outputs": [
    {
     "name": "stdout",
     "output_type": "stream",
     "text": [
      "Populating the interactive namespace from numpy and matplotlib\n"
     ]
    }
   ],
   "source": [
    "%pylab inline\n",
    "np.set_printoptions(precision=5, suppress=True)\n",
    "\n",
    "import difflib\n",
    "\n",
    "from scipy.cluster.hierarchy import dendrogram, linkage, fcluster\n",
    "from scipy.spatial.distance import pdist, squareform\n",
    "import pandas as pd\n",
    "import seaborn as sns"
   ]
  },
  {
   "cell_type": "markdown",
   "metadata": {},
   "source": [
    "Пептидные последовательности составим в виде словарика \"метка\":\"строка\"."
   ]
  },
  {
   "cell_type": "code",
   "execution_count": 1,
   "metadata": {},
   "outputs": [],
   "source": [
    "D={\n",
    "    'homo': 'YNWNSFGLRF',\n",
    "    'mus': 'YNWNSFGLRY',\n",
    "    'platypus':'YNWNSFGLRY',\n",
    "    'xenopus': 'YNVNSFGLRF',\n",
    "    'medaka1': 'YNLNSFGLRY',\n",
    "    'zf1': 'YNLNSFGLRY',\n",
    "    'medaka2': 'FNYNPFGLRF',\n",
    "    'zf2': 'FNYNPFGLRF',\n",
    "    'fugu': 'FNLNPFGLRF',\n",
    "    'xenopus2': 'FNFNPFGLRF',\n",
    "    'platypus2': 'FNFNPFGLRF',\n",
    "  }"
   ]
  },
  {
   "cell_type": "markdown",
   "metadata": {},
   "source": [
    "## \"Расстояние\" между двумя строками \n",
    "    \n",
    "Многие знают игру, как из МУХА сделать СЛОН. За один шаг разрешается менять только одну букву. Эта игра демонстрирует подход для измерения различий между любыми последовательностями символов.\n",
    "Расстояние между словами измеряется количеством операций редактирования, которые нужны, чтобы из одного слова получить другое. При этом разные варианты таких метрик могут считать прибавление или удаление нескольких символов за одну операцию, или игнорировать пробелы, или не учитывать регистр букв и т.п. Более продвинутые системы распознавания слов учитывают падежные окончания, контекст использования, синонимы и пр. Такие системы используются для исправления запросов в поисковых системах (напр. Яндекс)."
   ]
  },
  {
   "cell_type": "code",
   "execution_count": 2,
   "metadata": {
    "collapsed": false,
    "jupyter": {
     "outputs_hidden": false
    }
   },
   "outputs": [
    {
     "data": {
      "text/plain": [
       "('YNWNSFGLRF', 'YNWNSFGLRY')"
      ]
     },
     "execution_count": 2,
     "metadata": {},
     "output_type": "execute_result"
    }
   ],
   "source": [
    "(D['homo'],D['mus'])"
   ]
  },
  {
   "cell_type": "markdown",
   "metadata": {},
   "source": [
    "Сравнение строк производится по количеству операций. "
   ]
  },
  {
   "cell_type": "code",
   "execution_count": 5,
   "metadata": {
    "collapsed": false,
    "jupyter": {
     "outputs_hidden": false
    }
   },
   "outputs": [
    {
     "data": {
      "text/plain": [
       "0.9"
      ]
     },
     "execution_count": 5,
     "metadata": {},
     "output_type": "execute_result"
    }
   ],
   "source": [
    "o=difflib.SequenceMatcher(a=D['homo'], b=D['mus'])\n",
    "o.ratio()"
   ]
  },
  {
   "cell_type": "markdown",
   "metadata": {},
   "source": [
    "Определим функцию, которая будет сравнивать два слова."
   ]
  },
  {
   "cell_type": "code",
   "execution_count": 6,
   "metadata": {},
   "outputs": [],
   "source": [
    "def strcompare(a,b):\n",
    "    sm=difflib.SequenceMatcher(None, a, b)\n",
    "    \n",
    "    #m=sm.find_longest_match(0,11,0,11)\n",
    "    #print('Наиболее длинная последовательность в словах {} и {}:'.format(a,b))\n",
    "    \n",
    "    for block in sm.get_matching_blocks():\n",
    "        if block[2]:\n",
    "            print(\"совпадение из {2} символов в позициях a[{0}] и b[{1}]\".format(*block))\n",
    "    print()\n",
    "    print('Чтобы получить из {} => {}:'.format(a,b))\n",
    "    for opcode in sm.get_opcodes():\n",
    "        print(\"    {:7s} a[{}:{}] b[{}:{}]\".format(*opcode))\n",
    "\n",
    "    p=sm.ratio()\n",
    "    print('Сходство {:.1f}%'.format(p*100))\n",
    "    \n",
    "    return p"
   ]
  },
  {
   "cell_type": "code",
   "execution_count": 7,
   "metadata": {
    "collapsed": false,
    "jupyter": {
     "outputs_hidden": false
    }
   },
   "outputs": [
    {
     "name": "stdout",
     "output_type": "stream",
     "text": [
      "совпадение из 1 символов в позициях a[1] и b[0]\n",
      "\n",
      "Чтобы получить из \"ТЕРМИНАТОР\" => Терминатор-2:\n",
      "    delete  a[0:1] b[0:0]\n",
      "    equal   a[1:2] b[0:1]\n",
      "    replace a[2:12] b[1:12]\n",
      "Сходство 8.3%\n"
     ]
    },
    {
     "data": {
      "text/plain": [
       "0.08333333333333333"
      ]
     },
     "execution_count": 7,
     "metadata": {},
     "output_type": "execute_result"
    }
   ],
   "source": [
    "s1='\"ТЕРМИНАТОР\"'\n",
    "s2='Терминатор-2'\n",
    "strcompare(s1,s2)"
   ]
  },
  {
   "cell_type": "markdown",
   "metadata": {},
   "source": [
    "Для человека эти строки практически одинаковы по смыслу. Но для компьютера всего лишь один общий символ - большое Т."
   ]
  },
  {
   "cell_type": "code",
   "execution_count": 8,
   "metadata": {
    "collapsed": false,
    "jupyter": {
     "outputs_hidden": false
    }
   },
   "outputs": [
    {
     "name": "stdout",
     "output_type": "stream",
     "text": [
      "совпадение из 10 символов в позициях a[1] и b[0]\n",
      "\n",
      "Чтобы получить из \"терминатор\" => терминатор-2:\n",
      "    delete  a[0:1] b[0:0]\n",
      "    equal   a[1:11] b[0:10]\n",
      "    replace a[11:12] b[10:12]\n",
      "Сходство 83.3%\n"
     ]
    },
    {
     "data": {
      "text/plain": [
       "0.8333333333333334"
      ]
     },
     "execution_count": 8,
     "metadata": {},
     "output_type": "execute_result"
    }
   ],
   "source": [
    "strcompare(s1.lower(), s2.lower())"
   ]
  },
  {
   "cell_type": "markdown",
   "metadata": {},
   "source": [
    "Если мы приведем эти строки к единому регистру, то сходство обнаруживается.\n",
    "Операции унификации важны и при сравнении биологических последовательностей. Например, при поиске комплементарных цепей РНК к известному коду ДНК нужно перекодировать все буквы в соответствии с парными комплексами  A-T и G-C."
   ]
  },
  {
   "cell_type": "code",
   "execution_count": 9,
   "metadata": {
    "collapsed": false,
    "jupyter": {
     "outputs_hidden": false
    }
   },
   "outputs": [
    {
     "name": "stdout",
     "output_type": "stream",
     "text": [
      "совпадение из 9 символов в позициях a[0] и b[0]\n",
      "\n",
      "Чтобы получить из YNWNSFGLRF => YNWNSFGLRY:\n",
      "    equal   a[0:9] b[0:9]\n",
      "    replace a[9:10] b[9:10]\n",
      "Сходство 90.0%\n"
     ]
    },
    {
     "data": {
      "text/plain": [
       "0.9"
      ]
     },
     "execution_count": 9,
     "metadata": {},
     "output_type": "execute_result"
    }
   ],
   "source": [
    "strcompare(D['homo'], D['mus'])"
   ]
  },
  {
   "cell_type": "markdown",
   "metadata": {},
   "source": [
    "Сходные явления при анализе текста и в биологии:\n",
    "- Операция редактирования ~ мутация\n",
    "- Расстояние между строками ~ возраст общего предка\n",
    "- Приведение к одному регистру ~ трансляция ДНК в РНК\n",
    "- Не учитывать окончания (стемминг) ~ вырожденность генетического кода\n",
    "- Контекст использования ~ гидрофильный/гидрофобный конец, отрицательно/положительно заряженный"
   ]
  },
  {
   "cell_type": "markdown",
   "metadata": {},
   "source": [
    "## Чем ближе, тем меньше дистанция"
   ]
  },
  {
   "cell_type": "markdown",
   "metadata": {},
   "source": [
    "Переведем данные о пептидах в табличный вид."
   ]
  },
  {
   "cell_type": "code",
   "execution_count": 11,
   "metadata": {
    "collapsed": false,
    "jupyter": {
     "outputs_hidden": false
    }
   },
   "outputs": [
    {
     "data": {
      "text/html": [
       "<div>\n",
       "<style scoped>\n",
       "    .dataframe tbody tr th:only-of-type {\n",
       "        vertical-align: middle;\n",
       "    }\n",
       "\n",
       "    .dataframe tbody tr th {\n",
       "        vertical-align: top;\n",
       "    }\n",
       "\n",
       "    .dataframe thead th {\n",
       "        text-align: right;\n",
       "    }\n",
       "</style>\n",
       "<table border=\"1\" class=\"dataframe\">\n",
       "  <thead>\n",
       "    <tr style=\"text-align: right;\">\n",
       "      <th></th>\n",
       "      <th>0</th>\n",
       "      <th>1</th>\n",
       "      <th>2</th>\n",
       "      <th>3</th>\n",
       "      <th>4</th>\n",
       "      <th>5</th>\n",
       "      <th>6</th>\n",
       "      <th>7</th>\n",
       "      <th>8</th>\n",
       "      <th>9</th>\n",
       "    </tr>\n",
       "  </thead>\n",
       "  <tbody>\n",
       "    <tr>\n",
       "      <th>homo</th>\n",
       "      <td>Y</td>\n",
       "      <td>N</td>\n",
       "      <td>W</td>\n",
       "      <td>N</td>\n",
       "      <td>S</td>\n",
       "      <td>F</td>\n",
       "      <td>G</td>\n",
       "      <td>L</td>\n",
       "      <td>R</td>\n",
       "      <td>F</td>\n",
       "    </tr>\n",
       "    <tr>\n",
       "      <th>mus</th>\n",
       "      <td>Y</td>\n",
       "      <td>N</td>\n",
       "      <td>W</td>\n",
       "      <td>N</td>\n",
       "      <td>S</td>\n",
       "      <td>F</td>\n",
       "      <td>G</td>\n",
       "      <td>L</td>\n",
       "      <td>R</td>\n",
       "      <td>Y</td>\n",
       "    </tr>\n",
       "    <tr>\n",
       "      <th>platypus</th>\n",
       "      <td>Y</td>\n",
       "      <td>N</td>\n",
       "      <td>W</td>\n",
       "      <td>N</td>\n",
       "      <td>S</td>\n",
       "      <td>F</td>\n",
       "      <td>G</td>\n",
       "      <td>L</td>\n",
       "      <td>R</td>\n",
       "      <td>Y</td>\n",
       "    </tr>\n",
       "    <tr>\n",
       "      <th>xenopus</th>\n",
       "      <td>Y</td>\n",
       "      <td>N</td>\n",
       "      <td>V</td>\n",
       "      <td>N</td>\n",
       "      <td>S</td>\n",
       "      <td>F</td>\n",
       "      <td>G</td>\n",
       "      <td>L</td>\n",
       "      <td>R</td>\n",
       "      <td>F</td>\n",
       "    </tr>\n",
       "    <tr>\n",
       "      <th>medaka1</th>\n",
       "      <td>Y</td>\n",
       "      <td>N</td>\n",
       "      <td>L</td>\n",
       "      <td>N</td>\n",
       "      <td>S</td>\n",
       "      <td>F</td>\n",
       "      <td>G</td>\n",
       "      <td>L</td>\n",
       "      <td>R</td>\n",
       "      <td>Y</td>\n",
       "    </tr>\n",
       "    <tr>\n",
       "      <th>zf1</th>\n",
       "      <td>Y</td>\n",
       "      <td>N</td>\n",
       "      <td>L</td>\n",
       "      <td>N</td>\n",
       "      <td>S</td>\n",
       "      <td>F</td>\n",
       "      <td>G</td>\n",
       "      <td>L</td>\n",
       "      <td>R</td>\n",
       "      <td>Y</td>\n",
       "    </tr>\n",
       "    <tr>\n",
       "      <th>medaka2</th>\n",
       "      <td>F</td>\n",
       "      <td>N</td>\n",
       "      <td>Y</td>\n",
       "      <td>N</td>\n",
       "      <td>P</td>\n",
       "      <td>F</td>\n",
       "      <td>G</td>\n",
       "      <td>L</td>\n",
       "      <td>R</td>\n",
       "      <td>F</td>\n",
       "    </tr>\n",
       "    <tr>\n",
       "      <th>zf2</th>\n",
       "      <td>F</td>\n",
       "      <td>N</td>\n",
       "      <td>Y</td>\n",
       "      <td>N</td>\n",
       "      <td>P</td>\n",
       "      <td>F</td>\n",
       "      <td>G</td>\n",
       "      <td>L</td>\n",
       "      <td>R</td>\n",
       "      <td>F</td>\n",
       "    </tr>\n",
       "    <tr>\n",
       "      <th>fugu</th>\n",
       "      <td>F</td>\n",
       "      <td>N</td>\n",
       "      <td>L</td>\n",
       "      <td>N</td>\n",
       "      <td>P</td>\n",
       "      <td>F</td>\n",
       "      <td>G</td>\n",
       "      <td>L</td>\n",
       "      <td>R</td>\n",
       "      <td>F</td>\n",
       "    </tr>\n",
       "    <tr>\n",
       "      <th>xenopus2</th>\n",
       "      <td>F</td>\n",
       "      <td>N</td>\n",
       "      <td>F</td>\n",
       "      <td>N</td>\n",
       "      <td>P</td>\n",
       "      <td>F</td>\n",
       "      <td>G</td>\n",
       "      <td>L</td>\n",
       "      <td>R</td>\n",
       "      <td>F</td>\n",
       "    </tr>\n",
       "    <tr>\n",
       "      <th>platypus2</th>\n",
       "      <td>F</td>\n",
       "      <td>N</td>\n",
       "      <td>F</td>\n",
       "      <td>N</td>\n",
       "      <td>P</td>\n",
       "      <td>F</td>\n",
       "      <td>G</td>\n",
       "      <td>L</td>\n",
       "      <td>R</td>\n",
       "      <td>F</td>\n",
       "    </tr>\n",
       "  </tbody>\n",
       "</table>\n",
       "</div>"
      ],
      "text/plain": [
       "           0  1  2  3  4  5  6  7  8  9\n",
       "homo       Y  N  W  N  S  F  G  L  R  F\n",
       "mus        Y  N  W  N  S  F  G  L  R  Y\n",
       "platypus   Y  N  W  N  S  F  G  L  R  Y\n",
       "xenopus    Y  N  V  N  S  F  G  L  R  F\n",
       "medaka1    Y  N  L  N  S  F  G  L  R  Y\n",
       "zf1        Y  N  L  N  S  F  G  L  R  Y\n",
       "medaka2    F  N  Y  N  P  F  G  L  R  F\n",
       "zf2        F  N  Y  N  P  F  G  L  R  F\n",
       "fugu       F  N  L  N  P  F  G  L  R  F\n",
       "xenopus2   F  N  F  N  P  F  G  L  R  F\n",
       "platypus2  F  N  F  N  P  F  G  L  R  F"
      ]
     },
     "execution_count": 11,
     "metadata": {},
     "output_type": "execute_result"
    }
   ],
   "source": [
    "D = pd.DataFrame(list(map(list,D.values())), index=D.keys())\n",
    "D"
   ]
  },
  {
   "cell_type": "markdown",
   "metadata": {},
   "source": [
    "Разные метрики дистанции работают с числами. Поэтому переведем буквы в числа. Поскольку величина этих чисел значения не имеет, пусть это будут коды этих букв в стандартной кодовой странице символов."
   ]
  },
  {
   "cell_type": "code",
   "execution_count": 12,
   "metadata": {
    "collapsed": false,
    "jupyter": {
     "outputs_hidden": false
    }
   },
   "outputs": [
    {
     "data": {
      "text/html": [
       "<div>\n",
       "<style scoped>\n",
       "    .dataframe tbody tr th:only-of-type {\n",
       "        vertical-align: middle;\n",
       "    }\n",
       "\n",
       "    .dataframe tbody tr th {\n",
       "        vertical-align: top;\n",
       "    }\n",
       "\n",
       "    .dataframe thead th {\n",
       "        text-align: right;\n",
       "    }\n",
       "</style>\n",
       "<table border=\"1\" class=\"dataframe\">\n",
       "  <thead>\n",
       "    <tr style=\"text-align: right;\">\n",
       "      <th></th>\n",
       "      <th>0</th>\n",
       "      <th>1</th>\n",
       "      <th>2</th>\n",
       "      <th>3</th>\n",
       "      <th>4</th>\n",
       "      <th>5</th>\n",
       "      <th>6</th>\n",
       "      <th>7</th>\n",
       "      <th>8</th>\n",
       "      <th>9</th>\n",
       "    </tr>\n",
       "  </thead>\n",
       "  <tbody>\n",
       "    <tr>\n",
       "      <th>homo</th>\n",
       "      <td>89</td>\n",
       "      <td>78</td>\n",
       "      <td>87</td>\n",
       "      <td>78</td>\n",
       "      <td>83</td>\n",
       "      <td>70</td>\n",
       "      <td>71</td>\n",
       "      <td>76</td>\n",
       "      <td>82</td>\n",
       "      <td>70</td>\n",
       "    </tr>\n",
       "    <tr>\n",
       "      <th>mus</th>\n",
       "      <td>89</td>\n",
       "      <td>78</td>\n",
       "      <td>87</td>\n",
       "      <td>78</td>\n",
       "      <td>83</td>\n",
       "      <td>70</td>\n",
       "      <td>71</td>\n",
       "      <td>76</td>\n",
       "      <td>82</td>\n",
       "      <td>89</td>\n",
       "    </tr>\n",
       "    <tr>\n",
       "      <th>platypus</th>\n",
       "      <td>89</td>\n",
       "      <td>78</td>\n",
       "      <td>87</td>\n",
       "      <td>78</td>\n",
       "      <td>83</td>\n",
       "      <td>70</td>\n",
       "      <td>71</td>\n",
       "      <td>76</td>\n",
       "      <td>82</td>\n",
       "      <td>89</td>\n",
       "    </tr>\n",
       "    <tr>\n",
       "      <th>xenopus</th>\n",
       "      <td>89</td>\n",
       "      <td>78</td>\n",
       "      <td>86</td>\n",
       "      <td>78</td>\n",
       "      <td>83</td>\n",
       "      <td>70</td>\n",
       "      <td>71</td>\n",
       "      <td>76</td>\n",
       "      <td>82</td>\n",
       "      <td>70</td>\n",
       "    </tr>\n",
       "    <tr>\n",
       "      <th>medaka1</th>\n",
       "      <td>89</td>\n",
       "      <td>78</td>\n",
       "      <td>76</td>\n",
       "      <td>78</td>\n",
       "      <td>83</td>\n",
       "      <td>70</td>\n",
       "      <td>71</td>\n",
       "      <td>76</td>\n",
       "      <td>82</td>\n",
       "      <td>89</td>\n",
       "    </tr>\n",
       "    <tr>\n",
       "      <th>zf1</th>\n",
       "      <td>89</td>\n",
       "      <td>78</td>\n",
       "      <td>76</td>\n",
       "      <td>78</td>\n",
       "      <td>83</td>\n",
       "      <td>70</td>\n",
       "      <td>71</td>\n",
       "      <td>76</td>\n",
       "      <td>82</td>\n",
       "      <td>89</td>\n",
       "    </tr>\n",
       "    <tr>\n",
       "      <th>medaka2</th>\n",
       "      <td>70</td>\n",
       "      <td>78</td>\n",
       "      <td>89</td>\n",
       "      <td>78</td>\n",
       "      <td>80</td>\n",
       "      <td>70</td>\n",
       "      <td>71</td>\n",
       "      <td>76</td>\n",
       "      <td>82</td>\n",
       "      <td>70</td>\n",
       "    </tr>\n",
       "    <tr>\n",
       "      <th>zf2</th>\n",
       "      <td>70</td>\n",
       "      <td>78</td>\n",
       "      <td>89</td>\n",
       "      <td>78</td>\n",
       "      <td>80</td>\n",
       "      <td>70</td>\n",
       "      <td>71</td>\n",
       "      <td>76</td>\n",
       "      <td>82</td>\n",
       "      <td>70</td>\n",
       "    </tr>\n",
       "    <tr>\n",
       "      <th>fugu</th>\n",
       "      <td>70</td>\n",
       "      <td>78</td>\n",
       "      <td>76</td>\n",
       "      <td>78</td>\n",
       "      <td>80</td>\n",
       "      <td>70</td>\n",
       "      <td>71</td>\n",
       "      <td>76</td>\n",
       "      <td>82</td>\n",
       "      <td>70</td>\n",
       "    </tr>\n",
       "    <tr>\n",
       "      <th>xenopus2</th>\n",
       "      <td>70</td>\n",
       "      <td>78</td>\n",
       "      <td>70</td>\n",
       "      <td>78</td>\n",
       "      <td>80</td>\n",
       "      <td>70</td>\n",
       "      <td>71</td>\n",
       "      <td>76</td>\n",
       "      <td>82</td>\n",
       "      <td>70</td>\n",
       "    </tr>\n",
       "    <tr>\n",
       "      <th>platypus2</th>\n",
       "      <td>70</td>\n",
       "      <td>78</td>\n",
       "      <td>70</td>\n",
       "      <td>78</td>\n",
       "      <td>80</td>\n",
       "      <td>70</td>\n",
       "      <td>71</td>\n",
       "      <td>76</td>\n",
       "      <td>82</td>\n",
       "      <td>70</td>\n",
       "    </tr>\n",
       "  </tbody>\n",
       "</table>\n",
       "</div>"
      ],
      "text/plain": [
       "            0   1   2   3   4   5   6   7   8   9\n",
       "homo       89  78  87  78  83  70  71  76  82  70\n",
       "mus        89  78  87  78  83  70  71  76  82  89\n",
       "platypus   89  78  87  78  83  70  71  76  82  89\n",
       "xenopus    89  78  86  78  83  70  71  76  82  70\n",
       "medaka1    89  78  76  78  83  70  71  76  82  89\n",
       "zf1        89  78  76  78  83  70  71  76  82  89\n",
       "medaka2    70  78  89  78  80  70  71  76  82  70\n",
       "zf2        70  78  89  78  80  70  71  76  82  70\n",
       "fugu       70  78  76  78  80  70  71  76  82  70\n",
       "xenopus2   70  78  70  78  80  70  71  76  82  70\n",
       "platypus2  70  78  70  78  80  70  71  76  82  70"
      ]
     },
     "execution_count": 12,
     "metadata": {},
     "output_type": "execute_result"
    }
   ],
   "source": [
    "D=D.applymap(ord)\n",
    "D"
   ]
  },
  {
   "cell_type": "markdown",
   "metadata": {},
   "source": [
    "Посчитаем дистанцию Хэмминга, которая отражает степень совпадения отдельных символов, попарно между всеми последовательностями."
   ]
  },
  {
   "cell_type": "code",
   "execution_count": 13,
   "metadata": {
    "collapsed": false,
    "jupyter": {
     "outputs_hidden": false
    }
   },
   "outputs": [],
   "source": [
    "R = pd.DataFrame(squareform(pdist(D, 'hamming')), index=D.index, columns=D.index)\n",
    "#R"
   ]
  },
  {
   "cell_type": "code",
   "execution_count": 14,
   "metadata": {
    "collapsed": false,
    "jupyter": {
     "outputs_hidden": false
    }
   },
   "outputs": [
    {
     "data": {
      "image/png": "[encoded data removed]",
      "text/plain": [
       "<Figure size 432x288 with 2 Axes>"
      ]
     },
     "metadata": {
      "needs_background": "light"
     },
     "output_type": "display_data"
    }
   ],
   "source": [
    "sns.heatmap(R);"
   ]
  },
  {
   "cell_type": "markdown",
   "metadata": {},
   "source": [
    "Видно, что близкие расстояния (темные квадраты) сосредоточены в двух частях набора данных.\n"
   ]
  },
  {
   "cell_type": "markdown",
   "metadata": {},
   "source": [
    "Выполним аггломеративный кластеринг этих данных с использованием алгоритма минимизации дисперсии Уорда.\n",
    "Другими словами, найдем метрику связи между самыми близкими образцами, затем между группами близких образцов, и так далее вплоть до единой древовидной структуры сходства и различий."
   ]
  },
  {
   "cell_type": "code",
   "execution_count": 16,
   "metadata": {
    "collapsed": false,
    "jupyter": {
     "outputs_hidden": false
    }
   },
   "outputs": [
    {
     "data": {
      "text/plain": [
       "array([[ 1.     ,  2.     ,  0.     ,  2.     ],\n",
       "       [ 4.     ,  5.     ,  0.     ,  2.     ],\n",
       "       [ 6.     ,  7.     ,  0.     ,  2.     ],\n",
       "       [ 9.     , 10.     ,  0.     ,  2.     ],\n",
       "       [ 0.     ,  3.     ,  1.     ,  2.     ],\n",
       "       [ 8.     , 14.     ,  6.9282 ,  3.     ],\n",
       "       [11.     , 12.     , 15.55635,  4.     ],\n",
       "       [13.     , 16.     , 26.33629,  5.     ],\n",
       "       [15.     , 17.     , 32.08323,  6.     ],\n",
       "       [18.     , 19.     , 54.74796, 11.     ]])"
      ]
     },
     "execution_count": 16,
     "metadata": {},
     "output_type": "execute_result"
    }
   ],
   "source": [
    "Z = linkage(D, method='ward')\n",
    "Z"
   ]
  },
  {
   "cell_type": "markdown",
   "metadata": {},
   "source": [
    "Метрики связи визуализируются в виде дерева (дендрограммы)."
   ]
  },
  {
   "cell_type": "code",
   "execution_count": 49,
   "metadata": {
    "collapsed": false,
    "jupyter": {
     "outputs_hidden": false
    }
   },
   "outputs": [
    {
     "data": {
      "image/png": "[encoded data removed]",
      "text/plain": [
       "<Figure size 432x288 with 1 Axes>"
      ]
     },
     "metadata": {
      "needs_background": "light"
     },
     "output_type": "display_data"
    }
   ],
   "source": [
    "dendrogram(Z, orientation='left', labels=D.index);"
   ]
  },
  {
   "cell_type": "markdown",
   "metadata": {},
   "source": [
    "В базовый рисунок можно добавить необходимые элементы и дополнительное оформление."
   ]
  },
  {
   "cell_type": "code",
   "execution_count": 62,
   "metadata": {
    "collapsed": false,
    "jupyter": {
     "outputs_hidden": false
    }
   },
   "outputs": [
    {
     "data": {
      "image/png": "[encoded data removed]",
      "text/plain": [
       "<Figure size 432x288 with 1 Axes>"
      ]
     },
     "metadata": {
      "needs_background": "light"
     },
     "output_type": "display_data"
    }
   ],
   "source": [
    "def fancy_dendrogram(*args, **kwargs):\n",
    "    max_d = kwargs.pop('max_d', None)\n",
    "    if max_d and 'color_threshold' not in kwargs:\n",
    "        kwargs['color_threshold'] = max_d\n",
    "    annotate_above = kwargs.pop('annotate_above', 0)\n",
    "    \n",
    "    ddata = dendrogram(*args, **kwargs)\n",
    "    \n",
    "    if not kwargs.get('no_plot', False):\n",
    "        plt.title('Дендрограмма')\n",
    "        plt.xticks(rotation=60)\n",
    "#         plt.xlabel('Образец')\n",
    "        plt.ylabel('Дистанция')\n",
    "        for i, d, c in zip(ddata['icoord'], ddata['dcoord'], ddata['color_list']):\n",
    "            x = 0.5 * sum(i[1:3])\n",
    "            y = d[1]\n",
    "            if y > annotate_above:\n",
    "                plt.plot(x, y, 'o', c=c)\n",
    "                plt.annotate(\"%.3g\" % y, (x, y), xytext=(0, -5),\n",
    "                             textcoords='offset points',\n",
    "                             va='top', ha='center')\n",
    "        if max_d:\n",
    "            plt.axhline(y=max_d, c='k')\n",
    "    return ddata\n",
    "\n",
    "ddata = fancy_dendrogram(Z, labels=D.index);"
   ]
  },
  {
   "cell_type": "markdown",
   "metadata": {},
   "source": [
    "> С кем человек попал в одну ветку на основании последовательности белка-регулятора полового созревания?"
   ]
  },
  {
   "cell_type": "markdown",
   "metadata": {},
   "source": [
    "Последовательность кисспептина очень короткая и у одного вида организмов встречается несколько вариантов этого пептида.\n",
    "Тем не менее этой информации достаточно, чтобы строить структурные модели соотношения между образцами.\n",
    "\n",
    "Авторы использовали другой метод кластеринга - метод ближайших соседей.\n",
    "Пептид у мыши отличается от человеческого всего на одну аминокислоту, а у шпорцевой лягушки - на две.\n",
    "Но если мы посмотрим только на первую и последнюю (сами авторы выделяют два больших семейства Y-Y и F-F пептидов), то значимое сочетание Y-F будет только у человека и лягушки."
   ]
  },
  {
   "cell_type": "markdown",
   "metadata": {},
   "source": [
    "Дерево можно разрезать на уровне крупных ветвей, чтобы получить индексы кластеров (групп, ветвей)."
   ]
  },
  {
   "cell_type": "code",
   "execution_count": 17,
   "metadata": {
    "collapsed": false,
    "jupyter": {
     "outputs_hidden": false
    }
   },
   "outputs": [
    {
     "data": {
      "text/plain": [
       "array([3, 4, 4, 3, 4, 4, 1, 1, 2, 2, 2], dtype=int32)"
      ]
     },
     "execution_count": 17,
     "metadata": {},
     "output_type": "execute_result"
    }
   ],
   "source": [
    "max_d = 20\n",
    "clusters = fcluster(Z, max_d, criterion='distance')\n",
    "clusters"
   ]
  },
  {
   "cell_type": "code",
   "execution_count": 18,
   "metadata": {
    "collapsed": false,
    "jupyter": {
     "outputs_hidden": false
    }
   },
   "outputs": [
    {
     "data": {
      "text/plain": [
       "homo         3\n",
       "mus          4\n",
       "platypus     4\n",
       "xenopus      3\n",
       "medaka1      4\n",
       "zf1          4\n",
       "medaka2      1\n",
       "zf2          1\n",
       "fugu         2\n",
       "xenopus2     2\n",
       "platypus2    2\n",
       "Name: cluster, dtype: int32"
      ]
     },
     "execution_count": 18,
     "metadata": {},
     "output_type": "execute_result"
    }
   ],
   "source": [
    "pd.Series(clusters, index=D.index, name='cluster')"
   ]
  },
  {
   "cell_type": "markdown",
   "metadata": {},
   "source": [
    "> Какую надо задать максимальную дистанцию (переменная `max_d`), чтобы выделить только два кластера?"
   ]
  },
  {
   "cell_type": "markdown",
   "metadata": {},
   "source": [
    "::: {seealso}\n",
    "\n",
    "В 1990 году предложен новый подход к сравнению последовательностей \n",
    "basic local alignment search tool (BLAST),\n",
    "в котором оптимизируется мера локального сходства и рассчитывается показатель максимально спаренного сегмента (the maximal segment pair (MSP) score). Этот инструмент используется генетиками при выстраивании огромных геномных последовательностей.\n",
    "\n",
    "[Biopython](http://biopython.org/DIST/docs/tutorial/Tutorial.html) - специальная библиотека для работы с объектами молекулярной биологии.\n",
    "\n",
    "[Образец анализа с использованием scikit-bio](http://nbviewer.jupyter.org/github/biocore/scikit-bio-cookbook/blob/master/Alignments%20and%20phylogenetic%20reconstruction.ipynb)\n",
    "\n",
    ":::"
   ]
  }
 ],
 "metadata": {
  "kernelspec": {
   "display_name": "Python 3 (ipykernel)",
   "language": "python",
   "name": "python3"
  },
  "language_info": {
   "codemirror_mode": {
    "name": "ipython",
    "version": 3
   },
   "file_extension": ".py",
   "mimetype": "text/x-python",
   "name": "python",
   "nbconvert_exporter": "python",
   "pygments_lexer": "ipython3",
   "version": "3.9.7"
  },
  "toc": {
   "base_numbering": 1,
   "nav_menu": {
    "height": "12px",
    "width": "252px"
   },
   "number_sections": false,
   "sideBar": true,
   "skip_h1_title": false,
   "title_cell": "Table of Contents",
   "title_sidebar": "Contents",
   "toc_cell": false,
   "toc_position": {},
   "toc_section_display": "block",
   "toc_window_display": false
  }
 },
 "nbformat": 4,
 "nbformat_minor": 4
}
