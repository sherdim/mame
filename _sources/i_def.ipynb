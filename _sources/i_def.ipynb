{
 "cells": [
  {
   "cell_type": "markdown",
   "metadata": {},
   "source": [
    "# Функция\n",
    "\n",
    "*Функция* - это специально оформленный блок организованного, многократно используемого кода, который используется для выполнения определенного действия.\n",
    "Вы можете передавать данные в функцию - это так называемые параметры. И можете получать данные - это результат выполнения функции.\n",
    "\n",
    "Как вы уже знаете, Python предоставляет вам множество встроенных функций, таких как `print()` и т.д. \n",
    "Но Вы также можете создавать свои собственные функции. Эти функции называются *пользовательскими функциями*."
   ]
  },
  {
   "cell_type": "markdown",
   "metadata": {},
   "source": [
    "Рассмотрим задачу расчета площади по известным ширине и длине. Гипотетически это может пригодиться при моделировании отбора формы лепестков ({numref}`iris`) при восприятии их насекомыми.\n",
    "\n",
    "::: {figure-md} iris\n",
    "![](i/iris_petal_sepal.png)\n",
    "\n",
    "Морфологические признаки цветка ириса \n",
    "[&copy;]( http://sebastianraschka.com/ )\n",
    ":::"
   ]
  },
  {
   "cell_type": "markdown",
   "metadata": {},
   "source": [
    "Возьмем два измерения прилистника (sepal) - длина и ширина. Приближенно будем считать, что прилистник имеет форму ромба, т.е. его площадь равна половине площади прямоугольника с теми же размерами."
   ]
  },
  {
   "cell_type": "code",
   "execution_count": 1,
   "metadata": {},
   "outputs": [
    {
     "data": {
      "text/plain": [
       "8.850000000000001"
      ]
     },
     "execution_count": 1,
     "metadata": {},
     "output_type": "execute_result"
    }
   ],
   "source": [
    "l=5.9  #sepal length, см\n",
    "w=3.0  #sepal width, см\n",
    "(l*w)/2"
   ]
  },
  {
   "cell_type": "markdown",
   "metadata": {},
   "source": [
    "Для повторного использования мы создадим функцию, которую сможем повторно использовать для аналогичных расчетов.\n",
    "\n",
    "Определение функции начинается с оператора `def` (от англ. definition, определение).\n",
    "В функции можно включать произвольное количество команд для операций с данными и возвращать итоговое значение с помощью команды `return` (возвратить)."
   ]
  },
  {
   "cell_type": "code",
   "execution_count": 2,
   "metadata": {},
   "outputs": [
    {
     "data": {
      "text/plain": [
       "8.850000000000001"
      ]
     },
     "execution_count": 2,
     "metadata": {},
     "output_type": "execute_result"
    }
   ],
   "source": [
    "def ploshad(l, w):\n",
    "    '''рассчитывает площадь лепестка'''\n",
    "    return (l*w)/2\n",
    "\n",
    "ploshad(l, w)"
   ]
  },
  {
   "cell_type": "markdown",
   "metadata": {},
   "source": [
    "Теперь, для разных значений длины и ширины, мы можем вычислять площадь, вызывая специально созданную для этого функцию."
   ]
  },
  {
   "cell_type": "code",
   "execution_count": 3,
   "metadata": {},
   "outputs": [
    {
     "data": {
      "text/plain": [
       "7.875"
      ]
     },
     "execution_count": 3,
     "metadata": {},
     "output_type": "execute_result"
    }
   ],
   "source": [
    "ploshad(6.3, 2.5)"
   ]
  },
  {
   "cell_type": "markdown",
   "metadata": {},
   "source": [
    "Есть также специальная форма записи определения функции в одну строчку, получившая название *ламбда*. Это упрощенная запись, где после двоеточия идет выражение, результат выполнения которого возвращается (команда return не используется).\n",
    "\n",
    "Обратите внимание: умножение на половину - это то же самое, что деление на два."
   ]
  },
  {
   "cell_type": "code",
   "execution_count": 4,
   "metadata": {},
   "outputs": [
    {
     "data": {
      "text/plain": [
       "7.875"
      ]
     },
     "execution_count": 4,
     "metadata": {},
     "output_type": "execute_result"
    }
   ],
   "source": [
    "ploshad_v_1_strochku = lambda l,w: 0.5*l*w\n",
    "\n",
    "ploshad_v_1_strochku(6.3, 2.5)"
   ]
  },
  {
   "cell_type": "markdown",
   "metadata": {},
   "source": [
    "Поскольку лепесток имеет форму более округлую, чем ромб, то и реальная его площадь чуть больше, чем половина прямоугольника. \n",
    "\n",
    "*Коэффициент* - множитель, с помощью которого мы регулируем эффект основной величины. \n",
    "\n",
    "Введем коэффициент в функцию как изменяемый параметр, наделив его значением по-умолчанию."
   ]
  },
  {
   "cell_type": "code",
   "execution_count": 5,
   "metadata": {},
   "outputs": [
    {
     "data": {
      "text/plain": [
       "10.620000000000001"
      ]
     },
     "execution_count": 5,
     "metadata": {},
     "output_type": "execute_result"
    }
   ],
   "source": [
    "def ploshad(l, w, k=0.6):\n",
    "    '''рассчитывает площадь лепестка\n",
    "    \n",
    "    ver 1.1\n",
    "    '''\n",
    "    return k*(l*w)\n",
    "\n",
    "ploshad(l, w)"
   ]
  },
  {
   "cell_type": "markdown",
   "metadata": {},
   "source": [
    "Мы переопределили функцию - дали ей новое определение. В данном случае смысл функции не изменился. И формат вызова остался прежним - она принимает два аргумента: длина и ширина. \n",
    "При этом функционал немного расширился: появилась возможность влиять на результат с помощью дополнительного параметра - коэффициента округлости.\n",
    "Возвращаемое значение при той же форме вызова изменилось - стало чуть больше.\n",
    "\n",
    "Поведение исходной версии функции мы можем воспроизвести, задав коэффициент со значением 0.5. Задание параметра функции может производиться несколькими способами:\n",
    "- передача значения в нужной позиции;\n",
    "- передача значения в паре имя=значение;\n",
    "- передача переменной, которой до этого присвоили нужное значение."
   ]
  },
  {
   "cell_type": "code",
   "execution_count": 9,
   "metadata": {},
   "outputs": [
    {
     "data": {
      "text/plain": [
       "8.850000000000001"
      ]
     },
     "execution_count": 9,
     "metadata": {},
     "output_type": "execute_result"
    }
   ],
   "source": [
    "ploshad(l, w, 0.5)"
   ]
  },
  {
   "cell_type": "code",
   "execution_count": 10,
   "metadata": {},
   "outputs": [
    {
     "data": {
      "text/plain": [
       "8.850000000000001"
      ]
     },
     "execution_count": 10,
     "metadata": {},
     "output_type": "execute_result"
    }
   ],
   "source": [
    "ploshad(l, w, k=0.5)"
   ]
  },
  {
   "cell_type": "code",
   "execution_count": 11,
   "metadata": {},
   "outputs": [
    {
     "data": {
      "text/plain": [
       "8.850000000000001"
      ]
     },
     "execution_count": 11,
     "metadata": {},
     "output_type": "execute_result"
    }
   ],
   "source": [
    "k=0.5\n",
    "ploshad(l, w, k)"
   ]
  },
  {
   "cell_type": "markdown",
   "metadata": {},
   "source": [
    "Данная функция будет работать с любыми типами входных данных, поддерживающих операцию умножения.\n",
    "\n",
    "Например, объект `pandas.Series` представляет собой организованный набор значений. В наборе данных с размерами лепестков 150 цветков ириса есть отдельные колонки с длиной и шириной чашелистиков."
   ]
  },
  {
   "cell_type": "code",
   "execution_count": 12,
   "metadata": {},
   "outputs": [
    {
     "data": {
      "text/plain": [
       "pandas.core.series.Series"
      ]
     },
     "execution_count": 12,
     "metadata": {},
     "output_type": "execute_result"
    }
   ],
   "source": [
    "import seaborn as sns\n",
    "D = sns.load_dataset('iris')\n",
    "type(D.sepal_length)"
   ]
  },
  {
   "cell_type": "markdown",
   "metadata": {},
   "source": [
    "Посчитаем площадь прилистников для всех 150 экземпляров ирисов в наборе данных."
   ]
  },
  {
   "cell_type": "code",
   "execution_count": 13,
   "metadata": {},
   "outputs": [
    {
     "data": {
      "text/plain": [
       "0      10.710\n",
       "1       8.820\n",
       "2       9.024\n",
       "3       8.556\n",
       "4      10.800\n",
       "        ...  \n",
       "145    12.060\n",
       "146     9.450\n",
       "147    11.700\n",
       "148    12.648\n",
       "149    10.620\n",
       "Length: 150, dtype: float64"
      ]
     },
     "execution_count": 13,
     "metadata": {},
     "output_type": "execute_result"
    }
   ],
   "source": [
    "ploshad(D.sepal_length, D.sepal_width)"
   ]
  },
  {
   "cell_type": "markdown",
   "metadata": {},
   "source": [
    "Наша простая функция справилась с этой задачей!"
   ]
  },
  {
   "cell_type": "markdown",
   "metadata": {},
   "source": [
    "> Чтобы понять, что находится в аргументах, которые мы передали в нашу функцию - создайте новую ячейку, скопируйте в нее аргумент (`D.sepal_length`) и выполните. Повторите то же самое для переменной `D`, в которую мы загрузили весь набор данных."
   ]
  },
  {
   "cell_type": "markdown",
   "metadata": {},
   "source": [
    "Чтобы использовать эту же формулу для расчета площади внутренних лепестков околоцветников, можно подкорректировать коэффициент `k`."
   ]
  },
  {
   "cell_type": "code",
   "execution_count": 17,
   "metadata": {},
   "outputs": [
    {
     "data": {
      "image/png": "[encoded data removed]",
      "text/plain": [
       "<Figure size 432x288 with 1 Axes>"
      ]
     },
     "metadata": {
      "needs_background": "light"
     },
     "output_type": "display_data"
    }
   ],
   "source": [
    "S = ploshad(D.petal_length, D.petal_width, k=0.55)\n",
    "ax=S.hist();\n",
    "ax.set_xlabel('Площадь лепестков ириса, $см^2$');"
   ]
  },
  {
   "cell_type": "markdown",
   "metadata": {},
   "source": [
    "Итак, мы попробовали определить несложную пользовательскую функцию для расчета площади. Несмотря на простоту она имеет все стандартные атрибуты.\n",
    "Похожим образом Вы можете написать функции, обеспечивающие необходимый Вам уникальный функционал. Вот простые правила для определения функции в Python:\n",
    "\n",
    "1. Определение функции начинается с ключевого слова `def`, за которым следует имя функции и круглые скобки `( )`.\n",
    "2.  Любые входные параметры или аргументы при вызове функции надо помещать в эти круглые скобки. При создании функции количество, тип и порядок аргументов также задаются внутри скобок.\n",
    "3. Блок кода начинается с двоеточия (:) и имеет отступ. Первой строкой функции может быть необязательный оператор - строка документации функции (*doсstring*).\n",
    "4. Оператор `return [result]` завершает работу функции, при необходимости возвращая результат выполнения вызывающему объекту (квадратные скобки указывают на необязательность аргумента). Оператор `return` без аргументов - это то же самое, что и оператор `return None`."
   ]
  }
 ],
 "metadata": {
  "kernelspec": {
   "display_name": "Python 3 (ipykernel)",
   "language": "python",
   "name": "python3"
  },
  "language_info": {
   "codemirror_mode": {
    "name": "ipython",
    "version": 3
   },
   "file_extension": ".py",
   "mimetype": "text/x-python",
   "name": "python",
   "nbconvert_exporter": "python",
   "pygments_lexer": "ipython3",
   "version": "3.9.7"
  },
  "toc": {
   "base_numbering": 1,
   "nav_menu": {
    "height": "31px",
    "width": "252px"
   },
   "number_sections": false,
   "sideBar": true,
   "skip_h1_title": false,
   "title_cell": "Table of Contents",
   "title_sidebar": "Contents",
   "toc_cell": false,
   "toc_position": {},
   "toc_section_display": "block",
   "toc_window_display": false
  }
 },
 "nbformat": 4,
 "nbformat_minor": 4
}
