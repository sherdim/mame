{
 "cells": [
  {
   "cell_type": "markdown",
   "metadata": {},
   "source": [
    "# Случайность - двигатель прогресса?"
   ]
  },
  {
   "cell_type": "markdown",
   "metadata": {},
   "source": [
    "Рассмотрим самый биологически успешный бинарный вероятностный процесс - разделение на два пола.\n",
    "\n",
    "В [статье из журнала \"Reproduction in domestic animals\"](http://onlinelibrary.wiley.com/doi/10.1111/j.1439-0531.2005.00562.x/abstract) {cite}`he2005` описан случай, когда небольшая популяция черных лебедей (Cygnus atratus) в неволе  на Исследовательской базе разведения гигантских панд в Чэнду отказывалась размножаться в течение 4-5 лет. Была высказана гипотеза, что вероятной причиной этого является ненормальное распределение по полу."
   ]
  },
  {
   "cell_type": "markdown",
   "metadata": {},
   "source": [
    "Когда проверили - все 7 оказались самки.\n",
    "Проблема заключалась в том, что черный лебедь является примером сексуально мономорфных видов. Для определения пола пришлось разрабатывать метод, основанный на ПЦР."
   ]
  },
  {
   "cell_type": "code",
   "execution_count": 1,
   "metadata": {
    "tags": [
     "remove-cell"
    ]
   },
   "outputs": [
    {
     "name": "stdout",
     "output_type": "stream",
     "text": [
      "Populating the interactive namespace from numpy and matplotlib\n"
     ]
    }
   ],
   "source": [
    "%pylab inline"
   ]
  },
  {
   "cell_type": "code",
   "execution_count": 2,
   "metadata": {
    "tags": []
   },
   "outputs": [],
   "source": [
    "pSex = 0.5\n",
    "n = 7"
   ]
  },
  {
   "cell_type": "markdown",
   "metadata": {},
   "source": [
    "Какая вероятность, что из 7 отобранных яиц вылупились все самки, если исходная вероятность рождения самки из яица такая же, как и самца?\n",
    "\n",
    "$$ P(\\forall x , x \\in ♀ \\ |\\ p_♂ = p_♀) = ? $$ \n",
    "\n"
   ]
  },
  {
   "cell_type": "markdown",
   "metadata": {},
   "source": [
    "Поскольку события независимые, то вероятности нужно перемножать. Перемножение одинаковых вероятностей - это возведение в степень."
   ]
  },
  {
   "cell_type": "code",
   "execution_count": 3,
   "metadata": {},
   "outputs": [
    {
     "data": {
      "text/plain": [
       "0.0078125"
      ]
     },
     "execution_count": 3,
     "metadata": {},
     "output_type": "execute_result"
    }
   ],
   "source": [
    "p7 = pSex**7\n",
    "p7"
   ]
  },
  {
   "cell_type": "markdown",
   "metadata": {},
   "source": [
    "Отношение одного исхода к другому называют шанс (odds)."
   ]
  },
  {
   "cell_type": "code",
   "execution_count": 7,
   "metadata": {},
   "outputs": [
    {
     "data": {
      "text/plain": [
       "127.0"
      ]
     },
     "execution_count": 7,
     "metadata": {},
     "output_type": "execute_result"
    }
   ],
   "source": [
    "odds = (1-p7)/p7\n",
    "odds"
   ]
  },
  {
   "cell_type": "markdown",
   "metadata": {},
   "source": [
    "Шансы, что так получилось случайно 1:127. Т.е. скорее всего повлиял какой-то фактор, вызвавший преобладание самок в выводке."
   ]
  },
  {
   "cell_type": "markdown",
   "metadata": {},
   "source": [
    "Какой должен быть процент самок в инкубаторе, чтобы чисто случайно можно было получить 7 самок из вытащенных наугад яиц?\n",
    "Шанс случайного исхода примем традиционный $1:20$ , что соответствует уровню значимости 5%.\n",
    "\n",
    "$$p=?, \\ \\ \n",
    "p^7 > 0.05$$\n"
   ]
  },
  {
   "cell_type": "code",
   "execution_count": 8,
   "metadata": {},
   "outputs": [
    {
     "data": {
      "text/plain": [
       "0.6518363448688391"
      ]
     },
     "execution_count": 8,
     "metadata": {},
     "output_type": "execute_result"
    }
   ],
   "source": [
    "alpha=0.05\n",
    "alpha**(1/7.0)"
   ]
  },
  {
   "cell_type": "markdown",
   "metadata": {},
   "source": [
    "Какое распределение полов следовало ожидать при таком проценте самок?"
   ]
  },
  {
   "cell_type": "markdown",
   "metadata": {},
   "source": [
    "Проведем эксперимент с помощью генератора случайных чисел. Проверка гипотез путем многратной имитации исследуемого случайного процесса называется [метод \"Монте-Карло\"](https://ru.wikipedia.org/wiki/Метод_Монте-Карло)."
   ]
  },
  {
   "cell_type": "code",
   "execution_count": 9,
   "metadata": {},
   "outputs": [
    {
     "data": {
      "image/png": "[encoded data removed]",
      "text/plain": [
       "<matplotlib.figure.Figure at 0x8261828>"
      ]
     },
     "metadata": {},
     "output_type": "display_data"
    }
   ],
   "source": [
    "p=0.651836345\n",
    "xx=arange(8)\n",
    "P=zeros(8)\n",
    "N=10000\n",
    "for j in range(N):\n",
    "    n=0\n",
    "    for i in range(7):\n",
    "        if random.random() < p:\n",
    "            n+=1\n",
    "    P[n]+=1\n",
    "\n",
    "bar(xx-0.5, P/N, width=1.0); xlabel('Количество самок в выборке');"
   ]
  },
  {
   "cell_type": "markdown",
   "metadata": {},
   "source": [
    "Конечно же существует специальная функция, которая генерит случайную выборку с заданной долей одного вида объектов из двух возможных. Такое распределение называется *биноминальное* : `bi` - два, `nomen` - имя."
   ]
  },
  {
   "cell_type": "code",
   "execution_count": 12,
   "metadata": {},
   "outputs": [
    {
     "data": {
      "image/png": "[encoded data removed]",
      "text/plain": [
       "<matplotlib.figure.Figure at 0x98724a8>"
      ]
     },
     "metadata": {},
     "output_type": "display_data"
    }
   ],
   "source": [
    "X = random.binomial(7, p, N)  # посмотрите справку о порядке аргументов\n",
    "hist(X, arange(-0.5,8), normed=True);\n",
    "xlabel('Количество самок в выборке');"
   ]
  },
  {
   "cell_type": "markdown",
   "metadata": {},
   "source": [
    "Как видно из рисунка, при таком приблизительно двухкратном преобладании самок, скорее всего было бы 5 самок и два самца. Могло бы быть и 4 или 6 самок. Но только в 1 из 20 случаев было бы 7 самок, и это как раз соответствовало бы заданному нами $\\alpha=0.05$."
   ]
  },
  {
   "cell_type": "markdown",
   "metadata": {},
   "source": [
    "Вот так из-за случайности зоологам пришлось разработать специальный метод определения пола лебедей."
   ]
  },
  {
   "cell_type": "markdown",
   "metadata": {},
   "source": [
    ":::{note}\n",
    "\n",
    "Чёрный лебедь - знаковое животное для теории вероятности. Именно этот эпитет используют для обозначения изначально невероятных, но вполне реальных значимых исходов. \n",
    "\n",
    "После обнаружения живых черных лебедей этот термин стал использоваться для обозначения идеи о том, что воспринимаемая невозможность впоследствии может быть опровергнута.\n",
    "\n",
    "> Чёрные лебеди были, хотя цивилизованные люди существовали на земле три тысячи лет, не встречаясь с ними... Следовательно, единообразный опыт жителей известного мира, согласных в общем результате, без единого известного случая отклонения от этого результата, не всегда достаточен для установления общего вывода.\n",
    "*John Stuart Mill, A System of Logic (1843)*\n",
    "\n",
    "> Через опыт мы можем судить о ложности некоего высказывания, но никогда о его истинности\n",
    "*Карл Поппер, Логика научного исследования (1934)*\n",
    "\n",
    "\n",
    "Отвергание нулевой гипотезы в классическом статанализе не означает подтверждение альтернативной гипотезы.\n",
    "\n",
    "\n",
    "\n",
    "> ... должны ли мы на практике принимать единственный контрпример - например, одного обнаруженного черного лебедя - для опровержения весьма успешного закона. Я не полагаю, что мы должны обязательно так легко быть этим удовлетворены; мы вполне можем подозревать, что данный черный экземпляр перед нами не является лебедем.\n",
    "*Карл Поппер, Логика научного исследования (1934)*\n",
    "\n",
    "Обычно исследователь свободен в удалении из выборки неудачных экспериментов (артефактов). На этом построен механизм умышленной дефальсификации: Систематическое исключение редких нежелательных явлений дает впечатление подтверждения однобокой теории.\n",
    "\n",
    "\n",
    ":::"
   ]
  },
  {
   "cell_type": "markdown",
   "metadata": {},
   "source": [
    ":::{seealso}\n",
    "Одноименную популярную теорию развил Нассим Николас Талеб. В своих работах он описывает случаи, когда выбросы имеют важное значение (статистики говорят: в распределении \"жирные хвосты\" (fat tails)). В этом случае общепринятые статистические законы не работают.\n",
    "\n",
    "См. \n",
    "[Теория черного лебедя](https://ru.wikipedia.org/wiki/Чёрный_лебедь_(теория))\n",
    "\n",
    ":::"
   ]
  }
 ],
 "metadata": {
  "kernelspec": {
   "display_name": "Python 3",
   "language": "python",
   "name": "python3"
  },
  "language_info": {
   "codemirror_mode": {
    "name": "ipython",
    "version": 3
   },
   "file_extension": ".py",
   "mimetype": "text/x-python",
   "name": "python",
   "nbconvert_exporter": "python",
   "pygments_lexer": "ipython3",
   "version": "3.9.0rc1"
  }
 },
 "nbformat": 4,
 "nbformat_minor": 4
}
