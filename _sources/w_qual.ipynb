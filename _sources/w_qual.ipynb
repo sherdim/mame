{
 "cells": [
  {
   "cell_type": "markdown",
   "metadata": {},
   "source": [
    "# 🗎 Оценка качества"
   ]
  },
  {
   "cell_type": "code",
   "execution_count": 1,
   "metadata": {
    "tags": [
     "remove-input"
    ]
   },
   "outputs": [
    {
     "data": {
      "text/markdown": [
       "<div class=\"admonition note\">\n",
       "<p class=\"admonition-title\">О среде выполнения </p>\n",
       "<p> \n",
       "    Данная расчётно-графическая работа выполняется в <a href=i_sreda.html>программной среде Jupyter Notebook</a>.\n",
       "Если у Вас на компьютере нет установленной вычислительной среды, см. \n",
       "  <a href=i_sredaonline.html>Выполнение расчетно-графических работ онлайн</a>.\n",
       "</p>\n",
       "</div>"
      ],
      "text/plain": [
       "<IPython.core.display.Markdown object>"
      ]
     },
     "metadata": {},
     "output_type": "display_data"
    }
   ],
   "source": [
    "from IPython.display import display, Markdown\n",
    "display(Markdown(open('_prew.md', 'r', encoding='utf-8').read()))"
   ]
  },
  {
   "cell_type": "markdown",
   "metadata": {},
   "source": [
    "**Задание**: представить отчет о качестве выполнения нескольких заданий, выполненных по инструкции. Качество оценивается в 1.0 (100%), если выполнение полностью соответствовало инструкции, и меньше 1.0, если есть несоответствия."
   ]
  },
  {
   "cell_type": "markdown",
   "metadata": {},
   "source": [
    "Предлагается использовать данные из теста \"[Ускорение нажатий](w_data2)\", в инструкции к которому можно выделить несколько критериев.\n",
    "\n",
    "Альтернативно это могут быть описания товаров, услуг, выступлений и т.п. но при этом должны выполняться условия:\n",
    "\n",
    "-   Должны быть даны оценки качества от 0 до 1 по как минимум трём критериям;\n",
    "-   Итоговое качество как произведение всех частных оценок соответствия критериям;\n",
    "-   Условное качество как взвешенная сумма частных оценок соответствия критериям;\n",
    "-   Расчет среднего качества по группе объектов;\n",
    "-   Вывод о качестве группы в целом."
   ]
  },
  {
   "cell_type": "markdown",
   "metadata": {},
   "source": [
    "При использовании собственных данных необходимо подробно описать требования к качеству.\n",
    "При проблемах с определением критериев качества - проконсультируйтесь с преподавателем."
   ]
  },
  {
   "cell_type": "markdown",
   "metadata": {},
   "source": [
    "Те, кто использует данные из теста \"Ускорение нажатий\", могут использовать шаблон отчета <a href=d/qual_Familia.ipynb>qual_Familia.ipynb</a>.\n",
    "\n",
    "Для заданий на ускорение нажатий можно использовать критерии:\n",
    "\n",
    " -  начальная частота нажатий - примерно 1 раз в с;\n",
    " -  конечная частота нажатий - вдвое быстрее;\n",
    " -  полных паттернов не менее 6;\n",
    " -  ошибки паттернов не превышают 10%.\n",
    " \n",
    "\n",
    "Далее даны пошаговые инструкции для выполнения работы по этому шаблону."
   ]
  },
  {
   "cell_type": "markdown",
   "metadata": {},
   "source": [
    "## Начало работы\n",
    "\n",
    "Переименуйте блокнот шаблона qual_Familia.ipynb, заменив \"Familia\" в названии на свою фамилию, чтобы не путаться при отправке и проверке. \n",
    "\n",
    "[](rename)"
   ]
  },
  {
   "cell_type": "markdown",
   "metadata": {},
   "source": [
    "Выполните импорт библиотек."
   ]
  },
  {
   "cell_type": "code",
   "execution_count": 2,
   "metadata": {
    "tags": [
     "remove-cell"
    ]
   },
   "outputs": [
    {
     "name": "stdout",
     "output_type": "stream",
     "text": [
      "Populating the interactive namespace from numpy and matplotlib\n"
     ]
    }
   ],
   "source": [
    "%pylab inline\n",
    "from ipywidgets import interact\n",
    "import pandas as pd\n",
    "import seaborn as sns"
   ]
  },
  {
   "cell_type": "markdown",
   "metadata": {},
   "source": [
    "## Загрузка данных\n",
    "\n",
    "Укажите источник данных. \n",
    "Данные теста \"Ускорение нажатий\" представляют собой маркеры - целочисленные коды событий в течение теста. Все события снабжены отметками времени.\n",
    "\n",
    "Если у Вас есть доступ к Сети, то удобнее скачать данные с сайта http://uskor.stireac.com\n",
    "\n",
    "Чтобы найти ссылку на свои данные - прилогиньтесь (вводится только адрес почты, потому что данные открыты, и логин нужен только для перехода к своим данным). Кликните на свой адрес и в выпадающем меню выберите пункт `Результаты`. Откроется список тестирований в виде таблицы, у которой в правой колонке есть кнопки для просмотра информации по каждому тестированию. \n",
    "\n",
    "На странице отчета помимо разнообразной информации есть две кнопки в конце для скачивания результатов. Первая из них ![](i/tsv_save_button.png) позволяет скачать таблицу маркеров в формате `*.tsv`. Если вызывать контекстное меню на этой картинке и скопировать ссылку, то эту же таблицу мы можем загрузить по этой ссылке автоматически.\n",
    "Подставьте скопированную ссылку в код. \n",
    "\n",
    "Если Сеть недоступна, то можно открыть таблицу из скачанного файла, помещенного в текущую папку. Для этого надо изменить переменную `u` с Интернет-ссылки на имя файла (см. пример в закомментированной второй строке). Пример файла прилагается.\n",
    "\n",
    "В конце ячейки мы выводим информацию о созданной таблице.\n",
    "Проверьте, что данные загрузились в таблицу с двумя колонками.\n",
    "\n",
    "Сделайте краткий комментарий об успешности загрузки данных.\n",
    "\n"
   ]
  },
  {
   "cell_type": "code",
   "execution_count": 3,
   "metadata": {
    "tags": [
     "remove-cell"
    ]
   },
   "outputs": [],
   "source": [
    "u = 'm__178.155.4.92__3219165950000190320.tsv'\n",
    "M = pd.read_table(u)"
   ]
  },
  {
   "cell_type": "markdown",
   "metadata": {},
   "source": [
    "## Подготовка сводной таблицы\n",
    "\n",
    "Основа данной работы - сбор сведений по каждому этапу с последующей интеграцией в виде оценок качества.\n",
    "\n",
    "Вспомогательную информацию о тесте мы оформляем в виде мини-словарей `scancode_hand`, `hand_color`. \n",
    "Это соответствия сканкодов и обозначений рук (L - левая, R - правая) и соответствия рук и цветов на рисунках (потенциальных).\n",
    "\n",
    "\n",
    "Посмотрите код создания сводной таблицы `S` с помощью библиотеки Pandas. Одну колонку с уникальными значениями мы создаем при вызове метода `DataFrame()`. Другие колонки мы создаем позже, присваивая одинаковое значение во всех строках, или в зависимости от позиции.\n",
    "Всего у нас шесть строк по количеству этапов. \n",
    "Для удобства автоматический индекс, начинающийся с 0, мы переименовываем и увеличиваем на 1."
   ]
  },
  {
   "cell_type": "code",
   "execution_count": 4,
   "metadata": {
    "tags": [
     "remove-cell"
    ]
   },
   "outputs": [
    {
     "data": {
      "text/html": [
       "<div>\n",
       "<style scoped>\n",
       "    .dataframe tbody tr th:only-of-type {\n",
       "        vertical-align: middle;\n",
       "    }\n",
       "\n",
       "    .dataframe tbody tr th {\n",
       "        vertical-align: top;\n",
       "    }\n",
       "\n",
       "    .dataframe thead th {\n",
       "        text-align: right;\n",
       "    }\n",
       "</style>\n",
       "<table border=\"1\" class=\"dataframe\">\n",
       "  <thead>\n",
       "    <tr style=\"text-align: right;\">\n",
       "      <th></th>\n",
       "      <th>Паттерн</th>\n",
       "      <th>Условие</th>\n",
       "      <th>L</th>\n",
       "      <th>R</th>\n",
       "      <th>Скорость в начале, Гц</th>\n",
       "      <th>Скорость в конце, Гц</th>\n",
       "      <th>Ошибки</th>\n",
       "    </tr>\n",
       "    <tr>\n",
       "      <th>Этап</th>\n",
       "      <th></th>\n",
       "      <th></th>\n",
       "      <th></th>\n",
       "      <th></th>\n",
       "      <th></th>\n",
       "      <th></th>\n",
       "      <th></th>\n",
       "    </tr>\n",
       "  </thead>\n",
       "  <tbody>\n",
       "    <tr>\n",
       "      <th>1</th>\n",
       "      <td>0</td>\n",
       "      <td>одна рука</td>\n",
       "      <td>0</td>\n",
       "      <td>0</td>\n",
       "      <td>1.0</td>\n",
       "      <td>5.0</td>\n",
       "      <td>0</td>\n",
       "    </tr>\n",
       "    <tr>\n",
       "      <th>2</th>\n",
       "      <td>1</td>\n",
       "      <td>одна рука</td>\n",
       "      <td>0</td>\n",
       "      <td>0</td>\n",
       "      <td>1.0</td>\n",
       "      <td>5.0</td>\n",
       "      <td>0</td>\n",
       "    </tr>\n",
       "    <tr>\n",
       "      <th>3</th>\n",
       "      <td>01</td>\n",
       "      <td>поочередно</td>\n",
       "      <td>0</td>\n",
       "      <td>0</td>\n",
       "      <td>1.0</td>\n",
       "      <td>5.0</td>\n",
       "      <td>0</td>\n",
       "    </tr>\n",
       "    <tr>\n",
       "      <th>4</th>\n",
       "      <td>10</td>\n",
       "      <td>поочередно</td>\n",
       "      <td>0</td>\n",
       "      <td>0</td>\n",
       "      <td>1.0</td>\n",
       "      <td>5.0</td>\n",
       "      <td>0</td>\n",
       "    </tr>\n",
       "    <tr>\n",
       "      <th>5</th>\n",
       "      <td>0001</td>\n",
       "      <td>паттерн</td>\n",
       "      <td>0</td>\n",
       "      <td>0</td>\n",
       "      <td>1.0</td>\n",
       "      <td>5.0</td>\n",
       "      <td>0</td>\n",
       "    </tr>\n",
       "    <tr>\n",
       "      <th>6</th>\n",
       "      <td>1000</td>\n",
       "      <td>паттерн</td>\n",
       "      <td>0</td>\n",
       "      <td>0</td>\n",
       "      <td>1.0</td>\n",
       "      <td>5.0</td>\n",
       "      <td>0</td>\n",
       "    </tr>\n",
       "  </tbody>\n",
       "</table>\n",
       "</div>"
      ],
      "text/plain": [
       "     Паттерн     Условие  L  R  Скорость в начале, Гц  Скорость в конце, Гц  \\\n",
       "Этап                                                                          \n",
       "1          0   одна рука  0  0                    1.0                   5.0   \n",
       "2          1   одна рука  0  0                    1.0                   5.0   \n",
       "3         01  поочередно  0  0                    1.0                   5.0   \n",
       "4         10  поочередно  0  0                    1.0                   5.0   \n",
       "5       0001     паттерн  0  0                    1.0                   5.0   \n",
       "6       1000     паттерн  0  0                    1.0                   5.0   \n",
       "\n",
       "      Ошибки  \n",
       "Этап          \n",
       "1          0  \n",
       "2          0  \n",
       "3          0  \n",
       "4          0  \n",
       "5          0  \n",
       "6          0  "
      ]
     },
     "execution_count": 4,
     "metadata": {},
     "output_type": "execute_result"
    }
   ],
   "source": [
    "scancode_hand = {70:'L', 74:'R'}\n",
    "hand_color = {'L':'red', 'R':'blue'}\n",
    "\n",
    "S = pd.DataFrame([\n",
    "    '0',\n",
    "    '1',\n",
    "    '01',\n",
    "    '10',\n",
    "    '0001',\n",
    "    '1000',\n",
    "         ], columns=['Паттерн'])\n",
    "S.index+=1\n",
    "S.index.name = 'Этап'\n",
    "S['Условие'] = list(map(lambda n: ((n<=2) and 'одна рука') or ((n<=4) and 'поочередно') or 'паттерн', S.index ))\n",
    "\n",
    "# нулевые значения для последующих подсчётов\n",
    "S['L']=0\n",
    "S['R']=0\n",
    "S['Скорость в начале, Гц'] = 1.0\n",
    "S['Скорость в конце, Гц'] = 5.0\n",
    "S['Ошибки'] = 0\n",
    "\n",
    "S"
   ]
  },
  {
   "cell_type": "markdown",
   "metadata": {},
   "source": [
    "## Сбор сведений\n",
    "\n",
    "В последующих блоках мы заносим добытые сведения в таблицу. \n",
    "Смотрите примеры внесения данных.\n",
    "\n",
    "Образцы расчетов см. в блокнотах с образцами кода <a href=d/qual_Familia.ipynb>Task_qual_uskor.ipynb</a> и \n",
    "<a href=d/Task_seq_uskor.ipynb>Task_seq_uskor.ipynb</a>."
   ]
  },
  {
   "cell_type": "markdown",
   "metadata": {},
   "source": [
    "### Качество этапа 1"
   ]
  },
  {
   "cell_type": "markdown",
   "metadata": {},
   "source": [
    "Отберем данные для первого этапа. Логика отбора моментов нажатий в пределах одного этапа состоит в вычислении моментов времени начала и конца этапа. Затем делаем копию массива данных между этими отметками времени и очищаем от ненужных маркеров (нам нужно только нажатия, отжатия и служебные коды не нужны)."
   ]
  },
  {
   "cell_type": "markdown",
   "metadata": {},
   "source": [
    "Коды для первого этапа 1001 и до 1002 (начала второго этапа)."
   ]
  },
  {
   "cell_type": "code",
   "execution_count": 5,
   "metadata": {},
   "outputs": [
    {
     "data": {
      "text/plain": [
       "74    94\n",
       "13     1\n",
       "Name: v, dtype: int64"
      ]
     },
     "execution_count": 5,
     "metadata": {},
     "output_type": "execute_result"
    }
   ],
   "source": [
    "coab, coad = 1001, 1002\n",
    "tab = M.t[M.v==coab].iloc[0]\n",
    "tad = M.t[(M.t>tab) & (M.v==coad)].iloc[0]\n",
    "R = M[(M.t>=tab)&(M.t<tad)].copy()\n",
    "R = R[R.v.abs()<100]\n",
    "R = R[R.v > 0]\n",
    "R.v.value_counts()"
   ]
  },
  {
   "cell_type": "markdown",
   "metadata": {},
   "source": [
    "На первом этапе были нажатия правой рукой. В разных случаях на первом этапе может быть или правая или левая рука. Но коду клавиши можно проверить какой рукой были сделаны нажатия с этим кодом."
   ]
  },
  {
   "cell_type": "code",
   "execution_count": 6,
   "metadata": {},
   "outputs": [
    {
     "data": {
      "text/plain": [
       "(70, 74)"
      ]
     },
     "execution_count": 6,
     "metadata": {},
     "output_type": "execute_result"
    }
   ],
   "source": [
    "(ord('F'), ord('J'))"
   ]
  },
  {
   "cell_type": "markdown",
   "metadata": {},
   "source": [
    "Оценим скоростные характеристики в начале и конце теста. Поскольку сколько длительность \"начала\" и \"конца\" не определена, то проще оценить скорость \"на глаз\", глядя на рисунок."
   ]
  },
  {
   "cell_type": "code",
   "execution_count": 7,
   "metadata": {},
   "outputs": [
    {
     "data": {
      "image/png": "[encoded data removed]",
      "text/plain": [
       "<Figure size 432x288 with 1 Axes>"
      ]
     },
     "metadata": {
      "needs_background": "light"
     },
     "output_type": "display_data"
    }
   ],
   "source": [
    "tt = R[R.v.isin([70,74])].t\n",
    "iri = tt.diff()\n",
    "plot(tt, 1/iri, 'o');\n",
    "grid(True)\n",
    "xlabel('Время, с')\n",
    "ylabel('Частота, Гц');"
   ]
  },
  {
   "cell_type": "markdown",
   "metadata": {},
   "source": [
    "Когда вся информация перед глазами, внесем сведения для первого этапа. Для удобства заведем переменную для обозначения строки. Такой код легко будет приспособить для повторного использования на следующих этапах."
   ]
  },
  {
   "cell_type": "code",
   "execution_count": 8,
   "metadata": {},
   "outputs": [
    {
     "data": {
      "text/plain": [
       "Паттерн                          0\n",
       "Условие                  одна рука\n",
       "L                                0\n",
       "R                               94\n",
       "Скорость в начале, Гц          1.0\n",
       "Скорость в конце, Гц           7.0\n",
       "Ошибки                           0\n",
       "Name: 1, dtype: object"
      ]
     },
     "execution_count": 8,
     "metadata": {},
     "output_type": "execute_result"
    }
   ],
   "source": [
    "ietap = 1\n",
    "S.loc[ietap, 'Скорость в начале, Гц'] = 1\n",
    "S.loc[ietap, 'Скорость в конце, Гц'] = 7\n",
    "S.loc[ietap, 'R'] = 94\n",
    "\n",
    "S.loc[ietap]"
   ]
  },
  {
   "cell_type": "markdown",
   "metadata": {},
   "source": [
    "Ошибок паттернов на первых двух этапах быть не может, поскольку нажатия производятся только одной рукой."
   ]
  },
  {
   "cell_type": "markdown",
   "metadata": {},
   "source": [
    "## Качество этапа 2"
   ]
  },
  {
   "cell_type": "markdown",
   "metadata": {},
   "source": [
    "Зададим номер этапа с самого начала, чтобы использовать эту переменную повторно."
   ]
  },
  {
   "cell_type": "code",
   "execution_count": 9,
   "metadata": {},
   "outputs": [
    {
     "data": {
      "text/plain": [
       "70    63\n",
       "Name: v, dtype: int64"
      ]
     },
     "execution_count": 9,
     "metadata": {},
     "output_type": "execute_result"
    }
   ],
   "source": [
    "ietap = 2\n",
    "\n",
    "coab, coad = 1000+ietap, 1000+ietap+1\n",
    "tab = M.t[M.v==coab].iloc[0]\n",
    "tad = M.t[(M.t>tab) & (M.v==coad)].iloc[0]\n",
    "R = M[(M.t>=tab)&(M.t<tad)].copy()\n",
    "R = R[R.v.abs()<100]\n",
    "R = R[R.v > 20]\n",
    "N = R.v.value_counts()\n",
    "N"
   ]
  },
  {
   "cell_type": "markdown",
   "metadata": {},
   "source": [
    "Динамику частоты нажатий оцениваем так же, как для первого этапа."
   ]
  },
  {
   "cell_type": "markdown",
   "metadata": {},
   "source": [
    "Еще одно улучшение - сохранение счета нажатий для двух рук в переменной `N`. После этого количество нажатий в таблицу заносим без ручного ввода числа."
   ]
  },
  {
   "cell_type": "code",
   "execution_count": 11,
   "metadata": {},
   "outputs": [
    {
     "data": {
      "text/plain": [
       "Паттерн                          1\n",
       "Условие                  одна рука\n",
       "L                               63\n",
       "R                                0\n",
       "Скорость в начале, Гц          1.0\n",
       "Скорость в конце, Гц           7.0\n",
       "Ошибки                           0\n",
       "Name: 2, dtype: object"
      ]
     },
     "execution_count": 11,
     "metadata": {},
     "output_type": "execute_result"
    }
   ],
   "source": [
    "S.loc[ietap, 'Скорость в начале, Гц'] = 1\n",
    "S.loc[ietap, 'Скорость в конце, Гц'] = 7\n",
    "S.loc[ietap, 'L'] = N.iloc[0]\n",
    "S.loc[ietap]"
   ]
  },
  {
   "cell_type": "markdown",
   "metadata": {},
   "source": [
    "## Качество этапа 3\n"
   ]
  },
  {
   "cell_type": "code",
   "execution_count": 12,
   "metadata": {},
   "outputs": [
    {
     "data": {
      "text/plain": [
       "70    31\n",
       "74    31\n",
       "Name: v, dtype: int64"
      ]
     },
     "execution_count": 12,
     "metadata": {},
     "output_type": "execute_result"
    }
   ],
   "source": [
    "ietap = 3\n",
    "\n",
    "coab, coad = 1000+ietap, 1000+ietap+1\n",
    "tab = M.t[M.v==coab].iloc[0]\n",
    "tad = M.t[(M.t>tab) & (M.v==coad)].iloc[0]\n",
    "R = M[(M.t>=tab)&(M.t<tad)].copy()\n",
    "R = R[R.v.abs()<100]\n",
    "R = R[R.v > 20]\n",
    "N = R.v.value_counts()\n",
    "N"
   ]
  },
  {
   "cell_type": "code",
   "execution_count": 13,
   "metadata": {},
   "outputs": [
    {
     "data": {
      "text/plain": [
       "(0.0, 15.0)"
      ]
     },
     "execution_count": 13,
     "metadata": {},
     "output_type": "execute_result"
    },
    {
     "data": {
      "image/png": "[encoded data removed]",
      "text/plain": [
       "<Figure size 432x288 with 1 Axes>"
      ]
     },
     "metadata": {
      "needs_background": "light"
     },
     "output_type": "display_data"
    }
   ],
   "source": [
    "tt = R[R.v.isin([70,74])].t\n",
    "iri = tt.diff()\n",
    "plot(tt, 1/iri, 'o');\n",
    "grid(True)\n",
    "xlabel('Время, с')\n",
    "ylabel('Частота, Гц');\n",
    "ylim(0, 15)"
   ]
  },
  {
   "cell_type": "markdown",
   "metadata": {},
   "source": [
    "На третьем этапе появляется возможность ошибок. Ошибка как правило возникают при переходе на быстрый темп нажатий."
   ]
  },
  {
   "cell_type": "code",
   "execution_count": 14,
   "metadata": {},
   "outputs": [
    {
     "data": {
      "image/png": "[encoded data removed]",
      "text/plain": [
       "<Figure size 432x288 with 1 Axes>"
      ]
     },
     "metadata": {
      "needs_background": "light"
     },
     "output_type": "display_data"
    }
   ],
   "source": [
    "rr = R.v.values\n",
    "rr = (rr - rr.min())/(rr.max()-rr.min())\n",
    "plot(rr);"
   ]
  },
  {
   "cell_type": "markdown",
   "metadata": {},
   "source": [
    "В конце видно одно нарушение зубчатого рисунка. Можно внести к таблицу количество ошибок - 1."
   ]
  },
  {
   "cell_type": "markdown",
   "metadata": {},
   "source": [
    "Количество \"левых\" и \"правых\" нажатий вносим одной командой."
   ]
  },
  {
   "cell_type": "code",
   "execution_count": 15,
   "metadata": {},
   "outputs": [
    {
     "data": {
      "text/plain": [
       "Паттерн                          01\n",
       "Условие                  поочередно\n",
       "L                                31\n",
       "R                                31\n",
       "Скорость в начале, Гц           1.9\n",
       "Скорость в конце, Гц            9.0\n",
       "Ошибки                            1\n",
       "Name: 3, dtype: object"
      ]
     },
     "execution_count": 15,
     "metadata": {},
     "output_type": "execute_result"
    }
   ],
   "source": [
    "S.loc[ietap, 'Скорость в начале, Гц'] = 1.9\n",
    "S.loc[ietap, 'Скорость в конце, Гц'] = 9\n",
    "S.loc[ietap, ['L','R']] = N.loc[70], N.loc[74]\n",
    "S.loc[ietap, 'Ошибки'] = 1\n",
    "S.loc[ietap]"
   ]
  },
  {
   "cell_type": "markdown",
   "metadata": {},
   "source": [
    "## Качество этапа 4"
   ]
  },
  {
   "cell_type": "code",
   "execution_count": 16,
   "metadata": {},
   "outputs": [
    {
     "data": {
      "text/plain": [
       "74    39\n",
       "70    38\n",
       "Name: v, dtype: int64"
      ]
     },
     "execution_count": 16,
     "metadata": {},
     "output_type": "execute_result"
    }
   ],
   "source": [
    "ietap = 4\n",
    "\n",
    "coab, coad = 1000+ietap, 1000+ietap+1\n",
    "tab = M.t[M.v==coab].iloc[0]\n",
    "tad = M.t[(M.t>tab) & (M.v==coad)].iloc[0]\n",
    "R = M[(M.t>=tab)&(M.t<tad)].copy()\n",
    "R = R[R.v.abs()<100]\n",
    "R = R[R.v > 20]\n",
    "N = R.v.value_counts()\n",
    "N"
   ]
  },
  {
   "cell_type": "code",
   "execution_count": 17,
   "metadata": {},
   "outputs": [
    {
     "data": {
      "text/plain": [
       "(0.0, 15.0)"
      ]
     },
     "execution_count": 17,
     "metadata": {},
     "output_type": "execute_result"
    },
    {
     "data": {
      "image/png": "[encoded data removed]",
      "text/plain": [
       "<Figure size 432x288 with 1 Axes>"
      ]
     },
     "metadata": {
      "needs_background": "light"
     },
     "output_type": "display_data"
    }
   ],
   "source": [
    "tt = R[R.v.isin([70,74])].t\n",
    "iri = tt.diff()\n",
    "plot(tt, 1/iri, 'o');\n",
    "grid(True)\n",
    "xlabel('Время, с')\n",
    "ylabel('Частота, Гц');\n",
    "ylim(0, 15)"
   ]
  },
  {
   "cell_type": "code",
   "execution_count": 18,
   "metadata": {},
   "outputs": [
    {
     "data": {
      "image/png": "[encoded data removed]",
      "text/plain": [
       "<Figure size 432x288 with 1 Axes>"
      ]
     },
     "metadata": {
      "needs_background": "light"
     },
     "output_type": "display_data"
    }
   ],
   "source": [
    "rr = R.v.values\n",
    "rr = (rr - rr.min())/(rr.max()-rr.min())\n",
    "plot(rr);"
   ]
  },
  {
   "cell_type": "code",
   "execution_count": 19,
   "metadata": {},
   "outputs": [
    {
     "data": {
      "text/plain": [
       "Паттерн                          10\n",
       "Условие                  поочередно\n",
       "L                                38\n",
       "R                                39\n",
       "Скорость в начале, Гц           2.0\n",
       "Скорость в конце, Гц            8.0\n",
       "Ошибки                            2\n",
       "Name: 4, dtype: object"
      ]
     },
     "execution_count": 19,
     "metadata": {},
     "output_type": "execute_result"
    }
   ],
   "source": [
    "S.loc[ietap, 'Скорость в начале, Гц'] = 2\n",
    "S.loc[ietap, 'Скорость в конце, Гц'] = 8\n",
    "S.loc[ietap, ['L','R']] = N.loc[70], N.loc[74]\n",
    "S.loc[ietap, 'Ошибки'] = 2\n",
    "S.loc[ietap]"
   ]
  },
  {
   "cell_type": "markdown",
   "metadata": {},
   "source": [
    "## Качество этапа 5"
   ]
  },
  {
   "cell_type": "code",
   "execution_count": 20,
   "metadata": {
    "tags": [
     "hide-cell"
    ]
   },
   "outputs": [
    {
     "data": {
      "text/plain": [
       "70    50\n",
       "74    17\n",
       "Name: v, dtype: int64"
      ]
     },
     "execution_count": 20,
     "metadata": {},
     "output_type": "execute_result"
    }
   ],
   "source": [
    "ietap = 5\n",
    "\n",
    "coab, coad = 1000+ietap, 1000+ietap+1\n",
    "tab = M.t[M.v==coab].iloc[0]\n",
    "tad = M.t[(M.t>tab) & (M.v==coad)].iloc[0]\n",
    "R = M[(M.t>=tab)&(M.t<tad)].copy()\n",
    "R = R[R.v.abs()<100]\n",
    "R = R[R.v > 20]\n",
    "N = R.v.value_counts()\n",
    "N"
   ]
  },
  {
   "cell_type": "code",
   "execution_count": 21,
   "metadata": {
    "tags": [
     "hide-cell"
    ]
   },
   "outputs": [
    {
     "data": {
      "text/plain": [
       "(0.0, 10.0)"
      ]
     },
     "execution_count": 21,
     "metadata": {},
     "output_type": "execute_result"
    },
    {
     "data": {
      "image/png": "[encoded data removed]",
      "text/plain": [
       "<Figure size 432x288 with 1 Axes>"
      ]
     },
     "metadata": {
      "needs_background": "light"
     },
     "output_type": "display_data"
    }
   ],
   "source": [
    "tt = R[R.v.isin([70,74])].t\n",
    "iri = tt.diff()\n",
    "plot(tt, 1/iri, 'o');\n",
    "grid(True)\n",
    "xlabel('Время, с')\n",
    "ylabel('Частота, Гц');\n",
    "ylim(0, 10)"
   ]
  },
  {
   "cell_type": "code",
   "execution_count": 22,
   "metadata": {
    "tags": [
     "hide-cell"
    ]
   },
   "outputs": [
    {
     "data": {
      "image/png": "[encoded data removed]",
      "text/plain": [
       "<Figure size 432x288 with 1 Axes>"
      ]
     },
     "metadata": {
      "needs_background": "light"
     },
     "output_type": "display_data"
    }
   ],
   "source": [
    "rr = R.v.values\n",
    "rr = (rr - rr.min())/(rr.max()-rr.min())\n",
    "plot(rr);"
   ]
  },
  {
   "cell_type": "markdown",
   "metadata": {},
   "source": [
    "На пятом и шестом этапах \"гребенка\" для проверки ошибок отличается, но сбой в паттерне нажатий видно также четко."
   ]
  },
  {
   "cell_type": "code",
   "execution_count": 23,
   "metadata": {
    "tags": [
     "remove-cell"
    ]
   },
   "outputs": [
    {
     "data": {
      "text/plain": [
       "Паттерн                     0001\n",
       "Условие                  паттерн\n",
       "L                             50\n",
       "R                             17\n",
       "Скорость в начале, Гц        1.4\n",
       "Скорость в конце, Гц         5.0\n",
       "Ошибки                         1\n",
       "Name: 5, dtype: object"
      ]
     },
     "execution_count": 23,
     "metadata": {},
     "output_type": "execute_result"
    }
   ],
   "source": [
    "S.loc[ietap, 'Скорость в начале, Гц'] = 1.4\n",
    "S.loc[ietap, 'Скорость в конце, Гц'] = 5\n",
    "S.loc[ietap, ['L','R']] = N.loc[70], N.loc[74]\n",
    "S.loc[ietap, 'Ошибки'] = 1\n",
    "S.loc[ietap]"
   ]
  },
  {
   "cell_type": "markdown",
   "metadata": {},
   "source": [
    "## Качество этапа 6"
   ]
  },
  {
   "cell_type": "markdown",
   "metadata": {},
   "source": [
    "Для 6-го этапа, после которого нет других этапов, время окончания находим по времени первого нажатия клавиши \"Enter\" после начала. Этот шаблон можно применять на всех этапах - все этапы начинаются с кода `1000+ietap` и заканчиваются кодом 13 (\"Enter\")."
   ]
  },
  {
   "cell_type": "code",
   "execution_count": 24,
   "metadata": {},
   "outputs": [
    {
     "data": {
      "text/plain": [
       "74    59\n",
       "70    20\n",
       "Name: v, dtype: int64"
      ]
     },
     "execution_count": 24,
     "metadata": {},
     "output_type": "execute_result"
    }
   ],
   "source": [
    "ietap = 6\n",
    "\n",
    "coab = 1000+ietap\n",
    "coad = 13\n",
    "tab = M.t[M.v==coab].iloc[0]\n",
    "tad = M.t[(M.t>tab) & (M.v==coad)].iloc[0]\n",
    "R = M[(M.t>=tab)&(M.t<tad)].copy()\n",
    "R = R[R.v.abs()<100]\n",
    "R = R[R.v > 20]\n",
    "N = R.v.value_counts()\n",
    "N"
   ]
  },
  {
   "cell_type": "code",
   "execution_count": 25,
   "metadata": {
    "tags": [
     "remove-cell"
    ]
   },
   "outputs": [
    {
     "data": {
      "text/plain": [
       "(0.0, 10.0)"
      ]
     },
     "execution_count": 25,
     "metadata": {},
     "output_type": "execute_result"
    },
    {
     "data": {
      "image/png": "[encoded data removed]",
      "text/plain": [
       "<Figure size 432x288 with 1 Axes>"
      ]
     },
     "metadata": {
      "needs_background": "light"
     },
     "output_type": "display_data"
    }
   ],
   "source": [
    "tt = R[R.v.isin([70,74])].t\n",
    "iri = tt.diff()\n",
    "plot(tt, 1/iri, 'o');\n",
    "grid(True)\n",
    "xlabel('Время, с')\n",
    "ylabel('Частота, Гц');\n",
    "ylim(0, 10)"
   ]
  },
  {
   "cell_type": "code",
   "execution_count": 26,
   "metadata": {
    "tags": [
     "remove-cell"
    ]
   },
   "outputs": [
    {
     "data": {
      "image/png": "[encoded data removed]",
      "text/plain": [
       "<Figure size 432x288 with 1 Axes>"
      ]
     },
     "metadata": {
      "needs_background": "light"
     },
     "output_type": "display_data"
    }
   ],
   "source": [
    "rr = R.v.values\n",
    "rr = (rr - rr.min())/(rr.max()-rr.min())\n",
    "plot(rr);"
   ]
  },
  {
   "cell_type": "code",
   "execution_count": 27,
   "metadata": {
    "tags": [
     "remove-cell"
    ]
   },
   "outputs": [
    {
     "data": {
      "text/plain": [
       "Паттерн                     1000\n",
       "Условие                  паттерн\n",
       "L                             20\n",
       "R                             59\n",
       "Скорость в начале, Гц        3.0\n",
       "Скорость в конце, Гц         6.0\n",
       "Ошибки                         2\n",
       "Name: 6, dtype: object"
      ]
     },
     "execution_count": 27,
     "metadata": {},
     "output_type": "execute_result"
    }
   ],
   "source": [
    "S.loc[ietap, 'Скорость в начале, Гц'] = 3\n",
    "S.loc[ietap, 'Скорость в конце, Гц'] = 6\n",
    "S.loc[ietap, ['L','R']] = N.loc[70], N.loc[74]\n",
    "S.loc[ietap, 'Ошибки'] = 2\n",
    "S.loc[ietap]"
   ]
  },
  {
   "cell_type": "markdown",
   "metadata": {},
   "source": [
    "Альтернативные источники сведений для заполнения таблицы - отчеты на сайте тестирования.\n",
    "Если Вы берете сведения оттуда, а не из своих рисунков, надо это указать."
   ]
  },
  {
   "cell_type": "markdown",
   "metadata": {},
   "source": [
    "Количество паттернов посчитаем по формуле..."
   ]
  },
  {
   "cell_type": "code",
   "execution_count": 28,
   "metadata": {},
   "outputs": [
    {
     "data": {
      "text/html": [
       "<div>\n",
       "<style scoped>\n",
       "    .dataframe tbody tr th:only-of-type {\n",
       "        vertical-align: middle;\n",
       "    }\n",
       "\n",
       "    .dataframe tbody tr th {\n",
       "        vertical-align: top;\n",
       "    }\n",
       "\n",
       "    .dataframe thead th {\n",
       "        text-align: right;\n",
       "    }\n",
       "</style>\n",
       "<table border=\"1\" class=\"dataframe\">\n",
       "  <thead>\n",
       "    <tr style=\"text-align: right;\">\n",
       "      <th></th>\n",
       "      <th>Паттерн</th>\n",
       "      <th>Условие</th>\n",
       "      <th>L</th>\n",
       "      <th>R</th>\n",
       "      <th>Скорость в начале, Гц</th>\n",
       "      <th>Скорость в конце, Гц</th>\n",
       "      <th>Ошибки</th>\n",
       "      <th>Паттернов</th>\n",
       "    </tr>\n",
       "    <tr>\n",
       "      <th>Этап</th>\n",
       "      <th></th>\n",
       "      <th></th>\n",
       "      <th></th>\n",
       "      <th></th>\n",
       "      <th></th>\n",
       "      <th></th>\n",
       "      <th></th>\n",
       "      <th></th>\n",
       "    </tr>\n",
       "  </thead>\n",
       "  <tbody>\n",
       "    <tr>\n",
       "      <th>1</th>\n",
       "      <td>0</td>\n",
       "      <td>одна рука</td>\n",
       "      <td>0</td>\n",
       "      <td>94</td>\n",
       "      <td>1.0</td>\n",
       "      <td>7.0</td>\n",
       "      <td>0</td>\n",
       "      <td>94.00</td>\n",
       "    </tr>\n",
       "    <tr>\n",
       "      <th>2</th>\n",
       "      <td>1</td>\n",
       "      <td>одна рука</td>\n",
       "      <td>63</td>\n",
       "      <td>0</td>\n",
       "      <td>1.0</td>\n",
       "      <td>7.0</td>\n",
       "      <td>0</td>\n",
       "      <td>63.00</td>\n",
       "    </tr>\n",
       "    <tr>\n",
       "      <th>3</th>\n",
       "      <td>01</td>\n",
       "      <td>поочередно</td>\n",
       "      <td>31</td>\n",
       "      <td>31</td>\n",
       "      <td>1.9</td>\n",
       "      <td>9.0</td>\n",
       "      <td>1</td>\n",
       "      <td>31.00</td>\n",
       "    </tr>\n",
       "    <tr>\n",
       "      <th>4</th>\n",
       "      <td>10</td>\n",
       "      <td>поочередно</td>\n",
       "      <td>38</td>\n",
       "      <td>39</td>\n",
       "      <td>2.0</td>\n",
       "      <td>8.0</td>\n",
       "      <td>2</td>\n",
       "      <td>38.50</td>\n",
       "    </tr>\n",
       "    <tr>\n",
       "      <th>5</th>\n",
       "      <td>0001</td>\n",
       "      <td>паттерн</td>\n",
       "      <td>50</td>\n",
       "      <td>17</td>\n",
       "      <td>1.4</td>\n",
       "      <td>5.0</td>\n",
       "      <td>1</td>\n",
       "      <td>16.75</td>\n",
       "    </tr>\n",
       "    <tr>\n",
       "      <th>6</th>\n",
       "      <td>1000</td>\n",
       "      <td>паттерн</td>\n",
       "      <td>20</td>\n",
       "      <td>59</td>\n",
       "      <td>3.0</td>\n",
       "      <td>6.0</td>\n",
       "      <td>2</td>\n",
       "      <td>19.75</td>\n",
       "    </tr>\n",
       "  </tbody>\n",
       "</table>\n",
       "</div>"
      ],
      "text/plain": [
       "     Паттерн     Условие   L   R  Скорость в начале, Гц  Скорость в конце, Гц  \\\n",
       "Этап                                                                            \n",
       "1          0   одна рука   0  94                    1.0                   7.0   \n",
       "2          1   одна рука  63   0                    1.0                   7.0   \n",
       "3         01  поочередно  31  31                    1.9                   9.0   \n",
       "4         10  поочередно  38  39                    2.0                   8.0   \n",
       "5       0001     паттерн  50  17                    1.4                   5.0   \n",
       "6       1000     паттерн  20  59                    3.0                   6.0   \n",
       "\n",
       "      Ошибки  Паттернов  \n",
       "Этап                     \n",
       "1          0      94.00  \n",
       "2          0      63.00  \n",
       "3          1      31.00  \n",
       "4          2      38.50  \n",
       "5          1      16.75  \n",
       "6          2      19.75  "
      ]
     },
     "execution_count": 28,
     "metadata": {},
     "output_type": "execute_result"
    }
   ],
   "source": [
    "S['Паттернов'] = (S['L']+S['R']) / S['Паттерн'].str.len()\n",
    "S"
   ]
  },
  {
   "cell_type": "markdown",
   "metadata": {},
   "source": [
    "Итак, мы заполнили таблицу. Перед тем, как двигаться дальше, проверим, что внесенные значения соответствуют методике. На первых двух этапах нажатия были только одной рукой, и отсутствовали ошибки. Количество нажатий в колонках \"L\" и \"R\" в 3 и 4 этапах примерно равны, а на 5 и 6 этапах в соотношении 1 к 3."
   ]
  },
  {
   "cell_type": "markdown",
   "metadata": {},
   "source": [
    "## Расчет качества\n",
    "\n",
    "> Создайте новые колонки для каждого критерия качества.\n",
    "\n",
    "Создаем три критерия Q1, Q2, ...  со значениями от 0 до 1.\n",
    "\n",
    "- Q1 Медленное начало, примерно раз в секунду.\n",
    "- Q2 Быстрое окончание.\n",
    "- Q3 Количество патернов не меньше 5."
   ]
  },
  {
   "cell_type": "code",
   "execution_count": 30,
   "metadata": {},
   "outputs": [],
   "source": [
    "S['Q1'] = ((S['Скорость в начале, Гц'] > 0.5) & (S['Скорость в начале, Гц'] < 1.5)) + 0.0\n",
    "S['Q2'] = (S['Скорость в конце, Гц'] > 2.) + 0.0\n",
    "S['Q3'] = (S['Паттернов'] > 5) + 0.0"
   ]
  },
  {
   "cell_type": "markdown",
   "metadata": {},
   "source": [
    "> Затем создайте колонки с интегральными оценками. Их можно считать, производя операции целыми колонками."
   ]
  },
  {
   "cell_type": "code",
   "execution_count": 31,
   "metadata": {},
   "outputs": [
    {
     "data": {
      "text/plain": [
       "Этап\n",
       "1    1.0\n",
       "2    1.0\n",
       "3    0.0\n",
       "4    0.0\n",
       "5    1.0\n",
       "6    0.0\n",
       "Name: Q, dtype: float64"
      ]
     },
     "execution_count": 31,
     "metadata": {},
     "output_type": "execute_result"
    }
   ],
   "source": [
    "S['Q'] = S['Q1'] * S['Q2'] * S['Q3']\n",
    "S.Q"
   ]
  },
  {
   "cell_type": "markdown",
   "metadata": {},
   "source": [
    "При произведении частных критериев комплексная оценка обнуляется любым нулевым критерием."
   ]
  },
  {
   "cell_type": "code",
   "execution_count": 32,
   "metadata": {},
   "outputs": [],
   "source": [
    "#Сумма всех коэффициентов не должна быть больше 1\n",
    "k1 = 0.5\n",
    "k2 = 0.2\n",
    "k3 = 1 - (k1 + k2)\n",
    "\n",
    "S['K'] = k1*S ['Q1'] + k2*S['Q2'] + k3*S['Q3'] "
   ]
  },
  {
   "cell_type": "markdown",
   "metadata": {},
   "source": [
    "> Обоснуйте выбор весовых коэффициентов. Почему одни критерии весомее других?"
   ]
  },
  {
   "cell_type": "code",
   "execution_count": 33,
   "metadata": {},
   "outputs": [
    {
     "data": {
      "text/html": [
       "<div>\n",
       "<style scoped>\n",
       "    .dataframe tbody tr th:only-of-type {\n",
       "        vertical-align: middle;\n",
       "    }\n",
       "\n",
       "    .dataframe tbody tr th {\n",
       "        vertical-align: top;\n",
       "    }\n",
       "\n",
       "    .dataframe thead th {\n",
       "        text-align: right;\n",
       "    }\n",
       "</style>\n",
       "<table border=\"1\" class=\"dataframe\">\n",
       "  <thead>\n",
       "    <tr style=\"text-align: right;\">\n",
       "      <th></th>\n",
       "      <th>Q</th>\n",
       "      <th>K</th>\n",
       "    </tr>\n",
       "    <tr>\n",
       "      <th>Этап</th>\n",
       "      <th></th>\n",
       "      <th></th>\n",
       "    </tr>\n",
       "  </thead>\n",
       "  <tbody>\n",
       "    <tr>\n",
       "      <th>1</th>\n",
       "      <td>1.0</td>\n",
       "      <td>1.0</td>\n",
       "    </tr>\n",
       "    <tr>\n",
       "      <th>2</th>\n",
       "      <td>1.0</td>\n",
       "      <td>1.0</td>\n",
       "    </tr>\n",
       "    <tr>\n",
       "      <th>3</th>\n",
       "      <td>0.0</td>\n",
       "      <td>0.5</td>\n",
       "    </tr>\n",
       "    <tr>\n",
       "      <th>4</th>\n",
       "      <td>0.0</td>\n",
       "      <td>0.5</td>\n",
       "    </tr>\n",
       "    <tr>\n",
       "      <th>5</th>\n",
       "      <td>1.0</td>\n",
       "      <td>1.0</td>\n",
       "    </tr>\n",
       "    <tr>\n",
       "      <th>6</th>\n",
       "      <td>0.0</td>\n",
       "      <td>0.5</td>\n",
       "    </tr>\n",
       "  </tbody>\n",
       "</table>\n",
       "</div>"
      ],
      "text/plain": [
       "        Q    K\n",
       "Этап          \n",
       "1     1.0  1.0\n",
       "2     1.0  1.0\n",
       "3     0.0  0.5\n",
       "4     0.0  0.5\n",
       "5     1.0  1.0\n",
       "6     0.0  0.5"
      ]
     },
     "execution_count": 33,
     "metadata": {},
     "output_type": "execute_result"
    }
   ],
   "source": [
    "S[['Q','K']]"
   ]
  },
  {
   "cell_type": "markdown",
   "metadata": {},
   "source": [
    "> Которая из комплексных оценок лучше согласуется с Вашей личной \"экспертной\" оценкой?"
   ]
  },
  {
   "cell_type": "markdown",
   "metadata": {},
   "source": [
    "Среднее качество по всем этапам."
   ]
  },
  {
   "cell_type": "code",
   "execution_count": 34,
   "metadata": {},
   "outputs": [
    {
     "data": {
      "text/plain": [
       "Q    0.50\n",
       "K    0.75\n",
       "dtype: float64"
      ]
     },
     "execution_count": 34,
     "metadata": {},
     "output_type": "execute_result"
    }
   ],
   "source": [
    "S[['Q','K']].mean()"
   ]
  },
  {
   "cell_type": "markdown",
   "metadata": {},
   "source": [
    "## Вывод\n"
   ]
  },
  {
   "cell_type": "code",
   "execution_count": 35,
   "metadata": {
    "tags": [
     "remove-input"
    ]
   },
   "outputs": [
    {
     "data": {
      "text/markdown": [
       "В конце отчета по расчётно-графической работе обязательно сделайте вывод.\n",
       "\n",
       "1. Основной результат. Прежде всего в выводе должен прозвучать ответ на поставленный вопрос.\n",
       "Что было целью работы, то и должно быть указано в выводе с конкретным числовым результатом.\n",
       "\n",
       "2. Ограничения данной работы. Если в ходе работе были выявлены новые обстоятельства, которые привели к изменению хода работы, к ошибкам, к необходимости переосмысления возможности ее выполнения, то эти соображения надо изложить во вторую очередь. \n",
       "\n",
       "3. Педагогические и эмоциональные замечания. Поскольку эта работа учебная, то можно поделиться впечатлениями от самого процесса решения задачи. Что было сложным, что особенно понравилось, что оказалось удивительным и неожиданным."
      ],
      "text/plain": [
       "<IPython.core.display.Markdown object>"
      ]
     },
     "metadata": {},
     "output_type": "display_data"
    }
   ],
   "source": [
    "from IPython.display import display, Markdown\n",
    "display(Markdown(open('_postw.md', 'r', encoding='utf-8').read()))"
   ]
  }
 ],
 "metadata": {
  "kernelspec": {
   "display_name": "Python 3 (ipykernel)",
   "language": "python",
   "name": "python3"
  },
  "language_info": {
   "codemirror_mode": {
    "name": "ipython",
    "version": 3
   },
   "file_extension": ".py",
   "mimetype": "text/x-python",
   "name": "python",
   "nbconvert_exporter": "python",
   "pygments_lexer": "ipython3",
   "version": "3.9.7"
  }
 },
 "nbformat": 4,
 "nbformat_minor": 4
}
