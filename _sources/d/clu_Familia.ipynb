{
 "cells": [
  {
   "cell_type": "markdown",
   "metadata": {},
   "source": [
    "# Заготовка для работы Кластерный анализ"
   ]
  },
  {
   "cell_type": "markdown",
   "metadata": {},
   "source": [
    "импортируем библиотеки"
   ]
  },
  {
   "cell_type": "code",
   "execution_count": null,
   "metadata": {},
   "outputs": [],
   "source": [
    "%pylab inline\n",
    "from ipywidgets import interact\n",
    "\n",
    "import seaborn as sns\n",
    "\n",
    "from scipy.cluster.hierarchy import dendrogram, linkage, optimal_leaf_ordering, cut_tree"
   ]
  },
  {
   "cell_type": "markdown",
   "metadata": {},
   "source": [
    "## 1. Загрузка данных"
   ]
  },
  {
   "cell_type": "markdown",
   "metadata": {},
   "source": [
    "> *опишите источник данных. информация по скольким объектам содержится в файле?*"
   ]
  },
  {
   "cell_type": "code",
   "execution_count": null,
   "metadata": {},
   "outputs": [],
   "source": [
    "u='spectral_data.txt'  # проверьте наличие файла в рабочей папке\n",
    "X = loadtxt(u)\n",
    "X.shape  #форма массива со значениями прочитанного файла"
   ]
  },
  {
   "cell_type": "markdown",
   "metadata": {},
   "source": [
    "> *Ниже задаются имена в виде порядковых номеров. Если Вы как-то различаете объекты, информацию о которых загрузили, то раскомментируйте вторую строку и задайте имена по количеству строк в массиве, они будут использоваться для подписей. Обоснуйте названия.*"
   ]
  },
  {
   "cell_type": "code",
   "execution_count": null,
   "metadata": {},
   "outputs": [],
   "source": [
    "names = arange(X.shape[0])+1\n",
    "# names = ['pi','pi','iu','iu','iu','iu','iu','i']\n",
    "names"
   ]
  },
  {
   "cell_type": "markdown",
   "metadata": {},
   "source": [
    "## 2. Подбор параметров связи"
   ]
  },
  {
   "cell_type": "markdown",
   "metadata": {},
   "source": [
    ">_попробуйте несколько типов связей . копируйте код и изменяйте параметры method= (2-) и  metric= в функции `linkage`._\n",
    "\n",
    "> по-умолчанию связи рассчитываются с параметрами `linkage(y, method='single', metric='euclidean')`\n",
    "\n",
    "> варианты для method:\n",
    "- 'single' - Алгоритм ближайшей точки\n",
    "- 'complete' - Алгоритм удаленной точки\n",
    "- 'average' - Среднее расстояние со всеми соседями\n",
    "- 'centroid' - центроид - центр облака, занимаемого группой\n",
    "- 'median' - медиана дистанций до соседей\n",
    "- 'ward' - минимизация внутрикластерной дисперсии по методу Уарда\n",
    "\n",
    "> варианты для metric:\n",
    "- 'euclidean' - Евклида, прямое расстояние\n",
    "- 'cosine' - косинусное расстояние - угол между векторами от центра\n",
    "- 'cityblock' - квартальное расстояние (если поворачивать только на прямые углы)\n",
    "- 'correlation' - корреляция\n",
    "- 'hamming' - Хэмминга, доля совпадающих значений\n",
    "- 'jaccard' - Жаккара, отношение количества различий к совпадениям\n",
    "- 'mahalanobis' - Махаланобиса, дистанция до центра группы, нормализованная к ее дисперсии\n",
    "\n",
    "> Примеры эффективности разных методов кластеризации по двум признакам (в двумерном пространстве).\n",
    "![](plot_linkage_comparison.png)"
   ]
  },
  {
   "cell_type": "code",
   "execution_count": null,
   "metadata": {},
   "outputs": [],
   "source": [
    "dendrogram( linkage(X, 'single', \"euclidean\"), labels=names);"
   ]
  },
  {
   "cell_type": "code",
   "execution_count": null,
   "metadata": {},
   "outputs": [],
   "source": [
    "dendrogram( linkage(X, 'average', 'euclidean'), labels=names);"
   ]
  },
  {
   "cell_type": "code",
   "execution_count": null,
   "metadata": {},
   "outputs": [],
   "source": [
    "dendrogram( linkage(X, 'median', 'euclidean'), labels=names);"
   ]
  },
  {
   "cell_type": "code",
   "execution_count": null,
   "metadata": {},
   "outputs": [],
   "source": [
    "dendrogram( linkage(X, 'complete', 'euclidean'), labels=names);"
   ]
  },
  {
   "cell_type": "code",
   "execution_count": null,
   "metadata": {},
   "outputs": [],
   "source": [
    "dendrogram( linkage(X, 'ward', \"euclidean\"), labels=names);"
   ]
  },
  {
   "cell_type": "code",
   "execution_count": null,
   "metadata": {},
   "outputs": [],
   "source": [
    "dendrogram( linkage(X, 'average', 'cosine'), labels=names);"
   ]
  },
  {
   "cell_type": "code",
   "execution_count": null,
   "metadata": {},
   "outputs": [],
   "source": [
    "dendrogram( linkage(X, 'single', 'cityblock'), labels=names);"
   ]
  },
  {
   "cell_type": "code",
   "execution_count": null,
   "metadata": {},
   "outputs": [],
   "source": [
    "dendrogram( linkage(X, 'complete', 'cityblock'), labels=names);"
   ]
  },
  {
   "cell_type": "code",
   "execution_count": null,
   "metadata": {},
   "outputs": [],
   "source": [
    "dendrogram( linkage(X, 'single', 'correlation'), labels=names);"
   ]
  },
  {
   "cell_type": "code",
   "execution_count": null,
   "metadata": {},
   "outputs": [],
   "source": [
    "dendrogram( linkage(X, 'single', 'correlation', True), labels=names);"
   ]
  },
  {
   "cell_type": "code",
   "execution_count": null,
   "metadata": {},
   "outputs": [],
   "source": [
    "dendrogram( linkage(X, 'single', 'hamming'), labels=names);"
   ]
  },
  {
   "cell_type": "code",
   "execution_count": null,
   "metadata": {},
   "outputs": [],
   "source": [
    "# dendrogram( linkage(X, '...', '...'), labels=names);"
   ]
  },
  {
   "cell_type": "markdown",
   "metadata": {},
   "source": [
    ">_Оставьте наиболее понравившиеся Вам деревья. Поясните, какие значения параметров способствуют разделению на кластеры, сходному с интуитивным. Обоснуйте выбор победителя.\n",
    "Оформите окончательный выбор в следующем рисунке._"
   ]
  },
  {
   "cell_type": "code",
   "execution_count": null,
   "metadata": {},
   "outputs": [],
   "source": [
    "method='single'\n",
    "metric='euclidean'\n",
    "lm = linkage(X, method, metric, True)\n",
    "porog = 0.75 * lm[:,2].max() # задайте значение для пунктирной линии\n",
    "\n",
    "figure(figsize=(8, 3))\n",
    "horizont = 0\n",
    "height = 1\n",
    "ax = axes((0,horizont,.8,height))\n",
    "dendrogram(lm, color_threshold=porog, labels=names);\n",
    "axhline(porog, ls='--', color='gray')\n",
    "ylabel(metric +' distance')\n",
    "\n",
    "axes((.8,horizont,.12,height))\n",
    "sns.kdeplot(lm[:,2], bw=0.04*lm[:,2].max(), vertical=True)\n",
    "ylim(ax.get_ylim())\n",
    "axis('off')"
   ]
  },
  {
   "cell_type": "markdown",
   "metadata": {},
   "source": [
    "> _подберите положение порога (пунктирной линии), чтобы \"разрезать\" дерево на крупные, но компактные ветви._"
   ]
  },
  {
   "cell_type": "markdown",
   "metadata": {},
   "source": [
    "## 2. Цветная разметка кластеров"
   ]
  },
  {
   "cell_type": "markdown",
   "metadata": {},
   "source": [
    "\"Срежем\" дерево на заданном уровне."
   ]
  },
  {
   "cell_type": "code",
   "execution_count": null,
   "metadata": {},
   "outputs": [],
   "source": [
    "cl = cut_tree(lm, height=porog)\n",
    "cl"
   ]
  },
  {
   "cell_type": "markdown",
   "metadata": {},
   "source": [
    "Для каждого объекта мы получили индекс кластера (начиная с 0), к которому он принадлежит согласно выбранным параметрам."
   ]
  },
  {
   "cell_type": "markdown",
   "metadata": {},
   "source": [
    "> _Загрузите несколько переменных (og, fs, iiab), которые Вы сохранили в предыдущей работе. Постройте заключительный рисунок._"
   ]
  },
  {
   "cell_type": "code",
   "execution_count": null,
   "metadata": {},
   "outputs": [],
   "source": [
    "o = load('для рисунка.npz')\n",
    "o.files"
   ]
  },
  {
   "cell_type": "code",
   "execution_count": null,
   "metadata": {},
   "outputs": [],
   "source": [
    "og = o['og']\n",
    "fs = o['fs']\n",
    "iiab = o['iiab']\n",
    "iiab"
   ]
  },
  {
   "cell_type": "code",
   "execution_count": null,
   "metadata": {},
   "outputs": [],
   "source": [
    "coco = cm.tab10(np.unique(cl))\n",
    "figure(figsize=(12, 4))\n",
    "amax = max(og)                  # рассчитайте максимум для высоты полос\n",
    "t = arange(len(og))/fs\n",
    "for i in arange(len(cl)):\n",
    "    vlines(t[iiab[i]], 0, amax, color=coco[cl[i]], lw=10, alpha=.8, label=names[i])\n",
    "plot(t, og, color='k', alpha=.8);\n",
    "xlabel('Время, с')\n",
    "legend();"
   ]
  },
  {
   "cell_type": "markdown",
   "metadata": {},
   "source": [
    ">_Оцените адекватность выделения кластеров на временной развертке. Соответствует ли сходству и различиям звуков на слух?_"
   ]
  },
  {
   "cell_type": "markdown",
   "metadata": {},
   "source": [
    "> # _Критерии оценки_\n",
    "> Критерии оценивания за расчетно-графическую работу (баллов):\n",
    "- работа сдана в правильном формате +30\n",
    "- работа сдана в форме реферата +10\n",
    "- название не по шаблону -1\n",
    "- не убраны инструкции и комментарии в конце строчек кода -5\n",
    "- не везде комментарии, нет выводов -5\n",
    "- не обоснован выбор параметров  -5\n",
    "- источник данных не соответствует требованиям -5\n",
    "- некорректное суждение при ответе на вопрос -2 за каждое "
   ]
  }
 ],
 "metadata": {
  "kernelspec": {
   "display_name": "Python 3",
   "language": "python",
   "name": "python3"
  },
  "language_info": {
   "codemirror_mode": {
    "name": "ipython",
    "version": 3
   },
   "file_extension": ".py",
   "mimetype": "text/x-python",
   "name": "python",
   "nbconvert_exporter": "python",
   "pygments_lexer": "ipython3",
   "version": "3.9.0rc1"
  },
  "toc": {
   "base_numbering": 1,
   "nav_menu": {},
   "number_sections": false,
   "sideBar": true,
   "skip_h1_title": false,
   "title_cell": "Table of Contents",
   "title_sidebar": "Contents",
   "toc_cell": false,
   "toc_position": {},
   "toc_section_display": true,
   "toc_window_display": false
  }
 },
 "nbformat": 4,
 "nbformat_minor": 4
}
