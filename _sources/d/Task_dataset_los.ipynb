{
 "cells": [
  {
   "cell_type": "markdown",
   "metadata": {},
   "source": [
    "# Получение данных русского геоглифа"
   ]
  },
  {
   "cell_type": "code",
   "execution_count": 26,
   "metadata": {
    "collapsed": true
   },
   "outputs": [],
   "source": [
    "%matplotlib inline"
   ]
  },
  {
   "cell_type": "code",
   "execution_count": 2,
   "metadata": {
    "collapsed": true
   },
   "outputs": [],
   "source": [
    "# import json\n",
    "import pandas as pd"
   ]
  },
  {
   "cell_type": "markdown",
   "metadata": {},
   "source": [
    "При взгляде с горы на Урале открывается такой вид:\n",
    "\n",
    "![](geoglyph.jpg)\n",
    "\n",
    "[подробнее](https://www.livescience.com/23884-nazca-lines-russia-geoglyphs.html)"
   ]
  },
  {
   "cell_type": "markdown",
   "metadata": {},
   "source": [
    "На сайте картографического сервиса объект обведен контуром.\n",
    "\n",
    "![](geoglif_wikimapia.jpg)\n",
    "\n",
    "\n",
    "\n",
    "При выборе в выпадающем меню \"Редактировать контур\" на сервер уходит запрос\n",
    "```\n",
    "http://wikimapia.org/ajax/getPolygon/?id=20477251\n",
    "```\n",
    "в ответ приходит строка с координатами контура."
   ]
  },
  {
   "cell_type": "code",
   "execution_count": 2,
   "metadata": {
    "collapsed": true
   },
   "outputs": [],
   "source": [
    "s=\"591899049;549428132;01fd4506fcfd2b051efbcf05f3fb4705baf4790dc6de0cfa59f7d5fedaf766ff18fd10fe12fde6022be8bdfd96ed08fc2502effccf0573fb4d05a8fb7c0340fd490035fef9ff44ff84fea2004dfc8a0153fa210473f9b6058bfb2e0670fcf50474fdcb008bfb2dffb2fc8afe6dff0eff290085fdc40416fb6d07ddf8b6082bf98f0664fc62053dfd2b0142fe6fff79fecbfa8cfd78fd46fd78ffe4f51a0001f47f0036fdf50902f7af01e3ffc1044c084e02d4052d02ee1185017903bb01760106029f001f03abfcbf0390fd2b0680fb000390fc630217fe7e0142ffe00127008bff95017ffc530476f965057afadd052d00f1008a021900000416fd6905c3fb9a06eaf9ad0284ff090192005d00510171fe530331fb7c055bfa06061400000134024e01ce091e02d406640191044c006c0269ffd101e2ff4609a4f8f307dcfaf00522fd4c03c6fe3102b9ff83015d0106fd960456fdcc037dfd1003f9fc6f0446fe0102d4ff4301fa003601ff033f01420340fff102effe5f03fbfb8b024efca00269fa3802b9faf1024ffc440283fdf30325fe4f02effff002d4ffe001e3012500000191ff7901a0fd2b04d0\""
   ]
  },
  {
   "cell_type": "markdown",
   "metadata": {},
   "source": [
    "По-видимому, первые два числа - координаты, а дальше - бинарная информация: или сжатая или числа в 16-ричной системе."
   ]
  },
  {
   "cell_type": "markdown",
   "metadata": {},
   "source": [
    "О бинарном формате [программного интерфейса викимапии, (Wikimapia API)](http://wikimapia.org/wiki/API) есть информация тут http://wikimapia.org/wiki/API_box#Binary :\n",
    "\n",
    "первые два байта - длина, остальные парные координаты"
   ]
  },
  {
   "cell_type": "code",
   "execution_count": 9,
   "metadata": {},
   "outputs": [
    {
     "data": {
      "text/plain": [
       "509"
      ]
     },
     "execution_count": 9,
     "metadata": {},
     "output_type": "execute_result"
    }
   ],
   "source": [
    "0x1fd"
   ]
  },
  {
   "cell_type": "code",
   "execution_count": 11,
   "metadata": {},
   "outputs": [
    {
     "data": {
      "text/plain": [
       "428.0"
      ]
     },
     "execution_count": 11,
     "metadata": {},
     "output_type": "execute_result"
    }
   ],
   "source": [
    "(858-2)/2"
   ]
  },
  {
   "cell_type": "markdown",
   "metadata": {},
   "source": [
    "как бы там ни было, по ответу на http://stackoverflow.com/questions/24568955/how-to-get-the-coordinates-of-the-polygon-area следует, что можно получить координаты по запросу к API\n",
    "\n",
    "Этот запрос возвращает данные по `title\": \"Geoglyph \\\"Elk\\\"\"`, включая полигон.\n",
    "\n",
    "http://api.wikimapia.org/?key=example&function=place.search&id=20477251&lat=54.942847&lon=59.191664&format=json&pack=&language=en&data_blocks=geometry%2C"
   ]
  },
  {
   "cell_type": "code",
   "execution_count": 8,
   "metadata": {
    "scrolled": true
   },
   "outputs": [
    {
     "data": {
      "text/plain": [
       "{u'distance': 0,\n",
       " u'id': 20477251,\n",
       " u'language_id': 0,\n",
       " u'language_iso': u'en',\n",
       " u'polygon': [{u'x': 59.1899049, u'y': 54.9428132},\n",
       "  {u'x': 59.1899747, u'y': 54.9426344},\n",
       "  {u'x': 59.1900471, u'y': 54.9425034},\n",
       "  {u'x': 59.1901543, u'y': 54.9423511},\n",
       "  {u'x': 59.1902751, u'y': 54.9422045},\n",
       "  {u'x': 59.1905701, u'y': 54.9418519},\n",
       "  {u'x': 59.1914392, u'y': 54.9419965},\n",
       "  {u'x': 59.1916482, u'y': 54.9420258},\n",
       "  {u'x': 59.1918683, u'y': 54.9420489},\n",
       "  {u'x': 59.1919434, u'y': 54.9420982},\n",
       "  {u'x': 59.1919971, u'y': 54.9420427},\n",
       "  {u'x': 59.1925925, u'y': 54.9421044},\n",
       "  {u'x': 59.193078, u'y': 54.942203},\n",
       "  {u'x': 59.1930029, u'y': 54.9422846},\n",
       "  {u'x': 59.1928634, u'y': 54.9424048},\n",
       "  {u'x': 59.1927186, u'y': 54.9425203},\n",
       "  {u'x': 59.1926354, u'y': 54.9425897},\n",
       "  {u'x': 59.1926301, u'y': 54.9426159},\n",
       "  {u'x': 59.1926488, u'y': 54.9426282},\n",
       "  {u'x': 59.1926837, u'y': 54.9426205},\n",
       "  {u'x': 59.1927722, u'y': 54.9425866},\n",
       "  {u'x': 59.1929224, u'y': 54.9424727},\n",
       "  {u'x': 59.1930833, u'y': 54.9423308},\n",
       "  {u'x': 59.1932066, u'y': 54.942166},\n",
       "  {u'x': 59.1932844, u'y': 54.942052},\n",
       "  {u'x': 59.1933408, u'y': 54.9420381},\n",
       "  {u'x': 59.1934642, u'y': 54.9420458},\n",
       "  {u'x': 59.1935527, u'y': 54.942086},\n",
       "  {u'x': 59.1935768, u'y': 54.9421074},\n",
       "  {u'x': 59.1935635, u'y': 54.9421645},\n",
       "  {u'x': 59.1934589, u'y': 54.9422815},\n",
       "  {u'x': 59.1932576, u'y': 54.942468},\n",
       "  {u'x': 59.1930485, u'y': 54.9426328},\n",
       "  {u'x': 59.1928849, u'y': 54.9427253},\n",
       "  {u'x': 59.1927508, u'y': 54.9427977},\n",
       "  {u'x': 59.1927186, u'y': 54.9428377},\n",
       "  {u'x': 59.192732, u'y': 54.9428685},\n",
       "  {u'x': 59.1928715, u'y': 54.9429332},\n",
       "  {u'x': 59.1929412, u'y': 54.9429979},\n",
       "  {u'x': 59.1929439, u'y': 54.9432768},\n",
       "  {u'x': 59.1929438, u'y': 54.9435712},\n",
       "  {u'x': 59.1929384, u'y': 54.9436234},\n",
       "  {u'x': 59.1927078, u'y': 54.9438362},\n",
       "  {u'x': 59.1926595, u'y': 54.9438424},\n",
       "  {u'x': 59.1925495, u'y': 54.9436298},\n",
       "  {u'x': 59.1924771, u'y': 54.9434973},\n",
       "  {u'x': 59.1924021, u'y': 54.9430488},\n",
       "  {u'x': 59.1923644, u'y': 54.9429533},\n",
       "  {u'x': 59.192327, u'y': 54.9429271},\n",
       "  {u'x': 59.1922599, u'y': 54.942924},\n",
       "  {u'x': 59.192166, u'y': 54.9430072},\n",
       "  {u'x': 59.1920748, u'y': 54.9430796},\n",
       "  {u'x': 59.1919084, u'y': 54.9432075},\n",
       "  {u'x': 59.1918172, u'y': 54.9432999},\n",
       "  {u'x': 59.1917637, u'y': 54.9433384},\n",
       "  {u'x': 59.1917315, u'y': 54.9433415},\n",
       "  {u'x': 59.191702, u'y': 54.9433276},\n",
       "  {u'x': 59.1917126, u'y': 54.9432893},\n",
       "  {u'x': 59.1918066, u'y': 54.9431751},\n",
       "  {u'x': 59.1919756, u'y': 54.9430349},\n",
       "  {u'x': 59.192107, u'y': 54.9429024},\n",
       "  {u'x': 59.1920829, u'y': 54.9428886},\n",
       "  {u'x': 59.1920292, u'y': 54.9428886},\n",
       "  {u'x': 59.1919246, u'y': 54.9429548},\n",
       "  {u'x': 59.1917771, u'y': 54.9430673},\n",
       "  {u'x': 59.1916001, u'y': 54.9432291},\n",
       "  {u'x': 59.1915357, u'y': 54.9432537},\n",
       "  {u'x': 59.1914955, u'y': 54.9432444},\n",
       "  {u'x': 59.1914874, u'y': 54.9432075},\n",
       "  {u'x': 59.1915302, u'y': 54.9431258},\n",
       "  {u'x': 59.1916457, u'y': 54.9429887},\n",
       "  {u'x': 59.1917986, u'y': 54.9428331},\n",
       "  {u'x': 59.1917986, u'y': 54.9428023},\n",
       "  {u'x': 59.1917396, u'y': 54.9427561},\n",
       "  {u'x': 59.1915062, u'y': 54.9426837},\n",
       "  {u'x': 59.1913426, u'y': 54.9426436},\n",
       "  {u'x': 59.1912326, u'y': 54.9426328},\n",
       "  {u'x': 59.1911709, u'y': 54.9426374},\n",
       "  {u'x': 59.1911227, u'y': 54.9426559},\n",
       "  {u'x': 59.1908759, u'y': 54.9428363},\n",
       "  {u'x': 59.1906747, u'y': 54.9429658},\n",
       "  {u'x': 59.1905433, u'y': 54.9430349},\n",
       "  {u'x': 59.1904467, u'y': 54.9430811},\n",
       "  {u'x': 59.190377, u'y': 54.9430935},\n",
       "  {u'x': 59.1903421, u'y': 54.9430673},\n",
       "  {u'x': 59.1904038, u'y': 54.9429563},\n",
       "  {u'x': 59.1904601, u'y': 54.942867},\n",
       "  {u'x': 59.1905352, u'y': 54.9427653},\n",
       "  {u'x': 59.1906264, u'y': 54.9426559},\n",
       "  {u'x': 59.1906774, u'y': 54.9425835},\n",
       "  {u'x': 59.1906962, u'y': 54.9425329},\n",
       "  {u'x': 59.1906908, u'y': 54.9424818},\n",
       "  {u'x': 59.1906077, u'y': 54.9424496},\n",
       "  {u'x': 59.1905245, u'y': 54.942451},\n",
       "  {u'x': 59.1904494, u'y': 54.9424926},\n",
       "  {u'x': 59.1903475, u'y': 54.9426066},\n",
       "  {u'x': 59.1902885, u'y': 54.9426929},\n",
       "  {u'x': 59.1902268, u'y': 54.9428408},\n",
       "  {u'x': 59.1901571, u'y': 54.9429702},\n",
       "  {u'x': 59.190098, u'y': 54.9430657},\n",
       "  {u'x': 59.1900337, u'y': 54.9431181},\n",
       "  {u'x': 59.1899532, u'y': 54.9431613},\n",
       "  {u'x': 59.1898781, u'y': 54.9431628},\n",
       "  {u'x': 59.1898057, u'y': 54.9431659},\n",
       "  {u'x': 59.1897574, u'y': 54.9431366},\n",
       "  {u'x': 59.1897574, u'y': 54.9430965},\n",
       "  {u'x': 59.1897708, u'y': 54.9430549},\n",
       "  {u'x': 59.1898432, u'y': 54.9429317}],\n",
       " u'tags': [{u'id': 44605, u'title': u'interesting place'},\n",
       "  {u'id': 46096, u'title': u'geoglyph'}],\n",
       " u'title': u'Geoglyph \"Elk\"',\n",
       " u'urlhtml': u'<a class=\"wikimapia-link\" href=\"http:\\\\/\\\\/wikimapia.org\\\\/20477251\\\\/Geoglyph-Elk\">Geoglyph \"Elk\"<\\\\/a>'}"
      ]
     },
     "execution_count": 8,
     "metadata": {},
     "output_type": "execute_result"
    }
   ],
   "source": [
    "o={\"id\":20477251,\"language_id\":0,\"language_iso\":\"en\",\"urlhtml\":\"<a class=\\\"wikimapia-link\\\" href=\\\"http:\\/\\/wikimapia.org\\/20477251\\/Geoglyph-Elk\\\">Geoglyph \\\"Elk\\\"<\\/a>\",\"title\":\"Geoglyph \\\"Elk\\\"\",\"tags\":[{\"id\":44605,\"title\":\"interesting place\"},{\"id\":46096,\"title\":\"geoglyph\"}],\"distance\":0,\"polygon\":[{\"x\":59.1899049,\"y\":54.9428132},{\"x\":59.1899747,\"y\":54.9426344},{\"x\":59.1900471,\"y\":54.9425034},{\"x\":59.1901543,\"y\":54.9423511},{\"x\":59.1902751,\"y\":54.9422045},{\"x\":59.1905701,\"y\":54.9418519},{\"x\":59.1914392,\"y\":54.9419965},{\"x\":59.1916482,\"y\":54.9420258},{\"x\":59.1918683,\"y\":54.9420489},{\"x\":59.1919434,\"y\":54.9420982},{\"x\":59.1919971,\"y\":54.9420427},{\"x\":59.1925925,\"y\":54.9421044},{\"x\":59.193078,\"y\":54.942203},{\"x\":59.1930029,\"y\":54.9422846},{\"x\":59.1928634,\"y\":54.9424048},{\"x\":59.1927186,\"y\":54.9425203},{\"x\":59.1926354,\"y\":54.9425897},{\"x\":59.1926301,\"y\":54.9426159},{\"x\":59.1926488,\"y\":54.9426282},{\"x\":59.1926837,\"y\":54.9426205},{\"x\":59.1927722,\"y\":54.9425866},{\"x\":59.1929224,\"y\":54.9424727},{\"x\":59.1930833,\"y\":54.9423308},{\"x\":59.1932066,\"y\":54.942166},{\"x\":59.1932844,\"y\":54.942052},{\"x\":59.1933408,\"y\":54.9420381},{\"x\":59.1934642,\"y\":54.9420458},{\"x\":59.1935527,\"y\":54.942086},{\"x\":59.1935768,\"y\":54.9421074},{\"x\":59.1935635,\"y\":54.9421645},{\"x\":59.1934589,\"y\":54.9422815},{\"x\":59.1932576,\"y\":54.942468},{\"x\":59.1930485,\"y\":54.9426328},{\"x\":59.1928849,\"y\":54.9427253},{\"x\":59.1927508,\"y\":54.9427977},{\"x\":59.1927186,\"y\":54.9428377},{\"x\":59.192732,\"y\":54.9428685},{\"x\":59.1928715,\"y\":54.9429332},{\"x\":59.1929412,\"y\":54.9429979},{\"x\":59.1929439,\"y\":54.9432768},{\"x\":59.1929438,\"y\":54.9435712},{\"x\":59.1929384,\"y\":54.9436234},{\"x\":59.1927078,\"y\":54.9438362},{\"x\":59.1926595,\"y\":54.9438424},{\"x\":59.1925495,\"y\":54.9436298},{\"x\":59.1924771,\"y\":54.9434973},{\"x\":59.1924021,\"y\":54.9430488},{\"x\":59.1923644,\"y\":54.9429533},{\"x\":59.192327,\"y\":54.9429271},{\"x\":59.1922599,\"y\":54.942924},{\"x\":59.192166,\"y\":54.9430072},{\"x\":59.1920748,\"y\":54.9430796},{\"x\":59.1919084,\"y\":54.9432075},{\"x\":59.1918172,\"y\":54.9432999},{\"x\":59.1917637,\"y\":54.9433384},{\"x\":59.1917315,\"y\":54.9433415},{\"x\":59.191702,\"y\":54.9433276},{\"x\":59.1917126,\"y\":54.9432893},{\"x\":59.1918066,\"y\":54.9431751},{\"x\":59.1919756,\"y\":54.9430349},{\"x\":59.192107,\"y\":54.9429024},{\"x\":59.1920829,\"y\":54.9428886},{\"x\":59.1920292,\"y\":54.9428886},{\"x\":59.1919246,\"y\":54.9429548},{\"x\":59.1917771,\"y\":54.9430673},{\"x\":59.1916001,\"y\":54.9432291},{\"x\":59.1915357,\"y\":54.9432537},{\"x\":59.1914955,\"y\":54.9432444},{\"x\":59.1914874,\"y\":54.9432075},{\"x\":59.1915302,\"y\":54.9431258},{\"x\":59.1916457,\"y\":54.9429887},{\"x\":59.1917986,\"y\":54.9428331},{\"x\":59.1917986,\"y\":54.9428023},{\"x\":59.1917396,\"y\":54.9427561},{\"x\":59.1915062,\"y\":54.9426837},{\"x\":59.1913426,\"y\":54.9426436},{\"x\":59.1912326,\"y\":54.9426328},{\"x\":59.1911709,\"y\":54.9426374},{\"x\":59.1911227,\"y\":54.9426559},{\"x\":59.1908759,\"y\":54.9428363},{\"x\":59.1906747,\"y\":54.9429658},{\"x\":59.1905433,\"y\":54.9430349},{\"x\":59.1904467,\"y\":54.9430811},{\"x\":59.190377,\"y\":54.9430935},{\"x\":59.1903421,\"y\":54.9430673},{\"x\":59.1904038,\"y\":54.9429563},{\"x\":59.1904601,\"y\":54.942867},{\"x\":59.1905352,\"y\":54.9427653},{\"x\":59.1906264,\"y\":54.9426559},{\"x\":59.1906774,\"y\":54.9425835},{\"x\":59.1906962,\"y\":54.9425329},{\"x\":59.1906908,\"y\":54.9424818},{\"x\":59.1906077,\"y\":54.9424496},{\"x\":59.1905245,\"y\":54.942451},{\"x\":59.1904494,\"y\":54.9424926},{\"x\":59.1903475,\"y\":54.9426066},{\"x\":59.1902885,\"y\":54.9426929},{\"x\":59.1902268,\"y\":54.9428408},{\"x\":59.1901571,\"y\":54.9429702},{\"x\":59.190098,\"y\":54.9430657},{\"x\":59.1900337,\"y\":54.9431181},{\"x\":59.1899532,\"y\":54.9431613},{\"x\":59.1898781,\"y\":54.9431628},{\"x\":59.1898057,\"y\":54.9431659},{\"x\":59.1897574,\"y\":54.9431366},{\"x\":59.1897574,\"y\":54.9430965},{\"x\":59.1897708,\"y\":54.9430549},{\"x\":59.1898432,\"y\":54.9429317}]}\n",
    "o"
   ]
  },
  {
   "cell_type": "code",
   "execution_count": 9,
   "metadata": {},
   "outputs": [
    {
     "data": {
      "text/html": [
       "<div>\n",
       "<table border=\"1\" class=\"dataframe\">\n",
       "  <thead>\n",
       "    <tr style=\"text-align: right;\">\n",
       "      <th></th>\n",
       "      <th>x</th>\n",
       "      <th>y</th>\n",
       "    </tr>\n",
       "  </thead>\n",
       "  <tbody>\n",
       "    <tr>\n",
       "      <th>0</th>\n",
       "      <td>59.189905</td>\n",
       "      <td>54.942813</td>\n",
       "    </tr>\n",
       "    <tr>\n",
       "      <th>1</th>\n",
       "      <td>59.189975</td>\n",
       "      <td>54.942634</td>\n",
       "    </tr>\n",
       "    <tr>\n",
       "      <th>2</th>\n",
       "      <td>59.190047</td>\n",
       "      <td>54.942503</td>\n",
       "    </tr>\n",
       "    <tr>\n",
       "      <th>3</th>\n",
       "      <td>59.190154</td>\n",
       "      <td>54.942351</td>\n",
       "    </tr>\n",
       "    <tr>\n",
       "      <th>4</th>\n",
       "      <td>59.190275</td>\n",
       "      <td>54.942205</td>\n",
       "    </tr>\n",
       "  </tbody>\n",
       "</table>\n",
       "</div>"
      ],
      "text/plain": [
       "           x          y\n",
       "0  59.189905  54.942813\n",
       "1  59.189975  54.942634\n",
       "2  59.190047  54.942503\n",
       "3  59.190154  54.942351\n",
       "4  59.190275  54.942205"
      ]
     },
     "execution_count": 9,
     "metadata": {},
     "output_type": "execute_result"
    }
   ],
   "source": [
    "D=pd.DataFrame(o['polygon'])\n",
    "D.head()"
   ]
  },
  {
   "cell_type": "code",
   "execution_count": 10,
   "metadata": {},
   "outputs": [
    {
     "data": {
      "image/png": "[encoded data removed]",
      "text/plain": [
       "<matplotlib.figure.Figure at 0x97edb90>"
      ]
     },
     "metadata": {},
     "output_type": "display_data"
    }
   ],
   "source": [
    "D.plot('x','y',kind='scatter');"
   ]
  },
  {
   "cell_type": "markdown",
   "metadata": {},
   "source": [
    "Географические координаты измеряются вдоль кривых линей на поверхности эллипсоида (фигуры, близкой к шару).\n",
    "\n",
    "<img src=geoid.jpg width=50%>\n",
    "\n",
    "Искажениями кривизны Земли можно пренебречь и получить нормализованные координаты.\n",
    "\n",
    "![](geoaxes.jpg)\n",
    "\n",
    "Но размер градуса широты и долготы неодинаков (одинаков только на экваторе), поэтому чтобы восстановить рисунок на плоскости в исходных размерах надо градусы преобразовывать в метры с помощью специальной библиотеки."
   ]
  },
  {
   "cell_type": "code",
   "execution_count": 42,
   "metadata": {},
   "outputs": [
    {
     "data": {
      "text/html": [
       "<div>\n",
       "<table border=\"1\" class=\"dataframe\">\n",
       "  <thead>\n",
       "    <tr style=\"text-align: right;\">\n",
       "      <th></th>\n",
       "      <th>x</th>\n",
       "      <th>y</th>\n",
       "    </tr>\n",
       "  </thead>\n",
       "  <tbody>\n",
       "    <tr>\n",
       "      <th>count</th>\n",
       "      <td>108.000000</td>\n",
       "      <td>108.000000</td>\n",
       "    </tr>\n",
       "    <tr>\n",
       "      <th>mean</th>\n",
       "      <td>59.191677</td>\n",
       "      <td>54.942788</td>\n",
       "    </tr>\n",
       "    <tr>\n",
       "      <th>std</th>\n",
       "      <td>0.001131</td>\n",
       "      <td>0.000433</td>\n",
       "    </tr>\n",
       "    <tr>\n",
       "      <th>min</th>\n",
       "      <td>59.189757</td>\n",
       "      <td>54.941852</td>\n",
       "    </tr>\n",
       "    <tr>\n",
       "      <th>25%</th>\n",
       "      <td>59.190563</td>\n",
       "      <td>54.942501</td>\n",
       "    </tr>\n",
       "    <tr>\n",
       "      <th>50%</th>\n",
       "      <td>59.191788</td>\n",
       "      <td>54.942837</td>\n",
       "    </tr>\n",
       "    <tr>\n",
       "      <th>75%</th>\n",
       "      <td>59.192690</td>\n",
       "      <td>54.943080</td>\n",
       "    </tr>\n",
       "    <tr>\n",
       "      <th>max</th>\n",
       "      <td>59.193577</td>\n",
       "      <td>54.943842</td>\n",
       "    </tr>\n",
       "  </tbody>\n",
       "</table>\n",
       "</div>"
      ],
      "text/plain": [
       "                x           y\n",
       "count  108.000000  108.000000\n",
       "mean    59.191677   54.942788\n",
       "std      0.001131    0.000433\n",
       "min     59.189757   54.941852\n",
       "25%     59.190563   54.942501\n",
       "50%     59.191788   54.942837\n",
       "75%     59.192690   54.943080\n",
       "max     59.193577   54.943842"
      ]
     },
     "execution_count": 42,
     "metadata": {},
     "output_type": "execute_result"
    }
   ],
   "source": [
    "D.describe()\n",
    "# X=(D - D.mean())/D.std().max()"
   ]
  },
  {
   "cell_type": "markdown",
   "metadata": {},
   "source": [
    "При редактировании контура и сохранении правок на сервер уходит такая строка с координатами полигона (многоугольника):"
   ]
  },
  {
   "cell_type": "code",
   "execution_count": 4,
   "metadata": {
    "collapsed": true
   },
   "outputs": [],
   "source": [
    "poly='1475;9613;2173;7825;2897;6515;3969;4992;5177;3526;8127;0;16818;1446;18908;1739;21109;1970;21860;2463;22397;1908;28351;2525;33206;3511;32455;4327;31060;5529;29612;6684;28780;7378;28727;7640;28914;7763;29263;7686;30148;7347;31650;6208;33259;4789;34492;3141;35270;2001;35834;1862;37068;1939;37953;2341;38194;2555;38061;3126;37015;4296;35002;6161;32911;7809;31275;8734;29934;9458;29612;9858;29746;10166;31141;10813;31838;11460;31865;14249;31864;17193;31810;17715;29504;19843;29021;19905;27921;17779;27197;16454;26447;11969;26070;11014;25696;10752;25025;10721;24086;11553;23174;12277;21510;13556;20598;14480;20063;14865;19741;14896;19446;14757;19552;14374;20492;13232;22182;11830;23496;10505;23255;10367;22718;10367;21672;11029;20197;12154;18427;13772;17783;14018;17381;13925;17300;13556;17728;12739;18883;11368;20412;9812;20412;9504;19822;9042;17488;8318;15852;7917;14752;7809;14135;7855;13653;8040;11185;9844;9173;11139;7859;11830;6893;12292;6196;12416;5847;12154;6464;11044;7027;10151;7778;9134;8690;8040;9200;7316;9388;6810;9334;6299;8503;5977;7671;5991;6920;6407;5901;7547;5311;8410;4694;9889;3997;11183;3406;12138;2763;12662;1958;13094;1207;13109;483;13140;0;12847;0;12446;134;12030;858;10798'"
   ]
  },
  {
   "cell_type": "code",
   "execution_count": 5,
   "metadata": {},
   "outputs": [
    {
     "data": {
      "text/plain": [
       "216"
      ]
     },
     "execution_count": 5,
     "metadata": {},
     "output_type": "execute_result"
    }
   ],
   "source": [
    "poly.count(';')+1"
   ]
  },
  {
   "cell_type": "code",
   "execution_count": 5,
   "metadata": {},
   "outputs": [
    {
     "data": {
      "text/plain": [
       "858"
      ]
     },
     "execution_count": 5,
     "metadata": {},
     "output_type": "execute_result"
    }
   ],
   "source": [
    "s.split(';')[-1].__len__()"
   ]
  },
  {
   "cell_type": "code",
   "execution_count": 8,
   "metadata": {},
   "outputs": [
    {
     "data": {
      "text/plain": [
       "3.9906976744186045"
      ]
     },
     "execution_count": 8,
     "metadata": {},
     "output_type": "execute_result"
    }
   ],
   "source": [
    "_5/_3"
   ]
  },
  {
   "cell_type": "markdown",
   "metadata": {},
   "source": [
    "Попробуем взять координаты из отсылаемой строки. Может они в метрах. Хотя может в долях градусов..."
   ]
  },
  {
   "cell_type": "code",
   "execution_count": 45,
   "metadata": {},
   "outputs": [
    {
     "data": {
      "text/html": [
       "<div>\n",
       "<table border=\"1\" class=\"dataframe\">\n",
       "  <thead>\n",
       "    <tr style=\"text-align: right;\">\n",
       "      <th></th>\n",
       "      <th>x</th>\n",
       "      <th>y</th>\n",
       "    </tr>\n",
       "  </thead>\n",
       "  <tbody>\n",
       "    <tr>\n",
       "      <th>0</th>\n",
       "      <td>1475</td>\n",
       "      <td>9613</td>\n",
       "    </tr>\n",
       "    <tr>\n",
       "      <th>1</th>\n",
       "      <td>2173</td>\n",
       "      <td>7825</td>\n",
       "    </tr>\n",
       "    <tr>\n",
       "      <th>2</th>\n",
       "      <td>2897</td>\n",
       "      <td>6515</td>\n",
       "    </tr>\n",
       "    <tr>\n",
       "      <th>3</th>\n",
       "      <td>3969</td>\n",
       "      <td>4992</td>\n",
       "    </tr>\n",
       "    <tr>\n",
       "      <th>4</th>\n",
       "      <td>5177</td>\n",
       "      <td>3526</td>\n",
       "    </tr>\n",
       "    <tr>\n",
       "      <th>5</th>\n",
       "      <td>8127</td>\n",
       "      <td>0</td>\n",
       "    </tr>\n",
       "    <tr>\n",
       "      <th>6</th>\n",
       "      <td>16818</td>\n",
       "      <td>1446</td>\n",
       "    </tr>\n",
       "    <tr>\n",
       "      <th>7</th>\n",
       "      <td>18908</td>\n",
       "      <td>1739</td>\n",
       "    </tr>\n",
       "    <tr>\n",
       "      <th>8</th>\n",
       "      <td>21109</td>\n",
       "      <td>1970</td>\n",
       "    </tr>\n",
       "    <tr>\n",
       "      <th>9</th>\n",
       "      <td>21860</td>\n",
       "      <td>2463</td>\n",
       "    </tr>\n",
       "    <tr>\n",
       "      <th>10</th>\n",
       "      <td>22397</td>\n",
       "      <td>1908</td>\n",
       "    </tr>\n",
       "    <tr>\n",
       "      <th>11</th>\n",
       "      <td>28351</td>\n",
       "      <td>2525</td>\n",
       "    </tr>\n",
       "    <tr>\n",
       "      <th>12</th>\n",
       "      <td>33206</td>\n",
       "      <td>3511</td>\n",
       "    </tr>\n",
       "    <tr>\n",
       "      <th>13</th>\n",
       "      <td>32455</td>\n",
       "      <td>4327</td>\n",
       "    </tr>\n",
       "    <tr>\n",
       "      <th>14</th>\n",
       "      <td>31060</td>\n",
       "      <td>5529</td>\n",
       "    </tr>\n",
       "    <tr>\n",
       "      <th>15</th>\n",
       "      <td>29612</td>\n",
       "      <td>6684</td>\n",
       "    </tr>\n",
       "    <tr>\n",
       "      <th>16</th>\n",
       "      <td>28780</td>\n",
       "      <td>7378</td>\n",
       "    </tr>\n",
       "    <tr>\n",
       "      <th>17</th>\n",
       "      <td>28727</td>\n",
       "      <td>7640</td>\n",
       "    </tr>\n",
       "    <tr>\n",
       "      <th>18</th>\n",
       "      <td>28914</td>\n",
       "      <td>7763</td>\n",
       "    </tr>\n",
       "    <tr>\n",
       "      <th>19</th>\n",
       "      <td>29263</td>\n",
       "      <td>7686</td>\n",
       "    </tr>\n",
       "    <tr>\n",
       "      <th>20</th>\n",
       "      <td>30148</td>\n",
       "      <td>7347</td>\n",
       "    </tr>\n",
       "    <tr>\n",
       "      <th>21</th>\n",
       "      <td>31650</td>\n",
       "      <td>6208</td>\n",
       "    </tr>\n",
       "    <tr>\n",
       "      <th>22</th>\n",
       "      <td>33259</td>\n",
       "      <td>4789</td>\n",
       "    </tr>\n",
       "    <tr>\n",
       "      <th>23</th>\n",
       "      <td>34492</td>\n",
       "      <td>3141</td>\n",
       "    </tr>\n",
       "    <tr>\n",
       "      <th>24</th>\n",
       "      <td>35270</td>\n",
       "      <td>2001</td>\n",
       "    </tr>\n",
       "    <tr>\n",
       "      <th>25</th>\n",
       "      <td>35834</td>\n",
       "      <td>1862</td>\n",
       "    </tr>\n",
       "    <tr>\n",
       "      <th>26</th>\n",
       "      <td>37068</td>\n",
       "      <td>1939</td>\n",
       "    </tr>\n",
       "    <tr>\n",
       "      <th>27</th>\n",
       "      <td>37953</td>\n",
       "      <td>2341</td>\n",
       "    </tr>\n",
       "    <tr>\n",
       "      <th>28</th>\n",
       "      <td>38194</td>\n",
       "      <td>2555</td>\n",
       "    </tr>\n",
       "    <tr>\n",
       "      <th>29</th>\n",
       "      <td>38061</td>\n",
       "      <td>3126</td>\n",
       "    </tr>\n",
       "    <tr>\n",
       "      <th>...</th>\n",
       "      <td>...</td>\n",
       "      <td>...</td>\n",
       "    </tr>\n",
       "    <tr>\n",
       "      <th>78</th>\n",
       "      <td>13653</td>\n",
       "      <td>8040</td>\n",
       "    </tr>\n",
       "    <tr>\n",
       "      <th>79</th>\n",
       "      <td>11185</td>\n",
       "      <td>9844</td>\n",
       "    </tr>\n",
       "    <tr>\n",
       "      <th>80</th>\n",
       "      <td>9173</td>\n",
       "      <td>11139</td>\n",
       "    </tr>\n",
       "    <tr>\n",
       "      <th>81</th>\n",
       "      <td>7859</td>\n",
       "      <td>11830</td>\n",
       "    </tr>\n",
       "    <tr>\n",
       "      <th>82</th>\n",
       "      <td>6893</td>\n",
       "      <td>12292</td>\n",
       "    </tr>\n",
       "    <tr>\n",
       "      <th>83</th>\n",
       "      <td>6196</td>\n",
       "      <td>12416</td>\n",
       "    </tr>\n",
       "    <tr>\n",
       "      <th>84</th>\n",
       "      <td>5847</td>\n",
       "      <td>12154</td>\n",
       "    </tr>\n",
       "    <tr>\n",
       "      <th>85</th>\n",
       "      <td>6464</td>\n",
       "      <td>11044</td>\n",
       "    </tr>\n",
       "    <tr>\n",
       "      <th>86</th>\n",
       "      <td>7027</td>\n",
       "      <td>10151</td>\n",
       "    </tr>\n",
       "    <tr>\n",
       "      <th>87</th>\n",
       "      <td>7778</td>\n",
       "      <td>9134</td>\n",
       "    </tr>\n",
       "    <tr>\n",
       "      <th>88</th>\n",
       "      <td>8690</td>\n",
       "      <td>8040</td>\n",
       "    </tr>\n",
       "    <tr>\n",
       "      <th>89</th>\n",
       "      <td>9200</td>\n",
       "      <td>7316</td>\n",
       "    </tr>\n",
       "    <tr>\n",
       "      <th>90</th>\n",
       "      <td>9388</td>\n",
       "      <td>6810</td>\n",
       "    </tr>\n",
       "    <tr>\n",
       "      <th>91</th>\n",
       "      <td>9334</td>\n",
       "      <td>6299</td>\n",
       "    </tr>\n",
       "    <tr>\n",
       "      <th>92</th>\n",
       "      <td>8503</td>\n",
       "      <td>5977</td>\n",
       "    </tr>\n",
       "    <tr>\n",
       "      <th>93</th>\n",
       "      <td>7671</td>\n",
       "      <td>5991</td>\n",
       "    </tr>\n",
       "    <tr>\n",
       "      <th>94</th>\n",
       "      <td>6920</td>\n",
       "      <td>6407</td>\n",
       "    </tr>\n",
       "    <tr>\n",
       "      <th>95</th>\n",
       "      <td>5901</td>\n",
       "      <td>7547</td>\n",
       "    </tr>\n",
       "    <tr>\n",
       "      <th>96</th>\n",
       "      <td>5311</td>\n",
       "      <td>8410</td>\n",
       "    </tr>\n",
       "    <tr>\n",
       "      <th>97</th>\n",
       "      <td>4694</td>\n",
       "      <td>9889</td>\n",
       "    </tr>\n",
       "    <tr>\n",
       "      <th>98</th>\n",
       "      <td>3997</td>\n",
       "      <td>11183</td>\n",
       "    </tr>\n",
       "    <tr>\n",
       "      <th>99</th>\n",
       "      <td>3406</td>\n",
       "      <td>12138</td>\n",
       "    </tr>\n",
       "    <tr>\n",
       "      <th>100</th>\n",
       "      <td>2763</td>\n",
       "      <td>12662</td>\n",
       "    </tr>\n",
       "    <tr>\n",
       "      <th>101</th>\n",
       "      <td>1958</td>\n",
       "      <td>13094</td>\n",
       "    </tr>\n",
       "    <tr>\n",
       "      <th>102</th>\n",
       "      <td>1207</td>\n",
       "      <td>13109</td>\n",
       "    </tr>\n",
       "    <tr>\n",
       "      <th>103</th>\n",
       "      <td>483</td>\n",
       "      <td>13140</td>\n",
       "    </tr>\n",
       "    <tr>\n",
       "      <th>104</th>\n",
       "      <td>0</td>\n",
       "      <td>12847</td>\n",
       "    </tr>\n",
       "    <tr>\n",
       "      <th>105</th>\n",
       "      <td>0</td>\n",
       "      <td>12446</td>\n",
       "    </tr>\n",
       "    <tr>\n",
       "      <th>106</th>\n",
       "      <td>134</td>\n",
       "      <td>12030</td>\n",
       "    </tr>\n",
       "    <tr>\n",
       "      <th>107</th>\n",
       "      <td>858</td>\n",
       "      <td>10798</td>\n",
       "    </tr>\n",
       "  </tbody>\n",
       "</table>\n",
       "<p>108 rows × 2 columns</p>\n",
       "</div>"
      ],
      "text/plain": [
       "         x      y\n",
       "0     1475   9613\n",
       "1     2173   7825\n",
       "2     2897   6515\n",
       "3     3969   4992\n",
       "4     5177   3526\n",
       "5     8127      0\n",
       "6    16818   1446\n",
       "7    18908   1739\n",
       "8    21109   1970\n",
       "9    21860   2463\n",
       "10   22397   1908\n",
       "11   28351   2525\n",
       "12   33206   3511\n",
       "13   32455   4327\n",
       "14   31060   5529\n",
       "15   29612   6684\n",
       "16   28780   7378\n",
       "17   28727   7640\n",
       "18   28914   7763\n",
       "19   29263   7686\n",
       "20   30148   7347\n",
       "21   31650   6208\n",
       "22   33259   4789\n",
       "23   34492   3141\n",
       "24   35270   2001\n",
       "25   35834   1862\n",
       "26   37068   1939\n",
       "27   37953   2341\n",
       "28   38194   2555\n",
       "29   38061   3126\n",
       "..     ...    ...\n",
       "78   13653   8040\n",
       "79   11185   9844\n",
       "80    9173  11139\n",
       "81    7859  11830\n",
       "82    6893  12292\n",
       "83    6196  12416\n",
       "84    5847  12154\n",
       "85    6464  11044\n",
       "86    7027  10151\n",
       "87    7778   9134\n",
       "88    8690   8040\n",
       "89    9200   7316\n",
       "90    9388   6810\n",
       "91    9334   6299\n",
       "92    8503   5977\n",
       "93    7671   5991\n",
       "94    6920   6407\n",
       "95    5901   7547\n",
       "96    5311   8410\n",
       "97    4694   9889\n",
       "98    3997  11183\n",
       "99    3406  12138\n",
       "100   2763  12662\n",
       "101   1958  13094\n",
       "102   1207  13109\n",
       "103    483  13140\n",
       "104      0  12847\n",
       "105      0  12446\n",
       "106    134  12030\n",
       "107    858  10798\n",
       "\n",
       "[108 rows x 2 columns]"
      ]
     },
     "execution_count": 45,
     "metadata": {},
     "output_type": "execute_result"
    }
   ],
   "source": [
    "X=pd.to_numeric(poly.split(';'))\n",
    "X=X.reshape([-1,2])\n",
    "X=pd.DataFrame(X, columns=['x','y'])\n",
    "X"
   ]
  },
  {
   "cell_type": "code",
   "execution_count": 46,
   "metadata": {},
   "outputs": [
    {
     "data": {
      "image/png": "[encoded data removed]",
      "text/plain": [
       "<matplotlib.figure.Figure at 0xa934a70>"
      ]
     },
     "metadata": {},
     "output_type": "display_data"
    }
   ],
   "source": [
    "X.plot();"
   ]
  },
  {
   "cell_type": "code",
   "execution_count": 47,
   "metadata": {},
   "outputs": [
    {
     "data": {
      "image/png": "[encoded data removed]",
      "text/plain": [
       "<matplotlib.figure.Figure at 0xa927cd0>"
      ]
     },
     "metadata": {},
     "output_type": "display_data"
    }
   ],
   "source": [
    "X.plot('x','y', kind='scatter');"
   ]
  },
  {
   "cell_type": "code",
   "execution_count": 48,
   "metadata": {},
   "outputs": [
    {
     "data": {
      "text/html": [
       "<div>\n",
       "<table border=\"1\" class=\"dataframe\">\n",
       "  <thead>\n",
       "    <tr style=\"text-align: right;\">\n",
       "      <th></th>\n",
       "      <th>x</th>\n",
       "      <th>y</th>\n",
       "    </tr>\n",
       "  </thead>\n",
       "  <tbody>\n",
       "    <tr>\n",
       "      <th>count</th>\n",
       "      <td>108.000000</td>\n",
       "      <td>108.000000</td>\n",
       "    </tr>\n",
       "    <tr>\n",
       "      <th>mean</th>\n",
       "      <td>19195.842593</td>\n",
       "      <td>9358.814815</td>\n",
       "    </tr>\n",
       "    <tr>\n",
       "      <th>std</th>\n",
       "      <td>11310.878209</td>\n",
       "      <td>4327.940362</td>\n",
       "    </tr>\n",
       "    <tr>\n",
       "      <th>min</th>\n",
       "      <td>0.000000</td>\n",
       "      <td>0.000000</td>\n",
       "    </tr>\n",
       "    <tr>\n",
       "      <th>25%</th>\n",
       "      <td>8060.000000</td>\n",
       "      <td>6488.000000</td>\n",
       "    </tr>\n",
       "    <tr>\n",
       "      <th>50%</th>\n",
       "      <td>20304.500000</td>\n",
       "      <td>9851.000000</td>\n",
       "    </tr>\n",
       "    <tr>\n",
       "      <th>75%</th>\n",
       "      <td>29323.250000</td>\n",
       "      <td>12280.750000</td>\n",
       "    </tr>\n",
       "    <tr>\n",
       "      <th>max</th>\n",
       "      <td>38194.000000</td>\n",
       "      <td>19905.000000</td>\n",
       "    </tr>\n",
       "  </tbody>\n",
       "</table>\n",
       "</div>"
      ],
      "text/plain": [
       "                  x             y\n",
       "count    108.000000    108.000000\n",
       "mean   19195.842593   9358.814815\n",
       "std    11310.878209   4327.940362\n",
       "min        0.000000      0.000000\n",
       "25%     8060.000000   6488.000000\n",
       "50%    20304.500000   9851.000000\n",
       "75%    29323.250000  12280.750000\n",
       "max    38194.000000  19905.000000"
      ]
     },
     "execution_count": 48,
     "metadata": {},
     "output_type": "execute_result"
    }
   ],
   "source": [
    "X.describe()"
   ]
  },
  {
   "cell_type": "code",
   "execution_count": 49,
   "metadata": {
    "scrolled": true
   },
   "outputs": [],
   "source": [
    "X.to_csv('los.csv', sep=b'\\t', index=False)"
   ]
  },
  {
   "cell_type": "markdown",
   "metadata": {},
   "source": [
    "Итого: полученные координаты сохранили в файле `los.csv`."
   ]
  }
 ],
 "metadata": {
  "kernelspec": {
   "display_name": "Python 3",
   "language": "python",
   "name": "python3"
  },
  "language_info": {
   "codemirror_mode": {
    "name": "ipython",
    "version": 3
   },
   "file_extension": ".py",
   "mimetype": "text/x-python",
   "name": "python",
   "nbconvert_exporter": "python",
   "pygments_lexer": "ipython3",
   "version": "3.9.0rc1"
  },
  "toc": {
   "colors": {
    "hover_highlight": "#DAA520",
    "running_highlight": "#FF0000",
    "selected_highlight": "#FFD700"
   },
   "moveMenuLeft": true,
   "nav_menu": {
    "height": "12px",
    "width": "252px"
   },
   "navigate_menu": true,
   "number_sections": false,
   "sideBar": true,
   "threshold": 4,
   "toc_cell": false,
   "toc_section_display": "block",
   "toc_window_display": false
  }
 },
 "nbformat": 4,
 "nbformat_minor": 1
}
