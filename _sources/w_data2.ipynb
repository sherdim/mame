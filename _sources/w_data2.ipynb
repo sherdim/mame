{
 "cells": [
  {
   "cell_type": "markdown",
   "metadata": {},
   "source": [
    "# ✍ Получение набора данных 2\n",
    "\n",
    "Для ряда упражнений нам потребуются данные с нелинейной динамикой. \n",
    "Чтобы каждый мог получить собственный набор данных, предлагается воспользоваться приложением \"[Ускорение нажатий](http://uskor.stireac.com)\"."
   ]
  },
  {
   "cell_type": "markdown",
   "metadata": {},
   "source": [
    "Откройте сайт http://uskor.stireac.com. \n",
    "Нажмите на ссылку \"Начать тестирование\".\n",
    "Пройдите тест в соответствие с инструкцией.\n"
   ]
  }
 ],
 "metadata": {
  "kernelspec": {
   "display_name": "Python 3",
   "language": "python",
   "name": "python3"
  },
  "language_info": {
   "codemirror_mode": {
    "name": "ipython",
    "version": 3
   },
   "file_extension": ".py",
   "mimetype": "text/x-python",
   "name": "python",
   "nbconvert_exporter": "python",
   "pygments_lexer": "ipython3",
   "version": "3.9.0rc1"
  }
 },
 "nbformat": 4,
 "nbformat_minor": 4
}
