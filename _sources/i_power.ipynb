{
 "cells": [
  {
   "cell_type": "markdown",
   "metadata": {},
   "source": [
    "# Мощность исследования"
   ]
  },
  {
   "cell_type": "code",
   "execution_count": 1,
   "metadata": {
    "tags": [
     "remove-cell"
    ]
   },
   "outputs": [
    {
     "name": "stdout",
     "output_type": "stream",
     "text": [
      "Populating the interactive namespace from numpy and matplotlib\n"
     ]
    }
   ],
   "source": [
    "%pylab inline"
   ]
  },
  {
   "cell_type": "markdown",
   "metadata": {},
   "source": [
    "*Статистическая мощность* - вероятность, с которой искомый эффект будет обнаружен, при условии, что он имеет место. \n",
    "Величина мощности также используется для вычисления размера выборки, необходимой для подтверждения гипотезы с необходимой мерой эффекта. "
   ]
  },
  {
   "cell_type": "markdown",
   "metadata": {},
   "source": [
    "::: {figure} alpha_beta\n",
    "\n",
    "![](i/alpha_beta_.png)\n",
    "\n",
    "Параметры для определения мощности критерия\n",
    ":::\n",
    "\n",
    "Уровень значимости ($\\alpha$) выбирается исследователем и определяет вероятность совершения *ошибки первого рода* - \"обнаружения\" эффекта, которого на самом деле нет, когда случайность принимаем за истинный результат. Вероятность того, что альтернативная гипотеза верна, но решение принимается в пользу нулевой гипотезы (*ошибка второго рода*), обозначается греческой буквой $\\beta$. Тогда вероятность принятия правильного решения при истинной альтернативной гипотезе (мощность) равна $1-\\beta$. \n",
    "\n",
    "При планировании исследования желаемая мощность обычно принимается равной 0.8 или 0.9."
   ]
  },
  {
   "cell_type": "markdown",
   "metadata": {},
   "source": [
    "Эффект действия фактора - это разница между нулевой и альтернативной гипотезами, выраженная в сигмах."
   ]
  },
  {
   "cell_type": "markdown",
   "metadata": {},
   "source": [
    "[`G*Power`](https://www.psychologie.hhu.de/arbeitsgruppen/allgemeine-psychologie-und-arbeitspsychologie/gpower) - популярная программа для вычисления статистической мощности для многих различных тестов. `G*Power` также может использоваться для вычисления размеров эффекта."
   ]
  },
  {
   "cell_type": "markdown",
   "metadata": {},
   "source": [
    "Расчет мощности с параметрами для экспресс варианта теста Баланс внимания приведен на рисунке {numref}`gpower`.\n",
    "\n",
    "::: {figure} gpower\n",
    "![](i/gpower.png)\n",
    "\n",
    "Окно результатов программы G\\*Power при выполнении расчета мощности\n",
    ":::"
   ]
  },
  {
   "cell_type": "markdown",
   "metadata": {},
   "source": [
    "Другой \"априорный\" тип анализа мощности применяют, когда надо [найти размер выборки](https://stats.idre.ucla.edu/other/gpower/power-analysis-for-two-group-independent-sample-t-test/) для заданных уровня значимости и мощности, 0.05 и 0.8 соответственно.  При сбалансированных выборках одинакового размера отношение N1 к N2 равно 1.\n",
    "\n",
    "::: {figure} gpower2\n",
    "![](i/gpower2.png)\n",
    "\n",
    "Окно результатов программы G\\*Power при расчете размера выборки\n",
    ":::"
   ]
  },
  {
   "cell_type": "markdown",
   "metadata": {},
   "source": [
    "Таким образом, мы отвечаем на вопрос, сколько наблюдений требуется для выборки каждого типа, чтобы, по крайней мере, обнаружить эффект в 1 сигму с 80%-ной вероятностью обнаружения эффекта, если он истинен (20% ошибки типа II), и 5%-ной вероятностью обнаружения эффекта, если такого эффекта нет (ошибка типа I).\n",
    "\n",
    "Анализ мощности обычно выполняется до проведения исследования. Перспективный или априорный анализ мощности может быть использован для оценки любого из четырех параметров мощности, но чаще всего используется для оценки требуемых размеров выборки."
   ]
  },
  {
   "cell_type": "markdown",
   "metadata": {},
   "source": [
    "Для несложных видов анализа вроде теста Стьюдента вычисление мощности сводится к расчету доли одного распределения, разрезанного в точке, рассчитанной как доля в другом распределении, сдвинутом на размер эффекта {numref}`alpha_beta`.\n"
   ]
  },
  {
   "cell_type": "code",
   "execution_count": 65,
   "metadata": {},
   "outputs": [
    {
     "data": {
      "text/plain": [
       "0.9972819181454754"
      ]
     },
     "execution_count": 65,
     "metadata": {},
     "output_type": "execute_result"
    }
   ],
   "source": [
    "import scipy.stats as stats\n",
    "\n",
    "n = 48\n",
    "ncond = 2\n",
    "effect = 1.\n",
    "power = 0.8\n",
    "alpha = 0.05\n",
    "beta = 1 - power\n",
    "n_group = n // ncond\n",
    "df = n_group - 1\n",
    "\n",
    "# позиция относительно H0\n",
    "crit = stats.t.ppf(1-alpha/2, df)\n",
    "# доля в H1 до позиции, сдвинутой на эффект\n",
    "stats.t.cdf(crit + effect, df)"
   ]
  },
  {
   "cell_type": "markdown",
   "metadata": {},
   "source": [
    "Для точного расчёта используют нецентральное распределение Стьюдента, у которого ошибка растет с ростом \"нецентральности\".\n",
    "Уровень значимости делим на 2, поскольку для двухстороннего теста вероятность распределяется на два хвоста в случае положительного и отрицательного эффекта."
   ]
  },
  {
   "cell_type": "code",
   "execution_count": 59,
   "metadata": {},
   "outputs": [
    {
     "data": {
      "text/plain": [
       "0.9967937591473187"
      ]
     },
     "execution_count": 59,
     "metadata": {},
     "output_type": "execute_result"
    }
   ],
   "source": [
    "crit = stats.t.ppf(1-alpha/2, df)\n",
    "1 - stats.nct.cdf(crit, df, effect*np.sqrt(n_group))"
   ]
  },
  {
   "cell_type": "markdown",
   "metadata": {},
   "source": [
    "Поскольку приходится отнимать от единицы, то можно заменить на прямую и инвертированную \"функции выживания\" (англ. survival function)."
   ]
  },
  {
   "cell_type": "code",
   "execution_count": 39,
   "metadata": {},
   "outputs": [
    {
     "data": {
      "text/plain": [
       "0.9967937591473187"
      ]
     },
     "execution_count": 39,
     "metadata": {},
     "output_type": "execute_result"
    }
   ],
   "source": [
    "crit = stats.t.isf(alpha/2, df)\n",
    "stats.nct.sf(crit, df, effect*np.sqrt(n_group))"
   ]
  },
  {
   "cell_type": "code",
   "execution_count": 66,
   "metadata": {},
   "outputs": [
    {
     "data": {
      "text/plain": [
       "0.9967937591473187"
      ]
     },
     "execution_count": 66,
     "metadata": {},
     "output_type": "execute_result"
    }
   ],
   "source": [
    "from statsmodels.stats.power import ttest_power\n",
    "ttest_power(effect, n_group, alpha)"
   ]
  },
  {
   "cell_type": "markdown",
   "metadata": {},
   "source": [
    "Построим график роста мощности с увеличением размера выборки для заданных эффектов.\n"
   ]
  },
  {
   "cell_type": "code",
   "execution_count": 70,
   "metadata": {},
   "outputs": [
    {
     "data": {
      "image/png": "[encoded data removed]",
      "text/plain": [
       "<Figure size 432x288 with 1 Axes>"
      ]
     },
     "metadata": {
      "needs_background": "light"
     },
     "output_type": "display_data"
    }
   ],
   "source": [
    "nn = arange(10,30)    \n",
    "popo = ttest_power(effect, nn, alpha)\n",
    "plot(nn, popo, lw=2, alpha=0.8, label='эффект = %4.2F' % effect)\n",
    "effect2 = 0.8\n",
    "popo = ttest_power(effect2, nn, alpha)\n",
    "plot(nn, popo, lw=2, alpha=0.8, label='эффект = %4.2F' % effect2)\n",
    "axhline(1 - alpha/2, color='k', ls='--', label='порог значимости')\n",
    "xticks(nn)\n",
    "grid(True)\n",
    "xlabel('Количество наблюдений в группе')\n",
    "ylabel('Мощность');\n",
    "legend();"
   ]
  },
  {
   "cell_type": "markdown",
   "metadata": {},
   "source": [
    "В пакете `statsmodels` есть специальные средства для решения этой задачи. При этом используют `scipy.optimize` для нахождения значения, удовлетворяющего уравнению расчета мощности.\n",
    "Параметр, который нужно найти, передается в метод `...solve_power()` с пустым значением `None`."
   ]
  },
  {
   "cell_type": "code",
   "execution_count": 18,
   "metadata": {},
   "outputs": [
    {
     "name": "stdout",
     "output_type": "stream",
     "text": [
      "Размер выборки: 16.715\n"
     ]
    }
   ],
   "source": [
    "from statsmodels.stats.power import tt_ind_solve_power\n",
    "\n",
    "result = tt_ind_solve_power(effect, power=power, nobs1=None, ratio=1.0, alpha=alpha)\n",
    "print(f'Размер выборки: {result:.3f}')"
   ]
  },
  {
   "cell_type": "markdown",
   "metadata": {},
   "source": [
    "Для достоверного обнаружения разницы в 1 сигму (для времени реакции это около 100 мс) нужно по крайней мере 17 значений на группу.\n",
    "\n",
    "Если выборку сделать больше, то можно будет обнаруживать разницу менее 1 сигмы. Помните, что рост дискриминационной способности статистического метода (размер ошибки) обратно пропорционален корню квадратному от размера выборки, т.е. значительное увеличение выборки ведет лишь к незначительному росту мощности.\n",
    "Так в надежном варианте теста \"Баланс внимания\" 32 предъявления для каждого из шести видов стимуляции (2 модальности и 3 частоты предъявления). С учётом того, что 1-2 стимула могут быть пропущены, рабочий размер выборки можно считать 30 штук.\n"
   ]
  },
  {
   "cell_type": "code",
   "execution_count": 19,
   "metadata": {},
   "outputs": [
    {
     "name": "stdout",
     "output_type": "stream",
     "text": [
      "Обнаруживаемая разница: 0.736 σ\n"
     ]
    }
   ],
   "source": [
    "result = tt_ind_solve_power(effect_size=None, power=power, nobs1=30, ratio=1.0, alpha=alpha)\n",
    "print(f'Обнаруживаемая разница: {result:.3f} σ')"
   ]
  }
 ],
 "metadata": {
  "kernelspec": {
   "display_name": "Python 3",
   "language": "python",
   "name": "python3"
  },
  "language_info": {
   "codemirror_mode": {
    "name": "ipython",
    "version": 3
   },
   "file_extension": ".py",
   "mimetype": "text/x-python",
   "name": "python",
   "nbconvert_exporter": "python",
   "pygments_lexer": "ipython3",
   "version": "3.9.0rc1"
  }
 },
 "nbformat": 4,
 "nbformat_minor": 4
}
