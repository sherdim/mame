{
 "cells": [
  {
   "cell_type": "code",
   "execution_count": 1,
   "metadata": {
    "scrolled": true,
    "slideshow": {
     "slide_type": "skip"
    }
   },
   "outputs": [
    {
     "name": "stdout",
     "output_type": "stream",
     "text": [
      "Populating the interactive namespace from numpy and matplotlib\n"
     ]
    }
   ],
   "source": [
    "%pylab inline\n",
    "import pandas as pd\n",
    "import seaborn as sns\n",
    "\n",
    "from IPython.display import IFrame"
   ]
  },
  {
   "cell_type": "markdown",
   "metadata": {
    "slideshow": {
     "slide_type": "slide"
    }
   },
   "source": [
    "## Визуализация\n",
    "... - представление идеи в графическом виде"
   ]
  },
  {
   "cell_type": "markdown",
   "metadata": {
    "slideshow": {
     "slide_type": "slide"
    }
   },
   "source": [
    "## Принципы\n",
    "\n",
    "- Наглядность (должно быть видно)\n",
    "- Причинность визуализируется стрелочками <cite data-cite=\"granger2013\">(Granger, 2013)</cite>\n",
    "- Адекватные цвета, если не нужны - ч/б\n"
   ]
  },
  {
   "cell_type": "markdown",
   "metadata": {
    "slideshow": {
     "slide_type": "slide"
    }
   },
   "source": [
    "## [Инфографика](https://www.google.ru/search?q=%D0%B8%D0%BD%D1%84%D0%BE%D0%B3%D1%80%D0%B0%D1%84%D0%B8%D0%BA%D0%B0+%D0%B1%D0%B8%D0%BE%D0%BB%D0%BE%D0%B3%D0%B8%D1%8F&newwindow=1&source=lnms&tbm=isch&sa=X&ved=0ahUKEwiPoYuVgsrRAhXKPZoKHfoADVEQ_AUICCgB&biw=1252&bih=602) - стенгазета 21 века"
   ]
  },
  {
   "cell_type": "markdown",
   "metadata": {
    "slideshow": {
     "slide_type": "slide"
    }
   },
   "source": [
    "> Интерактивность - главное достижение онлайн визуализации\n",
    "<cite>Д. Щербина (2017)</cite>"
   ]
  },
  {
   "cell_type": "markdown",
   "metadata": {
    "slideshow": {
     "slide_type": "slide"
    }
   },
   "source": [
    "## Принципы интерактивности\n",
    "\n",
    "- Клик - выбор объекта из фона\n",
    "- Колесико масштабирует\n",
    "- Удержание курсора над объектом - доп. информация\n",
    "- Кнопка сброса (Home)\n"
   ]
  },
  {
   "cell_type": "markdown",
   "metadata": {
    "slideshow": {
     "slide_type": "subslide"
    }
   },
   "source": [
    "![](https://i0.wp.com/flowingdata.com/wp-content/uploads/2018/09/Night-lights-visualized-as-terrain.png?resize=750%2C570)\n",
    "\n",
    "(c) http://flowingdata.com/2018/09/10/night-lights-mapped-as-terrain/\n",
    "\n",
    "## [3D Interactive](https://jwasilgeo.github.io/esri-experiments/earth-at-night/)"
   ]
  },
  {
   "cell_type": "markdown",
   "metadata": {
    "slideshow": {
     "slide_type": "slide"
    }
   },
   "source": [
    "## Групповые данные\n",
    "\n",
    "добавление джиттера - \"разрыхление\""
   ]
  },
  {
   "cell_type": "markdown",
   "metadata": {
    "slideshow": {
     "slide_type": "slide"
    }
   },
   "source": [
    "### Дерево - визуализация иерархии"
   ]
  },
  {
   "cell_type": "markdown",
   "metadata": {
    "collapsed": true
   },
   "source": [
    "https://bl.ocks.org/mbostock/4063570"
   ]
  },
  {
   "cell_type": "markdown",
   "metadata": {
    "collapsed": true
   },
   "source": [
    "http://data.stireac.com/eup/mame/tree1.html"
   ]
  },
  {
   "cell_type": "code",
   "execution_count": 5,
   "metadata": {
    "slideshow": {
     "slide_type": "slide"
    }
   },
   "outputs": [],
   "source": [
    "# IFrame('https://bl.ocks.org/mbostock/raw/4063550/', 800, 600)"
   ]
  },
  {
   "cell_type": "code",
   "execution_count": 4,
   "metadata": {
    "slideshow": {
     "slide_type": "slide"
    }
   },
   "outputs": [
    {
     "data": {
      "text/html": [
       "\n",
       "        <iframe\n",
       "            width=\"800\"\n",
       "            height=\"600\"\n",
       "            src=\"http://data.stireac.com/eup/mame/tree1.html\"\n",
       "            frameborder=\"0\"\n",
       "            allowfullscreen\n",
       "        ></iframe>\n",
       "        "
      ],
      "text/plain": [
       "<IPython.lib.display.IFrame at 0x4dea5f0>"
      ]
     },
     "execution_count": 4,
     "metadata": {},
     "output_type": "execute_result"
    }
   ],
   "source": [
    "IFrame('http://data.stireac.com/eup/mame/tree1.html', 800, 600)"
   ]
  },
  {
   "cell_type": "markdown",
   "metadata": {
    "slideshow": {
     "slide_type": "slide"
    }
   },
   "source": [
    "Повышение размерности за счет цвета\n",
    "\n",
    "Heatmap, Теплокарта\n",
    "![](https://upload.wikimedia.org/wikipedia/commons/thumb/4/48/Heatmap.png/480px-Heatmap.png)"
   ]
  },
  {
   "cell_type": "markdown",
   "metadata": {
    "slideshow": {
     "slide_type": "slide"
    }
   },
   "source": [
    "### Дерево + цвета\n",
    "\n",
    "![](ete_example.png)"
   ]
  },
  {
   "cell_type": "markdown",
   "metadata": {
    "slideshow": {
     "slide_type": "slide"
    }
   },
   "source": [
    "## Гео\n",
    "\n",
    "- [Winkel tripel projection](https://en.wikipedia.org/wiki/Winkel_tripel_projection) - карта National Geographic\n",
    "- [Web Mercator](https://en.wikipedia.org/wiki/Web_Mercator) - в Google Maps, Bing Maps, Mapquest, Mapbox, OpenStreetMap и др. - сильно искажает на полюсах\n",
    "\n",
    "[Остальные проекции для истории](https://en.wikipedia.org/wiki/List_of_map_projections) - отсортируйте по году\n",
    "\n",
    "\n",
    "Choropleth map"
   ]
  },
  {
   "cell_type": "markdown",
   "metadata": {
    "slideshow": {
     "slide_type": "slide"
    }
   },
   "source": [
    "### [Гео](http://www.puffpuffproject.com/languages.html)"
   ]
  },
  {
   "cell_type": "markdown",
   "metadata": {
    "slideshow": {
     "slide_type": "slide"
    }
   },
   "source": [
    "### [Гео+размер+авторасположение](http://www.facebookstories.com/stories/1574/interactive-mapping-the-world-s-friendships#color=continent&story=1&country=RU)\n",
    "\n",
    "- Рейтинги между странами основаны на числе дружб через Facebook между странами и общее число дружб внутри каждого"
   ]
  },
  {
   "cell_type": "markdown",
   "metadata": {
    "slideshow": {
     "slide_type": "slide"
    }
   },
   "source": [
    "### [Гео+3D+ RealTime](http://stuffin.space/)"
   ]
  },
  {
   "cell_type": "markdown",
   "metadata": {
    "slideshow": {
     "slide_type": "slide"
    }
   },
   "source": [
    "### [Хроно+цвета](http://names.mercator.ru/)\n",
    "\n",
    "- Валентин, Валентина, Валерий, Юрий, Людмила - советские имена\n",
    "- Анастасия, Мария, Анна - антисоветские\n",
    "- Софья, Ксения, Варвара, Елизавета, Ульяна, Полина, Дарья, Федор, Семен - единый компонент новомодно-архаичных имен\n",
    "- Клава, Дуся (Евдокия) - Х\n",
    "- Клара, Роза, Филипп - сиюминутные в честь 1 человека\n",
    "- ??? - имена застоя"
   ]
  },
  {
   "cell_type": "markdown",
   "metadata": {
    "slideshow": {
     "slide_type": "slide"
    }
   },
   "source": [
    "## Графы\n",
    "\n",
    "Tree of Life\n",
    "\n",
    "[Lifemap](http://lifemap.univ-lyon1.fr/)\n",
    "\n",
    "de Vienne DM (2016) Lifemap: Exploring the Entire Tree of Life. PLoS Biol 14(12): e2001624. doi:10.1371/journal.pbio.2001624"
   ]
  },
  {
   "cell_type": "markdown",
   "metadata": {
    "slideshow": {
     "slide_type": "slide"
    }
   },
   "source": [
    "## Палитра цветов\n",
    "\n",
    "[принципы цветогаммообразования](https://color.adobe.com/ru/)\n",
    "\n",
    "### Подбор гаммы\n",
    "- [paletton.com](http://paletton.com/#uid=72J0Z0kOFxco0H4-jKZRkpYTSjH)"
   ]
  },
  {
   "cell_type": "markdown",
   "metadata": {
    "slideshow": {
     "slide_type": "slide"
    }
   },
   "source": [
    "## От рисунка к приложению\n",
    "\n",
    "1. Итог анализа - рисунок, затем более продвинутый анализ - рисунок\n",
    "```\n",
    "A -> Р -> A -> Р -> A -> Р -> A -> Р -> A -> Р\n",
    "```\n",
    "2. Интерактивное управление параметрами + рисунок = приложение\n",
    "\n",
    "<b class=tag>web app</b>"
   ]
  },
  {
   "cell_type": "markdown",
   "metadata": {
    "slideshow": {
     "slide_type": "slide"
    }
   },
   "source": [
    "> Интерактивный рисунок - лупа для пристальных раздумий над данными\n",
    "<cite data-cite=\"\">Д. Щербина (2017)</cite>"
   ]
  },
  {
   "cell_type": "markdown",
   "metadata": {
    "slideshow": {
     "slide_type": "slide"
    }
   },
   "source": [
    "### Пример. Рисунок-приложение\n",
    "\n",
    "Ученые из  [Центра биоинформатики Icahn School of Medicine at Mount Sinai](http://icahn.mssm.edu/research/bioinformatics) думают как придумать лекарство от рака.\n",
    "\n",
    "Сравнивают уровни экспресси гена киназы в раковых клетках разных опухолей.\n",
    "\n",
    "http://maayanlab.github.io/clustergrammer/scrolling_tour\n",
    "\n"
   ]
  },
  {
   "cell_type": "markdown",
   "metadata": {
    "slideshow": {
     "slide_type": "slide"
    }
   },
   "source": [
    "### Пример. Рисунок-приложение\n",
    "\n",
    "мы видим обычный colormap с дивергентным окрашиванием\n",
    "\n",
    "**Возможности визуализации**:\n",
    "- зуминг\n",
    "- пересортировка и фильтрация\n",
    "- настраиваемая кластеризация\n",
    "- аннотации и доп. информация\n",
    "- запустить внешний анализ с подгрузкой данных из библиотек\n"
   ]
  },
  {
   "cell_type": "markdown",
   "metadata": {
    "slideshow": {
     "slide_type": "slide"
    }
   },
   "source": [
    "### Пример. Рисунок-приложение\n",
    "\n",
    "[Приложение Кластерограммер](http://amp.pharm.mssm.edu/clustergrammer/)\n",
    "\n",
    "признаки приложения:\n",
    "- загрузка своих данных\n",
    "- решение конкретной задачи пользователей\n",
    "\n",
    "здесь задача - получить инсайт, что делать с данными\n",
    "\n",
    "\n",
    "\n"
   ]
  },
  {
   "cell_type": "markdown",
   "metadata": {
    "slideshow": {
     "slide_type": "slide"
    }
   },
   "source": [
    "### Пример. Рисунок-приложение\n",
    "\n",
    "[Интерактивный атлас мозга](https://brainbrowser.cbrain.mcgill.ca/surface-viewer#atlas)"
   ]
  },
  {
   "cell_type": "markdown",
   "metadata": {
    "slideshow": {
     "slide_type": "slide"
    }
   },
   "source": [
    "[Epistat](https://epistat.wiv-isp.be)  - пространство, возраст, виды\n",
    "\n",
    "Сезонность - Аденовирус, пневмония, хламидия, параинфлюенза\n",
    "\n",
    "согласие 2014 - бореллия, ротавирус\n",
    "\n",
    "Возраст - аденовирус, ВИЧ, пневмония\n",
    "\n",
    "https://www.ncbi.nlm.nih.gov/pmc/articles/PMC5003365/"
   ]
  },
  {
   "cell_type": "markdown",
   "metadata": {
    "slideshow": {
     "slide_type": "slide"
    }
   },
   "source": [
    "[PanX](http://pangenome.tuebingen.mpg.de) - виды, гены, филогения\n",
    "\n",
    "![](http://pangenome.tuebingen.mpg.de/images/panX-pipeline.png)"
   ]
  },
  {
   "cell_type": "markdown",
   "metadata": {
    "slideshow": {
     "slide_type": "slide"
    }
   },
   "source": [
    "### Алгоритмы визуального мышления\n",
    "\n",
    "- Algorithm 1: Visual Queries \n",
    "- Algorithm 2: Pathfinding on a Map or Diagram Visual Query Construction The Pattern-Finding Loop\n",
    "- Algorithm 3: Reasoning with a Hybrid of a Visual Displayand Mental Imagery\n",
    "- Algorithm 4: Design Sketching\n",
    "- Algorithm 5: Brushing\n",
    "- Algorithm 6: Small Pattern Comparisons in a Large Information Space\n",
    "- Algorithm 7: Degree-of-Relevance Highlighting\n",
    "- Algorithm 8: Generalized Fisheye Views\n",
    "- Algorithm 9: Multidimensional Dynamic Queries with Scatter Plot \n",
    "- Algorithm 10: Visual Monitoring Strategies\n",
    "\n",
    "\n",
    "1. Ware C.Information visualization: perception for design / C. Ware – Elsevier, 2012.\n"
   ]
  },
  {
   "cell_type": "markdown",
   "metadata": {
    "slideshow": {
     "slide_type": "slide"
    }
   },
   "source": [
    "## Библиотеки для визуализации\n",
    "\n",
    "- <a href=\"http://matplotlib.org/\">matplotlib</a> - базовая стандартная библиотека. Активируется командой <code class=\"highlighter-rouge\">%matplotlib inline</code>. Как альтернатива команда&nbsp;<code class=\"highlighter-rouge\">%matplotlib notebook</code>&nbsp;дает интерактивность для детального исследования графика (например, можно увеличить фрагмент).</li>\n",
    "- <a href=\"http://seaborn.pydata.org/\">Seaborn</a> построен на основе Matplotlib и позволяет легко делать сложные многокомпонентные профессионально выглядящие рисунки.</li>\n",
    "- <a href=\"https://github.com/mpld3/mpld3\">mpld3</a> представляет рисунки в виде интерактивной векторной графики SVG с использованием библиотеки d3 на JavaScript.</li>\n",
    "- <a href=\"http://bokeh.pydata.org/en/latest/\">bokeh</a> - прекрасные возможности для построения интерактивных графиков.</li>\n",
    "- <a href=\"https://plot.ly/\">plot.ly</a> - красивые [интерактивные графики](https://plot.ly/python/#scientific-charts).</li>\n",
    "- [bqplot](https://github.com/bloomberg/bqplot)\n",
    "- [ipyvolume](https://ipyvolume.readthedocs.io/en/latest/)\n",
    "- <a href=\"https://altair-viz.github.io/gallery/index.html#example-gallery\">Altair</a> - <span id=\"result_box\" class=\"long_text\" tabindex=\"-1\" lang=\"ru\">библиотека для декларативной визуализации для Python. Она проста в использовании и делает красивые графики</span>.</li><li>Chaco</li><li>PyX</li>\n",
    "</ul><br><p></p>"
   ]
  },
  {
   "cell_type": "markdown",
   "metadata": {
    "slideshow": {
     "slide_type": "slide"
    }
   },
   "source": [
    "Источники для самостоятельного изучения:\n",
    "<ul><li><a href=\"http://bokeh.pydata.org/en/latest/docs/gallery/burtin.html\">Круговая диаграмма</a>&nbsp; &nbsp;(<a href=\"http://mbostock.github.io/protovis/ex/antibiotics-burtin.html\">JS версия</a>)</li><li><a href=\"https://bokeh.pydata.org/en/latest/docs/user_guide/examples/styling_glyph_hover.html\">Временная серия от bokeh</a><br></li><li><a href=\"https://nbviewer.jupyter.org/github/bloomberg/bqplot/blob/master/examples/Advanced%20Plotting/Animations.ipynb\">Анимированные графики от bqplot</a></li><li><a href=\"https://ipyvolume.readthedocs.io/en/latest/vr.html\">3D через очки виртуальной реальности</a></li></ul>"
   ]
  },
  {
   "cell_type": "markdown",
   "metadata": {
    "slideshow": {
     "slide_type": "slide"
    }
   },
   "source": [
    "### +++\n",
    "\n",
    "#### [Каталог способов визуализации](http://www.datavizcatalogue.com/)\n",
    "\n",
    "[Biological Data Visualization](https://www.cg.tuwien.ac.at/research/vis/BioVis.html)\n",
    "\n",
    "\n",
    "[MODELING AND VISUALIZATION OF DNA NANOSTRUCTURES](http://maraproject.eu/adenita/)\n",
    "\n",
    "[Дополненное видео](https://www.cg.tuwien.ac.at/research/publications/2018/amirkhanov-2018-withteeth/amirkhanov-2018-withteeth-video%20demo.mp4)\n",
    "\n",
    "[О построении деревьев](http://www.d3noob.org/2014/01/tree-diagrams-in-d3js_11.html)\n",
    "\n",
    "\n",
    "\n",
    "\n",
    "\n",
    "#### Обратный поиск по изображению\n",
    "\n",
    "- https://www.tineye.com/\n",
    "- [Поиск по картинке](https://yandex.ru/images/)"
   ]
  }
 ],
 "metadata": {
  "celltoolbar": "Slideshow",
  "kernelspec": {
   "display_name": "Python 3",
   "language": "python",
   "name": "python3"
  },
  "language_info": {
   "codemirror_mode": {
    "name": "ipython",
    "version": 3
   },
   "file_extension": ".py",
   "mimetype": "text/x-python",
   "name": "python",
   "nbconvert_exporter": "python",
   "pygments_lexer": "ipython3",
   "version": "3.7.1"
  },
  "toc": {
   "base_numbering": 1,
   "nav_menu": {
    "height": "402px",
    "width": "252px"
   },
   "number_sections": false,
   "sideBar": true,
   "skip_h1_title": false,
   "title_cell": "Table of Contents",
   "title_sidebar": "Contents",
   "toc_cell": false,
   "toc_position": {},
   "toc_section_display": "block",
   "toc_window_display": false
  }
 },
 "nbformat": 4,
 "nbformat_minor": 1
}
