{
 "cells": [
  {
   "cell_type": "code",
   "execution_count": 1,
   "metadata": {
    "slideshow": {
     "slide_type": "skip"
    }
   },
   "outputs": [
    {
     "name": "stdout",
     "output_type": "stream",
     "text": [
      "Populating the interactive namespace from numpy and matplotlib\n"
     ]
    }
   ],
   "source": [
    "%pylab inline"
   ]
  },
  {
   "cell_type": "markdown",
   "metadata": {
    "slideshow": {
     "slide_type": "slide"
    }
   },
   "source": [
    "#  Вероятностные модели\n",
    "\n",
    "все, исход которых не всегда одинаков. Синоним - стохастические.\n",
    "\n",
    "статистические, симуляционные - все, где используются случайные числа"
   ]
  },
  {
   "cell_type": "markdown",
   "metadata": {
    "slideshow": {
     "slide_type": "fragment"
    }
   },
   "source": [
    "Детерминированные модели - точно предсказуемый результат.\n",
    "\n",
    "Если результат точно предсказать не получается - можно предсказать вероятность результата."
   ]
  },
  {
   "cell_type": "markdown",
   "metadata": {
    "slideshow": {
     "slide_type": "slide"
    }
   },
   "source": [
    "## Определения\n",
    "\n",
    "*Вероятность* - доля событий определенного вида от общего числа наблюдений.\n",
    "\n",
    "*Вероятностное прогнозирование* - вид моделирования, при котором предсказание будущего события сопровождается вероятностной оценкой.\n",
    "\n",
    "<b class=tag>Случайность</b>"
   ]
  },
  {
   "cell_type": "markdown",
   "metadata": {
    "slideshow": {
     "slide_type": "notes"
    }
   },
   "source": [
    "Наблюдения - систематическая целенаправленная деятельность по фиксации фактов, а не просто созерцание происходящего в природе."
   ]
  },
  {
   "cell_type": "markdown",
   "metadata": {
    "slideshow": {
     "slide_type": "slide"
    }
   },
   "source": [
    "- Событие: среднее значение в группе, согласившихся на испытание нового лекарства, после приема препарата отличается больше, чем на 2 \"сигмы\" от среднего в контрольной группе.\n",
    "- Общее число наблюдений: 5 аналогичных исследований в разных клиниках страны.\n",
    "\n",
    "Как называется вероятность в данном случае?"
   ]
  },
  {
   "cell_type": "markdown",
   "metadata": {
    "collapsed": true,
    "slideshow": {
     "slide_type": "notes"
    }
   },
   "source": [
    "достоверность"
   ]
  },
  {
   "cell_type": "markdown",
   "metadata": {
    "slideshow": {
     "slide_type": "slide"
    }
   },
   "source": [
    "*Вероятность* - доля исхода одной из нескольких ситуации по отношению к общему количеству исходов.\n",
    "\n",
    "Если всегда лебеди всегда белые - $p=1.0$\n",
    "\n",
    "![](http://teatr-sats.ru/wp-content/uploads/2012/04/LEBEDINOE-OZERO-Foto-Elena-Lapina-prev-yu-31.jpg)\n"
   ]
  },
  {
   "cell_type": "markdown",
   "metadata": {
    "slideshow": {
     "slide_type": "notes"
    }
   },
   "source": [
    "Рассмотрим хрестоматийный пример ошибочного вероятностного суждения, который понравится зоологам."
   ]
  },
  {
   "cell_type": "markdown",
   "metadata": {
    "slideshow": {
     "slide_type": "slide"
    }
   },
   "source": [
    "Потом оказалось, что бывают черные лебеди\n",
    "\n",
    "![](http://www.muzcentrum.ru/img/upload/5662.jpg)"
   ]
  },
  {
   "cell_type": "markdown",
   "metadata": {
    "slideshow": {
     "slide_type": "slide"
    }
   },
   "source": [
    "![](lebedbelch.jpg)"
   ]
  },
  {
   "cell_type": "markdown",
   "metadata": {
    "slideshow": {
     "slide_type": "notes"
    }
   },
   "source": [
    "не так часто, но встречаются"
   ]
  },
  {
   "cell_type": "markdown",
   "metadata": {
    "slideshow": {
     "slide_type": "slide"
    }
   },
   "source": [
    "модель - если есть два вида событий или объектов, то исходно предполагают их одинаковую вероятность\n",
    "![](lebed5050.jpg)"
   ]
  },
  {
   "cell_type": "markdown",
   "metadata": {
    "slideshow": {
     "slide_type": "slide"
    }
   },
   "source": [
    "Равновероятные события\n",
    "--\n",
    "\n",
    "2 события - кинуть монетку;\n",
    "более 2 событий: игральные кости различных конфигураций:\n",
    "\n",
    "![](dd-dice.jpg)\n"
   ]
  },
  {
   "cell_type": "markdown",
   "metadata": {
    "slideshow": {
     "slide_type": "slide"
    }
   },
   "source": [
    "где в природе встречается равновероятное распределение двух случаев?\n",
    "\n",
    "<b class=tag>равномерное распределение</b>\n",
    "<b class=tag>плоское распределение</b>\n"
   ]
  },
  {
   "cell_type": "markdown",
   "metadata": {
    "slideshow": {
     "slide_type": "fragment"
    }
   },
   "source": [
    ">```\n",
    "Пришли девчонки, стоят в сторонке,\n",
    "Платочки в руках теребят...\n",
    "```\n",
    "*Рыжов К.*"
   ]
  },
  {
   "cell_type": "markdown",
   "metadata": {
    "slideshow": {
     "slide_type": "notes"
    }
   },
   "source": [
    "В реальности распределение полов может отличаться от равновероятного. У некоторых видов зависит от температуры и др. факторов."
   ]
  },
  {
   "cell_type": "markdown",
   "metadata": {
    "slideshow": {
     "slide_type": "slide"
    }
   },
   "source": [
    "*Эмпирическое распределение* - функция распределения, построенная с помощью выборки из него.\n",
    "\n",
    "в реальности такое возможно только в зоопарке\n",
    "![](lebed1+1.jpg)"
   ]
  },
  {
   "cell_type": "markdown",
   "metadata": {
    "slideshow": {
     "slide_type": "notes"
    }
   },
   "source": [
    "(с) https://www.stihi.ru/pics/2012/04/18/884.jpg"
   ]
  },
  {
   "cell_type": "markdown",
   "metadata": {
    "slideshow": {
     "slide_type": "slide"
    }
   },
   "source": [
    "чтобы разные виды эволюционировали в изоляции, они должны быть разделены барьерами\n",
    "![](lebed1-1.jpg)"
   ]
  },
  {
   "cell_type": "markdown",
   "metadata": {
    "slideshow": {
     "slide_type": "notes"
    }
   },
   "source": [
    "для репрезентативности надо поездить по миру и понаблюдать в разных местах, изолированных друг от друга\n",
    "\n",
    "(с) http://www.stihi.ru/pics/2013/04/22/6137.jpg)"
   ]
  },
  {
   "cell_type": "markdown",
   "metadata": {
    "slideshow": {
     "slide_type": "slide"
    }
   },
   "source": [
    " rara avis in terris nigroque simillima cygno\n",
    " *(Juvenal 6.165, -82)*\n",
    " \n",
    " ```\n",
    "Пусть и красива она, и стройна, плодовита, богата,\n",
    "С ликами древних предков по портикам, и целомудра\n",
    "Больше сабинки, что бой прекращает, власы распустивши,\n",
    "Словом, редчайшая птица земли, как черная лебедь, —\n",
    "Вынесешь разве жену, у которой все совершенства? \n",
    " ```\n",
    " (*Перевод Д.С. Недовича*)\n",
    " \n",
    " насколько редкая?\n",
    " "
   ]
  },
  {
   "cell_type": "markdown",
   "metadata": {
    "slideshow": {
     "slide_type": "slide"
    }
   },
   "source": [
    "Откуда в древнем Риме была идея о черных лебедях?\n",
    "\n",
    "Дело в том, что до открытия европейцами Австралии (17 век) существование черных лебедей (Cygnus atratus) считалось невозможным. [Фраза Ювенала](http://polyidioms.narod.ru/index/0-194) перешла в несколько европейских языков, в том числе и в английский. Около 1500 лет «черный лебедь», могущий существовать лишь в воображении, был метафорой чего-то несуществующего.\n",
    "Голландский первооткрыватель Виллем Янсон в 1697 году сделал первую запись о том, что он видел черного лебедя.\n",
    "\n",
    "меланисты?"
   ]
  },
  {
   "cell_type": "markdown",
   "metadata": {
    "slideshow": {
     "slide_type": "slide"
    }
   },
   "source": [
    "|<img title=thumb src=Cygnus_atratus.jpg>| ![thumb](Cygnus_columbianus.jpg) ![thumb](Cygnus_buccinator.jpg) ![thumb](Cygnus_olor.jpg) ![thumb](Cygnus_cygnus.jpg) |\n",
    "|--|--|\n",
    "|Cygnus atratus (Latham, 1790) | Cygnus cygnus (Linnaeus, 1758) + Cygnus olor (Gmelin, 1789) + Cygnus buccinator Richardson, 1832 + Cygnus columbianus (Ord, 1815)|\n",
    "|~500| ~ 180 + 600 + 50 + 336|\n",
    "|[Черные лебеди](http://www.myswan.org.au/index.php/black-swans/)| [кликун](http://www.iucnredlist.org/details/22679856/0) + [шипун](http://www.iucnredlist.org/details/22679839/0) + [трубач](http://www.iucnredlist.org/details/22679859/0) + [малый](http://www.iucnredlist.org/details/22679862/0)|\n",
    "\n"
   ]
  },
  {
   "cell_type": "code",
   "execution_count": 4,
   "metadata": {
    "slideshow": {
     "slide_type": "slide"
    }
   },
   "outputs": [
    {
     "data": {
      "text/plain": [
       "0.30012004801920766"
      ]
     },
     "execution_count": 4,
     "metadata": {},
     "output_type": "execute_result"
    }
   ],
   "source": [
    "nb=500\n",
    "nw=180 + 600 + 50 + 336\n",
    "nb/(nb+nw)"
   ]
  },
  {
   "cell_type": "markdown",
   "metadata": {
    "slideshow": {
     "slide_type": "notes"
    }
   },
   "source": [
    "Вот мы получили ответ: лебедь черный с вероятностью 30%, поскольку в противном случае лебедь может быть только белым - 100% - 30% = 70%.\n",
    "\n",
    "давайте усложним ситуацию..."
   ]
  },
  {
   "cell_type": "markdown",
   "metadata": {
    "slideshow": {
     "slide_type": "slide"
    }
   },
   "source": [
    "Промежуточная категория или третья? (Cygnus melancoryphus)\n",
    "\n",
    "![full](Cygnus_melancoryphus.jpg)"
   ]
  },
  {
   "cell_type": "markdown",
   "metadata": {
    "slideshow": {
     "slide_type": "notes"
    }
   },
   "source": [
    "наконец, есть еще один вид лебедей - из Южной Америки.\n",
    "Он не черный и не белый - надо его распределить между двумя группами (пропорционально доли белого и черного оперения)\n",
    "или ввести третью категорию?\n",
    "\n",
    "У черного лебедя - маховые перья на крыльях белые.\n",
    "\n",
    "Биологи выделили 6 видов.\n",
    "Т.е. реальная картина сложнее нашей простой вероятностной модели."
   ]
  },
  {
   "cell_type": "markdown",
   "metadata": {
    "slideshow": {
     "slide_type": "slide"
    }
   },
   "source": [
    "```\n",
    "Ворона грязью перемажет крылья —\n",
    "Никто и не заметит всё равно,\n",
    "А лебедь, несмотря на все усилья,\n",
    "Отмыть не сможет с белизны пятно.\n",
    "```\n",
    "*Уильям Шекспир*"
   ]
  },
  {
   "cell_type": "markdown",
   "metadata": {
    "slideshow": {
     "slide_type": "notes"
    }
   },
   "source": [
    "Еще одна цитата..."
   ]
  },
  {
   "cell_type": "markdown",
   "metadata": {
    "slideshow": {
     "slide_type": "slide"
    }
   },
   "source": [
    "Для европейца средних веков:\n",
    "- Белая ворона - очень редкий альбинос ($p \\sim 0.00001$).\n",
    "- Черный лебедь - невероятное умопостроение ($p = 0$). Де факто: $p \\sim 0.3$"
   ]
  },
  {
   "cell_type": "markdown",
   "metadata": {
    "slideshow": {
     "slide_type": "slide"
    }
   },
   "source": [
    "давайте понаблюдаем за лебедями ... у косы Чушка\n",
    "![](lebedi_chushka.jpg)"
   ]
  },
  {
   "cell_type": "markdown",
   "metadata": {
    "slideshow": {
     "slide_type": "notes"
    }
   },
   "source": [
    "(c) Dmitry Sherbina\n",
    "\n",
    "Когда у нас появилась гипотеза, то, согласно теории науки (Поппер и др.) первое что нужно сделать - попытаться ее опровергнуть. \n",
    "\n",
    "\n",
    "Репрезентативность..."
   ]
  },
  {
   "cell_type": "markdown",
   "metadata": {
    "slideshow": {
     "slide_type": "slide"
    }
   },
   "source": [
    "## Теория \"черного лебедя\"\n",
    "\n",
    "После обнаружения живых черных лебедей этот термин стал использоваться для обозначения идеи о том, что воспринимаемая невозможность впоследствии может быть опровергнута.\n",
    "\n",
    "```\n",
    "\"As there were black swans, though civilized people had existed for three thousand years on the earth without meeting with them...The uniform experience, therefore, of the inhabitants of the known world, agreeing in a common result, without one known instance of deviation from that result, is not always sufficient to establish a general conclusion.\"```\n",
    "*John Stuart Mill, A System of Logic (1843) *\n",
    "\n",
    "Недавно одноименную [популярную теорию](https://en.wikipedia.org/wiki/Black_swan_theory) развил [Nassim Nicholas Taleb](http://www.fooledbyrandomness.com/index.html). \n",
    "\n",
    "В [книге 2007 года](https://en.wikipedia.org/wiki/The_Black_Swan_(Taleb_book%29 ) в отношении статистики он описывает случаи когда выбросы имеют важное значение, еще говорят в распределении жирные хвосты (fat tails). В этом случае общепринятые статистические законы не работают."
   ]
  },
  {
   "cell_type": "markdown",
   "metadata": {
    "slideshow": {
     "slide_type": "slide"
    }
   },
   "source": [
    "## События - черные лебеди\n",
    "\n",
    "1. Статистически выброс (outlier), так как лежит за пределами области регулярных ожиданий\n",
    "2. Это событие имеет большое влияние.\n",
    "3. Человеческая природа заставляет нас придумывать объяснения его возникновения после факта, что делает его объяснимым и предсказуемым.\n",
    "\n",
    "Почти все исторические события, катастрофы и пр. могут быть отнесены к таким событиям. Т.е. их можно объяснить \"задним умом\"."
   ]
  },
  {
   "cell_type": "markdown",
   "metadata": {
    "slideshow": {
     "slide_type": "slide"
    }
   },
   "source": [
    "Редкие события - более информативны, чем регулярные частые события. Парадигма odd-ball.\n",
    "\n",
    "Например, ядерная война:  все верят, что этого не будет никогда, но это событие очень важное.\n",
    "\n",
    "| 0 |значительные последствия | незначительные последствия |\n",
    "|-|-|-|\n",
    "|**известные** |основные события|побочные события |\n",
    "|**неизвестные**|\"Черные лебеди\"| $\\varepsilon$ |"
   ]
  },
  {
   "cell_type": "markdown",
   "metadata": {
    "slideshow": {
     "slide_type": "slide"
    }
   },
   "source": [
    "Что значит известный? наблюдаемый?\n",
    "\n",
    "### Экзистенциальное положение (факт)\n",
    "`Существует белый лебедь` \n",
    "\n",
    "$ \\exists x, x \\in лебедь, C(x) = \"белый\" $\n",
    "\n",
    "### Универсальное положение\n",
    "`все лебеди белые`\n",
    "\n",
    "$ \\forall x, x \\in лебедь \\Rightarrow C(x) = \"белый\" $\n",
    "\n",
    "Индукция - переход от фактов к закономерностям.\n",
    "\n",
    "Теория научная, если она фальцифицируема.\n",
    "\n",
    "<b class=tag>testability</b>\n",
    "<b class=tag>falsifiability</b>"
   ]
  },
  {
   "cell_type": "markdown",
   "metadata": {
    "slideshow": {
     "slide_type": "slide"
    }
   },
   "source": [
    "Механизм логической ошибки: этого не было за историю наблюдений, значит этого не будет. (Индюшка перед Рождеством).\n",
    "\n",
    "`\n",
    "... должны ли мы на практике принимать единственный контрпример - например, одного обнаруженного черного лебедя - для опровержения весьма успешного закона. Я не полагаю, что мы должны обязательно так легко быть этим удовлетворены; мы вполне можем подозревать, что данный черный экземляр перед нами не является лебедем.\n",
    "`\n",
    "*Карл Поппер, Логика научного исследования (1934)*\n",
    "\n",
    "`через опыт мы можем судить о ложности некоего высказывания, но никогда о его истинности` \n",
    "*Карл Поппер, Логика научного исследования (1934)*  cf.  H0/Ha\n",
    "\n",
    "Также механизм умышленной дефальсификации: Систематическое исключение редких нежелательных явлений дает впечатление подтверждения однобокой теории.\n",
    "\n",
    "<b class=tag>ludic fallacy</b>\n",
    "<b class=tag>platonicity</b>\n"
   ]
  },
  {
   "cell_type": "markdown",
   "metadata": {
    "slideshow": {
     "slide_type": "slide"
    }
   },
   "source": [
    "|a priori | a posteriori |\n",
    "|-|-|\n",
    "|до опыта| после опыта |\n",
    "\n",
    "*Euclid, Elements (-300)*"
   ]
  },
  {
   "cell_type": "markdown",
   "metadata": {
    "slideshow": {
     "slide_type": "slide"
    }
   },
   "source": [
    "*Неинформативное априорное распределение*\n",
    "\n"
   ]
  },
  {
   "cell_type": "code",
   "execution_count": 2,
   "metadata": {
    "slideshow": {
     "slide_type": "slide"
    }
   },
   "outputs": [
    {
     "data": {
      "image/png": "[encoded data removed]",
      "text/plain": [
       "<matplotlib.figure.Figure at 0x7e6ed68>"
      ]
     },
     "metadata": {},
     "output_type": "display_data"
    }
   ],
   "source": [
    "p=0.3\n",
    "xx=array([1,2]);\n",
    "ss=['белый','черный',]\n",
    "subplot(1,2,1)\n",
    "bar(xx, ones(2)/2, align='center', tick_label=ss); ylim([0,1]); title('a priori')\n",
    "subplot(1,2,2)\n",
    "bar(xx, [1-p, p], align='center', tick_label=ss); ylim([0,1]); title('a posteriori');"
   ]
  },
  {
   "cell_type": "code",
   "execution_count": 3,
   "metadata": {
    "slideshow": {
     "slide_type": "slide"
    }
   },
   "outputs": [
    {
     "data": {
      "image/png": "[encoded data removed]",
      "text/plain": [
       "<matplotlib.figure.Figure at 0x7f535c0>"
      ]
     },
     "metadata": {},
     "output_type": "display_data"
    }
   ],
   "source": [
    "p=0.3\n",
    "xx=arange(5)+1;\n",
    "ss=['белый','черный','зеленый','рыжий','фиолетовый\\nв полосочку']\n",
    "n=len(ss)\n",
    "\n",
    "fig, (ax1,ax2) = subplots(1,2, sharey=True, sharex=True, figsize=(12,5), subplot_kw=dict(ylim=[0,1]))\n",
    "ax1.bar(xx, ones(n)/n, align='center', tick_label=ss); ax1.set_title('a priori');\n",
    "ax2.bar(xx, [1-p, p, 0,0,0], align='center',); ax2.set_title('a posteriori');"
   ]
  },
  {
   "cell_type": "markdown",
   "metadata": {
    "slideshow": {
     "slide_type": "slide"
    }
   },
   "source": [
    "## Малые вероятности. Редкие события\n",
    "\n",
    "Иногда вероятность события в ряду похожих мала.\n",
    "\n",
    "![](1percentrule.png)\n",
    "Правило одного процента в Интернет-культуре"
   ]
  },
  {
   "cell_type": "markdown",
   "metadata": {
    "slideshow": {
     "slide_type": "notes"
    }
   },
   "source": [
    "статистика с альфа=0.05 дает нелепый вывод - на форумах ничего не пишут - только читают\n",
    "\n",
    "\n"
   ]
  },
  {
   "cell_type": "markdown",
   "metadata": {
    "slideshow": {
     "slide_type": "slide"
    }
   },
   "source": [
    "## правило Парето\n",
    "\n",
    "правило 80/20 "
   ]
  },
  {
   "cell_type": "markdown",
   "metadata": {
    "collapsed": true,
    "slideshow": {
     "slide_type": "slide"
    }
   },
   "source": [
    "Ситуации с разной вероятностью являются предметом *Баесовской статистики*.\n",
    " \n",
    "в медицине вероятностно-статистический подход позволил ввести понятие факторов риска развития основных хронических заболеваний и провести количественное изучение их влияния, способствуя тем самым большей индивидуализации, а значит, и эффективности профилактики и лечения."
   ]
  },
  {
   "cell_type": "markdown",
   "metadata": {
    "collapsed": true,
    "slideshow": {
     "slide_type": "slide"
    }
   },
   "source": [
    "| Частотники | Байесовцы |\n",
    "|-|-|\n",
    "|frequency | belief |\n",
    "|относительная частота| убеждение, мнение, вера |"
   ]
  },
  {
   "cell_type": "markdown",
   "metadata": {},
   "source": [
    "данные с визуализацией \n",
    "http://www.gapminder.org\n",
    "\n",
    "http://www.gapminder.org/world/#$majorMode=chart$is;shi=t;ly=2003;lb=f;il=t;fs=11;al=30;stl=t;st=t;nsl=t;se=t$wst;tts=C$ts;sp=5.59290322580644;ti=2012$zpv;v=0$inc_x;mmid=XCOORDS;iid=phAwcNAVuyj1jiMAkmq1iMg;by=ind$inc_y;mmid=YCOORDS;iid=0ArfEDsV3bBwCdFJCTm43NGc0SzdYeHBpZWZGb1V0ckE;by=ind$inc_s;uniValue=8.21;iid=phAwcNAVuyj0XOoBL_n5tAQ;by=ind$inc_c;uniValue=255;gid=CATID0;by=grp$map_x;scale=log;dataMin=194;dataMax=96846$map_y;scale=lin;dataMin=0.836;dataMax=9.2$map_s;sma=70;smi=2$cd;bd=0$inds="
   ]
  },
  {
   "cell_type": "markdown",
   "metadata": {
    "slideshow": {
     "slide_type": "slide"
    }
   },
   "source": [
    "### Условная вероятность\n",
    "\n",
    "Вероятность события при условии, что известен исход другого события.\n",
    "Меняется, если события зависят друг от друга, т.е. не независимы.\n",
    "\n",
    "Иллюстрация - Monty Hall Problem\n",
    "https://am.wikipedia.org/wiki/%E1%8B%A8%E1%88%9E%E1%8A%95%E1%89%B2_%E1%88%96%E1%88%8D_%E1%8B%95%E1%8B%B5%E1%88%8D_%E1%8C%A5%E1%8B%AB%E1%89%84\n",
    "\n",
    "Противоречит обывательской логике, поэтому тема сложна для восприятия (принятия).\n"
   ]
  },
  {
   "cell_type": "markdown",
   "metadata": {
    "collapsed": true,
    "slideshow": {
     "slide_type": "subslide"
    }
   },
   "source": [
    "Когда рассуждаете о случайных событиях. Например, случайная встреча волка и косули. Надо помнить, что закономерности соблюдаются в перпендикулярных мирах. При пространственных искажениях распределение вероятности тоже искажается. Математики называют это пародоксами (см. https://ru.wikipedia.org/wiki/Парадокс_Бертрана_%28вероятность%29 ), а биологи - ошибочными гипотезами.\n",
    "\n",
    "Случайная встреча волка и косули математиком может быть смоделирована как столкновение двух точек, случайно перемещающихся (random walk) по площади леса. Но лес разнородный, и звери перемещаются по нему не случайно.\n",
    "Например, известно, что в лесу квадратной площади всего один водоем, где косули пьют. Поэтому  траектории перемещения будут проходить через это место. Следовательно, вероятность пребывания косуль вблизи водоема будет выше, и вероятность встречи волка будет выше. Возможно что волк ленив и охотится практически всегда возле водоема, тогда модель засады у пути на водопой приближенно даст динамику всех встреч."
   ]
  },
  {
   "cell_type": "markdown",
   "metadata": {},
   "source": [
    "TODO https://betterexplained.com/articles/an-intuitive-and-short-explanation-of-bayes-theorem/"
   ]
  },
  {
   "cell_type": "markdown",
   "metadata": {},
   "source": [
    "![](https://betterexplained.com/wp-content/uploads/math/bayes/bayes_table.png)\n",
    "\n",
    "- 1% популяции заболевает раком\n",
    "- если болен - то вероятность теста 80%\n",
    "- если здоров - вероятность 9.6% (1 из 10)\n"
   ]
  },
  {
   "cell_type": "markdown",
   "metadata": {
    "slideshow": {
     "slide_type": "slide"
    }
   },
   "source": [
    "### Положительный диагноз\n",
    "\u0016 алгоритм предсказывает болезнь\n",
    "(хотя, казалось бы, что тут положительного...)\n",
    "\n",
    "*Чувствительность* - доля больных с верным положительным\n",
    "диагнозом.\n",
    "Доля ошибок 2-го рода = 1 − чувствительность.\n",
    "\n",
    "*Специфичность* - доля здоровых с верным отрицательным\n",
    "диагнозом.\n",
    "Доля ошибок 1-го рода = 1 − специфичность.\n",
    "\n",
    "Чувствительность и специфичность надо максимизировать.\n",
    "- Они не зависят от соотношения мощностей классов.\n",
    "- Хорошо подходят для несбалансированных выборок."
   ]
  },
  {
   "cell_type": "markdown",
   "metadata": {
    "slideshow": {
     "slide_type": "slide"
    }
   },
   "source": [
    "![](https://betterexplained.com/wp-content/uploads/2017/01/bayes_table_computed_new_png.png)"
   ]
  },
  {
   "cell_type": "markdown",
   "metadata": {
    "slideshow": {
     "slide_type": "slide"
    }
   },
   "source": [
    "![](https://betterexplained.com/wp-content/plugins/wp-latexrender/pictures/37c11b47716f93f2e219e3083d0e225c.png)\n",
    "\n",
    "![](https://betterexplained.com/wp-content/plugins/wp-latexrender/pictures/cefb028ea299aa6351578e636ab9ee9d.png)\n",
    "\n",
    "https://instacalc.com/11220"
   ]
  },
  {
   "cell_type": "markdown",
   "metadata": {
    "slideshow": {
     "slide_type": "slide"
    }
   },
   "source": [
    "## Парадокс Симпсона \n",
    " \n",
    "Например, в ходе эксперимента в группе мужчин и группе женщин, больных одной и той же болезнью, к стандартному лечению прибавили новый лекарственный препарат.\n",
    "\n",
    "Мужчины |\tПринимавшие лекарство |\tНе принимавшие лекарство\n",
    "--|:-:|:-:\n",
    "Выздоровевшие |\t700 |\t80\n",
    "Невыздоровевшие |\t800 |\t130\n",
    "Соотношение |\t0.875 |\t0.615\n",
    "\n",
    "Женщины |\tПринимавшие лекарство |\tНе принимавшие лекарство\n",
    "--|:-:|:-:\n",
    "Выздоровевшие |\t150 \t|400\n",
    "Невыздоровевшие \t|70 |\t280\n",
    "Соотношение |\t2.142 |\t1.429"
   ]
  },
  {
   "cell_type": "markdown",
   "metadata": {
    "slideshow": {
     "slide_type": "subslide"
    }
   },
   "source": [
    "Результат по обеим группам в отдельности подтверждал эффективность нового средства.\n",
    "Интуитивно кажется, что если в обеих группах прослеживается зависимость, она должна проявиться и при объединении этих групп. Но хотя соотношение выздоровевших и больных среди и женщин, и мужчин, принимавших лекарство, больше чем среди тех из них, кто его не использовал, в агрегированных данных эта закономерность не сохраняется.\n",
    "\n",
    "Сумма |\tПринимавшие лекарство |\tНе принимавшие лекарство\n",
    "--|:-:|:-:\n",
    "Выздоровевшие |\t850 \t| 480\n",
    "Невыздоровевшие |\t870 |\t410\n",
    "Соотношение |\t0.977 |\t1.171\n",
    "\n",
    "Соотношение в агрегированных данных 850/870<480/410, то есть 0,977<1,171. Следовательно, доля выздоровевших среди принимавших лекарство меньше той же доли среди не принимавших."
   ]
  },
  {
   "cell_type": "markdown",
   "metadata": {
    "slideshow": {
     "slide_type": "slide"
    }
   },
   "source": [
    "\n",
    "## Модели биохимической системы как случайного процесса\n",
    "\n",
    "http://journals.plos.org/ploscompbiol/article?id=10.1371/journal.pcbi.1005220"
   ]
  },
  {
   "cell_type": "markdown",
   "metadata": {
    "slideshow": {
     "slide_type": "slide"
    }
   },
   "source": [
    "\n",
    "## Модели эволюции как случайного процесса\n",
    "\n",
    "http://journals.plos.org/ploscompbiol/article?id=10.1371/journal.pcbi.1005066"
   ]
  },
  {
   "cell_type": "markdown",
   "metadata": {
    "slideshow": {
     "slide_type": "slide"
    }
   },
   "source": [
    "## Вероятности смены состояний\n",
    "\n",
    "## Markov\n",
    "\n",
    "http://journals.plos.org/ploscompbiol/article?id=10.1371/journal.pcbi.1005260"
   ]
  },
  {
   "cell_type": "markdown",
   "metadata": {
    "slideshow": {
     "slide_type": "slide"
    }
   },
   "source": [
    "![](http://journals.plos.org/ploscompbiol/article/figure/image?size=large&id=info:doi/10.1371/journal.pcbi.1005138.g003)\n",
    "\n",
    "Dynamic functional networks identified in two adult HCP cohorts.\n",
    "\n",
    "Adult HCP Cohort 1: (a) Time evolution of merged dynamic networks in each subject; (b) Dynamic functional networks (DFNs) for the merged states 1 and 2 and the mixed state; (c) Occupancy rates and mean lifetimes of the DFNs; and (d) Switching probabilities between the DFNs. Adult HCP Cohort 2: (e) Time evolution of merged dynamic networks in each subject; (f) Dynamic functional networks (DFNs) for the merged states 1 and 2 and the mixed state; (g) Occupancy rates and mean lifetimes of the DFNs; and (h) Switching probabilities between the DFNs. In both cohorts, the most dominant DFN (DFN-1) consists of nodes in the SN, CEN, and DMN, which constitute three independent communities. DFN-1 has an occupancy rate of 31% (SEM: ± 1.58%) with a mean lifetime of 8.3s (SEM: ± 0.29s) for Adult HCP Cohort 1 and an occupancy rate of 27% (SEM: ± 1.2%) with a mean lifetime of 8.8s (SEM: ± 0.31s) for Adult HCP Cohort 2. In the second most dominant DFN (DFN-2) in both cohorts, the nodes of the SN form an independent community, while the nodes of the CEN and DMN interact and form one community. DFN-2 has an occupancy rate of 36% (SEM: ± 2.9%) with a mean lifetime of 8.2s (SEM: ± 0.47s) in Adult HCP Cohort 1 and an occupancy rate of 18% (SEM: ± 1.27%) with a mean lifetime of 8.0s (SEM: ± 0.48s) in Adult HCP Cohort 2. In both cohorts, the self-transition probabilities from a DFN to itself are high (0.85 ± 0.01 for Adult HCP Cohort 1 and 0.9 ± 0.05 for Adult HCP Cohort 2), while the transitions between DFNs are low (0.08 ± 0.01 for Adult HCP Cohort 1 and 0.06 ± 0.02 for Adult HCP Cohort 2).\n",
    "\n",
    "http://dx.doi.org/10.1371/journal.pcbi.1005138.g003"
   ]
  },
  {
   "cell_type": "markdown",
   "metadata": {
    "slideshow": {
     "slide_type": "slide"
    }
   },
   "source": [
    "![](http://journals.plos.org/ploscompbiol/article/figure/image?size=large&id=10.1371/journal.pcbi.1005258.g003)\n",
    "\n",
    "(A) Schematic of a Tempotron with readout weights wi. For one neuron from the chaotic network, we show spike times (dots) of a randomly chosen neuron across several trials for inputs IA or IB, together with the filtered traces for these spike times. (B) Tempotron voltage traces V(t) for a time window of T = 1.25 seconds. Top: traces used for training. Bottom: traces used for testing. Grey shaded area surrounding threshold Vthr shows training margin. Asterisk shows time of maximal output. (C) Classification for all training and testing trials. Markers show the Tempotron’s maximal voltage V in time window T. A correct classification corresponds to blue circles (IA) above threshold and red squares (IB) below. For all panels, the stimuli IA or IB have ρsame = 0.9.\n",
    "\n",
    "http://dx.doi.org/10.1371/journal.pcbi.1005258.g003\n",
    "\n",
    "a classification method called the Tempotron <cite>Gütig R, Sompolinsky H. The tempotron: a neuron that learns spike timing–based decisions. Nature neuroscience. 2006;9(3):420–428. doi: 10.1038/nn1643. pmid:16474393 </cite>, a gradient-descent approach acting on linear weights of temporal kernels designed to mimic the post-synaptic potentials induced by individual spikes. Importantly, the resulting classification hyperplane corresponds to the threshold of a spiking Linear Integrate-and-Fire (IF) neuron model."
   ]
  },
  {
   "cell_type": "markdown",
   "metadata": {
    "slideshow": {
     "slide_type": "slide"
    }
   },
   "source": [
    "![](http://journals.plos.org/ploscompbiol/article/figure/image?size=inline&id=info:doi/10.1371/journal.pcbi.1005286.g002)\n",
    "\n",
    " Duplex-triplex transitions of H-DNA with dynamic disorder.\n",
    "\n",
    "(A) Illustration of H-DNA dynamics. The sequences in blue and black form duplex via Watson-Crick base pairing; the sequences in red extended from 3’-end region of the black sequence can pair with the sequences in blue via Hoogsteen base pairs to form the triplex helix. (B) A time trace of H-DNA displaying dynamic disorder. (Top) The fluorescence signals from Cy3 (green) and Cy5 (red) dyes. (Bottom) FRET signal (gray) was calculated using the signals from Cy3 and Cy5. Blue line is the noise-filtered FRET signal obtained using HMM. The low-FRET (~0.1) and high-FRET state (~0.9) correspond to the duplex and triplex states, respectively. The dynamic pattern of the time trace changes occasionally from one time interval to another. For example, the transitions from low to high FRET state around 70 s are much slower compared with those around 140 s. (C) The model for H-DNA dynamics with dynamic disorder. Hierarchical transitions, (1) transitions within x(t) = i, and (2) interconversion between x(t) = i and x(t′) = j (i ≠ j), can be described using Double Chain Markov Model (DCMM). (D) Graphical representation of DCMM. x(t), o(t), and on(t) represent internal state, noise-filtered observable (blue line in (B)), and the original observable at time t (gray line in (B)), respectively. The black arrows signify how each state is determined by others. For example, the state of observable at time t, o(t) is determined by the previous observable state at time t − 1, o(t − 1), and the state of the previous internal state, x(t − 1).\n",
    "\n",
    "http://dx.doi.org/10.1371/journal.pcbi.1005286.g002"
   ]
  },
  {
   "cell_type": "markdown",
   "metadata": {
    "slideshow": {
     "slide_type": "slide"
    }
   },
   "source": [
    "## No math\n",
    "\n",
    "Рассмотрите сайт, который пытается коммерциализировать решение задач по теории вероятностей. Судя по всему создатели сайта удовлетворяют спрос насчастных студентов мехмата, которых заставляют решать задачи письменно.\n",
    "\n",
    "http://www.gmurman.ru/answ_oth.php?n=0025"
   ]
  },
  {
   "cell_type": "markdown",
   "metadata": {
    "collapsed": true,
    "slideshow": {
     "slide_type": "slide"
    }
   },
   "source": [
    "Приемы для решения задач на вероятность:\n",
    " - начни с одиночного примитивного случая\n",
    " - сумма всегда равна 1, попробуй найти решение вычитанием из 1.\n",
    " - при сомнении напиши симуляцию для проверки правдоподобия решения\n",
    " \n",
    "Как биолог помни:\n",
    " - случайных процессов в биологии не бывает; подумай, а нужно ли вероятностное моделирование?\n",
    " - из-за вариабельности среды не всегда только два взаимоисключающих решения (сумма вероятностей может превышать 1 или в терминологии математиков - монетка может встать на ребро)\n",
    " - случайные события развиваются во времени (по определению более поздние события зависимы от более ранних); это усложняет моделирование."
   ]
  },
  {
   "cell_type": "code",
   "execution_count": null,
   "metadata": {
    "collapsed": true
   },
   "outputs": [],
   "source": []
  }
 ],
 "metadata": {
  "celltoolbar": "Slideshow",
  "kernelspec": {
   "display_name": "Python 3",
   "language": "python",
   "name": "python3"
  },
  "language_info": {
   "codemirror_mode": {
    "name": "ipython",
    "version": 3
   },
   "file_extension": ".py",
   "mimetype": "text/x-python",
   "name": "python",
   "nbconvert_exporter": "python",
   "pygments_lexer": "ipython3",
   "version": "3.5.2"
  },
  "toc": {
   "base_numbering": 1,
   "nav_menu": {
    "height": "345px",
    "width": "252px"
   },
   "number_sections": false,
   "sideBar": true,
   "skip_h1_title": false,
   "title_cell": "Table of Contents",
   "title_sidebar": "Contents",
   "toc_cell": false,
   "toc_position": {},
   "toc_section_display": "block",
   "toc_window_display": false
  }
 },
 "nbformat": 4,
 "nbformat_minor": 1
}
