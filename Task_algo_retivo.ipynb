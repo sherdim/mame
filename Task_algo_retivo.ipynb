{
 "cells": [
  {
   "cell_type": "markdown",
   "metadata": {},
   "source": [
    "## Подбор параметров распределения\n",
    "\n",
    "Когда мы характеризуем любую выборку чисел двумя параметрами - средним и стандратным отклонением, то подразумеваем, что выборка приближенно описывается нормальным распределением.\n",
    "\n",
    "Однако распределение значений времени реакций несимметричное и более точно описывается с помощью других распределений. \n",
    "\n",
    "Рекомендуемый способ получить коэффициенты таких распределений: экспортировать подвыборки ваших данных в текстовые файлы и подобрать модели с помощью интерактивного онлайн-приложения  https://sherdim.shinyapps.io/retivo/"
   ]
  },
  {
   "cell_type": "code",
   "execution_count": null,
   "metadata": {},
   "outputs": [],
   "source": [
    "%pylab inline\n",
    "import pandas as pd\n",
    "import seaborn as sns"
   ]
  },
  {
   "cell_type": "code",
   "execution_count": null,
   "metadata": {
    "scrolled": true
   },
   "outputs": [],
   "source": [
    "#загрузка данных\n",
    "u='http://balatte.stireac.com/result.tsv/sherdim%40gmail.com/tuts__2143043410150713'\n",
    "D = pd.read_csv(u, delimiter='\\t')\n",
    "D.info()"
   ]
  },
  {
   "cell_type": "markdown",
   "metadata": {},
   "source": [
    "Первая половина - зрительно-моторные реакции, вторая - слухомоторные."
   ]
  },
  {
   "cell_type": "code",
   "execution_count": null,
   "metadata": {},
   "outputs": [],
   "source": [
    "D['stimul'] = where(D.index < len(D)//2 , 'v', 'a')\n",
    "D"
   ]
  },
  {
   "cell_type": "markdown",
   "metadata": {},
   "source": [
    "Для анализа распределений нужно разделить реакции по типу стимула."
   ]
  },
  {
   "cell_type": "code",
   "execution_count": null,
   "metadata": {},
   "outputs": [],
   "source": [
    "Dv = D.loc[D.stimul=='v'].dropna()\n",
    "Dv.v.hist();"
   ]
  },
  {
   "cell_type": "markdown",
   "metadata": {},
   "source": [
    "Гистограмму можно делать сколь угодно стильной, но в большинстве случаев она скошена влево."
   ]
  },
  {
   "cell_type": "code",
   "execution_count": null,
   "metadata": {},
   "outputs": [],
   "source": [
    "hist(Dv.v, bins=arange(0.1,.51,.01), histtype='stepfilled', color='r', ec='k', lw=2);"
   ]
  },
  {
   "cell_type": "markdown",
   "metadata": {},
   "source": [
    "Так как мы повторяем однотипную операцию, то сделаем это в цикле."
   ]
  },
  {
   "cell_type": "code",
   "execution_count": null,
   "metadata": {},
   "outputs": [],
   "source": [
    "for stim in ['v','a']:\n",
    "    D.loc[D.stimul==stim, ['t','v']].dropna().to_csv('rt_{}.tsv'.format(mod), sep='\\t')"
   ]
  },
  {
   "cell_type": "markdown",
   "metadata": {},
   "source": [
    "В текущей папке сохранились два файла - один со зрительными реакциями, второй со слуховыми.\n",
    "\n",
    "Теперь надо перейти в онлайн-приложение, загрузить файл туда и подобрать наиболее подходящее распределение.\n",
    "\n",
    "Чем больше у распределения параметров, тем сложнее подобрать их значения. Некоторые комбинации параметров подобрать не удается.\n",
    "\n"
   ]
  }
 ],
 "metadata": {
  "kernelspec": {
   "display_name": "Python 3",
   "language": "python",
   "name": "python3"
  },
  "language_info": {
   "codemirror_mode": {
    "name": "ipython",
    "version": 3
   },
   "file_extension": ".py",
   "mimetype": "text/x-python",
   "name": "python",
   "nbconvert_exporter": "python",
   "pygments_lexer": "ipython3",
   "version": "3.7.1"
  },
  "toc": {
   "base_numbering": 1,
   "nav_menu": {
    "height": "66px",
    "width": "252px"
   },
   "number_sections": false,
   "sideBar": true,
   "skip_h1_title": false,
   "title_cell": "Table of Contents",
   "title_sidebar": "Contents",
   "toc_cell": false,
   "toc_position": {},
   "toc_section_display": "block",
   "toc_window_display": false
  }
 },
 "nbformat": 4,
 "nbformat_minor": 1
}
