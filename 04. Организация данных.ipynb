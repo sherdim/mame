{
 "cells": [
  {
   "cell_type": "markdown",
   "metadata": {},
   "source": [
    "# Организация данных"
   ]
  },
  {
   "cell_type": "markdown",
   "metadata": {},
   "source": [
    "## Виды данных. "
   ]
  },
  {
   "cell_type": "markdown",
   "metadata": {},
   "source": [
    "## Способы хранения. "
   ]
  },
  {
   "cell_type": "markdown",
   "metadata": {},
   "source": [
    "### Облачные хранилища\n",
    "\n",
    "Dropbox https://db.tt/Y2dEqu8f\n",
    "\n",
    "Google Drive\n",
    "\n",
    "Microsoft OneDrive\n",
    "\n",
    "Yandex Disk\n",
    "\n",
    "Disko (ex Mail.ru Облако)"
   ]
  },
  {
   "cell_type": "markdown",
   "metadata": {},
   "source": [
    "## Политика безопасности данных\n",
    "\n",
    "Сдать текстовый документ с описанием \"Политики безопасности\" своих данных.\n",
    "\n",
    "**Содержание**\n",
    "\n",
    "описать данные:\n",
    "\n",
    " -  тип измерений\n",
    " -  количество\n",
    " -  формат хранения\n",
    " -  объем для одного исследования (для одной статьи/курсовой)\n",
    "\n",
    "расчет: сколько всего чисел/файлов составляют исходные данные\n",
    "\n",
    "опционально: до какого количества чисел/рисунков редуцируются данные в ходе обработки\n",
    "\n",
    "количество копий\n",
    "\n",
    "доступ для других\n",
    "\n",
    "сценарии восстановления данных в случае различных сбоев"
   ]
  },
  {
   "cell_type": "markdown",
   "metadata": {},
   "source": [
    "### Разграничение доступа. "
   ]
  },
  {
   "cell_type": "markdown",
   "metadata": {},
   "source": [
    "### Защита от сбоев."
   ]
  }
 ],
 "metadata": {
  "kernelspec": {
   "display_name": "Python 3",
   "language": "python",
   "name": "python3"
  },
  "language_info": {
   "codemirror_mode": {
    "name": "ipython",
    "version": 3
   },
   "file_extension": ".py",
   "mimetype": "text/x-python",
   "name": "python",
   "nbconvert_exporter": "python",
   "pygments_lexer": "ipython3",
   "version": "3.5.2"
  },
  "toc": {
   "base_numbering": 1,
   "nav_menu": {
    "height": "219px",
    "width": "203px"
   },
   "number_sections": false,
   "sideBar": false,
   "skip_h1_title": false,
   "title_cell": "Table of Contents",
   "title_sidebar": "Contents",
   "toc_cell": false,
   "toc_position": {},
   "toc_section_display": true,
   "toc_window_display": false
  }
 },
 "nbformat": 4,
 "nbformat_minor": 2
}
