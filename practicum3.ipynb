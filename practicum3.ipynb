{
 "cells": [
  {
   "cell_type": "markdown",
   "metadata": {},
   "source": [
    "# Разведочный анализ"
   ]
  },
  {
   "cell_type": "markdown",
   "metadata": {},
   "source": [
    "### Практикум\n",
    "\n",
    "\n",
    "- [Разведочный анализ набора данных с ВР](Task_eda_rt.ipynb) + rt9x2.tsv\n",
    "\n",
    "\n",
    "- [Пример набора данных с логарифмированием](Task_dataset_SpeciesArea.ipynb) + SpeciesArea.csv\n",
    "- [Преобразование данных в логарифмической шкале](Task_modeline_logscale.ipynb) + rt.tsv\n",
    "- [Реальный набор данных](Task_dataset_stroke.ipynb)\n",
    "\n",
    "\n",
    "Для выполнения тестовых заданий необходимо освоить приемы:\n",
    "\n",
    "-   Импорт набора данных из файла.\n",
    "-   Отбор наблюдений по разным параметрам.\n",
    "-   Экстраполяция отсутствующих значений на основании соседних со сходными параметрами.\n",
    "    \n",
    "    \n",
    "- [Описание набора данных о черепахах](Task_dataset_turtle.ipynb) + Data_S1_Complete_Dataset.xlsx\n",
    "- [Правило Ренча](Task_modeline_turtle.ipynb)\n",
    "- [Анализ целостности набора данных](Task_pre_turtle.ipynb)\n"
   ]
  }
 ],
 "metadata": {
  "kernelspec": {
   "display_name": "Python 3",
   "language": "python",
   "name": "python3"
  },
  "language_info": {
   "codemirror_mode": {
    "name": "ipython",
    "version": 3
   },
   "file_extension": ".py",
   "mimetype": "text/x-python",
   "name": "python",
   "nbconvert_exporter": "python",
   "pygments_lexer": "ipython3",
   "version": "3.5.2"
  },
  "toc": {
   "base_numbering": 1,
   "nav_menu": {
    "height": "345px",
    "width": "252px"
   },
   "number_sections": false,
   "sideBar": false,
   "skip_h1_title": false,
   "title_cell": "Table of Contents",
   "title_sidebar": "Contents",
   "toc_cell": false,
   "toc_position": {
    "height": "599px",
    "left": "1px",
    "right": "800px",
    "top": "107px",
    "width": "190px"
   },
   "toc_section_display": false,
   "toc_window_display": false
  }
 },
 "nbformat": 4,
 "nbformat_minor": 1
}
