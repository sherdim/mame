{
 "cells": [
  {
   "cell_type": "markdown",
   "metadata": {},
   "source": [
    "# Переменные"
   ]
  },
  {
   "cell_type": "markdown",
   "metadata": {
    "collapsed": true
   },
   "source": [
    "Имя (последовательность символов) означает:\n",
    "- оператор\n",
    "- переменная\n",
    " - модуль"
   ]
  },
  {
   "cell_type": "markdown",
   "metadata": {},
   "source": [
    "# Типы данных\n",
    "\n",
    "## Атомы\n",
    "\n",
    "<table style=\"border:3px solid white;\"><tr>\n",
    "<td> bool(ean)</td>\n",
    "<td> int(eger) </td>\n",
    "<td> float </td>\n",
    "<td>str(ing)</td>\n",
    "<td>None</td>\n",
    "</tr><tr>\n",
    "<td><tt>True</tt></td>\n",
    "<td><tt>39</tt></td>\n",
    "<td><tt>39.0</tt></td>\n",
    "<td><tt>\"строка\"</tt></td>\n",
    "<td><tt>None</tt></td>\n",
    "</tr></table>\n",
    "\n",
    "\n",
    "## Контейнеры\n",
    "\n",
    "<table style=\"border:3px solid white;\"><tr>\n",
    "<td> list </td>\n",
    "<td> tuple </td>\n",
    "<td> set </td>\n",
    "<td>dict(ionary)</td>\n",
    "</tr><tr style=\"font-size:smaller;\">\n",
    "<td><ul style=\"margin:5px 2px 0px 15px;\"><li>Перебираемое</li><li>Мутируемый</li>\n",
    "       <li>Нет ограничений к элементам</li>\n",
    "       <li>Элементы упорядочены</li></ul></td>\n",
    "<td><ul style=\"margin:5px 2px 0px 15px;\"><li>Перебираемое</li><li>Немутируемый</li>\n",
    "       <li>Элементы должны кэшироваться</li>\n",
    "       <li>Элементы упорядочены</li></ul></td>\n",
    "<td><ul style=\"margin:5px 2px 0px 15px;\"><li>Перебираемое</li><li>Мутируемый</li>\n",
    "       <li>Элементы должны быть уникальными и кэшироваться</li>\n",
    "       <li>Элементы не упорядочены</li></ul></td>\n",
    "<td><ul style=\"margin:5px 2px 0px 15px;\"><li>Перебираемое</li><li>Мутируемый</li>\n",
    "      <li>Парные элементы: ключ-значение.<br/>\n",
    "      Ключи уникальные и кэшируются</li>\n",
    "       <li>Ключи не упорядочены</li></ul></td>\n",
    "</tr></table>"
   ]
  },
  {
   "cell_type": "markdown",
   "metadata": {},
   "source": [
    "\n",
    "### Операторы сравнения\n",
    "<table style=\"border:3px solid white;\"><tr>\n",
    "<td><tt>==</tt></td>\n",
    "<td><tt>!=</tt></td>\n",
    "<td><tt>&lt;=</tt> , <tt>&lt;</tt><br/>\n",
    "    <tt>&gt;=</tt> , <tt>&gt;</tt></td>\n",
    "<td><tt>x in (1, 2)</tt></td>\n",
    "<td><tt>x is None<br/>\n",
    "        x is not None</tt></td>\n",
    "</tr><tr style=\"font-size:smaller;\">\n",
    "<td>равно</td>\n",
    "<td>не равно</td>\n",
    "<td>меньше<br/>или равно, ...</td>\n",
    "<td>перебор элементов в <tt>set</tt>,\n",
    "           <tt>list</tt>, <tt>tuple</tt>,<br/>\n",
    "           ключей в <tt>dict</tt>,<br/>\n",
    "           символов в строках</td>\n",
    "<td>специально для <tt>None</tt></td>\n",
    "</tr></table>"
   ]
  },
  {
   "cell_type": "markdown",
   "metadata": {},
   "source": [
    "### +++\n",
    "\n",
    "[Типы данных в Python](https://pythonworld.ru/tipy-dannyx-v-python)"
   ]
  },
  {
   "cell_type": "markdown",
   "metadata": {},
   "source": [
    "### Что является стандартом?"
   ]
  },
  {
   "cell_type": "markdown",
   "metadata": {
    "collapsed": true
   },
   "source": [
    "## Онлайн сервисы для программистов\n",
    "\n",
    "Бывает, что программисты создают особо удачные фрагменты кода. Или во фрагменте кода можно наглядно продемонстрировать алгоритм. Чтобы поделиться куском кода есть сервисы:\n",
    "\n",
    "- https://gist.github.com/"
   ]
  },
  {
   "cell_type": "markdown",
   "metadata": {},
   "source": [
    "### Задать вопрос\n",
    "\n",
    "http://stackoverflow.com/\n",
    "\n",
    "\n",
    "\n",
    "Сообщество поддержки девушек-программисток на Питоне\n",
    "http://www.pyladies.com/"
   ]
  },
  {
   "cell_type": "markdown",
   "metadata": {
    "collapsed": true
   },
   "source": [
    "##  Процесс разработки ПИ\n",
    "\n",
    "*Программное изделие (ПИ)* – программа на носителе данных, являющаяся продуктом программного производства.\n",
    "\n",
    "Основные термины определяются стандартом ЕСПД (19.004) \n",
    "\n",
    "1. Стадия технического задания (предпроектная стадия). Почти полностью совпадает с этапом системного анализа. Формирует заказчик, потребитель разработчику. Этапы :\n",
    "\n",
    " - сбор сведений (обследование);\n",
    "\n",
    " - обработка сведений обследования и подготовка ТЭО;\n",
    "\n",
    " - техническое задание (завершающий этап).\n",
    "\n",
    "1. Эскизное проектирование (принципиальная разработка ПИ, разработка общих принципов). Эскизный проект нужен для согласования между разработчиком и заказчиком основных технологических элементов.\n",
    "\n",
    "1. Техническое проектирование (технический проект). Объединение всех материалов внешнего и внутреннего проектирования, которые будут доводиться до машинной реализации.\n",
    "\n",
    "1. Рабочее проектирование:\n",
    " - подготовка программных текстов (адаптация программных компонент);\n",
    "\n",
    " - отладка во всех разновидностях;\n",
    "\n",
    " - подготовка программной документации.\n",
    "\n",
    "1. Внедрение. (Испытания в реальных условиях).\n",
    "  В процессе ведется подготовка объекта к эксплуатации, приведение информационной базы, связанной с ПИ, к тому виду, который требуется эксплуатацией.\n",
    "\n",
    "1. Обучение персонала.\n",
    "\n",
    "\n",
    "Ключевым понятием процесса разработки ПИ является работа. Как правило, при планировании процесса разработки не доходят до уровня программных операторов, операций. … Работа – совокупность действий, выполняемых одним или несколькими исполнителями с целью получения конкретного контролируемого результата."
   ]
  },
  {
   "cell_type": "markdown",
   "metadata": {
    "collapsed": true
   },
   "source": [
    "## Agile programming\n",
    "\n",
    "Концепция быстрого \"бодрого\" программирования, когда как можно быстрее получаешь работающий прототип, а потом уже затыкаешь дыры по мере возникновения проблем.\n",
    "\n",
    "Более отвечает современным запросам на новые алгоритмы в условиях жесткой конкуренции среди стартапов. Преимущество инвестиций получает тот, у кого прототип более наглядный, легче впечатляет."
   ]
  },
  {
   "cell_type": "markdown",
   "metadata": {
    "collapsed": true
   },
   "source": [
    "# Python\n",
    "\n",
    "** [A Whirlwind Tour of Python (2016)](https://github.com/jakevdp/WhirlwindTourOfPython) **\n",
    "\n",
    "This report provides a brief yet comprehensive introduction to Python for engineers, researchers, and data scientists who are already familiar with another programming language.\n",
    "Author Jake VanderPlas, an interdisciplinary research director at the University of Washington, explains Python’s essential syntax and semantics, built-in data types and structures, function definitions, control flow statements, and more, using Python 3 syntax.\n",
    "\n",
    "\n",
    "** [Интерактивный курс по основам анализа на Python (english)](\n",
    "https://www.datacamp.com/courses/python-data-science-toolbox-part-1) **\n",
    "Here you will learn how to write your very own functions.\n",
    "\n",
    "\n"
   ]
  },
  {
   "cell_type": "markdown",
   "metadata": {},
   "source": [
    "![](python-r-other-2016-2017-transitions.jpg)"
   ]
  },
  {
   "cell_type": "markdown",
   "metadata": {},
   "source": [
    "![](pypl.png)"
   ]
  }
 ],
 "metadata": {
  "kernelspec": {
   "display_name": "Python 2",
   "language": "python",
   "name": "python2"
  },
  "language_info": {
   "codemirror_mode": {
    "name": "ipython",
    "version": 2
   },
   "file_extension": ".py",
   "mimetype": "text/x-python",
   "name": "python",
   "nbconvert_exporter": "python",
   "pygments_lexer": "ipython2",
   "version": "2.7.11"
  },
  "toc": {
   "base_numbering": 1,
   "nav_menu": {
    "height": "249px",
    "width": "263px"
   },
   "number_sections": false,
   "sideBar": true,
   "skip_h1_title": false,
   "title_cell": "Table of Contents",
   "title_sidebar": "Contents",
   "toc_cell": false,
   "toc_position": {},
   "toc_section_display": "block",
   "toc_window_display": false
  }
 },
 "nbformat": 4,
 "nbformat_minor": 1
}
