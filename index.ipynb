{
 "cells": [
  {
   "cell_type": "markdown",
   "metadata": {
    "deletable": true,
    "editable": true
   },
   "source": [
    "# Ресурсы для выполнения заданий по курсу \"Математические методы в биологии\""
   ]
  },
  {
   "cell_type": "markdown",
   "metadata": {
    "deletable": true,
    "editable": true
   },
   "source": [
    "<div class=\"lev2 toc-item\"><a href=\"#Моделирование-в-биологии\" data-toc-modified-id=\"Моделирование-в-биологии-11\"><span class=\"toc-item-num\">1.1&nbsp;&nbsp;</span>Моделирование в биологии</a></div><div class=\"lev3 toc-item\"><a href=\"#Практикум\" data-toc-modified-id=\"Практикум-111\"><span class=\"toc-item-num\">1.1.1&nbsp;&nbsp;</span>Практикум</a></div><div class=\"lev3 toc-item\"><a href=\"#Контрольная-работа-&quot;Векторизация-вычислений&quot;\" data-toc-modified-id=\"Контрольная-работа-&quot;Векторизация-вычислений&quot;-112\"><span class=\"toc-item-num\">1.1.2&nbsp;&nbsp;</span>Контрольная работа \"Векторизация вычислений\"</a></div><div class=\"lev2 toc-item\"><a href=\"#Алгоритмы\" data-toc-modified-id=\"Алгоритмы-12\"><span class=\"toc-item-num\">1.2&nbsp;&nbsp;</span>Алгоритмы</a></div><div class=\"lev3 toc-item\"><a href=\"#Практикум\" data-toc-modified-id=\"Практикум-121\"><span class=\"toc-item-num\">1.2.1&nbsp;&nbsp;</span>Практикум</a></div><div class=\"lev3 toc-item\"><a href=\"#Контрольная-работа-&quot;Генерация-выборки&quot;\" data-toc-modified-id=\"Контрольная-работа-&quot;Генерация-выборки&quot;-122\"><span class=\"toc-item-num\">1.2.2&nbsp;&nbsp;</span>Контрольная работа \"Генерация выборки\"</a></div><div class=\"lev2 toc-item\"><a href=\"#Подготовка-данных-к-анализу\" data-toc-modified-id=\"Подготовка-данных-к-анализу-13\"><span class=\"toc-item-num\">1.3&nbsp;&nbsp;</span>Подготовка данных к анализу</a></div><div class=\"lev3 toc-item\"><a href=\"#Практикум\" data-toc-modified-id=\"Практикум-131\"><span class=\"toc-item-num\">1.3.1&nbsp;&nbsp;</span>Практикум</a></div><div class=\"lev3 toc-item\"><a href=\"#Контрольная-работа-&quot;Проверка-данных-о-черепахах&quot;\" data-toc-modified-id=\"Контрольная-работа-&quot;Проверка-данных-о-черепахах&quot;-132\"><span class=\"toc-item-num\">1.3.2&nbsp;&nbsp;</span>Контрольная работа \"Проверка данных о черепахах\"</a></div><div class=\"lev2 toc-item\"><a href=\"#Проектное-задание\" data-toc-modified-id=\"Проектное-задание-14\"><span class=\"toc-item-num\">1.4&nbsp;&nbsp;</span>Проектное задание</a></div><div class=\"lev4 toc-item\"><a href=\"#1.-Подготовка-данных\" data-toc-modified-id=\"1.-Подготовка-данных-1401\"><span class=\"toc-item-num\">1.4.0.1&nbsp;&nbsp;</span>1. Подготовка данных</a></div><div class=\"lev4 toc-item\"><a href=\"#2.-Групповая-статистика\" data-toc-modified-id=\"2.-Групповая-статистика-1402\"><span class=\"toc-item-num\">1.4.0.2&nbsp;&nbsp;</span>2. Групповая статистика</a></div><div class=\"lev4 toc-item\"><a href=\"#3.-Построение-линейных-моделей\" data-toc-modified-id=\"3.-Построение-линейных-моделей-1403\"><span class=\"toc-item-num\">1.4.0.3&nbsp;&nbsp;</span>3. Построение линейных моделей</a></div><div class=\"lev4 toc-item\"><a href=\"#4.-Подбор-моделей-распределения\" data-toc-modified-id=\"4.-Подбор-моделей-распределения-1404\"><span class=\"toc-item-num\">1.4.0.4&nbsp;&nbsp;</span>4. Подбор моделей распределения</a></div><div class=\"lev4 toc-item\"><a href=\"#5.-Визуализация-итоговых-выводов\" data-toc-modified-id=\"5.-Визуализация-итоговых-выводов-1405\"><span class=\"toc-item-num\">1.4.0.5&nbsp;&nbsp;</span>5. Визуализация итоговых выводов</a></div>"
   ]
  },
  {
   "cell_type": "markdown",
   "metadata": {
    "deletable": true,
    "editable": true
   },
   "source": [
    "## Моделирование в биологии\n",
    "\n",
    "[лекция](01.ipynb)"
   ]
  },
  {
   "cell_type": "markdown",
   "metadata": {
    "deletable": true,
    "editable": true
   },
   "source": [
    "### Практикум\n",
    "\n",
    "1. Блокнот как калькулятор. Создание пустого блокнота и редактирование ячеек. Для самостоятельного освоения: Task_py_operator.ipynb\n",
    "1. Task_py_types.ipynb - типы данных.\n",
    "1. Task_ipynb_definition.ipynb - ячейки с разметкой Markdown. Заголовки. Ссылки.\n",
    "1. Task_py_def.ipynb - определение функции\n",
    "1. Task_ipynb_example.ipynb\n",
    "1. Task_ipynb_keyboard.ipynb - освоение клавиатурных команд и приема просмотра значений переменных\n",
    "1. Task_ipynb_tips.ipynb - полезные советы по создании блокнотов."
   ]
  },
  {
   "cell_type": "markdown",
   "metadata": {
    "deletable": true,
    "editable": true
   },
   "source": [
    "### Контрольная работа \"Векторизация вычислений\"\n",
    "\n",
    "- [Task_dataset_bmi](Task_dataset_bmi.ipynb) - изучение набора данных, оценка разброса значений.\n",
    "- [Task_calc_bmi](Task_calc_bmi.ipynb) - работа с формулой расчета весо-ростового коэффициента\n",
    "- [Task_rank_bmi](Task_rank_bmi.ipynb) - вычисление рангов\n",
    "\n",
    "Для решения задачи необходимо освоить приемы:\n",
    "\n",
    "- импорта данных из таблицы с веб-странички\n",
    "- расчета нового показателя по формуле\n",
    "- нахождение позиции с минимальным/максимальным показателем\n",
    "- ранжирования подвыборки по одному из признаков"
   ]
  },
  {
   "cell_type": "markdown",
   "metadata": {
    "deletable": true,
    "editable": true
   },
   "source": [
    "## Алгоритмы \n",
    "\n",
    "[лекция Алгоритмы](02.ipynb)  [лекция Планирование](02b.ipynb)"
   ]
  },
  {
   "cell_type": "markdown",
   "metadata": {
    "deletable": true,
    "editable": true
   },
   "source": [
    "### Практикум\n",
    "\n",
    "- Task_algo_analitic - пример аналитического решения задач\n",
    "- Task_algo_newton - пример численного решения задач\n",
    "\n",
    "- Task_algo_vector - Работа с составными типами данных\n",
    "- Task_algo_dim - дополнение о размерности\n",
    "- Task_viz_iris - рисование заданных геометрических форм\n",
    "- Task_algo_matrix - Операции с матрицами на примере los.csv\n"
   ]
  },
  {
   "cell_type": "markdown",
   "metadata": {
    "deletable": true,
    "editable": true
   },
   "source": [
    "### Контрольная работа \"Генерация выборки\"\n",
    "\n",
    "- [Task_vis_hist](Task_vis_hist.ipynb) - построение гистограммы распределения\n",
    "- [Task_algo_generatio](Task_algo_generatio.ipynb) - генерация выборки с нормальным распределением\n",
    "- [Task_algo_reproduce](Task_algo_reproduce.ipynb) - Воспроизводимая генерация случайных чисел\n",
    "\n",
    "Для выполнения тестовых заданий необходимо освоить приемы:\n",
    "\n",
    "- Генерация случайной выборки с заданными параметрами.\n",
    "- Использование команды seed для воспроизводимой генерации случайных чисел.\n",
    "- Построение гистограммы распределения с заданным числом классов."
   ]
  },
  {
   "cell_type": "markdown",
   "metadata": {
    "deletable": true,
    "editable": true
   },
   "source": [
    "## Подготовка данных к анализу\n",
    "\n",
    "[лекция](03.ipynb)"
   ]
  },
  {
   "cell_type": "markdown",
   "metadata": {
    "deletable": true,
    "editable": true
   },
   "source": [
    "### Практикум\n",
    "\n",
    "- Task_dataset_SpeciesArea.ipynb - пример готового набора данных с логарифмированием\n",
    "- Task_modeline_logscale.ipynb - преобразование данных в логарифмической шкале\n",
    "- Task_dataset_stroke.ipynb - реальный набор данных\n",
    "- Временные ряды\n",
    "    -     Task_dyna_ecg_rr.ipynb + ecg.mat\n",
    "    -     Task_dyna_au.ipynb + eegfilt.wav\n",
    "    -     Task_dyna_spectral.ipynb + audacity_codecs.png + merops.wav\n"
   ]
  },
  {
   "cell_type": "markdown",
   "metadata": {
    "deletable": true,
    "editable": true
   },
   "source": [
    "### Контрольная работа \"Проверка данных о черепахах\"\n",
    "\n",
    "- [Task_dataset_turtle](Task_dataset_turtle.ipynb) - описание набора данных о черепахах (Data_S1_Complete_Dataset.xlsx), просмотр статьи\n",
    "- [Task_modeline_turtle](Task_modeline_turtle.ipynb) - правило Ренча\n",
    "- [Task_pre_turtle](Task_pre_turtle.ipynb) - анализ целостности набора данных\n",
    "\n",
    "Для выполнения тестовых заданий необходимо освоить приемы:\n",
    "\n",
    "- Импорт набора данных из XSL-файла.\n",
    "- Отбор наблюдений по разным параметрам (выборки по заданным критериям).\n",
    "- Проверка отсутствующих значений в одной и нескольких колонках.\n",
    "- Подсчет частоты категориальных признаков."
   ]
  },
  {
   "cell_type": "markdown",
   "metadata": {
    "deletable": true,
    "editable": true
   },
   "source": [
    "## Проектное задание\n",
    "\n",
    "Задание сдается в виде документа с отчетом, оформленным в форме статьи.\n",
    "\n",
    "Примерный порядок разделов: введение (идея, цель), методика (условия тестирования, укажите под каким логином проходили тестирование), результаты (рисунки, описание), выводы.\n",
    "\n",
    "Оформление должно быть эстетичным. Рисунки должны быть четкими с соответствующими подписями."
   ]
  },
  {
   "cell_type": "markdown",
   "metadata": {
    "deletable": true,
    "editable": true
   },
   "source": [
    "Этапы анализа данных:\n",
    "\n",
    "#### 1. Подготовка данных\n",
    "Устранение артефактов. Выбор обозначений для исследуемых факторов. Вывод о достаточном для анализа объеме данных. Наличие ссылки на исходные данные.\n",
    "\n",
    "#### 2. Групповая статистика \n",
    "зависимости среднего ВР от обозначенных факторов.\n",
    "\n",
    "#### 3. Построение линейных моделей \n",
    "зависимость от логарифма МСИ.\n",
    "\n",
    "#### 4. Подбор моделей распределения\n",
    "выбор и подгонка модели распределения ВР\n",
    "\n",
    "#### 5. Визуализация итоговых выводов\n",
    "Оценка влияния условий тестирования на параметры моделей.\n"
   ]
  },
  {
   "cell_type": "code",
   "execution_count": 9,
   "metadata": {
    "collapsed": false
   },
   "outputs": [
    {
     "data": {
      "text/html": [
       "<style>.toc-item-num{display:none;} .lev1{margin-left: 0px} .lev2{margin-left: 20px} .lev3{margin-left: 40px} .lev4{margin-left: 60px} .lev5{margin-left: 80px}</style>"
      ],
      "text/plain": [
       "<IPython.core.display.HTML object>"
      ]
     },
     "execution_count": 9,
     "metadata": {},
     "output_type": "execute_result"
    }
   ],
   "source": [
    "from IPython.core.display import HTML\n",
    "HTML('<style>{}</style>'.format('.toc-item-num{display:none;} '+' '.join(['.lev{}{{margin-left: {}px}}'.format(i+1, 0+i*20)for i in range(5)])))"
   ]
  },
  {
   "cell_type": "markdown",
   "metadata": {},
   "source": [
    "<style>\n",
    ".lev1 {margin-left: 0px}\n",
    ".lev2 {margin-left: 0px}\n",
    ".lev3 {margin-left: 120px}\n",
    ".lev4 {margin-left: 140px}\n",
    ".lev5 {margin-left: 160px}\n",
    "</style>"
   ]
  }
 ],
 "metadata": {
  "kernelspec": {
   "display_name": "Python 3",
   "language": "python",
   "name": "python3"
  },
  "language_info": {
   "codemirror_mode": {
    "name": "ipython",
    "version": 3
   },
   "file_extension": ".py",
   "mimetype": "text/x-python",
   "name": "python",
   "nbconvert_exporter": "python",
   "pygments_lexer": "ipython3",
   "version": "3.5.2"
  },
  "toc": {
   "colors": {
    "hover_highlight": "#DAA520",
    "running_highlight": "#FF0000",
    "selected_highlight": "#FFD700"
   },
   "moveMenuLeft": true,
   "nav_menu": {
    "height": "345px",
    "width": "252px"
   },
   "navigate_menu": true,
   "number_sections": false,
   "sideBar": false,
   "threshold": 4,
   "toc_cell": false,
   "toc_position": {
    "height": "599px",
    "left": "1px",
    "right": "800px",
    "top": "107px",
    "width": "190px"
   },
   "toc_section_display": "none",
   "toc_window_display": false
  }
 },
 "nbformat": 4,
 "nbformat_minor": 0
}
