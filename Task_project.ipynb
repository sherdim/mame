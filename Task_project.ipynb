{
 "cells": [
  {
   "cell_type": "markdown",
   "metadata": {},
   "source": [
    "# Анализ данных для проектного задания"
   ]
  },
  {
   "cell_type": "markdown",
   "metadata": {},
   "source": [
    "Это шаблон для вашего скрипта, в котором вы можете собрать все необходимые вам блоки кода и выстроить цепочку шагов для анализа данных.\n",
    "\n",
    "По завершению анализа в этом блокноте будут все необходимые правильно оформленные рисунки, комментарии с суждениями по поводу рисунков и числовых результатов. Рисунки и комментарии станут основой отчета о выполнении проектного задания.\n",
    "\n",
    "*Возможности блокнота:*\n",
    "- Последовательное выполнение этапов анализа\n",
    "- Вставка информативных комментариев, которые затем войдут в отчет\n",
    "- Возможности расширения за счет импорта библиотек"
   ]
  },
  {
   "cell_type": "code",
   "execution_count": 1,
   "metadata": {},
   "outputs": [
    {
     "name": "stdout",
     "output_type": "stream",
     "text": [
      "Populating the interactive namespace from numpy and matplotlib\n"
     ]
    }
   ],
   "source": [
    "%pylab inline\n",
    "import pandas as pd\n",
    "import seaborn as sns"
   ]
  },
  {
   "cell_type": "markdown",
   "metadata": {},
   "source": [
    "# 1. Подготовка данных"
   ]
  },
  {
   "cell_type": "markdown",
   "metadata": {},
   "source": [
    "загрузить все данные в переменные с разными названиями, или объединить все в одну большую таблицу"
   ]
  },
  {
   "cell_type": "code",
   "execution_count": null,
   "metadata": {
    "collapsed": true
   },
   "outputs": [],
   "source": []
  },
  {
   "cell_type": "markdown",
   "metadata": {},
   "source": [
    "# 2. Групповая статистика \n",
    "\n",
    "исследовать зависимость среднего ВР от разных факторов"
   ]
  },
  {
   "cell_type": "code",
   "execution_count": null,
   "metadata": {
    "collapsed": true
   },
   "outputs": [],
   "source": []
  },
  {
   "cell_type": "markdown",
   "metadata": {},
   "source": [
    "# 3. Построение линейных моделей \n",
    "\n",
    "изучить характер зависимостей ВР от логарифма МСИ в разных условиях."
   ]
  },
  {
   "cell_type": "code",
   "execution_count": null,
   "metadata": {
    "collapsed": true
   },
   "outputs": [],
   "source": []
  },
  {
   "cell_type": "markdown",
   "metadata": {},
   "source": [
    "# 4. Подбор моделей распределения\n",
    "\n",
    "выбор и подгонка модели распределения ВР\n",
    "\n",
    "Несимметричное распределение значений времени реакций в научной литературе описывается с помощью нескольких специальных распределений, поскольку симметричное нормальное распределение не подходит. \n",
    "\n",
    "Рекомендуемый способ получить коэффициенты таких распределений: экспортировать подвыборки ваших данных в текстовые файлы и подобрать модели с помощью интерактивного онлайн-приложения  https://sherdim.shinyapps.io/retivo/"
   ]
  },
  {
   "cell_type": "code",
   "execution_count": null,
   "metadata": {
    "collapsed": true
   },
   "outputs": [],
   "source": []
  },
  {
   "cell_type": "markdown",
   "metadata": {},
   "source": [
    "# 5. Визуализация итоговых выводов\n",
    "\n",
    "На одном графике необходимо собрать однотипные данные, но для разных условий, чтобы было наглядно видно, есть ли различия между условиями или нет.\n",
    "\n",
    "Данные могут быть - групповые статистики (среднее, ошибка среднего), коэффициенты линейных моделей, коэффициенты специальных моделей распределения ВР.\n",
    "Например, можно отобразить линейные модели ВР от логарифма МСИ для слуховых стимулов для 2 или 3 изучаемых вами условий на одном графике. Для наглядности линии должны быть разных цветов и названия условий включены в легенду."
   ]
  },
  {
   "cell_type": "code",
   "execution_count": null,
   "metadata": {
    "collapsed": true
   },
   "outputs": [],
   "source": []
  }
 ],
 "metadata": {
  "kernelspec": {
   "display_name": "Python 3",
   "language": "python",
   "name": "python3"
  },
  "language_info": {
   "codemirror_mode": {
    "name": "ipython",
    "version": 3
   },
   "file_extension": ".py",
   "mimetype": "text/x-python",
   "name": "python",
   "nbconvert_exporter": "python",
   "pygments_lexer": "ipython3",
   "version": "3.9.0rc1"
  },
  "toc": {
   "base_numbering": 1,
   "nav_menu": {
    "height": "159px",
    "width": "252px"
   },
   "number_sections": false,
   "sideBar": true,
   "skip_h1_title": false,
   "title_cell": "Table of Contents",
   "title_sidebar": "Contents",
   "toc_cell": false,
   "toc_position": {},
   "toc_section_display": "block",
   "toc_window_display": false
  }
 },
 "nbformat": 4,
 "nbformat_minor": 1
}
