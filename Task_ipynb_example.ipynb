{
 "cells": [
  {
   "cell_type": "markdown",
   "metadata": {},
   "source": [
    "## Упражнение"
   ]
  },
  {
   "cell_type": "code",
   "execution_count": 4,
   "metadata": {},
   "outputs": [],
   "source": [
    "%matplotlib tk"
   ]
  },
  {
   "cell_type": "markdown",
   "metadata": {},
   "source": [
    "1. Перейдите на страницу http://matplotlib.org/examples/animation/histogram.html\n",
    "2. Скопируйте код примера и вставьте в ячейку с кодом\n",
    "3. Выполните ячейку (Ctrl-Enter) (если ничего не произошло - выполните повторно)"
   ]
  },
  {
   "cell_type": "code",
   "execution_count": 6,
   "metadata": {},
   "outputs": [],
   "source": [
    "\"\"\"\n",
    "==================\n",
    "Animated histogram\n",
    "==================\n",
    "\n",
    "This example shows how to use a path patch to draw a bunch of\n",
    "rectangles for an animated histogram.\n",
    "\n",
    "\"\"\"\n",
    "import numpy as np\n",
    "\n",
    "import matplotlib.pyplot as plt\n",
    "import matplotlib.patches as patches\n",
    "import matplotlib.path as path\n",
    "import matplotlib.animation as animation\n",
    "\n",
    "fig, ax = plt.subplots()\n",
    "\n",
    "# histogram our data with numpy\n",
    "data = np.random.randn(1000)\n",
    "n, bins = np.histogram(data, 100)\n",
    "\n",
    "# get the corners of the rectangles for the histogram\n",
    "left = np.array(bins[:-1])\n",
    "right = np.array(bins[1:])\n",
    "bottom = np.zeros(len(left))\n",
    "top = bottom + n\n",
    "nrects = len(left)\n",
    "\n",
    "# here comes the tricky part -- we have to set up the vertex and path\n",
    "# codes arrays using moveto, lineto and closepoly\n",
    "\n",
    "# for each rect: 1 for the MOVETO, 3 for the LINETO, 1 for the\n",
    "# CLOSEPOLY; the vert for the closepoly is ignored but we still need\n",
    "# it to keep the codes aligned with the vertices\n",
    "nverts = nrects*(1 + 3 + 1)\n",
    "verts = np.zeros((nverts, 2))\n",
    "codes = np.ones(nverts, int) * path.Path.LINETO\n",
    "codes[0::5] = path.Path.MOVETO\n",
    "codes[4::5] = path.Path.CLOSEPOLY\n",
    "verts[0::5, 0] = left\n",
    "verts[0::5, 1] = bottom\n",
    "verts[1::5, 0] = left\n",
    "verts[1::5, 1] = top\n",
    "verts[2::5, 0] = right\n",
    "verts[2::5, 1] = top\n",
    "verts[3::5, 0] = right\n",
    "verts[3::5, 1] = bottom\n",
    "\n",
    "barpath = path.Path(verts, codes)\n",
    "patch = patches.PathPatch(\n",
    "    barpath, facecolor='green', edgecolor='yellow', alpha=0.5)\n",
    "ax.add_patch(patch)\n",
    "\n",
    "ax.set_xlim(left[0], right[-1])\n",
    "ax.set_ylim(bottom.min(), top.max())\n",
    "\n",
    "\n",
    "def animate(i):\n",
    "    # simulate new data coming in\n",
    "    data = np.random.randn(1000)\n",
    "    n, bins = np.histogram(data, 100)\n",
    "    top = bottom + n\n",
    "    verts[1::5, 1] = top\n",
    "    verts[2::5, 1] = top\n",
    "    return [patch, ]\n",
    "\n",
    "ani = animation.FuncAnimation(fig, animate, 100, repeat=False, blit=True)\n",
    "plt.show()"
   ]
  },
  {
   "cell_type": "markdown",
   "metadata": {},
   "source": [
    "> Найдите в коде определение функции. Как эта функция используется в последующем коде?"
   ]
  },
  {
   "cell_type": "markdown",
   "metadata": {},
   "source": [
    "После длинной строки идет блок выражений со сходной структурой: все выражения начинают со слова `import`.\n",
    "\n",
    "Дело в том, что функционал отрисовки изображений на экране не входит в базовый набор функций языка Python. Язык программирования универсален и в его ядро входит небольшой набор самых необходимых команд.\n",
    "Дополнительные функции можно подключить, импортировав соответствующие программные модули.\n",
    "\n",
    "В первом выражении импортируется модуль `numpy` - это популярная библиотека для работы с массивами чисел. Она импортируется под коротким именем `np`.\n",
    "Короткие имена удобнее при написании кода.\n",
    "Команда `as` (англ. как) используется для задания имени.\n",
    "Буквально команду импорта можно прочитать как \"импортировать numpy как np\".\n",
    "\n",
    "Крупные модули состоят из подмодулей: при записи они отделяются точкой.\n",
    "Так в последнем выражении в этом блоке подмодуль `animation` из библиотеки `matplotlib` импортируется под именем `animation`.\n",
    "\n",
    "`matplotlib` - это основная библиотека для построения разного рода графиков и рисунков. Название состоит из кусков: `mat` - матричный, `plot` (англ. чертеж) - график, `lib` (library) - библиотека. То есть библиотека для построения графиков с использованием матриц (двумерных массивов).\n",
    "\n",
    "Примеры рисунков можно посмотреть в [онлайн-галерее](https://matplotlib.org/stable/gallery/index.html)."
   ]
  },
  {
   "cell_type": "markdown",
   "metadata": {},
   "source": [
    "**Вывод**: сложный код, предназначение некоторых частей которого непонятно, можно с успехом использовать, если понимать его общую структуру. \n",
    "Понимание точек входа и выхода позволяет встроить фрагмент кода для выполнения продвинутой операции в цепочку собственного алгоритма обработки своих данных."
   ]
  }
 ],
 "metadata": {
  "kernelspec": {
   "display_name": "Python 3",
   "language": "python",
   "name": "python3"
  },
  "language_info": {
   "codemirror_mode": {
    "name": "ipython",
    "version": 3
   },
   "file_extension": ".py",
   "mimetype": "text/x-python",
   "name": "python",
   "nbconvert_exporter": "python",
   "pygments_lexer": "ipython3",
   "version": "3.9.0rc1"
  },
  "toc": {
   "base_numbering": 1,
   "nav_menu": {},
   "number_sections": false,
   "sideBar": false,
   "skip_h1_title": false,
   "title_cell": "Table of Contents",
   "title_sidebar": "Contents",
   "toc_cell": false,
   "toc_position": {},
   "toc_section_display": true,
   "toc_window_display": false
  }
 },
 "nbformat": 4,
 "nbformat_minor": 4
}
