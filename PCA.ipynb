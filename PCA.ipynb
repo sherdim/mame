{
 "cells": [
  {
   "cell_type": "code",
   "execution_count": 17,
   "metadata": {
    "collapsed": false,
    "deletable": true,
    "editable": true
   },
   "outputs": [
    {
     "name": "stdout",
     "output_type": "stream",
     "text": [
      "Populating the interactive namespace from numpy and matplotlib\n"
     ]
    }
   ],
   "source": [
    "%pylab inline\n",
    "np.set_printoptions(precision=4)\n",
    "import pandas as pd\n",
    "import seaborn as sns\n",
    "from io import StringIO\n"
   ]
  },
  {
   "cell_type": "markdown",
   "metadata": {},
   "source": [
    "http://stackoverflow.com/questions/25412954/hotellings-t2-scores-in-python"
   ]
  },
  {
   "cell_type": "code",
   "execution_count": 2,
   "metadata": {
    "collapsed": true
   },
   "outputs": [],
   "source": [
    "def hotelling_tsquared(pc):\n",
    "    \"\"\"`pc` should be the object returned by matplotlib.mlab.PCA().\"\"\"\n",
    "    x = pc.a.T\n",
    "    cov = pc.Wt.T.dot(np.diag(pc.s)).dot(pc.Wt) / (x.shape[1] - 1)\n",
    "    w = np.linalg.solve(cov, x)\n",
    "    t2 = (x * w).sum(axis=0)\n",
    "    return t2"
   ]
  },
  {
   "cell_type": "code",
   "execution_count": 12,
   "metadata": {
    "collapsed": false
   },
   "outputs": [
    {
     "data": {
      "text/html": [
       "<div>\n",
       "<table border=\"1\" class=\"dataframe\">\n",
       "  <thead>\n",
       "    <tr style=\"text-align: right;\">\n",
       "      <th></th>\n",
       "      <th>Y</th>\n",
       "      <th>X1</th>\n",
       "      <th>X2</th>\n",
       "      <th>X3</th>\n",
       "      <th>X4</th>\n",
       "    </tr>\n",
       "  </thead>\n",
       "  <tbody>\n",
       "    <tr>\n",
       "      <th>0</th>\n",
       "      <td>78.5</td>\n",
       "      <td>7</td>\n",
       "      <td>26</td>\n",
       "      <td>6</td>\n",
       "      <td>60</td>\n",
       "    </tr>\n",
       "    <tr>\n",
       "      <th>1</th>\n",
       "      <td>74.3</td>\n",
       "      <td>1</td>\n",
       "      <td>29</td>\n",
       "      <td>15</td>\n",
       "      <td>52</td>\n",
       "    </tr>\n",
       "    <tr>\n",
       "      <th>2</th>\n",
       "      <td>104.3</td>\n",
       "      <td>11</td>\n",
       "      <td>56</td>\n",
       "      <td>8</td>\n",
       "      <td>20</td>\n",
       "    </tr>\n",
       "    <tr>\n",
       "      <th>3</th>\n",
       "      <td>87.6</td>\n",
       "      <td>11</td>\n",
       "      <td>31</td>\n",
       "      <td>8</td>\n",
       "      <td>47</td>\n",
       "    </tr>\n",
       "    <tr>\n",
       "      <th>4</th>\n",
       "      <td>95.9</td>\n",
       "      <td>7</td>\n",
       "      <td>52</td>\n",
       "      <td>6</td>\n",
       "      <td>33</td>\n",
       "    </tr>\n",
       "  </tbody>\n",
       "</table>\n",
       "</div>"
      ],
      "text/plain": [
       "       Y  X1  X2  X3  X4\n",
       "0   78.5   7  26   6  60\n",
       "1   74.3   1  29  15  52\n",
       "2  104.3  11  56   8  20\n",
       "3   87.6  11  31   8  47\n",
       "4   95.9   7  52   6  33"
      ]
     },
     "execution_count": 12,
     "metadata": {},
     "output_type": "execute_result"
    }
   ],
   "source": [
    "D = pd.read_table(StringIO(\"\"\"Y       X1      X2      X3      X4\n",
    "    78.5    7       26      6       60\n",
    "    74.3    1       29      15      52\n",
    "    104.3   11      56      8       20\n",
    "    87.6    11      31      8       47\n",
    "    95.9    7       52      6       33\n",
    "    109.2   11      55      9       22\n",
    "    102.7   3       71      17      6\n",
    "    72.5    1       31      22      44\n",
    "    93.1    2       54      18      22\n",
    "    115.9   21      47      4       26\n",
    "    83.8    1       40      23      34\n",
    "    113.3   11      66      9       12\n",
    "    109.4   10      68      8       12\n",
    "    \"\"\"), delimiter='\\s+')#, skipinitialspace=True )\n",
    "D.head()"
   ]
  },
  {
   "cell_type": "code",
   "execution_count": 18,
   "metadata": {
    "collapsed": false
   },
   "outputs": [
    {
     "data": {
      "text/plain": [
       "array([[ 0.0678,  0.6785, -0.029 , -0.7309],\n",
       "       [ 0.646 ,  0.02  , -0.7553,  0.1085],\n",
       "       [-0.5673,  0.544 , -0.4036,  0.4684],\n",
       "       [ 0.5062,  0.4933,  0.5156,  0.4844]])"
      ]
     },
     "execution_count": 18,
     "metadata": {},
     "output_type": "execute_result"
    }
   ],
   "source": [
    "ingredients = D.iloc[:, 1:]\n",
    "\n",
    "pc = mlab.PCA(ingredients, standardize=False)\n",
    "coeff = pc.Wt\n",
    "coeff"
   ]
  },
  {
   "cell_type": "code",
   "execution_count": 22,
   "metadata": {
    "collapsed": false
   },
   "outputs": [
    {
     "name": "stdout",
     "output_type": "stream",
     "text": [
      "latent:  517.7969   67.4964   12.4054    0.2372\n",
      "\n",
      "tsquared:\n",
      "0     5.680341\n",
      "1     3.075837\n",
      "2     6.000233\n",
      "3     2.619763\n",
      "4     3.368139\n",
      "5     0.566797\n",
      "6     3.481841\n",
      "7     3.979398\n",
      "8     2.608586\n",
      "9     7.481756\n",
      "10    4.183022\n",
      "11    2.232719\n",
      "12    2.721568\n",
      "dtype: float64\n"
     ]
    }
   ],
   "source": [
    "latent = pc.s / (ingredients.shape[0] - 1)\n",
    "print(\"latent:\" + (\" %9.4f\"*len(latent)) % tuple(latent))\n",
    "print()\n",
    "\n",
    "# For tsquared, compare to\n",
    "#     http://www.mathworks.com/help/stats/pca.html#bti6r0c-1\n",
    "tsquared = hotelling_tsquared(pc)\n",
    "print(\"tsquared:\")\n",
    "print(tsquared)"
   ]
  },
  {
   "cell_type": "code",
   "execution_count": 26,
   "metadata": {
    "collapsed": false
   },
   "outputs": [
    {
     "ename": "TypeError",
     "evalue": "center() missing 1 required positional argument: 'x'",
     "output_type": "error",
     "traceback": [
      "\u001b[0;31m---------------------------------------------------------------------------\u001b[0m",
      "\u001b[0;31mTypeError\u001b[0m                                 Traceback (most recent call last)",
      "\u001b[0;32m<ipython-input-26-d6df96a32b50>\u001b[0m in \u001b[0;36m<module>\u001b[0;34m()\u001b[0m\n\u001b[0;32m----> 1\u001b[0;31m \u001b[0mpc\u001b[0m\u001b[0;34m.\u001b[0m\u001b[0mcenter\u001b[0m\u001b[0;34m(\u001b[0m\u001b[0;34m)\u001b[0m\u001b[0;34m\u001b[0m\u001b[0m\n\u001b[0m",
      "\u001b[0;31mTypeError\u001b[0m: center() missing 1 required positional argument: 'x'"
     ]
    }
   ],
   "source": []
  }
 ],
 "metadata": {
  "kernelspec": {
   "display_name": "Python 3",
   "language": "python",
   "name": "python3"
  },
  "language_info": {
   "codemirror_mode": {
    "name": "ipython",
    "version": 3
   },
   "file_extension": ".py",
   "mimetype": "text/x-python",
   "name": "python",
   "nbconvert_exporter": "python",
   "pygments_lexer": "ipython3",
   "version": "3.5.2"
  },
  "toc": {
   "colors": {
    "hover_highlight": "#DAA520",
    "running_highlight": "#FF0000",
    "selected_highlight": "#FFD700"
   },
   "moveMenuLeft": true,
   "nav_menu": {
    "height": "12px",
    "width": "252px"
   },
   "navigate_menu": true,
   "number_sections": false,
   "sideBar": true,
   "threshold": 4,
   "toc_cell": false,
   "toc_section_display": "block",
   "toc_window_display": false
  }
 },
 "nbformat": 4,
 "nbformat_minor": 0
}
