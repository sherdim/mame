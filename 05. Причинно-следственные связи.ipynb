{
 "cells": [
  {
   "cell_type": "code",
   "execution_count": 1,
   "metadata": {},
   "outputs": [
    {
     "name": "stdout",
     "output_type": "stream",
     "text": [
      "Populating the interactive namespace from numpy and matplotlib\n"
     ]
    }
   ],
   "source": [
    "from __future__ import print_function, division, unicode_literals\n",
    "%pylab inline\n",
    "from ipywidgets import interact, interact_manual, widgets\n",
    "import pandas as pd"
   ]
  },
  {
   "cell_type": "markdown",
   "metadata": {},
   "source": [
    "# Причинно-следственные связи"
   ]
  },
  {
   "cell_type": "markdown",
   "metadata": {},
   "source": [
    "### Энтропия - мера неопределенности"
   ]
  },
  {
   "cell_type": "markdown",
   "metadata": {},
   "source": [
    "Убираем магию формул. Задача - по краям 0 (полная определенность), а по центру максимум. \n",
    "\n",
    "<b class=tag>Клод Шеннон<b>"
   ]
  },
  {
   "cell_type": "code",
   "execution_count": 14,
   "metadata": {},
   "outputs": [
    {
     "data": {
      "image/png": "[encoded data removed]",
      "text/plain": [
       "<Figure size 432x288 with 1 Axes>"
      ]
     },
     "metadata": {},
     "output_type": "display_data"
    }
   ],
   "source": [
    "p = arange(0.01,1,.03)\n",
    "l = -log(p)\n",
    "plot(p, l, 'o', label='log');\n",
    "plot(p, p, 'o', label='p', color='g');\n",
    "h = 10* l * p\n",
    "plot(p, h, 'o', label='H', color='k');\n",
    "legend();"
   ]
  },
  {
   "cell_type": "markdown",
   "metadata": {},
   "source": []
  },
  {
   "cell_type": "code",
   "execution_count": 15,
   "metadata": {},
   "outputs": [
    {
     "data": {
      "image/png": "[encoded data removed]",
      "text/plain": [
       "<Figure size 432x288 with 1 Axes>"
      ]
     },
     "metadata": {},
     "output_type": "display_data"
    }
   ],
   "source": [
    "p = arange(0.01,1,.03)\n",
    "q = (1-p)\n",
    "h = -p*log(p)\n",
    "plot(p, h, 'o', label='p');\n",
    "h_ = -q*log(q)\n",
    "plot(p, h_, 'o', label='q', color='m');\n",
    "h = h+h_\n",
    "plot(p, h, 'o', label='H', color='k');\n",
    "legend();"
   ]
  },
  {
   "cell_type": "markdown",
   "metadata": {},
   "source": [
    "Закон неубывания энтропии или так называемый физический смысл второго закона термодинамики был открыт Рудольфом Клаузиусом (1865), а его теоретическое обоснование было дано Людвигом Больцманом (1870-е годы). \n",
    "\n",
    "Так как во всех осуществляющихся в природе замкнутых системах энтропия никогда не убывает — она увеличивается или, в предельном случае, остается постоянной — все процессы, происходящие с макроскопическими телами, можно разделить на необратимые и обратимые.\n",
    "\n",
    "Под необратимыми подразумеваются процессы, сопровождающиеся возрастанием энтропии всей замкнутой системы. Процессы, которые были бы их повторениями в обратном порядке — не могут происходить, так как при этом энтропия должна была бы уменьшиться.\n",
    "\n",
    "Обратимыми же называют процессы, при которых термодинамическая энтропия замкнутой системы остается постоянной. (Энтропия отдельных частей системы при этом не обязательно будет постоянной.) \n"
   ]
  },
  {
   "cell_type": "markdown",
   "metadata": {},
   "source": [
    "### Научный метод\n",
    "Научный метод: меняем один фактор - объясняем им все изменения."
   ]
  },
  {
   "cell_type": "markdown",
   "metadata": {},
   "source": [
    "### \"Черный ящик\""
   ]
  },
  {
   "cell_type": "markdown",
   "metadata": {},
   "source": [
    "![](modeltradeoff.jpg)"
   ]
  },
  {
   "cell_type": "markdown",
   "metadata": {},
   "source": [
    "## Память = интеграция прошлых знаний\n",
    "\n",
    "### Угасание следа памяти\n",
    "\n",
    "Следы препараты в крови и других тканях.\n",
    "\n",
    "Рубцы - память о ранах - постепенно затягиваются и в какой-то момент полностью заменяются новой нормальной тканью.\n",
    "\n",
    "Психологическая память - сенсорные образы, которые можно \"вспомнить\" и сравнить с текущим образом.\n",
    "\n",
    "$$\\begin{split}\\alpha =\n",
    " \\begin{cases}\n",
    "     \\frac{2}{s + 1},               & \\text{for span}\\ s \\geq 1\\\\\n",
    "     \\frac{1}{1 + c},               & \\text{for center of mass}\\ c \\geq 0\\\\\n",
    "     1 - \\exp^{\\frac{\\log 0.5}{h}}, & \\text{for half-life}\\ h > 0\n",
    " \\end{cases}\\end{split}$$\n",
    " \n",
    " http://pandas.pydata.org/pandas-docs/stable/computation.html#exponentially-weighted-windows"
   ]
  }
 ],
 "metadata": {
  "kernelspec": {
   "display_name": "Python 2",
   "language": "python",
   "name": "python2"
  },
  "language_info": {
   "codemirror_mode": {
    "name": "ipython",
    "version": 2
   },
   "file_extension": ".py",
   "mimetype": "text/x-python",
   "name": "python",
   "nbconvert_exporter": "python",
   "pygments_lexer": "ipython2",
   "version": "2.7.14"
  },
  "toc": {
   "base_numbering": 1,
   "nav_menu": {},
   "number_sections": false,
   "sideBar": true,
   "skip_h1_title": false,
   "title_cell": "Table of Contents",
   "title_sidebar": "Contents",
   "toc_cell": false,
   "toc_position": {},
   "toc_section_display": true,
   "toc_window_display": false
  }
 },
 "nbformat": 4,
 "nbformat_minor": 2
}
