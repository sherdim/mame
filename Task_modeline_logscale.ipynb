{
 "cells": [
  {
   "cell_type": "markdown",
   "metadata": {},
   "source": [
    "## Преобразование данных в логарифмической шкале"
   ]
  },
  {
   "cell_type": "code",
   "execution_count": null,
   "metadata": {},
   "outputs": [],
   "source": [
    "%pylab inline\n",
    "from ipywidgets import interact, interactive, fixed"
   ]
  },
  {
   "cell_type": "markdown",
   "metadata": {},
   "source": [
    "*Логарифм* - это степень, в которую надо возвести основание, чтобы получить аргумент. Т.е. логарифмирование связано с возведением в степень, а точнее - является противоположной операцией.\n",
    "\n",
    "Рассмотрим возведение в степень."
   ]
  },
  {
   "cell_type": "code",
   "execution_count": null,
   "metadata": {},
   "outputs": [],
   "source": [
    "dd=arange(7)\n",
    "vvE=exp(dd)  #экспоненциальная функция\n",
    "    \n",
    "@interact(base=(0,4, .1), scale=['linear','log'])\n",
    "def plot_base(base=2, scale='linear'):\n",
    "    vv=base**dd  #показательная функция с основанием 2\n",
    "    plot(dd,vv,'o-')\n",
    "\n",
    "    plot(dd,vvE,'r^-')\n",
    "\n",
    "    yscale(scale)  # попробуйте поменять на 'log'"
   ]
  },
  {
   "cell_type": "markdown",
   "metadata": {},
   "source": [
    "Поскольку обратной функцией к экспоненте является натуральный логарифм, то данные можно преобразовывать в одном направлении (экспоненцировать) и в обратном (логарифмировать) без потери соотношений в ряду данных."
   ]
  },
  {
   "cell_type": "code",
   "execution_count": null,
   "metadata": {},
   "outputs": [],
   "source": [
    "exp(1)"
   ]
  },
  {
   "cell_type": "code",
   "execution_count": null,
   "metadata": {},
   "outputs": [],
   "source": [
    "vvElog=log(vvE)\n",
    "plot(dd,vvElog,'r^-')\n",
    "\n",
    "vvEloglog=log(vvElog)+1\n",
    "plot(dd,vvEloglog,'mv:');"
   ]
  },
  {
   "cell_type": "markdown",
   "metadata": {},
   "source": [
    "Сравним форму облаков распределения значений ВР от МСИ при представлении в разных шкалах"
   ]
  },
  {
   "cell_type": "code",
   "execution_count": null,
   "metadata": {},
   "outputs": [],
   "source": [
    "lps=loadtxt('rt.tsv', skiprows=1)\n",
    "lps.shape"
   ]
  },
  {
   "cell_type": "code",
   "execution_count": null,
   "metadata": {},
   "outputs": [],
   "source": [
    "tt=lps[:,0]\n",
    "isi=diff(tt)\n",
    "vv=lps[1:,1]\n",
    "\n",
    "plot(isi,vv,'o')\n",
    "xlim([0, 10]);"
   ]
  },
  {
   "cell_type": "code",
   "execution_count": null,
   "metadata": {},
   "outputs": [],
   "source": [
    "plot(2*log2(isi),log(vv),'o')  #умножение на 2 делает шкалу похожей\n",
    "xlim([0,8])"
   ]
  },
  {
   "cell_type": "markdown",
   "metadata": {},
   "source": [
    "Можно заметить, что во втором случае облака точек выглядят более однородно и обособленно.\n",
    "\n",
    "Величины, указанные по обеим шкалам, стало труднее интерпретировать, потому что это логарифм от первоначальных шкал. Однако, вернутся к исходным величинам можно с помощью экспоненцирования."
   ]
  }
 ],
 "metadata": {
  "kernelspec": {
   "display_name": "Python 3",
   "language": "python",
   "name": "python3"
  },
  "language_info": {
   "codemirror_mode": {
    "name": "ipython",
    "version": 3
   },
   "file_extension": ".py",
   "mimetype": "text/x-python",
   "name": "python",
   "nbconvert_exporter": "python",
   "pygments_lexer": "ipython3",
   "version": "3.9.0rc1"
  },
  "toc": {
   "base_numbering": 1,
   "nav_menu": {
    "height": "48px",
    "width": "252px"
   },
   "number_sections": false,
   "sideBar": true,
   "skip_h1_title": false,
   "title_cell": "Table of Contents",
   "title_sidebar": "Contents",
   "toc_cell": false,
   "toc_position": {},
   "toc_section_display": "block",
   "toc_window_display": false
  },
  "widgets": {
   "state": {
    "976b7771ba864b13976d086a805f62a0": {
     "views": [
      {
       "cell_index": 3
      }
     ]
    }
   },
   "version": "1.2.0"
  }
 },
 "nbformat": 4,
 "nbformat_minor": 4
}
