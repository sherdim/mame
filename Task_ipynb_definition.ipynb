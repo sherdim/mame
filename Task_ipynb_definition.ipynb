{
 "cells": [
  {
   "cell_type": "markdown",
   "metadata": {},
   "source": [
    "## Что такое Jupyter?"
   ]
  },
  {
   "cell_type": "markdown",
   "metadata": {},
   "source": [
    "> Jupyter Notebooks – a publishing format for reproducible computational workflows\n",
    "http://ebooks.iospress.nl/publication/42900\n",
    "\n",
    "Перевод: формат публикации для воспроизводимых вычислительных рабочих процессов\n",
    "\n",
    "Рабочий процесс - конкретное воплощение алгоритма (-ов)."
   ]
  },
  {
   "cell_type": "markdown",
   "metadata": {},
   "source": [
    "> The [Jupyter Notebook](http://jupyter.org/) is a web application that allows you to create and share documents that contain live code, equations, visualizations and explanatory text. \n",
    "http://jupyter.org/\n",
    "\n",
    "Перевод: веб-приложение, которое позволяет создавать и совместно использовать документы, которые содержат живой код, уравнения, визуализации и пояснительный текст.\n",
    "\n",
    "![](https://jupyter.org/assets/nav_logo.svg)"
   ]
  }
 ],
 "metadata": {
  "kernelspec": {
   "display_name": "Python 3",
   "language": "python",
   "name": "python3"
  },
  "language_info": {
   "codemirror_mode": {
    "name": "ipython",
    "version": 3
   },
   "file_extension": ".py",
   "mimetype": "text/x-python",
   "name": "python",
   "nbconvert_exporter": "python",
   "pygments_lexer": "ipython3",
   "version": "3.5.2"
  },
  "toc": {
   "base_numbering": 1,
   "nav_menu": {
    "height": "31px",
    "width": "252px"
   },
   "number_sections": false,
   "sideBar": true,
   "skip_h1_title": false,
   "title_cell": "Table of Contents",
   "title_sidebar": "Contents",
   "toc_cell": false,
   "toc_position": {},
   "toc_section_display": "block",
   "toc_window_display": false
  }
 },
 "nbformat": 4,
 "nbformat_minor": 1
}
