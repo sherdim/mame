{
 "cells": [
  {
   "cell_type": "markdown",
   "metadata": {},
   "source": [
    "# Весо-ростовой коэффициент"
   ]
  },
  {
   "cell_type": "markdown",
   "metadata": {},
   "source": [
    "[Индекс массы тела](https://ru.wikipedia.org/wiki/Индекс_массы_тела) (англ. body mass index (BMI))\n",
    "\n",
    "$$ BMI = \\frac{m}{h^2}$$\n",
    "где:\n",
    "    m — масса тела в килограммах\n",
    "    h — рост в метрах,\n",
    "и измеряется в кг/м².\n",
    "\n",
    "- BMI, равный 17-21, соответствует наименьшей предрасположенности к сердечно-сосудистым заболеваниям;\n",
    "\n",
    "- BMI, превышающий 23, является показателем повышенного риска сердечно-сосудистых заболеваний. \n"
   ]
  },
  {
   "cell_type": "code",
   "execution_count": 17,
   "metadata": {},
   "outputs": [],
   "source": [
    "from __future__ import unicode_literals, division, generators"
   ]
  },
  {
   "cell_type": "code",
   "execution_count": 18,
   "metadata": {},
   "outputs": [
    {
     "data": {
      "text/plain": [
       "24.158817968558527"
      ]
     },
     "execution_count": 18,
     "metadata": {},
     "output_type": "execute_result"
    }
   ],
   "source": [
    "height = 1.69\n",
    "massa = 69\n",
    "bmi = massa / height ** 2\n",
    "bmi \n"
   ]
  },
  {
   "cell_type": "code",
   "execution_count": 149,
   "metadata": {
    "scrolled": true
   },
   "outputs": [
    {
     "name": "stdout",
     "output_type": "stream",
     "text": [
      "<class 'pandas.core.frame.DataFrame'>\n",
      "Int64Index: 200 entries, 1 to 200\n",
      "Data columns (total 5 columns):\n",
      "sex       200 non-null object\n",
      "weight    200 non-null int64\n",
      "height    200 non-null int64\n",
      "repwt     183 non-null float64\n",
      "repht     183 non-null float64\n",
      "dtypes: float64(2), int64(2), object(1)\n",
      "memory usage: 8.6+ KB\n"
     ]
    }
   ],
   "source": [
    "import pandas as pd\n",
    "pd.set_option('max_rows',999)\n",
    "import seaborn\n",
    "D = pd.read_csv('Davis.csv', index_col=0)\n",
    "D\n",
    "\n",
    "D.info()"
   ]
  },
  {
   "cell_type": "code",
   "execution_count": 150,
   "metadata": {},
   "outputs": [
    {
     "name": "stdout",
     "output_type": "stream",
     "text": [
      "83 кг,  height=180 см\n"
     ]
    }
   ],
   "source": [
    "i = 197\n",
    "\n",
    "r=D.ix[i]\n",
    "print(u'{weight} кг,  height={height} см'.format(**r))"
   ]
  },
  {
   "cell_type": "code",
   "execution_count": 151,
   "metadata": {},
   "outputs": [
    {
     "data": {
      "text/html": [
       "<div>\n",
       "<table border=\"1\" class=\"dataframe\">\n",
       "  <thead>\n",
       "    <tr style=\"text-align: right;\">\n",
       "      <th></th>\n",
       "      <th>weight</th>\n",
       "      <th>height</th>\n",
       "      <th>repwt</th>\n",
       "      <th>repht</th>\n",
       "    </tr>\n",
       "  </thead>\n",
       "  <tbody>\n",
       "    <tr>\n",
       "      <th>count</th>\n",
       "      <td>200.000000</td>\n",
       "      <td>200.000000</td>\n",
       "      <td>183.000000</td>\n",
       "      <td>183.000000</td>\n",
       "    </tr>\n",
       "    <tr>\n",
       "      <th>mean</th>\n",
       "      <td>65.255000</td>\n",
       "      <td>170.565000</td>\n",
       "      <td>65.622951</td>\n",
       "      <td>168.497268</td>\n",
       "    </tr>\n",
       "    <tr>\n",
       "      <th>std</th>\n",
       "      <td>13.322817</td>\n",
       "      <td>8.932228</td>\n",
       "      <td>13.776669</td>\n",
       "      <td>9.467048</td>\n",
       "    </tr>\n",
       "    <tr>\n",
       "      <th>min</th>\n",
       "      <td>39.000000</td>\n",
       "      <td>148.000000</td>\n",
       "      <td>41.000000</td>\n",
       "      <td>148.000000</td>\n",
       "    </tr>\n",
       "    <tr>\n",
       "      <th>25%</th>\n",
       "      <td>55.000000</td>\n",
       "      <td>164.000000</td>\n",
       "      <td>55.000000</td>\n",
       "      <td>160.500000</td>\n",
       "    </tr>\n",
       "    <tr>\n",
       "      <th>50%</th>\n",
       "      <td>63.000000</td>\n",
       "      <td>169.500000</td>\n",
       "      <td>63.000000</td>\n",
       "      <td>168.000000</td>\n",
       "    </tr>\n",
       "    <tr>\n",
       "      <th>75%</th>\n",
       "      <td>73.250000</td>\n",
       "      <td>177.250000</td>\n",
       "      <td>73.500000</td>\n",
       "      <td>175.000000</td>\n",
       "    </tr>\n",
       "    <tr>\n",
       "      <th>max</th>\n",
       "      <td>119.000000</td>\n",
       "      <td>197.000000</td>\n",
       "      <td>124.000000</td>\n",
       "      <td>200.000000</td>\n",
       "    </tr>\n",
       "  </tbody>\n",
       "</table>\n",
       "</div>"
      ],
      "text/plain": [
       "           weight      height       repwt       repht\n",
       "count  200.000000  200.000000  183.000000  183.000000\n",
       "mean    65.255000  170.565000   65.622951  168.497268\n",
       "std     13.322817    8.932228   13.776669    9.467048\n",
       "min     39.000000  148.000000   41.000000  148.000000\n",
       "25%     55.000000  164.000000   55.000000  160.500000\n",
       "50%     63.000000  169.500000   63.000000  168.000000\n",
       "75%     73.250000  177.250000   73.500000  175.000000\n",
       "max    119.000000  197.000000  124.000000  200.000000"
      ]
     },
     "execution_count": 151,
     "metadata": {},
     "output_type": "execute_result"
    }
   ],
   "source": [
    "D.describe()"
   ]
  },
  {
   "cell_type": "markdown",
   "metadata": {},
   "source": [
    "У кого из этих учащихся самых большой BMI?"
   ]
  },
  {
   "cell_type": "code",
   "execution_count": 2,
   "metadata": {},
   "outputs": [
    {
     "name": "stdout",
     "output_type": "stream",
     "text": [
      "Populating the interactive namespace from numpy and matplotlib\n"
     ]
    }
   ],
   "source": [
    "%pylab inline"
   ]
  },
  {
   "cell_type": "code",
   "execution_count": 4,
   "metadata": {},
   "outputs": [
    {
     "data": {
      "text/plain": [
       "2535650040.0"
      ]
     },
     "execution_count": 4,
     "metadata": {},
     "output_type": "execute_result"
    }
   ],
   "source": [
    "#http://stackoverflow.com/questions/16003217/n-d-version-of-itertools-combinations-in-numpy\n",
    "from itertools import combinations, chain, permutations\n",
    "from scipy.misc import comb\n",
    "\n",
    "\n",
    "count = comb(200, 5)\n",
    "count"
   ]
  },
  {
   "cell_type": "code",
   "execution_count": 13,
   "metadata": {
    "collapsed": true
   },
   "outputs": [],
   "source": []
  },
  {
   "cell_type": "code",
   "execution_count": 180,
   "metadata": {
    "collapsed": true
   },
   "outputs": [],
   "source": [
    "random.seed()\n",
    "random.seed(777)"
   ]
  },
  {
   "cell_type": "code",
   "execution_count": 181,
   "metadata": {},
   "outputs": [
    {
     "data": {
      "text/plain": [
       "array([[187, 170,  12,  76,  26,  48, 113,  94, 178],\n",
       "       [ 89, 101, 125, 192,   6, 152, 133, 132, 144],\n",
       "       [162,  77, 198,  25, 106, 175, 147,  13, 191],\n",
       "       [158, 118,  45,  33, 111, 114, 126, 143, 163],\n",
       "       [171, 148,  18,  27, 149,  97, 140,  61,  35],\n",
       "       [ 57, 155,  22, 197,  21,  98,  40,   5,   2],\n",
       "       [ 52, 139,  64,  90, 159,  10, 189,  19,   1],\n",
       "       [182, 173, 121, 164,  29,  75,  73, 196,  43],\n",
       "       [ 93,  42,  11, 151,  79, 145, 165,  81, 110],\n",
       "       [161,  96,  55, 194, 112, 134, 129,  49, 102],\n",
       "       [187, 144, 162, 136,  25,  21, 138,  95, 192],\n",
       "       [ 54, 145,  75, 127,  23,  48, 154, 194, 117],\n",
       "       [ 12,  59, 134,  91, 118,  86, 193, 189, 159],\n",
       "       [ 11, 153,  90,   6, 103, 116,  77, 165, 107],\n",
       "       [101, 178,   0,  27,  52,  72,  50, 168, 124],\n",
       "       [161,  36, 150, 146, 105, 110, 169,   7, 128],\n",
       "       [  5,  35, 108,  97,  60, 196, 133,  34,  49],\n",
       "       [ 89,  45,  61,  17,  18, 167,  57, 142,  64],\n",
       "       [ 51,  37, 181, 122, 109,  24,  40, 185, 139],\n",
       "       [  8,  47,  38,  32, 170, 184, 111, 186,  43],\n",
       "       [170,  50, 130,   0,  13, 145, 114,  88,  64],\n",
       "       [107,  86, 148,  98,   6, 176, 184, 140, 128],\n",
       "       [171, 199,   9, 188,   4,   3, 101, 172,  58],\n",
       "       [ 35,  97,  23,  89,  19, 146,  71, 161, 156],\n",
       "       [ 56, 158, 105,  11,  40,  54,  44,  22,  78],\n",
       "       [177,  92,  46, 116,  21,  80,   2,  41,   7],\n",
       "       [  8, 102,  83,  36, 157, 111,  70,  17,  81],\n",
       "       [174, 150,  90,  69, 182,  74, 115, 104,  96],\n",
       "       [134,  25, 198,  53, 103,  91,  24,  73,  47],\n",
       "       [164, 135,  33,  34, 149,  82, 190,  16,  84],\n",
       "       [  8,  41, 153,  73, 124, 166, 184,  43, 140],\n",
       "       [114,  64, 100, 164, 158,  33,  27,  51,  55],\n",
       "       [127,  82,  79,   0, 112,  67,  24,  39,  11],\n",
       "       [143,  58, 177, 174,  70, 125,  28, 136, 149],\n",
       "       [178, 131,  65,  66, 152, 135,  75, 122, 155],\n",
       "       [179, 116, 170, 106,  25, 186, 123, 197,  36],\n",
       "       [141, 168,  16,  32,  83,  69, 110,  13, 193],\n",
       "       [126,  68, 105, 167,  44, 194,  46, 165, 113],\n",
       "       [ 42,  93, 150,  18,  57, 157, 189,  84, 151],\n",
       "       [161,  38,   9,  99,  77,  76,   6, 196,  74]])"
      ]
     },
     "execution_count": 181,
     "metadata": {},
     "output_type": "execute_result"
    }
   ],
   "source": [
    "n=9\n",
    "ii=empty((0,n), dtype=int)\n",
    "for i in range(4):\n",
    "    ii1=random.choice(200, (10,n), False)\n",
    "    ii=vstack((ii,ii1))\n",
    "ii"
   ]
  },
  {
   "cell_type": "code",
   "execution_count": 201,
   "metadata": {},
   "outputs": [
    {
     "data": {
      "text/plain": [
       "(40, 9)"
      ]
     },
     "execution_count": 201,
     "metadata": {},
     "output_type": "execute_result"
    }
   ],
   "source": [
    "ii.shape"
   ]
  },
  {
   "cell_type": "code",
   "execution_count": 183,
   "metadata": {},
   "outputs": [
    {
     "data": {
      "text/html": [
       "<div>\n",
       "<table border=\"1\" class=\"dataframe\">\n",
       "  <thead>\n",
       "    <tr style=\"text-align: right;\">\n",
       "      <th></th>\n",
       "      <th>sex</th>\n",
       "      <th>weight</th>\n",
       "      <th>height</th>\n",
       "    </tr>\n",
       "  </thead>\n",
       "  <tbody>\n",
       "    <tr>\n",
       "      <th>188</th>\n",
       "      <td>F</td>\n",
       "      <td>58</td>\n",
       "      <td>169</td>\n",
       "    </tr>\n",
       "    <tr>\n",
       "      <th>145</th>\n",
       "      <td>F</td>\n",
       "      <td>64</td>\n",
       "      <td>171</td>\n",
       "    </tr>\n",
       "    <tr>\n",
       "      <th>163</th>\n",
       "      <td>F</td>\n",
       "      <td>53</td>\n",
       "      <td>162</td>\n",
       "    </tr>\n",
       "    <tr>\n",
       "      <th>137</th>\n",
       "      <td>F</td>\n",
       "      <td>64</td>\n",
       "      <td>172</td>\n",
       "    </tr>\n",
       "    <tr>\n",
       "      <th>26</th>\n",
       "      <td>F</td>\n",
       "      <td>50</td>\n",
       "      <td>166</td>\n",
       "    </tr>\n",
       "    <tr>\n",
       "      <th>22</th>\n",
       "      <td>F</td>\n",
       "      <td>61</td>\n",
       "      <td>170</td>\n",
       "    </tr>\n",
       "    <tr>\n",
       "      <th>139</th>\n",
       "      <td>M</td>\n",
       "      <td>90</td>\n",
       "      <td>188</td>\n",
       "    </tr>\n",
       "    <tr>\n",
       "      <th>96</th>\n",
       "      <td>F</td>\n",
       "      <td>56</td>\n",
       "      <td>165</td>\n",
       "    </tr>\n",
       "    <tr>\n",
       "      <th>193</th>\n",
       "      <td>F</td>\n",
       "      <td>59</td>\n",
       "      <td>164</td>\n",
       "    </tr>\n",
       "  </tbody>\n",
       "</table>\n",
       "</div>"
      ],
      "text/plain": [
       "    sex  weight  height\n",
       "188   F      58     169\n",
       "145   F      64     171\n",
       "163   F      53     162\n",
       "137   F      64     172\n",
       "26    F      50     166\n",
       "22    F      61     170\n",
       "139   M      90     188\n",
       "96    F      56     165\n",
       "193   F      59     164"
      ]
     },
     "execution_count": 183,
     "metadata": {},
     "output_type": "execute_result"
    }
   ],
   "source": [
    "i=10\n",
    "X=D.iloc[ii[i,:],0:3]\n",
    "X"
   ]
  },
  {
   "cell_type": "code",
   "execution_count": 141,
   "metadata": {},
   "outputs": [
    {
     "data": {
      "text/html": [
       "<div>\n",
       "<table border=\"1\" class=\"dataframe\">\n",
       "  <thead>\n",
       "    <tr style=\"text-align: right;\">\n",
       "      <th></th>\n",
       "      <th>sex</th>\n",
       "      <th>weight</th>\n",
       "      <th>height</th>\n",
       "      <th>BMI</th>\n",
       "      <th>ih</th>\n",
       "      <th>iw</th>\n",
       "    </tr>\n",
       "  </thead>\n",
       "  <tbody>\n",
       "    <tr>\n",
       "      <th>34</th>\n",
       "      <td>F</td>\n",
       "      <td>52</td>\n",
       "      <td>164</td>\n",
       "      <td>19.333730</td>\n",
       "      <td>1.5</td>\n",
       "      <td>1.0</td>\n",
       "    </tr>\n",
       "    <tr>\n",
       "      <th>37</th>\n",
       "      <td>F</td>\n",
       "      <td>56</td>\n",
       "      <td>166</td>\n",
       "      <td>20.322253</td>\n",
       "      <td>3.0</td>\n",
       "      <td>2.0</td>\n",
       "    </tr>\n",
       "    <tr>\n",
       "      <th>125</th>\n",
       "      <td>M</td>\n",
       "      <td>67</td>\n",
       "      <td>179</td>\n",
       "      <td>20.910708</td>\n",
       "      <td>6.0</td>\n",
       "      <td>5.0</td>\n",
       "    </tr>\n",
       "    <tr>\n",
       "      <th>23</th>\n",
       "      <td>M</td>\n",
       "      <td>65</td>\n",
       "      <td>175</td>\n",
       "      <td>21.224490</td>\n",
       "      <td>5.0</td>\n",
       "      <td>4.0</td>\n",
       "    </tr>\n",
       "    <tr>\n",
       "      <th>58</th>\n",
       "      <td>M</td>\n",
       "      <td>73</td>\n",
       "      <td>183</td>\n",
       "      <td>21.798202</td>\n",
       "      <td>7.5</td>\n",
       "      <td>7.0</td>\n",
       "    </tr>\n",
       "    <tr>\n",
       "      <th>195</th>\n",
       "      <td>F</td>\n",
       "      <td>62</td>\n",
       "      <td>164</td>\n",
       "      <td>23.051755</td>\n",
       "      <td>1.5</td>\n",
       "      <td>3.0</td>\n",
       "    </tr>\n",
       "    <tr>\n",
       "      <th>44</th>\n",
       "      <td>M</td>\n",
       "      <td>78</td>\n",
       "      <td>183</td>\n",
       "      <td>23.291230</td>\n",
       "      <td>7.5</td>\n",
       "      <td>8.0</td>\n",
       "    </tr>\n",
       "    <tr>\n",
       "      <th>91</th>\n",
       "      <td>M</td>\n",
       "      <td>70</td>\n",
       "      <td>173</td>\n",
       "      <td>23.388687</td>\n",
       "      <td>4.0</td>\n",
       "      <td>6.0</td>\n",
       "    </tr>\n",
       "    <tr>\n",
       "      <th>95</th>\n",
       "      <td>M</td>\n",
       "      <td>88</td>\n",
       "      <td>189</td>\n",
       "      <td>24.635369</td>\n",
       "      <td>9.0</td>\n",
       "      <td>9.0</td>\n",
       "    </tr>\n",
       "  </tbody>\n",
       "</table>\n",
       "</div>"
      ],
      "text/plain": [
       "    sex  weight  height        BMI   ih   iw\n",
       "34    F      52     164  19.333730  1.5  1.0\n",
       "37    F      56     166  20.322253  3.0  2.0\n",
       "125   M      67     179  20.910708  6.0  5.0\n",
       "23    M      65     175  21.224490  5.0  4.0\n",
       "58    M      73     183  21.798202  7.5  7.0\n",
       "195   F      62     164  23.051755  1.5  3.0\n",
       "44    M      78     183  23.291230  7.5  8.0\n",
       "91    M      70     173  23.388687  4.0  6.0\n",
       "95    M      88     189  24.635369  9.0  9.0"
      ]
     },
     "execution_count": 141,
     "metadata": {},
     "output_type": "execute_result"
    }
   ],
   "source": [
    "X['BMI'] = X.weight/(X.height/100)**2\n",
    "X=X.sort_values('BMI')\n",
    "X=X.assign(ih= X.height.rank(), iw= X.weight.rank())\n",
    "X"
   ]
  },
  {
   "cell_type": "code",
   "execution_count": 188,
   "metadata": {},
   "outputs": [
    {
     "name": "stdout",
     "output_type": "stream",
     "text": [
      "самый увесистый юноша\n"
     ]
    }
   ],
   "source": [
    "def _desc(r, n=9):\n",
    "    _s,_ij,_yj,_j=('девушка','aя','aя','я') if r.sex=='F' else ('юноша','ий','ый','й')\n",
    "    _X= X[X.sex==r.sex]\n",
    "    _n=_X.shape[0]\n",
    "    ih= _X.height.rank()\n",
    "    iw= _X.weight.rank()\n",
    "    _r = ((ih[r.name]==1) and ('сам{} маленьк{} по росту'.format(_yj,_ij)) or \n",
    "          (iw[r.name]==1) and ('сам{} легк{} по весу'.format(_yj,_ij)) or\n",
    "          (ih[r.name]==_n) and ('сам{} высок{} по росту'.format(_yj,_ij)) or \n",
    "          (iw[r.name]==_n) and ('сам{} увесист{}'.format(_yj,_yj)) or \n",
    "          (not ih[r.name]%1.0) and ('{:.0f}-{} по росту'.format(_n+1-ih[r.name],_j)) or\n",
    "          (not iw[r.name]%1.0) and ('{:.0f}-{} по весу'.format(_n+1-iw[r.name],_j)) or\n",
    "          'как{0}-то друг{0}'.format(_yj.replace('ы','o'))\n",
    "         )\n",
    "#     print(r.name),\n",
    "#     print(_X)\n",
    "    return _r and '{} {}'.format(_r, _s)\n",
    "\n",
    "print(_desc(X.iloc[8]))\n"
   ]
  },
  {
   "cell_type": "code",
   "execution_count": 132,
   "metadata": {},
   "outputs": [
    {
     "data": {
      "text/html": [
       "<div>\n",
       "<table border=\"1\" class=\"dataframe\">\n",
       "  <thead>\n",
       "    <tr style=\"text-align: right;\">\n",
       "      <th></th>\n",
       "      <th>sex</th>\n",
       "      <th>weight</th>\n",
       "      <th>height</th>\n",
       "      <th>BMI</th>\n",
       "      <th>ih</th>\n",
       "      <th>iw</th>\n",
       "    </tr>\n",
       "  </thead>\n",
       "  <tbody>\n",
       "    <tr>\n",
       "      <th>103</th>\n",
       "      <td>F</td>\n",
       "      <td>47</td>\n",
       "      <td>163</td>\n",
       "      <td>17.689789</td>\n",
       "      <td>3.0</td>\n",
       "      <td>1.5</td>\n",
       "    </tr>\n",
       "    <tr>\n",
       "      <th>87</th>\n",
       "      <td>M</td>\n",
       "      <td>62</td>\n",
       "      <td>178</td>\n",
       "      <td>19.568236</td>\n",
       "      <td>8.0</td>\n",
       "      <td>5.5</td>\n",
       "    </tr>\n",
       "    <tr>\n",
       "      <th>59</th>\n",
       "      <td>M</td>\n",
       "      <td>75</td>\n",
       "      <td>172</td>\n",
       "      <td>25.351541</td>\n",
       "      <td>4.5</td>\n",
       "      <td>9.0</td>\n",
       "    </tr>\n",
       "    <tr>\n",
       "      <th>127</th>\n",
       "      <td>F</td>\n",
       "      <td>47</td>\n",
       "      <td>153</td>\n",
       "      <td>20.077748</td>\n",
       "      <td>1.0</td>\n",
       "      <td>1.5</td>\n",
       "    </tr>\n",
       "  </tbody>\n",
       "</table>\n",
       "</div>"
      ],
      "text/plain": [
       "    sex  weight  height        BMI   ih   iw\n",
       "103   F      47     163  17.689789  3.0  1.5\n",
       "87    M      62     178  19.568236  8.0  5.5\n",
       "59    M      75     172  25.351541  4.5  9.0\n",
       "127   F      47     153  20.077748  1.0  1.5"
      ]
     },
     "execution_count": 132,
     "metadata": {},
     "output_type": "execute_result"
    }
   ],
   "source": [
    "X.iloc[ii]"
   ]
  },
  {
   "cell_type": "code",
   "execution_count": 207,
   "metadata": {},
   "outputs": [
    {
     "data": {
      "text/html": [
       "<div>\n",
       "<table border=\"1\" class=\"dataframe\">\n",
       "  <thead>\n",
       "    <tr style=\"text-align: right;\">\n",
       "      <th></th>\n",
       "      <th>sex</th>\n",
       "      <th>weight</th>\n",
       "      <th>height</th>\n",
       "      <th>BMI</th>\n",
       "    </tr>\n",
       "  </thead>\n",
       "  <tbody>\n",
       "    <tr>\n",
       "      <th>75</th>\n",
       "      <td>F</td>\n",
       "      <td>50</td>\n",
       "      <td>166</td>\n",
       "      <td>18.144869</td>\n",
       "    </tr>\n",
       "    <tr>\n",
       "      <th>77</th>\n",
       "      <td>F</td>\n",
       "      <td>50</td>\n",
       "      <td>160</td>\n",
       "      <td>19.531250</td>\n",
       "    </tr>\n",
       "    <tr>\n",
       "      <th>162</th>\n",
       "      <td>F</td>\n",
       "      <td>54</td>\n",
       "      <td>161</td>\n",
       "      <td>20.832530</td>\n",
       "    </tr>\n",
       "    <tr>\n",
       "      <th>10</th>\n",
       "      <td>M</td>\n",
       "      <td>65</td>\n",
       "      <td>171</td>\n",
       "      <td>22.229062</td>\n",
       "    </tr>\n",
       "    <tr>\n",
       "      <th>100</th>\n",
       "      <td>F</td>\n",
       "      <td>55</td>\n",
       "      <td>155</td>\n",
       "      <td>22.892820</td>\n",
       "    </tr>\n",
       "    <tr>\n",
       "      <th>78</th>\n",
       "      <td>F</td>\n",
       "      <td>63</td>\n",
       "      <td>160</td>\n",
       "      <td>24.609375</td>\n",
       "    </tr>\n",
       "    <tr>\n",
       "      <th>197</th>\n",
       "      <td>M</td>\n",
       "      <td>83</td>\n",
       "      <td>180</td>\n",
       "      <td>25.617284</td>\n",
       "    </tr>\n",
       "    <tr>\n",
       "      <th>7</th>\n",
       "      <td>M</td>\n",
       "      <td>76</td>\n",
       "      <td>167</td>\n",
       "      <td>27.250887</td>\n",
       "    </tr>\n",
       "    <tr>\n",
       "      <th>39</th>\n",
       "      <td>M</td>\n",
       "      <td>88</td>\n",
       "      <td>178</td>\n",
       "      <td>27.774271</td>\n",
       "    </tr>\n",
       "  </tbody>\n",
       "</table>\n",
       "</div>"
      ],
      "text/plain": [
       "    sex  weight  height        BMI\n",
       "75    F      50     166  18.144869\n",
       "77    F      50     160  19.531250\n",
       "162   F      54     161  20.832530\n",
       "10    M      65     171  22.229062\n",
       "100   F      55     155  22.892820\n",
       "78    F      63     160  24.609375\n",
       "197   M      83     180  25.617284\n",
       "7     M      76     167  27.250887\n",
       "39    M      88     178  27.774271"
      ]
     },
     "execution_count": 207,
     "metadata": {},
     "output_type": "execute_result"
    }
   ],
   "source": [
    "X"
   ]
  },
  {
   "cell_type": "code",
   "execution_count": 208,
   "metadata": {},
   "outputs": [
    {
     "name": "stdout",
     "output_type": "stream",
     "text": [
      "::Q1:: Посчитайте у кого в подгруппе студентов самый маленький BMI?\n",
      "<br>\n",
      "<table border=\"1\" class=\"dataframe\">\n",
      "  <thead>\n",
      "    <tr style=\"text-align: right;\">\n",
      "      <th>sex</th>\n",
      "      <th>m, kg</th>\n",
      "      <th>h, cm</th>\n",
      "    </tr>\n",
      "  </thead>\n",
      "  <tbody>\n",
      "    <tr>\n",
      "      <td>M</td>\n",
      "      <td>88</td>\n",
      "      <td>178</td>\n",
      "    </tr>\n",
      "    <tr>\n",
      "      <td>F</td>\n",
      "      <td>54</td>\n",
      "      <td>161</td>\n",
      "    </tr>\n",
      "    <tr>\n",
      "      <td>F</td>\n",
      "      <td>63</td>\n",
      "      <td>160</td>\n",
      "    </tr>\n",
      "    <tr>\n",
      "      <td>F</td>\n",
      "      <td>50</td>\n",
      "      <td>166</td>\n",
      "    </tr>\n",
      "    <tr>\n",
      "      <td>M</td>\n",
      "      <td>76</td>\n",
      "      <td>167</td>\n",
      "    </tr>\n",
      "    <tr>\n",
      "      <td>M</td>\n",
      "      <td>83</td>\n",
      "      <td>180</td>\n",
      "    </tr>\n",
      "    <tr>\n",
      "      <td>F</td>\n",
      "      <td>55</td>\n",
      "      <td>155</td>\n",
      "    </tr>\n",
      "    <tr>\n",
      "      <td>M</td>\n",
      "      <td>65</td>\n",
      "      <td>171</td>\n",
      "    </tr>\n",
      "    <tr>\n",
      "      <td>F</td>\n",
      "      <td>50</td>\n",
      "      <td>160</td>\n",
      "    </tr>\n",
      "  </tbody>\n",
      "</table>\n",
      "{\n",
      "=самaя высокaя по росту девушка#Правильно!\n",
      "~самый маленький по росту юноша#Не угадали.\n",
      "~самaя увесистaя девушка#Не у этого.\n",
      "~самый легкий по весу юноша#Есть постройнее.\n",
      "}    \n"
     ]
    }
   ],
   "source": [
    "def _q(X, title='Q', i=1):\n",
    "    \n",
    "    ii=random.choice(arange(1,X.shape[0]),3, replace=False)\n",
    "    ii=hstack([0,ii])\n",
    "    _a=X.iloc[ii].apply(_desc, axis=1).tolist()\n",
    "\n",
    "    table1 = X.iloc[random.permutation(X.shape[0],)].rename(columns={\"weight\": \"m, kg\", \"height\": \"h, cm\"}).to_html(index=False,escape=False, columns=[\"sex\",\"m, kg\", \"h, cm\"])\n",
    "    # print(table1)\n",
    "\n",
    "    s='''::{}{}:: Посчитайте у кого в подгруппе студентов самый маленький BMI?\n",
    "<br>\n",
    "{}\n",
    "{{\n",
    "={}#Правильно!\n",
    "~{}#Не угадали.\n",
    "~{}#Не у этого.\n",
    "~{}#Есть постройнее.\n",
    "}}    '''.format(title, i, table1,_a[0],_a[1],_a[2],_a[3])\n",
    "    return(s)\n",
    "print(_q(X))"
   ]
  },
  {
   "cell_type": "code",
   "execution_count": 209,
   "metadata": {},
   "outputs": [
    {
     "data": {
      "text/plain": [
       "43883"
      ]
     },
     "execution_count": 209,
     "metadata": {},
     "output_type": "execute_result"
    }
   ],
   "source": [
    "#production\n",
    "s='//As_calc_bmi'\n",
    "s+='''\\n\\n$CATEGORY: calc_bmi\\n\\n'''\n",
    "for i in arange(ii.shape[0]):\n",
    "    X=D.iloc[ii[i,:],0:3]\n",
    "    X['BMI'] = X.weight/(X.height/100)**2\n",
    "    X=X.sort_values('BMI')\n",
    "    s+=(_q(X, 'BMI', i+1))+'\\n\\n'\n",
    "    \n",
    "len(s)"
   ]
  },
  {
   "cell_type": "code",
   "execution_count": 210,
   "metadata": {},
   "outputs": [],
   "source": [
    "with open('bmi.gift.txt','wt') as f:\n",
    "    f.write(s)"
   ]
  },
  {
   "cell_type": "code",
   "execution_count": null,
   "metadata": {
    "collapsed": true
   },
   "outputs": [],
   "source": []
  }
 ],
 "metadata": {
  "kernelspec": {
   "display_name": "Python 2",
   "language": "python",
   "name": "python2"
  },
  "language_info": {
   "codemirror_mode": {
    "name": "ipython",
    "version": 2
   },
   "file_extension": ".py",
   "mimetype": "text/x-python",
   "name": "python",
   "nbconvert_exporter": "python",
   "pygments_lexer": "ipython2",
   "version": "2.7.9"
  },
  "toc": {
   "colors": {
    "hover_highlight": "#DAA520",
    "running_highlight": "#FF0000",
    "selected_highlight": "#FFD700"
   },
   "moveMenuLeft": true,
   "nav_menu": {
    "height": "31px",
    "width": "252px"
   },
   "navigate_menu": true,
   "number_sections": false,
   "sideBar": true,
   "threshold": 4,
   "toc_cell": false,
   "toc_section_display": "block",
   "toc_window_display": false
  }
 },
 "nbformat": 4,
 "nbformat_minor": 1
}
