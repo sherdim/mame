{
 "cells": [
  {
   "cell_type": "markdown",
   "metadata": {},
   "source": [
    "# Освоение программной среды"
   ]
  },
  {
   "cell_type": "markdown",
   "metadata": {},
   "source": [
    "### Практикум\n",
    "\n",
    "Для самостоятельного освоения языка проработайте следующие блокноты: \n",
    "\n",
    "- [Операторы языка Python](Task_py_operator.ipynb)\n",
    "- [Типы данных](Task_py_types.ipynb)\n",
    "- [Ячейки с разметкой Markdown. Заголовки. Ссылки.](Task_ipynb_definition.ipynb)\n",
    "- [Определение функции](Task_py_def.ipynb) + iris_petal_sepal.png\n",
    "- [Заимствование кода](Task_ipynb_example.ipynb)\n",
    "- [Клавиатурные команды и приемы просмотра значений переменных](Task_ipynb_keyboard.ipynb)\n",
    "- [Полезные советы по создании блокнотов.](Task_ipynb_tips.ipynb)"
   ]
  }
 ],
 "metadata": {
  "kernelspec": {
   "display_name": "Python 3",
   "language": "python",
   "name": "python3"
  },
  "language_info": {
   "codemirror_mode": {
    "name": "ipython",
    "version": 3
   },
   "file_extension": ".py",
   "mimetype": "text/x-python",
   "name": "python",
   "nbconvert_exporter": "python",
   "pygments_lexer": "ipython3",
   "version": "3.5.2"
  },
  "toc": {
   "base_numbering": 1,
   "nav_menu": {
    "height": "345px",
    "width": "252px"
   },
   "number_sections": false,
   "sideBar": false,
   "skip_h1_title": false,
   "title_cell": "Table of Contents",
   "title_sidebar": "Contents",
   "toc_cell": false,
   "toc_position": {
    "height": "599px",
    "left": "1px",
    "right": "800px",
    "top": "107px",
    "width": "190px"
   },
   "toc_section_display": false,
   "toc_window_display": false
  }
 },
 "nbformat": 4,
 "nbformat_minor": 1
}
