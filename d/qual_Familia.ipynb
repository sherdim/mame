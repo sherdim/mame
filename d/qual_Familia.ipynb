{
 "cells": [
  {
   "cell_type": "markdown",
   "metadata": {},
   "source": [
    "# Заготовка для работы Оценка качества"
   ]
  },
  {
   "cell_type": "markdown",
   "metadata": {},
   "source": [
    "импортируем библиотеки"
   ]
  },
  {
   "cell_type": "code",
   "execution_count": null,
   "metadata": {},
   "outputs": [],
   "source": [
    "%pylab inline\n",
    "from ipywidgets import interact\n",
    "import pandas as pd\n",
    "import seaborn as sns"
   ]
  },
  {
   "cell_type": "markdown",
   "metadata": {},
   "source": [
    "## 1. Загрузка данных"
   ]
  },
  {
   "cell_type": "markdown",
   "metadata": {},
   "source": [
    "> *опишите источник данных. информация по скольким объектам содержится в файле?*"
   ]
  },
  {
   "cell_type": "code",
   "execution_count": null,
   "metadata": {},
   "outputs": [],
   "source": [
    "u = 'http://uskor.stireac.com/result.tsv/slepova.tamara%40mail.ru/178.155.4.92__3219165950000190320'\n",
    "# u = 'm__178.155.4.92__3219165950000190320.tsv'\n",
    "\n",
    "M = pd.read_table(u)\n",
    "M.info()"
   ]
  },
  {
   "cell_type": "markdown",
   "metadata": {},
   "source": [
    "Нажатия левой и правой рукой закодированы в виде чисел 70 и 74, а отжатия - в виде этих же чисел с отрицательным знаком.\n",
    "Для выявления скорости и порядка достаточно найти эти маркеры в пределах одного этапа."
   ]
  },
  {
   "cell_type": "code",
   "execution_count": null,
   "metadata": {},
   "outputs": [],
   "source": [
    "scancode_hand = {70:'L', 74:'R'}\n",
    "hand_color = {'L':'red', 'R':'blue'}\n",
    "\n",
    "S = pd.DataFrame([\n",
    "    '0',\n",
    "    '1',\n",
    "    '01',\n",
    "    '10',\n",
    "    '0001',\n",
    "    '1000',\n",
    "         ], columns=['Паттерн'])\n",
    "S.index+=1\n",
    "S.index.name = 'Этап'\n",
    "S['Условие'] = list(map(lambda n: ((n<=2) and 'одна рука') or ((n<=4) and 'поочередно') or 'паттерн', S.index ))\n",
    "\n",
    "# нулевые значения для последующих подсчётов\n",
    "S['L']=0\n",
    "S['R']=0\n",
    "S['Скорость в начале, Гц'] = 1.0\n",
    "S['Скорость в конце, Гц'] = 5.0\n",
    "S['Паттерны'] = 0\n",
    "S['Ошибки паттернов'] = 0\n",
    "\n",
    "S"
   ]
  },
  {
   "cell_type": "markdown",
   "metadata": {},
   "source": [
    "## Качество этапа 1"
   ]
  },
  {
   "cell_type": "markdown",
   "metadata": {},
   "source": [
    "> Отберите данные для первого этапа. Оцените качество."
   ]
  },
  {
   "cell_type": "markdown",
   "metadata": {},
   "source": [
    "## Качество этапа 2"
   ]
  },
  {
   "cell_type": "markdown",
   "metadata": {},
   "source": [
    "> Отберите данные для первого этапа. Оцените качество."
   ]
  },
  {
   "cell_type": "markdown",
   "metadata": {},
   "source": [
    "## ..."
   ]
  },
  {
   "cell_type": "code",
   "execution_count": null,
   "metadata": {},
   "outputs": [],
   "source": [
    "ietap = 3\n",
    "\n",
    "# Заносить данные в таблицу можно по одному значению.\n",
    "S.loc[3, 'Скорость в начале, Гц'] = 0.9\n",
    "\n",
    "# Заносить данные в таблицу можно по несколько значений.\n",
    "S.loc[3, ['L','R']] = 10, 11\n",
    "\n",
    "# В конце ячейки можно вывести одну строчку из таблицы\n",
    "S.loc[3]"
   ]
  },
  {
   "cell_type": "markdown",
   "metadata": {},
   "source": [
    "## Оценки качества"
   ]
  },
  {
   "cell_type": "markdown",
   "metadata": {},
   "source": [
    "> Создайте как минимум три критерия Q1, Q2, ...  со значениями от 0 до 1."
   ]
  },
  {
   "cell_type": "code",
   "execution_count": null,
   "metadata": {},
   "outputs": [],
   "source": [
    "# Бинарный показатель\n",
    "S['Q1'] = ((S['Скорость в начале, Гц'] > 0.5) & (S['Скорость в начале, Гц'] < 1.5)) + 0.0\n",
    "\n",
    "S.Q1"
   ]
  },
  {
   "cell_type": "code",
   "execution_count": null,
   "metadata": {},
   "outputs": [],
   "source": [
    "# Изменяемый показатель\n",
    "S['Q1'] = abs(S['Скорость в начале, Гц'] - 1.0) / 0.5 \n",
    "\n",
    "S.Q1"
   ]
  },
  {
   "cell_type": "markdown",
   "metadata": {},
   "source": [
    "   \n",
    "> Рассчитайте Итоговое качество Q как произведение всем соответствия критериям."
   ]
  },
  {
   "cell_type": "markdown",
   "metadata": {},
   "source": [
    ">  Рассчитайте Условное качество K как взвешенную сумму соответствия критериям."
   ]
  },
  {
   "cell_type": "markdown",
   "metadata": {},
   "source": [
    "## Выводы"
   ]
  },
  {
   "cell_type": "markdown",
   "metadata": {},
   "source": [
    ">    Расчитайте среднее качество по группе объектов.\n",
    "\n",
    ">  Сделайте вывод о качестве пакета заданий в целом."
   ]
  },
  {
   "cell_type": "markdown",
   "metadata": {},
   "source": [
    "> # _Критерии оценки_\n",
    "> Критерии оценивания за расчетно-графическую работу (баллов):\n",
    "- работа сдана в правильном формате +30\n",
    "- работа сдана в форме реферата +10\n",
    "- название не по шаблону -1\n",
    "- не убраны инструкции и комментарии в конце строчек кода -5\n",
    "- не везде комментарии, нет выводов -5\n",
    "- не обоснован выбор параметров  -5\n",
    "- источник данных не соответствует требованиям -5\n",
    "- некорректное суждение при ответе на вопрос -2 за каждое "
   ]
  }
 ],
 "metadata": {
  "kernelspec": {
   "display_name": "Python 3",
   "language": "python",
   "name": "python3"
  },
  "language_info": {
   "codemirror_mode": {
    "name": "ipython",
    "version": 3
   },
   "file_extension": ".py",
   "mimetype": "text/x-python",
   "name": "python",
   "nbconvert_exporter": "python",
   "pygments_lexer": "ipython3",
   "version": "3.9.0rc1"
  },
  "toc": {
   "base_numbering": 1,
   "nav_menu": {},
   "number_sections": false,
   "sideBar": true,
   "skip_h1_title": false,
   "title_cell": "Table of Contents",
   "title_sidebar": "Contents",
   "toc_cell": false,
   "toc_position": {},
   "toc_section_display": true,
   "toc_window_display": false
  }
 },
 "nbformat": 4,
 "nbformat_minor": 4
}
