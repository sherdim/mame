{
 "cells": [
  {
   "cell_type": "markdown",
   "metadata": {},
   "source": [
    "# Визуализация сезонных колебаний"
   ]
  },
  {
   "cell_type": "markdown",
   "metadata": {},
   "source": [
    "На [странице](http://berkeleyearth.lbl.gov/stations/169045), откуда взят источник данных об истории измерений в метеостанции Ростова-на-Дону, предложены классические графики с динамикой колебаний вдоль одной оси времени.\n",
    "\n",
    "Так как в дате содержится и год и месяц - мы можем визуализировать временной ряд в двух временных осях без вычисления каких-либо моделей."
   ]
  },
  {
   "cell_type": "code",
   "execution_count": null,
   "metadata": {},
   "outputs": [],
   "source": [
    "%pylab inline\n",
    "import pandas as pd\n",
    "import seaborn as sns"
   ]
  },
  {
   "cell_type": "markdown",
   "metadata": {},
   "source": [
    "Поскольку информация о колонках указана в комментариях, то мы при импорте данных в таблицу указываем параметры\n",
    "- без заголовков ( `header=None,` )\n",
    "- свой перечень кратких имен (`names=[...]`)"
   ]
  },
  {
   "cell_type": "code",
   "execution_count": null,
   "metadata": {},
   "outputs": [],
   "source": [
    "#                   Raw Data           QC    Continuity     Adjusted Data      Regional Expectation\n",
    "# Year, Month, Temperature, Anomaly, Failed,   Breaks,   Temperature, Anomaly, Temperature, Anomaly\n",
    "\n",
    "# u='http://berkeleyearth.lbl.gov/auto/Stations/TAVG/Text/169045-TAVG-Data.txt'\n",
    "u='169045-TAVG-Data.txt'\n",
    "D = pd.read_csv(u, delim_whitespace=' ',  comment='%', header=None,\n",
    "                 names='year month v0 dv0 q br v dv reg dreg'.split())\n",
    "D.tail()"
   ]
  },
  {
   "cell_type": "markdown",
   "metadata": {},
   "source": [
    "Как мы видим, данные обрываются на дате 2013-11. В 19-м веке сбор данных также был нерегулярным. Поэтому для целей визуализации отберем колонку \"Выверенные температурные данные\" за 100 лет."
   ]
  },
  {
   "cell_type": "code",
   "execution_count": null,
   "metadata": {},
   "outputs": [],
   "source": [
    "X = D.loc[D.year>1912, ['year','month','v']]\n",
    "X.head()"
   ]
  },
  {
   "cell_type": "markdown",
   "metadata": {},
   "source": [
    "Готовим названия месяцев (для красоты)"
   ]
  },
  {
   "cell_type": "code",
   "execution_count": null,
   "metadata": {},
   "outputs": [],
   "source": [
    "locale.LC_TIME"
   ]
  },
  {
   "cell_type": "code",
   "execution_count": null,
   "metadata": {},
   "outputs": [],
   "source": [
    "# так можно получить готовый список 3-буквенных названий месяцев на английском\n",
    "# momo = pd.tseries.frequencies.MONTHS\n",
    "# momo = list(map(str.capitalize, momo))\n",
    "\n",
    "# а так мы получим локализованные названия\n",
    "import locale\n",
    "locale.setlocale(locale.LC_TIME, '')\n",
    "momo=[datetime.datetime(2016,i,1).strftime('%b') for i in arange(1,13)]\n",
    "print(' '.join(momo))"
   ]
  },
  {
   "cell_type": "markdown",
   "metadata": {},
   "source": [
    "Группируя по году и месяцу, мы создаем двойной индекс, который методом `unstack()` разделяем на индекс строк и индекс колонок, получая таким образом широкую таблицу."
   ]
  },
  {
   "cell_type": "code",
   "execution_count": null,
   "metadata": {},
   "outputs": [],
   "source": [
    "W = X[[\"year\", \"month\", \"v\"]].groupby(by=[\"year\", \"month\"]).max().unstack()\n",
    "W.columns=momo\n",
    "W.head()"
   ]
  },
  {
   "cell_type": "code",
   "execution_count": null,
   "metadata": {},
   "outputs": [],
   "source": [
    "figure(figsize=(12, 8))\n",
    "sns.heatmap(W, yticklabels=8, cmap=\"coolwarm\")\n",
    "xlabel('месяц'); ylabel('год'); title('Среднемесячная температура'); "
   ]
  },
  {
   "cell_type": "markdown",
   "metadata": {},
   "source": [
    "Обратите внимание:\n",
    "- параметр `yticklabels` задает интервал между отметками по оси, чтобы метки не наезжали друг на друга\n",
    "- дивергентная цветовая карта позволяет сосредоточиться на особо жарких и холодных месяцах.\n",
    "- зимой 1941-го и во время оккупации данные не собирались"
   ]
  },
  {
   "cell_type": "markdown",
   "metadata": {},
   "source": [
    "Если у нас стоит задача заполнить недостающие данные или спрогнозировать колебания в будущем, то в условиях стабильных предсказуемых циклов, какими являются сезонными, хороший результат дают средние значения для той же фазы цикла. \n",
    "\n",
    "В данном наборе данных для прогнозирования температуры в августе в будущем году или заполнения пропуска в 1941 году можно взять среднюю температуру в августе."
   ]
  },
  {
   "cell_type": "markdown",
   "metadata": {},
   "source": [
    "## Оценка аномалий\n",
    "\n",
    "В наборе данных есть колонка, показывающая насколько текущее значение отклоняется от ожидаемого, т.е. показывает аномальность температуры в этом месяце."
   ]
  },
  {
   "cell_type": "code",
   "execution_count": null,
   "metadata": {},
   "outputs": [],
   "source": [
    "figure(figsize=(12, 8))\n",
    "W_anomal = D.loc[D.year>1912,[\"year\", \"month\", \"dv\"]].groupby(by=[\"year\", \"month\"]).max().unstack() #делаем широкую таблицу\n",
    "W_anomal.columns=momo\n",
    "sns.heatmap(W_anomal, yticklabels=8, cmap=\"coolwarm\")\n",
    "xlabel('месяц'); ylabel('год'); title('Аномалия в температуре'); "
   ]
  },
  {
   "cell_type": "markdown",
   "metadata": {},
   "source": [
    "Сравним аномальность из таблицы с отклонением значений от среднего."
   ]
  },
  {
   "cell_type": "code",
   "execution_count": null,
   "metadata": {},
   "outputs": [],
   "source": [
    "W_dev = W - W.mean()\n",
    "sns.heatmap(W_dev, yticklabels=8, cmap=\"coolwarm\")\n",
    "xlabel('месяц'); ylabel('год'); title('Отклонение от среднего'); "
   ]
  },
  {
   "cell_type": "markdown",
   "metadata": {},
   "source": [
    "По идентичности рисунков становится понятно, что \"аномальность\" именно так и рассчитали. Небольшие расхождения в нашем примере связаны с тем, что мы взяли среднее не за всю историю наблюдений, а за 100 лет."
   ]
  },
  {
   "cell_type": "markdown",
   "metadata": {},
   "source": [
    "> Обратите внимание, что в зимние месяцы температура нестабильна из года в год."
   ]
  },
  {
   "cell_type": "code",
   "execution_count": null,
   "metadata": {},
   "outputs": [],
   "source": [
    "W.std().plot(kind='bar', title='Вариативность среднемесячных температур в течение года');"
   ]
  },
  {
   "cell_type": "markdown",
   "metadata": {},
   "source": [
    "В данном блокноте продемонстрированы приемы:\n",
    "- двумерной цветовой визуализации\n",
    "- создания и настройки подписей осей\n",
    "- загрузки данных из сети с переопределением имен переменных"
   ]
  }
 ],
 "metadata": {
  "kernelspec": {
   "display_name": "Python 3",
   "language": "python",
   "name": "python3"
  },
  "language_info": {
   "codemirror_mode": {
    "name": "ipython",
    "version": 3
   },
   "file_extension": ".py",
   "mimetype": "text/x-python",
   "name": "python",
   "nbconvert_exporter": "python",
   "pygments_lexer": "ipython3",
   "version": "3.9.0rc1"
  },
  "toc": {
   "base_numbering": 1,
   "nav_menu": {
    "height": "49px",
    "width": "252px"
   },
   "number_sections": false,
   "sideBar": true,
   "skip_h1_title": false,
   "title_cell": "Table of Contents",
   "title_sidebar": "Contents",
   "toc_cell": false,
   "toc_position": {},
   "toc_section_display": "block",
   "toc_window_display": false
  }
 },
 "nbformat": 4,
 "nbformat_minor": 4
}
