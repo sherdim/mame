{
 "cells": [
  {
   "cell_type": "markdown",
   "metadata": {},
   "source": [
    "радиальная симметрия\n",
    "\n",
    "подсчитать количество лепестков.\n",
    "\n",
    "http://www.plantarium.ru/page/image/id/474751.html"
   ]
  },
  {
   "cell_type": "markdown",
   "metadata": {},
   "source": [
    "http://www.plantarium.ru/page/image/id/427352.html\n",
    "ошибки - тень\n"
   ]
  },
  {
   "cell_type": "markdown",
   "metadata": {},
   "source": [
    "Проверьте работу алгоритма на других образцах:\n",
    "\n",
    "http://www.plantarium.ru/page/image/id/226423.html\n",
    "http://www.plantarium.ru/page/image/id/474750.html\n",
    "http://www.plantarium.ru/page/image/id/477074.html\n",
    "http://www.plantarium.ru/page/image/id/426219.html\n",
    "http://www.plantarium.ru/page/image/id/57850.html"
   ]
  },
  {
   "cell_type": "code",
   "execution_count": null,
   "metadata": {
    "collapsed": true
   },
   "outputs": [],
   "source": [
    "# http://www.plantarium.ru/page/image/id/470086.html"
   ]
  }
 ],
 "metadata": {
  "kernelspec": {
   "display_name": "Python 2",
   "language": "python",
   "name": "python2"
  },
  "language_info": {
   "codemirror_mode": {
    "name": "ipython",
    "version": 2
   },
   "file_extension": ".py",
   "mimetype": "text/x-python",
   "name": "python",
   "nbconvert_exporter": "python",
   "pygments_lexer": "ipython2",
   "version": "2.7.11"
  }
 },
 "nbformat": 4,
 "nbformat_minor": 0
}
