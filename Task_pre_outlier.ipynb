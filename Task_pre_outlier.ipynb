{
 "cells": [
  {
   "cell_type": "code",
   "execution_count": null,
   "metadata": {
    "collapsed": true
   },
   "outputs": [],
   "source": [
    "brain.csv"
   ]
  },
  {
   "cell_type": "markdown",
   "metadata": {},
   "source": [
    "classical Mahalanobis distance"
   ]
  },
  {
   "cell_type": "code",
   "execution_count": null,
   "metadata": {
    "collapsed": true
   },
   "outputs": [],
   "source": [
    "data(Animals2)\n",
    "## Sensible Plot needs doubly logarithmic scale\n",
    "plot(Animals2, log = \"xy\")\n",
    "\n",
    "## Regression example plot:\n",
    "plotbb <- function(bbdat) {\n",
    "  d.name <- deparse(substitute(bbdat))\n",
    "  plot(log(brain) ~ log(body), data = bbdat, main = d.name)\n",
    "  abline(       lm(log(brain) ~ log(body), data = bbdat))\n",
    "  abline(MASS::rlm(log(brain) ~ log(body), data = bbdat), col = 2)\n",
    "  legend(\"bottomright\", leg = c(\"lm\", \"rlm\"), col=1:2, lwd=1, inset = 1/20)\n",
    "}\n",
    "plotbb(bbdat = Animals2)\n",
    "\n",
    "## The `same' plot for Rousseeuw's subset:\n",
    "data(Animals, package = \"MASS\")\n",
    "brain <- Animals[c(1:24, 26:25, 27:28),]\n",
    "plotbb(bbdat = brain)\n",
    "\n",
    "lbrain <- log(brain)\n",
    "plot(mahalanobis(lbrain, colMeans(lbrain), var(lbrain)),\n",
    "     main = \"Classical Mahalanobis Distances\")\n",
    "mcd <- covMcd(lbrain)\n",
    "plot(mahalanobis(lbrain,mcd$center,mcd$cov),\n",
    "     main = \"Robust (MCD) Mahalanobis Distances\")"
   ]
  }
 ],
 "metadata": {
  "kernelspec": {
   "display_name": "Python 2",
   "language": "python",
   "name": "python2"
  },
  "language_info": {
   "codemirror_mode": {
    "name": "ipython",
    "version": 2
   },
   "file_extension": ".py",
   "mimetype": "text/x-python",
   "name": "python",
   "nbconvert_exporter": "python",
   "pygments_lexer": "ipython2",
   "version": "2.7.11"
  },
  "toc": {
   "base_numbering": 1,
   "nav_menu": {
    "height": "12px",
    "width": "252px"
   },
   "number_sections": false,
   "sideBar": true,
   "skip_h1_title": false,
   "title_cell": "Table of Contents",
   "title_sidebar": "Contents",
   "toc_cell": false,
   "toc_position": {},
   "toc_section_display": "block",
   "toc_window_display": false
  }
 },
 "nbformat": 4,
 "nbformat_minor": 2
}
