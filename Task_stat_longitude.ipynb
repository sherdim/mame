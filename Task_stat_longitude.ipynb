{
 "cells": [
  {
   "cell_type": "markdown",
   "metadata": {
    "deletable": true,
    "editable": true
   },
   "source": [
    "## Многофакторная модель повторных измерений"
   ]
  },
  {
   "cell_type": "code",
   "execution_count": 1,
   "metadata": {
    "collapsed": false,
    "deletable": true,
    "editable": true
   },
   "outputs": [
    {
     "name": "stdout",
     "output_type": "stream",
     "text": [
      "Populating the interactive namespace from numpy and matplotlib\n"
     ]
    }
   ],
   "source": [
    "%pylab inline\n",
    "import pandas as pd\n",
    "import seaborn as sns\n",
    "import statsmodels.api as sm\n",
    "import statsmodels.formula.api as smf"
   ]
  },
  {
   "cell_type": "markdown",
   "metadata": {
    "deletable": true,
    "editable": true
   },
   "source": [
    "Одним отважным зоологом, любящим ос настолько, что позволяет им жалить себя, тест \"Баланс внимания\" был повторен в [следующих условиях](http://balatte.stireac.com/result/anarchist123@rambler.ru):\n",
    "- [в норме](http://balatte.stireac.com/result/anarchist123%40rambler.ru/213.138.81.168__0201351930130528)\n",
    "- [5 минут после укуса](http://balatte.stireac.com/result/anarchist123%40rambler.ru/213.138.81.168__1249300420130528)\n",
    "- [полчаса после укуса](http://balatte.stireac.com/result/anarchist123%40rambler.ru/213.138.81.168__2227196800130528)\n",
    "- [два часа после укуса](http://balatte.stireac.com/result/anarchist123%40rambler.ru/213.138.81.168__2254147640130528)\n",
    "\n",
    "Тест был проведен лишь однажды, поэтому говорить о научной новизне полученных результатов не приходится. Однако для демонстрации статистического анализа данные прекрасно подходят.\n"
   ]
  },
  {
   "cell_type": "code",
   "execution_count": 2,
   "metadata": {
    "collapsed": false,
    "deletable": true,
    "editable": true
   },
   "outputs": [
    {
     "data": {
      "text/html": [
       "<div>\n",
       "<table border=\"1\" class=\"dataframe\">\n",
       "  <thead>\n",
       "    <tr style=\"text-align: right;\">\n",
       "      <th></th>\n",
       "      <th>conditio</th>\n",
       "      <th>kv</th>\n",
       "      <th>ka</th>\n",
       "      <th>bv</th>\n",
       "      <th>ba</th>\n",
       "      <th>n</th>\n",
       "      <th>t</th>\n",
       "    </tr>\n",
       "  </thead>\n",
       "  <tbody>\n",
       "    <tr>\n",
       "      <th>0</th>\n",
       "      <td></td>\n",
       "      <td>0.009942</td>\n",
       "      <td>0.006134</td>\n",
       "      <td>0.326625</td>\n",
       "      <td>0.361183</td>\n",
       "      <td>48</td>\n",
       "      <td>2013-03-16 08:43</td>\n",
       "    </tr>\n",
       "    <tr>\n",
       "      <th>1</th>\n",
       "      <td>внимание в норме</td>\n",
       "      <td>0.033121</td>\n",
       "      <td>0.015190</td>\n",
       "      <td>0.208891</td>\n",
       "      <td>0.288200</td>\n",
       "      <td>48</td>\n",
       "      <td>2013-05-28 19:57</td>\n",
       "    </tr>\n",
       "    <tr>\n",
       "      <th>2</th>\n",
       "      <td>5 минут после укуса</td>\n",
       "      <td>-0.018238</td>\n",
       "      <td>-0.007856</td>\n",
       "      <td>0.541942</td>\n",
       "      <td>0.601157</td>\n",
       "      <td>48</td>\n",
       "      <td>2013-05-28 21:45</td>\n",
       "    </tr>\n",
       "    <tr>\n",
       "      <th>3</th>\n",
       "      <td>спустя полчаса после укуса</td>\n",
       "      <td>-0.112809</td>\n",
       "      <td>0.016975</td>\n",
       "      <td>0.854461</td>\n",
       "      <td>0.736766</td>\n",
       "      <td>48</td>\n",
       "      <td>2013-05-28 22:23</td>\n",
       "    </tr>\n",
       "    <tr>\n",
       "      <th>4</th>\n",
       "      <td>спустя два часа после укуса</td>\n",
       "      <td>0.019278</td>\n",
       "      <td>0.021591</td>\n",
       "      <td>0.279309</td>\n",
       "      <td>0.294362</td>\n",
       "      <td>48</td>\n",
       "      <td>2013-05-28 22:50</td>\n",
       "    </tr>\n",
       "  </tbody>\n",
       "</table>\n",
       "</div>"
      ],
      "text/plain": [
       "                      conditio        kv        ka        bv        ba   n  \\\n",
       "0                               0.009942  0.006134  0.326625  0.361183  48   \n",
       "1             внимание в норме  0.033121  0.015190  0.208891  0.288200  48   \n",
       "2          5 минут после укуса -0.018238 -0.007856  0.541942  0.601157  48   \n",
       "3   спустя полчаса после укуса -0.112809  0.016975  0.854461  0.736766  48   \n",
       "4  спустя два часа после укуса  0.019278  0.021591  0.279309  0.294362  48   \n",
       "\n",
       "                  t  \n",
       "0  2013-03-16 08:43  \n",
       "1  2013-05-28 19:57  \n",
       "2  2013-05-28 21:45  \n",
       "3  2013-05-28 22:23  \n",
       "4  2013-05-28 22:50  "
      ]
     },
     "execution_count": 2,
     "metadata": {},
     "output_type": "execute_result"
    }
   ],
   "source": [
    "u = 'http://data.stireac.com/homo/anarchist123@rambler.ru/balatte/_stat.json'\n",
    "\n",
    "oo=pd.read_json(u,'values')\n",
    "oo[['conditio','kv','ka','bv','ba','n','t']]"
   ]
  },
  {
   "cell_type": "markdown",
   "metadata": {
    "deletable": true,
    "editable": true
   },
   "source": [
    "Судя по времени теста, последний раз тест проходил спустя час после воздействия, которое произошло примерно в 21:40.\n",
    "\n",
    "Чтобы не вводить отрицательное значение для контроля - зададим значение 120 мин, предполагая, что через два часа эффект от воздействия полностью исчезает, и такое состояние совпадает с контрольным."
   ]
  },
  {
   "cell_type": "code",
   "execution_count": 3,
   "metadata": {
    "collapsed": false,
    "deletable": true,
    "editable": true
   },
   "outputs": [
    {
     "data": {
      "text/html": [
       "<div>\n",
       "<table border=\"1\" class=\"dataframe\">\n",
       "  <thead>\n",
       "    <tr style=\"text-align: right;\">\n",
       "      <th></th>\n",
       "      <th>conditio</th>\n",
       "      <th>kv</th>\n",
       "      <th>ka</th>\n",
       "      <th>bv</th>\n",
       "      <th>ba</th>\n",
       "      <th>delay</th>\n",
       "    </tr>\n",
       "  </thead>\n",
       "  <tbody>\n",
       "    <tr>\n",
       "      <th>1</th>\n",
       "      <td>внимание в норме</td>\n",
       "      <td>0.033121</td>\n",
       "      <td>0.015190</td>\n",
       "      <td>0.208891</td>\n",
       "      <td>0.288200</td>\n",
       "      <td>120</td>\n",
       "    </tr>\n",
       "    <tr>\n",
       "      <th>2</th>\n",
       "      <td>5 минут после укуса</td>\n",
       "      <td>-0.018238</td>\n",
       "      <td>-0.007856</td>\n",
       "      <td>0.541942</td>\n",
       "      <td>0.601157</td>\n",
       "      <td>5</td>\n",
       "    </tr>\n",
       "    <tr>\n",
       "      <th>3</th>\n",
       "      <td>спустя полчаса после укуса</td>\n",
       "      <td>-0.112809</td>\n",
       "      <td>0.016975</td>\n",
       "      <td>0.854461</td>\n",
       "      <td>0.736766</td>\n",
       "      <td>30</td>\n",
       "    </tr>\n",
       "    <tr>\n",
       "      <th>4</th>\n",
       "      <td>спустя два часа после укуса</td>\n",
       "      <td>0.019278</td>\n",
       "      <td>0.021591</td>\n",
       "      <td>0.279309</td>\n",
       "      <td>0.294362</td>\n",
       "      <td>60</td>\n",
       "    </tr>\n",
       "  </tbody>\n",
       "</table>\n",
       "</div>"
      ],
      "text/plain": [
       "                      conditio        kv        ka        bv        ba  delay\n",
       "1             внимание в норме  0.033121  0.015190  0.208891  0.288200    120\n",
       "2          5 минут после укуса -0.018238 -0.007856  0.541942  0.601157      5\n",
       "3   спустя полчаса после укуса -0.112809  0.016975  0.854461  0.736766     30\n",
       "4  спустя два часа после укуса  0.019278  0.021591  0.279309  0.294362     60"
      ]
     },
     "execution_count": 3,
     "metadata": {},
     "output_type": "execute_result"
    }
   ],
   "source": [
    "S = oo.ix[1:,['conditio','kv','ka','bv','ba']]\n",
    "S['delay'] = ([120,5,30,60])\n",
    "S"
   ]
  },
  {
   "cell_type": "markdown",
   "metadata": {
    "deletable": true,
    "editable": true
   },
   "source": [
    "Значения коэффициентов `k` и `b` у нас присутствуют в разных колонках. Объедим их, для чего создадим колонку с указанием модальности."
   ]
  },
  {
   "cell_type": "code",
   "execution_count": 4,
   "metadata": {
    "collapsed": false,
    "deletable": true,
    "editable": true
   },
   "outputs": [
    {
     "data": {
      "text/plain": [
       "array([u'v', u'v', u'v', u'v', u'a', u'a', u'a', u'a'], \n",
       "      dtype='<U1')"
      ]
     },
     "execution_count": 4,
     "metadata": {},
     "output_type": "execute_result"
    }
   ],
   "source": [
    "momo = tile(array([['v','a']]).T, (S.shape[0])).ravel()\n",
    "momo"
   ]
  },
  {
   "cell_type": "code",
   "execution_count": 5,
   "metadata": {
    "collapsed": false,
    "deletable": true,
    "editable": true
   },
   "outputs": [
    {
     "data": {
      "text/html": [
       "<div>\n",
       "<table border=\"1\" class=\"dataframe\">\n",
       "  <thead>\n",
       "    <tr style=\"text-align: right;\">\n",
       "      <th></th>\n",
       "      <th>b</th>\n",
       "      <th>k</th>\n",
       "      <th>mod</th>\n",
       "      <th>delay</th>\n",
       "    </tr>\n",
       "  </thead>\n",
       "  <tbody>\n",
       "    <tr>\n",
       "      <th>1</th>\n",
       "      <td>0.208891</td>\n",
       "      <td>0.033121</td>\n",
       "      <td>v</td>\n",
       "      <td>4.787492</td>\n",
       "    </tr>\n",
       "    <tr>\n",
       "      <th>2</th>\n",
       "      <td>0.541942</td>\n",
       "      <td>-0.018238</td>\n",
       "      <td>v</td>\n",
       "      <td>1.609438</td>\n",
       "    </tr>\n",
       "    <tr>\n",
       "      <th>3</th>\n",
       "      <td>0.854461</td>\n",
       "      <td>-0.112809</td>\n",
       "      <td>v</td>\n",
       "      <td>3.401197</td>\n",
       "    </tr>\n",
       "    <tr>\n",
       "      <th>4</th>\n",
       "      <td>0.279309</td>\n",
       "      <td>0.019278</td>\n",
       "      <td>v</td>\n",
       "      <td>4.094345</td>\n",
       "    </tr>\n",
       "    <tr>\n",
       "      <th>1</th>\n",
       "      <td>0.288200</td>\n",
       "      <td>0.015190</td>\n",
       "      <td>a</td>\n",
       "      <td>4.787492</td>\n",
       "    </tr>\n",
       "    <tr>\n",
       "      <th>2</th>\n",
       "      <td>0.601157</td>\n",
       "      <td>-0.007856</td>\n",
       "      <td>a</td>\n",
       "      <td>1.609438</td>\n",
       "    </tr>\n",
       "    <tr>\n",
       "      <th>3</th>\n",
       "      <td>0.736766</td>\n",
       "      <td>0.016975</td>\n",
       "      <td>a</td>\n",
       "      <td>3.401197</td>\n",
       "    </tr>\n",
       "    <tr>\n",
       "      <th>4</th>\n",
       "      <td>0.294362</td>\n",
       "      <td>0.021591</td>\n",
       "      <td>a</td>\n",
       "      <td>4.094345</td>\n",
       "    </tr>\n",
       "  </tbody>\n",
       "</table>\n",
       "</div>"
      ],
      "text/plain": [
       "          b         k mod     delay\n",
       "1  0.208891  0.033121   v  4.787492\n",
       "2  0.541942 -0.018238   v  1.609438\n",
       "3  0.854461 -0.112809   v  3.401197\n",
       "4  0.279309  0.019278   v  4.094345\n",
       "1  0.288200  0.015190   a  4.787492\n",
       "2  0.601157 -0.007856   a  1.609438\n",
       "3  0.736766  0.016975   a  3.401197\n",
       "4  0.294362  0.021591   a  4.094345"
      ]
     },
     "execution_count": 5,
     "metadata": {},
     "output_type": "execute_result"
    }
   ],
   "source": [
    "D=pd.DataFrame({\n",
    "    'k': S['kv'].append(S['ka']),\n",
    "    'b': S['bv'].append(S['ba']),\n",
    "    'mod':momo,\n",
    "    'delay': tile(log(S.delay), 2),\n",
    "    })['b k mod delay'.split()]  #неалфавитный порядок столбцов\n",
    "D"
   ]
  },
  {
   "cell_type": "code",
   "execution_count": 22,
   "metadata": {
    "collapsed": false,
    "deletable": true,
    "editable": true
   },
   "outputs": [
    {
     "data": {
      "image/png": "[encoded data removed]",
      "text/plain": [
       "<matplotlib.figure.Figure at 0x14292050>"
      ]
     },
     "metadata": {},
     "output_type": "display_data"
    }
   ],
   "source": [
    "sns.lmplot('delay','k',D, hue='mod', ci=None);"
   ]
  },
  {
   "cell_type": "code",
   "execution_count": 23,
   "metadata": {
    "collapsed": false,
    "deletable": true,
    "editable": true
   },
   "outputs": [
    {
     "data": {
      "image/png": "[encoded data removed]",
      "text/plain": [
       "<matplotlib.figure.Figure at 0x12ebf550>"
      ]
     },
     "metadata": {},
     "output_type": "display_data"
    }
   ],
   "source": [
    "sns.lmplot('delay','b',D, hue='mod', ci=None);"
   ]
  },
  {
   "cell_type": "markdown",
   "metadata": {
    "deletable": true,
    "editable": true
   },
   "source": [
    "На рисунках прослеживается некоторая зависимость показателей от времени, прошедшего после воздействия.\n",
    "\n",
    "На обоих рисунках из общего тренда выпадают значения второго измерения (спустя 30 мин после укуса). Поскольку подробностей мы не знаем, предположим в качестве рабочей гипотезы, что эти изменения возникли вследствие воздействия."
   ]
  },
  {
   "cell_type": "code",
   "execution_count": 42,
   "metadata": {
    "collapsed": false,
    "deletable": true,
    "editable": true,
    "scrolled": false
   },
   "outputs": [
    {
     "data": {
      "text/html": [
       "<table class=\"simpletable\">\n",
       "<caption>OLS Regression Results</caption>\n",
       "<tr>\n",
       "  <th>Dep. Variable:</th>            <td>b</td>        <th>  R-squared:         </th> <td>   0.333</td>\n",
       "</tr>\n",
       "<tr>\n",
       "  <th>Model:</th>                   <td>OLS</td>       <th>  Adj. R-squared:    </th> <td>  -0.166</td>\n",
       "</tr>\n",
       "<tr>\n",
       "  <th>Method:</th>             <td>Least Squares</td>  <th>  F-statistic:       </th> <td>  0.6670</td>\n",
       "</tr>\n",
       "<tr>\n",
       "  <th>Date:</th>             <td>Fri, 10 Mar 2017</td> <th>  Prob (F-statistic):</th>  <td> 0.615</td> \n",
       "</tr>\n",
       "<tr>\n",
       "  <th>Time:</th>                 <td>15:03:05</td>     <th>  Log-Likelihood:    </th> <td>  2.1598</td>\n",
       "</tr>\n",
       "<tr>\n",
       "  <th>No. Observations:</th>      <td>     8</td>      <th>  AIC:               </th> <td>   3.680</td>\n",
       "</tr>\n",
       "<tr>\n",
       "  <th>Df Residuals:</th>          <td>     4</td>      <th>  BIC:               </th> <td>   3.998</td>\n",
       "</tr>\n",
       "<tr>\n",
       "  <th>Df Model:</th>              <td>     3</td>      <th>                     </th>     <td> </td>   \n",
       "</tr>\n",
       "<tr>\n",
       "  <th>Covariance Type:</th>      <td>nonrobust</td>    <th>                     </th>     <td> </td>   \n",
       "</tr>\n",
       "</table>\n",
       "<table class=\"simpletable\">\n",
       "<tr>\n",
       "         <td></td>           <th>coef</th>     <th>std err</th>      <th>t</th>      <th>P>|t|</th> <th>[95.0% Conf. Int.]</th> \n",
       "</tr>\n",
       "<tr>\n",
       "  <th>mod[a]</th>         <td>    0.8600</td> <td>    0.405</td> <td>    2.122</td> <td> 0.101</td> <td>   -0.265     1.985</td>\n",
       "</tr>\n",
       "<tr>\n",
       "  <th>mod[v]</th>         <td>    0.8583</td> <td>    0.405</td> <td>    2.118</td> <td> 0.102</td> <td>   -0.267     1.984</td>\n",
       "</tr>\n",
       "<tr>\n",
       "  <th>delay</th>          <td>   -0.1094</td> <td>    0.110</td> <td>   -0.990</td> <td> 0.378</td> <td>   -0.416     0.197</td>\n",
       "</tr>\n",
       "<tr>\n",
       "  <th>delay:mod[T.v]</th> <td>   -0.0021</td> <td>    0.156</td> <td>   -0.013</td> <td> 0.990</td> <td>   -0.436     0.432</td>\n",
       "</tr>\n",
       "</table>\n",
       "<table class=\"simpletable\">\n",
       "<tr>\n",
       "  <th>Omnibus:</th>       <td> 4.224</td> <th>  Durbin-Watson:     </th> <td>   2.791</td>\n",
       "</tr>\n",
       "<tr>\n",
       "  <th>Prob(Omnibus):</th> <td> 0.121</td> <th>  Jarque-Bera (JB):  </th> <td>   1.928</td>\n",
       "</tr>\n",
       "<tr>\n",
       "  <th>Skew:</th>          <td> 1.189</td> <th>  Prob(JB):          </th> <td>   0.381</td>\n",
       "</tr>\n",
       "<tr>\n",
       "  <th>Kurtosis:</th>      <td> 2.649</td> <th>  Cond. No.          </th> <td>    20.2</td>\n",
       "</tr>\n",
       "</table>"
      ],
      "text/plain": [
       "<class 'statsmodels.iolib.summary.Summary'>\n",
       "\"\"\"\n",
       "                            OLS Regression Results                            \n",
       "==============================================================================\n",
       "Dep. Variable:                      b   R-squared:                       0.333\n",
       "Model:                            OLS   Adj. R-squared:                 -0.166\n",
       "Method:                 Least Squares   F-statistic:                    0.6670\n",
       "Date:                Fri, 10 Mar 2017   Prob (F-statistic):              0.615\n",
       "Time:                        15:03:05   Log-Likelihood:                 2.1598\n",
       "No. Observations:                   8   AIC:                             3.680\n",
       "Df Residuals:                       4   BIC:                             3.998\n",
       "Df Model:                           3                                         \n",
       "Covariance Type:            nonrobust                                         \n",
       "==================================================================================\n",
       "                     coef    std err          t      P>|t|      [95.0% Conf. Int.]\n",
       "----------------------------------------------------------------------------------\n",
       "mod[a]             0.8600      0.405      2.122      0.101        -0.265     1.985\n",
       "mod[v]             0.8583      0.405      2.118      0.102        -0.267     1.984\n",
       "delay             -0.1094      0.110     -0.990      0.378        -0.416     0.197\n",
       "delay:mod[T.v]    -0.0021      0.156     -0.013      0.990        -0.436     0.432\n",
       "==============================================================================\n",
       "Omnibus:                        4.224   Durbin-Watson:                   2.791\n",
       "Prob(Omnibus):                  0.121   Jarque-Bera (JB):                1.928\n",
       "Skew:                           1.189   Prob(JB):                        0.381\n",
       "Kurtosis:                       2.649   Cond. No.                         20.2\n",
       "==============================================================================\n",
       "\n",
       "Warnings:\n",
       "[1] Standard Errors assume that the covariance matrix of the errors is correctly specified.\n",
       "\"\"\""
      ]
     },
     "execution_count": 42,
     "metadata": {},
     "output_type": "execute_result"
    }
   ],
   "source": [
    "result = smf.ols('b ~ delay*mod -1', data=D).fit()\n",
    "result.summary()"
   ]
  },
  {
   "cell_type": "markdown",
   "metadata": {
    "deletable": true,
    "editable": true
   },
   "source": [
    "Влияние модальности и задержки на коэффициент b недостоверно."
   ]
  },
  {
   "cell_type": "code",
   "execution_count": 44,
   "metadata": {
    "collapsed": false,
    "deletable": true,
    "editable": true,
    "scrolled": false
   },
   "outputs": [
    {
     "data": {
      "text/html": [
       "<table class=\"simpletable\">\n",
       "<caption>OLS Regression Results</caption>\n",
       "<tr>\n",
       "  <th>Dep. Variable:</th>            <td>k</td>        <th>  R-squared:         </th> <td>   0.261</td>\n",
       "</tr>\n",
       "<tr>\n",
       "  <th>Model:</th>                   <td>OLS</td>       <th>  Adj. R-squared:    </th> <td>  -0.293</td>\n",
       "</tr>\n",
       "<tr>\n",
       "  <th>Method:</th>             <td>Least Squares</td>  <th>  F-statistic:       </th> <td>  0.4717</td>\n",
       "</tr>\n",
       "<tr>\n",
       "  <th>Date:</th>             <td>Fri, 10 Mar 2017</td> <th>  Prob (F-statistic):</th>  <td> 0.718</td> \n",
       "</tr>\n",
       "<tr>\n",
       "  <th>Time:</th>                 <td>15:04:06</td>     <th>  Log-Likelihood:    </th> <td>  14.861</td>\n",
       "</tr>\n",
       "<tr>\n",
       "  <th>No. Observations:</th>      <td>     8</td>      <th>  AIC:               </th> <td>  -21.72</td>\n",
       "</tr>\n",
       "<tr>\n",
       "  <th>Df Residuals:</th>          <td>     4</td>      <th>  BIC:               </th> <td>  -21.40</td>\n",
       "</tr>\n",
       "<tr>\n",
       "  <th>Df Model:</th>              <td>     3</td>      <th>                     </th>     <td> </td>   \n",
       "</tr>\n",
       "<tr>\n",
       "  <th>Covariance Type:</th>      <td>nonrobust</td>    <th>                     </th>     <td> </td>   \n",
       "</tr>\n",
       "</table>\n",
       "<table class=\"simpletable\">\n",
       "<tr>\n",
       "         <td></td>           <th>coef</th>     <th>std err</th>      <th>t</th>      <th>P>|t|</th> <th>[95.0% Conf. Int.]</th> \n",
       "</tr>\n",
       "<tr>\n",
       "  <th>mod[a]</th>         <td>   -0.0176</td> <td>    0.083</td> <td>   -0.212</td> <td> 0.842</td> <td>   -0.248     0.212</td>\n",
       "</tr>\n",
       "<tr>\n",
       "  <th>mod[v]</th>         <td>   -0.0803</td> <td>    0.083</td> <td>   -0.969</td> <td> 0.387</td> <td>   -0.310     0.150</td>\n",
       "</tr>\n",
       "<tr>\n",
       "  <th>delay</th>          <td>    0.0084</td> <td>    0.023</td> <td>    0.371</td> <td> 0.730</td> <td>   -0.054     0.071</td>\n",
       "</tr>\n",
       "<tr>\n",
       "  <th>delay:mod[T.v]</th> <td>    0.0091</td> <td>    0.032</td> <td>    0.285</td> <td> 0.790</td> <td>   -0.080     0.098</td>\n",
       "</tr>\n",
       "</table>\n",
       "<table class=\"simpletable\">\n",
       "<tr>\n",
       "  <th>Omnibus:</th>       <td>12.195</td> <th>  Durbin-Watson:     </th> <td>   2.772</td>\n",
       "</tr>\n",
       "<tr>\n",
       "  <th>Prob(Omnibus):</th> <td> 0.002</td> <th>  Jarque-Bera (JB):  </th> <td>   4.210</td>\n",
       "</tr>\n",
       "<tr>\n",
       "  <th>Skew:</th>          <td>-1.598</td> <th>  Prob(JB):          </th> <td>   0.122</td>\n",
       "</tr>\n",
       "<tr>\n",
       "  <th>Kurtosis:</th>      <td> 4.554</td> <th>  Cond. No.          </th> <td>    20.2</td>\n",
       "</tr>\n",
       "</table>"
      ],
      "text/plain": [
       "<class 'statsmodels.iolib.summary.Summary'>\n",
       "\"\"\"\n",
       "                            OLS Regression Results                            \n",
       "==============================================================================\n",
       "Dep. Variable:                      k   R-squared:                       0.261\n",
       "Model:                            OLS   Adj. R-squared:                 -0.293\n",
       "Method:                 Least Squares   F-statistic:                    0.4717\n",
       "Date:                Fri, 10 Mar 2017   Prob (F-statistic):              0.718\n",
       "Time:                        15:04:06   Log-Likelihood:                 14.861\n",
       "No. Observations:                   8   AIC:                            -21.72\n",
       "Df Residuals:                       4   BIC:                            -21.40\n",
       "Df Model:                           3                                         \n",
       "Covariance Type:            nonrobust                                         \n",
       "==================================================================================\n",
       "                     coef    std err          t      P>|t|      [95.0% Conf. Int.]\n",
       "----------------------------------------------------------------------------------\n",
       "mod[a]            -0.0176      0.083     -0.212      0.842        -0.248     0.212\n",
       "mod[v]            -0.0803      0.083     -0.969      0.387        -0.310     0.150\n",
       "delay              0.0084      0.023      0.371      0.730        -0.054     0.071\n",
       "delay:mod[T.v]     0.0091      0.032      0.285      0.790        -0.080     0.098\n",
       "==============================================================================\n",
       "Omnibus:                       12.195   Durbin-Watson:                   2.772\n",
       "Prob(Omnibus):                  0.002   Jarque-Bera (JB):                4.210\n",
       "Skew:                          -1.598   Prob(JB):                        0.122\n",
       "Kurtosis:                       4.554   Cond. No.                         20.2\n",
       "==============================================================================\n",
       "\n",
       "Warnings:\n",
       "[1] Standard Errors assume that the covariance matrix of the errors is correctly specified.\n",
       "\"\"\""
      ]
     },
     "execution_count": 44,
     "metadata": {},
     "output_type": "execute_result"
    }
   ],
   "source": [
    "result = smf.ols('k ~ delay*mod -1', data=D).fit()\n",
    "result.summary()"
   ]
  },
  {
   "cell_type": "markdown",
   "metadata": {
    "deletable": true,
    "editable": true
   },
   "source": [
    "Влияние модальности и задержки на коэффициент k недостоверно.\n",
    "\n",
    "Оценить отклонения от модели и влияние отдельных точек можно графически."
   ]
  },
  {
   "cell_type": "code",
   "execution_count": 45,
   "metadata": {
    "collapsed": false,
    "deletable": true,
    "editable": true
   },
   "outputs": [
    {
     "data": {
      "image/png": "[encoded data removed]",
      "text/plain": [
       "<matplotlib.figure.Figure at 0x14a78c90>"
      ]
     },
     "metadata": {},
     "output_type": "display_data"
    }
   ],
   "source": [
    "sm.graphics.plot_regress_exog(result, 'delay');"
   ]
  },
  {
   "cell_type": "code",
   "execution_count": 46,
   "metadata": {
    "collapsed": false,
    "deletable": true,
    "editable": true
   },
   "outputs": [
    {
     "data": {
      "image/png": "[encoded data removed]",
      "text/plain": [
       "<matplotlib.figure.Figure at 0x14a786d0>"
      ]
     },
     "metadata": {},
     "output_type": "display_data"
    }
   ],
   "source": [
    "sm.graphics.influence_plot(result);"
   ]
  },
  {
   "cell_type": "markdown",
   "metadata": {
    "deletable": true,
    "editable": true
   },
   "source": [
    "Если влиянием модальности пренебречь, можно оценить влияние на ускорение реакции только величины задержки."
   ]
  },
  {
   "cell_type": "code",
   "execution_count": 47,
   "metadata": {
    "collapsed": false,
    "deletable": true,
    "editable": true,
    "scrolled": false
   },
   "outputs": [
    {
     "data": {
      "text/html": [
       "<table class=\"simpletable\">\n",
       "<caption>OLS Regression Results</caption>\n",
       "<tr>\n",
       "  <th>Dep. Variable:</th>            <td>b</td>        <th>  R-squared:         </th> <td>   0.333</td>\n",
       "</tr>\n",
       "<tr>\n",
       "  <th>Model:</th>                   <td>OLS</td>       <th>  Adj. R-squared:    </th> <td>   0.222</td>\n",
       "</tr>\n",
       "<tr>\n",
       "  <th>Method:</th>             <td>Least Squares</td>  <th>  F-statistic:       </th> <td>   2.996</td>\n",
       "</tr>\n",
       "<tr>\n",
       "  <th>Date:</th>             <td>Fri, 10 Mar 2017</td> <th>  Prob (F-statistic):</th>  <td> 0.134</td> \n",
       "</tr>\n",
       "<tr>\n",
       "  <th>Time:</th>                 <td>15:08:13</td>     <th>  Log-Likelihood:    </th> <td>  2.1572</td>\n",
       "</tr>\n",
       "<tr>\n",
       "  <th>No. Observations:</th>      <td>     8</td>      <th>  AIC:               </th> <td> -0.3145</td>\n",
       "</tr>\n",
       "<tr>\n",
       "  <th>Df Residuals:</th>          <td>     6</td>      <th>  BIC:               </th> <td> -0.1556</td>\n",
       "</tr>\n",
       "<tr>\n",
       "  <th>Df Model:</th>              <td>     1</td>      <th>                     </th>     <td> </td>   \n",
       "</tr>\n",
       "<tr>\n",
       "  <th>Covariance Type:</th>      <td>nonrobust</td>    <th>                     </th>     <td> </td>   \n",
       "</tr>\n",
       "</table>\n",
       "<table class=\"simpletable\">\n",
       "<tr>\n",
       "      <td></td>         <th>coef</th>     <th>std err</th>      <th>t</th>      <th>P>|t|</th> <th>[95.0% Conf. Int.]</th> \n",
       "</tr>\n",
       "<tr>\n",
       "  <th>Intercept</th> <td>    0.8592</td> <td>    0.234</td> <td>    3.671</td> <td> 0.010</td> <td>    0.286     1.432</td>\n",
       "</tr>\n",
       "<tr>\n",
       "  <th>delay</th>     <td>   -0.1104</td> <td>    0.064</td> <td>   -1.731</td> <td> 0.134</td> <td>   -0.267     0.046</td>\n",
       "</tr>\n",
       "</table>\n",
       "<table class=\"simpletable\">\n",
       "<tr>\n",
       "  <th>Omnibus:</th>       <td> 3.958</td> <th>  Durbin-Watson:     </th> <td>   2.794</td>\n",
       "</tr>\n",
       "<tr>\n",
       "  <th>Prob(Omnibus):</th> <td> 0.138</td> <th>  Jarque-Bera (JB):  </th> <td>   1.857</td>\n",
       "</tr>\n",
       "<tr>\n",
       "  <th>Skew:</th>          <td> 1.162</td> <th>  Prob(JB):          </th> <td>   0.395</td>\n",
       "</tr>\n",
       "<tr>\n",
       "  <th>Kurtosis:</th>      <td> 2.584</td> <th>  Cond. No.          </th> <td>    12.1</td>\n",
       "</tr>\n",
       "</table>"
      ],
      "text/plain": [
       "<class 'statsmodels.iolib.summary.Summary'>\n",
       "\"\"\"\n",
       "                            OLS Regression Results                            \n",
       "==============================================================================\n",
       "Dep. Variable:                      b   R-squared:                       0.333\n",
       "Model:                            OLS   Adj. R-squared:                  0.222\n",
       "Method:                 Least Squares   F-statistic:                     2.996\n",
       "Date:                Fri, 10 Mar 2017   Prob (F-statistic):              0.134\n",
       "Time:                        15:08:13   Log-Likelihood:                 2.1572\n",
       "No. Observations:                   8   AIC:                           -0.3145\n",
       "Df Residuals:                       6   BIC:                           -0.1556\n",
       "Df Model:                           1                                         \n",
       "Covariance Type:            nonrobust                                         \n",
       "==============================================================================\n",
       "                 coef    std err          t      P>|t|      [95.0% Conf. Int.]\n",
       "------------------------------------------------------------------------------\n",
       "Intercept      0.8592      0.234      3.671      0.010         0.286     1.432\n",
       "delay         -0.1104      0.064     -1.731      0.134        -0.267     0.046\n",
       "==============================================================================\n",
       "Omnibus:                        3.958   Durbin-Watson:                   2.794\n",
       "Prob(Omnibus):                  0.138   Jarque-Bera (JB):                1.857\n",
       "Skew:                           1.162   Prob(JB):                        0.395\n",
       "Kurtosis:                       2.584   Cond. No.                         12.1\n",
       "==============================================================================\n",
       "\n",
       "Warnings:\n",
       "[1] Standard Errors assume that the covariance matrix of the errors is correctly specified.\n",
       "\"\"\""
      ]
     },
     "execution_count": 47,
     "metadata": {},
     "output_type": "execute_result"
    }
   ],
   "source": [
    "result = smf.ols('b ~ delay', data=D).fit()\n",
    "result.summary()"
   ]
  },
  {
   "cell_type": "code",
   "execution_count": 48,
   "metadata": {
    "collapsed": false,
    "deletable": true,
    "editable": true,
    "scrolled": false
   },
   "outputs": [
    {
     "data": {
      "text/html": [
       "<table class=\"simpletable\">\n",
       "<caption>OLS Regression Results</caption>\n",
       "<tr>\n",
       "  <th>Dep. Variable:</th>            <td>k</td>        <th>  R-squared:         </th> <td>   0.121</td>\n",
       "</tr>\n",
       "<tr>\n",
       "  <th>Model:</th>                   <td>OLS</td>       <th>  Adj. R-squared:    </th> <td>  -0.026</td>\n",
       "</tr>\n",
       "<tr>\n",
       "  <th>Method:</th>             <td>Least Squares</td>  <th>  F-statistic:       </th> <td>  0.8242</td>\n",
       "</tr>\n",
       "<tr>\n",
       "  <th>Date:</th>             <td>Fri, 10 Mar 2017</td> <th>  Prob (F-statistic):</th>  <td> 0.399</td> \n",
       "</tr>\n",
       "<tr>\n",
       "  <th>Time:</th>                 <td>15:09:18</td>     <th>  Log-Likelihood:    </th> <td>  14.164</td>\n",
       "</tr>\n",
       "<tr>\n",
       "  <th>No. Observations:</th>      <td>     8</td>      <th>  AIC:               </th> <td>  -24.33</td>\n",
       "</tr>\n",
       "<tr>\n",
       "  <th>Df Residuals:</th>          <td>     6</td>      <th>  BIC:               </th> <td>  -24.17</td>\n",
       "</tr>\n",
       "<tr>\n",
       "  <th>Df Model:</th>              <td>     1</td>      <th>                     </th>     <td> </td>   \n",
       "</tr>\n",
       "<tr>\n",
       "  <th>Covariance Type:</th>      <td>nonrobust</td>    <th>                     </th>     <td> </td>   \n",
       "</tr>\n",
       "</table>\n",
       "<table class=\"simpletable\">\n",
       "<tr>\n",
       "      <td></td>         <th>coef</th>     <th>std err</th>      <th>t</th>      <th>P>|t|</th> <th>[95.0% Conf. Int.]</th> \n",
       "</tr>\n",
       "<tr>\n",
       "  <th>Intercept</th> <td>   -0.0489</td> <td>    0.052</td> <td>   -0.938</td> <td> 0.385</td> <td>   -0.177     0.079</td>\n",
       "</tr>\n",
       "<tr>\n",
       "  <th>delay</th>     <td>    0.0129</td> <td>    0.014</td> <td>    0.908</td> <td> 0.399</td> <td>   -0.022     0.048</td>\n",
       "</tr>\n",
       "</table>\n",
       "<table class=\"simpletable\">\n",
       "<tr>\n",
       "  <th>Omnibus:</th>       <td>21.295</td> <th>  Durbin-Watson:     </th> <td>   2.183</td>\n",
       "</tr>\n",
       "<tr>\n",
       "  <th>Prob(Omnibus):</th> <td> 0.000</td> <th>  Jarque-Bera (JB):  </th> <td>   9.079</td>\n",
       "</tr>\n",
       "<tr>\n",
       "  <th>Skew:</th>          <td>-2.172</td> <th>  Prob(JB):          </th> <td>  0.0107</td>\n",
       "</tr>\n",
       "<tr>\n",
       "  <th>Kurtosis:</th>      <td> 5.891</td> <th>  Cond. No.          </th> <td>    12.1</td>\n",
       "</tr>\n",
       "</table>"
      ],
      "text/plain": [
       "<class 'statsmodels.iolib.summary.Summary'>\n",
       "\"\"\"\n",
       "                            OLS Regression Results                            \n",
       "==============================================================================\n",
       "Dep. Variable:                      k   R-squared:                       0.121\n",
       "Model:                            OLS   Adj. R-squared:                 -0.026\n",
       "Method:                 Least Squares   F-statistic:                    0.8242\n",
       "Date:                Fri, 10 Mar 2017   Prob (F-statistic):              0.399\n",
       "Time:                        15:09:18   Log-Likelihood:                 14.164\n",
       "No. Observations:                   8   AIC:                            -24.33\n",
       "Df Residuals:                       6   BIC:                            -24.17\n",
       "Df Model:                           1                                         \n",
       "Covariance Type:            nonrobust                                         \n",
       "==============================================================================\n",
       "                 coef    std err          t      P>|t|      [95.0% Conf. Int.]\n",
       "------------------------------------------------------------------------------\n",
       "Intercept     -0.0489      0.052     -0.938      0.385        -0.177     0.079\n",
       "delay          0.0129      0.014      0.908      0.399        -0.022     0.048\n",
       "==============================================================================\n",
       "Omnibus:                       21.295   Durbin-Watson:                   2.183\n",
       "Prob(Omnibus):                  0.000   Jarque-Bera (JB):                9.079\n",
       "Skew:                          -2.172   Prob(JB):                       0.0107\n",
       "Kurtosis:                       5.891   Cond. No.                         12.1\n",
       "==============================================================================\n",
       "\n",
       "Warnings:\n",
       "[1] Standard Errors assume that the covariance matrix of the errors is correctly specified.\n",
       "\"\"\""
      ]
     },
     "execution_count": 48,
     "metadata": {},
     "output_type": "execute_result"
    }
   ],
   "source": [
    "result = smf.ols('k ~ delay', data=D).fit()\n",
    "result.summary()"
   ]
  },
  {
   "cell_type": "markdown",
   "metadata": {
    "collapsed": false,
    "deletable": true,
    "editable": true,
    "scrolled": false
   },
   "source": [
    "Полученную модель можно записать в виде формулы:\n",
    "\n",
    "$$k = 0.013 log(t) - 0.049$$\n",
    "\n",
    "где $k$ - коэффициент чувствительности к ритму стимуляции (угол наклона зависимости ВР от логарифма МСИ в тесте на внимание), $t$ - время после воздействия"
   ]
  }
 ],
 "metadata": {
  "kernelspec": {
   "display_name": "Python 2",
   "language": "python",
   "name": "python2"
  },
  "language_info": {
   "codemirror_mode": {
    "name": "ipython",
    "version": 2
   },
   "file_extension": ".py",
   "mimetype": "text/x-python",
   "name": "python",
   "nbconvert_exporter": "python",
   "pygments_lexer": "ipython2",
   "version": "2.7.11"
  },
  "toc": {
   "colors": {
    "hover_highlight": "#DAA520",
    "running_highlight": "#FF0000",
    "selected_highlight": "#FFD700"
   },
   "moveMenuLeft": true,
   "nav_menu": {
    "height": "66px",
    "width": "252px"
   },
   "navigate_menu": true,
   "number_sections": false,
   "sideBar": true,
   "threshold": 4,
   "toc_cell": false,
   "toc_section_display": "block",
   "toc_window_display": false
  }
 },
 "nbformat": 4,
 "nbformat_minor": 0
}
