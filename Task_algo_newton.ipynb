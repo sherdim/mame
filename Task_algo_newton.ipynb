{
 "cells": [
  {
   "cell_type": "markdown",
   "metadata": {},
   "source": [
    "# Алгоритм Ньютона для нахождения корней"
   ]
  },
  {
   "cell_type": "markdown",
   "metadata": {},
   "source": [
    "Метод Ньютона-Рафсона называют также методом касательных, так как в геометрической интерпретации он соответствует нахождению на каждой итерации точки пересечения касательной и оси абсцисс."
   ]
  },
  {
   "cell_type": "code",
   "execution_count": null,
   "metadata": {
    "collapsed": false
   },
   "outputs": [],
   "source": [
    "%pylab inline"
   ]
  },
  {
   "cell_type": "markdown",
   "metadata": {},
   "source": [
    "Найдем корень квадратный из 10. Алгоритм нахождения корней итерационным методом известен еще как вавилонский метод или метод [Херона Александрийского](https://ru.wikipedia.org/wiki/%D0%93%D0%B5%D1%80%D0%BE%D0%BD)\n",
    "\n",
    "$$ x = \\sqrt{10}$$\n",
    "\n",
    "$$ x^2 = 10 $$\n",
    "\n",
    "$$ x^2 - 10 = 0 $$\n"
   ]
  },
  {
   "cell_type": "code",
   "execution_count": null,
   "metadata": {
    "collapsed": true
   },
   "outputs": [],
   "source": [
    "# Зададим функцию, которая считает данное выражение\n",
    "\n",
    "def f(x):\n",
    "    return x**2 - 10"
   ]
  },
  {
   "cell_type": "code",
   "execution_count": null,
   "metadata": {
    "collapsed": false
   },
   "outputs": [],
   "source": [
    "3*3"
   ]
  },
  {
   "cell_type": "code",
   "execution_count": null,
   "metadata": {
    "collapsed": false
   },
   "outputs": [],
   "source": [
    "4*4"
   ]
  },
  {
   "cell_type": "markdown",
   "metadata": {},
   "source": [
    "Мы знаем, что решение где то между 3 и 4."
   ]
  },
  {
   "cell_type": "code",
   "execution_count": null,
   "metadata": {
    "collapsed": false
   },
   "outputs": [],
   "source": [
    "x=arange(3,4,0.001)\n",
    "y=f(x)\n",
    "plot(x,y);\n",
    "plot(xlim(),[0,0],'k');  # ось абсцисс"
   ]
  },
  {
   "cell_type": "markdown",
   "metadata": {},
   "source": [
    "Решение на пересечении графика функции с осью Ох."
   ]
  },
  {
   "cell_type": "code",
   "execution_count": null,
   "metadata": {
    "collapsed": false
   },
   "outputs": [],
   "source": [
    "x0=4.0 # начнем с 4 для наглядности\n",
    "i=0\n",
    "plot(x,y);\n",
    "while i<20:  #зададим предел итераций\n",
    "    x1 = (x0 + 10/x0)/2   #арифметическое среднее является приближением геометрического среднего\n",
    "#     x1 = x0 - f(x0)/(2*x0)   #собственно метод Ньютона - нахождение производной  2*x - производная квадратичной функции\n",
    "\n",
    "    plot([x0,x1],[f(x0),f(x1)],'r--')\n",
    "    plot([x1,x1],ylim(),'g')\n",
    "    \n",
    "    if abs(x1 - x0) < finfo(float).eps:  # если уже приблизились по точности\n",
    "        break\n",
    "    x0 = x1\n",
    "    print(i, x0, f(x0))    \n",
    "    i+=1\n",
    "\n",
    "x0"
   ]
  },
  {
   "cell_type": "markdown",
   "metadata": {},
   "source": [
    "Попробуйте заменить исходный `x0` на большее число, например, 400. Обратите внимание, насколько решение на каждом шаге приближается к искомому."
   ]
  },
  {
   "cell_type": "code",
   "execution_count": null,
   "metadata": {
    "collapsed": false
   },
   "outputs": [],
   "source": [
    "10**0.5"
   ]
  },
  {
   "cell_type": "code",
   "execution_count": null,
   "metadata": {
    "collapsed": false
   },
   "outputs": [],
   "source": [
    "sqrt(10)"
   ]
  },
  {
   "cell_type": "markdown",
   "metadata": {},
   "source": [
    "## +++\n",
    "\n",
    "[Метод Ньютона](https://ru.wikipedia.org/wiki/%D0%9C%D0%B5%D1%82%D0%BE%D0%B4_%D0%9D%D1%8C%D1%8E%D1%82%D0%BE%D0%BD%D0%B0)\n",
    "\n",
    "посмотрите примеры реализации на разных языках - сравните синтаксис и объем кода. Порадуйтесь, что мы изучаем `Python`."
   ]
  }
 ],
 "metadata": {
  "kernelspec": {
   "display_name": "Python 3",
   "language": "python",
   "name": "python3"
  },
  "language_info": {
   "codemirror_mode": {
    "name": "ipython",
    "version": 3
   },
   "file_extension": ".py",
   "mimetype": "text/x-python",
   "name": "python",
   "nbconvert_exporter": "python",
   "pygments_lexer": "ipython3",
   "version": "3.5.2"
  },
  "toc": {
   "colors": {
    "hover_highlight": "#DAA520",
    "running_highlight": "#FF0000",
    "selected_highlight": "#FFD700"
   },
   "moveMenuLeft": true,
   "nav_menu": {
    "height": "66px",
    "width": "252px"
   },
   "navigate_menu": true,
   "number_sections": false,
   "sideBar": true,
   "threshold": 4,
   "toc_cell": false,
   "toc_section_display": "block",
   "toc_window_display": false
  }
 },
 "nbformat": 4,
 "nbformat_minor": 2
}
