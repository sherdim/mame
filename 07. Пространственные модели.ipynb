{
 "cells": [
  {
   "cell_type": "code",
   "execution_count": 1,
   "metadata": {
    "slideshow": {
     "slide_type": "skip"
    }
   },
   "outputs": [
    {
     "name": "stdout",
     "output_type": "stream",
     "text": [
      "Populating the interactive namespace from numpy and matplotlib\n"
     ]
    }
   ],
   "source": [
    "%pylab inline"
   ]
  },
  {
   "cell_type": "markdown",
   "metadata": {
    "slideshow": {
     "slide_type": "slide"
    }
   },
   "source": [
    "# наше жизненное пространство 3D\n",
    "\n",
    "Динамические модели описывают изменение одного или нескольких неупорядоченных показателей. \n",
    "Проявления жизни происходят в объеме, и особенно активно на границах сред: \n",
    "воздушной, водной, почвы, внутри- и межклеточной, внутренней и внешней и т.д.\n",
    "\n",
    "Граница в 3D - это поверхность, которая может быть плоской или как угодно деформированной."
   ]
  },
  {
   "cell_type": "markdown",
   "metadata": {
    "slideshow": {
     "slide_type": "slide"
    }
   },
   "source": [
    "Пространственные модели любого натурального объекта можно поделить на два класса:\n",
    "- 3D-модели, которые определяются моделированием структуры (анатомия, органеллы клетки, конформации биомолекул).\n",
    "- плоские модели, упрощенные и более наглядные, когда взамодействие в 3-й плоскости ограничено.\n",
    "\n",
    "Структурные модели - следующая тема. А сейчас - плоские, продукт которых - 2D изображение.\n",
    "\n",
    "К любой модели можно добавить время, т.е. отслеживать ее изменения как переходы от одного состояния в другое."
   ]
  },
  {
   "cell_type": "markdown",
   "metadata": {
    "slideshow": {
     "slide_type": "slide"
    }
   },
   "source": [
    "## Степени свободы\n",
    "\n",
    "чем больше возможностей перемещения в пространстве - тем больше свободы.\n",
    "\n",
    "упорядоченность\n",
    "информация\n",
    "энтропия"
   ]
  },
  {
   "cell_type": "code",
   "execution_count": 2,
   "metadata": {
    "slideshow": {
     "slide_type": "slide"
    }
   },
   "outputs": [],
   "source": [
    "from itertools import permutations, combinations"
   ]
  },
  {
   "cell_type": "code",
   "execution_count": 4,
   "metadata": {},
   "outputs": [
    {
     "name": "stdout",
     "output_type": "stream",
     "text": [
      "Крым наш\n",
      "наш Крым\n"
     ]
    }
   ],
   "source": [
    "ss='3D пространство'.split()\n",
    "print('\\n'.join(map(lambda l: ' '.join(l), permutations(ss))))"
   ]
  },
  {
   "cell_type": "markdown",
   "metadata": {},
   "source": [
    "Два слова можно расположить только двумя способами - и переход от одного способа к другому только один - 1 степень свободы"
   ]
  },
  {
   "cell_type": "markdown",
   "metadata": {
    "slideshow": {
     "slide_type": "slide"
    }
   },
   "source": [
    "Если возьмем три слова, то возможно 6 разных сочетаний."
   ]
  },
  {
   "cell_type": "code",
   "execution_count": 4,
   "metadata": {
    "collapsed": true
   },
   "outputs": [
    {
     "name": "stdout",
     "output_type": "stream",
     "text": [
      "наше жизненное пространство\n",
      "наше пространство жизненное\n",
      "жизненное наше пространство\n",
      "жизненное пространство наше\n",
      "пространство наше жизненное\n"
     ]
    }
   ],
   "source": [
    "ss='наше жизненное пространство'.split()\n",
    "print('\\n'.join(map(lambda l: ' '.join(l), permutations(ss))[:-1]))"
   ]
  },
  {
   "cell_type": "markdown",
   "metadata": {},
   "source": [
    "Какое 6-е сочетание? \n",
    "`пространство жизненное наше`"
   ]
  },
  {
   "cell_type": "markdown",
   "metadata": {},
   "source": [
    "Для полноты примера возьмем строку из 4 слов."
   ]
  },
  {
   "cell_type": "code",
   "execution_count": 7,
   "metadata": {
    "slideshow": {
     "slide_type": "slide"
    }
   },
   "outputs": [
    {
     "name": "stdout",
     "output_type": "stream",
     "text": [
      "наше жизненное пространство 3D\n",
      "наше жизненное 3D пространство\n",
      "наше пространство жизненное 3D\n",
      "наше пространство 3D жизненное\n",
      "наше 3D жизненное пространство\n",
      "наше 3D пространство жизненное\n",
      "жизненное наше пространство 3D\n",
      "жизненное наше 3D пространство\n",
      "жизненное пространство наше 3D\n",
      "жизненное пространство 3D наше\n",
      "жизненное 3D наше пространство\n",
      "жизненное 3D пространство наше\n",
      "пространство наше жизненное 3D\n",
      "пространство наше 3D жизненное\n",
      "пространство жизненное наше 3D\n",
      "пространство жизненное 3D наше\n",
      "пространство 3D наше жизненное\n",
      "пространство 3D жизненное наше\n",
      "3D наше жизненное пространство\n",
      "3D наше пространство жизненное\n",
      "3D жизненное наше пространство\n",
      "3D жизненное пространство наше\n",
      "3D пространство наше жизненное\n",
      "3D пространство жизненное наше\n"
     ]
    }
   ],
   "source": [
    "ss='наше жизненное пространство 3D'.split()\n",
    "print('\\n'.join(map(lambda l: ' '.join(l), permutations(ss))))"
   ]
  },
  {
   "cell_type": "markdown",
   "metadata": {
    "slideshow": {
     "slide_type": "slide"
    }
   },
   "source": [
    "Посчитаем по первому слову. Всего $6 \\times 4=24$. \n",
    "\n",
    "Логика такая: одно из 4 слов будет первое в 1/4 случаев, а мы уже знаем, что из 3 слов получается 6 комбинаций. Вот почему `4 х 6`.\n",
    "\n",
    "Оказывается, что если мы уберем последнее слово, то вариантов будет столько же."
   ]
  },
  {
   "cell_type": "code",
   "execution_count": 15,
   "metadata": {
    "slideshow": {
     "slide_type": "-"
    }
   },
   "outputs": [
    {
     "name": "stdout",
     "output_type": "stream",
     "text": [
      "наше жизненное пространство\n",
      "наше жизненное 3D\n",
      "наше пространство жизненное\n",
      "наше пространство 3D\n",
      "наше 3D жизненное\n",
      "наше 3D пространство\n",
      "жизненное наше пространство\n",
      "жизненное наше 3D\n",
      "жизненное пространство наше\n",
      "жизненное пространство 3D\n",
      "жизненное 3D наше\n",
      "жизненное 3D пространство\n",
      "пространство наше жизненное\n",
      "пространство наше 3D\n",
      "пространство жизненное наше\n",
      "пространство жизненное 3D\n",
      "пространство 3D наше\n",
      "пространство 3D жизненное\n",
      "3D наше жизненное\n",
      "3D наше пространство\n",
      "3D жизненное наше\n",
      "3D жизненное пространство\n",
      "3D пространство наше\n",
      "3D пространство жизненное\n"
     ]
    }
   ],
   "source": [
    "ss='наше жизненное пространство 3D'.split()\n",
    "print('\\n'.join(map(lambda l: ' '.join(l), permutations(ss, 3))))"
   ]
  },
  {
   "cell_type": "markdown",
   "metadata": {},
   "source": [
    "- наше жизненное пространство - просто термин\n",
    "- наше жизненное 3D - это что-то про повседневные 3D-технологии\n",
    "- наше пространство жизненное - угу, можно жить\n",
    "- наше пространство 3D - несомненно\n",
    "- наше 3D жизненное - и в нашем 3Д можно жить\n",
    "- наше 3D пространство - наше 3Д - целый мир, где можно разгуляться\n",
    "\n",
    "Где начинается с прилагательного - пропускаем.\n",
    "\n",
    "И в конце лозунги:\n",
    "3D пространство наше!\n",
    "3D пространство жизненное!\n",
    "\n",
    "итого 24 комбинации!"
   ]
  },
  {
   "cell_type": "markdown",
   "metadata": {},
   "source": [
    "Роль последнего звена в комбинации пассивна. Когда мы определили места для 3 из 4 - место оставшегося предопределено - последнее. \n",
    "Т.о. количество степеней свободы определяется без учета крайнего варианта - всегда на 1 меньше возможных позиций.\n",
    "$$df = n-1$$"
   ]
  },
  {
   "cell_type": "markdown",
   "metadata": {},
   "source": [
    "Задача на бонусный балл - сколько будет комбинаций по 2 слова?"
   ]
  },
  {
   "cell_type": "code",
   "execution_count": 5,
   "metadata": {
    "collapsed": true,
    "slideshow": {
     "slide_type": "-"
    }
   },
   "outputs": [
    {
     "name": "stdout",
     "output_type": "stream",
     "text": [
      "наше жизненное\n",
      "наше пространство\n",
      "наше 3D\n",
      "жизненное наше\n",
      "жизненное пространство\n",
      "жизненное 3D\n",
      "пространство наше\n",
      "пространство жизненное\n",
      "пространство 3D\n",
      "3D наше\n",
      "3D жизненное\n",
      "3D пространство\n"
     ]
    }
   ],
   "source": [
    "ss='наше жизненное пространство 3D'.split()\n",
    "print('\\n'.join(map(lambda l: ' '.join(l), permutations(ss, 2))))"
   ]
  },
  {
   "cell_type": "markdown",
   "metadata": {},
   "source": [
    "12! Почему? мы изучим в теме про вероятность.\n",
    "\n",
    "А сейчас вернемся к n-мерным пространствам."
   ]
  },
  {
   "cell_type": "markdown",
   "metadata": {},
   "source": [
    "Во сколько раз степеней свободы больше при передвижении по 2D плоскости по сравнению с 1D прямой?\n",
    "\n",
    "по прямой - влево и вправо, а по плоскости - куда хочешь."
   ]
  },
  {
   "cell_type": "markdown",
   "metadata": {},
   "source": [
    "Снова бьем по рукам математикам и прибегаем к палетке:"
   ]
  },
  {
   "cell_type": "code",
   "execution_count": 69,
   "metadata": {},
   "outputs": [
    {
     "data": {
      "image/png": "[encoded data removed]",
      "text/plain": [
       "<matplotlib.figure.Figure at 0x80f5710>"
      ]
     },
     "metadata": {},
     "output_type": "display_data"
    }
   ],
   "source": [
    "x=array([-1,3]); y=1+0.333*x;\n",
    "plot(x,y); axis('equal'); ylim(0,3); xticks(range(3)); yticks(range(3)); grid();\n",
    "plot(1.5, 1.5, 'ro');\n",
    "for a in array([-1,1])+pi:\n",
    "    arrow(1.5, 1.5, cos(a),sin(a), color='r', head_width=0.1)"
   ]
  },
  {
   "cell_type": "code",
   "execution_count": 48,
   "metadata": {
    "collapsed": true
   },
   "outputs": [
    {
     "data": {
      "text/plain": [
       "array([ 2.95636293,  0.93182215,  2.33179269,  2.28026946,  3.12997255,\n",
       "        0.09616524,  1.38969199,  3.07529973,  1.05814439])"
      ]
     },
     "execution_count": 48,
     "metadata": {},
     "output_type": "execute_result"
    }
   ],
   "source": [
    "ph=random.rand(9)*pi"
   ]
  },
  {
   "cell_type": "code",
   "execution_count": 61,
   "metadata": {},
   "outputs": [
    {
     "data": {
      "image/png": "[encoded data removed]",
      "text/plain": [
       "<matplotlib.figure.Figure at 0x8012b30>"
      ]
     },
     "metadata": {},
     "output_type": "display_data"
    }
   ],
   "source": [
    "x=array([-1,3]); y=1+0.333*x;\n",
    "plot(x,y); axis('equal'); ylim(0,3); xticks(range(3)); yticks(range(3)); grid();\n",
    "plot(1.5, 1.5, 'ro');\n",
    "for a in random.rand(12)*2*pi:\n",
    "    arrow(1.5, 1.5, sin(a),cos(a), color='g', head_width=0.1)"
   ]
  },
  {
   "cell_type": "markdown",
   "metadata": {},
   "source": [
    "~ в 8 раз больше возможностей"
   ]
  },
  {
   "cell_type": "markdown",
   "metadata": {},
   "source": [
    "## 3D+\n",
    "\n",
    "![](4d.png)"
   ]
  },
  {
   "cell_type": "markdown",
   "metadata": {},
   "source": [
    "## квадрат - куб - тессеракт\n",
    "\n",
    "![](tesseract.gif)\n",
    "\n",
    "[Четырёхмерное пространство](https://ru.wikipedia.org/wiki/Четырёхмерное_пространство)"
   ]
  },
  {
   "cell_type": "markdown",
   "metadata": {},
   "source": [
    "В табличных данных многомерность представлена количеством колонок:\n",
    "\n",
    "    N колонок -> N-мерные данные"
   ]
  },
  {
   "cell_type": "markdown",
   "metadata": {},
   "source": [
    "## Ремарка по вычислению 1D+\n",
    "\n",
    "у каждого значения получается 2 или 3 координаты, однако адресация памяти компьютера последовательная, например, от 0 до 8Gb.\n",
    "\n",
    "поэтому хранение и обработка 2D всегда идет по колонкам/строчкам, а 3D - по слоям или срезам.\n",
    "\n",
    "Однако, если данных мало - большинство нулей, то выгодней оказывается перечислить координаты имеющихся значений, чем заполнять бесполезными нулями слой за слоем - \"разреженные\" данные.\n",
    "\n",
    "<b class=tag>sparse matrix</b>\n",
    "\n",
    "#### +++\n",
    "https://machinelearningmastery.com/sparse-matrices-for-machine-learning/"
   ]
  },
  {
   "cell_type": "markdown",
   "metadata": {
    "slideshow": {
     "slide_type": "slide"
    }
   },
   "source": [
    "## Паттерны распределения растительности\n",
    "\n",
    "- [Термитники] ()\n",
    "- [Ревень в Казахстане](http://www.plantarium.ru/page/landscape/id/51538.html)"
   ]
  },
  {
   "cell_type": "markdown",
   "metadata": {
    "slideshow": {
     "slide_type": "slide"
    }
   },
   "source": [
    "злаки в пустыне\n",
    "http://www.plantarium.ru/page/landscape/id/6757.html"
   ]
  },
  {
   "cell_type": "markdown",
   "metadata": {},
   "source": [
    "http://geoblog.weebly.com/environmental-sciences-blog/announcement-plants-patterns-and-climate-change\n",
    "\n",
    "http://www.cwi.nl/news/2012/mathematics-helps-predict-desertification"
   ]
  },
  {
   "cell_type": "markdown",
   "metadata": {
    "slideshow": {
     "slide_type": "slide"
    }
   },
   "source": [
    "термитники\n",
    "\n",
    "https://www.youtube.com/watch?v=uXlS48mptbM&t\n",
    "\n",
    "https://www.cell.com/current-biology/fulltext/S0960-9822(18)31287-9"
   ]
  },
  {
   "cell_type": "markdown",
   "metadata": {},
   "source": [
    "https://en.wikipedia.org/wiki/Reaction%E2%80%93diffusion_system \n",
    "\n",
    "https://en.wikipedia.org/wiki/MClone  мех жирафов и леопардов\n"
   ]
  },
  {
   "cell_type": "markdown",
   "metadata": {},
   "source": [
    "## Пятна по поверхности\n",
    "\n",
    "https://www.google.ru/search?q=Cone+Snail&newwindow=1&source=lnms&tbm=isch&sa=X&ved=0ahUKEwiBmMj35rfRAhXD8ywKHRWWAuAQ_AUICCgB&biw=991&bih=706"
   ]
  },
  {
   "cell_type": "markdown",
   "metadata": {},
   "source": [
    "http://www.dailymail.co.uk/sciencetech/article-2412480/African-fairy-circles-solved-Circles-grasses-competing-water-claims-scientist.html"
   ]
  },
  {
   "cell_type": "markdown",
   "metadata": {},
   "source": [
    "## Стайное поведение. Стигмергия."
   ]
  },
  {
   "cell_type": "markdown",
   "metadata": {},
   "source": [
    "![](lobster_video.png)\n",
    "\n",
    "видео: \n",
    "- перемещение особей в 2D,\n",
    "- идентификация особей по метке\n",
    "\n",
    "[Using ORB, BoW and SVM to identify and track tagged Norway lobster Nephrops Norvegicus (L.)](http://www.upc.edu/cdsarti/martech/usb_2016/papers/20.pdf)"
   ]
  },
  {
   "cell_type": "markdown",
   "metadata": {},
   "source": [
    "## Географическое представление данных.\n",
    "\n",
    "время - пространство\n",
    "\n",
    "http://datadryad.org/resource/doi:10.5061/dryad.dm08j"
   ]
  },
  {
   "cell_type": "markdown",
   "metadata": {},
   "source": [
    "http://datadryad.org/resource/doi:10.5061/dryad.512m0\n",
    "http://datadryad.org/resource/doi:10.5061/dryad.512m0/3"
   ]
  },
  {
   "cell_type": "markdown",
   "metadata": {},
   "source": [
    "![](geoaxes.jpg)"
   ]
  },
  {
   "cell_type": "markdown",
   "metadata": {},
   "source": [
    "### Spatial statistical methods in health studies\n",
    "\n",
    "The analysis of the geographical distribution of the incidence\n",
    "of disease and its relationship to potential risk\n",
    "factors has an important role to play in various kinds of\n",
    "public health and epidemiological study. This general area\n",
    "is referred to as “geographical epidemiology”, and four\n",
    "broad areas of statistical interest can be identified:\n",
    "(a) Disease mapping aims to produce a map of the\n",
    "true underlying geographical distribution of disease\n",
    "incidence, given “noisy” observed data on disease"
   ]
  },
  {
   "cell_type": "markdown",
   "metadata": {},
   "source": [
    "## 2D -> 3D\n",
    "\n",
    "- извлечение 3D модели из фотографии, напр. лица с разным поворотом\n",
    "\n",
    "[Демо](https://www.landmarker.io/#server=demo&t=ibug68&c=demo&i=1)\n",
    "\n",
    "[Статья о проекте Menpo](https://github.com/menpo/website/raw/master/content/pages/paper/Menpo_ACM_MM_2014.pdf)"
   ]
  },
  {
   "cell_type": "markdown",
   "metadata": {},
   "source": [
    "## 3D\n",
    "\n",
    "- сетка из треугольников - mesh"
   ]
  },
  {
   "cell_type": "markdown",
   "metadata": {},
   "source": [
    "### +++\n",
    "\n",
    "[Примеры использования ipyleaflet](https://github.com/ellisonbg/ipyleaflet/tree/master/examples)"
   ]
  },
  {
   "cell_type": "markdown",
   "metadata": {
    "collapsed": true
   },
   "source": [
    "### © ссылки на авторов использованных материалов\n",
    "\n",
    "[Katya Ulitina](//www.katyau.ru)"
   ]
  }
 ],
 "metadata": {
  "kernelspec": {
   "display_name": "Python 2",
   "language": "python",
   "name": "python2"
  },
  "language_info": {
   "codemirror_mode": {
    "name": "ipython",
    "version": 2
   },
   "file_extension": ".py",
   "mimetype": "text/x-python",
   "name": "python",
   "nbconvert_exporter": "python",
   "pygments_lexer": "ipython2",
   "version": "2.7.14"
  },
  "toc": {
   "base_numbering": 1,
   "nav_menu": {
    "height": "233px",
    "width": "252px"
   },
   "number_sections": false,
   "sideBar": true,
   "skip_h1_title": false,
   "title_cell": "Table of Contents",
   "title_sidebar": "Contents",
   "toc_cell": false,
   "toc_position": {},
   "toc_section_display": "block",
   "toc_window_display": false
  }
 },
 "nbformat": 4,
 "nbformat_minor": 1
}
