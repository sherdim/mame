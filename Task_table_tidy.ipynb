{
 "cells": [
  {
   "cell_type": "markdown",
   "metadata": {},
   "source": [
    "# Готовая для анализа таблица (Tidy Table)\n",
    "\n",
    "#### Tidy data\n",
    "\n",
    "1. Каждая переменная формирует колонку.\n",
    "2. Каждое наблюдение формирует строку.\n",
    "3. Каждый тип наблюдений формирует таблицу.\n",
    "\n",
    "#### Messy data\n",
    "Любое другое расположение данных."
   ]
  },
  {
   "cell_type": "markdown",
   "metadata": {},
   "source": [
    "Для приведения широкой (wide, перепутанной, messy) таблицы в аккуратный (tidy) вид ее нужно \"растопить\", т.е. названия разных колонок соединить в одну колонку, продублировав по необходимости. "
   ]
  },
  {
   "cell_type": "markdown",
   "metadata": {
    "collapsed": true
   },
   "source": [
    "Желательные требования к таблице:\n",
    "1. Нет пропусков, ошибочных значений.\n",
    "2. Сбалансированное количество наблюдений с альтернативными значениями факторов.\n",
    "3. Наблюдения в строках логически упорядочены.\n"
   ]
  },
  {
   "cell_type": "markdown",
   "metadata": {},
   "source": [
    "### +++\n",
    "\n",
    "[Tidy data](http://vita.had.co.nz/papers/tidy-data.pdf) - рассуждения, какой должна быть таблица с данными."
   ]
  }
 ],
 "metadata": {
  "kernelspec": {
   "display_name": "Python 3",
   "language": "python",
   "name": "python3"
  },
  "language_info": {
   "codemirror_mode": {
    "name": "ipython",
    "version": 3
   },
   "file_extension": ".py",
   "mimetype": "text/x-python",
   "name": "python",
   "nbconvert_exporter": "python",
   "pygments_lexer": "ipython3",
   "version": "3.7.1"
  },
  "toc": {
   "base_numbering": 1,
   "nav_menu": {
    "height": "86px",
    "width": "252px"
   },
   "number_sections": false,
   "sideBar": true,
   "skip_h1_title": false,
   "title_cell": "Table of Contents",
   "title_sidebar": "Contents",
   "toc_cell": false,
   "toc_position": {},
   "toc_section_display": "block",
   "toc_window_display": false
  }
 },
 "nbformat": 4,
 "nbformat_minor": 2
}
