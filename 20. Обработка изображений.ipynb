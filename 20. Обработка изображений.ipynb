{
 "cells": [
  {
   "cell_type": "markdown",
   "metadata": {
    "slideshow": {
     "slide_type": "slide"
    }
   },
   "source": [
    "Обработка изображений (Image processing)\n",
    "==\n",
    "\n",
    "Операции методами спектрального анализа\n",
    "---\n",
    "- повышение контраста\n",
    "- удаление шума (denoising)\n",
    "- удаление размытости (deblurring)\n",
    "- сегментация, выделение границ (edge detection)\n",
    "\n"
   ]
  },
  {
   "cell_type": "markdown",
   "metadata": {
    "slideshow": {
     "slide_type": "skip"
    }
   },
   "source": [
    "\"Слепое\" разделение изображений\n",
    "--\n",
    "ICA"
   ]
  },
  {
   "cell_type": "markdown",
   "metadata": {
    "slideshow": {
     "slide_type": "slide"
    }
   },
   "source": [
    "Распознавание изображений\n",
    "--\n",
    "\n",
    "\n",
    "1. Выделение границ, например с помощью вейвлет-анализа (wavelets)\n",
    "2. Выделение специфических для классов черт - PCA\n",
    "3. Обнаружение статистической границы между классами, которая позволяет разделить их с заданной вероятностью\n",
    "4. Проверка точности (accuracy) и эффективности (производительности, efficiency)  алгоритма на тестовой выборке изображений."
   ]
  },
  {
   "cell_type": "markdown",
   "metadata": {
    "slideshow": {
     "slide_type": "slide"
    }
   },
   "source": [
    "### Выделение характерных черт (features)\n",
    "\n",
    "![](picasso_lump.jpg)"
   ]
  },
  {
   "cell_type": "markdown",
   "metadata": {
    "slideshow": {
     "slide_type": "subslide"
    }
   },
   "source": [
    "![](lion.jpg)"
   ]
  },
  {
   "cell_type": "markdown",
   "metadata": {
    "slideshow": {
     "slide_type": "subslide"
    }
   },
   "source": [
    "![](0ec9ce7b1146c71880e8134aafdd2a27.jpg)"
   ]
  },
  {
   "cell_type": "markdown",
   "metadata": {
    "slideshow": {
     "slide_type": "slide"
    }
   },
   "source": [
    "Важность контуров легко осознать, убедившись как легко распознавать объекты по силуэту.\n",
    "\n",
    "![](house_animals.jpg)"
   ]
  },
  {
   "cell_type": "markdown",
   "metadata": {
    "slideshow": {
     "slide_type": "subslide"
    }
   },
   "source": [
    "![](animals.jpg)"
   ]
  },
  {
   "cell_type": "markdown",
   "metadata": {
    "slideshow": {
     "slide_type": "slide"
    }
   },
   "source": [
    "Угадайте, кто?\n",
    "\n",
    "<img src=dTreoqB8c.png height=300/>"
   ]
  },
  {
   "cell_type": "markdown",
   "metadata": {
    "slideshow": {
     "slide_type": "slide"
    }
   },
   "source": [
    "Соотношение черт отражает также и внутреннее состояние объектов\n",
    "\n",
    "![](sloniki.jpg)"
   ]
  },
  {
   "cell_type": "markdown",
   "metadata": {
    "slideshow": {
     "slide_type": "subslide"
    }
   },
   "source": [
    "<img src=african-art-dance.jpg width=80%>"
   ]
  },
  {
   "cell_type": "markdown",
   "metadata": {
    "slideshow": {
     "slide_type": "subslide"
    }
   },
   "source": [
    "![](Mixed-Silhouettes-vector-graphics.jpg)"
   ]
  },
  {
   "cell_type": "markdown",
   "metadata": {
    "slideshow": {
     "slide_type": "subslide"
    }
   },
   "source": [
    "<img src=female-figures-movement-8557458.jpg width=80%>"
   ]
  },
  {
   "cell_type": "markdown",
   "metadata": {
    "collapsed": true,
    "slideshow": {
     "slide_type": "slide"
    }
   },
   "source": [
    "Другой важный источник признаков - область вокруг глаз\n",
    "\n",
    "\n",
    "![](brad_pitt_RSdress.jpg)\n",
    "\n",
    "[Тест на аутизм по выражению глаз](http://socialintelligence.labinthewild.org/mite/)\n",
    "\n",
    "\n"
   ]
  },
  {
   "cell_type": "markdown",
   "metadata": {
    "slideshow": {
     "slide_type": "slide"
    }
   },
   "source": [
    "## Форматы изображений\n",
    "\n",
    "бинарные, сжатые \n",
    "- с потерей качества JPEG\n",
    "- без потери качества PNG, TIFF"
   ]
  },
  {
   "cell_type": "markdown",
   "metadata": {
    "collapsed": true,
    "slideshow": {
     "slide_type": "fragment"
    }
   },
   "source": [
    "Способ вставить картинку со всем содержимым в ХМТЛ-код\n",
    "src=\"data:image/png;base64,ABCDF9878726475247239\""
   ]
  },
  {
   "cell_type": "markdown",
   "metadata": {
    "slideshow": {
     "slide_type": "slide"
    }
   },
   "source": [
    "### Пример. Компьютерное зрение в биологии\n",
    "\n",
    "![](plankton.jpg)\n",
    "Exemplars of the dataset with 18 classes. The class identification, number of exemplars in the class (and respective percentage with respect to the total of 5074 samples) are presented under each exemplar.\n",
    "\n",
    "\n",
    "[Hirata N. S. T., Fernandez M. A., Lopes R. M. Plankton Image Classification Based on Multiple Segmentations //Computer Vision for Analysis of Underwater Imagery (CVAUI), 2016 ICPR 2nd Workshop on. – IEEE, 2016. – С. 55-60.](http://ieeexplore.ieee.org/abstract/document/7813094/)"
   ]
  },
  {
   "cell_type": "markdown",
   "metadata": {
    "slideshow": {
     "slide_type": "slide"
    }
   },
   "source": [
    "![](nauplius_contour.png)\n",
    "\n",
    "Contours (external contours in red and internal contours in blue) of an exemplar of nauplii, obtained with three distinct segmentation algorithms."
   ]
  },
  {
   "cell_type": "markdown",
   "metadata": {
    "slideshow": {
     "slide_type": "slide"
    }
   },
   "source": [
    "![thumb](doppler_mitral_valve.gif)\n",
    "![thumb](image-5.jpg)\n",
    "![thumb](image-2.jpg)\n",
    "![thumb](image-1.jpg)"
   ]
  },
  {
   "cell_type": "markdown",
   "metadata": {
    "slideshow": {
     "slide_type": "slide"
    }
   },
   "source": [
    "### Пример. Подготовка к анализу изображений грудной клетки из компьютерного томографа\n",
    "\n",
    "![thumb](dicom2.png) \n",
    "![thumb](dicom.png)\n",
    "\n",
    "- Загрузка файлов DICOM и добавление недостающих метаданных\n",
    "- Преобразование значений пикселей в единицы Хаунсфилда (HU, по шкале рентгеновской плотности) и определение по ним видов ткани\n",
    "- Пересчет в равномерное разрешение, чтобы исправить вариацию в разрешении сканера.\n",
    "- 3D визуализация полученных структур\n",
    "- Сегментация легкого\n",
    "- Нормализация диапазона значений\n",
    "- Центрирование относительно нуля\n",
    "\n",
    "\n",
    "\n",
    "https://www.kaggle.com/gzuidhof/data-science-bowl-2017/full-preprocessing-tutorial"
   ]
  },
  {
   "cell_type": "markdown",
   "metadata": {
    "slideshow": {
     "slide_type": "slide"
    }
   },
   "source": [
    "# Модули\n",
    "\n",
    "[Mahotas](http://mahotas.readthedocs.io/) is a computer vision and image processing library for Python.\n",
    "\n",
    "OpenCV\n",
    "\n",
    "[Caffe2](https://caffe2.ai) is a lightweight, modular, and scalable deep learning framework. "
   ]
  },
  {
   "cell_type": "markdown",
   "metadata": {
    "slideshow": {
     "slide_type": "slide"
    }
   },
   "source": [
    "## Предобработка изображений\n",
    "\n",
    "[Подготовка картинок для интеллектуального анализа](https://nbviewer.jupyter.org/github/caffe2/tutorials/blob/master/Image_Pre-Processing_Pipeline.ipynb)\n",
    "\n",
    "([локальная копия](Image_Pre-Processing_Pipeline.ipynb))"
   ]
  },
  {
   "cell_type": "markdown",
   "metadata": {
    "collapsed": true,
    "slideshow": {
     "slide_type": "slide"
    }
   },
   "source": [
    "## Современные подходы\n",
    "\n",
    "[Тематический поиск медицинских изображений](http://www.khresmoi.eu/assets/Deliverables/WP2/KhresmoiD26.pdf)"
   ]
  }
 ],
 "metadata": {
  "celltoolbar": "Slideshow",
  "kernelspec": {
   "display_name": "Python 3",
   "language": "python",
   "name": "python3"
  },
  "language_info": {
   "codemirror_mode": {
    "name": "ipython",
    "version": 3
   },
   "file_extension": ".py",
   "mimetype": "text/x-python",
   "name": "python",
   "nbconvert_exporter": "python",
   "pygments_lexer": "ipython3",
   "version": "3.5.2"
  },
  "toc": {
   "base_numbering": 1,
   "nav_menu": {
    "height": "178px",
    "width": "252px"
   },
   "number_sections": false,
   "sideBar": true,
   "skip_h1_title": false,
   "title_cell": "Table of Contents",
   "title_sidebar": "Contents",
   "toc_cell": false,
   "toc_position": {},
   "toc_section_display": "block",
   "toc_window_display": false
  }
 },
 "nbformat": 4,
 "nbformat_minor": 1
}
