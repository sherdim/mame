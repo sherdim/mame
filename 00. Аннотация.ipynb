{
 "cells": [
  {
   "cell_type": "markdown",
   "metadata": {},
   "source": [
    "# Аннотация\n",
    "\n",
    "Методическое пособие призвано обеспечить информационную поддержку студенту, осваивающему биостатистику, технологии измерения и математические методы анализа данных.\n",
    "\n",
    "Пособие включает подробное описание пошагового выполнения практических работ в программной среде Jupyter Notebook на языке Python, поэтому пособие может использоваться для самостоятельного выполнения расчетно-графических работ, которые обычно выполняются в классе под руководством преподавателя.\n"
   ]
  },
  {
   "cell_type": "markdown",
   "metadata": {},
   "source": [
    "## Структура учебного пособия\n",
    "\n",
    "Упражнения выполнены в виде сборника блокнотов в формате [Jupyter Notebook](//jupyter.org/).\n",
    "\n",
    "Теоретические материалы пронумерованы в порядке, рекомендуемым для самостоятельного изучения. \n",
    "\n",
    "Практические задания имеют префикс `Task_`. Практические задания объединяют в себе примеры отдельных операций обработки данных, ссылки на дополнительные материалы, упражнения для самостоятельного выполнения.\n",
    "\n",
    "* [Рекомендации по выполнению практических работ на скриптовых языках](00.%20%D0%A0%D0%B0%D0%B1%D0%BE%D1%87%D0%B0%D1%8F%20%D1%82%D0%B5%D1%82%D1%80%D0%B0%D0%B4%D1%8C.ipynb) \n"
   ]
  }
 ],
 "metadata": {
  "kernelspec": {
   "display_name": "Python 3",
   "language": "python",
   "name": "python3"
  },
  "language_info": {
   "codemirror_mode": {
    "name": "ipython",
    "version": 3
   },
   "file_extension": ".py",
   "mimetype": "text/x-python",
   "name": "python",
   "nbconvert_exporter": "python",
   "pygments_lexer": "ipython3",
   "version": "3.9.0rc1"
  },
  "toc": {
   "base_numbering": 1,
   "nav_menu": {},
   "number_sections": false,
   "sideBar": true,
   "skip_h1_title": false,
   "title_cell": "Table of Contents",
   "title_sidebar": "Contents",
   "toc_cell": false,
   "toc_position": {},
   "toc_section_display": true,
   "toc_window_display": false
  }
 },
 "nbformat": 4,
 "nbformat_minor": 4
}
