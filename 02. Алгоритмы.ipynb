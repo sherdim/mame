{
 "cells": [
  {
   "cell_type": "code",
   "execution_count": 1,
   "metadata": {
    "collapsed": false,
    "deletable": true,
    "editable": true,
    "slideshow": {
     "slide_type": "skip"
    }
   },
   "outputs": [
    {
     "name": "stdout",
     "output_type": "stream",
     "text": [
      "Populating the interactive namespace from numpy and matplotlib\n"
     ]
    }
   ],
   "source": [
    "%pylab inline\n",
    "import seaborn as sns"
   ]
  },
  {
   "cell_type": "markdown",
   "metadata": {
    "slideshow": {
     "slide_type": "slide"
    }
   },
   "source": [
    "# Алгоритмы"
   ]
  },
  {
   "cell_type": "markdown",
   "metadata": {
    "slideshow": {
     "slide_type": "slide"
    }
   },
   "source": [
    "## План лекции\n",
    "1. Алгоритм как совокупность операций\n",
    "1. Массивы\n",
    "1. Случайные числа\n",
    "1. Планирование экспериментов"
   ]
  },
  {
   "cell_type": "markdown",
   "metadata": {
    "slideshow": {
     "slide_type": "slide"
    }
   },
   "source": [
    "![](algo.png)"
   ]
  },
  {
   "cell_type": "markdown",
   "metadata": {
    "slideshow": {
     "slide_type": "slide"
    }
   },
   "source": [
    "## Итеративный алгоритм\n",
    "\n",
    "- операция повторяется многократно\n",
    "- условие прекращения \n",
    "\n",
    "Вложенные итерации увеличивают число операций кратно."
   ]
  },
  {
   "cell_type": "markdown",
   "metadata": {
    "deletable": true,
    "editable": true,
    "slideshow": {
     "slide_type": "slide"
    }
   },
   "source": [
    "## Жадный алгоритм\n",
    "\n",
    "перебор всех вариантов по очереди от начала до конца.\n",
    "\n",
    "<b class=tag>Greedy algorythm</b>"
   ]
  },
  {
   "cell_type": "markdown",
   "metadata": {
    "slideshow": {
     "slide_type": "slide"
    }
   },
   "source": [
    "### Условия начала и конца\n",
    "\n",
    "Вариант - очередь в реальном времени:\n",
    "- заканчиваются данные, но потом снова появляются.\n"
   ]
  },
  {
   "cell_type": "markdown",
   "metadata": {
    "slideshow": {
     "slide_type": "fragment"
    }
   },
   "source": [
    "Потоки данных: входящий и выходящий\n",
    "вход и выход\n",
    "труба к трубе (pipeline)\n",
    "\n",
    "<b class=tag>конвеер</b>"
   ]
  },
  {
   "cell_type": "markdown",
   "metadata": {
    "slideshow": {
     "slide_type": "slide"
    }
   },
   "source": [
    "## FIFO, LIFO\n",
    "\n",
    "![](fifolifo.png)\n",
    "\n",
    "труба, стопка"
   ]
  },
  {
   "cell_type": "markdown",
   "metadata": {
    "slideshow": {
     "slide_type": "slide"
    }
   },
   "source": [
    "## Конечный массив\n",
    "\n",
    "есть начало, конец, размер."
   ]
  },
  {
   "cell_type": "markdown",
   "metadata": {
    "slideshow": {
     "slide_type": "slide"
    }
   },
   "source": [
    "### Виды массивов в Python\n",
    "- list\n",
    "- numpy.array\n",
    "- pandas.DataFrame, pandas.Series"
   ]
  },
  {
   "cell_type": "markdown",
   "metadata": {
    "slideshow": {
     "slide_type": "slide"
    }
   },
   "source": [
    "### Линейная алгебра (ЛА)\n",
    "\n",
    "*Матрица* $A_{m,n}$ - набор чисел в ячейках размером $m$ на $n$\n",
    "\n",
    "Если $m==1$ или $n==1$, то такая матрица называется *вектор*.\n",
    "\n",
    "Если $m==1$ **и** $n==1$, то такая матрица называется *скаляр* (скалярная величина, обычное единичное число).\n",
    "\n",
    "Специальная операция - cкалярное произведение (перемножение матриц, dot-product)"
   ]
  },
  {
   "cell_type": "markdown",
   "metadata": {
    "slideshow": {
     "slide_type": "slide"
    }
   },
   "source": [
    "Матрицы можно только умножать.\n",
    "Вместо деления - инверсия.\n",
    "\n",
    "$$\\frac{B}{A} = A^{-1}B $$\n",
    "\n"
   ]
  },
  {
   "cell_type": "markdown",
   "metadata": {
    "slideshow": {
     "slide_type": "slide"
    }
   },
   "source": [
    "Умножение на диагональную матрицу - растяжение (stretching, scaling)\n",
    "\n",
    "Умножение на ортонормальную (unitary) матрицу - вращение (rotating)\n",
    "\n",
    "SVD-разложение: $U, \\Sigma, V$ - вращение, растяжение, вращение\n",
    "\n",
    "- для обратного вращения - транспорнированная матрица вращения $U^T$\n",
    "\n",
    "- для обратного растяжения - инвертированная матрица весов $\\Sigma^{-1}$"
   ]
  },
  {
   "cell_type": "markdown",
   "metadata": {
    "slideshow": {
     "slide_type": "slide"
    }
   },
   "source": [
    "Согласование размерностей\n",
    "\n",
    "![](numpy_broadcasting.png)"
   ]
  },
  {
   "cell_type": "markdown",
   "metadata": {
    "slideshow": {
     "slide_type": "slide"
    }
   },
   "source": [
    "### Геометрическая интерпретация\n",
    "\n",
    "Вектор (строчка матрицы) - это координаты конца стрелочки (arrow head), если начало вектора (хвостик, tail) при этом в нулевой точке. Но, если сместить вектор в пространстве, не меняя направления, то это тот же вектор, значит числа отражают разницу между концом и началом вдоль осей координат.\n",
    "\n",
    "Размер вектора ( длина, расстояние между началом и концом) вычисляют по теореме Пифагора (для 2-мерного пространства L2-norm)\n",
    "\n",
    "$$ L = |X|_p = \\left(\\sum{x_i^p}\\right)^{1/p}, p=2$$"
   ]
  },
  {
   "cell_type": "markdown",
   "metadata": {
    "deletable": true,
    "editable": true,
    "slideshow": {
     "slide_type": "slide"
    }
   },
   "source": [
    "### Интервалы\n",
    "\n",
    "- открытые\n",
    "- закрытые\n",
    "- полуоткрытые\n",
    "\n",
    "используются при индексации массивов"
   ]
  },
  {
   "cell_type": "markdown",
   "metadata": {
    "deletable": true,
    "editable": true,
    "slideshow": {
     "slide_type": "slide"
    }
   },
   "source": [
    "### Индексация массивов полуоткрытая\n",
    "\n",
    "- по-умолчанию от 0\n",
    "- разность конца и начала = размеру подмассива\n",
    "- логичное определение пустых интервалов `v[0:0]`\n"
   ]
  },
  {
   "cell_type": "markdown",
   "metadata": {
    "slideshow": {
     "slide_type": "slide"
    }
   },
   "source": [
    "# EM-алгоритм\n",
    "\n",
    "На каждой итерации проводится два шага:\n",
    "\n",
    "### E - evalution\n",
    "Оценка текущего состояния\n",
    "\n",
    "### M - maximisation \n",
    "Максимизация параметров. Т.е. \"подгонка\" модели под текущую выборку объектов. Например, путем минимизации ошибки."
   ]
  },
  {
   "cell_type": "markdown",
   "metadata": {
    "slideshow": {
     "slide_type": "slide"
    }
   },
   "source": [
    "![](emalg.png) \n",
    " \n",
    "Иллюстрация применения ЕМ-алгоритма для разделения смеси нормальных распределений\n",
    "с двумя компонентами. На рис. а показана исходная выборка и начальное приближение для двух\n",
    "компонент. На рис. b показан результат Е шага. При этом цвета объектов соответствуют значениям\n",
    "γ nk . На рис. c-f показаны результаты вычислений после 1, 2, 5 и 20 итераций."
   ]
  },
  {
   "cell_type": "markdown",
   "metadata": {
    "slideshow": {
     "slide_type": "slide"
    }
   },
   "source": [
    "Варианты ЕМ-алгоритма:\n",
    "- K-means\n",
    "- Фильтр Кальмана\n",
    "- Алгоритмы оптимизации"
   ]
  },
  {
   "cell_type": "markdown",
   "metadata": {
    "slideshow": {
     "slide_type": "slide"
    }
   },
   "source": [
    "### Приведение к нахождению минимума\n",
    "\n",
    "- функция потерь (loss function)\n",
    "- минимизация \n",
    "\n",
    "если потери = 0, то идеальное решение, иначе оптимальное."
   ]
  },
  {
   "cell_type": "markdown",
   "metadata": {
    "slideshow": {
     "slide_type": "slide"
    }
   },
   "source": [
    "Алгоритмы\n",
    "\n",
    "Жесткие | Нежесткие\n",
    "-|-\n",
    "однозначная траектория | приблизительная траектория\n",
    "перебор всех вариантов | неполный случайный выбор вариантов\n",
    "скорость предопределена | скорость в пределах от и до\n",
    "решение гарантировано | лучше усреднить несколько проходов"
   ]
  },
  {
   "cell_type": "markdown",
   "metadata": {
    "slideshow": {
     "slide_type": "slide"
    }
   },
   "source": [
    "## Случайные числа"
   ]
  },
  {
   "cell_type": "code",
   "execution_count": 12,
   "metadata": {
    "collapsed": false
   },
   "outputs": [
    {
     "data": {
      "text/plain": [
       "0.26058434996981117"
      ]
     },
     "execution_count": 12,
     "metadata": {},
     "output_type": "execute_result"
    }
   ],
   "source": [
    "rand()"
   ]
  },
  {
   "cell_type": "markdown",
   "metadata": {
    "slideshow": {
     "slide_type": "slide"
    }
   },
   "source": [
    "## ГСЧ"
   ]
  },
  {
   "cell_type": "code",
   "execution_count": 57,
   "metadata": {
    "collapsed": false
   },
   "outputs": [
    {
     "data": {
      "text/plain": [
       "(0.9982953629878466,\n",
       " 0.6796555704280653,\n",
       " 0.4358626575970751,\n",
       " 0.9590666209451498)"
      ]
     },
     "execution_count": 57,
     "metadata": {},
     "output_type": "execute_result"
    }
   ],
   "source": [
    "seed()\n",
    "rand(), rand(), rand(), rand()"
   ]
  },
  {
   "cell_type": "markdown",
   "metadata": {
    "deletable": true,
    "editable": true,
    "slideshow": {
     "slide_type": "slide"
    }
   },
   "source": [
    "[Визуализация алгоритмов](https://bost.ocks.org/mike/algorithms/)"
   ]
  },
  {
   "cell_type": "markdown",
   "metadata": {
    "deletable": true,
    "editable": true,
    "slideshow": {
     "slide_type": "slide"
    }
   },
   "source": [
    "## Динамическое программирование\n",
    "\n",
    "Подход к решению задач, при котором есть перекрытие между подзадачами и исходной задачей, т.е. они замыкаются друг на друга (рекурсия). Процесс решения включает этапы:\n",
    "1. Выделение фрагментов задачи.\n",
    "2. Разбор примитивных случаев с простыми решениями (с конца).\n",
    "3. Запоминание вариантов решений в таблицу или задание порядка пересчета.\n",
    "4. Подбор пошаговых решений из таблицы или переформулирование сложной задачи в виде рекурсивной последовательности более простых подзадач."
   ]
  },
  {
   "cell_type": "markdown",
   "metadata": {
    "slideshow": {
     "slide_type": "slide"
    }
   },
   "source": [
    "## Планирование экспериментов"
   ]
  },
  {
   "cell_type": "markdown",
   "metadata": {
    "deletable": true,
    "editable": true,
    "slideshow": {
     "slide_type": "-"
    }
   },
   "source": [
    "### +++\n",
    "\n",
    "[Почему индексация от 0](http://gestaltrevision.be/wiki/python/zerobased)"
   ]
  }
 ],
 "metadata": {
  "kernelspec": {
   "display_name": "Python 3",
   "language": "python",
   "name": "python3"
  },
  "language_info": {
   "codemirror_mode": {
    "name": "ipython",
    "version": 3
   },
   "file_extension": ".py",
   "mimetype": "text/x-python",
   "name": "python",
   "nbconvert_exporter": "python",
   "pygments_lexer": "ipython3",
   "version": "3.5.2"
  },
  "toc": {
   "colors": {
    "hover_highlight": "#DAA520",
    "running_highlight": "#FF0000",
    "selected_highlight": "#FFD700"
   },
   "moveMenuLeft": true,
   "nav_menu": {
    "height": "86px",
    "width": "252px"
   },
   "navigate_menu": true,
   "number_sections": false,
   "sideBar": true,
   "threshold": 4,
   "toc_cell": false,
   "toc_section_display": "block",
   "toc_window_display": false
  }
 },
 "nbformat": 4,
 "nbformat_minor": 0
}
