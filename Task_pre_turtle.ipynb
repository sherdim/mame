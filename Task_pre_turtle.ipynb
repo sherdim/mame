{
 "cells": [
  {
   "cell_type": "markdown",
   "metadata": {
    "deletable": true,
    "editable": true
   },
   "source": [
    "# Анализ целостности набора данных\n",
    "\n",
    "на примере датасета о черепахах"
   ]
  },
  {
   "cell_type": "code",
   "execution_count": 1,
   "metadata": {
    "collapsed": false,
    "deletable": true,
    "editable": true
   },
   "outputs": [
    {
     "name": "stdout",
     "output_type": "stream",
     "text": [
      "Populating the interactive namespace from numpy and matplotlib\n"
     ]
    }
   ],
   "source": [
    "%pylab inline\n",
    "import pandas as pd"
   ]
  },
  {
   "cell_type": "code",
   "execution_count": 2,
   "metadata": {
    "collapsed": false,
    "deletable": true,
    "editable": true
   },
   "outputs": [
    {
     "name": "stdout",
     "output_type": "stream",
     "text": [
      "<class 'pandas.core.frame.DataFrame'>\n",
      "RangeIndex: 692 entries, 0 to 691\n",
      "Data columns (total 16 columns):\n",
      "Genus               692 non-null object\n",
      "Species             692 non-null object\n",
      "Common Name         306 non-null object\n",
      "Family              692 non-null object\n",
      "M Mass (g)          297 non-null float64\n",
      "F Mass (g)          297 non-null float64\n",
      "N                   446 non-null object\n",
      "Locality            289 non-null object\n",
      "M SCL (mm)          534 non-null float64\n",
      "F SCL (mm)          537 non-null float64\n",
      "M Max Mass (g)      126 non-null float64\n",
      "F Max Mass (g)      127 non-null float64\n",
      "Pop Max Mass (g)    113 non-null float64\n",
      "M Max SCL (mm)      271 non-null float64\n",
      "F Max SCL (mm)      272 non-null float64\n",
      "Pop Max SCL (mm)    125 non-null float64\n",
      "dtypes: float64(10), object(6)\n",
      "memory usage: 70.3+ KB\n"
     ]
    }
   ],
   "source": [
    "D = pd.read_excel('Data_S1_Complete_Dataset.xlsx', skiprows=5)\n",
    "D=D.iloc[:,6:-5]\n",
    "D.info()"
   ]
  },
  {
   "cell_type": "markdown",
   "metadata": {
    "deletable": true,
    "editable": true
   },
   "source": [
    "Для анализа полового диморфизма каждая запись должна содержать размер женской особи и мужской особи."
   ]
  },
  {
   "cell_type": "markdown",
   "metadata": {
    "deletable": true,
    "editable": true
   },
   "source": [
    "Вопрос: сколько размеров без пары?\n",
    "\n",
    "Первая проверка, сколько мужских без женских?"
   ]
  },
  {
   "cell_type": "code",
   "execution_count": 3,
   "metadata": {
    "collapsed": false,
    "deletable": true,
    "editable": true
   },
   "outputs": [
    {
     "data": {
      "text/html": [
       "<div>\n",
       "<table border=\"1\" class=\"dataframe\">\n",
       "  <thead>\n",
       "    <tr style=\"text-align: right;\">\n",
       "      <th></th>\n",
       "      <th>Genus</th>\n",
       "      <th>Species</th>\n",
       "      <th>Common Name</th>\n",
       "      <th>Family</th>\n",
       "      <th>M Mass (g)</th>\n",
       "      <th>F Mass (g)</th>\n",
       "      <th>N</th>\n",
       "      <th>Locality</th>\n",
       "      <th>M SCL (mm)</th>\n",
       "      <th>F SCL (mm)</th>\n",
       "      <th>M Max Mass (g)</th>\n",
       "      <th>F Max Mass (g)</th>\n",
       "      <th>Pop Max Mass (g)</th>\n",
       "      <th>M Max SCL (mm)</th>\n",
       "      <th>F Max SCL (mm)</th>\n",
       "      <th>Pop Max SCL (mm)</th>\n",
       "    </tr>\n",
       "  </thead>\n",
       "  <tbody>\n",
       "  </tbody>\n",
       "</table>\n",
       "</div>"
      ],
      "text/plain": [
       "Empty DataFrame\n",
       "Columns: [Genus, Species, Common Name, Family, M Mass (g), F Mass (g), N, Locality, M SCL (mm), F SCL (mm), M Max Mass (g), F Max Mass (g), Pop Max Mass (g), M Max SCL (mm), F Max SCL (mm), Pop Max SCL (mm)]\n",
       "Index: []"
      ]
     },
     "execution_count": 3,
     "metadata": {},
     "output_type": "execute_result"
    }
   ],
   "source": [
    "D[ D['M SCL (mm)'].notnull() & D['F SCL (mm)'].isnull() ]"
   ]
  },
  {
   "cell_type": "markdown",
   "metadata": {
    "deletable": true,
    "editable": true
   },
   "source": [
    "Вторая проверка, сколько женских без мужских?"
   ]
  },
  {
   "cell_type": "code",
   "execution_count": 4,
   "metadata": {
    "collapsed": false,
    "deletable": true,
    "editable": true
   },
   "outputs": [
    {
     "data": {
      "text/html": [
       "<div>\n",
       "<table border=\"1\" class=\"dataframe\">\n",
       "  <thead>\n",
       "    <tr style=\"text-align: right;\">\n",
       "      <th></th>\n",
       "      <th>Genus</th>\n",
       "      <th>Species</th>\n",
       "      <th>Common Name</th>\n",
       "      <th>Family</th>\n",
       "      <th>M Mass (g)</th>\n",
       "      <th>F Mass (g)</th>\n",
       "      <th>N</th>\n",
       "      <th>Locality</th>\n",
       "      <th>M SCL (mm)</th>\n",
       "      <th>F SCL (mm)</th>\n",
       "      <th>M Max Mass (g)</th>\n",
       "      <th>F Max Mass (g)</th>\n",
       "      <th>Pop Max Mass (g)</th>\n",
       "      <th>M Max SCL (mm)</th>\n",
       "      <th>F Max SCL (mm)</th>\n",
       "      <th>Pop Max SCL (mm)</th>\n",
       "    </tr>\n",
       "  </thead>\n",
       "  <tbody>\n",
       "    <tr>\n",
       "      <th>156</th>\n",
       "      <td>Cycloderma</td>\n",
       "      <td>frenatum</td>\n",
       "      <td>Zambezi flapshell turtle</td>\n",
       "      <td>Trionychidae</td>\n",
       "      <td>NaN</td>\n",
       "      <td>NaN</td>\n",
       "      <td>1M, 1F</td>\n",
       "      <td>Zambezi River, southern Africa</td>\n",
       "      <td>NaN</td>\n",
       "      <td>560.0</td>\n",
       "      <td>13500.0</td>\n",
       "      <td>11400.0</td>\n",
       "      <td>NaN</td>\n",
       "      <td>NaN</td>\n",
       "      <td>NaN</td>\n",
       "      <td>NaN</td>\n",
       "    </tr>\n",
       "    <tr>\n",
       "      <th>466</th>\n",
       "      <td>Pelomedusa</td>\n",
       "      <td>subrufa</td>\n",
       "      <td>helmeted turtle</td>\n",
       "      <td>Pelomedusidae</td>\n",
       "      <td>NaN</td>\n",
       "      <td>NaN</td>\n",
       "      <td>NaN</td>\n",
       "      <td>Sub-Saharan Africa</td>\n",
       "      <td>NaN</td>\n",
       "      <td>290.0</td>\n",
       "      <td>3000.0</td>\n",
       "      <td>2200.0</td>\n",
       "      <td>3000.0</td>\n",
       "      <td>325.0</td>\n",
       "      <td>NaN</td>\n",
       "      <td>NaN</td>\n",
       "    </tr>\n",
       "    <tr>\n",
       "      <th>471</th>\n",
       "      <td>Pelusios</td>\n",
       "      <td>adansonii</td>\n",
       "      <td>Adanson's turtle</td>\n",
       "      <td>Pelomedusidae</td>\n",
       "      <td>NaN</td>\n",
       "      <td>NaN</td>\n",
       "      <td>NaN</td>\n",
       "      <td>Senegal</td>\n",
       "      <td>NaN</td>\n",
       "      <td>220.0</td>\n",
       "      <td>650.0</td>\n",
       "      <td>1620.0</td>\n",
       "      <td>NaN</td>\n",
       "      <td>NaN</td>\n",
       "      <td>238.0</td>\n",
       "      <td>NaN</td>\n",
       "    </tr>\n",
       "  </tbody>\n",
       "</table>\n",
       "</div>"
      ],
      "text/plain": [
       "          Genus    Species               Common Name         Family  \\\n",
       "156  Cycloderma   frenatum  Zambezi flapshell turtle   Trionychidae   \n",
       "466  Pelomedusa    subrufa           helmeted turtle  Pelomedusidae   \n",
       "471    Pelusios  adansonii          Adanson's turtle  Pelomedusidae   \n",
       "\n",
       "     M Mass (g)  F Mass (g)       N                         Locality  \\\n",
       "156         NaN         NaN  1M, 1F  Zambezi River, southern Africa    \n",
       "466         NaN         NaN     NaN               Sub-Saharan Africa   \n",
       "471         NaN         NaN     NaN                          Senegal   \n",
       "\n",
       "     M SCL (mm)  F SCL (mm)  M Max Mass (g)  F Max Mass (g)  Pop Max Mass (g)  \\\n",
       "156         NaN       560.0         13500.0         11400.0               NaN   \n",
       "466         NaN       290.0          3000.0          2200.0            3000.0   \n",
       "471         NaN       220.0           650.0          1620.0               NaN   \n",
       "\n",
       "     M Max SCL (mm)  F Max SCL (mm)  Pop Max SCL (mm)  \n",
       "156             NaN             NaN               NaN  \n",
       "466           325.0             NaN               NaN  \n",
       "471             NaN           238.0               NaN  "
      ]
     },
     "execution_count": 4,
     "metadata": {},
     "output_type": "execute_result"
    }
   ],
   "source": [
    "D[ D['M SCL (mm)'].isnull() & D['F SCL (mm)'].notnull() ]"
   ]
  },
  {
   "cell_type": "code",
   "execution_count": 5,
   "metadata": {
    "collapsed": false,
    "deletable": true,
    "editable": true
   },
   "outputs": [
    {
     "data": {
      "text/plain": [
       "(3, 16)"
      ]
     },
     "execution_count": 5,
     "metadata": {},
     "output_type": "execute_result"
    }
   ],
   "source": [
    "_.shape"
   ]
  },
  {
   "cell_type": "markdown",
   "metadata": {
    "deletable": true,
    "editable": true
   },
   "source": [
    "В трех случаях указаны только женские размеры.\n",
    "\n",
    "Для Pelomedusa \tsubrufa (№ 466) правда указан максимальный размер самца.\n",
    "\n",
    "Можно заметить, что все три вида - морские черепахи. Поэтому становится понятным почему нет самцов.\n",
    "\n",
    "Вероятно, замеры самок производились во время кладки яиц, когда самки черепах выползают из воды на песок. Самцы же в это время плавают где-то в море."
   ]
  },
  {
   "cell_type": "markdown",
   "metadata": {
    "deletable": true,
    "editable": true
   },
   "source": [
    "### Анализ корректности семейств\n",
    "\n",
    "Для сравнительного анализа часто необходимо группировать наблюдения. В этом наборе данных группировку логично делать по систематическому признаку - Семейству (Family).\n",
    "\n",
    "Проверим, что у всех видов указано семейство."
   ]
  },
  {
   "cell_type": "code",
   "execution_count": 2,
   "metadata": {
    "collapsed": false,
    "deletable": true,
    "editable": true
   },
   "outputs": [
    {
     "ename": "NameError",
     "evalue": "name 'D' is not defined",
     "output_type": "error",
     "traceback": [
      "\u001b[0;31m---------------------------------------------------------------------------\u001b[0m",
      "\u001b[0;31mNameError\u001b[0m                                 Traceback (most recent call last)",
      "\u001b[0;32m<ipython-input-2-a9d17dcc80b9>\u001b[0m in \u001b[0;36m<module>\u001b[0;34m()\u001b[0m\n\u001b[0;32m----> 1\u001b[0;31m \u001b[0mD\u001b[0m\u001b[0;34m.\u001b[0m\u001b[0mFamily\u001b[0m\u001b[0;34m.\u001b[0m\u001b[0mvalue_counts\u001b[0m\u001b[0;34m(\u001b[0m\u001b[0;34m)\u001b[0m\u001b[0;34m.\u001b[0m\u001b[0msort_index\u001b[0m\u001b[0;34m(\u001b[0m\u001b[0;34m)\u001b[0m\u001b[0;34m\u001b[0m\u001b[0m\n\u001b[0m",
      "\u001b[0;31mNameError\u001b[0m: name 'D' is not defined"
     ]
    }
   ],
   "source": [
    "D.Family.value_counts().sort_index()"
   ]
  },
  {
   "cell_type": "markdown",
   "metadata": {
    "deletable": true,
    "editable": true
   },
   "source": [
    "Обратите внимание, что Chelydridae встречаются два раза. Это означает, что эти названия различаются на один невидимый символ. "
   ]
  },
  {
   "cell_type": "code",
   "execution_count": 7,
   "metadata": {
    "collapsed": false,
    "deletable": true,
    "editable": true
   },
   "outputs": [
    {
     "data": {
      "text/plain": [
       "array([u'Chelidae', u'Emydidae', u'Testudinidae', u'Trionychidae',\n",
       "       u'Geoemydidae', u'Cheloniidae', u'Carettochelyidae',\n",
       "       u'Chelydridae ', u'Chelydridae', u'Kinosternidae',\n",
       "       u'Dermatemydidae', u'Dermochelyidae', u'Podocnemididae',\n",
       "       u'Pelomedusidae', u'Platysternidae'], dtype=object)"
      ]
     },
     "execution_count": 7,
     "metadata": {},
     "output_type": "execute_result"
    }
   ],
   "source": [
    "D.Family.unique()"
   ]
  },
  {
   "cell_type": "markdown",
   "metadata": {
    "deletable": true,
    "editable": true
   },
   "source": [
    "Отбираем все с ошибочным написанием и заменяем значение в колонке Family на правильное."
   ]
  },
  {
   "cell_type": "code",
   "execution_count": 8,
   "metadata": {
    "collapsed": false,
    "deletable": true,
    "editable": true
   },
   "outputs": [
    {
     "data": {
      "text/plain": [
       "array([u'Chelidae', u'Emydidae', u'Testudinidae', u'Trionychidae',\n",
       "       u'Geoemydidae', u'Cheloniidae', u'Carettochelyidae', u'Chelydridae',\n",
       "       u'Kinosternidae', u'Dermatemydidae', u'Dermochelyidae',\n",
       "       u'Podocnemididae', u'Pelomedusidae', u'Platysternidae'], dtype=object)"
      ]
     },
     "execution_count": 8,
     "metadata": {},
     "output_type": "execute_result"
    }
   ],
   "source": [
    "D.ix[D.Family=='Chelydridae ','Family']='Chelydridae'\n",
    "\n",
    "D.Family.unique()"
   ]
  },
  {
   "cell_type": "markdown",
   "metadata": {},
   "source": [
    "Если посмотреть на ту же проблему с названиями родов, то окажется, что это типичная ситуация."
   ]
  },
  {
   "cell_type": "code",
   "execution_count": 9,
   "metadata": {
    "collapsed": false
   },
   "outputs": [
    {
     "data": {
      "text/plain": [
       "131"
      ]
     },
     "execution_count": 9,
     "metadata": {},
     "output_type": "execute_result"
    }
   ],
   "source": [
    "sum(D.Genus.str.endswith(' '))  #проверяем, что строка с названием рода оканчивается пробелом"
   ]
  },
  {
   "cell_type": "markdown",
   "metadata": {},
   "source": [
    "Примерно каждое пятое название рода оканчивается пробелом. Т.е. авторы не придавали этому значения. Когда строки содержат пробелы спереди или сзади как правило это не влияет на их смысловое содержание. Для обрезания крайних пробелов существует специальная функция `strip`, после применения которой дублей не остается."
   ]
  },
  {
   "cell_type": "code",
   "execution_count": 10,
   "metadata": {
    "collapsed": false
   },
   "outputs": [
    {
     "data": {
      "text/plain": [
       "array([u'Acanthochelys', u'Agrionemys', u'Apalone', u'Aspideretes',\n",
       "       u'Astrochelys', u'Batagur', u'Caretta', u'Carettochelys',\n",
       "       u'Chelodina', u'Chelonia', u'Chelonoidis', u'Chelus', u'Chelydra',\n",
       "       u'Chersina', u'Chitra', u'Chrysemys', u'Claudius', u'Clemmys',\n",
       "       u'Cuora', u'Cyclemys', u'Cycloderma', u'Deirochelys', u'Dermatemys',\n",
       "       u'Dermochelys', u'Dipsochelys', u'Dogania', u'Elseya', u'Elusor',\n",
       "       u'Emydura', u'Emys', u'Eretmochelys', u'Erymnochelys',\n",
       "       u'Geochelone', u'Geoclemys', u'Glyptemys', u'Gopherus',\n",
       "       u'Graptemys', u'Hardella', u'Heosemys', u'Homopus', u'Hydromedusa',\n",
       "       u'Indotestudo', u'Kinixys', u'Kinosternon', u'Kinosternum',\n",
       "       u'Lepidochelys', u'Leucocephalon', u'Lissemys', u'Macrochelys',\n",
       "       u'Malaclemys', u'Malacochersus', u'Malayemys', u'Manouria',\n",
       "       u'Mauremys', u'Melanochelys', u'Mesoclemmys', u'Morenia',\n",
       "       u'Myuchelys', u'Nilssonia', u'Notochelys', u'Palea', u'Pangshura',\n",
       "       u'Pelodiscus', u'Pelomedusa', u'Peltocephalus', u'Pelusios',\n",
       "       u'Phrynops', u'Platemys', u'Platysternon', u'Podocnemis',\n",
       "       u'Podocnemus', u'Psammobates', u'Pseudemydura', u'Pseudemys',\n",
       "       u'Pyxis', u'Rheodytes', u'Rhinemys', u'Rhinoclemmys', u'Sacalia',\n",
       "       u'Siebenrockiella', u'Staurotypus', u'Sternotherus',\n",
       "       u'Stigmochelys', u'Terrapene', u'Testudo', u'Trachemys',\n",
       "       u'Vijayachelys'], dtype=object)"
      ]
     },
     "execution_count": 10,
     "metadata": {},
     "output_type": "execute_result"
    }
   ],
   "source": [
    "unique(D.Genus.str.strip())"
   ]
  },
  {
   "cell_type": "markdown",
   "metadata": {},
   "source": [
    "В подобном случае операцию приведения строк в порядок можно делать сразу после загрузки набора данных. Например, мы все значения из колонки меняем на эти же значения, но исправленные.\n",
    "```py\n",
    "D.Genus = D.Genus.str.strip()\n",
    "```\n",
    "Похожие операция стандартизации могут потребовать нестандартные сокращения, нестандартные указания даты и времени, строки с разным регистром символов и др."
   ]
  },
  {
   "cell_type": "markdown",
   "metadata": {
    "deletable": true,
    "editable": true
   },
   "source": [
    "После \"ремонта\" набора данных его желательно сохранить в файле с другим именем для дальнейшей работы. Мы этого делать не будем, поскольку преследуем учебные цели."
   ]
  },
  {
   "cell_type": "code",
   "execution_count": null,
   "metadata": {
    "collapsed": true,
    "deletable": true,
    "editable": true
   },
   "outputs": [],
   "source": [
    "D.Genus + ' ' +D.Species"
   ]
  }
 ],
 "metadata": {
  "kernelspec": {
   "display_name": "Python 2",
   "language": "python",
   "name": "python3"
  },
  "language_info": {
   "codemirror_mode": {
    "name": "ipython",
    "version": 2
   },
   "file_extension": ".py",
   "mimetype": "text/x-python",
   "name": "python",
   "nbconvert_exporter": "python",
   "pygments_lexer": "ipython2",
   "version": "2.7.9"
  },
  "toc": {
   "colors": {
    "hover_highlight": "#DAA520",
    "running_highlight": "#FF0000",
    "selected_highlight": "#FFD700"
   },
   "moveMenuLeft": true,
   "nav_menu": {
    "height": "31px",
    "width": "252px"
   },
   "navigate_menu": true,
   "number_sections": false,
   "sideBar": true,
   "threshold": 4,
   "toc_cell": false,
   "toc_section_display": "block",
   "toc_window_display": false
  }
 },
 "nbformat": 4,
 "nbformat_minor": 2
}
