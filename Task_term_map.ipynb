{
 "cells": [
  {
   "cell_type": "markdown",
   "metadata": {},
   "source": [
    "Расположим на карте названия вида"
   ]
  },
  {
   "cell_type": "markdown",
   "metadata": {},
   "source": [
    "## Список имен"
   ]
  },
  {
   "cell_type": "code",
   "execution_count": 3,
   "metadata": {
    "collapsed": false
   },
   "outputs": [],
   "source": [
    "import requests\n",
    "import re\n",
    "import pandas as pd"
   ]
  },
  {
   "cell_type": "code",
   "execution_count": 4,
   "metadata": {
    "collapsed": false
   },
   "outputs": [
    {
     "data": {
      "text/plain": [
       "<Response [200]>"
      ]
     },
     "execution_count": 4,
     "metadata": {},
     "output_type": "execute_result"
    }
   ],
   "source": [
    "u='http://ru.wiktionary.org/wiki/%D0%BB%D0%B5%D0%B1%D0%B5%D0%B4%D1%8C'\n",
    "r=requests.get(u)\n",
    "r"
   ]
  },
  {
   "cell_type": "code",
   "execution_count": 5,
   "metadata": {
    "collapsed": false
   },
   "outputs": [
    {
     "data": {
      "text/html": [
       "<div>\n",
       "<table border=\"1\" class=\"dataframe\">\n",
       "  <thead>\n",
       "    <tr style=\"text-align: right;\">\n",
       "      <th></th>\n",
       "      <th>lang</th>\n",
       "      <th>lng</th>\n",
       "      <th>w</th>\n",
       "    </tr>\n",
       "  </thead>\n",
       "  <tbody>\n",
       "    <tr>\n",
       "      <th>0</th>\n",
       "      <td>абазинский</td>\n",
       "      <td>abq</td>\n",
       "      <td>&lt;a href=\"/wiki/%D0%BA%D1%8A%D0%B2%D1%83%D1%83...</td>\n",
       "    </tr>\n",
       "    <tr>\n",
       "      <th>1</th>\n",
       "      <td>абхазский</td>\n",
       "      <td>ab</td>\n",
       "      <td>&lt;a href=\"/wiki/%D0%B0%D0%B3%D1%8C%D0%B0%D0%B4...</td>\n",
       "    </tr>\n",
       "    <tr>\n",
       "      <th>2</th>\n",
       "      <td>аварский</td>\n",
       "      <td>av</td>\n",
       "      <td>&lt;a href=\"/wiki/%D1%85%D3%80%D0%B0%D0%BD%D0%BA...</td>\n",
       "    </tr>\n",
       "    <tr>\n",
       "      <th>3</th>\n",
       "      <td>адыгейский</td>\n",
       "      <td>ady</td>\n",
       "      <td>&lt;a href=\"/wiki/%D1%85%D1%8C%D0%B0%D1%80%D0%B7...</td>\n",
       "    </tr>\n",
       "    <tr>\n",
       "      <th>4</th>\n",
       "      <td>азербайджанский</td>\n",
       "      <td>az</td>\n",
       "      <td>&lt;a href=\"/w/index.php?title=qu_qu%C5%9Fu&amp;amp;...</td>\n",
       "    </tr>\n",
       "  </tbody>\n",
       "</table>\n",
       "</div>"
      ],
      "text/plain": [
       "              lang  lng                                                  w\n",
       "0       абазинский  abq   <a href=\"/wiki/%D0%BA%D1%8A%D0%B2%D1%83%D1%83...\n",
       "1        абхазский   ab   <a href=\"/wiki/%D0%B0%D0%B3%D1%8C%D0%B0%D0%B4...\n",
       "2         аварский   av   <a href=\"/wiki/%D1%85%D3%80%D0%B0%D0%BD%D0%BA...\n",
       "3       адыгейский  ady   <a href=\"/wiki/%D1%85%D1%8C%D0%B0%D1%80%D0%B7...\n",
       "4  азербайджанский   az   <a href=\"/w/index.php?title=qu_qu%C5%9Fu&amp;..."
      ]
     },
     "execution_count": 5,
     "metadata": {},
     "output_type": "execute_result"
    }
   ],
   "source": [
    "# <a href=\"/wiki/%D0%B0%D0%B1%D0%B0%D0%B7%D0%B8%D0%BD%D1%81%D0%BA%D0%B8%D0%B9#.D0.A0.D1.83.D1.81.D1.81.D0.BA.D0.B8.D0.B9\" title=\"абазинский\">Абазинский</a><sub style=\"color:#33C066\">abq</sub>: <a href=\"/wiki/%D0%BA%D1%8A%D0%B2%D1%83%D1%83\" title=\"къвуу\">къвуу</a>; <a href=\"/wiki/%D0%B4%D0%B7%D1%8B%D1%87%D0%B2%D0%B0\" title=\"дзычва\">дзычва</a>\n",
    "pa=r'<a .+title=\"(\\w+)\">.+</a><sub.*?>(\\w+)</sub>.{0,20}?:(.+)(?=</li>)'\n",
    "tt=re.findall(pa, r.text)\n",
    "D=pd.DataFrame(tt, columns='lang lng w'.split())\n",
    "D.head()"
   ]
  },
  {
   "cell_type": "code",
   "execution_count": 6,
   "metadata": {
    "collapsed": false
   },
   "outputs": [
    {
     "data": {
      "text/plain": [
       "'karap'"
      ]
     },
     "execution_count": 6,
     "metadata": {},
     "output_type": "execute_result"
    }
   ],
   "source": [
    "def _w(s, delimiter=('<','>')):\n",
    "    s = ''.join([s1.split(delimiter[1],1)[-1] for s1 in s.split(delimiter[0]) ])\n",
    "    if '(' in s:\n",
    "        s=s[s.find('(')+1:s.find(')')]\n",
    "    s=s.strip()\n",
    "    return s\n",
    "\n",
    "_w(D.ix[12,'w'])"
   ]
  },
  {
   "cell_type": "code",
   "execution_count": 7,
   "metadata": {
    "collapsed": false
   },
   "outputs": [
    {
     "data": {
      "text/html": [
       "<div>\n",
       "<table border=\"1\" class=\"dataframe\">\n",
       "  <thead>\n",
       "    <tr style=\"text-align: right;\">\n",
       "      <th></th>\n",
       "      <th>lang</th>\n",
       "      <th>lng</th>\n",
       "      <th>w</th>\n",
       "    </tr>\n",
       "  </thead>\n",
       "  <tbody>\n",
       "    <tr>\n",
       "      <th>157</th>\n",
       "      <td>эвенский</td>\n",
       "      <td>eve</td>\n",
       "      <td>хуси</td>\n",
       "    </tr>\n",
       "    <tr>\n",
       "      <th>158</th>\n",
       "      <td>эрзянский</td>\n",
       "      <td>myv</td>\n",
       "      <td>локсей</td>\n",
       "    </tr>\n",
       "    <tr>\n",
       "      <th>159</th>\n",
       "      <td>эстонский</td>\n",
       "      <td>et</td>\n",
       "      <td>luik</td>\n",
       "    </tr>\n",
       "    <tr>\n",
       "      <th>160</th>\n",
       "      <td>якутский</td>\n",
       "      <td>sah</td>\n",
       "      <td>куба</td>\n",
       "    </tr>\n",
       "    <tr>\n",
       "      <th>161</th>\n",
       "      <td>японский</td>\n",
       "      <td>ja</td>\n",
       "      <td>はくちょう; hakuchō</td>\n",
       "    </tr>\n",
       "  </tbody>\n",
       "</table>\n",
       "</div>"
      ],
      "text/plain": [
       "          lang  lng               w\n",
       "157   эвенский  eve            хуси\n",
       "158  эрзянский  myv          локсей\n",
       "159  эстонский   et            luik\n",
       "160   якутский  sah            куба\n",
       "161   японский   ja  はくちょう; hakuchō"
      ]
     },
     "execution_count": 7,
     "metadata": {},
     "output_type": "execute_result"
    }
   ],
   "source": [
    "D['w']=D['w'].apply(_w)\n",
    "D.tail()"
   ]
  },
  {
   "cell_type": "code",
   "execution_count": 8,
   "metadata": {
    "collapsed": false
   },
   "outputs": [
    {
     "data": {
      "text/html": [
       "<div>\n",
       "<table border=\"1\" class=\"dataframe\">\n",
       "  <thead>\n",
       "    <tr style=\"text-align: right;\">\n",
       "      <th></th>\n",
       "      <th>lang</th>\n",
       "      <th>lng</th>\n",
       "      <th>w</th>\n",
       "    </tr>\n",
       "  </thead>\n",
       "  <tbody>\n",
       "    <tr>\n",
       "      <th>74</th>\n",
       "      <td>латинский</td>\n",
       "      <td>la</td>\n",
       "      <td>olor; cycnus, cygnus</td>\n",
       "    </tr>\n",
       "  </tbody>\n",
       "</table>\n",
       "</div>"
      ],
      "text/plain": [
       "         lang lng                     w\n",
       "74  латинский  la  olor; cycnus, cygnus"
      ]
     },
     "execution_count": 8,
     "metadata": {},
     "output_type": "execute_result"
    }
   ],
   "source": [
    "D[D.lng=='la']"
   ]
  },
  {
   "cell_type": "markdown",
   "metadata": {},
   "source": [
    "## Координаты\n"
   ]
  },
  {
   "cell_type": "code",
   "execution_count": 9,
   "metadata": {
    "collapsed": false
   },
   "outputs": [
    {
     "data": {
      "text/plain": [
       "'латинский'"
      ]
     },
     "execution_count": 9,
     "metadata": {},
     "output_type": "execute_result"
    }
   ],
   "source": [
    "s=D.ix[74,'lang']\n",
    "s"
   ]
  },
  {
   "cell_type": "code",
   "execution_count": 10,
   "metadata": {
    "collapsed": false
   },
   "outputs": [
    {
     "data": {
      "text/plain": [
       "'http://maps.googleapis.com/maps/api/geocode/json?&address=латинский&sensor=false&language=ru'"
      ]
     },
     "execution_count": 10,
     "metadata": {},
     "output_type": "execute_result"
    }
   ],
   "source": [
    "u1='http://maps.googleapis.com/maps/api/geocode/json?&address={}&sensor=false&language=ru'.format(s)\n",
    "u1"
   ]
  },
  {
   "cell_type": "code",
   "execution_count": 11,
   "metadata": {
    "collapsed": false
   },
   "outputs": [
    {
     "data": {
      "text/plain": [
       "<Response [200]>"
      ]
     },
     "execution_count": 11,
     "metadata": {},
     "output_type": "execute_result"
    }
   ],
   "source": [
    "r=requests.get(u1)\n",
    "r"
   ]
  },
  {
   "cell_type": "code",
   "execution_count": 14,
   "metadata": {
    "collapsed": false
   },
   "outputs": [
    {
     "name": "stdout",
     "output_type": "stream",
     "text": [
      "{\n",
      "   \"results\" : [\n",
      "      {\n",
      "         \"address_components\" : [\n",
      "            {\n",
      "               \"long_name\" : \"Латинский мост\",\n",
      "               \"short_name\" : \"Латинский мост\",\n",
      "               \"types\" : [ \"establishment\", \"point_of_interest\" ]\n",
      "            },\n",
      "            {\n",
      "               \"long_name\" : \"Stari Grad Sarajevo\",\n",
      "               \"short_name\" : \"Stari Grad Sarajevo\",\n",
      "               \"types\" : [ \"political\", \"sublocality\", \"sublocality_level_1\" ]\n",
      "            },\n",
      "            {\n",
      "               \"long_name\" : \"Сарајево\",\n",
      "               \"short_name\" : \"Сарајево\",\n",
      "               \"types\" : [ \"locality\", \"political\" ]\n",
      "            },\n",
      "            {\n",
      "               \"long_name\" : \"Кантон Сарајево\",\n",
      "               \"short_name\" : \"Кантон Сарајево\",\n",
      "               \"types\" : [ \"administrative_area_level_2\", \"political\" ]\n",
      "            },\n",
      "            {\n",
      "               \"long_name\" : \"Федерација Босне и Херцеговине\",\n",
      "               \"short_name\" : \"Федерација Босне и Херцеговине\",\n",
      "               \"types\" : [ \"administrative_area_level_1\", \"political\" ]\n",
      "            },\n",
      "            {\n",
      "               \"long_name\" : \"Босния и Герцеговина\",\n",
      "               \"short_name\" : \"BA\",\n",
      "               \"types\" : [ \"country\", \"political\" ]\n",
      "            },\n",
      "            {\n",
      "               \"long_name\" : \"71000\",\n",
      "               \"short_name\" : \"71000\",\n",
      "               \"types\" : [ \"postal_code\" ]\n",
      "            }\n",
      "         ],\n",
      "         \"formatted_address\" : \"Латинский мост, Сарајево 71000, Босния и Герцеговина\",\n",
      "         \"geometry\" : {\n",
      "            \"location\" : {\n",
      "               \"lat\" : 43.85764400000001,\n",
      "               \"lng\" : 18.4289408\n",
      "            },\n",
      "            \"location_type\" : \"APPROXIMATE\",\n",
      "            \"viewport\" : {\n",
      "               \"northeast\" : {\n",
      "                  \"lat\" : 43.85899298029151,\n",
      "                  \"lng\" : 18.43028978029151\n",
      "               },\n",
      "               \"southwest\" : {\n",
      "                  \"lat\" : 43.85629501970851,\n",
      "                  \"lng\" : 18.4275918197085\n",
      "               }\n",
      "            }\n",
      "         },\n",
      "         \"place_id\" : \"ChIJl-jshsjIWEcRW1d5AaNhoNs\",\n",
      "         \"types\" : [ \"establishment\", \"point_of_interest\" ]\n",
      "      }\n",
      "   ],\n",
      "   \"status\" : \"OK\"\n",
      "}\n",
      "\n"
     ]
    }
   ],
   "source": [
    "print(r.text)"
   ]
  },
  {
   "cell_type": "markdown",
   "metadata": {
    "collapsed": true
   },
   "source": [
    "Список стран с координатами https://developers.google.com/public-data/docs/canonical/countries_csv"
   ]
  },
  {
   "cell_type": "code",
   "execution_count": null,
   "metadata": {
    "collapsed": true
   },
   "outputs": [],
   "source": []
  }
 ],
 "metadata": {
  "kernelspec": {
   "display_name": "Python 3",
   "language": "python",
   "name": "python3"
  },
  "language_info": {
   "codemirror_mode": {
    "name": "ipython",
    "version": 3
   },
   "file_extension": ".py",
   "mimetype": "text/x-python",
   "name": "python",
   "nbconvert_exporter": "python",
   "pygments_lexer": "ipython3",
   "version": "3.5.2"
  }
 },
 "nbformat": 4,
 "nbformat_minor": 2
}
