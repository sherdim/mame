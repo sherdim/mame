{
 "cells": [
  {
   "cell_type": "markdown",
   "metadata": {},
   "source": [
    "# Ранжирование данных о росте и весе студентов"
   ]
  },
  {
   "cell_type": "markdown",
   "metadata": {},
   "source": [
    "Импортируем данные в таблице на странице в интернете.\n",
    "\n",
    "<table border=\"1\" class=\"dataframe\">\n",
    "  <thead>\n",
    "    <tr style=\"text-align: right;\">\n",
    "      <th></th>\n",
    "      <th>sex</th>\n",
    "      <th>weight</th>\n",
    "      <th>height</th>\n",
    "      <th>repwt</th>\n",
    "      <th>repht</th>\n",
    "    </tr>\n",
    "  </thead>\n",
    "  <tbody>\n",
    "    <tr>\n",
    "      <th>1</th>\n",
    "      <td>M</td>\n",
    "      <td>77</td>\n",
    "      <td>182</td>\n",
    "      <td>77.0</td>\n",
    "      <td>180.0</td>\n",
    "    </tr>\n",
    "    <tr>\n",
    "      <th>2</th>\n",
    "      <td>F</td>\n",
    "      <td>58</td>\n",
    "      <td>161</td>\n",
    "      <td>51.0</td>\n",
    "      <td>159.0</td>\n",
    "    </tr>\n",
    "    <tr>\n",
    "      <th>3</th>\n",
    "      <td>F</td>\n",
    "      <td>53</td>\n",
    "      <td>161</td>\n",
    "      <td>54.0</td>\n",
    "      <td>158.0</td>\n",
    "    </tr>\n",
    "    <tr>\n",
    "      <th>4</th>\n",
    "      <td>M</td>\n",
    "      <td>68</td>\n",
    "      <td>177</td>\n",
    "      <td>70.0</td>\n",
    "      <td>175.0</td>\n",
    "    </tr>\n",
    "    <tr>\n",
    "      <th>5</th>\n",
    "      <td>F</td>\n",
    "      <td>59</td>\n",
    "      <td>157</td>\n",
    "      <td>59.0</td>\n",
    "      <td>155.0</td>\n",
    "    </tr>\n",
    "  </tbody>\n",
    "</table>"
   ]
  },
  {
   "cell_type": "code",
   "execution_count": 1,
   "metadata": {},
   "outputs": [
    {
     "name": "stdout",
     "output_type": "stream",
     "text": [
      "Populating the interactive namespace from numpy and matplotlib\n"
     ]
    }
   ],
   "source": [
    "%pylab inline\n",
    "import pandas as pd\n",
    "from io import StringIO"
   ]
  },
  {
   "cell_type": "code",
   "execution_count": 2,
   "metadata": {
    "scrolled": true
   },
   "outputs": [
    {
     "data": {
      "text/html": [
       "<div>\n",
       "<table border=\"1\" class=\"dataframe\">\n",
       "  <thead>\n",
       "    <tr style=\"text-align: right;\">\n",
       "      <th></th>\n",
       "      <th>sex</th>\n",
       "      <th>m, kg</th>\n",
       "      <th>h, cm</th>\n",
       "    </tr>\n",
       "  </thead>\n",
       "  <tbody>\n",
       "    <tr>\n",
       "      <th>0</th>\n",
       "      <td>F</td>\n",
       "      <td>59</td>\n",
       "      <td>166</td>\n",
       "    </tr>\n",
       "    <tr>\n",
       "      <th>1</th>\n",
       "      <td>F</td>\n",
       "      <td>43</td>\n",
       "      <td>154</td>\n",
       "    </tr>\n",
       "    <tr>\n",
       "      <th>2</th>\n",
       "      <td>M</td>\n",
       "      <td>85</td>\n",
       "      <td>191</td>\n",
       "    </tr>\n",
       "    <tr>\n",
       "      <th>3</th>\n",
       "      <td>F</td>\n",
       "      <td>54</td>\n",
       "      <td>171</td>\n",
       "    </tr>\n",
       "    <tr>\n",
       "      <th>4</th>\n",
       "      <td>F</td>\n",
       "      <td>54</td>\n",
       "      <td>164</td>\n",
       "    </tr>\n",
       "    <tr>\n",
       "      <th>5</th>\n",
       "      <td>F</td>\n",
       "      <td>56</td>\n",
       "      <td>162</td>\n",
       "    </tr>\n",
       "    <tr>\n",
       "      <th>6</th>\n",
       "      <td>M</td>\n",
       "      <td>69</td>\n",
       "      <td>174</td>\n",
       "    </tr>\n",
       "    <tr>\n",
       "      <th>7</th>\n",
       "      <td>F</td>\n",
       "      <td>68</td>\n",
       "      <td>178</td>\n",
       "    </tr>\n",
       "    <tr>\n",
       "      <th>8</th>\n",
       "      <td>F</td>\n",
       "      <td>56</td>\n",
       "      <td>165</td>\n",
       "    </tr>\n",
       "  </tbody>\n",
       "</table>\n",
       "</div>"
      ],
      "text/plain": [
       "  sex  m, kg  h, cm\n",
       "0   F     59    166\n",
       "1   F     43    154\n",
       "2   M     85    191\n",
       "3   F     54    171\n",
       "4   F     54    164\n",
       "5   F     56    162\n",
       "6   M     69    174\n",
       "7   F     68    178\n",
       "8   F     56    165"
      ]
     },
     "execution_count": 2,
     "metadata": {},
     "output_type": "execute_result"
    }
   ],
   "source": [
    "# Выделяем/копируем текст таблицы и превращаем его в буфер, из которого создаем DataFrame\n",
    "D = pd.read_table(StringIO('''\n",
    "sex\tm, kg\th, cm\n",
    "F\t59\t166\n",
    "F\t43\t154\n",
    "M\t85\t191\n",
    "F\t54\t171\n",
    "F\t54\t164\n",
    "F\t56\t162\n",
    "M\t69\t174\n",
    "F\t68\t178\n",
    "F\t56\t165\n",
    "\n",
    "'''))\n",
    "D"
   ]
  },
  {
   "cell_type": "markdown",
   "metadata": {},
   "source": [
    "Две последние колонки - субъективные данные. Там встречаются пропуски - `NaN`.\n",
    "\n",
    "Посмотрим описательную статистику по колонкам и распределение значений."
   ]
  },
  {
   "cell_type": "code",
   "execution_count": null,
   "metadata": {},
   "outputs": [],
   "source": [
    "massa = D['m, kg']\n",
    "rost = D['h, cm']\n",
    "# D['bmi'] = \n",
    "massa / (rost/100.) ** 2"
   ]
  },
  {
   "cell_type": "markdown",
   "metadata": {},
   "source": [
    "Если результат добавить в таблицу в виде новой колонки, то результат расчета по каждой записи будет располагаться в соответствующей строке, что поможет сопоставить значения из разных колонок.\n",
    "\n",
    "При выборе любой колонки из таблицы значения в этой колонке сопровождаются индексами строк. Если нас интересует номер строки с наименьшим значением, то вместо `min` используем `argmin`. По-умолчанию индексом служит порядковый номер строки, начиная с 0. "
   ]
  },
  {
   "cell_type": "code",
   "execution_count": 8,
   "metadata": {},
   "outputs": [
    {
     "data": {
      "text/plain": [
       "1"
      ]
     },
     "execution_count": 8,
     "metadata": {},
     "output_type": "execute_result"
    }
   ],
   "source": [
    "D['bmi'].argmin()"
   ]
  },
  {
   "cell_type": "markdown",
   "metadata": {},
   "source": [
    "Тот же эффект можно получить записью через точку, но только если в названии колонки нет пробелов и русских букв."
   ]
  },
  {
   "cell_type": "code",
   "execution_count": 9,
   "metadata": {},
   "outputs": [
    {
     "data": {
      "text/plain": [
       "2"
      ]
     },
     "execution_count": 9,
     "metadata": {},
     "output_type": "execute_result"
    }
   ],
   "source": [
    "i_samyj_tyazh = D.bmi.argmax()\n",
    "i_samyj_tyazh"
   ]
  },
  {
   "cell_type": "markdown",
   "metadata": {},
   "source": [
    "По индексу можно посмотреть всю информацию для этого субъекта."
   ]
  },
  {
   "cell_type": "code",
   "execution_count": 17,
   "metadata": {},
   "outputs": [
    {
     "data": {
      "text/plain": [
       "sex            M\n",
       "m, kg         85\n",
       "h, cm        191\n",
       "bmi      23.2998\n",
       "Name: 2, dtype: object"
      ]
     },
     "execution_count": 17,
     "metadata": {},
     "output_type": "execute_result"
    }
   ],
   "source": [
    "D.loc[i_samyj_tyazh]"
   ]
  },
  {
   "cell_type": "markdown",
   "metadata": {},
   "source": [
    "Для отбора по условию можно применять те же методы к подвыборке."
   ]
  },
  {
   "cell_type": "code",
   "execution_count": 18,
   "metadata": {},
   "outputs": [
    {
     "data": {
      "text/plain": [
       "0    5.0\n",
       "1    1.0\n",
       "3    6.0\n",
       "4    3.0\n",
       "5    2.0\n",
       "7    7.0\n",
       "8    4.0\n",
       "Name: h, cm, dtype: float64"
      ]
     },
     "execution_count": 18,
     "metadata": {},
     "output_type": "execute_result"
    }
   ],
   "source": [
    "D[D.sex=='F']['h, cm'].rank()"
   ]
  },
  {
   "cell_type": "markdown",
   "metadata": {},
   "source": [
    "Ранг - порядковый номер данного значения в отсортированном по возрастанию ряду.\n",
    "Например, девушка с индексом 0, имеет ранг 5, если считать от самой маленькой, и она же 3-я по росту, если считать, как это принято, от самой высокой.\n",
    "\n",
    "То есть, если в вопросе указано - \"4-я по росту девушка\", а всего девушек 7, то значит имеется в виду девушка с рангом 4. Чтобы получить ее индекс вычтем ранг из общего количества и прибавим 1  (так ранг 7 - это первая по росту)."
   ]
  },
  {
   "cell_type": "code",
   "execution_count": 21,
   "metadata": {},
   "outputs": [
    {
     "data": {
      "text/plain": [
       "0    3.0\n",
       "1    7.0\n",
       "3    2.0\n",
       "4    5.0\n",
       "5    6.0\n",
       "7    1.0\n",
       "8    4.0\n",
       "Name: h, cm, dtype: float64"
      ]
     },
     "execution_count": 21,
     "metadata": {},
     "output_type": "execute_result"
    }
   ],
   "source": [
    "nDevu = D[D.sex=='F'].shape[0]  #отбираем только девушек и сохраняем количество строк\n",
    "(nDevu+1) - D[D.sex=='F']['h, cm'].rank()"
   ]
  },
  {
   "cell_type": "markdown",
   "metadata": {},
   "source": [
    "В реальных задачах все значения, \"привязанные\" к отдельным строкам, удобнее добавить в таблицу в виде новой колонки."
   ]
  },
  {
   "cell_type": "code",
   "execution_count": null,
   "metadata": {},
   "outputs": [],
   "source": [
    "# D[\"по росту девушка\"] = ...\n",
    "# D"
   ]
  }
 ],
 "metadata": {
  "kernelspec": {
   "display_name": "Python 2",
   "language": "python",
   "name": "python2"
  },
  "language_info": {
   "codemirror_mode": {
    "name": "ipython",
    "version": 2
   },
   "file_extension": ".py",
   "mimetype": "text/x-python",
   "name": "python",
   "nbconvert_exporter": "python",
   "pygments_lexer": "ipython2",
   "version": "2.7.9"
  },
  "toc": {
   "colors": {
    "hover_highlight": "#DAA520",
    "running_highlight": "#FF0000",
    "selected_highlight": "#FFD700"
   },
   "moveMenuLeft": true,
   "nav_menu": {
    "height": "31px",
    "width": "252px"
   },
   "navigate_menu": true,
   "number_sections": false,
   "sideBar": true,
   "threshold": 4,
   "toc_cell": false,
   "toc_section_display": "block",
   "toc_window_display": false
  }
 },
 "nbformat": 4,
 "nbformat_minor": 1
}
