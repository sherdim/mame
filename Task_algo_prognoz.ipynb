{
 "cells": [
  {
   "cell_type": "markdown",
   "metadata": {},
   "source": [
    "## Предсказание будущих реакций на основе предшествующих"
   ]
  },
  {
   "cell_type": "code",
   "execution_count": null,
   "metadata": {},
   "outputs": [],
   "source": [
    "%pylab inline\n",
    "import matplotlib.animation as animation\n",
    "import pandas as pd\n",
    "import seaborn as sns\n",
    "from IPython.display import HTML"
   ]
  },
  {
   "cell_type": "code",
   "execution_count": null,
   "metadata": {
    "collapsed": true
   },
   "outputs": [],
   "source": [
    "rc('animation', html='jshtml')\n",
    "# если ошибка - обновите библиотеку matplotlib"
   ]
  },
  {
   "cell_type": "code",
   "execution_count": null,
   "metadata": {
    "scrolled": true
   },
   "outputs": [],
   "source": [
    "#загрузка данных\n",
    "u='http://balatte.stireac.com/result.tsv/sherdim%40gmail.com/tuts__2143043410150713'\n",
    "D = pd.read_csv(u, delimiter='\\t')\n",
    "D.info()"
   ]
  },
  {
   "cell_type": "code",
   "execution_count": null,
   "metadata": {},
   "outputs": [],
   "source": [
    "sns.regplot('t','v',data=D); ylim(0);"
   ]
  },
  {
   "cell_type": "markdown",
   "metadata": {},
   "source": [
    "Представим, что мы хотим предсказывать время реакции (ВР) непосредственно в ходе эксперимента. Другими словами мы хотим делать прогноз в режиме \"реального времени\"."
   ]
  },
  {
   "cell_type": "markdown",
   "metadata": {},
   "source": [
    "Для упрощения представим, что мы ничего не знаем о заданном порядке МСИ и о модальности стимула."
   ]
  },
  {
   "cell_type": "markdown",
   "metadata": {},
   "source": [
    "В нулевой момент времени у нас нет данных. Мы прогнозируем, что ВР будет как у большинства людей от 150 до 350 мс. Возмем среднее значение 0.25 с."
   ]
  },
  {
   "cell_type": "code",
   "execution_count": null,
   "metadata": {},
   "outputs": [],
   "source": [
    "# заполним всю колонку этим значением\n",
    "D['prognoz'] = 0.25\n",
    "D.head()"
   ]
  },
  {
   "cell_type": "markdown",
   "metadata": {},
   "source": [
    "Первые 9 секунд нашего эксперимента у нас все еще нет данных, и мы не можем оценить качество нашего прогноза. Как только появляются данные - мы можем рассчитать отклонение - среднеквадратичное.\n",
    "(root-mean-square error (RMSE))"
   ]
  },
  {
   "cell_type": "code",
   "execution_count": null,
   "metadata": {},
   "outputs": [],
   "source": [
    "sqrt(mean((D.v[0] - D.prognoz[0])**2))"
   ]
  },
  {
   "cell_type": "markdown",
   "metadata": {},
   "source": [
    "В случае одного значения это все равно что абсолютное значение разности между прогнозируемым и реальным значениями.\n",
    "\n",
    "Если значений много, то все равно будет одно число. Это число - метрика качества нашего прогноза, на основании которой мы можем сравнивать разные алгоритмы."
   ]
  },
  {
   "cell_type": "markdown",
   "metadata": {},
   "source": [
    "Есть несколько принципов прогноза:\n",
    "1. Если что-то происходит сейчас так, то и в будущем будет так же.\n",
    "2. Если есть четкая тенденция, то она продолжится.\n",
    "3. Текущее значение может быть артефактом, т.е. возникло в результате случайного непредвиденного воздействия, которое больше может не повториться\n",
    "4. Чем больше данных в прошлом, тем лучше можно сделать прогноз будущего\n",
    "\n",
    "Мы попробуем сделать несколько логических шагов для понимания сути однонаправленного моделирования. Более зрелые модели доступны в специальных пакетах, на которые будут ссылки в конце."
   ]
  },
  {
   "cell_type": "code",
   "execution_count": null,
   "metadata": {},
   "outputs": [],
   "source": [
    "#сохраним текущий прогноз как первый вариант подхода \"среднее по больнице\"\n",
    "D['pro_populatio']=D['prognoz']\n",
    "\n",
    "#зададим функцию для удобства оценки качества прогноза\n",
    "def quo(k):\n",
    "    '''чем больше отклонение - тем ниже эффективность'''\n",
    "    return 1/sqrt(mean((D.v - D[k])**2))\n",
    "quo('pro_populatio')"
   ]
  },
  {
   "cell_type": "markdown",
   "metadata": {},
   "source": [
    "Итого, если прогноз делать с потолка, то есть считать, что как у всех в среднем, то его эффективность 10 попугаев."
   ]
  },
  {
   "cell_type": "markdown",
   "metadata": {},
   "source": [
    "Возьмем на вооружение первый принцип. Будем ждать каждый раз повторения последнего значения."
   ]
  },
  {
   "cell_type": "code",
   "execution_count": null,
   "metadata": {},
   "outputs": [],
   "source": [
    "D.prognoz[1:]= D.v[:-1]\n",
    "D.prognoz.fillna(method='ffill', inplace=True) #при пропусках оставляем предыдущий\n",
    "D['pro_prev'] = D['prognoz']\n",
    "quo('pro_prev')"
   ]
  },
  {
   "cell_type": "markdown",
   "metadata": {},
   "source": [
    "Удивительно, но прогноз оказался хуже. Потому что постоянные 0.25 не так далеко от большинства значений в районе 0.3, а вот при прогнозе по предыдущему отдельные выбросы более 0.6 сделали свое черное дело: прогноз после них был крайне неудачным. "
   ]
  },
  {
   "cell_type": "code",
   "execution_count": null,
   "metadata": {},
   "outputs": [],
   "source": [
    "def play_prognoz(k='prognoz', n_future = 1, k0='v', interval=500):\n",
    "\n",
    "    xx=D.index.values\n",
    "    tt= xx[:-1]\n",
    "\n",
    "    fig = figure()\n",
    "    xlim(0,len(D.index)+1); ylim(0,0.7);\n",
    "\n",
    "    hh=[]\n",
    "    hh.append( plot([],[], color='b', lw=0, marker='d')[0] )\n",
    "    hh.append( plot(xx[0],D[k][0], color='r', marker='*')[0] ) #prognoz\n",
    "    hh.append( vlines([],[],[], colors='pink') ) #residuals\n",
    "\n",
    "    def updatefig(i):\n",
    "        hh[0].set_data(xx[:i+1], D[k0][:i+1])\n",
    "        hh[1].set_data(xx[[i,i+n_future]], D[k][[i,i+n_future]])\n",
    "        res1=vstack([tile(xx[i],(2,)), [D.loc[i,k0],D.loc[i,k]]]).T\n",
    "        hh[2].set_segments((hh[2].get_segments() + [res1]))\n",
    "                            \n",
    "        return hh\n",
    "\n",
    "    close()\n",
    "    ani = animation.FuncAnimation(fig, updatefig, tt, interval=interval, blit=True, repeat=False)\n",
    "    return ani #HTML(ani.to_html5_video())\n",
    "\n",
    "play_prognoz('pro_prev')"
   ]
  },
  {
   "cell_type": "markdown",
   "metadata": {},
   "source": [
    "Из-за выбросов становится понятно, что полагаться только на последнее значение опрометчиво. Лучше использовать для прогноза несколько последних значений.\n",
    "\n",
    "Для ослабления влияния выбросов в качестве оценки центральной тенденции лучше использовать медиану."
   ]
  },
  {
   "cell_type": "code",
   "execution_count": null,
   "metadata": {},
   "outputs": [],
   "source": [
    "D['pro_median5']=D.v.rolling(5,  min_periods=1).median().shift()\n",
    "play_prognoz('pro_median5')"
   ]
  },
  {
   "cell_type": "markdown",
   "metadata": {},
   "source": [
    "Сравним эффективность предсказания по медиане с предсказанием по среднему."
   ]
  },
  {
   "cell_type": "code",
   "execution_count": null,
   "metadata": {},
   "outputs": [],
   "source": [
    "D['pro_mean5']=D.v.rolling(5,  min_periods=1).mean().shift()\n",
    "quo('pro_median5'), quo('pro_mean5')"
   ]
  },
  {
   "cell_type": "markdown",
   "metadata": {},
   "source": [
    "В данном случае среднее ведет себя лучше - 14 попугаев."
   ]
  },
  {
   "cell_type": "markdown",
   "metadata": {},
   "source": [
    "И среднее, и медиана являются способами оценить центральную тенденцию (*[M-estimator](https://en.wikipedia.org/wiki/M-estimator)*)\n",
    "\n",
    "\n",
    "Вместо усреднения можно ввести взвешенное среднее, чтобы более экстремальные значения вносили меньший вклад, чем более типичные близкие к среднему. На практике используются разные [весовые функции]( http://statsmodels.sourceforge.net/stable/rlm_techn1.html).\n",
    "\n",
    "Например, после первых 5 значений мы хотели бы иметь прогноз в районе 0.3, т.е. ослабить влияние 4-го значения, превышающего 0.4."
   ]
  },
  {
   "cell_type": "code",
   "execution_count": null,
   "metadata": {},
   "outputs": [],
   "source": [
    "x=D.v[:5]\n",
    "z=((x - x.mean())/x.std()).values\n",
    "z\n",
    "\n",
    "wRamsay = exp(-0.3*abs(z))  #Ramsay’s Ea\n",
    "wRamsay = wRamsay/sum(wRamsay)\n",
    "\n",
    "t=1.345;  wHuber = [(t/_z if _z>t else 1.) for _z in abs(z)]\n",
    "wHuber = wHuber/sum(wHuber)\n",
    "\n",
    "mean(x), sum(x*0.2), sum(x*wRamsay), sum(x*wHuber)"
   ]
  },
  {
   "cell_type": "markdown",
   "metadata": {},
   "source": [
    "Окна Рамсея и Хубера дали небольшое снижение относительно обычного среднего, в котором все слагаемые имеют одинаковый вес."
   ]
  },
  {
   "cell_type": "markdown",
   "metadata": {},
   "source": [
    "Мы берем 5 последних значений, значит средний возраст данных для прогноза - 3 временных шага. Получается, что если в серии происходят изменения - мы постоянно запаздываем в среднем на 3 шага назад.\n",
    "\n",
    "Попробуем реализовать еще один принцип - *недавние события имеют большую предсказательную силу, чем предыдущие*. Для этого наделим большим весом последнее значение, а предыдущие - постепенно убывающими весами. "
   ]
  },
  {
   "cell_type": "code",
   "execution_count": null,
   "metadata": {},
   "outputs": [],
   "source": [
    "# weighted moving average (WMA)\n",
    "w=(arange(5)+1)\n",
    "w=w/w.sum()\n",
    "bar(arange(5), w); xticks(arange(5), -(5-arange(5)))\n",
    "title('Веса для последних 5 значений');"
   ]
  },
  {
   "cell_type": "code",
   "execution_count": null,
   "metadata": {},
   "outputs": [],
   "source": [
    "rol = D.v.fillna(method='ffill').rolling(5)\n",
    "\n",
    "D['pro_wma']=rol.apply(lambda x: sum(x*w[-len(x):])).shift()  #shifts to future on 1 step\n",
    "quo('pro_wma')"
   ]
  },
  {
   "cell_type": "code",
   "execution_count": null,
   "metadata": {},
   "outputs": [],
   "source": [
    "play_prognoz('pro_wma')"
   ]
  },
  {
   "cell_type": "markdown",
   "metadata": {},
   "source": [
    "Популярное решение - *простое экспоненциальное сглаживание* (simple exponential smoothing (SES)) или exponentially weighted moving average (EWMA)."
   ]
  },
  {
   "cell_type": "code",
   "execution_count": null,
   "metadata": {},
   "outputs": [],
   "source": [
    "# exponentially weighted moving average (EWMA)\n",
    "alpha = 0.6\n",
    "# (1 − α)2\n",
    "w=alpha*((1-alpha)**arange(5,0,-1))\n",
    "w=w/w.sum()\n",
    "bar(arange(5), w); xticks(arange(5), -(5-arange(5)));"
   ]
  },
  {
   "cell_type": "code",
   "execution_count": null,
   "metadata": {},
   "outputs": [],
   "source": [
    "rol = D.v.fillna(method='ffill').rolling(5)\n",
    "\n",
    "D['pro_ewma']=rol.apply(lambda x: sum(x*w[-len(x):])).shift()\n",
    "quo('pro_ewma')"
   ]
  },
  {
   "cell_type": "code",
   "execution_count": null,
   "metadata": {},
   "outputs": [],
   "source": [
    "play_prognoz('pro_ewma')"
   ]
  },
  {
   "cell_type": "markdown",
   "metadata": {},
   "source": [
    "Используя экпоненциально взвешенную среднюю мы получили качество в 10 попугаев. Нам все еще мешают выбросы. Попробуем объединить веса, ослабляющие экстремальные значения, с весами, ослабляющими старые значения. Это так называемая *конволюция*."
   ]
  },
  {
   "cell_type": "code",
   "execution_count": null,
   "metadata": {},
   "outputs": [],
   "source": [
    "def _conv1(x, alpha = 0.5):\n",
    "    wEWMA=alpha*((1-alpha)**arange(5,0,-1))\n",
    "    z=((x - x.mean())/x.std())\n",
    "    w = exp(-0.3*abs(z))  #Ramsay’s Ea\n",
    "    w=w*wEWMA\n",
    "    w = w/sum(w)\n",
    "    return sum(x*w)\n",
    "\n",
    "_conv1(x)"
   ]
  },
  {
   "cell_type": "code",
   "execution_count": null,
   "metadata": {},
   "outputs": [],
   "source": [
    "D['pro_conv1']=rol.apply(_conv1).shift()\n",
    "quo('pro_conv1')"
   ]
  },
  {
   "cell_type": "code",
   "execution_count": null,
   "metadata": {},
   "outputs": [],
   "source": [
    "def _conv2(x, alpha = 0.5, t=1.345):\n",
    "    wEWMA=alpha*((1-alpha)**arange(5,0,-1))\n",
    "    z=((x - x.mean())/x.std())\n",
    "    w = [(t/_z if _z>t else 1.) for _z in abs(z)]\n",
    "    w=w*wEWMA\n",
    "    w = w/sum(w)\n",
    "    return sum(x*w)\n",
    "\n",
    "_conv2(x)"
   ]
  },
  {
   "cell_type": "code",
   "execution_count": null,
   "metadata": {},
   "outputs": [],
   "source": [
    "D['pro_conv2']=rol.apply(_conv2).shift()\n",
    "quo('pro_conv2')"
   ]
  },
  {
   "cell_type": "code",
   "execution_count": null,
   "metadata": {},
   "outputs": [],
   "source": [
    "play_prognoz('pro_conv2')"
   ]
  },
  {
   "cell_type": "markdown",
   "metadata": {},
   "source": [
    "Если мы уверены, что величина выброса не имеет значения, то можем загнать данные в заданные рамки. Это позволит более адекватно оценивать модели. Просто удалить выбросы при моделировании динамики нежелательно, поскольку мы нарушим ход времени. Замена на пустые значения также снизит информативность.\n",
    "\n",
    "Например, в данном случае что 0.4, что 0.65 с характеризуют поздние реакции при пропуске стимула. Мы можем задать границу 0.4, чтобы все поздние реакции отклонялись в большую сторону, но при этом не так влияли на среднее значение. Такой прием, автоматически загоняющий выбросы в пределы заданных перцентилей, называется *винсоризацией*."
   ]
  },
  {
   "cell_type": "code",
   "execution_count": null,
   "metadata": {},
   "outputs": [],
   "source": [
    "import scipy.stats.mstats\n",
    "\n",
    "D['vwin']=scipy.stats.mstats.winsorize(D.v, 0.1)\n",
    "D.vwin.describe()"
   ]
  },
  {
   "cell_type": "code",
   "execution_count": null,
   "metadata": {},
   "outputs": [],
   "source": [
    "D['prowin_conv2']=D.vwin.fillna(method='ffill').rolling(5).apply(_conv2).shift()\n",
    "def quowin(k):\n",
    "    return 1/sqrt(mean((D.vwin - D[k])**2))\n",
    "quo('prowin_conv2')"
   ]
  },
  {
   "cell_type": "code",
   "execution_count": null,
   "metadata": {},
   "outputs": [],
   "source": [
    "play_prognoz('prowin_conv2', k0='vwin')"
   ]
  },
  {
   "cell_type": "markdown",
   "metadata": {},
   "source": [
    "Можно попробовать еще более продвинутые методы расчета весовых коэффициентов для подбора лучшего предсказания по группе последних значений, например [IRLS](https://en.wikipedia.org/wiki/Iteratively_reweighted_least_squares) с [функцией потерь Хубера](https://en.wikipedia.org/wiki/Huber_loss) или разные варианты ARIMA.\n",
    "\n",
    "Кроме линейной можно попробовать сплайновую интерполяцию - `scipy.interpolate.spline`"
   ]
  },
  {
   "cell_type": "markdown",
   "metadata": {},
   "source": [
    "### +++:\n",
    "\n",
    "[Embedding Matplotlib Animations in Jupyter Notebooks](http://louistiao.me/posts/notebooks/embedding-matplotlib-animations-in-jupyter-as-interactive-javascript-widgets/)\n",
    "\n",
    "[Moving average and exponential smoothing models](https://people.duke.edu/~rnau/411avg.htm)"
   ]
  }
 ],
 "metadata": {
  "kernelspec": {
   "display_name": "Python 3",
   "language": "python",
   "name": "python3"
  },
  "language_info": {
   "codemirror_mode": {
    "name": "ipython",
    "version": 3
   },
   "file_extension": ".py",
   "mimetype": "text/x-python",
   "name": "python",
   "nbconvert_exporter": "python",
   "pygments_lexer": "ipython3",
   "version": "3.7.1"
  },
  "toc": {
   "base_numbering": 1,
   "nav_menu": {
    "height": "66px",
    "width": "252px"
   },
   "number_sections": false,
   "sideBar": true,
   "skip_h1_title": false,
   "title_cell": "Table of Contents",
   "title_sidebar": "Contents",
   "toc_cell": false,
   "toc_position": {},
   "toc_section_display": "block",
   "toc_window_display": false
  }
 },
 "nbformat": 4,
 "nbformat_minor": 1
}
