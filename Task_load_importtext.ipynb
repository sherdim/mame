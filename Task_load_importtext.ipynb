{
 "cells": [
  {
   "cell_type": "markdown",
   "metadata": {},
   "source": [
    "## Импорт данных из текста"
   ]
  },
  {
   "cell_type": "markdown",
   "metadata": {},
   "source": [
    "Текст с данными каждого тестирования баланса внимания доступен для копирования при нажатии кнопки \"Экспортировать данные\". Комбинации клавиш для копирования: Ctrl-A (выделить все) и Ctrl-C (копировать)."
   ]
  },
  {
   "cell_type": "code",
   "execution_count": 1,
   "metadata": {
    "collapsed": false
   },
   "outputs": [
    {
     "name": "stdout",
     "output_type": "stream",
     "text": [
      "Populating the interactive namespace from numpy and matplotlib\n"
     ]
    }
   ],
   "source": [
    "%pylab inline"
   ]
  },
  {
   "cell_type": "code",
   "execution_count": 2,
   "metadata": {
    "collapsed": false
   },
   "outputs": [
    {
     "data": {
      "text/plain": [
       "702"
      ]
     },
     "execution_count": 2,
     "metadata": {},
     "output_type": "execute_result"
    }
   ],
   "source": [
    "s='''lps=[\n",
    "11.516,0.365;\n",
    "18.657,0.319;\n",
    "26.752,0.313;\n",
    "33.457,0.415;\n",
    "40.614,0.379;\n",
    "49.785,0.439;\n",
    "58.077,0.436;\n",
    "66.954,0.43;\n",
    "73.462,0.411;\n",
    "77.899,0.318;\n",
    "81.582,0.331;\n",
    "85.394,0.278;\n",
    "89.357,0.259;\n",
    "94.11,0.291;\n",
    "98.307,0.333;\n",
    "102.495,0.354;\n",
    "107.003,0.373;\n",
    "108.639,0.314;\n",
    "110.709,0.308;\n",
    "112.328,0.305;\n",
    "114.396,0.309;\n",
    "116.433,0.311;\n",
    "118.837,0.323;\n",
    "120.655,0.337;\n",
    "131.162,0.47;\n",
    "140.221,0.331;\n",
    "147.681,0.312;\n",
    "157.215,0.321;\n",
    "164.737,0.416;\n",
    "171.2,0.544;\n",
    "178.674,0.287;\n",
    "185.737,0.703;\n",
    "192.244,0.372;\n",
    "195.493,0.539;\n",
    "199.887,0.29;\n",
    "204.577,0.239;\n",
    "209.183,0.289;\n",
    "213.338,0.447;\n",
    "216.879,0.45;\n",
    "220.159,0.353;\n",
    "224.665,0.399;\n",
    "226.277,0.339;\n",
    "228.446,0.282;\n",
    "230.339,0.302;\n",
    "232.707,0.31;\n",
    "234.945,0.296;\n",
    "236.729,0.287;\n",
    "238.924,0.276]'''\n",
    "len(s)"
   ]
  },
  {
   "cell_type": "markdown",
   "metadata": {},
   "source": [
    "Текст с данными сохранили в переменную s. Длина текста - 702 символа."
   ]
  },
  {
   "cell_type": "code",
   "execution_count": 3,
   "metadata": {
    "collapsed": false
   },
   "outputs": [
    {
     "data": {
      "text/plain": [
       "(48, 2)"
      ]
     },
     "execution_count": 3,
     "metadata": {},
     "output_type": "execute_result"
    }
   ],
   "source": [
    "#найдем квадратные скобки, ограничивающие данные\n",
    "iab=s.find('[')\n",
    "iad=s.find(']')\n",
    "s=s[iab:iad+1]  #оставляем только то, что между скобками\n",
    "if len(s)>10:  #если между скобками что-то есть\n",
    "    lps=array(mat(s.replace('\\n','')))  #создаем массив (array) \n",
    "else:    #иначе заведем пустой массив (на случай неверных исходных данных)\n",
    "    lps=array([])\n",
    "lps.shape"
   ]
  },
  {
   "cell_type": "code",
   "execution_count": 4,
   "metadata": {
    "collapsed": false
   },
   "outputs": [],
   "source": [
    "mat?"
   ]
  }
 ],
 "metadata": {
  "kernelspec": {
   "display_name": "Python 3",
   "language": "python",
   "name": "python3"
  },
  "language_info": {
   "codemirror_mode": {
    "name": "ipython",
    "version": 3
   },
   "file_extension": ".py",
   "mimetype": "text/x-python",
   "name": "python",
   "nbconvert_exporter": "python",
   "pygments_lexer": "ipython3",
   "version": "3.5.2"
  }
 },
 "nbformat": 4,
 "nbformat_minor": 0
}
