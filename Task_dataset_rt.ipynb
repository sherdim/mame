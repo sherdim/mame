{
 "cells": [
  {
   "cell_type": "markdown",
   "metadata": {},
   "source": [
    "## Формирование набора данных на основа анализа межстимульного интервала (МСИ)"
   ]
  },
  {
   "cell_type": "code",
   "execution_count": 1,
   "metadata": {
    "collapsed": false
   },
   "outputs": [
    {
     "name": "stdout",
     "output_type": "stream",
     "text": [
      "Populating the interactive namespace from numpy and matplotlib\n"
     ]
    }
   ],
   "source": [
    "%pylab inline\n",
    "import pandas as pd"
   ]
  },
  {
   "cell_type": "markdown",
   "metadata": {},
   "source": [
    "В наборе данных: 1-я колонка - моменты времени предъявления стимулов, 2-я колонка - время реакции, с."
   ]
  },
  {
   "cell_type": "code",
   "execution_count": 2,
   "metadata": {
    "collapsed": false
   },
   "outputs": [
    {
     "data": {
      "image/png": "[encoded data removed]",
      "text/plain": [
       "<matplotlib.figure.Figure at 0xa296128>"
      ]
     },
     "metadata": {},
     "output_type": "display_data"
    }
   ],
   "source": [
    "D = pd.read_table('rt.tsv')\n",
    "D['isi']=D.t.diff()  #разница между соседними моментами времени \n",
    "\n",
    "D.plot('t','isi',kind='scatter', color='r');"
   ]
  },
  {
   "cell_type": "markdown",
   "metadata": {},
   "source": [
    "На основании рассчитанных межстимульных интервалов (МСИ, isi) можно выделить блоки реакций на зрительные стимулы с изменением МСИ от 8 до 2 с и на слуховые стимулы с аналогичной динамикой МСИ.\n",
    "\n",
    "Так как мы работаем с единым блоком данных, то эти признаки можно добавить в виде дополнительных колонок в эту же таблицу."
   ]
  },
  {
   "cell_type": "markdown",
   "metadata": {},
   "source": [
    "Способов задать пороговые значения для выделения групповых признаков может быть много. Желательно использовать более универсальные.\n",
    "\n",
    "Например, можно ввести условие для отбора слуховых реакций `D.t > 130` , т.е. время стимула более 130 с от начала теста. Однако, в другом тесте продолжительность может измениться, поэтому надежнее использовать разницу в МСИ. Для этого дифференцируем этот ряд значений. Переход МСИ от 2 к 8 с возможен только однажды - при смене модальности в середине теста. В этом месте разница между последовательными значениями МСИ резко возрастает более, чем на 5 с."
   ]
  },
  {
   "cell_type": "code",
   "execution_count": 3,
   "metadata": {
    "collapsed": false,
    "scrolled": true
   },
   "outputs": [
    {
     "data": {
      "text/plain": [
       "0     False\n",
       "1     False\n",
       "2     False\n",
       "3     False\n",
       "4     False\n",
       "5     False\n",
       "6     False\n",
       "7     False\n",
       "8     False\n",
       "9     False\n",
       "10    False\n",
       "11    False\n",
       "12    False\n",
       "13    False\n",
       "14    False\n",
       "15    False\n",
       "16    False\n",
       "17    False\n",
       "18    False\n",
       "19    False\n",
       "20    False\n",
       "21    False\n",
       "22    False\n",
       "23     True\n",
       "24    False\n",
       "25    False\n",
       "26    False\n",
       "27    False\n",
       "28    False\n",
       "29    False\n",
       "30    False\n",
       "31    False\n",
       "32    False\n",
       "33    False\n",
       "34    False\n",
       "35    False\n",
       "36    False\n",
       "37    False\n",
       "38    False\n",
       "39    False\n",
       "40    False\n",
       "41    False\n",
       "42    False\n",
       "43    False\n",
       "44    False\n",
       "Name: isi, dtype: bool"
      ]
     },
     "execution_count": 3,
     "metadata": {},
     "output_type": "execute_result"
    }
   ],
   "source": [
    "D.isi.diff()>5"
   ]
  },
  {
   "cell_type": "code",
   "execution_count": 4,
   "metadata": {
    "collapsed": false
   },
   "outputs": [
    {
     "data": {
      "text/plain": [
       "23"
      ]
     },
     "execution_count": 4,
     "metadata": {},
     "output_type": "execute_result"
    }
   ],
   "source": [
    "iA=(D.isi.diff()>5).argmax()  #сохраняем позицию, где условие истинно.\n",
    "iA"
   ]
  },
  {
   "cell_type": "markdown",
   "metadata": {},
   "source": [
    "Это индекс того места в ряде значений, где начинаются слуховые реакции"
   ]
  },
  {
   "cell_type": "code",
   "execution_count": 5,
   "metadata": {
    "collapsed": false
   },
   "outputs": [
    {
     "data": {
      "text/html": [
       "<div>\n",
       "<table border=\"1\" class=\"dataframe\">\n",
       "  <thead>\n",
       "    <tr style=\"text-align: right;\">\n",
       "      <th></th>\n",
       "      <th>t</th>\n",
       "      <th>v</th>\n",
       "      <th>isi</th>\n",
       "      <th>mod</th>\n",
       "      <th>g</th>\n",
       "    </tr>\n",
       "  </thead>\n",
       "  <tbody>\n",
       "    <tr>\n",
       "      <th>40</th>\n",
       "      <td>230.642</td>\n",
       "      <td>0.372</td>\n",
       "      <td>1.805</td>\n",
       "      <td>a</td>\n",
       "      <td>2</td>\n",
       "    </tr>\n",
       "    <tr>\n",
       "      <th>41</th>\n",
       "      <td>232.313</td>\n",
       "      <td>0.357</td>\n",
       "      <td>1.671</td>\n",
       "      <td>a</td>\n",
       "      <td>2</td>\n",
       "    </tr>\n",
       "    <tr>\n",
       "      <th>42</th>\n",
       "      <td>234.108</td>\n",
       "      <td>0.378</td>\n",
       "      <td>1.795</td>\n",
       "      <td>a</td>\n",
       "      <td>2</td>\n",
       "    </tr>\n",
       "    <tr>\n",
       "      <th>43</th>\n",
       "      <td>235.799</td>\n",
       "      <td>0.391</td>\n",
       "      <td>1.691</td>\n",
       "      <td>a</td>\n",
       "      <td>2</td>\n",
       "    </tr>\n",
       "    <tr>\n",
       "      <th>44</th>\n",
       "      <td>238.050</td>\n",
       "      <td>0.396</td>\n",
       "      <td>2.251</td>\n",
       "      <td>a</td>\n",
       "      <td>2</td>\n",
       "    </tr>\n",
       "  </tbody>\n",
       "</table>\n",
       "</div>"
      ],
      "text/plain": [
       "          t      v    isi mod  g\n",
       "40  230.642  0.372  1.805   a  2\n",
       "41  232.313  0.357  1.671   a  2\n",
       "42  234.108  0.378  1.795   a  2\n",
       "43  235.799  0.391  1.691   a  2\n",
       "44  238.050  0.396  2.251   a  2"
      ]
     },
     "execution_count": 5,
     "metadata": {},
     "output_type": "execute_result"
    }
   ],
   "source": [
    "# создадим колонку с одним значением v - visual\n",
    "D['mod']='v'\n",
    "# значение после найденого индекса заменим на 'a' - audial\n",
    "D.loc[iA:, 'mod'] = 'a'\n",
    "D.tail()"
   ]
  },
  {
   "cell_type": "markdown",
   "metadata": {},
   "source": [
    "Из процедуры тестирования мы знаем, что МСИ в тесте изменялся в ряду `[8, 4, 2]` с добавлением случайной вариации.\n",
    "\n",
    "Мы могли бы просто задать промежуточные пороги около 3 и 5 с и распределить значения по группам. Однако, если в ходе теста был пропуск, как это видно на рисунке, на 80-й сек, то будет ошибка. Поэтому надежней найти крайние значения в ряду и все промежуточные между ними зачислить в ту же группу."
   ]
  },
  {
   "cell_type": "code",
   "execution_count": 14,
   "metadata": {
    "collapsed": false
   },
   "outputs": [
    {
     "data": {
      "text/plain": [
       "9"
      ]
     },
     "execution_count": 14,
     "metadata": {},
     "output_type": "execute_result"
    }
   ],
   "source": [
    "(D.isi<5).argmax()"
   ]
  },
  {
   "cell_type": "code",
   "execution_count": 34,
   "metadata": {
    "collapsed": false
   },
   "outputs": [
    {
     "data": {
      "text/plain": [
       "30"
      ]
     },
     "execution_count": 34,
     "metadata": {},
     "output_type": "execute_result"
    }
   ],
   "source": [
    "(D.loc[iA:,'isi']<5).argmax()"
   ]
  },
  {
   "cell_type": "code",
   "execution_count": 6,
   "metadata": {
    "collapsed": false
   },
   "outputs": [
    {
     "data": {
      "text/html": [
       "<div>\n",
       "<table border=\"1\" class=\"dataframe\">\n",
       "  <thead>\n",
       "    <tr style=\"text-align: right;\">\n",
       "      <th></th>\n",
       "      <th>t</th>\n",
       "      <th>v</th>\n",
       "      <th>isi</th>\n",
       "      <th>mod</th>\n",
       "      <th>g</th>\n",
       "    </tr>\n",
       "  </thead>\n",
       "  <tbody>\n",
       "    <tr>\n",
       "      <th>0</th>\n",
       "      <td>9.585</td>\n",
       "      <td>0.429</td>\n",
       "      <td>NaN</td>\n",
       "      <td>v</td>\n",
       "      <td>8</td>\n",
       "    </tr>\n",
       "    <tr>\n",
       "      <th>1</th>\n",
       "      <td>16.368</td>\n",
       "      <td>0.335</td>\n",
       "      <td>6.783</td>\n",
       "      <td>v</td>\n",
       "      <td>8</td>\n",
       "    </tr>\n",
       "    <tr>\n",
       "      <th>2</th>\n",
       "      <td>23.729</td>\n",
       "      <td>0.357</td>\n",
       "      <td>7.361</td>\n",
       "      <td>v</td>\n",
       "      <td>8</td>\n",
       "    </tr>\n",
       "    <tr>\n",
       "      <th>3</th>\n",
       "      <td>30.930</td>\n",
       "      <td>0.373</td>\n",
       "      <td>7.201</td>\n",
       "      <td>v</td>\n",
       "      <td>8</td>\n",
       "    </tr>\n",
       "    <tr>\n",
       "      <th>4</th>\n",
       "      <td>40.303</td>\n",
       "      <td>0.439</td>\n",
       "      <td>9.373</td>\n",
       "      <td>v</td>\n",
       "      <td>8</td>\n",
       "    </tr>\n",
       "    <tr>\n",
       "      <th>5</th>\n",
       "      <td>46.804</td>\n",
       "      <td>0.402</td>\n",
       "      <td>6.501</td>\n",
       "      <td>v</td>\n",
       "      <td>8</td>\n",
       "    </tr>\n",
       "    <tr>\n",
       "      <th>6</th>\n",
       "      <td>55.448</td>\n",
       "      <td>0.382</td>\n",
       "      <td>8.644</td>\n",
       "      <td>v</td>\n",
       "      <td>8</td>\n",
       "    </tr>\n",
       "    <tr>\n",
       "      <th>7</th>\n",
       "      <td>62.401</td>\n",
       "      <td>0.325</td>\n",
       "      <td>6.953</td>\n",
       "      <td>v</td>\n",
       "      <td>8</td>\n",
       "    </tr>\n",
       "    <tr>\n",
       "      <th>8</th>\n",
       "      <td>68.910</td>\n",
       "      <td>0.400</td>\n",
       "      <td>6.509</td>\n",
       "      <td>v</td>\n",
       "      <td>8</td>\n",
       "    </tr>\n",
       "    <tr>\n",
       "      <th>9</th>\n",
       "      <td>73.463</td>\n",
       "      <td>0.303</td>\n",
       "      <td>4.553</td>\n",
       "      <td>v</td>\n",
       "      <td>4</td>\n",
       "    </tr>\n",
       "    <tr>\n",
       "      <th>10</th>\n",
       "      <td>77.697</td>\n",
       "      <td>0.349</td>\n",
       "      <td>4.234</td>\n",
       "      <td>v</td>\n",
       "      <td>4</td>\n",
       "    </tr>\n",
       "    <tr>\n",
       "      <th>11</th>\n",
       "      <td>86.385</td>\n",
       "      <td>0.285</td>\n",
       "      <td>8.688</td>\n",
       "      <td>v</td>\n",
       "      <td>4</td>\n",
       "    </tr>\n",
       "    <tr>\n",
       "      <th>12</th>\n",
       "      <td>90.470</td>\n",
       "      <td>0.288</td>\n",
       "      <td>4.085</td>\n",
       "      <td>v</td>\n",
       "      <td>4</td>\n",
       "    </tr>\n",
       "    <tr>\n",
       "      <th>13</th>\n",
       "      <td>95.114</td>\n",
       "      <td>0.308</td>\n",
       "      <td>4.644</td>\n",
       "      <td>v</td>\n",
       "      <td>4</td>\n",
       "    </tr>\n",
       "    <tr>\n",
       "      <th>14</th>\n",
       "      <td>99.548</td>\n",
       "      <td>0.282</td>\n",
       "      <td>4.434</td>\n",
       "      <td>v</td>\n",
       "      <td>4</td>\n",
       "    </tr>\n",
       "    <tr>\n",
       "      <th>15</th>\n",
       "      <td>104.056</td>\n",
       "      <td>0.382</td>\n",
       "      <td>4.508</td>\n",
       "      <td>v</td>\n",
       "      <td>4</td>\n",
       "    </tr>\n",
       "    <tr>\n",
       "      <th>16</th>\n",
       "      <td>105.844</td>\n",
       "      <td>0.338</td>\n",
       "      <td>1.788</td>\n",
       "      <td>v</td>\n",
       "      <td>2</td>\n",
       "    </tr>\n",
       "    <tr>\n",
       "      <th>17</th>\n",
       "      <td>107.955</td>\n",
       "      <td>0.307</td>\n",
       "      <td>2.111</td>\n",
       "      <td>v</td>\n",
       "      <td>2</td>\n",
       "    </tr>\n",
       "    <tr>\n",
       "      <th>18</th>\n",
       "      <td>109.636</td>\n",
       "      <td>0.514</td>\n",
       "      <td>1.681</td>\n",
       "      <td>v</td>\n",
       "      <td>2</td>\n",
       "    </tr>\n",
       "    <tr>\n",
       "      <th>19</th>\n",
       "      <td>111.487</td>\n",
       "      <td>0.287</td>\n",
       "      <td>1.851</td>\n",
       "      <td>v</td>\n",
       "      <td>2</td>\n",
       "    </tr>\n",
       "    <tr>\n",
       "      <th>20</th>\n",
       "      <td>113.394</td>\n",
       "      <td>0.316</td>\n",
       "      <td>1.907</td>\n",
       "      <td>v</td>\n",
       "      <td>2</td>\n",
       "    </tr>\n",
       "    <tr>\n",
       "      <th>21</th>\n",
       "      <td>115.732</td>\n",
       "      <td>0.290</td>\n",
       "      <td>2.338</td>\n",
       "      <td>v</td>\n",
       "      <td>2</td>\n",
       "    </tr>\n",
       "    <tr>\n",
       "      <th>22</th>\n",
       "      <td>117.612</td>\n",
       "      <td>0.434</td>\n",
       "      <td>1.880</td>\n",
       "      <td>v</td>\n",
       "      <td>2</td>\n",
       "    </tr>\n",
       "    <tr>\n",
       "      <th>23</th>\n",
       "      <td>143.557</td>\n",
       "      <td>0.622</td>\n",
       "      <td>25.945</td>\n",
       "      <td>a</td>\n",
       "      <td>8</td>\n",
       "    </tr>\n",
       "    <tr>\n",
       "      <th>24</th>\n",
       "      <td>151.932</td>\n",
       "      <td>0.402</td>\n",
       "      <td>8.375</td>\n",
       "      <td>a</td>\n",
       "      <td>8</td>\n",
       "    </tr>\n",
       "    <tr>\n",
       "      <th>25</th>\n",
       "      <td>160.933</td>\n",
       "      <td>0.393</td>\n",
       "      <td>9.001</td>\n",
       "      <td>a</td>\n",
       "      <td>8</td>\n",
       "    </tr>\n",
       "    <tr>\n",
       "      <th>26</th>\n",
       "      <td>168.975</td>\n",
       "      <td>0.471</td>\n",
       "      <td>8.042</td>\n",
       "      <td>a</td>\n",
       "      <td>8</td>\n",
       "    </tr>\n",
       "    <tr>\n",
       "      <th>27</th>\n",
       "      <td>177.819</td>\n",
       "      <td>0.411</td>\n",
       "      <td>8.844</td>\n",
       "      <td>a</td>\n",
       "      <td>8</td>\n",
       "    </tr>\n",
       "    <tr>\n",
       "      <th>28</th>\n",
       "      <td>184.975</td>\n",
       "      <td>0.431</td>\n",
       "      <td>7.156</td>\n",
       "      <td>a</td>\n",
       "      <td>8</td>\n",
       "    </tr>\n",
       "    <tr>\n",
       "      <th>29</th>\n",
       "      <td>191.480</td>\n",
       "      <td>0.519</td>\n",
       "      <td>6.505</td>\n",
       "      <td>a</td>\n",
       "      <td>8</td>\n",
       "    </tr>\n",
       "    <tr>\n",
       "      <th>30</th>\n",
       "      <td>195.884</td>\n",
       "      <td>0.370</td>\n",
       "      <td>4.404</td>\n",
       "      <td>a</td>\n",
       "      <td>4</td>\n",
       "    </tr>\n",
       "    <tr>\n",
       "      <th>31</th>\n",
       "      <td>199.594</td>\n",
       "      <td>0.412</td>\n",
       "      <td>3.710</td>\n",
       "      <td>a</td>\n",
       "      <td>4</td>\n",
       "    </tr>\n",
       "    <tr>\n",
       "      <th>32</th>\n",
       "      <td>203.637</td>\n",
       "      <td>0.385</td>\n",
       "      <td>4.043</td>\n",
       "      <td>a</td>\n",
       "      <td>4</td>\n",
       "    </tr>\n",
       "    <tr>\n",
       "      <th>33</th>\n",
       "      <td>207.373</td>\n",
       "      <td>0.513</td>\n",
       "      <td>3.736</td>\n",
       "      <td>a</td>\n",
       "      <td>4</td>\n",
       "    </tr>\n",
       "    <tr>\n",
       "      <th>34</th>\n",
       "      <td>211.929</td>\n",
       "      <td>0.389</td>\n",
       "      <td>4.556</td>\n",
       "      <td>a</td>\n",
       "      <td>4</td>\n",
       "    </tr>\n",
       "    <tr>\n",
       "      <th>35</th>\n",
       "      <td>216.615</td>\n",
       "      <td>0.439</td>\n",
       "      <td>4.686</td>\n",
       "      <td>a</td>\n",
       "      <td>4</td>\n",
       "    </tr>\n",
       "    <tr>\n",
       "      <th>36</th>\n",
       "      <td>219.947</td>\n",
       "      <td>0.443</td>\n",
       "      <td>3.332</td>\n",
       "      <td>a</td>\n",
       "      <td>4</td>\n",
       "    </tr>\n",
       "    <tr>\n",
       "      <th>37</th>\n",
       "      <td>224.455</td>\n",
       "      <td>0.698</td>\n",
       "      <td>4.508</td>\n",
       "      <td>a</td>\n",
       "      <td>4</td>\n",
       "    </tr>\n",
       "    <tr>\n",
       "      <th>38</th>\n",
       "      <td>226.741</td>\n",
       "      <td>0.473</td>\n",
       "      <td>2.286</td>\n",
       "      <td>a</td>\n",
       "      <td>2</td>\n",
       "    </tr>\n",
       "    <tr>\n",
       "      <th>39</th>\n",
       "      <td>228.837</td>\n",
       "      <td>0.377</td>\n",
       "      <td>2.096</td>\n",
       "      <td>a</td>\n",
       "      <td>2</td>\n",
       "    </tr>\n",
       "    <tr>\n",
       "      <th>40</th>\n",
       "      <td>230.642</td>\n",
       "      <td>0.372</td>\n",
       "      <td>1.805</td>\n",
       "      <td>a</td>\n",
       "      <td>2</td>\n",
       "    </tr>\n",
       "    <tr>\n",
       "      <th>41</th>\n",
       "      <td>232.313</td>\n",
       "      <td>0.357</td>\n",
       "      <td>1.671</td>\n",
       "      <td>a</td>\n",
       "      <td>2</td>\n",
       "    </tr>\n",
       "    <tr>\n",
       "      <th>42</th>\n",
       "      <td>234.108</td>\n",
       "      <td>0.378</td>\n",
       "      <td>1.795</td>\n",
       "      <td>a</td>\n",
       "      <td>2</td>\n",
       "    </tr>\n",
       "    <tr>\n",
       "      <th>43</th>\n",
       "      <td>235.799</td>\n",
       "      <td>0.391</td>\n",
       "      <td>1.691</td>\n",
       "      <td>a</td>\n",
       "      <td>2</td>\n",
       "    </tr>\n",
       "    <tr>\n",
       "      <th>44</th>\n",
       "      <td>238.050</td>\n",
       "      <td>0.396</td>\n",
       "      <td>2.251</td>\n",
       "      <td>a</td>\n",
       "      <td>2</td>\n",
       "    </tr>\n",
       "  </tbody>\n",
       "</table>\n",
       "</div>"
      ],
      "text/plain": [
       "          t      v     isi mod  g\n",
       "0     9.585  0.429     NaN   v  8\n",
       "1    16.368  0.335   6.783   v  8\n",
       "2    23.729  0.357   7.361   v  8\n",
       "3    30.930  0.373   7.201   v  8\n",
       "4    40.303  0.439   9.373   v  8\n",
       "5    46.804  0.402   6.501   v  8\n",
       "6    55.448  0.382   8.644   v  8\n",
       "7    62.401  0.325   6.953   v  8\n",
       "8    68.910  0.400   6.509   v  8\n",
       "9    73.463  0.303   4.553   v  4\n",
       "10   77.697  0.349   4.234   v  4\n",
       "11   86.385  0.285   8.688   v  4\n",
       "12   90.470  0.288   4.085   v  4\n",
       "13   95.114  0.308   4.644   v  4\n",
       "14   99.548  0.282   4.434   v  4\n",
       "15  104.056  0.382   4.508   v  4\n",
       "16  105.844  0.338   1.788   v  2\n",
       "17  107.955  0.307   2.111   v  2\n",
       "18  109.636  0.514   1.681   v  2\n",
       "19  111.487  0.287   1.851   v  2\n",
       "20  113.394  0.316   1.907   v  2\n",
       "21  115.732  0.290   2.338   v  2\n",
       "22  117.612  0.434   1.880   v  2\n",
       "23  143.557  0.622  25.945   a  8\n",
       "24  151.932  0.402   8.375   a  8\n",
       "25  160.933  0.393   9.001   a  8\n",
       "26  168.975  0.471   8.042   a  8\n",
       "27  177.819  0.411   8.844   a  8\n",
       "28  184.975  0.431   7.156   a  8\n",
       "29  191.480  0.519   6.505   a  8\n",
       "30  195.884  0.370   4.404   a  4\n",
       "31  199.594  0.412   3.710   a  4\n",
       "32  203.637  0.385   4.043   a  4\n",
       "33  207.373  0.513   3.736   a  4\n",
       "34  211.929  0.389   4.556   a  4\n",
       "35  216.615  0.439   4.686   a  4\n",
       "36  219.947  0.443   3.332   a  4\n",
       "37  224.455  0.698   4.508   a  4\n",
       "38  226.741  0.473   2.286   a  2\n",
       "39  228.837  0.377   2.096   a  2\n",
       "40  230.642  0.372   1.805   a  2\n",
       "41  232.313  0.357   1.671   a  2\n",
       "42  234.108  0.378   1.795   a  2\n",
       "43  235.799  0.391   1.691   a  2\n",
       "44  238.050  0.396   2.251   a  2"
      ]
     },
     "execution_count": 6,
     "metadata": {},
     "output_type": "execute_result"
    }
   ],
   "source": [
    "# создадим колонку с одним значением 8\n",
    "D['g']=8\n",
    "\n",
    "# заменим значения в колонке 'g' на 4 там, где начинаются МСИ менее 5 с\n",
    "iV4 = (D.isi<5).argmax() #где начинаются 4\n",
    "iA4 = (D[iA:].isi<5).argmax()\n",
    "D.loc[iV4:iA-1, 'g']= D.ix[iA4:, 'g']= 4\n",
    "\n",
    "# заменим значения в колонке 'g' на 2 там, где начинаются МСИ менее 3 с\n",
    "iV2 = (D.isi<3).argmax() #где начинаются 4\n",
    "iA2 = (D[iA:].isi<3).argmax()\n",
    "D.loc[iV2:iA-1, 'g']= D.ix[iA2:, 'g']= 2\n",
    "\n",
    "D"
   ]
  },
  {
   "cell_type": "markdown",
   "metadata": {},
   "source": [
    "Теперь у нас есть готовый набор данных, с которым легко проводить анализ по группам, а также выявлять взаимосвязи между данными в разных колонках."
   ]
  },
  {
   "cell_type": "code",
   "execution_count": null,
   "metadata": {
    "collapsed": true
   },
   "outputs": [],
   "source": [
    "# D.to_csv('rtdf.csv', index=False)\n",
    "\n",
    "\n",
    "#для анализа подвыборки в приложении https://sherdim.shinyapps.io/retivo/ можно сохранить только нужные значения в 2-х колонках\n",
    "#например, только слуховые реакции, очищенные от пропусков (NaN) \n",
    "\n",
    "#D.loc[D['mod']=='a',['t','v']].dropna().to_csv('rt_a.csv', index=False)"
   ]
  },
  {
   "cell_type": "markdown",
   "metadata": {},
   "source": [
    "Можно посмотреть отклонение МСИ от группового."
   ]
  },
  {
   "cell_type": "code",
   "execution_count": 10,
   "metadata": {
    "collapsed": false
   },
   "outputs": [
    {
     "data": {
      "image/png": "[encoded data removed]",
      "text/plain": [
       "<matplotlib.figure.Figure at 0xb2f9048>"
      ]
     },
     "metadata": {},
     "output_type": "display_data"
    }
   ],
   "source": [
    "(D.isi - D.g).plot(lw=0, marker='d', ylim=(-3,3));"
   ]
  },
  {
   "cell_type": "code",
   "execution_count": 11,
   "metadata": {
    "collapsed": false,
    "scrolled": true
   },
   "outputs": [
    {
     "data": {
      "text/plain": [
       "<matplotlib.axes._subplots.AxesSubplot at 0xb35a4a8>"
      ]
     },
     "execution_count": 11,
     "metadata": {},
     "output_type": "execute_result"
    },
    {
     "data": {
      "image/png": "[encoded data removed]",
      "text/plain": [
       "<matplotlib.figure.Figure at 0xb35eb00>"
      ]
     },
     "metadata": {},
     "output_type": "display_data"
    }
   ],
   "source": [
    "(D.isi - D.g).hist(bins=arange(-3,3,0.25))"
   ]
  },
  {
   "cell_type": "markdown",
   "metadata": {},
   "source": [
    "Создается впечатление, что вариация МСИ происходила по нормальному закону. Однако, мы не учли, что тут смешаны и длинные и короткие МСИ.\n",
    "\n",
    "Пересчитаем остатки, нормализовав их по групповому значению."
   ]
  },
  {
   "cell_type": "code",
   "execution_count": 12,
   "metadata": {
    "collapsed": false
   },
   "outputs": [
    {
     "data": {
      "image/png": "[encoded data removed]",
      "text/plain": [
       "<matplotlib.figure.Figure at 0xb3c4d30>"
      ]
     },
     "metadata": {},
     "output_type": "display_data"
    }
   ],
   "source": [
    "r=((D.isi - D.g)/D.g)\n",
    "r.plot(lw=0, marker='d', ylim=(-3,3));"
   ]
  },
  {
   "cell_type": "code",
   "execution_count": 13,
   "metadata": {
    "collapsed": false
   },
   "outputs": [
    {
     "data": {
      "image/png": "[encoded data removed]",
      "text/plain": [
       "<matplotlib.figure.Figure at 0xb410828>"
      ]
     },
     "metadata": {},
     "output_type": "display_data"
    }
   ],
   "source": [
    "# из-за выбросов приходится задавать жесткие границы классов\n",
    "r.hist(bins=arange(-1,1,0.05));"
   ]
  },
  {
   "cell_type": "code",
   "execution_count": 14,
   "metadata": {
    "collapsed": false
   },
   "outputs": [
    {
     "data": {
      "image/png": "[encoded data removed]",
      "text/plain": [
       "<matplotlib.figure.Figure at 0xb5bbf28>"
      ]
     },
     "metadata": {},
     "output_type": "display_data"
    }
   ],
   "source": [
    "r.hist(bins=arange(-.5,.5,0.1));"
   ]
  },
  {
   "cell_type": "markdown",
   "metadata": {},
   "source": [
    "Столбцы гистограммы не снижаются к бокам и при этом видны четкие границы (без учета двух выборосов, которые не видны на рисунке) - это признаки равномерного распределения в заданных пределах $\\pm 20\\%$."
   ]
  }
 ],
 "metadata": {
  "kernelspec": {
   "display_name": "Python 3",
   "language": "python",
   "name": "python3"
  },
  "language_info": {
   "codemirror_mode": {
    "name": "ipython",
    "version": 3
   },
   "file_extension": ".py",
   "mimetype": "text/x-python",
   "name": "python",
   "nbconvert_exporter": "python",
   "pygments_lexer": "ipython3",
   "version": "3.5.2"
  },
  "toc": {
   "base_numbering": 1,
   "nav_menu": {},
   "number_sections": false,
   "sideBar": false,
   "skip_h1_title": false,
   "title_cell": "Table of Contents",
   "title_sidebar": "Contents",
   "toc_cell": false,
   "toc_position": {},
   "toc_section_display": true,
   "toc_window_display": false
  }
 },
 "nbformat": 4,
 "nbformat_minor": 1
}
