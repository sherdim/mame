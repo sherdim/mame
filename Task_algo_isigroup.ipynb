{
 "cells": [
  {
   "cell_type": "markdown",
   "metadata": {
    "deletable": true,
    "editable": true
   },
   "source": [
    "## Разделение значений на группы с учетом соответствующих МСИ"
   ]
  },
  {
   "cell_type": "code",
   "execution_count": 1,
   "metadata": {
    "collapsed": false,
    "deletable": true,
    "editable": true
   },
   "outputs": [
    {
     "name": "stdout",
     "output_type": "stream",
     "text": [
      "Populating the interactive namespace from numpy and matplotlib\n"
     ]
    }
   ],
   "source": [
    "%pylab inline"
   ]
  },
  {
   "cell_type": "code",
   "execution_count": 2,
   "metadata": {
    "collapsed": false,
    "deletable": true,
    "editable": true
   },
   "outputs": [
    {
     "name": "stdout",
     "output_type": "stream",
     "text": [
      "Variable   Type       Data/Info\n",
      "-------------------------------\n",
      "lps        ndarray    45x2: 90 elems, type `float64`, 720 bytes\n"
     ]
    }
   ],
   "source": [
    "#загрузка данных\n",
    "lps=loadtxt('lps')\n",
    "%whos"
   ]
  },
  {
   "cell_type": "code",
   "execution_count": 3,
   "metadata": {
    "collapsed": false,
    "deletable": true,
    "editable": true
   },
   "outputs": [],
   "source": [
    "tt=lps[:,0] # моменты предъявления стимулов\n",
    "vv=lps[:,1] # значения ВР\n",
    "isi=diff(tt) # МСИ"
   ]
  },
  {
   "cell_type": "markdown",
   "metadata": {
    "deletable": true,
    "editable": true
   },
   "source": [
    "Имея в распоряжении ряд значений `vv` и соответствующих им МСИ `isi`, разделим значения на шесть групп, определяя границы групп по появлению первого МСИ меньше или больше заданного порога (3 или 5 с). Позицию элементов ряда, для которых сравнение с порогом истинно, находим с помощью функции `find` (англ. найти). Из найденных позиций нам нужна только первая, которая имеет нулевой индекс."
   ]
  },
  {
   "cell_type": "code",
   "execution_count": 4,
   "metadata": {
    "collapsed": false,
    "deletable": true,
    "editable": true
   },
   "outputs": [
    {
     "data": {
      "text/plain": [
       "6"
      ]
     },
     "execution_count": 4,
     "metadata": {},
     "output_type": "execute_result"
    }
   ],
   "source": [
    "gg=[]  # пустой массив куда будем складывать группы значений\n",
    "\n",
    "\n",
    "iab=1                  # начнем с первого\n",
    "iad=find(isi < 5)[0]   # найдем первую (индекс=0) позицию, где МСИ < 5 с\n",
    "gg.append(vv[iab:iad]) # добавим выделенный нами фрагмент значений в качестве первой группы\n",
    "\n",
    "iab=iad                          # следующая группа начинается от той позиции, где закончилась предыдущая\n",
    "iad=iab+find(isi[iab:] < 3)[0]   # ищем следующее изменение МСИ от текущей позиции, найденную позицию складываем с текущей\n",
    "gg.append(vv[iab:iad])           # добавим еще один фрагмент значений в качестве следующей группы\n",
    "\n",
    "iab=iad\n",
    "iad=iab+find(isi[iab:] > 3)[0]\n",
    "gg.append(vv[iab:iad])\n",
    "\n",
    "iab=iad\n",
    "iad=iab+find(isi[iab:] < 5)[0]\n",
    "gg.append(vv[iab:iad])\n",
    "\n",
    "iab=iad\n",
    "iad=iab+find(isi[iab:] < 3)[0]\n",
    "gg.append(vv[iab:iad])\n",
    "\n",
    "iab=iad\n",
    "iad=len(vv)                # позиция окончания последней группы соответствует общему размеру массива (искать ничего не надо)\n",
    "gg.append(vv[iab:iad])\n",
    "\n",
    "\n",
    "len(gg)"
   ]
  },
  {
   "cell_type": "code",
   "execution_count": 5,
   "metadata": {
    "collapsed": false,
    "deletable": true,
    "editable": true
   },
   "outputs": [
    {
     "data": {
      "text/plain": [
       "[array([ 0.335,  0.357,  0.373,  0.439,  0.402,  0.382,  0.325]),\n",
       " array([ 0.4  ,  0.303,  0.349,  0.285,  0.288,  0.308,  0.282]),\n",
       " array([ 0.382,  0.338,  0.307,  0.514,  0.287,  0.316,  0.29 ]),\n",
       " array([ 0.434,  0.622,  0.402,  0.393,  0.471,  0.411,  0.431]),\n",
       " array([ 0.519,  0.37 ,  0.412,  0.385,  0.513,  0.389,  0.439,  0.443]),\n",
       " array([ 0.698,  0.473,  0.377,  0.372,  0.357,  0.378,  0.391,  0.396])]"
      ]
     },
     "execution_count": 5,
     "metadata": {},
     "output_type": "execute_result"
    }
   ],
   "source": [
    "gg"
   ]
  },
  {
   "cell_type": "markdown",
   "metadata": {
    "deletable": true,
    "editable": true
   },
   "source": [
    "видно, что значения сгруппировались в 6 групп по 7-8 штук\n"
   ]
  }
 ],
 "metadata": {
  "kernelspec": {
   "display_name": "Python 2",
   "language": "python",
   "name": "python3"
  },
  "language_info": {
   "codemirror_mode": {
    "name": "ipython",
    "version": 2
   },
   "file_extension": ".py",
   "mimetype": "text/x-python",
   "name": "python",
   "nbconvert_exporter": "python",
   "pygments_lexer": "ipython2",
   "version": "2.7.9"
  },
  "toc": {
   "colors": {
    "hover_highlight": "#DAA520",
    "running_highlight": "#FF0000",
    "selected_highlight": "#FFD700"
   },
   "moveMenuLeft": true,
   "nav_menu": {
    "height": "48px",
    "width": "252px"
   },
   "navigate_menu": true,
   "number_sections": false,
   "sideBar": true,
   "threshold": 4,
   "toc_cell": false,
   "toc_section_display": "block",
   "toc_window_display": false
  }
 },
 "nbformat": 4,
 "nbformat_minor": 0
}
