{
 "cells": [
  {
   "cell_type": "markdown",
   "metadata": {},
   "source": [
    "Непропорциональное изменение функции от аргумента"
   ]
  },
  {
   "cell_type": "markdown",
   "metadata": {},
   "source": [
    "# Закон обратных квадратов - Убывание по площади при удалении\n",
    "\n",
    "- угасание звука в пространстве (ультразвуковое обследование)\n",
    "- угасание восприятия в психофизике\n",
    "\n"
   ]
  },
  {
   "cell_type": "markdown",
   "metadata": {},
   "source": [
    "## Степенной закон Стивенса\n",
    "\n",
    "$$\\psi(I) = k I^a$$\n",
    "\n",
    "где $\\psi(I)$ — сила субъективного ощущения, $I$ — интенсивность стимула, $a$ — показатель степени функции, $k$ — константа, зависящая от единиц измерения.\n",
    "\n",
    "\n",
    "https://en.wikipedia.org/wiki/Stevens%27_power_law"
   ]
  },
  {
   "cell_type": "markdown",
   "metadata": {},
   "source": [
    "## Закон Лотки\n",
    "\n",
    "до изучения динамики популяций животных занимался наукометрией.\n",
    "\n",
    "$Y = \\frac{C}{X^n} $\n",
    "\n",
    "где $X$ - количество публикаций, $Y$ - относительная частота авторов $X$ публикаций, $n$ и $C$ - константы, зависящие от области науки ($n \\approx 2$).\n",
    "\n",
    "Lotka, Alfred J. (1926). \"The frequency distribution of scientific productivity\". Journal of the Washington Academy of Sciences. 16 (12): 317–324.\n",
    "\n",
    "\n",
    "<b class=tag>графомания</b>\n",
    "<b class=tag>наукометрия</b>"
   ]
  },
  {
   "cell_type": "markdown",
   "metadata": {
    "collapsed": true
   },
   "source": [
    "### Закон обратных квадратов"
   ]
  },
  {
   "cell_type": "markdown",
   "metadata": {},
   "source": [
    "# Безмасштабный граф\n",
    "\n",
    "In studies of the networks of citations between scientific papers, Derek de Solla Price showed in 1965 that the number of links to papers—i.e., the number of citations they receive—had a heavy-tailed distribution following a Pareto distribution or power law, and thus that the citation network is scale-free."
   ]
  },
  {
   "cell_type": "markdown",
   "metadata": {},
   "source": [
    "<b class=tag>Power law</b>"
   ]
  },
  {
   "cell_type": "markdown",
   "metadata": {},
   "source": [
    "## Ошибки"
   ]
  },
  {
   "cell_type": "markdown",
   "metadata": {},
   "source": [
    "Когда мы изучаем изменения средних - линейные модели.\n",
    "Но при изучении эффектов на дисперсию - получаем квадратичные распределения - $\\chi^2$\n",
    "\n",
    "Take a Gaussian, with the probability of exceeding a certain number, that is, . 1- Cumulative density function.. Assume mean = 0, STD= 1. Change the STD from 1 to 1.1 (underestimation of 10% of the variance). For the famed \"six sigmas\", the area in the tails explodes by 2400%. \n"
   ]
  },
  {
   "cell_type": "markdown",
   "metadata": {},
   "source": [
    "Мы применяем модель. Приемлимость модели мы оцениваем по ошибке, которую модель не объясняет. Мы можем измерить ошибку. У этого измерения будет погрешность - ошибка измерения. В оценке этой ошибки измерения также есть какая-то ошибка. В норме каждая следующая ошибка в оценке должна быть значительно меньше, чтобы эта оценка имела смысл, а ошибкой можно было пренебречь."
   ]
  },
  {
   "cell_type": "markdown",
   "metadata": {},
   "source": []
  }
 ],
 "metadata": {
  "kernelspec": {
   "display_name": "Python 3",
   "language": "python",
   "name": "python3"
  },
  "language_info": {
   "codemirror_mode": {
    "name": "ipython",
    "version": 3
   },
   "file_extension": ".py",
   "mimetype": "text/x-python",
   "name": "python",
   "nbconvert_exporter": "python",
   "pygments_lexer": "ipython3",
   "version": "3.5.2"
  },
  "toc": {
   "base_numbering": 1,
   "nav_menu": {},
   "number_sections": false,
   "sideBar": false,
   "skip_h1_title": false,
   "title_cell": "Table of Contents",
   "title_sidebar": "Contents",
   "toc_cell": false,
   "toc_position": {},
   "toc_section_display": true,
   "toc_window_display": false
  }
 },
 "nbformat": 4,
 "nbformat_minor": 2
}
