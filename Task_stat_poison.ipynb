{
 "cells": [
  {
   "cell_type": "markdown",
   "metadata": {},
   "source": [
    "На сайте \"Плантариум\" были определены [Самые популярные фото 2016 года](http://www.plantarium.ru/page/news/id/208.html).\n",
    "\n",
    "Популярность оценивалась по числу положительных оценок, данных участниками проекта. А для того, чтобы проще было остановиться, введено правило \"100+\": в подборку включались группы фото с одинаковым числом голосов начиная с максимального, и делалось это до тех пор, пока их количество не перевалило за 100. Таким образом отобраны 118 снимков, получивших 17 и более положительных отзывов. \n",
    "\n",
    "Всего фотографий: 349697\n",
    "\n",
    "\n",
    "Если количество голосов отложить по оси абсцисс, а количество снимков, их набравших – по оси ординат, то получится некая зависимость.\n",
    "Поскольку количество снимков нарастает и нарастает, то предположим, что это рост экспоненциальный.\n",
    "Задача. Подобрать параметры модели, описывающей зависимость методом экстраполяции\n",
    "\n",
    "Сколько в среднем голосов набирает снимок на сайте?\n"
   ]
  },
  {
   "cell_type": "code",
   "execution_count": null,
   "metadata": {},
   "outputs": [],
   "source": [
    "%pylab inline\n",
    "import pandas as pd\n",
    "import seaborn as sns"
   ]
  },
  {
   "cell_type": "code",
   "execution_count": null,
   "metadata": {},
   "outputs": [],
   "source": [
    "import scipy.stats\n",
    "import statsmodels.api as sm"
   ]
  },
  {
   "cell_type": "code",
   "execution_count": null,
   "metadata": {},
   "outputs": [],
   "source": [
    "D = pd.DataFrame([[30, 1],\n",
    "                  [29,0],\n",
    "                 [28, 2],\n",
    "                  [27,1],\n",
    "                  [26,3],\n",
    "                  [25,2],\n",
    "                  [24,4],\n",
    "                  [23,3],\n",
    "                  [22,9],\n",
    "                  [21,8],\n",
    "                  [20,10],\n",
    "                  [19,17],\n",
    "                  [18,20],\n",
    "                  [17, 38],\n",
    "                 ], columns=['like','n'])\n",
    "D = D.sort_values('like')\n",
    "D"
   ]
  },
  {
   "cell_type": "code",
   "execution_count": null,
   "metadata": {},
   "outputs": [],
   "source": [
    "D.plot('like','n', kind='scatter');"
   ]
  },
  {
   "cell_type": "code",
   "execution_count": null,
   "metadata": {},
   "outputs": [],
   "source": [
    "N=350000\n",
    "xx = np.linspace(0, 30, 1000)"
   ]
  },
  {
   "cell_type": "code",
   "execution_count": null,
   "metadata": {},
   "outputs": [],
   "source": [
    "mo = sm.Poisson(D.n/N, D.like).fit()\n",
    "# mo.summary()"
   ]
  },
  {
   "cell_type": "code",
   "execution_count": null,
   "metadata": {},
   "outputs": [],
   "source": [
    "bar(D['like'].values, D['n'].values);\n",
    "plot(xx, mo.predict(xx)*N, 'r-', label='poisson'); ylim(0,100);"
   ]
  },
  {
   "cell_type": "code",
   "execution_count": null,
   "metadata": {},
   "outputs": [],
   "source": [
    "stem(mo.predict(arange(31))*N);"
   ]
  },
  {
   "cell_type": "markdown",
   "metadata": {
    "collapsed": true
   },
   "source": [
    "1. Попробуйте удалить строку, где 17 голосов.\n",
    "2. Повторите анализ распределения для голосования 2018 года (см. раздел Новости)."
   ]
  }
 ],
 "metadata": {
  "kernelspec": {
   "display_name": "Python 3",
   "language": "python",
   "name": "python3"
  },
  "language_info": {
   "codemirror_mode": {
    "name": "ipython",
    "version": 3
   },
   "file_extension": ".py",
   "mimetype": "text/x-python",
   "name": "python",
   "nbconvert_exporter": "python",
   "pygments_lexer": "ipython3",
   "version": "3.5.2"
  },
  "toc": {
   "base_numbering": 1,
   "nav_menu": {
    "height": "12px",
    "width": "252px"
   },
   "number_sections": false,
   "sideBar": true,
   "skip_h1_title": false,
   "title_cell": "Table of Contents",
   "title_sidebar": "Contents",
   "toc_cell": false,
   "toc_position": {},
   "toc_section_display": "block",
   "toc_window_display": false
  }
 },
 "nbformat": 4,
 "nbformat_minor": 1
}
