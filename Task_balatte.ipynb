{
 "cells": [
  {
   "cell_type": "markdown",
   "metadata": {
    "deletable": true,
    "editable": true
   },
   "source": [
    "# Групповой анализ данных (скриптовая версия)"
   ]
  },
  {
   "cell_type": "markdown",
   "metadata": {
    "deletable": true,
    "editable": true
   },
   "source": [
    "*Особенности:*\n",
    "- Последовательное выполнение этапов анализа\n",
    "- Информативные комментарии\n",
    "- Возможности расширения"
   ]
  },
  {
   "cell_type": "code",
   "execution_count": 1,
   "metadata": {
    "collapsed": false,
    "deletable": true,
    "editable": true
   },
   "outputs": [
    {
     "name": "stdout",
     "output_type": "stream",
     "text": [
      "Populating the interactive namespace from numpy and matplotlib\n"
     ]
    }
   ],
   "source": [
    "%pylab inline\n",
    "import pandas"
   ]
  },
  {
   "cell_type": "code",
   "execution_count": 2,
   "metadata": {
    "collapsed": false,
    "deletable": true,
    "editable": true
   },
   "outputs": [],
   "source": [
    "#русские буковки в рисунках\n",
    "mpl.rcParams['font.family']='Verdana'"
   ]
  },
  {
   "cell_type": "markdown",
   "metadata": {
    "deletable": true,
    "editable": true
   },
   "source": [
    "## Загрузка данных\n",
    "\n",
    "Посмотрим данные испытуемого по имени Эмилия http://balatte.stireac.com/result/emiliyamukina@yandex.ru"
   ]
  },
  {
   "cell_type": "code",
   "execution_count": 3,
   "metadata": {
    "collapsed": false,
    "deletable": true,
    "editable": true
   },
   "outputs": [
    {
     "data": {
      "text/html": [
       "\n",
       "        <iframe\n",
       "            width=\"960\"\n",
       "            height=\"480\"\n",
       "            src=\"http://balatte.stireac.com/result/emiliyamukina%40yandex.ru/UP6__4145445840150916\"\n",
       "            frameborder=\"0\"\n",
       "            allowfullscreen\n",
       "        ></iframe>\n",
       "        "
      ],
      "text/plain": [
       "<IPython.lib.display.IFrame at 0x95ddba8>"
      ]
     },
     "execution_count": 3,
     "metadata": {},
     "output_type": "execute_result"
    }
   ],
   "source": [
    "from IPython.display import IFrame\n",
    "IFrame('http://balatte.stireac.com/result/emiliyamukina%40yandex.ru/UP6__4145445840150916', width=960, height=480)"
   ]
  },
  {
   "cell_type": "markdown",
   "metadata": {
    "deletable": true,
    "editable": true
   },
   "source": [
    "Это более продолжительный вариант теста - около 15 мин, вместо 4 мин как при коротком тесте."
   ]
  },
  {
   "cell_type": "code",
   "execution_count": 5,
   "metadata": {
    "collapsed": false,
    "deletable": true,
    "editable": true
   },
   "outputs": [
    {
     "data": {
      "text/html": [
       "<div>\n",
       "<table border=\"1\" class=\"dataframe\">\n",
       "  <thead>\n",
       "    <tr style=\"text-align: right;\">\n",
       "      <th></th>\n",
       "      <th>t</th>\n",
       "      <th>v</th>\n",
       "    </tr>\n",
       "  </thead>\n",
       "  <tbody>\n",
       "    <tr>\n",
       "      <th>0</th>\n",
       "      <td>9.568</td>\n",
       "      <td>0.331</td>\n",
       "    </tr>\n",
       "    <tr>\n",
       "      <th>1</th>\n",
       "      <td>17.112</td>\n",
       "      <td>0.290</td>\n",
       "    </tr>\n",
       "    <tr>\n",
       "      <th>2</th>\n",
       "      <td>26.284</td>\n",
       "      <td>0.271</td>\n",
       "    </tr>\n",
       "    <tr>\n",
       "      <th>3</th>\n",
       "      <td>34.185</td>\n",
       "      <td>0.529</td>\n",
       "    </tr>\n",
       "    <tr>\n",
       "      <th>4</th>\n",
       "      <td>43.602</td>\n",
       "      <td>0.248</td>\n",
       "    </tr>\n",
       "  </tbody>\n",
       "</table>\n",
       "</div>"
      ],
      "text/plain": [
       "        t      v\n",
       "0   9.568  0.331\n",
       "1  17.112  0.290\n",
       "2  26.284  0.271\n",
       "3  34.185  0.529\n",
       "4  43.602  0.248"
      ]
     },
     "execution_count": 5,
     "metadata": {},
     "output_type": "execute_result"
    }
   ],
   "source": [
    "D=pandas.read_table('http://balatte.stireac.com/result.tsv/emiliyamukina%40yandex.ru/UP6__4145445840150916')\n",
    "D.head()"
   ]
  },
  {
   "cell_type": "markdown",
   "metadata": {
    "deletable": true,
    "editable": true
   },
   "source": [
    "## Исходные данные"
   ]
  },
  {
   "cell_type": "code",
   "execution_count": 5,
   "metadata": {
    "collapsed": false,
    "deletable": true,
    "editable": true
   },
   "outputs": [
    {
     "data": {
      "image/png": "[encoded data removed]",
      "text/plain": [
       "<matplotlib.figure.Figure at 0x9aee7f0>"
      ]
     },
     "metadata": {},
     "output_type": "display_data"
    }
   ],
   "source": [
    "figsize(15,5);\n",
    "plot(D.t, D.v, 'go')\n",
    "grid()\n",
    "\n",
    "Dg=D[isfinite(D.v)]\n",
    "xx=Dg.t.iloc[[0,-1]]\n",
    "yy=polyval(polyfit(Dg.t,Dg.v,1), xx)\n",
    "plot(xx,yy,'r',lw=2);\n",
    "\n",
    "title('Исходные данные');"
   ]
  },
  {
   "cell_type": "markdown",
   "metadata": {
    "deletable": true,
    "editable": true
   },
   "source": [
    "## Разделение на группы"
   ]
  },
  {
   "cell_type": "code",
   "execution_count": 7,
   "metadata": {
    "collapsed": false,
    "deletable": true,
    "editable": true
   },
   "outputs": [
    {
     "data": {
      "image/png": "[encoded data removed]",
      "text/plain": [
       "<matplotlib.figure.Figure at 0x9ad4828>"
      ]
     },
     "metadata": {},
     "output_type": "display_data"
    }
   ],
   "source": [
    "isi=diff(D.t)\n",
    "plot(D.t[1:], isi)\n",
    "title('Динамика межстимульного интервала');"
   ]
  },
  {
   "cell_type": "markdown",
   "metadata": {
    "deletable": true,
    "editable": true
   },
   "source": [
    "Имея в распоряжении ряд значений и соответствующих им МСИ, разделим значения на шесть групп, определяя границы групп по появлению первого МСИ меньше или больше заданного порога (3 или 5 с). Позицию элементов ряда, для которых сравнение с порогом истинно, находим с помощью функции find (англ. найти). Из найденных позиций нам нужна только первая, которая имеет нулевой индекс."
   ]
  },
  {
   "cell_type": "code",
   "execution_count": 8,
   "metadata": {
    "collapsed": false,
    "deletable": true,
    "editable": true
   },
   "outputs": [
    {
     "data": {
      "text/plain": [
       "[31, 32, 31, 32, 32, 32]"
      ]
     },
     "execution_count": 8,
     "metadata": {},
     "output_type": "execute_result"
    }
   ],
   "source": [
    "vv=D.v\n",
    "gg=[]  # пустой массив куда будем складывать группы значений\n",
    "\n",
    "\n",
    "iab=1                  # начнем с первого\n",
    "iad=find(isi < 5)[0]   # найдем первую (индекс=0) позицию, где МСИ < 5 с\n",
    "gg.append(vv[iab:iad]) # добавим выделенный нами фрагмент значений в качестве первой группы\n",
    "\n",
    "iab=iad                          # следующая группа начинается от той позиции, где закончилась предыдущая\n",
    "iad=iab+find(isi[iab:] < 3)[0]   # ищем следующее изменение МСИ от текущей позиции, найденную позицию складываем с текущей\n",
    "gg.append(vv[iab:iad])           # добавим еще один фрагмент значений в качестве следующей группы\n",
    "\n",
    "iab=iad\n",
    "iad=iab+find(isi[iab:] > 5)[0]\n",
    "gg.append(vv[iab:iad])\n",
    "\n",
    "iab=iad+1             # пропустим реакцию на первый слуховой стимул\n",
    "iad=iab+find(isi[iab:] < 5)[0]\n",
    "gg.append(vv[iab:iad])\n",
    "\n",
    "iab=iad\n",
    "iad=iab+find(isi[iab:] < 3)[0]\n",
    "gg.append(vv[iab:iad])\n",
    "\n",
    "iab=iad\n",
    "iad=len(vv)                # позиция окончания последней группы соответствует общему размеру массива (искать ничего не надо)\n",
    "gg.append(vv[iab:iad])\n",
    "\n",
    "\n",
    "N=list(map(len, gg))\n",
    "N"
   ]
  },
  {
   "cell_type": "markdown",
   "metadata": {
    "deletable": true,
    "editable": true
   },
   "source": [
    "Получили 6 групп по 31-32 значения"
   ]
  },
  {
   "cell_type": "markdown",
   "metadata": {
    "deletable": true,
    "editable": true
   },
   "source": [
    "## Групповая статистика\n"
   ]
  },
  {
   "cell_type": "code",
   "execution_count": 9,
   "metadata": {
    "collapsed": false,
    "deletable": true,
    "editable": true
   },
   "outputs": [
    {
     "data": {
      "text/plain": [
       "array([[ 0.35303226,  0.33465625,  0.28568   ],\n",
       "       [ 0.4391875 ,  0.36729032,  0.27583333]])"
      ]
     },
     "execution_count": 9,
     "metadata": {},
     "output_type": "execute_result"
    }
   ],
   "source": [
    "M=list(map(mean, gg))\n",
    "S=list(map(std, gg))\n",
    "ISI=[8,4,2]\n",
    "M=array(M).reshape(2,3)\n",
    "S=array(S).reshape(2,3)\n",
    "N=array(N).reshape(2,3)\n",
    "M"
   ]
  },
  {
   "cell_type": "code",
   "execution_count": 10,
   "metadata": {
    "collapsed": false,
    "deletable": true,
    "editable": true
   },
   "outputs": [
    {
     "data": {
      "text/plain": [
       "[0.0061460575727914383, 0.076510863656144373, 0.70068175360316864]"
      ]
     },
     "execution_count": 10,
     "metadata": {},
     "output_type": "execute_result"
    }
   ],
   "source": [
    "from scipy import stats\n",
    "xx=arange(3)\n",
    "pp=[stats.ttest_ind_from_stats(M[0,i],S[0,i],N[0,i], M[1,i],S[1,i],N[1,i]).pvalue for i in xx]\n",
    "# pp=[stats.ttest_ind(gg[i],gg[i+3])[1] for i in xx]\n",
    "pp"
   ]
  },
  {
   "cell_type": "code",
   "execution_count": 12,
   "metadata": {
    "collapsed": false,
    "deletable": true,
    "editable": true
   },
   "outputs": [
    {
     "data": {
      "image/png": "[encoded data removed]",
      "text/plain": [
       "<matplotlib.figure.Figure at 0xc229f98>"
      ]
     },
     "metadata": {},
     "output_type": "display_data"
    }
   ],
   "source": [
    "figsize(8,5)\n",
    "\n",
    "SEM=S/sqrt(N)\n",
    "width = 0.35 #ширина столбцов\n",
    "p1 = bar(xx-width, M[0], width, color=(.8,.2,0), yerr=SEM[0])\n",
    "p2 = bar(xx, M[1], width, color=(0,0,0.8), yerr=SEM[1])\n",
    "xticks(xx,ISI)\n",
    "xlabel('ISI, sec')\n",
    "ylabel('RT, sec')\n",
    "legend(('visual','audial'))\n",
    "\n",
    "for i,p in enumerate(pp):\n",
    "    if p<0.05:\n",
    "        text(xx[i], max(M[:,i])+0.01, '*', size=20, horizontalalignment='center')"
   ]
  },
  {
   "cell_type": "markdown",
   "metadata": {
    "deletable": true,
    "editable": true
   },
   "source": [
    "# Дальнейший анализ...\n",
    "## Модели изменения ВР от МСИ (отдельно для каждой модальности)"
   ]
  },
  {
   "cell_type": "code",
   "execution_count": 13,
   "metadata": {
    "collapsed": false,
    "deletable": true,
    "editable": true
   },
   "outputs": [
    {
     "data": {
      "text/plain": [
       "96"
      ]
     },
     "execution_count": 13,
     "metadata": {},
     "output_type": "execute_result"
    }
   ],
   "source": [
    "#находим границу между зрительными и слуховыми\n",
    "isi=diff(D.t)\n",
    "iBr=find(isi>10)[0]+1\n",
    "iBr"
   ]
  },
  {
   "cell_type": "code",
   "execution_count": 14,
   "metadata": {
    "collapsed": false,
    "deletable": true,
    "editable": true
   },
   "outputs": [
    {
     "data": {
      "text/html": [
       "<div>\n",
       "<table border=\"1\" class=\"dataframe\">\n",
       "  <thead>\n",
       "    <tr style=\"text-align: right;\">\n",
       "      <th></th>\n",
       "      <th>t</th>\n",
       "      <th>v</th>\n",
       "      <th>isi</th>\n",
       "      <th>log2isi</th>\n",
       "    </tr>\n",
       "  </thead>\n",
       "  <tbody>\n",
       "    <tr>\n",
       "      <th>0</th>\n",
       "      <td>9.568</td>\n",
       "      <td>0.331</td>\n",
       "      <td>NaN</td>\n",
       "      <td>NaN</td>\n",
       "    </tr>\n",
       "    <tr>\n",
       "      <th>1</th>\n",
       "      <td>17.112</td>\n",
       "      <td>0.290</td>\n",
       "      <td>7.544</td>\n",
       "      <td>2.915330</td>\n",
       "    </tr>\n",
       "    <tr>\n",
       "      <th>2</th>\n",
       "      <td>26.284</td>\n",
       "      <td>0.271</td>\n",
       "      <td>9.172</td>\n",
       "      <td>3.197236</td>\n",
       "    </tr>\n",
       "    <tr>\n",
       "      <th>3</th>\n",
       "      <td>34.185</td>\n",
       "      <td>0.529</td>\n",
       "      <td>7.901</td>\n",
       "      <td>2.982035</td>\n",
       "    </tr>\n",
       "    <tr>\n",
       "      <th>4</th>\n",
       "      <td>43.602</td>\n",
       "      <td>0.248</td>\n",
       "      <td>9.417</td>\n",
       "      <td>3.235268</td>\n",
       "    </tr>\n",
       "  </tbody>\n",
       "</table>\n",
       "</div>"
      ],
      "text/plain": [
       "        t      v    isi   log2isi\n",
       "0   9.568  0.331    NaN       NaN\n",
       "1  17.112  0.290  7.544  2.915330\n",
       "2  26.284  0.271  9.172  3.197236\n",
       "3  34.185  0.529  7.901  2.982035\n",
       "4  43.602  0.248  9.417  3.235268"
      ]
     },
     "execution_count": 14,
     "metadata": {},
     "output_type": "execute_result"
    }
   ],
   "source": [
    "# интегрируем расчетные данные как дополнительные показатели\n",
    "D['isi']=hstack([NaN,isi])\n",
    "D['log2isi']=log2(D.isi)\n",
    "D.head()"
   ]
  },
  {
   "cell_type": "code",
   "execution_count": 15,
   "metadata": {
    "collapsed": false,
    "deletable": true,
    "editable": true
   },
   "outputs": [
    {
     "data": {
      "text/plain": [
       "(192,)"
      ]
     },
     "execution_count": 15,
     "metadata": {},
     "output_type": "execute_result"
    }
   ],
   "source": [
    "(D.index<iBr).shape"
   ]
  },
  {
   "cell_type": "code",
   "execution_count": 16,
   "metadata": {
    "collapsed": false,
    "deletable": true,
    "editable": true
   },
   "outputs": [],
   "source": [
    "bb=isfinite(D.v)\n",
    "bbV=bb & (D.index<iBr) & (D.index>0)\n",
    "bbA=bb & (D.index>iBr)"
   ]
  },
  {
   "cell_type": "code",
   "execution_count": 17,
   "metadata": {
    "collapsed": false,
    "deletable": true,
    "editable": true
   },
   "outputs": [
    {
     "data": {
      "text/plain": [
       "<matplotlib.collections.LineCollection at 0xc229cf8>"
      ]
     },
     "execution_count": 17,
     "metadata": {},
     "output_type": "execute_result"
    },
    {
     "data": {
      "image/png": "[encoded data removed]",
      "text/plain": [
       "<matplotlib.figure.Figure at 0xc2299e8>"
      ]
     },
     "metadata": {},
     "output_type": "display_data"
    }
   ],
   "source": [
    "plot(D[bbV].isi, D[bbV].v, 's',color='orange',);\n",
    "plot(D[bbA].isi, D[bbA].v, 'b^');\n",
    "vlines(ISI, 0, 1, color='gray',linestyles='dashed')\n",
    "#xscale('log');"
   ]
  },
  {
   "cell_type": "code",
   "execution_count": 18,
   "metadata": {
    "collapsed": false,
    "deletable": true,
    "editable": true
   },
   "outputs": [
    {
     "data": {
      "text/plain": [
       "(0.2, 0.5)"
      ]
     },
     "execution_count": 18,
     "metadata": {},
     "output_type": "execute_result"
    },
    {
     "data": {
      "image/png": "[encoded data removed]",
      "text/plain": [
       "<matplotlib.figure.Figure at 0xc2c0ba8>"
      ]
     },
     "metadata": {},
     "output_type": "display_data"
    }
   ],
   "source": [
    "for mod in ['v','a']:\n",
    "    color=mod=='v' and 'orange' or [0,.5,1]\n",
    "    marker=mod=='v' and 's' or '^'\n",
    "    bb=eval('bb'+mod.upper())\n",
    "    D1=D[bb]\n",
    "    \n",
    "    xx=log2(arange(1,10))\n",
    "    p=polyfit(D1.log2isi, D1.v,1)\n",
    "    yy=polyval(p,xx)\n",
    "\n",
    "    s='{} = {:.4f} log2(t) + {:.3f}'.format(mod, p[0],p[1])\n",
    "    plot(D1.log2isi, D1.v, lw=0, color=color, marker=marker, label=s)\n",
    "    plot(xx,yy,color=color,lw=2);\n",
    "\n",
    "\n",
    "vv=2**arange(4)\n",
    "xticks(log2(vv), vv)\n",
    "grid(True)\n",
    "legend();\n",
    "ylim([.2,.5])"
   ]
  },
  {
   "cell_type": "code",
   "execution_count": null,
   "metadata": {
    "collapsed": true,
    "deletable": true,
    "editable": true
   },
   "outputs": [],
   "source": []
  }
 ],
 "metadata": {
  "kernelspec": {
   "display_name": "Python 2",
   "language": "python",
   "name": "python3"
  },
  "language_info": {
   "codemirror_mode": {
    "name": "ipython",
    "version": 2
   },
   "file_extension": ".py",
   "mimetype": "text/x-python",
   "name": "python",
   "nbconvert_exporter": "python",
   "pygments_lexer": "ipython2",
   "version": "2.7.9"
  },
  "toc": {
   "colors": {
    "hover_highlight": "#DAA520",
    "running_highlight": "#FF0000",
    "selected_highlight": "#FFD700"
   },
   "moveMenuLeft": true,
   "nav_menu": {
    "height": "159px",
    "width": "252px"
   },
   "navigate_menu": true,
   "number_sections": false,
   "sideBar": true,
   "threshold": 4,
   "toc_cell": false,
   "toc_section_display": "block",
   "toc_window_display": false
  }
 },
 "nbformat": 4,
 "nbformat_minor": 0
}
