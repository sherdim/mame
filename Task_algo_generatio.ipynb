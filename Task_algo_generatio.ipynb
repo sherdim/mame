{
 "cells": [
  {
   "cell_type": "markdown",
   "metadata": {},
   "source": [
    "# Генерация значений, распределенных по нормальному закону"
   ]
  },
  {
   "cell_type": "code",
   "execution_count": 1,
   "metadata": {},
   "outputs": [
    {
     "name": "stdout",
     "output_type": "stream",
     "text": [
      "Populating the interactive namespace from numpy and matplotlib\n"
     ]
    }
   ],
   "source": [
    "%pylab inline\n",
    "from ipywidgets import interact, interact_manual"
   ]
  },
  {
   "cell_type": "code",
   "execution_count": 2,
   "metadata": {},
   "outputs": [
    {
     "data": {
      "text/plain": [
       "array([ -3.05757414e-01,  -3.23871808e-01,  -1.94463808e+00,\n",
       "         7.57462535e-01,  -5.62675341e-01,  -7.84823386e-01,\n",
       "        -8.87000485e-01,   1.62692346e+00,  -5.03749329e-01,\n",
       "        -2.49760657e+00,   6.48154488e-01,  -1.05386198e-01,\n",
       "         1.65988612e-01,  -1.04266055e+00,   7.20050846e-01,\n",
       "        -1.46937363e-01,  -3.71543086e-01,   6.04009557e-01,\n",
       "         2.75698584e-01,  -5.99886348e-02,  -1.74631451e+00,\n",
       "         1.78371053e+00,  -1.41183012e+00,   8.94474573e-01,\n",
       "         1.01727660e+00,  -1.38642056e-01,   7.66878139e-01,\n",
       "         1.02877004e+00,   1.23663100e+00,   7.55453822e-01,\n",
       "        -7.85804233e-01,  -2.64362312e+00,  -1.85159791e-01,\n",
       "        -1.52459004e-02,  -6.76705863e-01,   5.87999337e-01,\n",
       "        -7.06004562e-01,  -9.93382602e-01,   6.01181570e-01,\n",
       "        -4.85688130e-01,   2.29511192e+00,  -1.83289669e+00,\n",
       "        -5.30741843e-01,   1.59134490e+00,   2.54242407e-01,\n",
       "         2.04782346e+00,  -1.42710394e-01,  -1.41612394e+00,\n",
       "         1.38546035e+00,  -8.92906800e-01,  -1.64180984e-01,\n",
       "         3.05945222e-01,   1.01544390e+00,  -3.04802904e+00,\n",
       "         2.55281761e-01,   1.40298789e+00,   4.50991661e-01,\n",
       "         9.59996297e-01,  -1.29818954e+00,   3.66724476e-01,\n",
       "        -6.77540436e-01,   1.18300078e+00,   4.91879986e-01,\n",
       "         1.52048537e+00,  -1.64625586e+00,  -1.84947009e+00,\n",
       "         2.07136149e-01,   9.00917552e-02,  -1.50976720e+00,\n",
       "        -2.03885329e-01,  -1.30708591e+00,  -6.91193456e-01,\n",
       "        -1.66712419e-01,  -5.87656164e-01,   1.58474450e+00,\n",
       "         5.96558588e-01,  -1.72235343e+00,  -5.18935087e-01,\n",
       "        -2.60977979e+00,   9.82422229e-01,   5.71994067e-01,\n",
       "        -1.69205509e+00,   3.42909826e-01,  -5.91105211e-01,\n",
       "         4.91555354e-01,  -2.28653906e-02,   1.55078294e+00,\n",
       "         5.65709579e-01,   7.48293669e-01,   6.79115110e-01,\n",
       "         6.87429416e-01,  -6.71759050e-01,   2.99553273e-01,\n",
       "        -8.84221884e-01,  -4.76685238e-01,   2.33314646e+00,\n",
       "        -3.60082933e-01,  -5.98356221e-01,  -1.12390143e-01,\n",
       "        -2.07729064e-01,   1.80913582e-01,  -4.07826861e-01,\n",
       "        -2.69512398e-01,  -5.56075952e-01,  -1.10653231e+00,\n",
       "        -8.17673477e-01,   7.22389522e-01,   9.18493371e-01,\n",
       "        -1.50240088e+00,   6.29404669e-01,  -5.41534913e-01,\n",
       "        -1.37800441e+00,   2.12290544e-01,  -2.44420521e-01,\n",
       "         2.74929886e+00,   2.71535136e-01,   7.69801345e-01,\n",
       "         3.69844308e-01,   1.94245621e+00,   8.77751932e-01,\n",
       "        -1.19170630e-01,   2.91543800e-01,  -1.64562324e+00,\n",
       "         1.59521896e+00,  -2.13755718e+00,   1.13342908e+00,\n",
       "         4.28097885e-01,  -1.39419039e+00,   5.04269623e-01,\n",
       "         1.05452698e+00,   1.07519438e+00,  -7.87596242e-01,\n",
       "         1.53671832e+00,  -5.22984876e-01,   9.54068676e-01,\n",
       "        -1.20506684e+00,  -1.69514040e+00,  -5.54156428e-02,\n",
       "         7.71969484e-01,  -4.08927127e-01,   8.90671493e-02,\n",
       "        -5.15079656e-01,  -3.88321491e-01,  -5.66118282e-02,\n",
       "         5.80242902e-02,  -5.20146433e-01,   4.88906340e-01,\n",
       "         3.70032931e-01,  -2.20198391e-01,  -8.75159295e-02,\n",
       "         1.33107071e+00,   9.45430360e-01,  -8.66932426e-01,\n",
       "         1.27096042e+00,  -6.27362917e-01,  -5.86314821e-01,\n",
       "         1.81410729e-01,   8.40175344e-01,  -8.67270168e-01,\n",
       "        -4.30095073e-01,   5.85365663e-01,  -1.41536071e+00,\n",
       "         2.27804323e-01,   3.11250006e-01,   7.73990960e-01,\n",
       "         7.55309547e-01,   1.04610152e+00,   1.18196140e+00,\n",
       "         6.12431408e-01,  -5.45312883e-01,   5.67262709e-01,\n",
       "         4.56426463e-01,  -8.90846538e-01,   3.39535807e-01,\n",
       "         3.14611716e-01,   1.82932029e-01,   1.54405684e+00,\n",
       "        -1.69830637e+00,   2.04986703e-01,  -2.36691584e+00,\n",
       "        -2.35682214e-01,   1.00812335e+00,   4.74203174e-01,\n",
       "        -6.30541062e-01,  -5.92241238e-01,   7.31359386e-01,\n",
       "         5.81205594e-01,   7.15298311e-01,  -3.82298868e-01,\n",
       "         5.16477371e-01,   1.04443941e+00,   1.38520895e+00,\n",
       "        -1.18807492e+00,   6.72453977e-02,   4.64310664e-01,\n",
       "         2.22664237e+00,  -1.49636674e+00,   8.43862067e-01,\n",
       "        -1.21393623e-01,   3.25318081e-01,  -1.95409475e+00,\n",
       "         1.62992265e+00,  -5.17862006e-01,   1.88164967e+00,\n",
       "        -1.21305820e-01,   1.85266415e-01,  -4.43922996e-01,\n",
       "        -1.33182396e+00,  -9.42425675e-02,  -2.11732435e-01,\n",
       "        -1.11627919e+00,   6.22564745e-01,   1.06223464e-01,\n",
       "        -1.33591280e+00,  -3.83985925e-01,  -1.34467746e+00,\n",
       "        -7.58615991e-02,   1.30793907e+00,  -3.96427715e-01,\n",
       "        -1.42295521e+00,  -1.85660189e+00,   7.34244196e-01,\n",
       "        -2.26754984e-01,  -7.89565635e-01,  -7.17400129e-01,\n",
       "        -1.40640018e-01,   2.12624855e-01,  -3.39716779e-01,\n",
       "         2.43363898e+00,  -2.97129900e-01,   1.66794404e-01,\n",
       "         7.93539952e-01,  -6.62790040e-01,  -2.28578594e-01,\n",
       "         1.83612951e+00,  -1.10251069e+00,   1.39359239e-01,\n",
       "         7.73201049e-01,  -7.21846925e-01,   2.00018500e-01,\n",
       "         2.19590719e+00,   3.18389924e-01,   3.36879002e-01,\n",
       "        -7.83540739e-02,   1.33808909e+00,   4.58286971e-01,\n",
       "         4.80951706e-01,   3.44005626e-02,   2.62096033e-01,\n",
       "        -1.37967656e+00,   3.11568836e-01,   8.98486754e-01,\n",
       "        -4.80166687e-01,  -5.03027880e-01,  -5.97306679e-01,\n",
       "         1.14523663e+00,  -1.46154662e-01,  -1.63025777e-01,\n",
       "        -5.62559221e-01,  -1.04521226e+00,   1.18905966e+00,\n",
       "        -7.58820047e-01,  -1.33594610e+00,   5.54362671e-01,\n",
       "         1.03520681e+00,   8.84044836e-01,  -1.96047350e+00,\n",
       "         1.33113137e+00,  -5.23945397e-01,  -5.09055839e-01,\n",
       "         3.12949052e-01,  -7.55841962e-01,  -1.30681837e+00,\n",
       "         4.64770275e-01,   9.37718350e-01,   7.69619904e-02,\n",
       "         1.00768482e+00,   3.08541695e-01,  -2.36206920e+00,\n",
       "        -7.12020685e-01,  -7.15435244e-01,  -4.44157344e-01,\n",
       "        -2.41584700e+00,   3.54423416e-01,  -1.50960947e+00,\n",
       "         1.76400142e-01,  -3.32632966e-02,   1.26979846e+00,\n",
       "        -1.49616380e+00,  -8.10766111e-01,   1.18678545e+00,\n",
       "        -3.97326747e-01,  -5.50081703e-01,  -2.84127898e-01,\n",
       "        -1.51859505e+00,   1.09562518e+00,  -1.60302302e+00,\n",
       "        -2.53548658e-02,  -5.99855537e-01,  -4.72787452e-01,\n",
       "         1.80295405e+00,   1.34705359e+00,  -8.47146959e-02,\n",
       "         3.96113786e-01,  -3.51428004e-02,  -1.35954231e-01,\n",
       "        -1.16674126e+00,   3.03090576e-01,  -9.34323111e-01,\n",
       "        -1.35315839e+00,  -1.51368564e-01,   9.18339452e-01,\n",
       "        -2.32101456e-01,   9.56590549e-02,  -1.02929299e-01,\n",
       "        -7.21049601e-01,  -1.54962023e-01,   1.41861250e-01,\n",
       "         3.96328325e-01,   3.41388729e+00,  -1.09352236e+00,\n",
       "        -5.59315190e-01,   5.48394151e-01,  -5.37654669e-01,\n",
       "         1.21188757e+00,  -7.28153899e-01,   1.03489278e+00,\n",
       "        -4.23477482e-01,   3.58656044e-01,  -1.74143728e+00,\n",
       "         3.39384659e-01,  -1.63005728e+00,   3.90286419e-02,\n",
       "        -6.30281177e-01,   4.85031289e-01,   6.11084466e-02,\n",
       "         3.13838570e-01,  -2.16707598e-01,   1.08579188e+00,\n",
       "         8.05002773e-01,   7.67686505e-01,  -3.67917730e-02,\n",
       "         2.18466691e+00,   2.27776579e-01,   3.02249416e-01,\n",
       "         1.40886524e-03,  -6.93632851e-04,   1.27813981e+00,\n",
       "        -9.26687362e-01,  -1.00202316e+00,  -9.43642565e-01,\n",
       "         2.16106938e+00,   2.30603518e+00,  -6.98278102e-01,\n",
       "         2.26626202e-01,  -4.71523262e-01,  -1.28069212e+00,\n",
       "        -4.91080715e-01,  -1.29339868e+00,   7.05516738e-01,\n",
       "        -5.33011831e-01,  -5.65605523e-01,   1.24881312e+00,\n",
       "        -1.10939810e-01,   7.34108997e-01,  -3.44686224e-01,\n",
       "         1.10401257e+00,  -5.12309866e-01,  -8.27988666e-01,\n",
       "        -1.54589736e+00,   4.45378559e-01,   1.38630591e+00,\n",
       "        -3.48205874e-01,  -1.23476273e+00,   1.80438801e+00,\n",
       "        -1.80924485e+00,   8.90985221e-01,   4.87589961e-01,\n",
       "         5.65950379e-01,   3.12841713e-02,   8.82506373e-01,\n",
       "         1.34697691e+00,  -1.52352499e-01,   2.86781684e-01,\n",
       "         1.33218950e-01,  -1.75847813e+00,   3.60337874e-01,\n",
       "         2.92522763e-01,  -4.03425608e-02,  -1.60139889e-02,\n",
       "         7.70805616e-01,   2.72759554e-01,   1.62085948e-02,\n",
       "        -7.83391229e-02,   2.15297974e-01,   4.69289637e-01,\n",
       "        -1.80285063e+00,   7.87126414e-01,  -5.03736496e-01,\n",
       "        -7.37788559e-01])"
      ]
     },
     "execution_count": 2,
     "metadata": {},
     "output_type": "execute_result"
    }
   ],
   "source": [
    "# seed(777)\n",
    "x=normal(size=400)\n",
    "\n",
    "x"
   ]
  },
  {
   "cell_type": "code",
   "execution_count": 3,
   "metadata": {},
   "outputs": [
    {
     "data": {
      "image/png": "[encoded data removed]",
      "text/plain": [
       "<matplotlib.figure.Figure at 0x6f5e9b0>"
      ]
     },
     "metadata": {},
     "output_type": "display_data"
    }
   ],
   "source": [
    "plot(x,'o');"
   ]
  },
  {
   "cell_type": "markdown",
   "metadata": {},
   "source": [
    "Случайная выборка представляет собой массив положительных и отрицательных чисел в диапазоне от -3 до 3."
   ]
  },
  {
   "cell_type": "code",
   "execution_count": 4,
   "metadata": {},
   "outputs": [
    {
     "data": {
      "image/png": "[encoded data removed]",
      "text/plain": [
       "<matplotlib.figure.Figure at 0x6f5ea58>"
      ]
     },
     "metadata": {},
     "output_type": "display_data"
    }
   ],
   "source": [
    "hist(x);"
   ]
  },
  {
   "cell_type": "markdown",
   "metadata": {},
   "source": [
    "У нормального распределения можно задать два параметра - `loc` (локализацию) и `scale` (шкалу, размах). Локализация сдвигает центр распределения туда, где ожидается среднее значение. Шкала задает размер ожидаемого стандартного отклонения.\n",
    "\n",
    "По-умолчанию `loc=0.0, scale=1.0`, что дает стандартное нормальное распределение.\n",
    "\n",
    "Если при z-нормализации мы отнимаем среднее и делим на стандартное отклонение, то при генерации распределения с заданными параметрами мы прибавляем среднее (задаем `loc`) и умножаем на стандартное отклонение (задаем `scale`).\n",
    "\n",
    "Например, возьмем выборку и посчитаем ее среднее и стандартное отклонение."
   ]
  },
  {
   "cell_type": "code",
   "execution_count": 5,
   "metadata": {},
   "outputs": [
    {
     "data": {
      "image/png": "[encoded data removed]",
      "text/plain": [
       "<matplotlib.figure.Figure at 0x79fe9e8>"
      ]
     },
     "metadata": {},
     "output_type": "display_data"
    }
   ],
   "source": [
    "lps=loadtxt('lps')\n",
    "vv=lps[:,1]\n",
    "hist(vv, normed=True, label='данные')\n",
    "#найдем характеристики распределения (предположительно нормального)\n",
    "M=mean(vv); S=std(vv);\n",
    "xx=frange(0,1,0.01) #подробные значения абсцисс для гладкой кривой\n",
    "yy=normpdf(xx, M,S)\n",
    "plot(xx,yy,'r-', label='модель'); legend(); xlabel('ВР, с'); ylabel('%');\n",
    "title('среднее = {:.3f}, стандартное отклонение = {:.3f}'.format(M,S));"
   ]
  },
  {
   "cell_type": "markdown",
   "metadata": {},
   "source": [
    "Наилучшим предсказанием, каким будет следующее значение из этой выборки, является среднее значение (математики говорят: *математическое ожидание*). Однако если нужно предсказать несколько значений (т.е. сгенерить выборку значений, похожих на эмпирические) и все они будут равны среднему, то один параметр мы повторим (среднее будет такое же), а другой нет (стандартное отклонение будет равно 0). Статистическая модель должна давать выборку похожую по всем параметрам на исходную выборку значений."
   ]
  },
  {
   "cell_type": "code",
   "execution_count": 6,
   "metadata": {},
   "outputs": [
    {
     "data": {
      "image/png": "[encoded data removed]",
      "text/plain": [
       "<matplotlib.figure.Figure at 0x79ec2e8>"
      ]
     },
     "metadata": {},
     "output_type": "display_data"
    }
   ],
   "source": [
    "xm = normal(M,S, 40)\n",
    "hist(xm); xlim(0,1)\n",
    "xlabel('ВР, с'); ylabel('%');\n",
    "title('среднее = {:.3f}, стандартное отклонение = {:.3f}'.format(mean(xm),std(xm)));"
   ]
  },
  {
   "cell_type": "markdown",
   "metadata": {},
   "source": [
    "Повторите выполнение предыдущей ячейки несколько раз и обратите внимание, что параметры созданного выборочного распределения отличаются от заданных в модели. Они похожи, но отличаются. Т.е. варьируют в некоторых пределах.\n",
    "Такое повторное многократное создание случайных выборок для одной и тоже модели и последующая оценка вариации параметров этих выборок лежит в основе идеи о доверительном интервале."
   ]
  },
  {
   "cell_type": "markdown",
   "metadata": {},
   "source": [
    "Также можно сгенерить выборки для других важных статистических распределений.\n",
    "- random.standard_t - t Стьюдента\n",
    "- random.chisquare - $\\chi ^2$ (хи-квадрат)\n",
    "- random.exponential - экcпоненциальное\n",
    "- random.binomial - биномиальное\n",
    "- random.poisson - Пуассона\n",
    "\n",
    "См. [Полный список в документации](https://docs.scipy.org/doc/numpy-1.12.0/reference/routines.random.html#distributions)\n",
    "\n",
    "Функции для генерации входят в модуль `random`, поэтому полный путь к ним будет, например, таким: `np.random.normal()`. Однако при использовании команды `%pylab` они становятся доступны без преамбулы. Чтобы убедиться, что переменные ссылаются на один и тот же объект используется оператор `is`."
   ]
  },
  {
   "cell_type": "code",
   "execution_count": 7,
   "metadata": {},
   "outputs": [
    {
     "data": {
      "text/plain": [
       "True"
      ]
     },
     "execution_count": 7,
     "metadata": {},
     "output_type": "execute_result"
    }
   ],
   "source": [
    "np.random.exponential is exponential"
   ]
  },
  {
   "cell_type": "code",
   "execution_count": 8,
   "metadata": {},
   "outputs": [
    {
     "data": {
      "text/plain": [
       "True"
      ]
     },
     "execution_count": 8,
     "metadata": {},
     "output_type": "execute_result"
    }
   ],
   "source": [
    "random.exponential is exponential"
   ]
  },
  {
   "cell_type": "code",
   "execution_count": 10,
   "metadata": {},
   "outputs": [
    {
     "data": {
      "text/plain": [
       "(array([ 1.,  0.,  1.,  1.,  0.,  5.,  3.,  5.,  1.,  3.]),\n",
       " array([  9. ,   9.8,  10.6,  11.4,  12.2,  13. ,  13.8,  14.6,  15.4,\n",
       "         16.2,  17. ]),\n",
       " <a list of 10 Patch objects>)"
      ]
     },
     "execution_count": 10,
     "metadata": {},
     "output_type": "execute_result"
    },
    {
     "data": {
      "image/png": "[encoded data removed]",
      "text/plain": [
       "<matplotlib.figure.Figure at 0x9ae7240>"
      ]
     },
     "metadata": {},
     "output_type": "display_data"
    }
   ],
   "source": [
    "seed(777)\n",
    "hist(binomial( 20, 0.7, size=20))"
   ]
  },
  {
   "cell_type": "markdown",
   "metadata": {},
   "source": [
    "Попробуйте сгенерить выборки для всех упомянутых видов распределений. Для некоторых из них необходимо указать параметры (см. справку). При этом обратите внимание на то, как параметры влияют на форму гистограммы."
   ]
  },
  {
   "cell_type": "markdown",
   "metadata": {},
   "source": [
    "Напоследок, давайте экспериментально убедимся, что распределение Стьюдента при повышении степеней свободы переходит в нормальное.\n",
    "\n",
    "Сравним генерацию выборок с моделями, вычисленными по формулам. Функции для работы со статистическими моделями доступны в модуле `scipy.stats`. Для каждого распределения можно получить моменты, PDF (Probability density function, плотность распределения), CDF (Cumulative distribution function), PPF (Percent point function) и др. производные от них функции."
   ]
  },
  {
   "cell_type": "code",
   "execution_count": null,
   "metadata": {
    "collapsed": true
   },
   "outputs": [],
   "source": [
    "import scipy.stats as stats"
   ]
  },
  {
   "cell_type": "code",
   "execution_count": null,
   "metadata": {},
   "outputs": [],
   "source": [
    "xx=linspace(-5,5, 100)\n",
    "mpl.rcParams['font.family']='DejaVu Sans'\n",
    "\n",
    "@interact(order=(1,6), df=(3,50), iseed=(0,1000))\n",
    "def _pic(order=2, df=3, iseed=None):\n",
    "         \n",
    "    n = 10**order\n",
    "    seed(iseed)\n",
    "\n",
    "    fig, (ax1,ax2) = subplots(1,2, figsize=(12,5))\n",
    "\n",
    "    ax1.hist(standard_normal(n), xx, alpha=0.8, color='g', histtype='step', label='normal');\n",
    "    ax1.hist(standard_t(df, n), xx, alpha=0.8, color='r', histtype='step', label='t(df={})'.format(df));\n",
    "    ax1.legend();\n",
    "    ax1.set_title('Выборки по {} значений'.format(n))\n",
    "\n",
    "    ax2.plot(xx, stats.norm.pdf(xx), 'g-', lw=2, alpha=0.8, label='normal')\n",
    "    ax2.plot(xx, stats.t.pdf(xx, df), 'r-', lw=2, alpha=0.8, label='t(df={})'.format(df))\n",
    "    legend();\n",
    "    title('Теоретические распределения (PDF)')\n"
   ]
  },
  {
   "cell_type": "markdown",
   "metadata": {},
   "source": [
    "Определите, \n",
    "- при каком значении степени свободы (df) распределения перестают отличаться;\n",
    "- при каких размерах выборки экспериментальные данные начинают соответствовать теоретическим.\n"
   ]
  }
 ],
 "metadata": {
  "kernelspec": {
   "display_name": "Python 2",
   "language": "python",
   "name": "python2"
  },
  "language_info": {
   "codemirror_mode": {
    "name": "ipython",
    "version": 2
   },
   "file_extension": ".py",
   "mimetype": "text/x-python",
   "name": "python",
   "nbconvert_exporter": "python",
   "pygments_lexer": "ipython2",
   "version": "2.7.9"
  },
  "toc": {
   "colors": {
    "hover_highlight": "#DAA520",
    "running_highlight": "#FF0000",
    "selected_highlight": "#FFD700"
   },
   "moveMenuLeft": true,
   "nav_menu": {
    "height": "48px",
    "width": "252px"
   },
   "navigate_menu": true,
   "number_sections": false,
   "sideBar": true,
   "threshold": 4,
   "toc_cell": false,
   "toc_section_display": "block",
   "toc_window_display": false
  }
 },
 "nbformat": 4,
 "nbformat_minor": 1
}
