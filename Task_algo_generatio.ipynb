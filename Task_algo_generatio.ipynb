{
 "cells": [
  {
   "cell_type": "markdown",
   "metadata": {},
   "source": [
    "# Генерация случайных выборок"
   ]
  },
  {
   "cell_type": "code",
   "execution_count": null,
   "metadata": {},
   "outputs": [],
   "source": [
    "%pylab inline\n",
    "import scipy.stats as stats\n",
    "from ipywidgets import interact"
   ]
  },
  {
   "cell_type": "code",
   "execution_count": null,
   "metadata": {},
   "outputs": [],
   "source": [
    "x = normal(size=40)\n",
    "x"
   ]
  },
  {
   "cell_type": "code",
   "execution_count": null,
   "metadata": {},
   "outputs": [],
   "source": [
    "plot(x, 'o');"
   ]
  },
  {
   "cell_type": "markdown",
   "metadata": {},
   "source": [
    "> Объедините две ячейки, чтобы сразу отображать массив сгенерированных точек на рисунке. \n",
    "Нажатием Ctrl-Enter выполните код несколько раз, чтобы убедиться, что наборы каждый раз генерятся по новому.\n",
    "Увеличьте размер выборки (например, 400, 4000)."
   ]
  },
  {
   "cell_type": "markdown",
   "metadata": {},
   "source": [
    "Случайная выборка представляет собой массив положительных и отрицательных чисел в диапазоне от -3 до 3."
   ]
  },
  {
   "cell_type": "code",
   "execution_count": null,
   "metadata": {},
   "outputs": [],
   "source": [
    "hist(x);"
   ]
  },
  {
   "cell_type": "markdown",
   "metadata": {},
   "source": [
    "У нормального распределения можно задать два параметра - `loc` (локализацию) и `scale` (шкалу, размах). Локализация сдвигает центр распределения туда, где ожидается среднее значение. Шкала задает размер ожидаемого стандартного отклонения.\n",
    "\n",
    "По-умолчанию `loc=0.0, scale=1.0`, что дает стандартное нормальное распределение.\n",
    "\n",
    "Если при z-нормализации мы отнимаем среднее и делим на стандартное отклонение, то при генерации распределения с заданными параметрами мы прибавляем среднее (задаем `loc`) и умножаем на стандартное отклонение (задаем `scale`)."
   ]
  },
  {
   "cell_type": "markdown",
   "metadata": {},
   "source": [
    "Попробуем сгенерить выборку с заданными параметрами и посчитаем ее среднее и стандартное отклонение."
   ]
  },
  {
   "cell_type": "code",
   "execution_count": null,
   "metadata": {},
   "outputs": [],
   "source": [
    "x = normal(loc=50, scale=10, size=30)\n",
    "hist(x, density=True, label='выборка')\n",
    "\n",
    "M=mean(x); S=std(x);\n",
    "xx = arange(M-4*S, M+4*S, 0.01) #подробные значения абсцисс для гладкой кривой\n",
    "yy = stats.norm.pdf(xx, M,S)\n",
    "plot(xx, yy, 'r-', label='модель'); legend(); xlabel('у.е.');\n",
    "title(f'среднее = {M:.3f}, стандартное отклонение = {S:.3f}');"
   ]
  },
  {
   "cell_type": "markdown",
   "metadata": {},
   "source": [
    "Повторите выполнение предыдущей ячейки несколько раз и обратите внимание, что параметры созданного выборочного распределения отличаются от заданных в модели. Они похожи, но отличаются. Т.е. варьируют в некоторых пределах.\n",
    "Такое повторное многократное создание случайных выборок для одной и тоже модели и последующая оценка вариации параметров этих выборок лежит в основе идеи о доверительном интервале."
   ]
  },
  {
   "cell_type": "code",
   "execution_count": null,
   "metadata": {},
   "outputs": [],
   "source": [
    "M + array([-1,1])*S/(30**.5)"
   ]
  },
  {
   "cell_type": "markdown",
   "metadata": {},
   "source": [
    "Наилучшим предсказанием, каким будет следующее значение случайной величины, является *математическое ожидание* - оно равно среднему значению.\n",
    "Однако если нужно предсказать несколько значений (т.е. сгенерить выборку значений, похожих на эмпирические) и все они будут равны среднему, то один параметр мы повторим (среднее будет такое же), а другой нет (стандартное отклонение будет равно 0). Статистическая модель должна давать выборки похожие по всем параметрам на исходную выборку значений.\n",
    "Поэтому для нормальной модели мы всегда оцениваем оба параметра: среднее и стандартное отклонение."
   ]
  },
  {
   "cell_type": "markdown",
   "metadata": {},
   "source": [
    "Также можно сгенерить выборки для других важных статистических распределений.\n",
    "- np.random.standard_t - $t$ Стьюдента\n",
    "- np.random.chisquare - $\\chi ^2$ (хи-квадрат)\n",
    "- np.random.exponential - экcпоненциальное\n",
    "- np.random.binomial - биномиальное\n",
    "- np.random.poisson - Пуассона\n",
    "\n",
    "См. [Полный список в документации](https://numpy.org/doc/stable/reference/random/legacy.html#distributions)\n",
    "\n",
    "Функции для генерации входят в модуль `random` пакета `numpy`, поэтому полный путь к ним будет, например, таким: `np.random.normal()`. Однако при использовании команды `%pylab` они становятся доступны без преамбулы. Чтобы убедиться, что переменные ссылаются на один и тот же объект используют оператор `is`."
   ]
  },
  {
   "cell_type": "code",
   "execution_count": null,
   "metadata": {},
   "outputs": [],
   "source": [
    "np.random.exponential is exponential"
   ]
  },
  {
   "cell_type": "markdown",
   "metadata": {},
   "source": [
    "> Попробуйте сгенерить выборки для всех упомянутых видов распределений. Для некоторых из них необходимо указать параметры (см. справку). При этом обратите внимание на то, как параметры влияют на форму гистограммы."
   ]
  },
  {
   "cell_type": "code",
   "execution_count": null,
   "metadata": {},
   "outputs": [],
   "source": [
    "hist(binomial( 20, 0.7, size=20 ))"
   ]
  },
  {
   "cell_type": "markdown",
   "metadata": {},
   "source": [
    "Напоследок, давайте экспериментально убедимся, что распределение Стьюдента при повышении степеней свободы переходит в нормальное.\n",
    "\n",
    "Сравним генерацию выборок с моделями, вычисленными по формулам. Функции для работы со статистическими моделями доступны в модуле `scipy.stats`. Для каждого распределения можно получить моменты, PDF (Probability density function, плотность распределения), CDF (Cumulative distribution function), PPF (Percent point function) и др. производные от них функции."
   ]
  },
  {
   "cell_type": "code",
   "execution_count": null,
   "metadata": {},
   "outputs": [],
   "source": [
    "xx=linspace(-5,5, 100)\n",
    "\n",
    "@interact(order=(1,6), df=(3,50), iseed=(0,1000))\n",
    "def _pic(order=2, df=3, iseed=None):\n",
    "         \n",
    "    n = 10**order\n",
    "    seed(iseed)\n",
    "\n",
    "    fig, (ax1,ax2) = subplots(1,2, figsize=(12,5))\n",
    "\n",
    "    ax1.hist(standard_normal(n), xx, alpha=0.8, color='g', histtype='step', label='normal');\n",
    "    ax1.hist(standard_t(df, n), xx, alpha=0.8, color='r', histtype='step', label='t(df={})'.format(df));\n",
    "    ax1.legend();\n",
    "    ax1.set_title('Выборки по {} значений'.format(n))\n",
    "\n",
    "    ax2.plot(xx, stats.norm.pdf(xx), 'g-', lw=2, alpha=0.8, label='normal')\n",
    "    ax2.plot(xx, stats.t.pdf(xx, df), 'r--', lw=2, alpha=0.8, label='t(df={})'.format(df))\n",
    "    legend();\n",
    "    title('Теоретические распределения (PDF)')\n"
   ]
  },
  {
   "cell_type": "markdown",
   "metadata": {},
   "source": [
    "> Определите, при каком значении степени свободы (df) распределения перестают отличаться;\n",
    "\n",
    "> Определите, при каких размерах выборки экспериментальные данные начинают соответствовать теоретическим.\n"
   ]
  }
 ],
 "metadata": {
  "kernelspec": {
   "display_name": "Python 3",
   "language": "python",
   "name": "python3"
  },
  "language_info": {
   "codemirror_mode": {
    "name": "ipython",
    "version": 3
   },
   "file_extension": ".py",
   "mimetype": "text/x-python",
   "name": "python",
   "nbconvert_exporter": "python",
   "pygments_lexer": "ipython3",
   "version": "3.9.0rc1"
  },
  "toc": {
   "base_numbering": 1,
   "nav_menu": {
    "height": "48px",
    "width": "252px"
   },
   "number_sections": false,
   "sideBar": true,
   "skip_h1_title": false,
   "title_cell": "Table of Contents",
   "title_sidebar": "Contents",
   "toc_cell": false,
   "toc_position": {},
   "toc_section_display": "block",
   "toc_window_display": false
  }
 },
 "nbformat": 4,
 "nbformat_minor": 4
}
