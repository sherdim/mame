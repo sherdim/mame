{
 "cells": [
  {
   "cell_type": "markdown",
   "metadata": {
    "deletable": true,
    "editable": true
   },
   "source": [
    "# Генерация значений, распределенных по нормальному закону"
   ]
  },
  {
   "cell_type": "code",
   "execution_count": null,
   "metadata": {
    "collapsed": false,
    "deletable": true,
    "editable": true
   },
   "outputs": [],
   "source": [
    "%pylab inline\n",
    "from ipywidgets import interact, interact_manual"
   ]
  },
  {
   "cell_type": "code",
   "execution_count": null,
   "metadata": {
    "collapsed": false,
    "deletable": true,
    "editable": true
   },
   "outputs": [],
   "source": [
    "# seed(777)\n",
    "x=normal(size=400)\n",
    "\n",
    "x"
   ]
  },
  {
   "cell_type": "code",
   "execution_count": null,
   "metadata": {
    "collapsed": false,
    "deletable": true,
    "editable": true
   },
   "outputs": [],
   "source": [
    "plot(x,'o');"
   ]
  },
  {
   "cell_type": "markdown",
   "metadata": {},
   "source": [
    "Случайная выборка представляет собой массив положительных и отрицательных чисел в диапазоне от -3 до 3."
   ]
  },
  {
   "cell_type": "code",
   "execution_count": null,
   "metadata": {
    "collapsed": false,
    "deletable": true,
    "editable": true
   },
   "outputs": [],
   "source": [
    "hist(x);"
   ]
  },
  {
   "cell_type": "markdown",
   "metadata": {
    "deletable": true,
    "editable": true
   },
   "source": [
    "У нормального распределения можно задать два параметра - `loc` (локализацию) и `scale` (шкалу, размах). Локализация сдвигает центр распределения туда, где ожидается среднее значение. Шкала задает размер ожидаемого стандартного отклонения.\n",
    "\n",
    "По-умолчанию `loc=0.0, scale=1.0`, что дает стандартное нормальное распределение.\n",
    "\n",
    "Если при z-нормализации мы отнимаем среднее и делим на стандартное отклонение, то при генерации распределения с заданными параметрами мы прибавляем среднее (задаем `loc`) и умножаем на стандартное отклонение (задаем `scale`).\n",
    "\n",
    "Например, возьмем выборку и посчитаем ее среднее и стандартное отклонение."
   ]
  },
  {
   "cell_type": "code",
   "execution_count": null,
   "metadata": {
    "collapsed": false,
    "deletable": true,
    "editable": true
   },
   "outputs": [],
   "source": [
    "lps=loadtxt('lps')\n",
    "vv=lps[:,1]\n",
    "hist(vv, normed=True, label='данные')\n",
    "#найдем характеристики распределения (предположительно нормального)\n",
    "M=mean(vv); S=std(vv);\n",
    "xx=frange(0,1,0.01) #подробные значения абсцисс для гладкой кривой\n",
    "yy=normpdf(xx, M,S)\n",
    "plot(xx,yy,'r-', label='модель'); legend(); xlabel('ВР, с'); ylabel('%');\n",
    "title('среднее = {:.3f}, стандартное отклонение = {:.3f}'.format(M,S));"
   ]
  },
  {
   "cell_type": "markdown",
   "metadata": {
    "deletable": true,
    "editable": true
   },
   "source": [
    "Наилучшим предсказанием, каким будет следующее значение из этой выборки, является среднее значение (математики говорят: *математическое ожидание*). Однако если нужно предсказать несколько значений (т.е. сгенерить выборку значений, похожих на эмпирические) и все они будут равны среднему, то один параметр мы повторим (среднее будет такое же), а другой нет (стандартное отклонение будет равно 0). Статистическая модель должна давать выборку похожую по всем параметрам на исходную выборку значений."
   ]
  },
  {
   "cell_type": "code",
   "execution_count": null,
   "metadata": {
    "collapsed": false,
    "deletable": true,
    "editable": true
   },
   "outputs": [],
   "source": [
    "xm = normal(M,S, 40)\n",
    "hist(xm); xlim(0,1)\n",
    "title('среднее = {:.3f}, стандартное отклонение = {:.3f}'.format(mean(xm),std(xm)));"
   ]
  },
  {
   "cell_type": "markdown",
   "metadata": {
    "deletable": true,
    "editable": true
   },
   "source": [
    "Повторите выполнение предыдущей ячейки несколько раз и обратите внимание, что параметры созданного выборочного распределения отличаются от заданных в модели. Они похожи, но отличаются. Т.е. варьируют в некоторых пределах.\n",
    "Такое повторное многократное создание случайных выборок для одной и тоже модели и последующая оценка вариации параметров этих выборок лежит в основе идеи о доверительном интервале."
   ]
  },
  {
   "cell_type": "markdown",
   "metadata": {
    "deletable": true,
    "editable": true
   },
   "source": [
    "Также можно сгенерить выборки для других важных статистических распределений.\n",
    "- random.standard_t - t Стьюдента\n",
    "- random.chisquare - $\\chi ^2$ (хи-квадрат)\n",
    "- random.exponential - экcпоненциальное\n",
    "- random.binomial - биномиальное\n",
    "- random.poisson - Пуассона\n",
    "\n",
    "См. [Полный список в документации](https://docs.scipy.org/doc/numpy-1.12.0/reference/routines.random.html#distributions)\n",
    "\n",
    "Функции для генерации входят в модуль `random`, поэтому полный путь к ним будет, например, таким: `np.random.normal()`. Однако при использовании команды `%pylab` они становятся доступны без преамбулы. Чтобы убедиться, что переменные ссылаются на один и тот же объект используется оператор `is`."
   ]
  },
  {
   "cell_type": "code",
   "execution_count": null,
   "metadata": {
    "collapsed": false,
    "deletable": true,
    "editable": true
   },
   "outputs": [],
   "source": [
    "np.random.exponential is exponential"
   ]
  },
  {
   "cell_type": "code",
   "execution_count": null,
   "metadata": {
    "collapsed": false,
    "deletable": true,
    "editable": true
   },
   "outputs": [],
   "source": [
    "random.exponential is exponential"
   ]
  },
  {
   "cell_type": "code",
   "execution_count": null,
   "metadata": {
    "collapsed": false,
    "deletable": true,
    "editable": true
   },
   "outputs": [],
   "source": [
    "seed(777)\n",
    "hist(binomial( 3, 0.25, size=100))"
   ]
  },
  {
   "cell_type": "markdown",
   "metadata": {},
   "source": [
    "Попробуйте сгенерить выборки для всех упомянутых видов распределений. Для некоторых из них необходимо указать параметры (см. справку). При этом обратите внимание на то, как параметры влияют на форму гистограммы."
   ]
  },
  {
   "cell_type": "markdown",
   "metadata": {
    "deletable": true,
    "editable": true
   },
   "source": [
    "Напоследок, давайте экспериментально убедимся, что распределение Стьюдента при повышении степеней свободы переходит в нормальное.\n",
    "\n",
    "Сравним генерацию выборок с моделями, вычисленными по формулам. Функции для работы со статистическими моделями доступны в модуле `scipy.stats`. Для каждого распределения можно получить моменты, PDF (Probability density function, плотность распределения), CDF (Cumulative distribution function), PPF (Percent point function) и др. производные от них функции."
   ]
  },
  {
   "cell_type": "code",
   "execution_count": null,
   "metadata": {
    "collapsed": true,
    "deletable": true,
    "editable": true
   },
   "outputs": [],
   "source": [
    "import scipy.stats as stats"
   ]
  },
  {
   "cell_type": "code",
   "execution_count": null,
   "metadata": {
    "collapsed": false,
    "deletable": true,
    "editable": true
   },
   "outputs": [],
   "source": [
    "xx=linspace(-5,5, 100)\n",
    "\n",
    "@interact(order=(1,6), df=(3,50), iseed=(0,1000))\n",
    "def _pic(order=2, df=3, iseed=None):\n",
    "         \n",
    "    n = 10**order\n",
    "    seed(iseed)\n",
    "\n",
    "    fig, (ax1,ax2) = subplots(1,2, figsize=(12,5))\n",
    "\n",
    "    ax1.hist(standard_normal(n), xx, alpha=0.8, color='g', histtype='step', label='normal');\n",
    "    ax1.hist(standard_t(df, n), xx, alpha=0.8, color='r', histtype='step', label='t(df={})'.format(df));\n",
    "    ax1.legend();\n",
    "    ax1.set_title('Выборки по {} значений'.format(n))\n",
    "\n",
    "    ax2.plot(xx, stats.norm.pdf(xx), 'g-', lw=2, alpha=0.8, label='normal')\n",
    "    ax2.plot(xx, stats.t.pdf(xx, df), 'r-', lw=2, alpha=0.8, label='t(df={})'.format(df))\n",
    "    legend();\n",
    "    title('Теоретические распределения (PDF)')\n"
   ]
  },
  {
   "cell_type": "markdown",
   "metadata": {
    "deletable": true,
    "editable": true
   },
   "source": [
    "Определите, \n",
    "- при каком значении степени свободы (df) распределения перестают отличаться;\n",
    "- при каких размерах выборки экспериментальные данные начинают соответствовать теоретическим.\n"
   ]
  }
 ],
 "metadata": {
  "kernelspec": {
   "display_name": "Python 2",
   "language": "python",
   "name": "python3"
  },
  "language_info": {
   "codemirror_mode": {
    "name": "ipython",
    "version": 2
   },
   "file_extension": ".py",
   "mimetype": "text/x-python",
   "name": "python",
   "nbconvert_exporter": "python",
   "pygments_lexer": "ipython2",
   "version": "2.7.9"
  },
  "toc": {
   "colors": {
    "hover_highlight": "#DAA520",
    "running_highlight": "#FF0000",
    "selected_highlight": "#FFD700"
   },
   "moveMenuLeft": true,
   "nav_menu": {
    "height": "48px",
    "width": "252px"
   },
   "navigate_menu": true,
   "number_sections": false,
   "sideBar": true,
   "threshold": 4,
   "toc_cell": false,
   "toc_section_display": "block",
   "toc_window_display": false
  }
 },
 "nbformat": 4,
 "nbformat_minor": 0
}
