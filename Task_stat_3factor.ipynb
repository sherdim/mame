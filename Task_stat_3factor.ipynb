{
 "cells": [
  {
   "cell_type": "markdown",
   "metadata": {
    "deletable": true,
    "editable": true
   },
   "source": [
    "## Многофакторная модель времени реакции в тесте на внимание"
   ]
  },
  {
   "cell_type": "code",
   "execution_count": 1,
   "metadata": {
    "collapsed": false,
    "deletable": true,
    "editable": true
   },
   "outputs": [
    {
     "name": "stdout",
     "output_type": "stream",
     "text": [
      "Populating the interactive namespace from numpy and matplotlib\n"
     ]
    }
   ],
   "source": [
    "%pylab inline\n",
    "import pandas as pd\n",
    "import seaborn as sns\n",
    "import statsmodels"
   ]
  },
  {
   "cell_type": "markdown",
   "metadata": {
    "deletable": true,
    "editable": true
   },
   "source": [
    "Одним отважным зоологом, любящим ос настолько, что позволяет им жалить себя, тест \"Баланс внимания\" был повторен в [следующих условиях](http://balatte.stireac.com/result/anarchist123@rambler.ru):\n",
    "- [в норме](http://balatte.stireac.com/result/anarchist123%40rambler.ru/213.138.81.168__0201351930130528)\n",
    "- [5 минут после укуса](http://balatte.stireac.com/result/anarchist123%40rambler.ru/213.138.81.168__1249300420130528)\n",
    "- [полчаса после укуса](http://balatte.stireac.com/result/anarchist123%40rambler.ru/213.138.81.168__2227196800130528)\n",
    "- [два часа после укуса](http://balatte.stireac.com/result/anarchist123%40rambler.ru/213.138.81.168__2254147640130528)\n",
    "\n",
    "Тест был проведен лишь однажды, поэтому говорить о научной новизне полученных результатов не приходится. Однако для демонстрации статистического анализа данные прекрасно подходят.\n"
   ]
  },
  {
   "cell_type": "code",
   "execution_count": 2,
   "metadata": {
    "collapsed": false,
    "deletable": true,
    "editable": true
   },
   "outputs": [
    {
     "data": {
      "text/html": [
       "<div>\n",
       "<table border=\"1\" class=\"dataframe\">\n",
       "  <thead>\n",
       "    <tr style=\"text-align: right;\">\n",
       "      <th></th>\n",
       "      <th>conditio</th>\n",
       "      <th>kv</th>\n",
       "      <th>ka</th>\n",
       "      <th>bv</th>\n",
       "      <th>ba</th>\n",
       "      <th>n</th>\n",
       "      <th>t</th>\n",
       "    </tr>\n",
       "  </thead>\n",
       "  <tbody>\n",
       "    <tr>\n",
       "      <th>0</th>\n",
       "      <td></td>\n",
       "      <td>0.009942</td>\n",
       "      <td>0.006134</td>\n",
       "      <td>0.326625</td>\n",
       "      <td>0.361183</td>\n",
       "      <td>48</td>\n",
       "      <td>2013-03-16 08:43</td>\n",
       "    </tr>\n",
       "    <tr>\n",
       "      <th>1</th>\n",
       "      <td>внимание в норме</td>\n",
       "      <td>0.033121</td>\n",
       "      <td>0.015190</td>\n",
       "      <td>0.208891</td>\n",
       "      <td>0.288200</td>\n",
       "      <td>48</td>\n",
       "      <td>2013-05-28 19:57</td>\n",
       "    </tr>\n",
       "    <tr>\n",
       "      <th>2</th>\n",
       "      <td>5 минут после укуса</td>\n",
       "      <td>-0.018238</td>\n",
       "      <td>-0.007856</td>\n",
       "      <td>0.541942</td>\n",
       "      <td>0.601157</td>\n",
       "      <td>48</td>\n",
       "      <td>2013-05-28 21:45</td>\n",
       "    </tr>\n",
       "    <tr>\n",
       "      <th>3</th>\n",
       "      <td>спустя полчаса после укуса</td>\n",
       "      <td>-0.112809</td>\n",
       "      <td>0.016975</td>\n",
       "      <td>0.854461</td>\n",
       "      <td>0.736766</td>\n",
       "      <td>48</td>\n",
       "      <td>2013-05-28 22:23</td>\n",
       "    </tr>\n",
       "    <tr>\n",
       "      <th>4</th>\n",
       "      <td>спустя два часа после укуса</td>\n",
       "      <td>0.019278</td>\n",
       "      <td>0.021591</td>\n",
       "      <td>0.279309</td>\n",
       "      <td>0.294362</td>\n",
       "      <td>48</td>\n",
       "      <td>2013-05-28 22:50</td>\n",
       "    </tr>\n",
       "  </tbody>\n",
       "</table>\n",
       "</div>"
      ],
      "text/plain": [
       "                      conditio        kv        ka        bv        ba   n  \\\n",
       "0                               0.009942  0.006134  0.326625  0.361183  48   \n",
       "1             внимание в норме  0.033121  0.015190  0.208891  0.288200  48   \n",
       "2          5 минут после укуса -0.018238 -0.007856  0.541942  0.601157  48   \n",
       "3   спустя полчаса после укуса -0.112809  0.016975  0.854461  0.736766  48   \n",
       "4  спустя два часа после укуса  0.019278  0.021591  0.279309  0.294362  48   \n",
       "\n",
       "                  t  \n",
       "0  2013-03-16 08:43  \n",
       "1  2013-05-28 19:57  \n",
       "2  2013-05-28 21:45  \n",
       "3  2013-05-28 22:23  \n",
       "4  2013-05-28 22:50  "
      ]
     },
     "execution_count": 2,
     "metadata": {},
     "output_type": "execute_result"
    }
   ],
   "source": [
    "u = 'http://data.stireac.com/homo/anarchist123@rambler.ru/balatte/_stat.json'\n",
    "\n",
    "oo=pd.read_json(u,'values')\n",
    "oo[['conditio','kv','ka','bv','ba','n','t']]"
   ]
  },
  {
   "cell_type": "code",
   "execution_count": 3,
   "metadata": {
    "collapsed": false,
    "deletable": true,
    "editable": true
   },
   "outputs": [
    {
     "data": {
      "text/html": [
       "<div>\n",
       "<table border=\"1\" class=\"dataframe\">\n",
       "  <thead>\n",
       "    <tr style=\"text-align: right;\">\n",
       "      <th></th>\n",
       "      <th>conditio</th>\n",
       "      <th>kv</th>\n",
       "      <th>ka</th>\n",
       "      <th>bv</th>\n",
       "      <th>ba</th>\n",
       "      <th>delay</th>\n",
       "    </tr>\n",
       "  </thead>\n",
       "  <tbody>\n",
       "    <tr>\n",
       "      <th>1</th>\n",
       "      <td>внимание в норме</td>\n",
       "      <td>0.033121</td>\n",
       "      <td>0.015190</td>\n",
       "      <td>0.208891</td>\n",
       "      <td>0.288200</td>\n",
       "      <td>-1</td>\n",
       "    </tr>\n",
       "    <tr>\n",
       "      <th>2</th>\n",
       "      <td>5 минут после укуса</td>\n",
       "      <td>-0.018238</td>\n",
       "      <td>-0.007856</td>\n",
       "      <td>0.541942</td>\n",
       "      <td>0.601157</td>\n",
       "      <td>5</td>\n",
       "    </tr>\n",
       "    <tr>\n",
       "      <th>3</th>\n",
       "      <td>спустя полчаса после укуса</td>\n",
       "      <td>-0.112809</td>\n",
       "      <td>0.016975</td>\n",
       "      <td>0.854461</td>\n",
       "      <td>0.736766</td>\n",
       "      <td>30</td>\n",
       "    </tr>\n",
       "    <tr>\n",
       "      <th>4</th>\n",
       "      <td>спустя два часа после укуса</td>\n",
       "      <td>0.019278</td>\n",
       "      <td>0.021591</td>\n",
       "      <td>0.279309</td>\n",
       "      <td>0.294362</td>\n",
       "      <td>120</td>\n",
       "    </tr>\n",
       "  </tbody>\n",
       "</table>\n",
       "</div>"
      ],
      "text/plain": [
       "                      conditio        kv        ka        bv        ba  delay\n",
       "1             внимание в норме  0.033121  0.015190  0.208891  0.288200     -1\n",
       "2          5 минут после укуса -0.018238 -0.007856  0.541942  0.601157      5\n",
       "3   спустя полчаса после укуса -0.112809  0.016975  0.854461  0.736766     30\n",
       "4  спустя два часа после укуса  0.019278  0.021591  0.279309  0.294362    120"
      ]
     },
     "execution_count": 3,
     "metadata": {},
     "output_type": "execute_result"
    }
   ],
   "source": [
    "S = oo.ix[1:,['conditio','kv','ka','bv','ba']]\n",
    "S['delay'] = ([-1,5,30,120])\n",
    "S"
   ]
  },
  {
   "cell_type": "markdown",
   "metadata": {},
   "source": [
    "Значения коэффициентов `k` и `b` у нас присутствуют в разных колонках. Объедим их, для чего создадим колонку с указанием модальности."
   ]
  },
  {
   "cell_type": "code",
   "execution_count": 83,
   "metadata": {
    "collapsed": false
   },
   "outputs": [
    {
     "data": {
      "text/plain": [
       "array([u'v', u'v', u'v', u'v', u'a', u'a', u'a', u'a'], \n",
       "      dtype='<U1')"
      ]
     },
     "execution_count": 83,
     "metadata": {},
     "output_type": "execute_result"
    }
   ],
   "source": [
    "mod = tile(array([['v','a']]).T, (S.shape[0])).ravel()\n",
    "mod"
   ]
  },
  {
   "cell_type": "code",
   "execution_count": 89,
   "metadata": {
    "collapsed": false
   },
   "outputs": [
    {
     "data": {
      "text/html": [
       "<div>\n",
       "<table border=\"1\" class=\"dataframe\">\n",
       "  <thead>\n",
       "    <tr style=\"text-align: right;\">\n",
       "      <th></th>\n",
       "      <th>b</th>\n",
       "      <th>k</th>\n",
       "      <th>mod</th>\n",
       "      <th>delay</th>\n",
       "    </tr>\n",
       "  </thead>\n",
       "  <tbody>\n",
       "    <tr>\n",
       "      <th>1</th>\n",
       "      <td>0.208891</td>\n",
       "      <td>0.033121</td>\n",
       "      <td>v</td>\n",
       "      <td>-1</td>\n",
       "    </tr>\n",
       "    <tr>\n",
       "      <th>2</th>\n",
       "      <td>0.541942</td>\n",
       "      <td>-0.018238</td>\n",
       "      <td>v</td>\n",
       "      <td>5</td>\n",
       "    </tr>\n",
       "    <tr>\n",
       "      <th>3</th>\n",
       "      <td>0.854461</td>\n",
       "      <td>-0.112809</td>\n",
       "      <td>v</td>\n",
       "      <td>30</td>\n",
       "    </tr>\n",
       "    <tr>\n",
       "      <th>4</th>\n",
       "      <td>0.279309</td>\n",
       "      <td>0.019278</td>\n",
       "      <td>v</td>\n",
       "      <td>120</td>\n",
       "    </tr>\n",
       "    <tr>\n",
       "      <th>1</th>\n",
       "      <td>0.288200</td>\n",
       "      <td>0.015190</td>\n",
       "      <td>a</td>\n",
       "      <td>-1</td>\n",
       "    </tr>\n",
       "    <tr>\n",
       "      <th>2</th>\n",
       "      <td>0.601157</td>\n",
       "      <td>-0.007856</td>\n",
       "      <td>a</td>\n",
       "      <td>5</td>\n",
       "    </tr>\n",
       "    <tr>\n",
       "      <th>3</th>\n",
       "      <td>0.736766</td>\n",
       "      <td>0.016975</td>\n",
       "      <td>a</td>\n",
       "      <td>30</td>\n",
       "    </tr>\n",
       "    <tr>\n",
       "      <th>4</th>\n",
       "      <td>0.294362</td>\n",
       "      <td>0.021591</td>\n",
       "      <td>a</td>\n",
       "      <td>120</td>\n",
       "    </tr>\n",
       "  </tbody>\n",
       "</table>\n",
       "</div>"
      ],
      "text/plain": [
       "          b         k mod  delay\n",
       "1  0.208891  0.033121   v     -1\n",
       "2  0.541942 -0.018238   v      5\n",
       "3  0.854461 -0.112809   v     30\n",
       "4  0.279309  0.019278   v    120\n",
       "1  0.288200  0.015190   a     -1\n",
       "2  0.601157 -0.007856   a      5\n",
       "3  0.736766  0.016975   a     30\n",
       "4  0.294362  0.021591   a    120"
      ]
     },
     "execution_count": 89,
     "metadata": {},
     "output_type": "execute_result"
    }
   ],
   "source": [
    "D=pd.DataFrame({\n",
    "    'k': S['kv'].append(S['ka']),\n",
    "    'b': S['bv'].append(S['ba']),\n",
    "    'mod':mod,\n",
    "    'delay': tile(S.delay, 2),\n",
    "    })['b k mod delay'.split()]  #неалфавитный порядок столбцов\n",
    "D"
   ]
  },
  {
   "cell_type": "code",
   "execution_count": 90,
   "metadata": {
    "collapsed": false,
    "deletable": true,
    "editable": true,
    "scrolled": true
   },
   "outputs": [],
   "source": [
    "import statsmodels.api as sm"
   ]
  },
  {
   "cell_type": "code",
   "execution_count": null,
   "metadata": {
    "collapsed": true,
    "deletable": true,
    "editable": true
   },
   "outputs": [],
   "source": [
    "sm.MixedLM()"
   ]
  }
 ],
 "metadata": {
  "kernelspec": {
   "display_name": "Python 2",
   "language": "python",
   "name": "python2"
  },
  "language_info": {
   "codemirror_mode": {
    "name": "ipython",
    "version": 2
   },
   "file_extension": ".py",
   "mimetype": "text/x-python",
   "name": "python",
   "nbconvert_exporter": "python",
   "pygments_lexer": "ipython2",
   "version": "2.7.9"
  },
  "toc": {
   "colors": {
    "hover_highlight": "#DAA520",
    "running_highlight": "#FF0000",
    "selected_highlight": "#FFD700"
   },
   "moveMenuLeft": true,
   "nav_menu": {
    "height": "66px",
    "width": "252px"
   },
   "navigate_menu": true,
   "number_sections": false,
   "sideBar": true,
   "threshold": 4,
   "toc_cell": false,
   "toc_section_display": "block",
   "toc_window_display": false
  }
 },
 "nbformat": 4,
 "nbformat_minor": 0
}
