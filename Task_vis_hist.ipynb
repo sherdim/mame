{
 "cells": [
  {
   "cell_type": "markdown",
   "metadata": {
    "deletable": true,
    "editable": true
   },
   "source": [
    "## Простроение гистограммы распределения"
   ]
  },
  {
   "cell_type": "code",
   "execution_count": 1,
   "metadata": {
    "collapsed": false,
    "deletable": true,
    "editable": true
   },
   "outputs": [
    {
     "name": "stdout",
     "output_type": "stream",
     "text": [
      "Populating the interactive namespace from numpy and matplotlib\n"
     ]
    }
   ],
   "source": [
    "%pylab inline"
   ]
  },
  {
   "cell_type": "code",
   "execution_count": 2,
   "metadata": {
    "collapsed": false,
    "deletable": true,
    "editable": true
   },
   "outputs": [
    {
     "name": "stdout",
     "output_type": "stream",
     "text": [
      "Variable   Type       Data/Info\n",
      "-------------------------------\n",
      "lps        ndarray    45x2: 90 elems, type `float64`, 720 bytes\n"
     ]
    }
   ],
   "source": [
    "#загрузка данных\n",
    "lps=loadtxt('lps')\n",
    "%whos"
   ]
  },
  {
   "cell_type": "markdown",
   "metadata": {
    "deletable": true,
    "editable": true
   },
   "source": [
    "Берем значения из второй колонки и строим гистограмму распределения с помощью соответствующей функции `hist`."
   ]
  },
  {
   "cell_type": "code",
   "execution_count": 3,
   "metadata": {
    "collapsed": false,
    "deletable": true,
    "editable": true
   },
   "outputs": [
    {
     "data": {
      "text/plain": [
       "(array([  9.,   6.,  15.,   8.,   2.,   3.,   0.,   0.,   1.,   1.]),\n",
       " array([ 0.282 ,  0.3236,  0.3652,  0.4068,  0.4484,  0.49  ,  0.5316,\n",
       "         0.5732,  0.6148,  0.6564,  0.698 ]),\n",
       " <a list of 10 Patch objects>)"
      ]
     },
     "execution_count": 3,
     "metadata": {},
     "output_type": "execute_result"
    },
    {
     "data": {
      "image/png": "[encoded data removed]",
      "text/plain": [
       "<matplotlib.figure.Figure at 0x7948cc0>"
      ]
     },
     "metadata": {},
     "output_type": "display_data"
    }
   ],
   "source": [
    "vv=lps[:,1]\n",
    "hist(vv)"
   ]
  },
  {
   "cell_type": "markdown",
   "metadata": {
    "deletable": true,
    "editable": true
   },
   "source": [
    "По информации, возвращаемой функцией `hist`, ясно, что значения были разделены на 10 групп.\n",
    "По оси ординат отложено количество значений в каждой группе.\n",
    "\n",
    "Чтобы не гадать, что за информация возращается функцией `hist`, обратимся к документации."
   ]
  },
  {
   "cell_type": "code",
   "execution_count": 4,
   "metadata": {
    "collapsed": true,
    "deletable": true,
    "editable": true
   },
   "outputs": [],
   "source": [
    "hist?"
   ]
  },
  {
   "cell_type": "markdown",
   "metadata": {
    "deletable": true,
    "editable": true
   },
   "source": [
    "Важный параметр - `bins` (корзинки, ячейки, ящички) - определенное число заданных интервалов, попадание в которые подсчитывается для всех значений. Можно задать в штуках, а можно в виде перечня границ. Интервалы обычно делают одинаковой ширины, хотя это не обязательно."
   ]
  },
  {
   "cell_type": "code",
   "execution_count": 5,
   "metadata": {
    "collapsed": false,
    "deletable": true,
    "editable": true
   },
   "outputs": [
    {
     "data": {
      "image/png": "[encoded data removed]",
      "text/plain": [
       "<matplotlib.figure.Figure at 0x7948320>"
      ]
     },
     "metadata": {},
     "output_type": "display_data"
    }
   ],
   "source": [
    "hist(vv, bins=30);"
   ]
  },
  {
   "cell_type": "markdown",
   "metadata": {
    "deletable": true,
    "editable": true
   },
   "source": [
    "Количество/ширину интервалов обычно подбирают на глаз. Поскольку обычно стоит задача оценить форму распределения, то автоматические методы подбора \"оптимального\" количества классов опираются на характеристики распределения - *моменты распределения*:\n",
    "1. Среднее (mean)\n",
    "2. Дисперсия (variance, вариация)\n",
    "3. Асимметричность (skewness, скошенность, неравенство хвостов)\n",
    "4. Эксцесс (kurtosis, тяжесть хвостов)"
   ]
  },
  {
   "cell_type": "code",
   "execution_count": 6,
   "metadata": {
    "collapsed": false,
    "deletable": true,
    "editable": true
   },
   "outputs": [
    {
     "data": {
      "text/plain": [
       "(6, 7, 6)"
      ]
     },
     "execution_count": 6,
     "metadata": {},
     "output_type": "execute_result"
    }
   ],
   "source": [
    "from scipy.stats import kurtosis, skew\n",
    "\n",
    "sturges = lambda data: int(log2(len(data)) + 1)\n",
    "rice = lambda data: int(2*len(data)**0.333)\n",
    "doane = lambda data: int(1 + log(len(data)) + log(1 + kurtosis(data) * (len(data) / 6.) ** 0.5))\n",
    "\n",
    "sturges(vv), rice(vv), doane(vv)"
   ]
  },
  {
   "cell_type": "markdown",
   "metadata": {
    "deletable": true,
    "editable": true
   },
   "source": [
    "Ссылки на описания методов.\n",
    "\n",
    "- Sturges, H.A. (1926). \"The choice of a class interval\". Journal of the American Statistical Association: 65–66. doi:10.1080/01621459.1926.10502161.\n",
    "\n",
    "- Lane D.M. (2007) http://onlinestatbook.com/2/graphing_distributions/histograms.html\n",
    "\n",
    "- Doane D.P. (1976) Aesthetic frequency classiﬁcation. American Statistician, 30: 181–183"
   ]
  },
  {
   "cell_type": "code",
   "execution_count": 7,
   "metadata": {
    "collapsed": false,
    "deletable": true,
    "editable": true
   },
   "outputs": [
    {
     "data": {
      "image/png": "[encoded data removed]",
      "text/plain": [
       "<matplotlib.figure.Figure at 0x7e285f8>"
      ]
     },
     "metadata": {},
     "output_type": "display_data"
    }
   ],
   "source": [
    "hist(vv, bins=6);"
   ]
  },
  {
   "cell_type": "markdown",
   "metadata": {
    "deletable": true,
    "editable": true
   },
   "source": [
    "Другой полезный параметр - `normed`, который позволяет нормировать высоту столбцов в процентах к общему числу данных.\n",
    "\n",
    "В результате получается эмпирическая плотность вероятности, т.е. чем выше столбик в этом месте диапазона, тем больше вероятность, что значения попадают в данный интервал.\n",
    "\n",
    "В этой же шкале мы можем наложить теоретическое нормальное распределение (и любое другое)."
   ]
  },
  {
   "cell_type": "code",
   "execution_count": 11,
   "metadata": {
    "collapsed": false,
    "deletable": true,
    "editable": true
   },
   "outputs": [
    {
     "data": {
      "image/png": "[encoded data removed]",
      "text/plain": [
       "<matplotlib.figure.Figure at 0xa476eb8>"
      ]
     },
     "metadata": {},
     "output_type": "display_data"
    }
   ],
   "source": [
    "hist(vv, normed=True, label='данные')\n",
    "\n",
    "#найдем характеристики распределения (предположительно нормального)\n",
    "M=mean(vv); S=std(vv);\n",
    "xx=frange(0,1,0.01) #подробные значения абсцисс для гладкой кривой\n",
    "yy=normpdf(xx, M,S)\n",
    "plot(xx,yy,'r-', label='модель'); legend(); xlabel('ВР, с'); ylabel('%');"
   ]
  },
  {
   "cell_type": "markdown",
   "metadata": {
    "deletable": true,
    "editable": true
   },
   "source": [
    "Пример применения стиля к той же гистограмме."
   ]
  },
  {
   "cell_type": "code",
   "execution_count": 12,
   "metadata": {
    "collapsed": false,
    "deletable": true,
    "editable": true
   },
   "outputs": [
    {
     "data": {
      "image/png": "[encoded data removed]",
      "text/plain": [
       "<matplotlib.figure.Figure at 0xa5690f0>"
      ]
     },
     "metadata": {},
     "output_type": "display_data"
    }
   ],
   "source": [
    "with plt.style.context('dark_background'):\n",
    "    plt.figure(figsize=(6, 4))\n",
    "    hist(vv, normed=True)\n",
    "    grid(ls=':')\n",
    "\n",
    "    M=mean(vv); S=std(vv);\n",
    "    xx=frange(0,1,0.01) #подробные значения абсцисс для гладкой кривой\n",
    "    yy=normpdf(xx, M,S)\n",
    "    plot(xx,yy,'r-');xlabel('ВР, с'); ylabel('%');"
   ]
  }
 ],
 "metadata": {
  "kernelspec": {
   "display_name": "Python 2",
   "language": "python",
   "name": "python2"
  },
  "language_info": {
   "codemirror_mode": {
    "name": "ipython",
    "version": 2
   },
   "file_extension": ".py",
   "mimetype": "text/x-python",
   "name": "python",
   "nbconvert_exporter": "python",
   "pygments_lexer": "ipython2",
   "version": "2.7.9"
  },
  "toc": {
   "colors": {
    "hover_highlight": "#DAA520",
    "running_highlight": "#FF0000",
    "selected_highlight": "#FFD700"
   },
   "moveMenuLeft": true,
   "nav_menu": {
    "height": "46px",
    "width": "252px"
   },
   "navigate_menu": true,
   "number_sections": false,
   "sideBar": true,
   "threshold": 4,
   "toc_cell": false,
   "toc_section_display": "block",
   "toc_window_display": false
  }
 },
 "nbformat": 4,
 "nbformat_minor": 0
}
