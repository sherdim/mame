{
 "cells": [
  {
   "cell_type": "markdown",
   "metadata": {},
   "source": [
    "# Динамические модели"
   ]
  },
  {
   "cell_type": "markdown",
   "metadata": {},
   "source": [
    "### Практикум\n",
    "\n",
    "- [Логистическая модель](Task_model_logistic.ipynb)\n",
    "- [Гауссов процесс](Task_trend_uskor.ipynb)\n",
    "\n",
    "\n",
    "Для выполнения тестовых заданий необходимо освоить приемы:\n",
    "\n",
    "-   Импорт набора данных из файла.\n",
    "-   Отбор наблюдений по разным параметрам.\n",
    "-   Группировка и сравнение значений на основании динамических моделей.\n",
    "        \n",
    "\n",
    "- [Динамика инфекционных болезней](Task_dyna_epistat.ipynb) + epistat.csv\n",
    "- [Подготовка данных про инфекционные заболевания](Task_pre_epistat.ipynb)\n",
    "\n",
    "\n",
    "\n",
    "\n"
   ]
  }
 ],
 "metadata": {
  "kernelspec": {
   "display_name": "Python 3",
   "language": "python",
   "name": "python3"
  },
  "language_info": {
   "codemirror_mode": {
    "name": "ipython",
    "version": 3
   },
   "file_extension": ".py",
   "mimetype": "text/x-python",
   "name": "python",
   "nbconvert_exporter": "python",
   "pygments_lexer": "ipython3",
   "version": "3.5.2"
  },
  "toc": {
   "base_numbering": 1,
   "nav_menu": {
    "height": "345px",
    "width": "252px"
   },
   "number_sections": false,
   "sideBar": false,
   "skip_h1_title": false,
   "title_cell": "Table of Contents",
   "title_sidebar": "Contents",
   "toc_cell": false,
   "toc_position": {
    "height": "599px",
    "left": "1px",
    "right": "800px",
    "top": "107px",
    "width": "190px"
   },
   "toc_section_display": false,
   "toc_window_display": false
  }
 },
 "nbformat": 4,
 "nbformat_minor": 1
}
