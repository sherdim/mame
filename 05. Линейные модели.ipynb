{
 "cells": [
  {
   "cell_type": "markdown",
   "metadata": {
    "slideshow": {
     "slide_type": "slide"
    }
   },
   "source": [
    "## Линейные модели\n",
    "\n",
    "Уравнение прямой\n",
    " $$ y = ax+b $$\n",
    " \n",
    " Он же:\n",
    " - полином первой степени\n",
    " - многочлен с двумя членами\n",
    " - система линейных уравнений с одним неизвестным"
   ]
  },
  {
   "cell_type": "markdown",
   "metadata": {
    "slideshow": {
     "slide_type": "slide"
    }
   },
   "source": [
    "Задачи лекции:\n",
    "- обобщить уравнение прямой на случай нескольких неизвестных (вектора)\n",
    "- свести изученные статистические методы к линейной форме\n",
    "- дать понятие об обобщенных линейных моделях (привиденных)"
   ]
  },
  {
   "cell_type": "markdown",
   "metadata": {
    "slideshow": {
     "slide_type": "slide"
    }
   },
   "source": [
    "О линейных моделях упоминают, чтобы отличить от нелинейных.\n",
    "\n",
    "Большинство статистических моделей линейны.\n",
    "\n",
    "**Мнемоника 1** - если в уравнении нет возведений в степень, то модель линейная.\n",
    "\n",
    "**Мнемоника 2** - если нас интересует только среднее, то модель линейная."
   ]
  },
  {
   "cell_type": "markdown",
   "metadata": {
    "slideshow": {
     "slide_type": "slide"
    }
   },
   "source": [
    "Пример: расчет оценки за четверть"
   ]
  },
  {
   "cell_type": "markdown",
   "metadata": {
    "slideshow": {
     "slide_type": "slide"
    }
   },
   "source": [
    "### Уравнение среднего\n",
    "\n",
    "\n",
    "$$ G = \\frac{g_1 + g_2 + g_3}{3} $$\n",
    "\n"
   ]
  },
  {
   "cell_type": "markdown",
   "metadata": {},
   "source": [
    "### Уравнение среднего\n",
    "\n",
    "\n",
    "$$ G = \\frac{1}{3}g_1 + \\frac{1}{3}g_2 + \\frac{1}{3}g_3 $$\n",
    "\n"
   ]
  },
  {
   "cell_type": "markdown",
   "metadata": {},
   "source": [
    "### Уравнение среднего\n",
    "\n",
    "$$ G = \\frac{1}{3}g_1 + \\frac{1}{3}g_2 + \\frac{2}{3}g_{control} $$\n"
   ]
  },
  {
   "cell_type": "markdown",
   "metadata": {},
   "source": [
    "### Уравнение среднего\n",
    "\n",
    "<span style=\"color:red\">\n",
    "$$ G = \\frac{1}{3}g_1 + \\frac{1}{3}g_2 + \\frac{2}{3}g_{control} $$\n",
    "</span>\n",
    "\n",
    "У отличника максимум $$\\frac{4}{3} > 100\\%$$"
   ]
  },
  {
   "cell_type": "markdown",
   "metadata": {},
   "source": [
    "### Уравнение среднего\n",
    "\n",
    "\n",
    "$$ G = w_1 g_1 + w_2 g_2 + w_3 g_{control}, \\ \\ w_1 = w_2 , \\ w_3 = 2 w_1$$\n",
    "\n"
   ]
  },
  {
   "cell_type": "markdown",
   "metadata": {},
   "source": [
    "$$ w_1 + w_2 + w_3 = 1$$\n",
    "\n",
    "$$ w_1 = w_2 = 0.25 ,  w_3 = 0.5 $$"
   ]
  },
  {
   "cell_type": "markdown",
   "metadata": {},
   "source": [
    "### Коэффициенты\n",
    "\n",
    "- веса, weights, множители, w, k\n",
    "\n",
    "<b class=tag>средневзвешенная оценка</b>"
   ]
  },
  {
   "cell_type": "markdown",
   "metadata": {},
   "source": [
    "### Пути усложнения:\n",
    "- добавить переменных\n",
    "- убрать требование, чтобы сумма коэффициентов равнялась 1.0\n",
    "- преобразовать переменные с помощью заданной функции"
   ]
  },
  {
   "cell_type": "markdown",
   "metadata": {
    "collapsed": true,
    "slideshow": {
     "slide_type": "slide"
    }
   },
   "source": [
    "## Effect size - размер эффекта при сравнении средних\n",
    "\n",
    "Подход 1 - нормализованная разница\n",
    "\n",
    "$$d = \\frac{\\mu_1 - \\mu_2} \\sigma,$$"
   ]
  },
  {
   "cell_type": "markdown",
   "metadata": {
    "slideshow": {
     "slide_type": "slide"
    }
   },
   "source": [
    "| Эффект  |  d \n",
    "-|-\n",
    "| Очень маленький |  0.01  \n",
    "| Маленький       |   0.20 \n",
    "| Средний         |   0.50 \n",
    "| Большой         |   0.80 \n",
    "| Очень большой   |  1.20  \n",
    "| Огромный        |  2.0    \n",
    "\n",
    "Cohen, 1988, Sawilowsky, 2009"
   ]
  },
  {
   "cell_type": "markdown",
   "metadata": {
    "slideshow": {
     "slide_type": "slide"
    }
   },
   "source": [
    "![](Cohens_d_4panel.png)"
   ]
  },
  {
   "cell_type": "markdown",
   "metadata": {
    "slideshow": {
     "slide_type": "slide"
    }
   },
   "source": [
    "### Подход 2 -  % объясненной вариации\n",
    "\n",
    "\n",
    "Effect size| $\\eta^2$\n",
    "-|-\n",
    "    Small | 0.01\n",
    "    Medium| 0.059\n",
    "    Large | 0.138\n",
    "\n",
    "(Cohen, 1988) "
   ]
  },
  {
   "cell_type": "markdown",
   "metadata": {
    "slideshow": {
     "slide_type": "notes"
    }
   },
   "source": [
    "$R^2$ - оценка качества регрессионной модели."
   ]
  },
  {
   "cell_type": "markdown",
   "metadata": {
    "slideshow": {
     "slide_type": "slide"
    }
   },
   "source": [
    "## Системы линейных уравнений\n",
    "\n",
    "Система линейных уравнений от трёх переменных определяет набор плоскостей. Точка пересечения является решением."
   ]
  },
  {
   "cell_type": "markdown",
   "metadata": {
    "slideshow": {
     "slide_type": "fragment"
    }
   },
   "source": [
    "Если у кого-то плохое пространственное воображение - это не помешает решать сложные многомерные задачи. Все что требуетя - представление данных в табличке."
   ]
  },
  {
   "cell_type": "markdown",
   "metadata": {
    "slideshow": {
     "slide_type": "slide"
    }
   },
   "source": [
    "### OLS Ordinary least squares\n",
    "\n",
    "$x_i$ | $y$\n",
    "-|-\n",
    "независимые переменные | зависимая переменная\n",
    "features, характеристики | классовая принадлежность\n",
    "факторы | результат\n",
    "предиктор (предсказатель) | отклик (response)\n",
    "измерения (dimensions) | интегральная характеристика"
   ]
  },
  {
   "cell_type": "markdown",
   "metadata": {
    "slideshow": {
     "slide_type": "slide"
    }
   },
   "source": [
    "### Допущение об аддитивности\n",
    "\n",
    "*Аддитивность* означает, что влияние изменений в одном показателе на общий отклик не зависит от значений других показателей.\n",
    "\n",
    "Иными словами, предполагается несущественное взаимное влияния факторов."
   ]
  },
  {
   "cell_type": "markdown",
   "metadata": {
    "slideshow": {
     "slide_type": "slide"
    }
   },
   "source": [
    "### Корреляционная матрица\n",
    "\n",
    "почти всегда есть ковариация\n",
    "\n",
    "может быть влияние третьего неучтенного фактора (confound factor)\n",
    "\n",
    "<b class=tag>confounding </b>"
   ]
  },
  {
   "cell_type": "markdown",
   "metadata": {
    "slideshow": {
     "slide_type": "fragment"
    }
   },
   "source": [
    "#### проблемы\n",
    "\n",
    "1. Non-Linearity of the response-predictor relationships.\n",
    "1. Correlation of the error terms.\n",
    "1. Non-constant variance of error terms.\n",
    "1. Outliers.\n",
    "1. High -leverage points.\n",
    "1. Multicollinearity.\n",
    "\n",
    "http://nbviewer.jupyter.org/gist/RMDK/38aea576c3eda34b03a1"
   ]
  },
  {
   "cell_type": "markdown",
   "metadata": {
    "slideshow": {
     "slide_type": "slide"
    }
   },
   "source": [
    "Взаимное влияние факторов $x_1$ и $x_2$?\n",
    "\n",
    "- еще одно слагаемое в виде произведения факторов  $x_1 \\cdot x_2$."
   ]
  },
  {
   "cell_type": "markdown",
   "metadata": {
    "slideshow": {
     "slide_type": "subslide"
    }
   },
   "source": [
    "Если фактор $x_1$ сам себя усиливает? \n",
    "\n",
    "Например, больше ест -> больше силы -> больше спаривается -> тратит больше энергии -> больше ест\n",
    "\n",
    "- еще одно слагаемое в виде произведения $x_1 \\cdot x_1$."
   ]
  },
  {
   "cell_type": "markdown",
   "metadata": {
    "slideshow": {
     "slide_type": "slide"
    }
   },
   "source": [
    "### Хитрый Прием. Добавление показателей\n",
    "\n",
    "Новые показатели в виде разных комбинаций имеющихся показателей дают возможность более гибких моделей.\n",
    "\n",
    "Если взаимного влияния нет - коэффициент 0 исключит этот показатель."
   ]
  },
  {
   "cell_type": "markdown",
   "metadata": {
    "slideshow": {
     "slide_type": "slide"
    }
   },
   "source": [
    "### Пример. Окружность"
   ]
  },
  {
   "cell_type": "markdown",
   "metadata": {
    "slideshow": {
     "slide_type": "slide"
    }
   },
   "source": [
    "## Обобщенные линейные модели\n",
    "\n",
    "- Аппарат линейных моделей хорошо разработан.\n",
    "- Просто и быстро обсчитываются на компьютере.\n",
    "- Понятно визуализируются (интерпретируются).\n",
    "\n",
    "#### НО:\n",
    "- Не все процессы линейные (почти все нелинейные)."
   ]
  },
  {
   "cell_type": "markdown",
   "metadata": {
    "slideshow": {
     "slide_type": "slide"
    }
   },
   "source": [
    "### MANOVA\n",
    "MANOVA - (англ. multivariate analysis of variance) - расширение ANOVA для случаев, когда в эксперименте набраны наблюдения нескольких типов и есть подозрения, что эти типы наблюдений как-то связаны между собой (скоррелированы)."
   ]
  },
  {
   "cell_type": "markdown",
   "metadata": {
    "slideshow": {
     "slide_type": "slide"
    }
   },
   "source": [
    "### Пример. Аллометрия\n",
    "\n",
    ">*Аллометрия* - (алло- + греч. metron мера) неравномерный рост отдельных частей тела.\n",
    "<cite data-cite=\"\">Большой медицинский словарь. 2000.</cite>\n",
    "\n",
    "Аллометрию регистрируют, сравнивая организмы разного размера. "
   ]
  },
  {
   "cell_type": "markdown",
   "metadata": {
    "slideshow": {
     "slide_type": "slide"
    }
   },
   "source": [
    "### Пример. Аллометрия\n",
    "\n",
    "По охвату выборки можно выделить такие формы аллометрии:\n",
    "\n",
    "- *онтогенетическая аллометрия*, прослеживаемая в ходе онтогенеза особи или устанавливаемая при сравнении разновозрастных особей одного вида;\n",
    "- *внутривидовая аллометрия*, обнаруживаемая при сравнении взрослых особей;\n",
    "- *межвидовая аллометрия*, выявляемая при сравнении средних значений исследуемого признака, характерных для разных видов, принадлежащих к одной группе;\n",
    "- *эволюционная аллометрия* — межвидовая аллометрия в ходе филогенеза."
   ]
  },
  {
   "cell_type": "markdown",
   "metadata": {
    "slideshow": {
     "slide_type": "slide"
    }
   },
   "source": [
    "### Аллометрические уравнения\n",
    "\n",
    "$$ x_2 = ax_1^b$$\n",
    "\n",
    "где $x$ — сравниваемые параметры, $a$ и $b$ — некоторые коэффициенты."
   ]
  },
  {
   "cell_type": "markdown",
   "metadata": {
    "slideshow": {
     "slide_type": "fragment"
    }
   },
   "source": [
    "$$ \\ln x_2 = \\ln a + b \\ln x_1 $$"
   ]
  },
  {
   "cell_type": "markdown",
   "metadata": {
    "slideshow": {
     "slide_type": "slide"
    }
   },
   "source": [
    "### Логарифмирование\n",
    "\n",
    "- Чтобы охватить большой диапазон данных, которые варьируют больше, чем на порядок.\n",
    "- Чтобы преобразовать степенную зависимость в линейную."
   ]
  },
  {
   "cell_type": "markdown",
   "metadata": {
    "slideshow": {
     "slide_type": "slide"
    }
   },
   "source": [
    "### Пример. Росто-весовой коэффициент\n",
    "\n",
    "Модель: вес прибавляется пропорционально квадрату прибавки роста \n",
    "\n"
   ]
  },
  {
   "cell_type": "markdown",
   "metadata": {
    "slideshow": {
     "slide_type": "slide"
    }
   },
   "source": [
    "### Пример. Коэффициент энцефализации\n",
    "\n",
    "![](Brain_and_body_masses.png)\n"
   ]
  },
  {
   "cell_type": "markdown",
   "metadata": {},
   "source": [
    "О. Снелл в 1891 году опубликовал известную работу о сравнении интеллекта различных видов животных.\n",
    "\n",
    "Snell 0., Das Gewicht des Gehirnes und der Hirnmantels der Saugethiere in Beziehung zu deren geistigen Fähigkeiten, Sitzungsberichte der Gesellschafl für Morphologie und Physiologie in München, 7, 90-—94, 1891."
   ]
  },
  {
   "cell_type": "markdown",
   "metadata": {
    "slideshow": {
     "slide_type": "slide"
    }
   },
   "source": [
    "### Пример. Квартет Энскомба\n",
    "\n",
    "![full](anscombe.png)\n",
    "\n",
    "\n",
    "| Характеристика | $x$ | $y$\n",
    "|:|-|\n",
    "|Среднее значение | 9.0 | 7.5\n",
    "|Дисперсия | 11.000 | 4.125\n",
    "|Корреляция <td colspan=2> 0.816</td>\n",
    "|Линия регрессия <td colspan=2> $ y = 3 + 0.5x $</td>\n",
    "\n",
    "https://en.wikipedia.org/wiki/Anscombe's_quartet"
   ]
  },
  {
   "cell_type": "markdown",
   "metadata": {
    "slideshow": {
     "slide_type": "notes"
    }
   },
   "source": [
    "3-й и 4-й наборы - примеры пагубного влияния выбросов.\n",
    "\n",
    "2-й набор - образец квадратичной функции - параболы. "
   ]
  },
  {
   "cell_type": "markdown",
   "metadata": {
    "collapsed": true,
    "slideshow": {
     "slide_type": "slide"
    }
   },
   "source": [
    "## Выбросы: удалять или пристально изучать?"
   ]
  },
  {
   "cell_type": "markdown",
   "metadata": {
    "slideshow": {
     "slide_type": "-"
    }
   },
   "source": [
    "![](https://www.researchgate.net/profile/Tetsu_Sato/publication/45508576/figure/fig3/AS:277081624727554@1443072815210/Figure-5-a-Allometry-for-SSD-inconsistent-with-Rensch's-rule-in-L-callipterus-The.png)\n",
    "\n",
    "(a) Allometry for SSD inconsistent with Rensch's rule in L . callipterus . The light line illustrates an isometric line (y=x), and the solid line represents the slope of the RMA regression of log (male size) on log (female size) across all the populations except Rumonge. 10 10 The linear relationship was broken when Rumonge (a blank circle) was included ( F =1.41, P >0.28), suggesting that Rumonge was out 1,5 of the allometric relationship. (b) Shell size well explained the interpopulation variation in SSD. A line represents a linear regression line across all the populations except Rumonge. The relationship was violated when Rumonge was included ( F =1.33, P >0.30). 1,5 \n",
    "\n",
    "[Ota K., Kohda M., Sato T. Unusual allometry for sexual size dimorphism in a cichlid where males are extremely larger than females //Journal of Biosciences. – 2010. – Т. 35. – №. 2. – С. 257-265.](http://link.springer.com/article/10.1007/s12038-010-0030-6)"
   ]
  },
  {
   "cell_type": "markdown",
   "metadata": {
    "slideshow": {
     "slide_type": "slide"
    }
   },
   "source": [
    "![](https://www.researchgate.net/profile/Tetsu_Sato/publication/45508576/figure/fig1/AS:277081620533258@1443072815003/Figure-1-Pictures-of-Lamprologus-callipterus-in-the-wild-a-A-pair-in-Wonzye-Point.png)\n",
    "\n",
    "Pictures of Lamprologus callipterus in the wild. (a) A pair in Wonzye Point. The larger individual is a nest male. (b) He defends a clump of the shells (i.e. nest). (c) A female provides care for her brood in a shell. \n",
    "\n",
    "[Ota K., Kohda M., Sato T. Unusual allometry for sexual size dimorphism in a cichlid where males are extremely larger than females //Journal of Biosciences. – 2010. – Т. 35. – №. 2. – С. 257-265.](http://link.springer.com/article/10.1007/s12038-010-0030-6)"
   ]
  },
  {
   "cell_type": "markdown",
   "metadata": {
    "slideshow": {
     "slide_type": "slide"
    }
   },
   "source": [
    "## Анализ главных компонент \n",
    "\n",
    "На практике часто возникает задача анализа данных большой размерности. Метод анализ главных компонент позволяет решить эту задачу за счет уменьшения общего числа переменных.\n",
    "\n",
    "<b class=tag>редукция данных</b>"
   ]
  },
  {
   "cell_type": "markdown",
   "metadata": {
    "slideshow": {
     "slide_type": "notes"
    }
   },
   "source": [
    "для того, чтобы получить «главные» и «некоррелирующие» переменные;\n",
    "  – классификация переменных и наблюдений, при помощи строящегося факторного пространства.\n",
    "\n",
    "Метод имеет сходство с факторным анализом в постановочной части решаемых задач, но имеет ряд существенных отличий:\n",
    "   – при анализе главных компонент не используются итеративные методы для извлечения факторов;\n",
    "   – наряду с активными переменными и наблюдениями, используемыми для извлечения главных компонент, можно задать вспомогательные переменные и/или наблюдения; затем вспомогательные переменные и наблюдения проектируются на факторное пространство, вычисленное на основе активных переменных и наблюдений;\n",
    "   – перечисленные возможности позволяют использовать метод как мощное средство для классификации одновременно переменных и наблюдений.\n",
    "\n",
    "Решение основной задачи метода достигается созданием векторного пространства латентных (скрытых) переменных (факторов) с размерностью меньше исходной. Исходная размерность определяется числом переменных для анализа в исходных данных."
   ]
  },
  {
   "cell_type": "markdown",
   "metadata": {
    "collapsed": true,
    "slideshow": {
     "slide_type": "slide"
    }
   },
   "source": [
    "## Факторный анализ. \n",
    "\n",
    "*Факторный анализ* – один из наиболее популярных многомерных статистических методов. Если кластерный и дискриминантный методы классифицируют наблюдения, разделяя их на группы однородности, то факторный анализ классифицирует признаки (переменные), описывающие наблюдения. Поэтому главная цель факторного анализа – сокращение числа переменных на основе классификация переменных и определения структуры взаимосвязей между ними. Сокращение достигается путем выделения скрытых (латентных) общих факторов, объясняющих связи между наблюдаемыми признаками объекта, т.е. вместо исходного набора переменных появится возможность анализировать данные по выделенным факторам, число которых значительно меньше исходного числа взаимосвязанных переменных."
   ]
  },
  {
   "cell_type": "markdown",
   "metadata": {
    "collapsed": true,
    "slideshow": {
     "slide_type": "skip"
    }
   },
   "source": [
    "### &copy;\n",
    "\n",
    "Brain_and_body_masses.png Автор: AdmiralHood - собственная работа, CC BY-SA 3.0, https://commons.wikimedia.org/w/index.php?curid=34938309"
   ]
  }
 ],
 "metadata": {
  "celltoolbar": "Slideshow",
  "kernelspec": {
   "display_name": "Python 3",
   "language": "python",
   "name": "python3"
  },
  "language_info": {
   "codemirror_mode": {
    "name": "ipython",
    "version": 3
   },
   "file_extension": ".py",
   "mimetype": "text/x-python",
   "name": "python",
   "nbconvert_exporter": "python",
   "pygments_lexer": "ipython3",
   "version": "3.7.1"
  },
  "toc": {
   "base_numbering": 1,
   "nav_menu": {
    "height": "272px",
    "width": "252px"
   },
   "number_sections": false,
   "sideBar": true,
   "skip_h1_title": false,
   "title_cell": "Table of Contents",
   "title_sidebar": "Contents",
   "toc_cell": false,
   "toc_position": {},
   "toc_section_display": "block",
   "toc_window_display": false
  }
 },
 "nbformat": 4,
 "nbformat_minor": 1
}
