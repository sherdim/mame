{
 "cells": [
  {
   "cell_type": "markdown",
   "metadata": {
    "slideshow": {
     "slide_type": "slide"
    }
   },
   "source": [
    "## Линейные модели\n",
    "\n",
    "Уравнение прямой\n",
    " $$ y = ax+b $$\n",
    " \n",
    " Он же:\n",
    " - полином первой степени\n",
    " - многочлен с двумя членами\n",
    " - система линейных уравнений с одним неизвестным"
   ]
  },
  {
   "cell_type": "markdown",
   "metadata": {
    "slideshow": {
     "slide_type": "slide"
    }
   },
   "source": [
    "Задачи лекции:\n",
    "- обобщить уравнение прямой на случай нескольких неизвестных (вектора)\n",
    "- свести изученные статистические методы к линейной форме\n",
    "- дать понятие об обобщенных линейных моделях (привиденных)"
   ]
  },
  {
   "cell_type": "markdown",
   "metadata": {
    "slideshow": {
     "slide_type": "slide"
    }
   },
   "source": [
    "О линейных моделях упоминают, чтобы отличить от нелинейных.\n",
    "\n",
    "Большинство статистических моделей линейны.\n",
    "\n",
    "**Мнемоника 1** - если в уравнении нет возведений в степень, то модель линейная.\n",
    "\n",
    "**Мнемоника 2** - если нас интересует только среднее, то модель линейная."
   ]
  },
  {
   "cell_type": "markdown",
   "metadata": {
    "slideshow": {
     "slide_type": "slide"
    }
   },
   "source": [
    "Пример: расчет оценки за четверть"
   ]
  },
  {
   "cell_type": "markdown",
   "metadata": {
    "slideshow": {
     "slide_type": "slide"
    }
   },
   "source": [
    "### Уравнение среднего\n",
    "\n",
    "\n",
    "$$ G = \\frac{g_1 + g_2 + g_3}{3} $$\n",
    "\n"
   ]
  },
  {
   "cell_type": "markdown",
   "metadata": {
    "slideshow": {
     "slide_type": "slide"
    }
   },
   "source": [
    "### Уравнение среднего\n",
    "\n",
    "\n",
    "$$ G = \\frac{1}{3}g_1 + \\frac{1}{3}g_2 + \\frac{1}{3}g_3 $$\n",
    "\n"
   ]
  },
  {
   "cell_type": "markdown",
   "metadata": {
    "slideshow": {
     "slide_type": "slide"
    }
   },
   "source": [
    "### Уравнение среднего\n",
    "\n",
    "$$ G = \\frac{1}{3}g_1 + \\frac{1}{3}g_2 + \\frac{2}{3}g_{control} $$\n"
   ]
  },
  {
   "cell_type": "markdown",
   "metadata": {
    "slideshow": {
     "slide_type": "slide"
    }
   },
   "source": [
    "### Уравнение среднего\n",
    "\n",
    "<span style=\"color:red\">\n",
    "$$ G = \\frac{1}{3}g_1 + \\frac{1}{3}g_2 + \\frac{2}{3}g_{control} $$\n",
    "</span>\n",
    "\n",
    "У отличника максимум $$\\frac{4}{3} > 100\\%$$"
   ]
  },
  {
   "cell_type": "markdown",
   "metadata": {
    "slideshow": {
     "slide_type": "slide"
    }
   },
   "source": [
    "### Уравнение среднего\n",
    "\n",
    "\n",
    "$$ G = w_1 g_1 + w_2 g_2 + w_3 g_{control}, \\ \\ w_1 = w_2 , \\ w_3 = 2 w_1$$\n",
    "\n"
   ]
  },
  {
   "cell_type": "markdown",
   "metadata": {
    "slideshow": {
     "slide_type": "slide"
    }
   },
   "source": [
    "$$ w_1 + w_2 + w_3 = 1$$\n",
    "\n",
    "$$ w_1 = w_2 = 0.25 ,  w_3 = 0.5 $$"
   ]
  },
  {
   "cell_type": "markdown",
   "metadata": {
    "slideshow": {
     "slide_type": "slide"
    }
   },
   "source": [
    "### Коэффициенты\n",
    "\n",
    "- веса, weights, множители, w, k\n",
    "\n",
    "<b class=tag>средневзвешенная оценка</b>"
   ]
  },
  {
   "cell_type": "markdown",
   "metadata": {
    "slideshow": {
     "slide_type": "slide"
    }
   },
   "source": [
    "### Пути усложнения:\n",
    "- добавить переменных\n",
    "- убрать требование, чтобы сумма коэффициентов равнялась 1.0\n",
    "- преобразовать переменные с помощью заданной функции"
   ]
  },
  {
   "cell_type": "markdown",
   "metadata": {
    "slideshow": {
     "slide_type": "slide"
    }
   },
   "source": [
    "## Погрешность измерений\n",
    "\n",
    "***Статистическая погрешность*** связана с разбросом значений, которые получаются в эксперименте после серии измерений."
   ]
  },
  {
   "cell_type": "markdown",
   "metadata": {
    "slideshow": {
     "slide_type": "fragment"
    }
   },
   "source": [
    "***Систематическая погрешность*** характеризует несовершенство самого измерительного инструмента или методики обработки данных, а точнее, недостаточное знание того, насколько «сбоит» инструмент или методика. Обычно в показаниях прибора уже исключена."
   ]
  },
  {
   "cell_type": "markdown",
   "metadata": {
    "slideshow": {
     "slide_type": "fragment"
    }
   },
   "source": [
    "***Теоретическая/модельная погрешность*** — это неопределенность результата измерения, которая возникла потому, что методика обработки данных была сложная и в чем-то опиралась на теоретические предположения или результаты моделирования, которые тоже несовершенны. Характерна для физических или молекулярных моделей. Обычно включена в систематическую."
   ]
  },
  {
   "cell_type": "markdown",
   "metadata": {
    "slideshow": {
     "slide_type": "slide"
    }
   },
   "source": [
    "###  Редукция до линейной модели\n",
    "\n",
    "1. Убрать избыточность\n",
    "    - убрать шум\n",
    "    - убрать ошибки\n",
    "    - убрать дублирование данных (редукция размерности)\n",
    "2. Найти максимальный разброс (variation)\n",
    "    - метод главных компонент (PCA)\n",
    "3. Оценить связи между показателями (корреляционный анализ)"
   ]
  },
  {
   "cell_type": "markdown",
   "metadata": {
    "collapsed": true,
    "slideshow": {
     "slide_type": "slide"
    }
   },
   "source": [
    "## Effect size - размер эффекта при сравнении средних\n",
    "\n",
    "Подход 1 - нормализованная разница\n",
    "\n",
    "$$d = \\frac{\\mu_1 - \\mu_2} \\sigma,$$"
   ]
  },
  {
   "cell_type": "markdown",
   "metadata": {
    "slideshow": {
     "slide_type": "slide"
    }
   },
   "source": [
    "| Эффект  |  d \n",
    "-|-\n",
    "| Очень маленький |  0.01  \n",
    "| Маленький       |   0.20 \n",
    "| Средний         |   0.50 \n",
    "| Большой         |   0.80 \n",
    "| Очень большой   |  1.20  \n",
    "| Огромный        |  2.0    \n",
    "\n",
    "Cohen, 1988, Sawilowsky, 2009"
   ]
  },
  {
   "cell_type": "markdown",
   "metadata": {
    "slideshow": {
     "slide_type": "slide"
    }
   },
   "source": [
    "![](Cohens_d_4panel.png)"
   ]
  },
  {
   "cell_type": "markdown",
   "metadata": {
    "slideshow": {
     "slide_type": "slide"
    }
   },
   "source": [
    "### Подход 2 -  % объясненной вариации\n",
    "\n",
    "\n",
    "Effect size| $\\eta^2$\n",
    "-|-\n",
    "    Small | 0.01\n",
    "    Medium| 0.059\n",
    "    Large | 0.138\n",
    "\n",
    "(Cohen, 1988) "
   ]
  },
  {
   "cell_type": "markdown",
   "metadata": {
    "slideshow": {
     "slide_type": "notes"
    }
   },
   "source": [
    "$R^2$ - оценка качества регрессионной модели."
   ]
  },
  {
   "cell_type": "markdown",
   "metadata": {
    "slideshow": {
     "slide_type": "slide"
    }
   },
   "source": [
    "## Системы линейных уравнений\n",
    "\n",
    "Система линейных уравнений от трёх переменных определяет набор плоскостей. Точка пересечения является решением."
   ]
  },
  {
   "cell_type": "markdown",
   "metadata": {
    "slideshow": {
     "slide_type": "fragment"
    }
   },
   "source": [
    "Если у кого-то плохое пространственное воображение - это не помешает решать сложные многомерные задачи. Все что требуетя - представление данных в табличке."
   ]
  },
  {
   "cell_type": "markdown",
   "metadata": {
    "slideshow": {
     "slide_type": "slide"
    }
   },
   "source": [
    "### OLS Ordinary least squares\n",
    "\n",
    "$x_i$ | $y$\n",
    "-|-\n",
    "независимые переменные | зависимая переменная\n",
    "features, характеристики | классовая принадлежность\n",
    "факторы | результат\n",
    "предиктор (предсказатель) | отклик (response)\n",
    "измерения (dimensions) | интегральная характеристика"
   ]
  },
  {
   "cell_type": "markdown",
   "metadata": {
    "slideshow": {
     "slide_type": "slide"
    }
   },
   "source": [
    "### Допущение об аддитивности\n",
    "\n",
    "*Аддитивность* означает, что влияние изменений в одном показателе на общий отклик не зависит от значений других показателей.\n",
    "\n",
    "Иными словами, предполагается несущественное взаимное влияния факторов."
   ]
  },
  {
   "cell_type": "markdown",
   "metadata": {
    "slideshow": {
     "slide_type": "slide"
    }
   },
   "source": [
    "### Корреляционная матрица\n",
    "\n",
    "почти всегда есть ковариация\n",
    "\n",
    "может быть влияние третьего неучтенного фактора (confound factor)\n",
    "\n",
    "<b class=tag>confounding </b>"
   ]
  },
  {
   "cell_type": "markdown",
   "metadata": {
    "slideshow": {
     "slide_type": "fragment"
    }
   },
   "source": [
    "#### проблемы\n",
    "\n",
    "1. Non-Linearity of the response-predictor relationships.\n",
    "1. Correlation of the error terms.\n",
    "1. Non-constant variance of error terms.\n",
    "1. Outliers.\n",
    "1. High -leverage points.\n",
    "1. Multicollinearity.\n",
    "\n",
    "http://nbviewer.jupyter.org/gist/RMDK/38aea576c3eda34b03a1"
   ]
  },
  {
   "cell_type": "markdown",
   "metadata": {
    "slideshow": {
     "slide_type": "slide"
    }
   },
   "source": [
    "Взаимное влияние факторов $x_1$ и $x_2$?\n",
    "\n",
    "- еще одно слагаемое в виде произведения факторов  $x_1 \\cdot x_2$."
   ]
  },
  {
   "cell_type": "markdown",
   "metadata": {
    "slideshow": {
     "slide_type": "subslide"
    }
   },
   "source": [
    "Если фактор $x_1$ сам себя усиливает? \n",
    "\n",
    "Например, больше ест -> больше силы -> больше спаривается -> тратит больше энергии -> больше ест\n",
    "\n",
    "- еще одно слагаемое в виде произведения $x_1 \\cdot x_1$."
   ]
  },
  {
   "cell_type": "markdown",
   "metadata": {
    "slideshow": {
     "slide_type": "slide"
    }
   },
   "source": [
    "### Хитрый Прием. Добавление показателей\n",
    "\n",
    "Новые показатели в виде разных комбинаций имеющихся показателей дают возможность более гибких моделей.\n",
    "\n",
    "Если взаимного влияния нет - коэффициент 0 исключит этот показатель."
   ]
  },
  {
   "cell_type": "markdown",
   "metadata": {
    "slideshow": {
     "slide_type": "slide"
    }
   },
   "source": [
    "### Пример. Окружность"
   ]
  },
  {
   "cell_type": "markdown",
   "metadata": {
    "slideshow": {
     "slide_type": "slide"
    }
   },
   "source": [
    "## Обобщенные линейные модели\n",
    "\n",
    "- Аппарат линейных моделей хорошо разработан.\n",
    "- Просто и быстро обсчитываются на компьютере.\n",
    "- Понятно визуализируются (интерпретируются).\n",
    "\n",
    "#### НО:\n",
    "- Не все процессы линейные (почти все нелинейные)."
   ]
  },
  {
   "cell_type": "markdown",
   "metadata": {
    "slideshow": {
     "slide_type": "notes"
    }
   },
   "source": [
    "Исходно допустимо предположение (допущение), что данные распределены нормально (Gaussian distriduted)"
   ]
  },
  {
   "cell_type": "markdown",
   "metadata": {
    "slideshow": {
     "slide_type": "slide"
    }
   },
   "source": [
    "### MANOVA\n",
    "MANOVA - (англ. multivariate analysis of variance) - расширение ANOVA для случаев, когда в эксперименте набраны наблюдения нескольких типов и есть подозрения, что эти типы наблюдений как-то связаны между собой (скоррелированы)."
   ]
  },
  {
   "cell_type": "markdown",
   "metadata": {
    "slideshow": {
     "slide_type": "slide"
    }
   },
   "source": [
    "### Пример. Аллометрия\n",
    "\n",
    ">*Аллометрия* - (алло- + греч. metron мера) неравномерный рост отдельных частей тела.\n",
    "<cite data-cite=\"\">Большой медицинский словарь. 2000.</cite>\n",
    "\n",
    "Аллометрию регистрируют, сравнивая организмы разного размера. "
   ]
  },
  {
   "cell_type": "markdown",
   "metadata": {
    "slideshow": {
     "slide_type": "slide"
    }
   },
   "source": [
    "### Пример. Аллометрия\n",
    "\n",
    "По охвату выборки можно выделить такие формы аллометрии:\n",
    "\n",
    "- *онтогенетическая аллометрия*, прослеживаемая в ходе онтогенеза особи или устанавливаемая при сравнении разновозрастных особей одного вида;\n",
    "- *внутривидовая аллометрия*, обнаруживаемая при сравнении взрослых особей;\n",
    "- *межвидовая аллометрия*, выявляемая при сравнении средних значений исследуемого признака, характерных для разных видов, принадлежащих к одной группе;\n",
    "- *эволюционная аллометрия* — межвидовая аллометрия в ходе филогенеза."
   ]
  },
  {
   "cell_type": "markdown",
   "metadata": {
    "slideshow": {
     "slide_type": "slide"
    }
   },
   "source": [
    "### Аллометрические уравнения\n",
    "\n",
    "$$ x_2 = ax_1^b$$\n",
    "\n",
    "где $x$ — сравниваемые параметры, $a$ и $b$ — некоторые коэффициенты."
   ]
  },
  {
   "cell_type": "markdown",
   "metadata": {
    "slideshow": {
     "slide_type": "fragment"
    }
   },
   "source": [
    "$$ \\ln x_2 = \\ln a + b \\ln x_1 $$"
   ]
  },
  {
   "cell_type": "markdown",
   "metadata": {
    "slideshow": {
     "slide_type": "slide"
    }
   },
   "source": [
    "### Логарифмирование\n",
    "\n",
    "- Чтобы охватить большой диапазон данных, которые варьируют больше, чем на порядок.\n",
    "- Чтобы преобразовать степенную зависимость в линейную."
   ]
  },
  {
   "cell_type": "markdown",
   "metadata": {
    "slideshow": {
     "slide_type": "slide"
    }
   },
   "source": [
    "### Пример. Росто-весовой коэффициент\n",
    "\n",
    "Модель: вес прибавляется пропорционально квадрату прибавки роста \n",
    "\n"
   ]
  },
  {
   "cell_type": "markdown",
   "metadata": {
    "slideshow": {
     "slide_type": "slide"
    }
   },
   "source": [
    "### Пример. Коэффициент энцефализации\n",
    "\n",
    "![](Brain_and_body_masses.png)\n"
   ]
  },
  {
   "cell_type": "markdown",
   "metadata": {},
   "source": [
    "О. Снелл в 1891 году опубликовал известную работу о сравнении интеллекта различных видов животных.\n",
    "\n",
    "Snell 0., Das Gewicht des Gehirnes und der Hirnmantels der Saugethiere in Beziehung zu deren geistigen Fähigkeiten, Sitzungsberichte der Gesellschafl für Morphologie und Physiologie in München, 7, 90-—94, 1891."
   ]
  },
  {
   "cell_type": "markdown",
   "metadata": {
    "slideshow": {
     "slide_type": "slide"
    }
   },
   "source": [
    "### Пример. Квартет Энскомба\n",
    "\n",
    "![full](anscombe.png)\n",
    "\n",
    "\n",
    "| Характеристика | $x$ | $y$\n",
    "|:|-|\n",
    "|Среднее значение | 9.0 | 7.5\n",
    "|Дисперсия | 11.000 | 4.125\n",
    "|Корреляция <td colspan=2> 0.816</td>\n",
    "|Линия регрессия <td colspan=2> $ y = 3 + 0.5x $</td>\n",
    "\n",
    "https://en.wikipedia.org/wiki/Anscombe's_quartet"
   ]
  },
  {
   "cell_type": "markdown",
   "metadata": {
    "slideshow": {
     "slide_type": "notes"
    }
   },
   "source": [
    "3-й и 4-й наборы - примеры пагубного влияния выбросов.\n",
    "\n",
    "2-й набор - образец квадратичной функции - параболы. "
   ]
  },
  {
   "cell_type": "markdown",
   "metadata": {
    "collapsed": true,
    "slideshow": {
     "slide_type": "slide"
    }
   },
   "source": [
    "## Выбросы: удалять или пристально изучать?"
   ]
  },
  {
   "cell_type": "markdown",
   "metadata": {
    "slideshow": {
     "slide_type": "-"
    }
   },
   "source": [
    "![](https://www.researchgate.net/profile/Tetsu_Sato/publication/45508576/figure/fig3/AS:277081624727554@1443072815210/Figure-5-a-Allometry-for-SSD-inconsistent-with-Rensch's-rule-in-L-callipterus-The.png)\n",
    "\n",
    "(a) Allometry for SSD inconsistent with Rensch's rule in L . callipterus . The light line illustrates an isometric line (y=x), and the solid line represents the slope of the RMA regression of log (male size) on log (female size) across all the populations except Rumonge. 10 10 The linear relationship was broken when Rumonge (a blank circle) was included ( F =1.41, P >0.28), suggesting that Rumonge was out 1,5 of the allometric relationship. (b) Shell size well explained the interpopulation variation in SSD. A line represents a linear regression line across all the populations except Rumonge. The relationship was violated when Rumonge was included ( F =1.33, P >0.30). 1,5 \n",
    "\n",
    "[Ota K., Kohda M., Sato T. Unusual allometry for sexual size dimorphism in a cichlid where males are extremely larger than females //Journal of Biosciences. – 2010. – Т. 35. – №. 2. – С. 257-265.](http://link.springer.com/article/10.1007/s12038-010-0030-6)"
   ]
  },
  {
   "cell_type": "markdown",
   "metadata": {
    "slideshow": {
     "slide_type": "slide"
    }
   },
   "source": [
    "![](https://www.researchgate.net/profile/Tetsu_Sato/publication/45508576/figure/fig1/AS:277081620533258@1443072815003/Figure-1-Pictures-of-Lamprologus-callipterus-in-the-wild-a-A-pair-in-Wonzye-Point.png)\n",
    "\n",
    "Pictures of Lamprologus callipterus in the wild. (a) A pair in Wonzye Point. The larger individual is a nest male. (b) He defends a clump of the shells (i.e. nest). (c) A female provides care for her brood in a shell. \n",
    "\n",
    "[Ota K., Kohda M., Sato T. Unusual allometry for sexual size dimorphism in a cichlid where males are extremely larger than females //Journal of Biosciences. – 2010. – Т. 35. – №. 2. – С. 257-265.](http://link.springer.com/article/10.1007/s12038-010-0030-6)"
   ]
  },
  {
   "cell_type": "markdown",
   "metadata": {
    "slideshow": {
     "slide_type": "slide"
    }
   },
   "source": [
    "## Анализ главных компонент \n",
    "\n",
    "На практике часто возникает задача анализа данных большой размерности. Метод анализ главных компонент позволяет решить эту задачу за счет уменьшения общего числа переменных.\n",
    "\n",
    "<b class=tag>редукция данных</b>"
   ]
  },
  {
   "cell_type": "markdown",
   "metadata": {
    "slideshow": {
     "slide_type": "notes"
    }
   },
   "source": [
    "для того, чтобы получить «главные» и «некоррелирующие» переменные;\n",
    "  – классификация переменных и наблюдений, при помощи строящегося факторного пространства.\n",
    "\n",
    "Метод имеет сходство с факторным анализом в постановочной части решаемых задач, но имеет ряд существенных отличий:\n",
    "   – при анализе главных компонент не используются итеративные методы для извлечения факторов;\n",
    "   – наряду с активными переменными и наблюдениями, используемыми для извлечения главных компонент, можно задать вспомогательные переменные и/или наблюдения; затем вспомогательные переменные и наблюдения проектируются на факторное пространство, вычисленное на основе активных переменных и наблюдений;\n",
    "   – перечисленные возможности позволяют использовать метод как мощное средство для классификации одновременно переменных и наблюдений.\n",
    "\n",
    "Решение основной задачи метода достигается созданием векторного пространства латентных (скрытых) переменных (факторов) с размерностью меньше исходной. Исходная размерность определяется числом переменных для анализа в исходных данных."
   ]
  },
  {
   "cell_type": "markdown",
   "metadata": {
    "slideshow": {
     "slide_type": "slide"
    }
   },
   "source": [
    "Главный компонент - ось, совокупное расстояние до которой минимально.\n",
    "\n",
    "![](PCA_rotation.png)"
   ]
  },
  {
   "cell_type": "markdown",
   "metadata": {
    "slideshow": {
     "slide_type": "slide"
    }
   },
   "source": [
    "## Редукция размерности\n",
    "\n",
    "![Примеры избыточной размерности](dimred1.png)\n",
    "\n",
    "Данные предположительно лежат на d-мерном подпространстве\n",
    "\n",
    "Оси этих подпространств, показанные красным, эффективно представляют данные"
   ]
  },
  {
   "cell_type": "markdown",
   "metadata": {
    "slideshow": {
     "slide_type": "slide"
    }
   },
   "source": [
    "Минимальная размерность данных - ранг матрицы\n",
    "\n",
    "Что такое ранг матрицы A?\n",
    "    : Количество линейно незавимых столбцов A\n",
    "    \n",
    "Геометрически данные находятся в пространстве меньшей размерности - **базис**, но базис повернут так, что представление данных избыточно за счет использования дополнительных координат - **надстройка**"
   ]
  },
  {
   "cell_type": "markdown",
   "metadata": {
    "slideshow": {
     "slide_type": "slide"
    }
   },
   "source": [
    "Данное направление активно развивалось в 60-х годах 20-го века. \"Физикам\" открывались невиданные горизонты использования методов линейной алгебры.\n",
    "Стали применятся на практике уже давно доказанные теоремы о возможности сингулярного разложения матриц, о дискриминантах, о Гильбертовых пространствах, о неравенстве Фробениуса и о равенстве Парсеваля.\n",
    "\n",
    "В 80-х были разработаны эффективные компьютерные библиотеки для решения задач линейной алгебры, например LAPACK.\n",
    "\n",
    "В 00-х годах эти методы доступны во всех языках программирования примерно со сходной эффективностью. Но оказалось, что для манипулирования огромных массивов данных эти точные гарантированные методы слишком громоздки. Поэтому компьютерологи разрабатывают новые неточные, то эффективные методы для обращения с матрицами, в которых сотни миллионов строк и столбцов."
   ]
  },
  {
   "cell_type": "markdown",
   "metadata": {
    "slideshow": {
     "slide_type": "slide"
    }
   },
   "source": [
    "![thumb](dimred2.png)\n",
    "\n",
    "Цель редукции размерности - обнаружение истинной оси данных!\n",
    "\n",
    "Вместо того, чтобы представлять положение точки по двум координатам, мы может представлять положение каждой точки всего одной координатой (положение вдоль красной линии). \n",
    "\n",
    "При этом мы пренебрегаем небольшой ошибкой из-за того, что точки не лежат точно на данной линии."
   ]
  },
  {
   "cell_type": "markdown",
   "metadata": {
    "slideshow": {
     "slide_type": "slide"
    }
   },
   "source": [
    "### Зачем уменьшать размерность?\n",
    "\n",
    "\n",
    "- обнаружить скрытые корреляции / кластеры\n",
    "\n",
    "- убрать избыточные или неинформативные данные (шум)\n",
    "\n",
    "- легче интерпретировать и визуализировать многомерные массивы\n",
    "\n",
    "- удобнее хранить и обрабатывать большие данные"
   ]
  },
  {
   "cell_type": "markdown",
   "metadata": {
    "collapsed": true,
    "slideshow": {
     "slide_type": "slide"
    }
   },
   "source": [
    "## Факторный анализ. \n",
    "\n",
    "*Факторный анализ* – один из наиболее популярных многомерных статистических методов. Если кластерный и дискриминантный методы классифицируют наблюдения, разделяя их на группы однородности, то факторный анализ классифицирует признаки (переменные), описывающие наблюдения. Поэтому главная цель факторного анализа – сокращение числа переменных на основе классификация переменных и определения структуры взаимосвязей между ними. Сокращение достигается путем выделения скрытых (латентных) общих факторов, объясняющих связи между наблюдаемыми признаками объекта, т.е. вместо исходного набора переменных появится возможность анализировать данные по выделенным факторам, число которых значительно меньше исходного числа взаимосвязанных переменных."
   ]
  },
  {
   "cell_type": "markdown",
   "metadata": {
    "slideshow": {
     "slide_type": "slide"
    }
   },
   "source": [
    "## Singular Value Decomposition\n",
    "\n",
    "- Классическое SVD\n",
    "- Ненегативное двойное - Nonnegative Double Singular Value Decomposition (NNDSVD) [Boutsidis2007]"
   ]
  },
  {
   "cell_type": "markdown",
   "metadata": {
    "slideshow": {
     "slide_type": "slide"
    }
   },
   "source": [
    "## Matrix Factorization Methods¶\n",
    "\n",
    "-        BD - Bayesian nonnegative matrix factorization Gibbs sampler [Schmidt2009]\n",
    "-        BMF - Binary matrix factorization [Zhang2007]\n",
    "-        ICM - Iterated conditional modes nonnegative matrix factorization [Schmidt2009]\n",
    "-        LFNMF - Fisher nonnegative matrix factorization for learning local features [Wang2004], [Li2001]\n",
    "-        LSNMF - Alternating nonnegative least squares matrix factorization using projected gradient method for subproblems [Lin2007]\n",
    "-        NMF - Standard nonnegative matrix factorization with Euclidean / Kullback-Leibler update equations and Frobenius / divergence / connectivity cost functions [Lee2001], [Brunet2004]\n",
    "-        NSNMF - Nonsmooth nonnegative matrix factorization [Montano2006]\n",
    "-        PMF - Probabilistic nonnegative matrix factorization [Laurberg2008], [Hansen2008]\n",
    "-        PSMF - Probabilistic sparse matrix factorization [Dueck2005], [Dueck2004], [Srebro2001], [Li2007]\n",
    "-        SNMF - Sparse nonnegative matrix factorization based on alternating nonnegativity constrained least squares [Park2007]\n",
    "-        SNMNMF - Sparse network-regularized multiple nonnegative matrix factorization [Zhang2011]\n",
    "-        PMFCC - Penalized Matrix Factorization for Constrained Clustering [FWang2008]\n",
    "\n",
    "http://nimfa.biolab.si/index.html\n"
   ]
  },
  {
   "cell_type": "markdown",
   "metadata": {
    "slideshow": {
     "slide_type": "slide"
    }
   },
   "source": [
    "## ICA Independent Component Analysis\n",
    "\n",
    "Наглядно разделение компонентов показано на \n",
    "[страничке разработчиков FastICA](http://research.ics.aalto.fi/ica/icademo/)"
   ]
  },
  {
   "cell_type": "markdown",
   "metadata": {
    "collapsed": true,
    "slideshow": {
     "slide_type": "skip"
    }
   },
   "source": [
    "### &copy;\n",
    "\n",
    "Brain_and_body_masses.png Автор: AdmiralHood - собственная работа, CC BY-SA 3.0, https://commons.wikimedia.org/w/index.php?curid=34938309"
   ]
  }
 ],
 "metadata": {
  "celltoolbar": "Slideshow",
  "kernelspec": {
   "display_name": "Python 3",
   "language": "python",
   "name": "python3"
  },
  "language_info": {
   "codemirror_mode": {
    "name": "ipython",
    "version": 3
   },
   "file_extension": ".py",
   "mimetype": "text/x-python",
   "name": "python",
   "nbconvert_exporter": "python",
   "pygments_lexer": "ipython3",
   "version": "3.7.1"
  },
  "toc": {
   "base_numbering": 1,
   "nav_menu": {
    "height": "272px",
    "width": "252px"
   },
   "number_sections": false,
   "sideBar": true,
   "skip_h1_title": false,
   "title_cell": "Table of Contents",
   "title_sidebar": "Contents",
   "toc_cell": false,
   "toc_position": {},
   "toc_section_display": "block",
   "toc_window_display": false
  }
 },
 "nbformat": 4,
 "nbformat_minor": 1
}
