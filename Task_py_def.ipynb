{
 "cells": [
  {
   "cell_type": "code",
   "execution_count": null,
   "metadata": {
    "collapsed": false
   },
   "outputs": [],
   "source": [
    "%pylab inline"
   ]
  },
  {
   "cell_type": "markdown",
   "metadata": {},
   "source": [
    "# Функция\n",
    "\n",
    "Рассмотрим задачу расчета площади по известным ширине и длине. Гипотетически это может пригодиться при моделировании отбора формы лепестков при восприятии их насекомыми.\n",
    "\n",
    "![](iris_petal_sepal.png)"
   ]
  },
  {
   "cell_type": "markdown",
   "metadata": {},
   "source": [
    "Возьмем два измерения прилистника - длина и ширина. Приближенно будем считать, что прилистник имеет форму ромба, т.е. его площадь равна половине площади прямоугольника с теми же размерами."
   ]
  },
  {
   "cell_type": "code",
   "execution_count": null,
   "metadata": {
    "collapsed": false
   },
   "outputs": [],
   "source": [
    "l=5.9  #sepal length, см\n",
    "w=3.0  #sepal width, см\n",
    "(l*w)/2"
   ]
  },
  {
   "cell_type": "markdown",
   "metadata": {},
   "source": [
    "Для повторного использования мы создадим функцию, которую сможем повторно использовать для аналогичных расчетов.\n",
    "\n",
    "Определение функции начинается с оператора `def` (от англ. definition, определение).\n",
    "В функции можно включать произвольное количество команд для операций над данных и возращать итоговое значение с помощью команды `return` (возвратить)."
   ]
  },
  {
   "cell_type": "code",
   "execution_count": null,
   "metadata": {
    "collapsed": false
   },
   "outputs": [],
   "source": [
    "def ploshad(l, w):\n",
    "    '''расчитывает площадь лепестка'''\n",
    "    return (l*w)/2\n",
    "\n",
    "ploshad(l, w)"
   ]
  },
  {
   "cell_type": "code",
   "execution_count": null,
   "metadata": {
    "collapsed": false
   },
   "outputs": [],
   "source": [
    "ploshad(6.3, 2.5)"
   ]
  },
  {
   "cell_type": "markdown",
   "metadata": {},
   "source": [
    "Есть также специальная форма записи определения функции в одну строчку, получившая название - ламбда. Это упрощенная запись, где после двоеточия идет выражение, результат выполнения которого возвращается (команда return не используется)."
   ]
  },
  {
   "cell_type": "code",
   "execution_count": null,
   "metadata": {
    "collapsed": false
   },
   "outputs": [],
   "source": [
    "ploshad_v_1_strochku = lambda l,w: 0.5*l*w\n",
    "\n",
    "ploshad_v_1_strochku(6.3, 2.5)"
   ]
  },
  {
   "cell_type": "markdown",
   "metadata": {},
   "source": [
    "Поскольку лепесток имеет форму более округлую, чем ромб, то и реальная его площадь чуть больше, чем половина прямоугольника. \n",
    "\n",
    "*Коэффициент* - множитель, с помощью которого мы регулируем эффект основной величины. \n",
    "\n",
    "Введем коэффициент в функцию как изменяемый параметр, наделив его значением по-умолчанию."
   ]
  },
  {
   "cell_type": "code",
   "execution_count": null,
   "metadata": {
    "collapsed": false
   },
   "outputs": [],
   "source": [
    "def ploshad(l, w, k=0.6):\n",
    "    '''расчитывает площадь лепестка\n",
    "    \n",
    "    ver 1.1\n",
    "    '''\n",
    "    return k*(l*w)\n",
    "\n",
    "ploshad(l, w)"
   ]
  },
  {
   "cell_type": "code",
   "execution_count": null,
   "metadata": {
    "collapsed": false
   },
   "outputs": [],
   "source": [
    "ploshad(l, w, 0.5)"
   ]
  },
  {
   "cell_type": "code",
   "execution_count": null,
   "metadata": {
    "collapsed": false
   },
   "outputs": [],
   "source": [
    "ploshad(l, w, k=0.5)"
   ]
  },
  {
   "cell_type": "code",
   "execution_count": null,
   "metadata": {
    "collapsed": false
   },
   "outputs": [],
   "source": [
    "k=0.5\n",
    "ploshad(l, w, k)"
   ]
  },
  {
   "cell_type": "markdown",
   "metadata": {},
   "source": [
    "Данная функция будет работать с любыми типами входных данных, поддерживающих операцию умножения.\n",
    "\n",
    "Например, `pandas.Series`"
   ]
  },
  {
   "cell_type": "code",
   "execution_count": null,
   "metadata": {
    "collapsed": false
   },
   "outputs": [],
   "source": [
    "import seaborn as sns\n",
    "D = sns.load_dataset('iris')\n",
    "type(D.sepal_length)"
   ]
  },
  {
   "cell_type": "markdown",
   "metadata": {},
   "source": [
    "Посчитаем площадь прилистников для всех 150 экземпляров ирисов в наборе данных."
   ]
  },
  {
   "cell_type": "code",
   "execution_count": null,
   "metadata": {
    "collapsed": false
   },
   "outputs": [],
   "source": [
    "ploshad(D.sepal_length, D.sepal_width)"
   ]
  },
  {
   "cell_type": "markdown",
   "metadata": {},
   "source": [
    "Чтобы использовать эту же формулу для расчета площади внутренних лепестков околоцветников, можно подкорректировать коэффициент `k`."
   ]
  },
  {
   "cell_type": "code",
   "execution_count": null,
   "metadata": {
    "collapsed": false
   },
   "outputs": [],
   "source": [
    "S = ploshad(D.petal_length, D.petal_width, k=0.55)\n",
    "S.hist();"
   ]
  },
  {
   "cell_type": "markdown",
   "metadata": {},
   "source": [
    "### &copy;\n",
    "\n",
    "http://sebastianraschka.com/Articles/2014_python_lda.html"
   ]
  }
 ],
 "metadata": {
  "kernelspec": {
   "display_name": "Python 3",
   "language": "python",
   "name": "python3"
  },
  "language_info": {
   "codemirror_mode": {
    "name": "ipython",
    "version": 3
   },
   "file_extension": ".py",
   "mimetype": "text/x-python",
   "name": "python",
   "nbconvert_exporter": "python",
   "pygments_lexer": "ipython3",
   "version": "3.5.2"
  },
  "toc": {
   "colors": {
    "hover_highlight": "#DAA520",
    "running_highlight": "#FF0000",
    "selected_highlight": "#FFD700"
   },
   "moveMenuLeft": true,
   "nav_menu": {
    "height": "31px",
    "width": "252px"
   },
   "navigate_menu": true,
   "number_sections": false,
   "sideBar": true,
   "threshold": 4,
   "toc_cell": false,
   "toc_section_display": "block",
   "toc_window_display": false
  }
 },
 "nbformat": 4,
 "nbformat_minor": 2
}
