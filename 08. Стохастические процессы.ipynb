{
 "cells": [
  {
   "cell_type": "code",
   "execution_count": 1,
   "metadata": {
    "slideshow": {
     "slide_type": "skip"
    }
   },
   "outputs": [
    {
     "name": "stdout",
     "output_type": "stream",
     "text": [
      "Populating the interactive namespace from numpy and matplotlib\n"
     ]
    }
   ],
   "source": [
    "%pylab inline\n",
    "from ipywidgets import interact\n",
    "import seaborn as sns"
   ]
  },
  {
   "cell_type": "markdown",
   "metadata": {
    "slideshow": {
     "slide_type": "slide"
    }
   },
   "source": [
    "# Стохастические процессы"
   ]
  },
  {
   "cell_type": "markdown",
   "metadata": {
    "slideshow": {
     "slide_type": "slide"
    }
   },
   "source": [
    "## Случайные числа"
   ]
  },
  {
   "cell_type": "code",
   "execution_count": 2,
   "metadata": {},
   "outputs": [
    {
     "data": {
      "text/plain": [
       "0.7889014924208672"
      ]
     },
     "execution_count": 2,
     "metadata": {},
     "output_type": "execute_result"
    }
   ],
   "source": [
    "rand()"
   ]
  },
  {
   "cell_type": "markdown",
   "metadata": {
    "slideshow": {
     "slide_type": "slide"
    }
   },
   "source": [
    "## ГСЧ"
   ]
  },
  {
   "cell_type": "code",
   "execution_count": 69,
   "metadata": {},
   "outputs": [
    {
     "data": {
      "text/plain": [
       "(0.36965284241372265,\n",
       " 0.8347295115297049,\n",
       " 0.4506043466260953,\n",
       " 0.177089259846544)"
      ]
     },
     "execution_count": 69,
     "metadata": {},
     "output_type": "execute_result"
    }
   ],
   "source": [
    "seed(1)\n",
    "rand(), rand(), rand(), rand()"
   ]
  },
  {
   "cell_type": "markdown",
   "metadata": {
    "slideshow": {
     "slide_type": "notes"
    }
   },
   "source": [
    "Чтобы случайный алгоритм показывал всякий раз одну и ту же картинку, например, для демонстрации, используют команду инициализации seed "
   ]
  },
  {
   "cell_type": "markdown",
   "metadata": {
    "slideshow": {
     "slide_type": "slide"
    }
   },
   "source": [
    "## Генерация выборки"
   ]
  },
  {
   "cell_type": "code",
   "execution_count": 81,
   "metadata": {},
   "outputs": [
    {
     "data": {
      "text/plain": [
       "array([[0.60542378, 0.40281051, 0.64921891],\n",
       "       [0.52168139, 0.44923976, 0.80134378],\n",
       "       [0.30642887, 0.74171681, 0.9763064 ],\n",
       "       [0.2602385 , 0.33611348, 0.36459792],\n",
       "       [0.05903783, 0.11041004, 0.47088902]])"
      ]
     },
     "execution_count": 81,
     "metadata": {},
     "output_type": "execute_result"
    }
   ],
   "source": [
    "rand(5,3)"
   ]
  },
  {
   "cell_type": "code",
   "execution_count": 99,
   "metadata": {
    "slideshow": {
     "slide_type": "slide"
    }
   },
   "outputs": [
    {
     "data": {
      "image/png": "[encoded data removed]",
      "text/plain": [
       "<Figure size 432x288 with 1 Axes>"
      ]
     },
     "metadata": {
      "needs_background": "light"
     },
     "output_type": "display_data"
    }
   ],
   "source": [
    "x = rand(1000)\n",
    "hist(x);"
   ]
  },
  {
   "cell_type": "markdown",
   "metadata": {
    "slideshow": {
     "slide_type": "notes"
    }
   },
   "source": [
    "значения равномерно распределены в диапазоне"
   ]
  },
  {
   "cell_type": "code",
   "execution_count": 4,
   "metadata": {
    "slideshow": {
     "slide_type": "slide"
    }
   },
   "outputs": [
    {
     "data": {
      "image/png": "[encoded data removed]",
      "text/plain": [
       "<Figure size 600x400 with 1 Axes>"
      ]
     },
     "metadata": {},
     "output_type": "display_data"
    }
   ],
   "source": [
    "x = randn(1000)\n",
    "hist(x);"
   ]
  },
  {
   "cell_type": "code",
   "execution_count": 17,
   "metadata": {
    "slideshow": {
     "slide_type": "slide"
    }
   },
   "outputs": [
    {
     "data": {
      "image/png": "[encoded data removed]",
      "text/plain": [
       "<Figure size 1200x500 with 1 Axes>"
      ]
     },
     "metadata": {},
     "output_type": "display_data"
    }
   ],
   "source": [
    "@interact(order=(1,5), mu=(-3,5), sigma=(0.1, 10))\n",
    "def _pic(order=2, mu=0, sigma=1.):\n",
    "    figure(figsize=(12,5))\n",
    "    xlim(-5,5)\n",
    "    n = 10**order\n",
    "    x = sigma*randn(n) + mu\n",
    "    hist(x);"
   ]
  },
  {
   "cell_type": "markdown",
   "metadata": {
    "slideshow": {
     "slide_type": "slide"
    }
   },
   "source": [
    "### Нормальное распределение\n",
    "\n",
    "Есть несколько тестов для проверки нормальности.\n",
    "\n",
    "Можно построить гистограмму и оценить распределение визуально. Даже если написать, что мы использовали параметрическую статистику несмотря на некоторое нарушение нормальности, никто не будет придираться.\n",
    "\n",
    "Наиболее уважаемый из научно-обоснованных тестов для проверки нормальности - тест Холмогорова-Смирнова для сравнения эмпирического распределения с заданным теоретическим. В качестве теоретического задается нормальное с известными средним и дисперсией.\n",
    "\n",
    "Если средне и дисперсия неизвестны, то их можно оценить по эмпирическим данным. Такой подход встречается с названием тест Лиллифорса. \n",
    "\n",
    "Lilliefors, H. W. (1967). On the Kolmogorov-Smirnov Test for Normality\n",
    "    with Mean and Variance Unknown. Journal of the American Statistical Association, 62(318), 399–402."
   ]
  },
  {
   "cell_type": "markdown",
   "metadata": {
    "slideshow": {
     "slide_type": "slide"
    }
   },
   "source": [
    "## Идея повторных измерений\n",
    "\n",
    "базируется на предположении, что в основе стационарный процесс.\n",
    "\n",
    "$$ y = \\mu + \\epsilon $$"
   ]
  },
  {
   "cell_type": "markdown",
   "metadata": {
    "slideshow": {
     "slide_type": "fragment"
    }
   },
   "source": [
    "$$ \\epsilon = N(0, \\sigma^2) $$"
   ]
  },
  {
   "cell_type": "markdown",
   "metadata": {
    "slideshow": {
     "slide_type": "fragment"
    }
   },
   "source": [
    "чем больше измерений, тем точнее оценка.\n"
   ]
  },
  {
   "cell_type": "markdown",
   "metadata": {
    "slideshow": {
     "slide_type": "slide"
    }
   },
   "source": [
    "Повторы нужны для надежной оценки исследуемого феномена.\n",
    "Оценку можно давать уже после однократного наблюдения, но она будет ненадежной.\n",
    "\n",
    "**Надежность** - это характеристика информационного канала о его способности передать сообщение без ошибок."
   ]
  },
  {
   "cell_type": "markdown",
   "metadata": {
    "slideshow": {
     "slide_type": "slide"
    }
   },
   "source": [
    "Виды повторов:\n",
    "- \"неисчерпаемые\"\n",
    "- исчерпаемые\n",
    "- исчерпаемые с повторами"
   ]
  },
  {
   "cell_type": "markdown",
   "metadata": {
    "slideshow": {
     "slide_type": "slide"
    }
   },
   "source": [
    "***Стационарные процессы*** - изменения случайные (стохастические) в пределах какого-то распределения."
   ]
  },
  {
   "cell_type": "markdown",
   "metadata": {
    "slideshow": {
     "slide_type": "fragment"
    }
   },
   "source": [
    "Распределение определяет примерный контур, в пределах которого будут варьировать значения.\n",
    "\n",
    "Примеры:\n",
    "- Гауссовские процессы.\n",
    "- Пуассоновские процессы.\n"
   ]
  },
  {
   "cell_type": "markdown",
   "metadata": {
    "slideshow": {
     "slide_type": "slide"
    }
   },
   "source": [
    "### Распределения\n",
    "\n",
    "Способ распределения значений в пределах диапазона измерений.\n",
    "\n",
    "Распределение Гаусса, нормальное\n",
    "\n",
    "Гауссиана - кривая"
   ]
  },
  {
   "cell_type": "markdown",
   "metadata": {
    "slideshow": {
     "slide_type": "slide"
    }
   },
   "source": [
    "Распределений разных много. Большинство - производные от нормального. Они нужны для специального описания тех случаев, где нормальное становится неточным.\n",
    "\n",
    "Пример. У лукоморья дуб зеленый.\n",
    "\n",
    "Желуди падают - больше всего вокруг ствола, поменьше под краем кроны, некоторые разбрасывает ветром вокруг. Примерно гауссово двухмерное. Сойка схватила, отнесла подальше и уронила - выброс. Артефакт - вмешалась внешняя неконтролируемая сила.\n",
    "\n",
    "Чтобы желудь пророс надо, чтобы его не съели.\n",
    "Если придет кабанчик, то будет есть там, где концентрация максимальна - у ствола.\n",
    "А вот маленькая полевка, живущая в пределах кроны, будет собирать ближайшие к норке желуди. Длина пробежки за одним желудем будет постепенно расти по мере того, как желуди поблизости уже собраны."
   ]
  },
  {
   "cell_type": "markdown",
   "metadata": {
    "slideshow": {
     "slide_type": "slide"
    }
   },
   "source": [
    "Пример. Распределение Райса. Расстояние до источника на местности, из которого распространяется сигнал по нормальному закону во все стороны.\n",
    "\n",
    "![](Rice_distribution_motivation.svg.png)\n",
    "\n",
    "![](Rice_distributiona_PDF.png)\n",
    "\n",
    "Райсианна - кривая."
   ]
  },
  {
   "cell_type": "markdown",
   "metadata": {
    "slideshow": {
     "slide_type": "slide"
    }
   },
   "source": [
    "***Нестационарные процессы*** описываются распределениям:\n",
    "- экспоненциальное\n",
    "- Уальда"
   ]
  },
  {
   "cell_type": "markdown",
   "metadata": {
    "slideshow": {
     "slide_type": "slide"
    }
   },
   "source": [
    "## Capture-Recapture Models\n",
    "\n",
    "Процедура: поймали - пометили - отпустили\n",
    "\n",
    "Alunni Fegatelli, D. and Tardella, L. (2012) Improved inference on capture recapture models with behavioural effects. Statistical Methods & Applications Applications Volume 22, Issue 1, pp 45-66 10.1007/s10260-012-0221-4 https://link.springer.com/article/10.1007/s10260-012-0221-4\n"
   ]
  },
  {
   "cell_type": "markdown",
   "metadata": {
    "slideshow": {
     "slide_type": "skip"
    }
   },
   "source": [
    "https://link.springer.com/article/10.1198/108571101750524670\n",
    "\n",
    "\n",
    "Spatial Capture–Recapture Models\n",
    "https://www.stat.auckland.ac.nz/~fewster/Borchers_Fewster_SCR_StatSci.pdf\n"
   ]
  },
  {
   "cell_type": "markdown",
   "metadata": {
    "slideshow": {
     "slide_type": "slide"
    }
   },
   "source": [
    "## Экспериментальная генерация данных\n",
    "\n",
    "Фиксируются условия (кондиции) по возможности. Далее включается генератор данных. Данных собирается столько, сколько возможно, пока \"генератор не сломается\".\n",
    "\n",
    "Пример. Посадили человека за компьютер. Задание в ответ на появление стимула - нажимать на кнопку. Условие прекращения - человеку надоест. Если не надоест, то он устанет (изменится функциональное состояние) и нажатия будут уже не те."
   ]
  },
  {
   "cell_type": "markdown",
   "metadata": {
    "slideshow": {
     "slide_type": "slide"
    }
   },
   "source": [
    "Каждое следующее измерение отличается от предыдущего - может быть немного больше или немного меньше.\n",
    "\n",
    "Изменение (вариация) - расхождение значения с предыдущими."
   ]
  }
 ],
 "metadata": {
  "celltoolbar": "Slideshow",
  "kernelspec": {
   "display_name": "Python 3",
   "language": "python",
   "name": "python3"
  },
  "language_info": {
   "codemirror_mode": {
    "name": "ipython",
    "version": 3
   },
   "file_extension": ".py",
   "mimetype": "text/x-python",
   "name": "python",
   "nbconvert_exporter": "python",
   "pygments_lexer": "ipython3",
   "version": "3.7.1"
  },
  "toc": {
   "base_numbering": 1,
   "nav_menu": {
    "height": "86px",
    "width": "252px"
   },
   "number_sections": false,
   "sideBar": true,
   "skip_h1_title": false,
   "title_cell": "Table of Contents",
   "title_sidebar": "Contents",
   "toc_cell": false,
   "toc_position": {},
   "toc_section_display": "block",
   "toc_window_display": false
  }
 },
 "nbformat": 4,
 "nbformat_minor": 1
}
