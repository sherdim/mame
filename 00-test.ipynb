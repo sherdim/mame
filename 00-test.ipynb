{
 "cells": [
  {
   "cell_type": "markdown",
   "metadata": {
    "deletable": true,
    "editable": true,
    "slideshow": {
     "slide_type": "slide"
    }
   },
   "source": [
    "# Тест стилей\n",
    "\n",
    "<link rel=\"stylesheet\" href=\"custom/custom.css\" type=\"text/css\">"
   ]
  },
  {
   "cell_type": "markdown",
   "metadata": {
    "deletable": true,
    "editable": true,
    "slideshow": {
     "slide_type": "slide"
    }
   },
   "source": [
    "### Рисунок справа\n",
    "\n",
    "![thumb](tms1.jpg)\n",
    "\n",
    "Катушка щелкает при подаче магнитного импульса. На щелчок в мозгу развивается ответ, активируется непроизвольное внимание.\n",
    "\n"
   ]
  },
  {
   "cell_type": "markdown",
   "metadata": {
    "deletable": true,
    "editable": true,
    "slideshow": {
     "slide_type": "slide"
    }
   },
   "source": [
    "## HTML\n",
    "\n",
    "### Markdown\n",
    "\n",
    "*Планирование экспериментов* - расположение **жирный**. \n",
    "\n",
    "![IMG tag]()\n",
    "\n",
    "\n",
    "### Raw \n",
    "\n",
    "<p class=tag>P tag</p>\n",
    "![B tag]()\n",
    "<p class=tag>P tag</p>\n",
    "\n",
    "<span class=tag>SPAN tag</span>\n",
    "\n",
    "\n",
    "<p title=\"tag\">P title</p>\n",
    "\n",
    "<p alt=\"tag\">P alt</p>\n",
    "\n",
    "\n",
    "<p>P prosto <b>B vnutri</b> prodolzhenie</p>\n",
    "\n",
    "<b>B prosto</b>\n",
    "\n",
    "<b>B1</b>\n",
    "<b>B2</b>\n",
    "<b>B3</b>\n",
    "\n",
    "\n",
    "<p class=\"tag\">P tag2</p>\n",
    "\n",
    "<b class=\"tag\">B tag2</b>\n"
   ]
  },
  {
   "cell_type": "code",
   "execution_count": 1,
   "metadata": {
    "collapsed": false,
    "deletable": true,
    "editable": true
   },
   "outputs": [
    {
     "data": {
      "text/html": [
       "<style>\n",
       "img[alt=thumb] {\n",
       " float: right;\n",
       " max-width:25%; \n",
       "}\n",
       ".rendered_html p[title=tag],\n",
       ".rendered_html img[src=\"\"],\n",
       ".tag{background:#ffff93; border: 1px solid orange; font-weight: bold; display: inline;\n",
       "    padding: 3px 6px 3px 11px; border-radius: 7px 0px 0px 7px; white-space: nowrap;}\n",
       ".tag:before {content:'o '; color:orange; }\n",
       ".rendered_html blockquote cite{\n",
       "text-align:right;\n",
       "    display: block;\n",
       "}\n",
       "</style>"
      ],
      "text/plain": [
       "<IPython.core.display.HTML object>"
      ]
     },
     "execution_count": 1,
     "metadata": {},
     "output_type": "execute_result"
    }
   ],
   "source": [
    "from IPython.core.display import HTML\n",
    "HTML('<style>\\n{}</style>'.format(open(\"custom.css\").read()))"
   ]
  }
 ],
 "metadata": {
  "kernelspec": {
   "display_name": "Python 2",
   "language": "python",
   "name": "python2"
  },
  "language_info": {
   "codemirror_mode": {
    "name": "ipython",
    "version": 2
   },
   "file_extension": ".py",
   "mimetype": "text/x-python",
   "name": "python",
   "nbconvert_exporter": "python",
   "pygments_lexer": "ipython2",
   "version": "2.7.9"
  },
  "toc": {
   "colors": {
    "hover_highlight": "#DAA520",
    "running_highlight": "#FF0000",
    "selected_highlight": "#FFD700"
   },
   "moveMenuLeft": true,
   "nav_menu": {
    "height": "269px",
    "width": "252px"
   },
   "navigate_menu": true,
   "number_sections": false,
   "sideBar": true,
   "threshold": 4,
   "toc_cell": false,
   "toc_section_display": "block",
   "toc_window_display": false
  }
 },
 "nbformat": 4,
 "nbformat_minor": 0
}
