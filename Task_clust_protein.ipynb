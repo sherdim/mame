{
 "cells": [
  {
   "cell_type": "markdown",
   "metadata": {},
   "source": [
    "# Кластерный анализ"
   ]
  },
  {
   "cell_type": "markdown",
   "metadata": {},
   "source": [
    "\n",
    "![](https://dfzljdn9uc3pi.cloudfront.net/2015/732/1/fig-1-1x.jpg)\n",
    "\n",
    "ANK, TPR, and ARM repeat structure and incidence across all domains of life.\n",
    "\n",
    "(A) Schematics of the structures of the ANK (Mosavi et al., 2004), TPR (Main et al., 2005), and ARM (Parmeggiani et al., 2008) repeats. \n",
    "\n",
    "(B) Table indicating the percent of species in each taxonomic domain that contain ≥ 1 TPR, ARM, or ANK-containing protein."
   ]
  },
  {
   "cell_type": "markdown",
   "metadata": {},
   "source": []
  },
  {
   "cell_type": "markdown",
   "metadata": {},
   "source": [
    "Jernigan K. K., Bordenstein S. R. Tandem-repeat protein domains across the tree of life //PeerJ. – 2015. – Т. 3. – С. e732. https://peerj.com/articles/732/"
   ]
  },
  {
   "cell_type": "code",
   "execution_count": null,
   "metadata": {
    "collapsed": true
   },
   "outputs": [],
   "source": []
  }
 ],
 "metadata": {
  "kernelspec": {
   "display_name": "Python 2",
   "language": "python",
   "name": "python2"
  },
  "language_info": {
   "codemirror_mode": {
    "name": "ipython",
    "version": 2
   },
   "file_extension": ".py",
   "mimetype": "text/x-python",
   "name": "python",
   "nbconvert_exporter": "python",
   "pygments_lexer": "ipython2",
   "version": "2.7.11"
  },
  "toc": {
   "colors": {
    "hover_highlight": "#DAA520",
    "running_highlight": "#FF0000",
    "selected_highlight": "#FFD700"
   },
   "moveMenuLeft": true,
   "nav_menu": {
    "height": "30px",
    "width": "252px"
   },
   "navigate_menu": true,
   "number_sections": false,
   "sideBar": true,
   "threshold": 4,
   "toc_cell": false,
   "toc_section_display": "block",
   "toc_window_display": false
  }
 },
 "nbformat": 4,
 "nbformat_minor": 0
}
