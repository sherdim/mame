{
 "cells": [
  {
   "cell_type": "markdown",
   "metadata": {},
   "source": [
    "# Настройка рабочей среды\n",
    "\n",
    "\n",
    "Для комфортной работы рекомендуется установить рабочую среду на своем компьютере или работать в классе.\n",
    "\n",
    "В классе установлена сборка [WinPython](http://winpython.github.io/), \n",
    "включающая универсальный язык программирования Python и много-много разных библиотек для научных рассчетов.\n",
    "Устанавливается в произвольную папку диска с ОС Windows. \n",
    "Может потребоваться установить пакет [Visual C++ для Visual Studio 2015](https://www.microsoft.com/ru-ru/download/details.aspx?id=48145)\n",
    "\n",
    "Для других систем см. сборки [`Anaconda`](https://www.anaconda.com/distribution/) и др."
   ]
  },
  {
   "cell_type": "markdown",
   "metadata": {},
   "source": [
    "Кто любит открывать файлы кликом мышки может попробовать [nteract](https://nteract.io/) - jupyter в виде десктоп приложения.\n",
    "\n",
    "Если нет возможности установить приложение на свой компьютер, можно попробовать пользоваться онлайн сервисом от компании Google https://colab.research.google.com/.\n",
    "\n",
    "Если нет доступа к компьютеру, то можно приходить работать в дисплейном классе во время консультаций или по договоренности с лаборантами."
   ]
  },
  {
   "cell_type": "markdown",
   "metadata": {},
   "source": [
    "## Освоение языка Python\n",
    "\n",
    "Для успешного прохождения курса потребуется знание основ программирования. Однако, для выполнения заданий достаточно обладать навыками логического мышления, так как все практические задачи могут быть решены \"по образцу\".\n",
    "\n",
    "Опытный программист мог бы решить задачу несколькими методами, например, с разным количеством строк кода. Поскольку при оценивании важен правильный результат, то \"красота кода\" и его оптимальность с точки зрения скорости выполнения учитываться не будут.\n",
    "\n",
    "[Практическое занятие 1](practicum1.ipynb) поможет освоить синтаксис языка Python."
   ]
  }
 ],
 "metadata": {
  "kernelspec": {
   "display_name": "Python 3",
   "language": "python",
   "name": "python3"
  },
  "language_info": {
   "codemirror_mode": {
    "name": "ipython",
    "version": 3
   },
   "file_extension": ".py",
   "mimetype": "text/x-python",
   "name": "python",
   "nbconvert_exporter": "python",
   "pygments_lexer": "ipython3",
   "version": "3.9.0rc1"
  },
  "toc": {
   "base_numbering": 1,
   "nav_menu": {},
   "number_sections": false,
   "sideBar": false,
   "skip_h1_title": false,
   "title_cell": "Table of Contents",
   "title_sidebar": "Contents",
   "toc_cell": false,
   "toc_position": {},
   "toc_section_display": true,
   "toc_window_display": false
  }
 },
 "nbformat": 4,
 "nbformat_minor": 4
}
