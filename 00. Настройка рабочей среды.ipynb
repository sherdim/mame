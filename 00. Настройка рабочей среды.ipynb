{
 "cells": [
  {
   "cell_type": "markdown",
   "metadata": {},
   "source": [
    "# Настройка рабочей среды"
   ]
  },
  {
   "cell_type": "markdown",
   "metadata": {},
   "source": [
    "<p></p><p></p><p><span style=\"float: none; display: inline !important;\">Для самостоятельного выполнения рекомендуется установить приложение на домашний компьютер:</span><a href=\"http://winpython.github.io/\" target=\"_blank\"> <b>WinPython </b>-</a><span style=\"float: none; display: inline !important;\"> г</span>отовая сборка Python + библиотеки (ссылка в последнем абзаце). Устанавливается в произвольную папку Windows. <span style=\"color: rgb(51, 51, 51); font-family: &quot;Helvetica Neue&quot;, Helvetica, Arial, sans-serif; font-size: 14px; font-style: normal; font-variant-ligatures: normal; font-variant-caps: normal; font-weight: normal; letter-spacing: normal; orphans: 2; text-align: left; text-indent: 0px; text-transform: none; white-space: normal; widows: 2; word-spacing: 0px; -webkit-text-stroke-width: 0px;  text-decoration-style: initial; text-decoration-color: initial; display: inline !important; float: none;\">Может потребоваться установить пакет&nbsp;</span><span style=\"color: inherit; font-family: inherit; font-size: 14px; font-style: normal; font-variant-ligatures: normal; font-variant-caps: normal; letter-spacing: normal; orphans: 2; text-align: left; text-indent: 0px; text-transform: none; white-space: normal; widows: 2; word-spacing: 0px; -webkit-text-stroke-width: 0px;  text-decoration-style: initial; text-decoration-color: initial; font-weight: bold;\"><a href=\"https://www.microsoft.com/ru-ru/download/details.aspx?id=48145\" target=\"_blank\"><span style=\"color: rgb(0, 112, 168); text-decoration-line: none; text-decoration-style: initial; text-decoration-color: initial;\">Visual C++ для Visual Studio 2015</span></a>.&nbsp;</span>Для других систем см. сборки Anaconda и др.</p><p><span style=\"color: rgb(51, 51, 51); font-family: &quot;Helvetica Neue&quot;, Helvetica, Arial, sans-serif; font-size: 14px; font-style: normal; font-variant-ligatures: normal; font-variant-caps: normal; font-weight: normal; letter-spacing: normal; orphans: 2; text-align: left; text-indent: 0px; text-transform: none; white-space: normal; widows: 2; word-spacing: 0px; -webkit-text-stroke-width: 0px;  text-decoration-style: initial; text-decoration-color: initial; display: inline !important; float: none;\">Кто любит открывать файлы кликом мышки может попробовать&nbsp;</span><a href=\"https://nteract.io/\" style=\"color: rgb(0, 112, 168); text-decoration-line: none; text-decoration-style: initial; text-decoration-color: initial; font-family: &quot;Helvetica Neue&quot;, Helvetica, Arial, sans-serif; font-size: 14px; font-style: normal; font-variant-ligatures: normal; font-variant-caps: normal; font-weight: normal; letter-spacing: normal; orphans: 2; text-align: left; text-indent: 0px; text-transform: none; white-space: normal; widows: 2; word-spacing: 0px; -webkit-text-stroke-width: 0px; \">nteract</a><span style=\"color: rgb(51, 51, 51); font-family: &quot;Helvetica Neue&quot;, Helvetica, Arial, sans-serif; font-size: 14px; font-style: normal; font-variant-ligatures: normal; font-variant-caps: normal; font-weight: normal; letter-spacing: normal; orphans: 2; text-align: left; text-indent: 0px; text-transform: none; white-space: normal; widows: 2; word-spacing: 0px; -webkit-text-stroke-width: 0px;  text-decoration-style: initial; text-decoration-color: initial; display: inline !important; float: none;\">&nbsp;- jupyter в виде десктоп приложения, пока бета-версия.</span><br></p><p></p><p><span style=\"float: none; display: inline !important;\">Если нет возможности установить приложение на свой компьютер, можно попробовать пользоваться онлайн сервисом от Microsoft <a href=\"https://notebooks.azure.com/\" target=\"_blank\">https://notebooks.azure.com/</a>. Инструкция:</span></p><ol><li><span style=\"float: none; display: inline !important;\">В верхнем правом углу нажать <a href=\"https://notebooks.azure.com/account/signin#\" ng-click=\"site.signin()\" title=\"Main Menu Sign In\">Sign In</a></span></li><li><span style=\"float: none; display: inline !important;\">Ввести электронную почту в домене sfedu.ru (от кабинета студента)<br></span></li><li><span style=\"float: none; display: inline !important;\">После перехода на страницу ЮФУ - ввести пароль</span></li><li><span style=\"float: none; display: inline !important;\">На запрос \"Не выходить из системы?\" ответить Да - если дома, Нет - если в кафе или в гостях.</span></li><li><span style=\"float: none; display: inline !important;\">Зайти в</span> My Projects (<a href=\"//youtu.be/8rNedfgvVEk?t=10\" target=\"_blank\">репчик по теме</a>) и создать новый проект mame.</li>\n",
    "<ul>\n",
    "<li>с нуля, нажав на \"+ New Project\"</li><li>на основе репозитория \"^ Upload Github Repo\" (см. картинку)</li></ul></ol>\n",
    "\n",
    "![](azure_upload.png)\n",
    "\n",
    "</ul>\n",
    "</ol>\n",
    "\n",
    "Внутри проекта можно подгрузить ресурсы с компьютера (стрелочка вверх / From Computer)<span style=\"float: none; display: inline !important;\"><br></span>\n",
    "<p></p>Если нет доступа к компьютеру, то можно приходить работать в дисплейном классе во время консультаций или по договоренности с лаборантами.<br><br><p></p><br><p></p>"
   ]
  }
 ],
 "metadata": {
  "kernelspec": {
   "display_name": "Python 3",
   "language": "python",
   "name": "python3"
  },
  "language_info": {
   "codemirror_mode": {
    "name": "ipython",
    "version": 3
   },
   "file_extension": ".py",
   "mimetype": "text/x-python",
   "name": "python",
   "nbconvert_exporter": "python",
   "pygments_lexer": "ipython3",
   "version": "3.5.2"
  },
  "toc": {
   "base_numbering": 1,
   "nav_menu": {},
   "number_sections": false,
   "sideBar": false,
   "skip_h1_title": false,
   "title_cell": "Table of Contents",
   "title_sidebar": "Contents",
   "toc_cell": false,
   "toc_position": {},
   "toc_section_display": true,
   "toc_window_display": false
  }
 },
 "nbformat": 4,
 "nbformat_minor": 2
}
