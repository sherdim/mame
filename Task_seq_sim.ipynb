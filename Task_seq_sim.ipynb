{
 "cells": [
  {
   "cell_type": "markdown",
   "metadata": {
    "deletable": true,
    "editable": true
   },
   "source": [
    "# Поиск и сравнение текста"
   ]
  },
  {
   "cell_type": "code",
   "execution_count": 1,
   "metadata": {
    "collapsed": false,
    "deletable": true,
    "editable": true
   },
   "outputs": [],
   "source": [
    "import os\n",
    "import difflib  # модуль для обнаружения различий"
   ]
  },
  {
   "cell_type": "markdown",
   "metadata": {
    "deletable": true,
    "editable": true
   },
   "source": [
    "Предположим, что в слове, состоящем из последовательности символов, произошла ошибка. Например, телефонный номер '89034706554' был неправильно распознан как '39034706334'  Как оценить степень ошибки?"
   ]
  },
  {
   "cell_type": "code",
   "execution_count": 2,
   "metadata": {
    "collapsed": false,
    "deletable": true,
    "editable": true
   },
   "outputs": [
    {
     "data": {
      "text/plain": [
       "False"
      ]
     },
     "execution_count": 2,
     "metadata": {},
     "output_type": "execute_result"
    }
   ],
   "source": [
    "s0='89034706554'   # эталон\n",
    "s='39034706334'\n",
    "s==s0"
   ]
  },
  {
   "cell_type": "markdown",
   "metadata": {
    "deletable": true,
    "editable": true
   },
   "source": [
    "Строки не равны между собой. Если они равны по длине, то мы можем сравнить их посимвольно."
   ]
  },
  {
   "cell_type": "code",
   "execution_count": 3,
   "metadata": {
    "collapsed": false,
    "deletable": true,
    "editable": true
   },
   "outputs": [
    {
     "data": {
      "text/plain": [
       "(8, 0.7272727272727273)"
      ]
     },
     "execution_count": 3,
     "metadata": {},
     "output_type": "execute_result"
    }
   ],
   "source": [
    "assert( len(s0)==len(s) )  # убедимся в равенстве длины\n",
    "\n",
    "n=0 # сюда будем складывать количество одинаковых символов\n",
    "for i in range(len(s)):\n",
    "    if s0[i]==s[i]:\n",
    "        n+=1\n",
    "        \n",
    "n, n/len(s)\n",
    "        "
   ]
  },
  {
   "cell_type": "markdown",
   "metadata": {
    "deletable": true,
    "editable": true
   },
   "source": [
    "8 из 11 символов оказались одинаковыми. В данном случае мы можем утверждать, что качество распознавания данного номера составило примерно 73%. \n",
    "\n",
    "Однако, что делать, если количество символов в результате ошибки изменилось, или в слове произошло сразу несколько ошибок???"
   ]
  },
  {
   "cell_type": "code",
   "execution_count": 4,
   "metadata": {
    "collapsed": false,
    "deletable": true,
    "editable": true
   },
   "outputs": [
    {
     "data": {
      "text/plain": [
       "(False, True)"
      ]
     },
     "execution_count": 4,
     "metadata": {},
     "output_type": "execute_result"
    }
   ],
   "source": [
    "s0='\"ТЕРМИНАТОР\"'\n",
    "s='Терминатор-2'\n",
    "\n",
    "s==s0,  len(s)==len(s0)"
   ]
  },
  {
   "cell_type": "markdown",
   "metadata": {
    "deletable": true,
    "editable": true
   },
   "source": [
    "Строки различаются, но одинаковой длины. При этом что-то подсказывает, что между ними есть некое сходство. Попробуем достичь единообразия, сменив регистр."
   ]
  },
  {
   "cell_type": "code",
   "execution_count": 5,
   "metadata": {
    "collapsed": false,
    "deletable": true,
    "editable": true
   },
   "outputs": [
    {
     "data": {
      "text/plain": [
       "('\"терминатор\"', 'терминатор-2')"
      ]
     },
     "execution_count": 5,
     "metadata": {},
     "output_type": "execute_result"
    }
   ],
   "source": [
    "s1=s0.lower()\n",
    "s2=s.lower()\n",
    "s1, s2"
   ]
  },
  {
   "cell_type": "markdown",
   "metadata": {
    "deletable": true,
    "editable": true
   },
   "source": [
    "Даже после этого посимвольное сравнение даст 0 одинаковых символов. Воспользуемся инструментом из библиотеки difflib."
   ]
  },
  {
   "cell_type": "code",
   "execution_count": 6,
   "metadata": {
    "collapsed": false,
    "deletable": true,
    "editable": true
   },
   "outputs": [
    {
     "data": {
      "text/plain": [
       "0.8333333333333334"
      ]
     },
     "execution_count": 6,
     "metadata": {},
     "output_type": "execute_result"
    }
   ],
   "source": [
    "p=difflib.SequenceMatcher(None, s1, s2).ratio()\n",
    "p"
   ]
  },
  {
   "cell_type": "code",
   "execution_count": 7,
   "metadata": {
    "collapsed": false,
    "deletable": true,
    "editable": true
   },
   "outputs": [
    {
     "name": "stdout",
     "output_type": "stream",
     "text": [
      "\"ТЕРМИНАТОР\" ~ Терминатор-2 = 0.0833\n"
     ]
    }
   ],
   "source": [
    "p=difflib.SequenceMatcher(None, s0, s).ratio()\n",
    "print('{} ~ {} = {:.3}'.format(s0,s,p))"
   ]
  },
  {
   "cell_type": "markdown",
   "metadata": {
    "deletable": true,
    "editable": true
   },
   "source": [
    "Между исходными словами сходство всего лишь в одной букве."
   ]
  },
  {
   "cell_type": "code",
   "execution_count": 8,
   "metadata": {
    "collapsed": false,
    "deletable": true,
    "editable": true
   },
   "outputs": [],
   "source": [
    "# определим функцию, которая будет сравнивать два слова\n",
    "def strcompare(a,b):\n",
    "    sm=difflib.SequenceMatcher(None, a, b)\n",
    "    \n",
    "    #m=sm.find_longest_match(0,11,0,11)\n",
    "    #print('Наиболее длинная последовательность в словах {} и {}:'.format(a,b))\n",
    "    \n",
    "    for block in sm.get_matching_blocks():\n",
    "        if block[2]:\n",
    "            print(\"совпадение из {2} символов в позициях a[{0}] и b[{1}]\".format(*block))\n",
    "    print()\n",
    "    print('Чтобы получить из {} => {}:'.format(a,b))\n",
    "    for opcode in sm.get_opcodes():\n",
    "        print(\"    {:7s} a[{}:{}] b[{}:{}]\".format(*opcode))\n",
    "\n",
    "    p=sm.ratio()\n",
    "    print('Сходство {:.1f}%'.format(p*100))\n",
    "    \n",
    "    return p"
   ]
  },
  {
   "cell_type": "code",
   "execution_count": 9,
   "metadata": {
    "collapsed": false,
    "deletable": true,
    "editable": true
   },
   "outputs": [
    {
     "name": "stdout",
     "output_type": "stream",
     "text": [
      "совпадение из 10 символов в позициях a[1] и b[0]\n",
      "\n",
      "Чтобы получить из \"терминатор\" => терминатор-2:\n",
      "    delete  a[0:1] b[0:0]\n",
      "    equal   a[1:11] b[0:10]\n",
      "    replace a[11:12] b[10:12]\n",
      "Сходство 83.3%\n"
     ]
    },
    {
     "data": {
      "text/plain": [
       "0.8333333333333334"
      ]
     },
     "execution_count": 9,
     "metadata": {},
     "output_type": "execute_result"
    }
   ],
   "source": [
    "strcompare(s1,s2)"
   ]
  },
  {
   "cell_type": "code",
   "execution_count": 10,
   "metadata": {
    "collapsed": false,
    "deletable": true,
    "editable": true
   },
   "outputs": [
    {
     "name": "stdout",
     "output_type": "stream",
     "text": [
      "совпадение из 5 символов в позициях a[1] и b[1]\n",
      "совпадение из 1 символов в позициях a[7] и b[7]\n",
      "\n",
      "Чтобы получить из Волоколамск => молокозавод:\n",
      "    replace a[0:1] b[0:1]\n",
      "    equal   a[1:6] b[1:6]\n",
      "    replace a[6:7] b[6:7]\n",
      "    equal   a[7:8] b[7:8]\n",
      "    replace a[8:11] b[8:11]\n",
      "Сходство 54.5%\n"
     ]
    }
   ],
   "source": [
    "p=strcompare('Волоколамск','молокозавод')"
   ]
  },
  {
   "cell_type": "code",
   "execution_count": 11,
   "metadata": {
    "collapsed": false,
    "deletable": true,
    "editable": true
   },
   "outputs": [
    {
     "name": "stdout",
     "output_type": "stream",
     "text": [
      "совпадение из 3 символов в позициях a[3] и b[1]\n",
      "совпадение из 4 символов в позициях a[8] и b[6]\n",
      "\n",
      "Чтобы получить из стройное тело => дойная телка:\n",
      "    replace a[0:3] b[0:1]\n",
      "    equal   a[3:6] b[1:4]\n",
      "    replace a[6:8] b[4:6]\n",
      "    equal   a[8:12] b[6:10]\n",
      "    replace a[12:13] b[10:12]\n",
      "Сходство 56.0%\n"
     ]
    }
   ],
   "source": [
    "p=strcompare('стройное тело','дойная телка')"
   ]
  },
  {
   "cell_type": "markdown",
   "metadata": {
    "deletable": true,
    "editable": true
   },
   "source": [
    "### О \"расстоянии\" между двумя строками"
   ]
  },
  {
   "cell_type": "markdown",
   "metadata": {
    "deletable": true,
    "editable": true
   },
   "source": [
    "Многие знают игру, как из МУХА сделать СЛОН. За один шаг разрешается менять только одну букву. Эта игра демонстрирует подход для измерения различий между любыми последовательностями символов.\n",
    "\n",
    "Расстояние между словами измеряется количеством операций редактирования, которые нужны, чтобы из одного слова получить другое. При этом разные варианты таких метрик могут считать прибавление или удаление нескольких символов за одну операцию, или игнорировать пробелы, или не учитывать регистр букв и т.п. Более продвинутые системы распознавания слов учитывают падежные окончания, контекст использования, синонимы и пр. Такие системы используются для исправления запросов в поисковых системах (напр. Яндекс)."
   ]
  },
  {
   "cell_type": "markdown",
   "metadata": {
    "deletable": true,
    "editable": true
   },
   "source": [
    "Сходные явления в биологии:\n",
    "- Операция редактирования ~ мутация\n",
    "- Расстояние между строками ~ возраст общего предка\n",
    "- Приведение к одному регистру ~ трансляция ДНК в РНК\n",
    "- Не учитывать окончания (стемминг) ~ вырожденность генетического кода\n",
    "- Контекст использования ~ гидрофильный/гидрофобный конец, отрицательно/положительно заряженный \n"
   ]
  }
 ],
 "metadata": {
  "kernelspec": {
   "display_name": "Python 2",
   "language": "python",
   "name": "python2"
  },
  "language_info": {
   "codemirror_mode": {
    "name": "ipython",
    "version": 2
   },
   "file_extension": ".py",
   "mimetype": "text/x-python",
   "name": "python",
   "nbconvert_exporter": "python",
   "pygments_lexer": "ipython2",
   "version": "2.7.11"
  },
  "toc": {
   "colors": {
    "hover_highlight": "#DAA520",
    "running_highlight": "#FF0000",
    "selected_highlight": "#FFD700"
   },
   "moveMenuLeft": true,
   "nav_menu": {
    "height": "65px",
    "width": "252px"
   },
   "navigate_menu": true,
   "number_sections": false,
   "sideBar": true,
   "threshold": 4,
   "toc_cell": false,
   "toc_section_display": "block",
   "toc_window_display": false
  }
 },
 "nbformat": 4,
 "nbformat_minor": 0
}
