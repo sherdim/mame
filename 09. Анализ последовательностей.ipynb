{
 "cells": [
  {
   "cell_type": "markdown",
   "metadata": {},
   "source": [
    "# Примеры последовательностей\n",
    "\n",
    "- текст\n",
    "- порядок следования объектов разных категорий\n",
    "- квантование наличия/отсутствия\n",
    "- структура полимеров (НК, пептиды)"
   ]
  },
  {
   "cell_type": "markdown",
   "metadata": {},
   "source": [
    "## Семантический анализ биологических текстов\n",
    "\n",
    "KConnect provides the software tools to provide state-of-the-art analysis and search of medical text. Our tools make it easier to find the most relevant articles to include in systematic reviews, to be able search foreign literature in their native language and consume it in English, while at the same time to be able to extract information from multiple articles for analysis. Our tools are supported by a Knowledge Base of 1.2 billion medical facts. Based on this knowledge base, powerful semantic search of medical documents can be performed, whereby the system is made aware of the likely context of the search term and hence a larger number of relevant documents can be retrieved. \n",
    "\n",
    "http://kconnect.eu/kconnect-for-researchers-0"
   ]
  },
  {
   "cell_type": "markdown",
   "metadata": {},
   "source": [
    "## Исторические данные\n",
    "\n",
    "История открытий в биологии\n",
    "\n",
    "- 46% статей, получившие при цитирование эпитет “открытие”, являются научными открытиями.\n",
    "- 8% из статей, имеющих 20 или более цитирований в форме открытия затем вылились в Нобелевскую премию.\n",
    "- Распознавание открытий может начаться быстро и для некоторых статей достигает максимума с задержкой на два десятилетия.\n",
    "\n",
    "http://www.sciencedirect.com/science/article/pii/S1751157716302255"
   ]
  },
  {
   "cell_type": "markdown",
   "metadata": {},
   "source": [
    "## Сложное поведение\n",
    "\n",
    "- соблюдение и нарушение порядка действий\n",
    "- "
   ]
  },
  {
   "cell_type": "markdown",
   "metadata": {},
   "source": [
    "# Биоинформатика"
   ]
  },
  {
   "cell_type": "markdown",
   "metadata": {},
   "source": [
    "### Задачи"
   ]
  },
  {
   "cell_type": "markdown",
   "metadata": {},
   "source": [
    "### Метрики сходства строк\n",
    "\n",
    "- Расстояния Хэмминга\n",
    "- Расстояние Левенштайна (The Levenshtein Distance)\n"
   ]
  },
  {
   "cell_type": "markdown",
   "metadata": {},
   "source": [
    "**Расстояние Левенштейна** - измеряет минимальное количество изменений, которое необходимо сделать, чтобы изменить последовательность из одного слова в другое."
   ]
  },
  {
   "cell_type": "code",
   "execution_count": 1,
   "metadata": {},
   "outputs": [
    {
     "name": "stdout",
     "output_type": "stream",
     "text": [
      "92\n"
     ]
    }
   ],
   "source": [
    "from fuzzywuzzy import fuzz\n",
    "Str1 = \"Россия!\"\n",
    "Str2 = \"россия\"\n",
    "Ratio = fuzz.ratio(Str1.lower(),Str2.lower())\n",
    "print(Ratio)"
   ]
  },
  {
   "cell_type": "code",
   "execution_count": null,
   "metadata": {},
   "outputs": [],
   "source": []
  },
  {
   "cell_type": "code",
   "execution_count": 7,
   "metadata": {},
   "outputs": [
    {
     "name": "stdout",
     "output_type": "stream",
     "text": [
      "32\n",
      "36\n",
      "56\n"
     ]
    }
   ],
   "source": [
    "Str1 = \"на набережной реки Дон в Ростове\"\n",
    "Str2 = \"Ростовский-на-Дону причал\"\n",
    "Ratio = fuzz.ratio(Str1.lower(),Str2.lower())\n",
    "Partial_Ratio = fuzz.partial_ratio(Str1.lower(),Str2.lower())\n",
    "Token_Sort_Ratio = fuzz.token_sort_ratio(Str1,Str2)\n",
    "print(Ratio)\n",
    "print(Partial_Ratio)\n",
    "print(Token_Sort_Ratio)\n"
   ]
  },
  {
   "cell_type": "markdown",
   "metadata": {},
   "source": [
    "пакет fuzzywuzzy имеет модуль process, который позволяет вычислить строку с наибольшим сходством из вектора строк."
   ]
  },
  {
   "cell_type": "code",
   "execution_count": 9,
   "metadata": {},
   "outputs": [
    {
     "name": "stdout",
     "output_type": "stream",
     "text": [
      "[('улица Большая Садовая', 47), ('бульвар Комарова', 37), ('улица Строителей', 35), ('улица Зорге', 31)]\n",
      "Лучший вариант: ('улица Большая Садовая', 47)\n"
     ]
    }
   ],
   "source": [
    "from fuzzywuzzy import process\n",
    "запрос = \"встречаемся на садовай\"\n",
    "опции = [\"улица Большая Садовая\",\"улица Зорге\",\"улица Строителей\",\"бульвар Комарова\"]\n",
    "Ratios = process.extract(запрос, опции)\n",
    "print(Ratios)\n",
    "\n",
    "# Можно также выбрать строку с наибольшим процентом совпадения\n",
    "highest = process.extractOne(запрос, опции)\n",
    "print('Лучший вариант: {}'.format(highest))"
   ]
  },
  {
   "cell_type": "markdown",
   "metadata": {},
   "source": [
    "### Гибридизация ДНК"
   ]
  },
  {
   "cell_type": "markdown",
   "metadata": {},
   "source": []
  },
  {
   "cell_type": "markdown",
   "metadata": {},
   "source": [
    "### Иллюстрации\n",
    "\n",
    "https://plot.ly/~johnchase/22/visualizing-bioinformatics-data-with-plo/"
   ]
  },
  {
   "cell_type": "markdown",
   "metadata": {},
   "source": []
  },
  {
   "cell_type": "markdown",
   "metadata": {},
   "source": []
  },
  {
   "cell_type": "markdown",
   "metadata": {},
   "source": []
  },
  {
   "cell_type": "markdown",
   "metadata": {},
   "source": []
  },
  {
   "cell_type": "markdown",
   "metadata": {},
   "source": [
    "The PPTase gene бактерии Legionella parisiensis можно получить амплификацией с использованием праймеров\n",
    "Lpar_PPtase_Fw_SacI (GAGCTCGATGATCATTACCGAATTTAACCCT) и Lpar_PPtase_Rv_PstI (GTTCTGAATTAGGGGCAACGTGTCGAC) \n",
    "\n",
    "https://peerj.com/articles/2720/"
   ]
  }
 ],
 "metadata": {
  "kernelspec": {
   "display_name": "Python 3",
   "language": "python",
   "name": "python3"
  },
  "language_info": {
   "codemirror_mode": {
    "name": "ipython",
    "version": 3
   },
   "file_extension": ".py",
   "mimetype": "text/x-python",
   "name": "python",
   "nbconvert_exporter": "python",
   "pygments_lexer": "ipython3",
   "version": "3.5.2"
  },
  "toc": {
   "base_numbering": 1,
   "nav_menu": {},
   "number_sections": false,
   "sideBar": true,
   "skip_h1_title": false,
   "title_cell": "Table of Contents",
   "title_sidebar": "Contents",
   "toc_cell": false,
   "toc_position": {},
   "toc_section_display": true,
   "toc_window_display": false
  }
 },
 "nbformat": 4,
 "nbformat_minor": 1
}
